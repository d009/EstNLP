{
 "cells": [
  {
   "cell_type": "markdown",
   "metadata": {},
   "source": [
    "<h1 style=\"color:blue\">Praktikum 2. EstNLTK</h1>\n",
    "<h3 style=\"color:blue\">Tekstitöötlus eesti keelele loodud vahenditega</h3>"
   ]
  },
  {
   "cell_type": "markdown",
   "metadata": {},
   "source": [
    "#### 15. september 2017\n",
    "#### Ülesannete esitamise tähtaeg 24. september 2017 23:55"
   ]
  },
  {
   "cell_type": "markdown",
   "metadata": {},
   "source": [
    "Tänases praktikumis hakkame tegema tutvust eesti keele töötlemiseks mõeldud Pythoni teekidega [EstNLTK](https://github.com/estnltk/estnltk). Alustame kõige põhilisemast: teksti segmenteerimine sõnadeks ja lauseteks ning morfoloogilise analüüsi teostamine. Need sammud on vajalikud enamiku keeletöötlusülesannete lahendamisel: kui suudame tekstist kätte saada laused ja sõnad ning filtreerida neid lemmade, sõnaliigimärgendite ja morfoloogilise info järgi, suudame lahendada paljusid ülesandeid, näiteks leida suurtest korpustest näitelauseid erinevate grammatiliste konstruktsioonide kasutuse kohta, luua sõnade/lemmade sagedusloendeid, võrrelda tekste lausete struktuuri põhjal jne. "
   ]
  },
  {
   "cell_type": "markdown",
   "metadata": {},
   "source": [
    "EstNLTK teek on kasutamiseks vaja installida. 64-bitisele **Linuxile**, **Windowsile** ja **macOS-ile** on selleks olemas Conda pakett. EstNLTK töötab Pythoni versiooniga 3.5, aga mitte uusima versiooniga 3.6, seega on vajalik, et Conda keskkonnas, kuhu EstNLTK installite, oleks Pythoni versiooniks 3.5 (nt 3.5.3). Kui lõite eelmises praktikumis niisuguse Conda keskkonna, siis püüdke meelde tuletada selle nimi - vajadusel aitab käsk\n",
    "\n",
    "`conda list env`"
   ]
  },
  {
   "cell_type": "markdown",
   "metadata": {},
   "source": [
    "Aktiveerige vastav keskkond ja seejärel toimub installimine käsurealt käsuga\n",
    "\n",
    "`conda install -c estnltk -c conda-forge estnltk`"
   ]
  },
  {
   "cell_type": "markdown",
   "metadata": {},
   "source": [
    "(Kui keskkond on veel loomata või ei mäleta, kuidas aktiveerida jms, siis tasub vaadata 1. praktikumi PDF-juhendit.)"
   ]
  },
  {
   "cell_type": "markdown",
   "metadata": {},
   "source": [
    "**NB!** Edasine osa juhendist eeldab, et EstNLTK on installitud keskkonda, milles käesolev notebook käivitatud on. Kui tekib probleeme, küsige julgelt abi: EstNLTK-d läheb vaja lisaks tänasele ka kõigis järgmistes praktikumides."
   ]
  },
  {
   "cell_type": "markdown",
   "metadata": {},
   "source": [
    "### Text objekti loomine"
   ]
  },
  {
   "cell_type": "markdown",
   "metadata": {},
   "source": [
    "EstNLTK olulisimaks klassiks on Text. Selle kasutamiseks peame vastava klassi importima:"
   ]
  },
  {
   "cell_type": "code",
   "execution_count": 1,
   "metadata": {
    "collapsed": true
   },
   "outputs": [],
   "source": [
    "from estnltk import Text"
   ]
  },
  {
   "cell_type": "markdown",
   "metadata": {},
   "source": [
    "Et oma teksti töötlema hakata, peame sellest tegema Text klassi objekti:"
   ]
  },
  {
   "cell_type": "code",
   "execution_count": 2,
   "metadata": {
    "collapsed": true
   },
   "outputs": [],
   "source": [
    "my_sentence = \"Mees peeti kinni ja viidi Tartu vanglasse. Sinna pidi ta jääma kolmeks kuuks.\""
   ]
  },
  {
   "cell_type": "code",
   "execution_count": 3,
   "metadata": {
    "collapsed": true
   },
   "outputs": [],
   "source": [
    "# Teeme oma teksti Text objektiks\n",
    "text = Text(my_sentence)"
   ]
  },
  {
   "cell_type": "code",
   "execution_count": 4,
   "metadata": {
    "collapsed": false
   },
   "outputs": [
    {
     "data": {
      "text/plain": [
       "{'text': 'Mees peeti kinni ja viidi Tartu vanglasse. Sinna pidi ta jääma kolmeks kuuks.'}"
      ]
     },
     "execution_count": 4,
     "metadata": {},
     "output_type": "execute_result"
    }
   ],
   "source": [
    "text"
   ]
  },
  {
   "cell_type": "markdown",
   "metadata": {},
   "source": [
    "Nagu näeme, on põhimõtteliselt tegemist *dictionary* ehk sõnaraamatuga."
   ]
  },
  {
   "cell_type": "markdown",
   "metadata": {},
   "source": [
    "### Teksti segmenteerimine"
   ]
  },
  {
   "cell_type": "markdown",
   "metadata": {},
   "source": [
    "Keeleandmete analüüsimiseks on vaja tekst tükeldada - jagada lauseteks ja sõnadeks. Esimeses praktikumis tükeldasite teksti ilmselt split() meetodi abil, EstNLTK aga teeb selle töö meie eest ära. Seega võime teksti lihtsalt failist sisse lugeda ning konverteerida Text objektiks, vaevamata ennast sellega, kuidas eemaldada sõnade külge kleepunud kirjavahemärgid jms."
   ]
  },
  {
   "cell_type": "markdown",
   "metadata": {},
   "source": [
    "*Text* objektile saab lisada juurde erinevaid kihte (*layer*'eid). Kihil peavad minimaalselt olema tähistatud nimi - see on sõnastikus võtmeks - ning algus- ja lõpp-positsioon algses tekstis. Algus- ja lõpp-positsioon (*start* ja *end*) näitavad, mitmenda märgi juures vastav kiht algab või lõppeb."
   ]
  },
  {
   "cell_type": "markdown",
   "metadata": {},
   "source": [
    "Näiteks, kui küsime oma tekstist infot lausete kohta, siis lisatakse juurde ka lõike (*paragraphs*) tähistav kiht, kuna see on lausestamise eelduseks."
   ]
  },
  {
   "cell_type": "code",
   "execution_count": 5,
   "metadata": {
    "collapsed": false
   },
   "outputs": [
    {
     "data": {
      "text/plain": [
       "[{'end': 42, 'start': 0}, {'end': 77, 'start': 43}]"
      ]
     },
     "execution_count": 5,
     "metadata": {},
     "output_type": "execute_result"
    }
   ],
   "source": [
    "text.sentences"
   ]
  },
  {
   "cell_type": "code",
   "execution_count": 6,
   "metadata": {
    "collapsed": false
   },
   "outputs": [
    {
     "data": {
      "text/plain": [
       "{'paragraphs': [{'end': 77, 'start': 0}],\n",
       " 'sentences': [{'end': 42, 'start': 0}, {'end': 77, 'start': 43}],\n",
       " 'text': 'Mees peeti kinni ja viidi Tartu vanglasse. Sinna pidi ta jääma kolmeks kuuks.'}"
      ]
     },
     "execution_count": 6,
     "metadata": {},
     "output_type": "execute_result"
    }
   ],
   "source": [
    "text"
   ]
  },
  {
   "cell_type": "markdown",
   "metadata": {},
   "source": [
    "Kui lõigud ja laused on olemas, siis sõnadeks jagamiseks enam uusi kihte lisada vaja pole - sõnade küsimisel lisandub *Text* objektile vaid 'words' kiht."
   ]
  },
  {
   "cell_type": "code",
   "execution_count": 7,
   "metadata": {
    "collapsed": false,
    "scrolled": true
   },
   "outputs": [
    {
     "data": {
      "text/plain": [
       "[{'end': 4, 'start': 0, 'text': 'Mees'},\n",
       " {'end': 10, 'start': 5, 'text': 'peeti'},\n",
       " {'end': 16, 'start': 11, 'text': 'kinni'},\n",
       " {'end': 19, 'start': 17, 'text': 'ja'},\n",
       " {'end': 25, 'start': 20, 'text': 'viidi'},\n",
       " {'end': 31, 'start': 26, 'text': 'Tartu'},\n",
       " {'end': 41, 'start': 32, 'text': 'vanglasse'},\n",
       " {'end': 42, 'start': 41, 'text': '.'},\n",
       " {'end': 48, 'start': 43, 'text': 'Sinna'},\n",
       " {'end': 53, 'start': 49, 'text': 'pidi'},\n",
       " {'end': 56, 'start': 54, 'text': 'ta'},\n",
       " {'end': 62, 'start': 57, 'text': 'jääma'},\n",
       " {'end': 70, 'start': 63, 'text': 'kolmeks'},\n",
       " {'end': 76, 'start': 71, 'text': 'kuuks'},\n",
       " {'end': 77, 'start': 76, 'text': '.'}]"
      ]
     },
     "execution_count": 7,
     "metadata": {},
     "output_type": "execute_result"
    }
   ],
   "source": [
    "text.words"
   ]
  },
  {
   "cell_type": "code",
   "execution_count": 8,
   "metadata": {
    "collapsed": false,
    "scrolled": false
   },
   "outputs": [
    {
     "data": {
      "text/plain": [
       "{'paragraphs': [{'end': 77, 'start': 0}],\n",
       " 'sentences': [{'end': 42, 'start': 0}, {'end': 77, 'start': 43}],\n",
       " 'text': 'Mees peeti kinni ja viidi Tartu vanglasse. Sinna pidi ta jääma kolmeks kuuks.',\n",
       " 'words': [{'end': 4, 'start': 0, 'text': 'Mees'},\n",
       "  {'end': 10, 'start': 5, 'text': 'peeti'},\n",
       "  {'end': 16, 'start': 11, 'text': 'kinni'},\n",
       "  {'end': 19, 'start': 17, 'text': 'ja'},\n",
       "  {'end': 25, 'start': 20, 'text': 'viidi'},\n",
       "  {'end': 31, 'start': 26, 'text': 'Tartu'},\n",
       "  {'end': 41, 'start': 32, 'text': 'vanglasse'},\n",
       "  {'end': 42, 'start': 41, 'text': '.'},\n",
       "  {'end': 48, 'start': 43, 'text': 'Sinna'},\n",
       "  {'end': 53, 'start': 49, 'text': 'pidi'},\n",
       "  {'end': 56, 'start': 54, 'text': 'ta'},\n",
       "  {'end': 62, 'start': 57, 'text': 'jääma'},\n",
       "  {'end': 70, 'start': 63, 'text': 'kolmeks'},\n",
       "  {'end': 76, 'start': 71, 'text': 'kuuks'},\n",
       "  {'end': 77, 'start': 76, 'text': '.'}]}"
      ]
     },
     "execution_count": 8,
     "metadata": {},
     "output_type": "execute_result"
    }
   ],
   "source": [
    "text"
   ]
  },
  {
   "cell_type": "markdown",
   "metadata": {},
   "source": [
    "split_by() meetod võimaldab itereerida üle teksti lausete, sõnade (jm elementide) kaupa:"
   ]
  },
  {
   "cell_type": "code",
   "execution_count": 9,
   "metadata": {
    "collapsed": false
   },
   "outputs": [
    {
     "name": "stdout",
     "output_type": "stream",
     "text": [
      "UUS LAUSE\n",
      "Mees peeti kinni ja viidi Tartu vanglasse.\n",
      "Mees\n",
      "peeti\n",
      "kinni\n",
      "ja\n",
      "viidi\n",
      "Tartu\n",
      "vanglasse\n",
      ".\n",
      "UUS LAUSE\n",
      "Sinna pidi ta jääma kolmeks kuuks.\n",
      "Sinna\n",
      "pidi\n",
      "ta\n",
      "jääma\n",
      "kolmeks\n",
      "kuuks\n",
      ".\n"
     ]
    }
   ],
   "source": [
    "for sentence in text.split_by(\"sentences\"):\n",
    "    print(\"UUS LAUSE\")\n",
    "    print(sentence.text)\n",
    "    for word in sentence.split_by(\"words\"):\n",
    "        print(word['text'])"
   ]
  },
  {
   "cell_type": "code",
   "execution_count": 10,
   "metadata": {
    "collapsed": false
   },
   "outputs": [
    {
     "data": {
      "text/plain": [
       "{'paragraphs': [{'end': 77, 'start': 0}],\n",
       " 'sentences': [{'end': 42, 'start': 0}, {'end': 77, 'start': 43}],\n",
       " 'text': 'Mees peeti kinni ja viidi Tartu vanglasse. Sinna pidi ta jääma kolmeks kuuks.',\n",
       " 'words': [{'end': 4, 'start': 0, 'text': 'Mees'},\n",
       "  {'end': 10, 'start': 5, 'text': 'peeti'},\n",
       "  {'end': 16, 'start': 11, 'text': 'kinni'},\n",
       "  {'end': 19, 'start': 17, 'text': 'ja'},\n",
       "  {'end': 25, 'start': 20, 'text': 'viidi'},\n",
       "  {'end': 31, 'start': 26, 'text': 'Tartu'},\n",
       "  {'end': 41, 'start': 32, 'text': 'vanglasse'},\n",
       "  {'end': 42, 'start': 41, 'text': '.'},\n",
       "  {'end': 48, 'start': 43, 'text': 'Sinna'},\n",
       "  {'end': 53, 'start': 49, 'text': 'pidi'},\n",
       "  {'end': 56, 'start': 54, 'text': 'ta'},\n",
       "  {'end': 62, 'start': 57, 'text': 'jääma'},\n",
       "  {'end': 70, 'start': 63, 'text': 'kolmeks'},\n",
       "  {'end': 76, 'start': 71, 'text': 'kuuks'},\n",
       "  {'end': 77, 'start': 76, 'text': '.'}]}"
      ]
     },
     "execution_count": 10,
     "metadata": {},
     "output_type": "execute_result"
    }
   ],
   "source": [
    "text"
   ]
  },
  {
   "cell_type": "markdown",
   "metadata": {},
   "source": [
    "**NB!** Kui töötate mahukate tekstidega ja oluline on kiirus, siis tasub arvesse võtta, et kui *Text* objektile on märgenduskiht juba lisatud ja soovite seda uuesti vaadata/kasutada, siis on efektiivsem käsitleda *Text* objekti kui sõnastikku, mitte kasutada klassimuutujat. Ehk \n",
    "\n",
    "`text['words']` \n",
    "\n",
    "on kiirem kui \n",
    "\n",
    "`text.words`"
   ]
  },
  {
   "cell_type": "markdown",
   "metadata": {},
   "source": [
    "### Ülesanne 1. Kellel on pikem? (1p)\n",
    "Võrrelge Indrek Hargla ja Karen Orlau tekstide lausete ja sõnade pikkusi. Selleks kirjutage funktsioon, millele antakse ette kataloogi asukoht ning mis leiab ja tagastab kõigi kataloogis olevate failide peale kokku:\n",
    "* keskmise failipikkuse lausetes\n",
    "* keskmise lausepikkuse sõnades\n",
    "* keskmise sõnapikkuse tähemärkides\n",
    "\n",
    "Jooksutage funktsiooni Indrek Hargla juttudel (kataloogis *hargla_texts*) ning Karen Orlau juttudel (kataloogis *orlau_texts*)."
   ]
  },
  {
   "cell_type": "markdown",
   "metadata": {},
   "source": [
    "**Vihjeid:**\n",
    "* Tekstide kodeeringuks on utf-8\n",
    "* Lausete ja sõnade arvu leidmiseks tekstidest kasutage EstNLTK-d. Teksti töötlemisel lause kaupa aitab split_by() meetod, samuti lause töötlemisel sõna kaupa.\n",
    "* Kataloogi kõigi failide läbimisel on abiks *os.listdir* - vt näidet:"
   ]
  },
  {
   "cell_type": "code",
   "execution_count": 11,
   "metadata": {
    "collapsed": false
   },
   "outputs": [
    {
     "name": "stdout",
     "output_type": "stream",
     "text": [
      "dummy_folder/file1.txt\n",
      "Eestil on terve rida rahvusmüüte, mis pole tõesed ja on moonutused, kui mitte otse valed.\n",
      "\n",
      "dummy_folder/file2.txt\n",
      "Ühel õhtul toidupoodi minnes leidsin eest lagedad võiletid.\n",
      "\n"
     ]
    }
   ],
   "source": [
    "import os\n",
    "path = 'dummy_folder/'\n",
    "for file in os.listdir(path):\n",
    "    filename = os.path.join(path, file) \n",
    "    with open(filename, \"r\", encoding = 'utf-8') as fin:\n",
    "        print(filename)\n",
    "        print(fin.read())    "
   ]
  },
  {
   "cell_type": "markdown",
   "metadata": {},
   "source": [
    "### Morfoloogiline analüüs"
   ]
  },
  {
   "cell_type": "markdown",
   "metadata": {},
   "source": [
    "Eesti keeles on sõnadel teatavasti palju erinevaid vorme - käändsõnadel (nimi-, omadus-, ase-, arvsõnad) kääne ja arv (ainsus/mitmus), pöördsõnadel (tegusõnad) isik, aeg, arv, tegumood jne. Seetõttu võib sama sõna esineda tekstis mitmel erineval kujul. Teksti töötluse seisukohast on aga tihti kasulik käsitleda ühe sõna kõiki vorme koos. Selleks teisendatakse üldiselt sõnad algvormi ehk *lemma* kujule. "
   ]
  },
  {
   "cell_type": "markdown",
   "metadata": {},
   "source": [
    "EstNLTK-s saab lemmad leida klassimuutuja 'lemmas' abil:"
   ]
  },
  {
   "cell_type": "code",
   "execution_count": 12,
   "metadata": {
    "collapsed": false,
    "scrolled": true
   },
   "outputs": [
    {
     "data": {
      "text/plain": [
       "['mees',\n",
       " 'pidama',\n",
       " 'kinni',\n",
       " 'ja',\n",
       " 'viima',\n",
       " 'Tartu',\n",
       " 'vangla',\n",
       " '.',\n",
       " 'sinna',\n",
       " 'pidama',\n",
       " 'tema',\n",
       " 'jääma',\n",
       " 'kolm',\n",
       " 'kuu',\n",
       " '.']"
      ]
     },
     "execution_count": 12,
     "metadata": {},
     "output_type": "execute_result"
    }
   ],
   "source": [
    "text.lemmas"
   ]
  },
  {
   "cell_type": "code",
   "execution_count": 13,
   "metadata": {
    "collapsed": false,
    "scrolled": true
   },
   "outputs": [
    {
     "data": {
      "text/plain": [
       "[{'analysis': [{'clitic': '',\n",
       "    'ending': '0',\n",
       "    'form': 'sg n',\n",
       "    'lemma': 'mees',\n",
       "    'partofspeech': 'S',\n",
       "    'root': 'mees',\n",
       "    'root_tokens': ['mees']}],\n",
       "  'end': 4,\n",
       "  'start': 0,\n",
       "  'text': 'Mees'},\n",
       " {'analysis': [{'clitic': '',\n",
       "    'ending': 'ti',\n",
       "    'form': 'ti',\n",
       "    'lemma': 'pidama',\n",
       "    'partofspeech': 'V',\n",
       "    'root': 'pida',\n",
       "    'root_tokens': ['pida']}],\n",
       "  'end': 10,\n",
       "  'start': 5,\n",
       "  'text': 'peeti'},\n",
       " {'analysis': [{'clitic': '',\n",
       "    'ending': '0',\n",
       "    'form': '',\n",
       "    'lemma': 'kinni',\n",
       "    'partofspeech': 'D',\n",
       "    'root': 'kinni',\n",
       "    'root_tokens': ['kinni']}],\n",
       "  'end': 16,\n",
       "  'start': 11,\n",
       "  'text': 'kinni'},\n",
       " {'analysis': [{'clitic': '',\n",
       "    'ending': '0',\n",
       "    'form': '',\n",
       "    'lemma': 'ja',\n",
       "    'partofspeech': 'J',\n",
       "    'root': 'ja',\n",
       "    'root_tokens': ['ja']}],\n",
       "  'end': 19,\n",
       "  'start': 17,\n",
       "  'text': 'ja'},\n",
       " {'analysis': [{'clitic': '',\n",
       "    'ending': 'di',\n",
       "    'form': 'ti',\n",
       "    'lemma': 'viima',\n",
       "    'partofspeech': 'V',\n",
       "    'root': 'vii',\n",
       "    'root_tokens': ['vii']}],\n",
       "  'end': 25,\n",
       "  'start': 20,\n",
       "  'text': 'viidi'},\n",
       " {'analysis': [{'clitic': '',\n",
       "    'ending': '0',\n",
       "    'form': 'sg g',\n",
       "    'lemma': 'Tartu',\n",
       "    'partofspeech': 'H',\n",
       "    'root': 'Tartu',\n",
       "    'root_tokens': ['Tartu']}],\n",
       "  'end': 31,\n",
       "  'start': 26,\n",
       "  'text': 'Tartu'},\n",
       " {'analysis': [{'clitic': '',\n",
       "    'ending': 'sse',\n",
       "    'form': 'sg ill',\n",
       "    'lemma': 'vangla',\n",
       "    'partofspeech': 'S',\n",
       "    'root': 'vangla',\n",
       "    'root_tokens': ['vangla']}],\n",
       "  'end': 41,\n",
       "  'start': 32,\n",
       "  'text': 'vanglasse'},\n",
       " {'analysis': [{'clitic': '',\n",
       "    'ending': '',\n",
       "    'form': '',\n",
       "    'lemma': '.',\n",
       "    'partofspeech': 'Z',\n",
       "    'root': '.',\n",
       "    'root_tokens': ['.']}],\n",
       "  'end': 42,\n",
       "  'start': 41,\n",
       "  'text': '.'},\n",
       " {'analysis': [{'clitic': '',\n",
       "    'ending': '0',\n",
       "    'form': '',\n",
       "    'lemma': 'sinna',\n",
       "    'partofspeech': 'D',\n",
       "    'root': 'sinna',\n",
       "    'root_tokens': ['sinna']}],\n",
       "  'end': 48,\n",
       "  'start': 43,\n",
       "  'text': 'Sinna'},\n",
       " {'analysis': [{'clitic': '',\n",
       "    'ending': 'i',\n",
       "    'form': 's',\n",
       "    'lemma': 'pidama',\n",
       "    'partofspeech': 'V',\n",
       "    'root': 'pida',\n",
       "    'root_tokens': ['pida']}],\n",
       "  'end': 53,\n",
       "  'start': 49,\n",
       "  'text': 'pidi'},\n",
       " {'analysis': [{'clitic': '',\n",
       "    'ending': '0',\n",
       "    'form': 'sg n',\n",
       "    'lemma': 'tema',\n",
       "    'partofspeech': 'P',\n",
       "    'root': 'tema',\n",
       "    'root_tokens': ['tema']}],\n",
       "  'end': 56,\n",
       "  'start': 54,\n",
       "  'text': 'ta'},\n",
       " {'analysis': [{'clitic': '',\n",
       "    'ending': 'ma',\n",
       "    'form': 'ma',\n",
       "    'lemma': 'jääma',\n",
       "    'partofspeech': 'V',\n",
       "    'root': 'jää',\n",
       "    'root_tokens': ['jää']}],\n",
       "  'end': 62,\n",
       "  'start': 57,\n",
       "  'text': 'jääma'},\n",
       " {'analysis': [{'clitic': '',\n",
       "    'ending': 'ks',\n",
       "    'form': 'sg tr',\n",
       "    'lemma': 'kolm',\n",
       "    'partofspeech': 'N',\n",
       "    'root': 'kolm',\n",
       "    'root_tokens': ['kolm']}],\n",
       "  'end': 70,\n",
       "  'start': 63,\n",
       "  'text': 'kolmeks'},\n",
       " {'analysis': [{'clitic': '',\n",
       "    'ending': 'ks',\n",
       "    'form': 'sg tr',\n",
       "    'lemma': 'kuu',\n",
       "    'partofspeech': 'S',\n",
       "    'root': 'kuu',\n",
       "    'root_tokens': ['kuu']}],\n",
       "  'end': 76,\n",
       "  'start': 71,\n",
       "  'text': 'kuuks'},\n",
       " {'analysis': [{'clitic': '',\n",
       "    'ending': '',\n",
       "    'form': '',\n",
       "    'lemma': '.',\n",
       "    'partofspeech': 'Z',\n",
       "    'root': '.',\n",
       "    'root_tokens': ['.']}],\n",
       "  'end': 77,\n",
       "  'start': 76,\n",
       "  'text': '.'}]"
      ]
     },
     "execution_count": 13,
     "metadata": {},
     "output_type": "execute_result"
    }
   ],
   "source": [
    "text.words"
   ]
  },
  {
   "cell_type": "markdown",
   "metadata": {},
   "source": [
    "Nagu näha, tehakse lemmade leidmiseks tekstile morfoloogiline analüüs: 'words' kihti tekib alamkiht 'analysis', mille üheks elemendiks on lemma."
   ]
  },
  {
   "cell_type": "markdown",
   "metadata": {},
   "source": [
    "Vaikimisi tehakse morfoloogiline analüüs koos **ühestamise**, **oletamise** ja **pärisnimede tuvastusega**.\n",
    "\n",
    "**Morfoloogiline ühestamine**: kui ühe sõnavormi analüüsimiseks on mitu võimalust - näiteks sõna \"peeti\" võib olla nii vorm nimisõnast \"peet\" kui ka tegusõnast \"pidama\" - , siis valitakse välja antud kontekstis kõige tõenäolisem tõlgendus. Seejuures jääb siiski mõningatel juhtudel mitmesus alles, nt järgmises näites on sõnal \"surnud\" neli analüüsivarianti."
   ]
  },
  {
   "cell_type": "code",
   "execution_count": 14,
   "metadata": {
    "collapsed": false,
    "scrolled": true
   },
   "outputs": [
    {
     "data": {
      "text/plain": [
       "[[{'clitic': '',\n",
       "   'ending': '0',\n",
       "   'form': 'sg n',\n",
       "   'lemma': 'mees',\n",
       "   'partofspeech': 'S',\n",
       "   'root': 'mees',\n",
       "   'root_tokens': ['mees']}],\n",
       " [{'clitic': '',\n",
       "   'ending': 'i',\n",
       "   'form': 's',\n",
       "   'lemma': 'olema',\n",
       "   'partofspeech': 'V',\n",
       "   'root': 'ole',\n",
       "   'root_tokens': ['ole']}],\n",
       " [{'clitic': '',\n",
       "   'ending': '0',\n",
       "   'form': '',\n",
       "   'lemma': 'surnud',\n",
       "   'partofspeech': 'A',\n",
       "   'root': 'surnud',\n",
       "   'root_tokens': ['surnud']},\n",
       "  {'clitic': '',\n",
       "   'ending': '0',\n",
       "   'form': 'sg n',\n",
       "   'lemma': 'surnud',\n",
       "   'partofspeech': 'A',\n",
       "   'root': 'surnud',\n",
       "   'root_tokens': ['surnud']},\n",
       "  {'clitic': '',\n",
       "   'ending': 'd',\n",
       "   'form': 'pl n',\n",
       "   'lemma': 'surnud',\n",
       "   'partofspeech': 'A',\n",
       "   'root': 'surnud',\n",
       "   'root_tokens': ['surnud']},\n",
       "  {'clitic': '',\n",
       "   'ending': 'nud',\n",
       "   'form': 'nud',\n",
       "   'lemma': 'surema',\n",
       "   'partofspeech': 'V',\n",
       "   'root': 'sure',\n",
       "   'root_tokens': ['sure']}],\n",
       " [{'clitic': '',\n",
       "   'ending': '',\n",
       "   'form': '',\n",
       "   'lemma': '.',\n",
       "   'partofspeech': 'Z',\n",
       "   'root': '.',\n",
       "   'root_tokens': ['.']}]]"
      ]
     },
     "execution_count": 14,
     "metadata": {},
     "output_type": "execute_result"
    }
   ],
   "source": [
    "Text(\"Mees oli surnud.\").analysis"
   ]
  },
  {
   "cell_type": "markdown",
   "metadata": {},
   "source": [
    "**Oletamine**: kui analüsaator ei leia tekstis esinevat sõna sõnastikust ega suuda seda analüüsida ka liitega või liitsõnaks, siis sõna kuju põhjal pakutakse eeldatav(ad) analüüs(id). Järgnevas näites kasutatud sõna \"poodelungile\" eesti keele sõnastikes ei esine, ent on eesti keele kõnelejale siiski lihtne mõista. Oletaja suudab õigesti määrata vormi, ent lemma jääb mitmeseks:"
   ]
  },
  {
   "cell_type": "code",
   "execution_count": 15,
   "metadata": {
    "collapsed": false
   },
   "outputs": [
    {
     "data": {
      "text/plain": [
       "[[{'clitic': '',\n",
       "   'ending': 'd',\n",
       "   'form': 'pl n',\n",
       "   'lemma': 'tüdruk',\n",
       "   'partofspeech': 'S',\n",
       "   'root': 'tüdruk',\n",
       "   'root_tokens': ['tüdruk']}],\n",
       " [{'clitic': '',\n",
       "   'ending': 'sid',\n",
       "   'form': 'sid',\n",
       "   'lemma': 'minema',\n",
       "   'partofspeech': 'V',\n",
       "   'root': 'mine',\n",
       "   'root_tokens': ['mine']}],\n",
       " [{'clitic': '',\n",
       "   'ending': 'le',\n",
       "   'form': 'sg all',\n",
       "   'lemma': 'poodelung',\n",
       "   'partofspeech': 'S',\n",
       "   'root': 'poodelung',\n",
       "   'root_tokens': ['poodelung']},\n",
       "  {'clitic': '',\n",
       "   'ending': 'le',\n",
       "   'form': 'sg all',\n",
       "   'lemma': 'poodelungi',\n",
       "   'partofspeech': 'S',\n",
       "   'root': 'poodelungi',\n",
       "   'root_tokens': ['poodelungi']},\n",
       "  {'clitic': '',\n",
       "   'ending': 'le',\n",
       "   'form': 'sg all',\n",
       "   'lemma': 'poodelunk',\n",
       "   'partofspeech': 'S',\n",
       "   'root': 'poodelunk',\n",
       "   'root_tokens': ['poodelunk']}],\n",
       " [{'clitic': '',\n",
       "   'ending': '',\n",
       "   'form': '',\n",
       "   'lemma': '.',\n",
       "   'partofspeech': 'Z',\n",
       "   'root': '.',\n",
       "   'root_tokens': ['.']}]]"
      ]
     },
     "execution_count": 15,
     "metadata": {},
     "output_type": "execute_result"
    }
   ],
   "source": [
    "Text('Tüdrukud läksid poodelungile.').analysis"
   ]
  },
  {
   "cell_type": "markdown",
   "metadata": {},
   "source": [
    "Nii ühestajat, oletajat kui pärisnimede tuvastamist on võimalik *Text* objekti loomisel ka välja lülitada. Ühestaja väljalülitamisel antakse välja kõik võimalikud morfoloogilise analüüsi tõlgendused sõnade kohta:"
   ]
  },
  {
   "cell_type": "code",
   "execution_count": 16,
   "metadata": {
    "collapsed": false
   },
   "outputs": [
    {
     "data": {
      "text/plain": [
       "['Mee|Mees|Mesi|mees|mesi', 'olema', 'surema|surnu|surnud', '.']"
      ]
     },
     "execution_count": 16,
     "metadata": {},
     "output_type": "execute_result"
    }
   ],
   "source": [
    "Text(\"Mees oli surnud.\", disambiguate = False).lemmas"
   ]
  },
  {
   "cell_type": "code",
   "execution_count": 17,
   "metadata": {
    "collapsed": false
   },
   "outputs": [
    {
     "data": {
      "text/plain": [
       "['H|S', 'V', 'A|S|V', 'Z']"
      ]
     },
     "execution_count": 17,
     "metadata": {},
     "output_type": "execute_result"
    }
   ],
   "source": [
    "Text(\"Mees oli surnud.\", disambiguate = False).postags"
   ]
  },
  {
   "cell_type": "markdown",
   "metadata": {},
   "source": [
    "Kui lülitame välja pärisnimede tuvastamise, siis vastavaid analüüse ei pakuta:"
   ]
  },
  {
   "cell_type": "code",
   "execution_count": 18,
   "metadata": {
    "collapsed": false
   },
   "outputs": [
    {
     "data": {
      "text/plain": [
       "['mees', 'olema', 'surema|surnud', '.']"
      ]
     },
     "execution_count": 18,
     "metadata": {},
     "output_type": "execute_result"
    }
   ],
   "source": [
    "Text(\"Mees oli surnud.\", propername = False).lemmas"
   ]
  },
  {
   "cell_type": "markdown",
   "metadata": {},
   "source": [
    "Kui lülitame välja oletamise, siis jäetakse tundmatud sõnad (**NB!** ka kirjavahemärgid) ilma analüüsita. \n",
    "\n",
    "**NB!** Oletamise väljalülitamine toimib ainult siis, kui ka ühestamine ja pärisnimede analüüs on välja lülitatud, sest ühestaja suudab ühestada vaid teksti, kus igal sõnal on analüüs olemas."
   ]
  },
  {
   "cell_type": "code",
   "execution_count": 19,
   "metadata": {
    "collapsed": false
   },
   "outputs": [
    {
     "data": {
      "text/plain": [
       "['S', 'V', None, None]"
      ]
     },
     "execution_count": 19,
     "metadata": {},
     "output_type": "execute_result"
    }
   ],
   "source": [
    "Text(\"Tüdrukud läksid poodelungile.\", guess = False, disambiguate = False, propername = False).postags"
   ]
  },
  {
   "cell_type": "markdown",
   "metadata": {},
   "source": [
    "### Ülesanne 2.  Morfoloogilise analüüsi katsetamine (1p)\n",
    "\n",
    "Leidke praktikumi materjalide hulgast fail *parasiitlusest.txt*. Lugege fail sisse, konverteerige *Text* objektiks ning teostage morfoloogiline analüüs. Täiendage oma koodi nii, et saaks vastata järgmistele küsimustele:\n",
    "\n",
    "A. Kui suur on dokumendi sõnavara (ehk unikaalsete tekstisõnede arv) ilma lemmatiseerimata?\n",
    "\n",
    "B. Kui suur on dokumendi sõnavara lemmatiseeritult?\n",
    "\n",
    "C. Mitu % sõnadest jääb mitmeseks (on mitu analüüsi) koos morfoloogilise ühestamisega?\n",
    "\n",
    "D. Mitu % sõnadest jääb mitmeseks ilma morfoloogilise ühestamiseta?"
   ]
  },
  {
   "cell_type": "markdown",
   "metadata": {},
   "source": [
    "**Vihjed:**\n",
    "* Teksti kodeeringuks on utf-8"
   ]
  },
  {
   "cell_type": "markdown",
   "metadata": {},
   "source": [
    "###  Õigekirjakontroll"
   ]
  },
  {
   "cell_type": "markdown",
   "metadata": {},
   "source": [
    "EstNLTK-s on olemas tööriist õigekirjakontrolli jaoks, mida saab kasutada järgmiselt:"
   ]
  },
  {
   "cell_type": "code",
   "execution_count": 20,
   "metadata": {
    "collapsed": true
   },
   "outputs": [],
   "source": [
    "text = Text(\"Ma tahax minna järve äärde ja püda hauge, katikaid ja karpe.\")"
   ]
  },
  {
   "cell_type": "code",
   "execution_count": 21,
   "metadata": {
    "collapsed": false
   },
   "outputs": [
    {
     "data": {
      "text/plain": [
       "{'text': 'Ma tahaks minna järve äärde ja püüda hauge, kaikaid ja karpe.'}"
      ]
     },
     "execution_count": 21,
     "metadata": {},
     "output_type": "execute_result"
    }
   ],
   "source": [
    "text.fix_spelling()"
   ]
  },
  {
   "cell_type": "markdown",
   "metadata": {},
   "source": [
    "Nagu näha, siis algses lauses on kolmest veast 2 korrektselt ära parandatud, kolmas aga mitte. Kui vaatame, milliseid sõnu asenduseks soovitatakse, siis näeme, et \"katikaid\" puhul on neli võimalust, korrektor valib aga esimese."
   ]
  },
  {
   "cell_type": "code",
   "execution_count": 22,
   "metadata": {
    "collapsed": false,
    "scrolled": true
   },
   "outputs": [
    {
     "data": {
      "text/html": [
       "<div>\n",
       "<table border=\"1\" class=\"dataframe\">\n",
       "  <thead>\n",
       "    <tr style=\"text-align: right;\">\n",
       "      <th></th>\n",
       "      <th>word_texts</th>\n",
       "      <th>spelling</th>\n",
       "      <th>spelling_suggestions</th>\n",
       "    </tr>\n",
       "  </thead>\n",
       "  <tbody>\n",
       "    <tr>\n",
       "      <th>0</th>\n",
       "      <td>Ma</td>\n",
       "      <td>True</td>\n",
       "      <td>[]</td>\n",
       "    </tr>\n",
       "    <tr>\n",
       "      <th>1</th>\n",
       "      <td>tahax</td>\n",
       "      <td>False</td>\n",
       "      <td>[tahaks, taha, tahad]</td>\n",
       "    </tr>\n",
       "    <tr>\n",
       "      <th>2</th>\n",
       "      <td>minna</td>\n",
       "      <td>True</td>\n",
       "      <td>[]</td>\n",
       "    </tr>\n",
       "    <tr>\n",
       "      <th>3</th>\n",
       "      <td>järve</td>\n",
       "      <td>True</td>\n",
       "      <td>[]</td>\n",
       "    </tr>\n",
       "    <tr>\n",
       "      <th>4</th>\n",
       "      <td>äärde</td>\n",
       "      <td>True</td>\n",
       "      <td>[]</td>\n",
       "    </tr>\n",
       "    <tr>\n",
       "      <th>5</th>\n",
       "      <td>ja</td>\n",
       "      <td>True</td>\n",
       "      <td>[]</td>\n",
       "    </tr>\n",
       "    <tr>\n",
       "      <th>6</th>\n",
       "      <td>püda</td>\n",
       "      <td>False</td>\n",
       "      <td>[püüda]</td>\n",
       "    </tr>\n",
       "    <tr>\n",
       "      <th>7</th>\n",
       "      <td>hauge</td>\n",
       "      <td>True</td>\n",
       "      <td>[]</td>\n",
       "    </tr>\n",
       "    <tr>\n",
       "      <th>8</th>\n",
       "      <td>,</td>\n",
       "      <td>True</td>\n",
       "      <td>[]</td>\n",
       "    </tr>\n",
       "    <tr>\n",
       "      <th>9</th>\n",
       "      <td>katikaid</td>\n",
       "      <td>False</td>\n",
       "      <td>[kaikaid, latikaid, karikaid, katikaiad]</td>\n",
       "    </tr>\n",
       "    <tr>\n",
       "      <th>10</th>\n",
       "      <td>ja</td>\n",
       "      <td>True</td>\n",
       "      <td>[]</td>\n",
       "    </tr>\n",
       "    <tr>\n",
       "      <th>11</th>\n",
       "      <td>karpe</td>\n",
       "      <td>True</td>\n",
       "      <td>[]</td>\n",
       "    </tr>\n",
       "    <tr>\n",
       "      <th>12</th>\n",
       "      <td>.</td>\n",
       "      <td>True</td>\n",
       "      <td>[]</td>\n",
       "    </tr>\n",
       "  </tbody>\n",
       "</table>\n",
       "</div>"
      ],
      "text/plain": [
       "   word_texts spelling                      spelling_suggestions\n",
       "0          Ma     True                                        []\n",
       "1       tahax    False                     [tahaks, taha, tahad]\n",
       "2       minna     True                                        []\n",
       "3       järve     True                                        []\n",
       "4       äärde     True                                        []\n",
       "5          ja     True                                        []\n",
       "6        püda    False                                   [püüda]\n",
       "7       hauge     True                                        []\n",
       "8           ,     True                                        []\n",
       "9    katikaid    False  [kaikaid, latikaid, karikaid, katikaiad]\n",
       "10         ja     True                                        []\n",
       "11      karpe     True                                        []\n",
       "12          .     True                                        []"
      ]
     },
     "execution_count": 22,
     "metadata": {},
     "output_type": "execute_result"
    }
   ],
   "source": [
    "text.get.word_texts.spelling.spelling_suggestions.as_dataframe"
   ]
  },
  {
   "cell_type": "markdown",
   "metadata": {},
   "source": [
    "### Ülesanne 3. Parandame vead (1,5p)"
   ]
  },
  {
   "cell_type": "markdown",
   "metadata": {},
   "source": [
    "Kasutades EstNLTK õigekirjakontrolli võimalust, kirjutage kood, mis aitab parandada kirjavigu ning laseb kasutajal tehtavate asenduste osas kaasa rääkida. Selleks peaks kood sisendiks saama teksti ning kuvama kasutajale järjest lauseid, milles esineb õigekirjakontrollija meelest ebakorrektseid sõnu. Koos lausega võiks kuvada ka, millises sõnas probleem täpselt esineb.\n",
    "* Kui EstNLTK-l soovitusi ei ole, paluge kasutajal õige variant sisestada. Tühja sisestuse korral jäetakse sõna algsele kujule, kui kasutaja pakub oma variandi, asendatakse sõna lauses sellega;\n",
    "* Kui vigase sõna asemel on üks soovitus, siis asendatakse sõna sellega, lause ja asendus kuvatakse kasutajale sellegipoolest;\n",
    "* Kui soovitusi on mitu, kuvatakse kasutajale lause ning variandid koos järjekorranumbriga ning küsitakse kasutaja sisendit, mitmes variant valida asenduseks. Arvestage, et erinevalt Pythonist eelistavad inimesed nummerdamist üldjuhul alates 1-st. \n",
    "* Programmi töö lõppedes väljastage kasutajale tema parandatud tekst tervikuna.\n",
    "\n",
    "Vihjeid:\n",
    "* input() kasutaja sisendi küsimiseks \n",
    "* spellcheck_results klassimuutuja annab nii korrektsushinnangu kui sõnasoovitused"
   ]
  },
  {
   "cell_type": "code",
   "execution_count": 23,
   "metadata": {
    "collapsed": false
   },
   "outputs": [
    {
     "name": "stdout",
     "output_type": "stream",
     "text": [
      "Mis su nimi on? Dage\n",
      "Tere, Dage!\n"
     ]
    }
   ],
   "source": [
    "name = input(\"Mis su nimi on? \")\n",
    "print(\"Tere, \" + name + \"!\")"
   ]
  },
  {
   "cell_type": "markdown",
   "metadata": {},
   "source": [
    "### Sõnapilved"
   ]
  },
  {
   "cell_type": "markdown",
   "metadata": {},
   "source": [
    "Sõnapilv on populaarne tekstiliste andmete esitamise viis. Kõige lihtsam on muidugi tükeldada tekst tühikute järgi sõnadeks ning visualiseerida kõige sagedasemad sõnad. Paraku ei pruugi see olla väga informatiivne.\n",
    "\n",
    "Siin on näiteks toodud ühe teatrietenduse arvustuse pealt genereeritud sõnapilv. Nagu näha, on enim esindatud asesõnad sidesõnad ja määrsõnad, mis eriti informatiivsed ei ole."
   ]
  },
  {
   "cell_type": "markdown",
   "metadata": {},
   "source": [
    "![title](wordcloud7.png)"
   ]
  },
  {
   "cell_type": "markdown",
   "metadata": {},
   "source": [
    "### Ülesanne 4. Sõnapilv (1,5p)"
   ]
  },
  {
   "cell_type": "markdown",
   "metadata": {},
   "source": [
    "Kaustas *teatriarvustused2* on toodud üheksa arvustust ühe teatrietenduse kohta. Koostage kaustas olevate tekstide põhjal informatiivsem sõnapilv. Kuna arvustuste puhul on huvitavad peamiselt kirjutajate poolt antud hinnangud, siis parema sõnapilve koostamiseks:\n",
    "* lemmatiseerige tekstid\n",
    "* kasutage sõnapilves ainult omadussõnu\n",
    "* valige mõistlik hulk sõnu, mida visualiseerida - eeldatavasti sagedasemad, samas võib kasutada stoppsõnade loendit, et jätta välja sõnu, mis ei ole informatiivsed\n",
    "* Ühestamata jäänud (püstkriipsuga eraldatud) lemmad sõnapilves ('jääma|jäänud' jms) esineda ei tohiks"
   ]
  },
  {
   "cell_type": "markdown",
   "metadata": {},
   "source": [
    "**Vihjeid:**\n",
    "\n",
    "* Tekstide kodeeringuks on utf-8\n",
    "\n",
    "* Sõnapilve genereerimisel on abiks https://github.com/amueller/word_cloud teek. Kasutamiseks tuleb see installida praktikumiülesannete lahendamiseks kasutatavasse conda keskkonda käsuga\n",
    "\n",
    "    `conda install -c amueller -c conda-forge wordcloud`\n",
    "    \n",
    "\n",
    "* Sõnapilve visualiseerimiseks vajame ka matplotlib'i, mille saab installida käsuga\n",
    "\n",
    "    `conda install matplotlib`\n",
    "    "
   ]
  },
  {
   "cell_type": "markdown",
   "metadata": {},
   "source": [
    "Ülaltoodud sõnapilv on genereeritud järgneva koodi abil:"
   ]
  },
  {
   "cell_type": "code",
   "execution_count": 24,
   "metadata": {
    "collapsed": true
   },
   "outputs": [],
   "source": [
    "from wordcloud import WordCloud\n",
    "import matplotlib.pyplot as plt"
   ]
  },
  {
   "cell_type": "code",
   "execution_count": 25,
   "metadata": {
    "collapsed": false
   },
   "outputs": [],
   "source": [
    "with open(\"teatriarvustused2/arvustus8.txt\", \"r\", encoding = 'utf-8') as fin:\n",
    "    text = fin.read()"
   ]
  },
  {
   "cell_type": "code",
   "execution_count": 26,
   "metadata": {
    "collapsed": false
   },
   "outputs": [
    {
     "data": {
      "image/png": "[encoded data removed]",
      "text/plain": [
       "<matplotlib.figure.Figure at 0x7f82eb5a0390>"
      ]
     },
     "metadata": {},
     "output_type": "display_data"
    }
   ],
   "source": [
    "wordcloud = WordCloud(max_font_size = 160, max_words = 30, width = 500, height = 300, background_color = 'white').generate(text)\n",
    "fig = plt.figure()\n",
    "plt.imshow(wordcloud, interpolation = 'bilinear')\n",
    "plt.axis(\"off\")\n",
    "plt.show()"
   ]
  },
  {
   "cell_type": "markdown",
   "metadata": {},
   "source": [
    "### Boonusülesanne.  (1p)"
   ]
  },
  {
   "cell_type": "markdown",
   "metadata": {},
   "source": [
    "Vaadake Postimehe koostatud sõnapilve presidendi vabariigi aastapäeva kõne teksti pealt (pärit [siit](http://arvamus.postimees.ee/4027843/sonapilv-keda-voi-mida-mainis-kaljulaid-oma-kones-koige-enam)). Mõelge, mil moel saaks automaatse tekstitöötluse abil tulemust parandada. Genereerige uus ja parem sõnapilv (kõne teksti leiate failist *presidendi_tekst.txt*), mis oleks samuti Eesti kujuga. Näidis [siin.](https://github.com/amueller/word_cloud/blob/master/examples/masked.py)"
   ]
  },
  {
   "cell_type": "markdown",
   "metadata": {},
   "source": [
    "![title](presidendipilv.png)"
   ]
  }
 ],
 "metadata": {
  "anaconda-cloud": {},
  "kernelspec": {
   "display_name": "Python [conda env:estnltk141]",
   "language": "python",
   "name": "conda-env-estnltk141-py"
  },
  "language_info": {
   "codemirror_mode": {
    "name": "ipython",
    "version": 3
   },
   "file_extension": ".py",
   "mimetype": "text/x-python",
   "name": "python",
   "nbconvert_exporter": "python",
   "pygments_lexer": "ipython3",
   "version": "3.5.3"
  }
 },
 "nbformat": 4,
 "nbformat_minor": 1
}
