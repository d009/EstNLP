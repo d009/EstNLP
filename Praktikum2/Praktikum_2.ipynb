{
 "cells": [
  {
   "cell_type": "markdown",
   "metadata": {},
   "source": [
    "<h1 style=\"color:blue\">Praktikum 2. EstNLTK</h1>\n",
    "<h3 style=\"color:blue\">Teksti segmenteerimine, morfoloogiline analüüs, õigekirjakontroll. Sõnapilved</h3>"
   ]
  },
  {
   "cell_type": "markdown",
   "metadata": {},
   "source": [
    "Tänases praktikumis teeme lähemalt tutvust eesti keele töötlemiseks mõeldud Pythoni teegiga [EstNLTK](https://github.com/estnltk/estnltk). \n",
    "Alustame kõige põhilisemast: teksti segmenteerimine sõnadeks ja lauseteks ning morfoloogilise analüüsi teostamine. \n",
    "Need sammud on vajalikud enamiku keeletöötlusülesannete lahendamisel: kui suudame tekstist kätte saada laused ja sõnad, ning filtreerida neid lemmade, sõnaliikide ja morfoloogilise info järgi, saame ka otsida sõna esinemisi sõnavormist (käändest/pöördest) sõltumata, luua sõnade/lemmade sagedusloendeid ning visualiseerida neid näiteks sõnapilvede abil. \n",
    "Morfoloogilise analüüsi alusel saab ka tuvastada õigekirjavigu, mida on võimalik spelleri abil parandada."
   ]
  },
  {
   "cell_type": "markdown",
   "metadata": {},
   "source": [
    "**NB!** Edasine osa juhendist eeldab, et EstNLTK versioon 1.4.1 on installitud keskkonda, milles käesolev _notebook_ käivitatud on. Kui selline keskkond on veel loomata või ei mäleta, kuidas aktiveerida jms, siis tasub vaadata 1. praktikumi PDF-juhendit. Kui tekib probleeme, küsige julgelt abi: EstNLTK töölesaamine on oluline, kuna seda läheb vaja lisaks tänasele ka kõigis järgmistes praktikumides."
   ]
  },
  {
   "cell_type": "markdown",
   "metadata": {},
   "source": [
    "### Text objekti loomine"
   ]
  },
  {
   "cell_type": "markdown",
   "metadata": {},
   "source": [
    "EstNLTK olulisimaks klassiks on Text. Selle kasutamiseks peame vastava klassi importima:"
   ]
  },
  {
   "cell_type": "code",
   "execution_count": 2,
   "metadata": {
    "collapsed": true
   },
   "outputs": [],
   "source": [
    "from estnltk import Text"
   ]
  },
  {
   "cell_type": "markdown",
   "metadata": {},
   "source": [
    "Et oma teksti töötlema hakata, peame sellest tegema Text klassi objekti:"
   ]
  },
  {
   "cell_type": "code",
   "execution_count": 3,
   "metadata": {
    "collapsed": true
   },
   "outputs": [],
   "source": [
    "my_sentences = \"Mees peeti kinni ja viidi Tartu vanglasse. Sinna pidi ta jääma kolmeks kuuks.\""
   ]
  },
  {
   "cell_type": "code",
   "execution_count": 4,
   "metadata": {
    "collapsed": true
   },
   "outputs": [],
   "source": [
    "# Teeme oma teksti Text objektiks\n",
    "text = Text(my_sentences)"
   ]
  },
  {
   "cell_type": "code",
   "execution_count": 5,
   "metadata": {},
   "outputs": [
    {
     "data": {
      "text/plain": [
       "{'text': 'Mees peeti kinni ja viidi Tartu vanglasse. Sinna pidi ta jääma kolmeks kuuks.'}"
      ]
     },
     "execution_count": 5,
     "metadata": {},
     "output_type": "execute_result"
    }
   ],
   "source": [
    "text"
   ]
  },
  {
   "cell_type": "markdown",
   "metadata": {},
   "source": [
    "Nagu näeme, on põhimõtteliselt tegemist *dictionary* ehk sõnaraamatuga."
   ]
  },
  {
   "cell_type": "markdown",
   "metadata": {},
   "source": [
    "### Teksti segmenteerimine"
   ]
  },
  {
   "cell_type": "markdown",
   "metadata": {},
   "source": [
    "Keeleandmete analüüsimiseks on esmalt vaja tekst tükeldada -- jagada lauseteks ja sõnadeks. \n",
    "Esmapilgul võib see tunduda ehk lihtne ülesanne, mille lahendamiseks piisaks standardteegi [_split()_](https://docs.python.org/3.5/library/stdtypes.html#str.split) meetodist.\n",
    "Aga kui uurida tühikute ja punktuatsiooni kasutust tekstides detailsemalt, võib märgata üksjagu juhte, kus lihtne _split()_ rakendamine ei tööta.\n",
    "Näiteks lauses\n",
    "\n",
    "    Rattaralli toimub 29. mail 2016 ning selle stardi- ja finišipaik on Tartu kesklinnas, Turu tänaval.\n",
    "  \n",
    "on küll kaks punkti, aga ainult viimane tähistab lauselõppu -- **lausestaja** peab kuidagi aru saama, et kuupäeva järel olev punkt pole lauselõpp.\n",
    "\n",
    "Ka teksti sõnedeks jagaja ehk **sõnestaja** peab olema kavalam kui tavaline _split()_: lisaks sõnade eraldamisele tühikute järgi tuleb ka punktuatsioonisümbolid sõnadest lahku tõsta: see on vajalik nii kõige lihtsamal sõnaotsingul, sõnade loendamisel kui ka edasisel automaattöötlemisel. Lisaks tuleb tegeleda probleemidega, kus sõnad on kogemata kokku kirjutatud, näiteks tekstis\n",
    "    \n",
    "    Iga päev teeme valikuid.Valime kõike alates pesupulbrist ja lõpetades poliitikutega. \n",
    "\n",
    "tuleb tuvastada, et `valikuid.Valime` ei ole mitte tavaline sõna, vaid seal on tarvis kaks \"kokku kleebitud\" sõna lahku tõsta.\n",
    "\n",
    "Sedalaadi teksti segmenteerimise probleemidega tegeleb EstNLTK meie eest. \n",
    "Seega võime teksti lihtsalt failist sisse lugeda, konverteerida Text objektiks ja küsida sealt lauseid ja sõnu.\n",
    "Lausete küsimine käib nt nii:"
   ]
  },
  {
   "cell_type": "code",
   "execution_count": 6,
   "metadata": {},
   "outputs": [
    {
     "data": {
      "text/plain": [
       "['Mees peeti kinni ja viidi Tartu vanglasse.',\n",
       " 'Sinna pidi ta jääma kolmeks kuuks.']"
      ]
     },
     "execution_count": 6,
     "metadata": {},
     "output_type": "execute_result"
    }
   ],
   "source": [
    "text.sentence_texts"
   ]
  },
  {
   "cell_type": "markdown",
   "metadata": {},
   "source": [
    "Kuigi _Text_-i atribuut `sentence_texts` annab laused mugavalt sõnedena kätte, on oluline ka teada, kuidas see info on talletatud _Text_-is kui sõnastikus. \n",
    "Nimelt on tegemist kihiga (ingl *layer*), kus on täpsustatud kihi elementide (lausete) asukohad algses tekstis. \n",
    "Näiteks saame lausete asukohad kätte nii:"
   ]
  },
  {
   "cell_type": "code",
   "execution_count": 7,
   "metadata": {},
   "outputs": [
    {
     "data": {
      "text/plain": [
       "[{'end': 42, 'start': 0}, {'end': 77, 'start': 43}]"
      ]
     },
     "execution_count": 7,
     "metadata": {},
     "output_type": "execute_result"
    }
   ],
   "source": [
    "text.sentences"
   ]
  },
  {
   "cell_type": "markdown",
   "metadata": {},
   "source": [
    "Algus- ja lõpp-positsioon (*start* ja *end*) näitavad, mitmenda märgi juures vastav lause algab või lõppeb."
   ]
  },
  {
   "cell_type": "markdown",
   "metadata": {},
   "source": [
    "Kui oleme atribuudi `sentence_texts` (või `sentences`) abil küsinud infot lausete kohta, siis lisatakse sõnastikku uus võti `'sentences'`, mille all ongi informatsioon lausete kohta kõige algsemal kujul:"
   ]
  },
  {
   "cell_type": "code",
   "execution_count": 8,
   "metadata": {},
   "outputs": [
    {
     "data": {
      "text/plain": [
       "{'paragraphs': [{'end': 77, 'start': 0}],\n",
       " 'sentences': [{'end': 42, 'start': 0}, {'end': 77, 'start': 43}],\n",
       " 'text': 'Mees peeti kinni ja viidi Tartu vanglasse. Sinna pidi ta jääma kolmeks kuuks.'}"
      ]
     },
     "execution_count": 8,
     "metadata": {},
     "output_type": "execute_result"
    }
   ],
   "source": [
    "text"
   ]
  },
  {
   "cell_type": "markdown",
   "metadata": {},
   "source": [
    "Lisaks tekkis lausete küsimisel ka lõikude kiht (`'paragraphs'`), kuna teksti lõikudeks jagamine on lausestamise eelduseks.\n",
    "\n",
    "Kui lõigud ja laused on olemas, siis saame teksti jagada ka sõnadeks. \n",
    "Jällegi, esmalt küsime sõnade järele:"
   ]
  },
  {
   "cell_type": "code",
   "execution_count": 9,
   "metadata": {
    "scrolled": true
   },
   "outputs": [
    {
     "data": {
      "text/plain": [
       "[{'end': 4, 'start': 0, 'text': 'Mees'},\n",
       " {'end': 10, 'start': 5, 'text': 'peeti'},\n",
       " {'end': 16, 'start': 11, 'text': 'kinni'},\n",
       " {'end': 19, 'start': 17, 'text': 'ja'},\n",
       " {'end': 25, 'start': 20, 'text': 'viidi'},\n",
       " {'end': 31, 'start': 26, 'text': 'Tartu'},\n",
       " {'end': 41, 'start': 32, 'text': 'vanglasse'},\n",
       " {'end': 42, 'start': 41, 'text': '.'},\n",
       " {'end': 48, 'start': 43, 'text': 'Sinna'},\n",
       " {'end': 53, 'start': 49, 'text': 'pidi'},\n",
       " {'end': 56, 'start': 54, 'text': 'ta'},\n",
       " {'end': 62, 'start': 57, 'text': 'jääma'},\n",
       " {'end': 70, 'start': 63, 'text': 'kolmeks'},\n",
       " {'end': 76, 'start': 71, 'text': 'kuuks'},\n",
       " {'end': 77, 'start': 76, 'text': '.'}]"
      ]
     },
     "execution_count": 9,
     "metadata": {},
     "output_type": "execute_result"
    }
   ],
   "source": [
    "text.words"
   ]
  },
  {
   "cell_type": "markdown",
   "metadata": {},
   "source": [
    "... misjärel on lisandunud *Text* objektile `'words'` kiht:"
   ]
  },
  {
   "cell_type": "code",
   "execution_count": 10,
   "metadata": {
    "scrolled": false
   },
   "outputs": [
    {
     "data": {
      "text/plain": [
       "{'paragraphs': [{'end': 77, 'start': 0}],\n",
       " 'sentences': [{'end': 42, 'start': 0}, {'end': 77, 'start': 43}],\n",
       " 'text': 'Mees peeti kinni ja viidi Tartu vanglasse. Sinna pidi ta jääma kolmeks kuuks.',\n",
       " 'words': [{'end': 4, 'start': 0, 'text': 'Mees'},\n",
       "  {'end': 10, 'start': 5, 'text': 'peeti'},\n",
       "  {'end': 16, 'start': 11, 'text': 'kinni'},\n",
       "  {'end': 19, 'start': 17, 'text': 'ja'},\n",
       "  {'end': 25, 'start': 20, 'text': 'viidi'},\n",
       "  {'end': 31, 'start': 26, 'text': 'Tartu'},\n",
       "  {'end': 41, 'start': 32, 'text': 'vanglasse'},\n",
       "  {'end': 42, 'start': 41, 'text': '.'},\n",
       "  {'end': 48, 'start': 43, 'text': 'Sinna'},\n",
       "  {'end': 53, 'start': 49, 'text': 'pidi'},\n",
       "  {'end': 56, 'start': 54, 'text': 'ta'},\n",
       "  {'end': 62, 'start': 57, 'text': 'jääma'},\n",
       "  {'end': 70, 'start': 63, 'text': 'kolmeks'},\n",
       "  {'end': 76, 'start': 71, 'text': 'kuuks'},\n",
       "  {'end': 77, 'start': 76, 'text': '.'}]}"
      ]
     },
     "execution_count": 10,
     "metadata": {},
     "output_type": "execute_result"
    }
   ],
   "source": [
    "text"
   ]
  },
  {
   "cell_type": "markdown",
   "metadata": {},
   "source": [
    "[split_by()](https://estnltk.github.io/estnltk/1.4.1/tutorials/text.html#splitting-by-layers) meetod võimaldab itereerida üle teksti lausete, sõnade (jm elementide) kaupa:"
   ]
  },
  {
   "cell_type": "code",
   "execution_count": 11,
   "metadata": {},
   "outputs": [
    {
     "name": "stdout",
     "output_type": "stream",
     "text": [
      "UUS LAUSE\n",
      "Mees peeti kinni ja viidi Tartu vanglasse.\n",
      "Mees\n",
      "peeti\n",
      "kinni\n",
      "ja\n",
      "viidi\n",
      "Tartu\n",
      "vanglasse\n",
      ".\n",
      "UUS LAUSE\n",
      "Sinna pidi ta jääma kolmeks kuuks.\n",
      "Sinna\n",
      "pidi\n",
      "ta\n",
      "jääma\n",
      "kolmeks\n",
      "kuuks\n",
      ".\n"
     ]
    }
   ],
   "source": [
    "for sentence in text.split_by(\"sentences\"):\n",
    "    print(\"UUS LAUSE\")\n",
    "    print(sentence.text)\n",
    "    for word in sentence.split_by(\"words\"):\n",
    "        print(word['text'])"
   ]
  },
  {
   "cell_type": "code",
   "execution_count": 12,
   "metadata": {},
   "outputs": [
    {
     "data": {
      "text/plain": [
       "{'paragraphs': [{'end': 77, 'start': 0}],\n",
       " 'sentences': [{'end': 42, 'start': 0}, {'end': 77, 'start': 43}],\n",
       " 'text': 'Mees peeti kinni ja viidi Tartu vanglasse. Sinna pidi ta jääma kolmeks kuuks.',\n",
       " 'words': [{'end': 4, 'start': 0, 'text': 'Mees'},\n",
       "  {'end': 10, 'start': 5, 'text': 'peeti'},\n",
       "  {'end': 16, 'start': 11, 'text': 'kinni'},\n",
       "  {'end': 19, 'start': 17, 'text': 'ja'},\n",
       "  {'end': 25, 'start': 20, 'text': 'viidi'},\n",
       "  {'end': 31, 'start': 26, 'text': 'Tartu'},\n",
       "  {'end': 41, 'start': 32, 'text': 'vanglasse'},\n",
       "  {'end': 42, 'start': 41, 'text': '.'},\n",
       "  {'end': 48, 'start': 43, 'text': 'Sinna'},\n",
       "  {'end': 53, 'start': 49, 'text': 'pidi'},\n",
       "  {'end': 56, 'start': 54, 'text': 'ta'},\n",
       "  {'end': 62, 'start': 57, 'text': 'jääma'},\n",
       "  {'end': 70, 'start': 63, 'text': 'kolmeks'},\n",
       "  {'end': 76, 'start': 71, 'text': 'kuuks'},\n",
       "  {'end': 77, 'start': 76, 'text': '.'}]}"
      ]
     },
     "execution_count": 12,
     "metadata": {},
     "output_type": "execute_result"
    }
   ],
   "source": [
    "text"
   ]
  },
  {
   "cell_type": "markdown",
   "metadata": {},
   "source": [
    "**NB!** Kui töötate mahukate tekstidega ja oluline on kiirus, siis tasub arvesse võtta, et kui *Text* objektile on märgenduskiht juba lisatud ja soovite seda uuesti vaadata/kasutada, siis on efektiivsem käsitleda *Text* objekti kui sõnastikku, mitte kasutada atribuuti. Ehk \n",
    "\n",
    "`text['words']` \n",
    "\n",
    "on kiirem kui \n",
    "\n",
    "`text.words`"
   ]
  },
  {
   "cell_type": "markdown",
   "metadata": {},
   "source": [
    "### Ülesanne 1. Kellel on pikem? (1p)\n",
    "Võrrelge Indrek Hargla ja Karen Orlau tekstide lausete ja sõnade pikkusi. Selleks kirjutage funktsioon, millele antakse ette kataloogi asukoht ning mis leiab ja tagastab kõigi kataloogis olevate failide peale kokku:\n",
    "* keskmise failipikkuse lausetes\n",
    "* keskmise lausepikkuse sõnades\n",
    "* keskmise sõnapikkuse tähemärkides\n",
    "\n",
    "Jooksutage funktsiooni Indrek Hargla juttudel (kataloogis *hargla_texts*) ning Karen Orlau juttudel (kataloogis *orlau_texts*)."
   ]
  },
  {
   "cell_type": "markdown",
   "metadata": {},
   "source": [
    "**Vihjeid:**\n",
    "* Tekstide kodeeringuks on utf-8;\n",
    "* Lausete ja sõnade arvu leidmiseks tekstidest kasutage EstNLTK-d. Teksti töötlemisel lause kaupa aitab [split_by()](https://estnltk.github.io/estnltk/1.4.1/tutorials/text.html#splitting-by-layers) meetod, samuti lause töötlemisel sõna kaupa;\n",
    "* Kataloogi kõigi failide läbimisel on abiks *[os.listdir](https://docs.python.org/3.5/library/os.html#os.listdir)* - vt näidet:"
   ]
  },
  {
   "cell_type": "code",
   "execution_count": 13,
   "metadata": {},
   "outputs": [
    {
     "name": "stdout",
     "output_type": "stream",
     "text": [
      "dummy_folder/file1.txt\n",
      "Eestil on terve rida rahvusmüüte, mis pole tõesed ja on moonutused, kui mitte otse valed.\n",
      "\n",
      "dummy_folder/file2.txt\n",
      "Ühel õhtul toidupoodi minnes leidsin eest lagedad võiletid.\n",
      "\n"
     ]
    }
   ],
   "source": [
    "import os\n",
    "path = 'dummy_folder/'\n",
    "for file in os.listdir(path):\n",
    "    filename = os.path.join(path, file) \n",
    "    with open(filename, \"r\", encoding = 'utf-8') as fin:\n",
    "        print(filename)\n",
    "        print(fin.read())    "
   ]
  },
  {
   "cell_type": "markdown",
   "metadata": {},
   "source": [
    "### Morfoloogiline analüüs\n",
    "\n",
    "Eesti keeles on sõnadel teatavasti palju erinevaid vorme, nt nimisõnu saab kasutada 14 käändes ning lisaks muuta arvus (ainsus/mitmus).\n",
    "Teksti töötluse seisukohast on aga tihti kasulik käsitleda ühe sõna kõiki vorme koos.\n",
    "Siin tulebki appi morfoloogiline analüüs.\n",
    "Lihtsustatult öeldes tegeleb morfoloogiline analüüs sõna struktuuri kindlakstegemisega: millistest tükkidest sõna koosneb? \n",
    "Sellise analüüsi käigus selgub aga ka palju muud kasulikku: milline on sõna algvorm, millist liiki sõnaga on tegu ja millised on tükkidele vastavad grammatilised kategooriad."
   ]
  },
  {
   "cell_type": "markdown",
   "metadata": {},
   "source": [
    "#### Sõnade lemmad\n",
    "\n",
    "Morfoloogilise analüüsi üks olulisemaid tulemusi on see, et erinevad vormid taandatakse ühele kindlale kujule: leitakse iga sõna algvorm ehk **lemma**.\n",
    "Nimisõnade puhul on selleks enamasti ainsuse nimetava vorm (nt sõnade _oad, ubade, ubasid_ lemmaks on _uba_), tegusõnade puhul aga _ma_-lõpuline vorm (nt sõnade _nägin, näeme, näe_ algvorm on _nägema_)."
   ]
  },
  {
   "cell_type": "markdown",
   "metadata": {},
   "source": [
    "EstNLTK-s saab lemmad kätte klassimuutuja 'lemmas' abil:"
   ]
  },
  {
   "cell_type": "code",
   "execution_count": 14,
   "metadata": {
    "scrolled": true
   },
   "outputs": [
    {
     "data": {
      "text/plain": [
       "['mees',\n",
       " 'pidama',\n",
       " 'kinni',\n",
       " 'ja',\n",
       " 'viima',\n",
       " 'Tartu',\n",
       " 'vangla',\n",
       " '.',\n",
       " 'sinna',\n",
       " 'pidama',\n",
       " 'tema',\n",
       " 'jääma',\n",
       " 'kolm',\n",
       " 'kuu',\n",
       " '.']"
      ]
     },
     "execution_count": 14,
     "metadata": {},
     "output_type": "execute_result"
    }
   ],
   "source": [
    "text.lemmas"
   ]
  },
  {
   "cell_type": "markdown",
   "metadata": {},
   "source": [
    "#### Sõnaliigid ja grammatilised kategooriad\n",
    "\n",
    "Laias laastus jagunevad sõnad _käändsõnadeks_ (nimi-, omadus-, ase-, arvsõnad), _pöördsõnadeks_ (tegusõnad e verbid) ning _muutumatuteks sõnadeks_ (sidesõnad, määrsõnad, kaassõnad, lühendid, lausemärgid).\n",
    "Sõnaliik (ingl _part of speech_ ehk _pos_) ütleb meile esmajoones seda, millist infot sõna kohta analüüsil leida võib: käändsõnade puhul leitakse analüüsi käigus sõna kääne ja arv ning pöördsõnade puhul leitakse (grammatiline) isik, kõneviis, aeg, arv, tegumood ja kõneliik. \n",
    "Muutumatud sõnad (nt sidesõnad _ja_, _ning_, _või_) esinevad aga alati ühel kujul ning morfoloogilisel tasandil me nende kohta mingit lisainfot ei leiagi."
   ]
  },
  {
   "cell_type": "markdown",
   "metadata": {},
   "source": [
    "EstNLTK-s saab teksti sõnaliigid kätte klassimuutuja 'postags' abil:"
   ]
  },
  {
   "cell_type": "code",
   "execution_count": 15,
   "metadata": {},
   "outputs": [
    {
     "data": {
      "text/plain": [
       "['S', 'V', 'D', 'J', 'V', 'H', 'S', 'Z', 'D', 'V', 'P', 'V', 'N', 'S', 'Z']"
      ]
     },
     "execution_count": 15,
     "metadata": {},
     "output_type": "execute_result"
    }
   ],
   "source": [
    "text.postags"
   ]
  },
  {
   "cell_type": "markdown",
   "metadata": {},
   "source": [
    "Nagu väljundist näha, kasutatakse sõnaliikide tähistamiseks lühendeid (_S_ - substantiiv e nimisõna, _V_ - verb e pöördsõna jne). Lühendid on lahti kirjutatud [selles tabelis](https://estnltk.github.io/estnltk/1.4.1/tutorials/morphology_tables.html#table-pos-tag-descriptions)."
   ]
  },
  {
   "cell_type": "markdown",
   "metadata": {},
   "source": [
    "Kui on tarvis sõnade morfoloogiat detailsemalt uurida, siis _text.forms_ abil saab kätte ka sõnade grammatilised kategooriad (nt käändsõnade käände ja arvu).\n",
    "Grammatilised kategooriad on samuti toodud lühenditena, käändsõnade kategoorialühendid on lahti seletatud [siin](https://estnltk.github.io/estnltk/1.4.1/tutorials/morphology_tables.html#table-noun-form-descriptions-vabamorf) ning verbide omad [siin](https://estnltk.github.io/estnltk/1.4.1/tutorials/morphology_tables.html#table-verb-form-descriptions-vabamorf).\n",
    "Käesolevas praktikumis meil aga sellist detailsust tarvis pole, esialgu piisab teadmisest, et see info on vajadusel olemas."
   ]
  },
  {
   "cell_type": "markdown",
   "metadata": {},
   "source": [
    "#### Morfoloogilise analüüsi tulemused sõnastikuna\n",
    "\n",
    "Kui kasutame atribuute _text.lemmas_ või _text.postags_, siis teostatakse tekstil automaatne morfoloogiline analüüs ning selle tulemused kirjutatakse `'words'` kihi alla. \n",
    "Seega uuesti `text.words` välja kutsudes on nüüd tulemus märksa detailsem:"
   ]
  },
  {
   "cell_type": "code",
   "execution_count": 16,
   "metadata": {},
   "outputs": [
    {
     "data": {
      "text/plain": [
       "[{'analysis': [{'clitic': '',\n",
       "    'ending': '0',\n",
       "    'form': 'sg n',\n",
       "    'lemma': 'mees',\n",
       "    'partofspeech': 'S',\n",
       "    'root': 'mees',\n",
       "    'root_tokens': ['mees']}],\n",
       "  'end': 4,\n",
       "  'start': 0,\n",
       "  'text': 'Mees'},\n",
       " {'analysis': [{'clitic': '',\n",
       "    'ending': 'ti',\n",
       "    'form': 'ti',\n",
       "    'lemma': 'pidama',\n",
       "    'partofspeech': 'V',\n",
       "    'root': 'pida',\n",
       "    'root_tokens': ['pida']}],\n",
       "  'end': 10,\n",
       "  'start': 5,\n",
       "  'text': 'peeti'},\n",
       " {'analysis': [{'clitic': '',\n",
       "    'ending': '0',\n",
       "    'form': '',\n",
       "    'lemma': 'kinni',\n",
       "    'partofspeech': 'D',\n",
       "    'root': 'kinni',\n",
       "    'root_tokens': ['kinni']}],\n",
       "  'end': 16,\n",
       "  'start': 11,\n",
       "  'text': 'kinni'},\n",
       " {'analysis': [{'clitic': '',\n",
       "    'ending': '0',\n",
       "    'form': '',\n",
       "    'lemma': 'ja',\n",
       "    'partofspeech': 'J',\n",
       "    'root': 'ja',\n",
       "    'root_tokens': ['ja']}],\n",
       "  'end': 19,\n",
       "  'start': 17,\n",
       "  'text': 'ja'},\n",
       " {'analysis': [{'clitic': '',\n",
       "    'ending': 'di',\n",
       "    'form': 'ti',\n",
       "    'lemma': 'viima',\n",
       "    'partofspeech': 'V',\n",
       "    'root': 'vii',\n",
       "    'root_tokens': ['vii']}],\n",
       "  'end': 25,\n",
       "  'start': 20,\n",
       "  'text': 'viidi'},\n",
       " {'analysis': [{'clitic': '',\n",
       "    'ending': '0',\n",
       "    'form': 'sg g',\n",
       "    'lemma': 'Tartu',\n",
       "    'partofspeech': 'H',\n",
       "    'root': 'Tartu',\n",
       "    'root_tokens': ['Tartu']}],\n",
       "  'end': 31,\n",
       "  'start': 26,\n",
       "  'text': 'Tartu'},\n",
       " {'analysis': [{'clitic': '',\n",
       "    'ending': 'sse',\n",
       "    'form': 'sg ill',\n",
       "    'lemma': 'vangla',\n",
       "    'partofspeech': 'S',\n",
       "    'root': 'vangla',\n",
       "    'root_tokens': ['vangla']}],\n",
       "  'end': 41,\n",
       "  'start': 32,\n",
       "  'text': 'vanglasse'},\n",
       " {'analysis': [{'clitic': '',\n",
       "    'ending': '',\n",
       "    'form': '',\n",
       "    'lemma': '.',\n",
       "    'partofspeech': 'Z',\n",
       "    'root': '.',\n",
       "    'root_tokens': ['.']}],\n",
       "  'end': 42,\n",
       "  'start': 41,\n",
       "  'text': '.'},\n",
       " {'analysis': [{'clitic': '',\n",
       "    'ending': '0',\n",
       "    'form': '',\n",
       "    'lemma': 'sinna',\n",
       "    'partofspeech': 'D',\n",
       "    'root': 'sinna',\n",
       "    'root_tokens': ['sinna']}],\n",
       "  'end': 48,\n",
       "  'start': 43,\n",
       "  'text': 'Sinna'},\n",
       " {'analysis': [{'clitic': '',\n",
       "    'ending': 'i',\n",
       "    'form': 's',\n",
       "    'lemma': 'pidama',\n",
       "    'partofspeech': 'V',\n",
       "    'root': 'pida',\n",
       "    'root_tokens': ['pida']}],\n",
       "  'end': 53,\n",
       "  'start': 49,\n",
       "  'text': 'pidi'},\n",
       " {'analysis': [{'clitic': '',\n",
       "    'ending': '0',\n",
       "    'form': 'sg n',\n",
       "    'lemma': 'tema',\n",
       "    'partofspeech': 'P',\n",
       "    'root': 'tema',\n",
       "    'root_tokens': ['tema']}],\n",
       "  'end': 56,\n",
       "  'start': 54,\n",
       "  'text': 'ta'},\n",
       " {'analysis': [{'clitic': '',\n",
       "    'ending': 'ma',\n",
       "    'form': 'ma',\n",
       "    'lemma': 'jääma',\n",
       "    'partofspeech': 'V',\n",
       "    'root': 'jää',\n",
       "    'root_tokens': ['jää']}],\n",
       "  'end': 62,\n",
       "  'start': 57,\n",
       "  'text': 'jääma'},\n",
       " {'analysis': [{'clitic': '',\n",
       "    'ending': 'ks',\n",
       "    'form': 'sg tr',\n",
       "    'lemma': 'kolm',\n",
       "    'partofspeech': 'N',\n",
       "    'root': 'kolm',\n",
       "    'root_tokens': ['kolm']}],\n",
       "  'end': 70,\n",
       "  'start': 63,\n",
       "  'text': 'kolmeks'},\n",
       " {'analysis': [{'clitic': '',\n",
       "    'ending': 'ks',\n",
       "    'form': 'sg tr',\n",
       "    'lemma': 'kuu',\n",
       "    'partofspeech': 'S',\n",
       "    'root': 'kuu',\n",
       "    'root_tokens': ['kuu']}],\n",
       "  'end': 76,\n",
       "  'start': 71,\n",
       "  'text': 'kuuks'},\n",
       " {'analysis': [{'clitic': '',\n",
       "    'ending': '',\n",
       "    'form': '',\n",
       "    'lemma': '.',\n",
       "    'partofspeech': 'Z',\n",
       "    'root': '.',\n",
       "    'root_tokens': ['.']}],\n",
       "  'end': 77,\n",
       "  'start': 76,\n",
       "  'text': '.'}]"
      ]
     },
     "execution_count": 16,
     "metadata": {},
     "output_type": "execute_result"
    }
   ],
   "source": [
    "text.words"
   ]
  },
  {
   "cell_type": "markdown",
   "metadata": {},
   "source": [
    "Nagu näha, on `'words'` kihi alla tekkinud alamkiht `'analysis'`.\n",
    "Seal on juba meile tuttav informatsioon lemmade (`'lemma'`) ja sõnaliikide (`'partofspeech'`) kohta, aga veel leiab sealt infot  sõnalõppude (`'ending'`), [kliitiku](https://et.wikipedia.org/wiki/Liidik) (`'clitic'`) ja sõnavormile vastavate grammatiliste kateoogriate (`'form'`) kohta.\n",
    "Lisaks pakuvad `'root'` ja `'root_tokens'` alternatiivsel kujul informatsiooni sõna lemma kohta."
   ]
  },
  {
   "cell_type": "markdown",
   "metadata": {},
   "source": [
    "**_Mitmesused analüüsil._** Oluline asi, mida tuleb morfoloogilise analüüsi puhul tähele panna: tulemused `'analysis'` all on esitatud (sõnastike) järjendina, nt teise sõna (_peeti_) analüüs on kujul:\n",
    "\n",
    "       [{'clitic': '',\n",
    "         'ending': 'ti',\n",
    "         'form': 'ti',\n",
    "         'lemma': 'pidama',\n",
    "         'partofspeech': 'V',\n",
    "         'root': 'pida',\n",
    "         'root_tokens': ['pida']}]\n",
    "\n",
    "Järjendit kasutatakse seetõttu, et analüüs ei pruugi alati olla üheselt määratav: ühe sõna morfoloogiliseks tõlgendamiseks võib olla rohkem kui üks võimalus.\n",
    "Kui analüsaator leiab rohkem kui ühe tõlgenduse, siis sisaldab järjend tõlgendustele vastavat arvu sõnastikke."
   ]
  },
  {
   "cell_type": "markdown",
   "metadata": {},
   "source": [
    "#### Morfoloogilise analüüsi vaikesätted\n",
    "\n",
    "Vaikimisi tehakse morfoloogiline analüüs alati koos **ühestamise**, **oletamise** ja **pärisnimeanalüüside pakkumisega**. Mida see tähendab?\n",
    "\n",
    "**Morfoloogiline ühestamine**: kui ühe sõnavormi analüüsimiseks on mitu võimalust - näiteks sõna \"peeti\" võib olla nii vorm nimisõnast \"peet\" kui ka tegusõnast \"pidama\" - , siis valitakse välja antud (lause-)kontekstis kõige tõenäolisem tõlgendus. Seejuures jääb siiski mõningatel juhtudel mitmesus alles, nt järgmises näites on sõnal \"surnud\" neli analüüsivarianti."
   ]
  },
  {
   "cell_type": "code",
   "execution_count": 17,
   "metadata": {
    "scrolled": true
   },
   "outputs": [
    {
     "data": {
      "text/plain": [
       "[[{'clitic': '',\n",
       "   'ending': '0',\n",
       "   'form': 'sg n',\n",
       "   'lemma': 'mees',\n",
       "   'partofspeech': 'S',\n",
       "   'root': 'mees',\n",
       "   'root_tokens': ['mees']}],\n",
       " [{'clitic': '',\n",
       "   'ending': 'i',\n",
       "   'form': 's',\n",
       "   'lemma': 'olema',\n",
       "   'partofspeech': 'V',\n",
       "   'root': 'ole',\n",
       "   'root_tokens': ['ole']}],\n",
       " [{'clitic': '',\n",
       "   'ending': '0',\n",
       "   'form': '',\n",
       "   'lemma': 'surnud',\n",
       "   'partofspeech': 'A',\n",
       "   'root': 'surnud',\n",
       "   'root_tokens': ['surnud']},\n",
       "  {'clitic': '',\n",
       "   'ending': '0',\n",
       "   'form': 'sg n',\n",
       "   'lemma': 'surnud',\n",
       "   'partofspeech': 'A',\n",
       "   'root': 'surnud',\n",
       "   'root_tokens': ['surnud']},\n",
       "  {'clitic': '',\n",
       "   'ending': 'd',\n",
       "   'form': 'pl n',\n",
       "   'lemma': 'surnud',\n",
       "   'partofspeech': 'A',\n",
       "   'root': 'surnud',\n",
       "   'root_tokens': ['surnud']},\n",
       "  {'clitic': '',\n",
       "   'ending': 'nud',\n",
       "   'form': 'nud',\n",
       "   'lemma': 'surema',\n",
       "   'partofspeech': 'V',\n",
       "   'root': 'sure',\n",
       "   'root_tokens': ['sure']}],\n",
       " [{'clitic': '',\n",
       "   'ending': '',\n",
       "   'form': '',\n",
       "   'lemma': '.',\n",
       "   'partofspeech': 'Z',\n",
       "   'root': '.',\n",
       "   'root_tokens': ['.']}]]"
      ]
     },
     "execution_count": 17,
     "metadata": {},
     "output_type": "execute_result"
    }
   ],
   "source": [
    "Text(\"Mees oli surnud.\").analysis"
   ]
  },
  {
   "cell_type": "markdown",
   "metadata": {},
   "source": [
    " * _Lingivstiline vahemärkus:_ näites esinev sõna \"surnud\" mitmesus on üsna tüüpiline ka teistele _nud_-lõpulistele sõnadele: ühest küljest võib _nud_-lõpulist sõna tõlgendada kui omadussõna (`'partofspeech': 'A'`) -- kui mingi tegevuse tulemusena tekkinud \"omadust\", aga teisest küljest on see avatud ka verbi tõlgendusele (`'partofspeech': 'V'`) -- seda võib tõlgendada kui mingi tegevuse või protsessi seisundit (loe detailsemalt [siit](https://et.wikipedia.org/wiki/Mineviku_kesks%C3%B5na)). Sedalaadi mitmesuste lahendamine nõuab kõrgema tasandi (süntaksi, semantika) keeleanalüüsi ja seetõttu jäetakse need morfoloogilisel analüüsil targu lahendamata."
   ]
  },
  {
   "cell_type": "markdown",
   "metadata": {},
   "source": [
    "**Oletamine**: kui analüsaator ei leia tekstis esinevat sõna sõnastikust ega suuda seda analüüsida ka liitega või liitsõnaks, siis sõna kuju põhjal pakutakse eeldatav(ad) analüüs(id). Järgnevas näites kasutatud sõna \"poodelungile\" tänapäeva eesti keele sõnastikes ei esine, ent on eesti keele kõnelejale siiski lihtne mõista. Oletaja suudab õigesti määrata vormi, ent lemma jääb mitmeseks:"
   ]
  },
  {
   "cell_type": "code",
   "execution_count": 18,
   "metadata": {},
   "outputs": [
    {
     "data": {
      "text/plain": [
       "[[{'clitic': '',\n",
       "   'ending': 'd',\n",
       "   'form': 'pl n',\n",
       "   'lemma': 'tüdruk',\n",
       "   'partofspeech': 'S',\n",
       "   'root': 'tüdruk',\n",
       "   'root_tokens': ['tüdruk']}],\n",
       " [{'clitic': '',\n",
       "   'ending': 'sid',\n",
       "   'form': 'sid',\n",
       "   'lemma': 'minema',\n",
       "   'partofspeech': 'V',\n",
       "   'root': 'mine',\n",
       "   'root_tokens': ['mine']}],\n",
       " [{'clitic': '',\n",
       "   'ending': 'le',\n",
       "   'form': 'sg all',\n",
       "   'lemma': 'poodelung',\n",
       "   'partofspeech': 'S',\n",
       "   'root': 'poodelung',\n",
       "   'root_tokens': ['poodelung']},\n",
       "  {'clitic': '',\n",
       "   'ending': 'le',\n",
       "   'form': 'sg all',\n",
       "   'lemma': 'poodelungi',\n",
       "   'partofspeech': 'S',\n",
       "   'root': 'poodelungi',\n",
       "   'root_tokens': ['poodelungi']},\n",
       "  {'clitic': '',\n",
       "   'ending': 'le',\n",
       "   'form': 'sg all',\n",
       "   'lemma': 'poodelunk',\n",
       "   'partofspeech': 'S',\n",
       "   'root': 'poodelunk',\n",
       "   'root_tokens': ['poodelunk']}],\n",
       " [{'clitic': '',\n",
       "   'ending': '',\n",
       "   'form': '',\n",
       "   'lemma': '.',\n",
       "   'partofspeech': 'Z',\n",
       "   'root': '.',\n",
       "   'root_tokens': ['.']}]]"
      ]
     },
     "execution_count": 18,
     "metadata": {},
     "output_type": "execute_result"
    }
   ],
   "source": [
    "Text('Tüdrukud läksid poodelungile.').analysis"
   ]
  },
  {
   "cell_type": "markdown",
   "metadata": {},
   "source": [
    "**Pärisnimeanalüüside pakkumine:** kui nimisõna algab suure algustähega, võib see olla nii tavaline sõna kui ka pärisnimi (nt _Trump_ võib olla nii teatud liiki mast kaardimängus kui ka perekonnanimi). \n",
    "Vaikimisi lisabki analüsaator igal sellisel juhul analüüsidesse ka pärisnime tõlgenduse."
   ]
  },
  {
   "cell_type": "code",
   "execution_count": 19,
   "metadata": {},
   "outputs": [
    {
     "data": {
      "text/plain": [
       "['S', 'H', 'V', 'S']"
      ]
     },
     "execution_count": 19,
     "metadata": {},
     "output_type": "execute_result"
    }
   ],
   "source": [
    "Text('Kapten Trumm tasus arve').postags"
   ]
  },
  {
   "cell_type": "code",
   "execution_count": 20,
   "metadata": {},
   "outputs": [
    {
     "data": {
      "text/plain": [
       "['kapten', 'Trumm', 'tasuma', 'arve']"
      ]
     },
     "execution_count": 20,
     "metadata": {},
     "output_type": "execute_result"
    }
   ],
   "source": [
    "Text('Kapten Trumm tasus arve').lemmas"
   ]
  },
  {
   "cell_type": "markdown",
   "metadata": {},
   "source": [
    "Eelmises näites sai sõna _Trumm_ tegelikult nii nimisõna kui pärisnime tõlgenduse, automaatühestamise käigus valiti aga välja pärisnime analüüs (sõnaliik: `'H'`, lemma: `'Trumm'`)."
   ]
  },
  {
   "cell_type": "markdown",
   "metadata": {},
   "source": [
    "#### Morfoloogilise analüüsi sätete muutmine\n",
    "\n",
    "Nii ühestajat, oletajat kui pärisnimede pakkujat on võimalik *Text* objekti loomisel ka välja lülitada. \n",
    "\n",
    "Ühestaja väljalülitamisel (`disambiguate = False`) antakse välja kõik võimalikud morfoloogilise analüüsi tõlgendused sõnade kohta (erinevad tõlgendused püstkriipsuga eraldatud):"
   ]
  },
  {
   "cell_type": "code",
   "execution_count": 21,
   "metadata": {},
   "outputs": [
    {
     "data": {
      "text/plain": [
       "['Mee|Mees|Mesi|mees|mesi', 'olema', 'surema|surnu|surnud', '.']"
      ]
     },
     "execution_count": 21,
     "metadata": {},
     "output_type": "execute_result"
    }
   ],
   "source": [
    "Text(\"Mees oli surnud.\", disambiguate = False).lemmas"
   ]
  },
  {
   "cell_type": "code",
   "execution_count": 22,
   "metadata": {},
   "outputs": [
    {
     "data": {
      "text/plain": [
       "['H|S', 'V', 'A|S|V', 'Z']"
      ]
     },
     "execution_count": 22,
     "metadata": {},
     "output_type": "execute_result"
    }
   ],
   "source": [
    "Text(\"Mees oli surnud.\", disambiguate = False).postags"
   ]
  },
  {
   "cell_type": "markdown",
   "metadata": {},
   "source": [
    "Pärisnimede pakkuja väljalülitamisel (`propername = False`) kaovad ära pärisnimetõlgendused:"
   ]
  },
  {
   "cell_type": "code",
   "execution_count": 23,
   "metadata": {},
   "outputs": [
    {
     "data": {
      "text/plain": [
       "['kapten', 'trumm', 'tasu|tasuma', 'arv|arve']"
      ]
     },
     "execution_count": 23,
     "metadata": {},
     "output_type": "execute_result"
    }
   ],
   "source": [
    "Text(\"Kapten Trumm tasus arve\", propername = False, disambiguate = False).lemmas"
   ]
  },
  {
   "cell_type": "code",
   "execution_count": 24,
   "metadata": {},
   "outputs": [
    {
     "data": {
      "text/plain": [
       "['S', 'S', 'S|V', 'S']"
      ]
     },
     "execution_count": 24,
     "metadata": {},
     "output_type": "execute_result"
    }
   ],
   "source": [
    "Text(\"Kapten Trumm tasus arve\", propername = False, disambiguate = False).postags"
   ]
  },
  {
   "cell_type": "markdown",
   "metadata": {},
   "source": [
    "Ning oletaja väljalülitamisel (`guess = False`) jäävad analüsaatori jaoks tundmatutele sõnadele analüüsid määramata:"
   ]
  },
  {
   "cell_type": "code",
   "execution_count": 25,
   "metadata": {},
   "outputs": [
    {
     "data": {
      "text/plain": [
       "['tüdruk', 'minema', None, None]"
      ]
     },
     "execution_count": 25,
     "metadata": {},
     "output_type": "execute_result"
    }
   ],
   "source": [
    "Text(\"Tüdrukud läksid poodelungile.\", guess = False, disambiguate = False, propername = False).lemmas"
   ]
  },
  {
   "cell_type": "code",
   "execution_count": 26,
   "metadata": {},
   "outputs": [
    {
     "data": {
      "text/plain": [
       "['S', 'V', None, None]"
      ]
     },
     "execution_count": 26,
     "metadata": {},
     "output_type": "execute_result"
    }
   ],
   "source": [
    "Text(\"Tüdrukud läksid poodelungile.\", guess = False, disambiguate = False, propername = False).postags"
   ]
  },
  {
   "cell_type": "markdown",
   "metadata": {},
   "source": [
    "**NB!** Kui oletamine on välja lülitatud, jäävad analüüsid määramata ka kirjavahemärkidele. Seetõttu ongi eelmises näites kaks `None` analüüsi: üks sõna 'poodelungile' kohta ja teine '.' kohta."
   ]
  },
  {
   "cell_type": "markdown",
   "metadata": {},
   "source": [
    "**NB!** Oletamise väljalülitamine toimib ainult siis, kui ka ühestamine ja pärisnimede analüüs on välja lülitatud, sest ühestaja suudab ühestada vaid teksti, kus igal sõnal on analüüs olemas. Kui oletamine on välja lülitatud, aga teised parameetrid mitte, siis ignoreeritakse ka oletamise väljalülitamist."
   ]
  },
  {
   "cell_type": "markdown",
   "metadata": {},
   "source": [
    "### Ülesanne 2.  Morfoloogilise analüüsi katsetamine (1p)\n",
    "\n",
    "Leidke praktikumi materjalide hulgast fail *parasiitlusest.txt*. Lugege fail sisse, konverteerige *Text* objektiks ning teostage morfoloogiline analüüs. Täiendage oma koodi nii, et saaks vastata järgmistele küsimustele:\n",
    "\n",
    "A. Kui suur on dokumendi sõnavara (ehk unikaalsete tekstisõnede arv) ilma lemmatiseerimata?\n",
    "\n",
    "B. Kui suur on dokumendi sõnavara lemmatiseeritult?\n",
    "\n",
    "C. Mitu % sõnadest jääb mitmeseks (on mitu analüüsi) koos morfoloogilise ühestamisega?\n",
    "\n",
    "D. Mitu % sõnadest jääb mitmeseks ilma morfoloogilise ühestamiseta?"
   ]
  },
  {
   "cell_type": "markdown",
   "metadata": {},
   "source": [
    "**Vihjed:**\n",
    "* Teksti kodeeringuks on utf-8"
   ]
  },
  {
   "cell_type": "markdown",
   "metadata": {},
   "source": [
    "###  Õigekirjakontroll"
   ]
  },
  {
   "cell_type": "markdown",
   "metadata": {},
   "source": [
    "EstNLTK-s on olemas tööriist õigekirjakontrolli jaoks, mida saab kasutada järgmiselt:"
   ]
  },
  {
   "cell_type": "code",
   "execution_count": 27,
   "metadata": {
    "collapsed": true
   },
   "outputs": [],
   "source": [
    "text = Text(\"Ma tahax minna järve äärde ja püda hauge, katikaid ja karpe.\")"
   ]
  },
  {
   "cell_type": "code",
   "execution_count": 28,
   "metadata": {},
   "outputs": [
    {
     "data": {
      "text/plain": [
       "{'text': 'Ma tahaks minna järve äärde ja püüda hauge, kaikaid ja karpe.'}"
      ]
     },
     "execution_count": 28,
     "metadata": {},
     "output_type": "execute_result"
    }
   ],
   "source": [
    "text.fix_spelling()"
   ]
  },
  {
   "cell_type": "markdown",
   "metadata": {},
   "source": [
    "Nagu näha, siis algses lauses on kolmest veast 2 korrektselt ära parandatud, kolmas aga mitte. Kui vaatame, milliseid sõnu asenduseks soovitatakse, siis näeme, et \"katikaid\" puhul on neli võimalust, korrektor valib aga esimese."
   ]
  },
  {
   "cell_type": "code",
   "execution_count": null,
   "metadata": {
    "scrolled": true
   },
   "outputs": [
    {
     "data": {
      "text/html": [
       "<div>\n",
       "<style scoped>\n",
       "    .dataframe tbody tr th:only-of-type {\n",
       "        vertical-align: middle;\n",
       "    }\n",
       "\n",
       "    .dataframe tbody tr th {\n",
       "        vertical-align: top;\n",
       "    }\n",
       "\n",
       "    .dataframe thead th {\n",
       "        text-align: right;\n",
       "    }\n",
       "</style>\n",
       "<table border=\"1\" class=\"dataframe\">\n",
       "  <thead>\n",
       "    <tr style=\"text-align: right;\">\n",
       "      <th></th>\n",
       "      <th>word_texts</th>\n",
       "      <th>spelling</th>\n",
       "      <th>spelling_suggestions</th>\n",
       "    </tr>\n",
       "  </thead>\n",
       "  <tbody>\n",
       "    <tr>\n",
       "      <th>0</th>\n",
       "      <td>Ma</td>\n",
       "      <td>True</td>\n",
       "      <td>[]</td>\n",
       "    </tr>\n",
       "    <tr>\n",
       "      <th>1</th>\n",
       "      <td>tahax</td>\n",
       "      <td>False</td>\n",
       "      <td>[tahaks, taha, tahad]</td>\n",
       "    </tr>\n",
       "    <tr>\n",
       "      <th>2</th>\n",
       "      <td>minna</td>\n",
       "      <td>True</td>\n",
       "      <td>[]</td>\n",
       "    </tr>\n",
       "    <tr>\n",
       "      <th>3</th>\n",
       "      <td>järve</td>\n",
       "      <td>True</td>\n",
       "      <td>[]</td>\n",
       "    </tr>\n",
       "    <tr>\n",
       "      <th>4</th>\n",
       "      <td>äärde</td>\n",
       "      <td>True</td>\n",
       "      <td>[]</td>\n",
       "    </tr>\n",
       "    <tr>\n",
       "      <th>5</th>\n",
       "      <td>ja</td>\n",
       "      <td>True</td>\n",
       "      <td>[]</td>\n",
       "    </tr>\n",
       "    <tr>\n",
       "      <th>6</th>\n",
       "      <td>püda</td>\n",
       "      <td>False</td>\n",
       "      <td>[püüda]</td>\n",
       "    </tr>\n",
       "    <tr>\n",
       "      <th>7</th>\n",
       "      <td>hauge</td>\n",
       "      <td>True</td>\n",
       "      <td>[]</td>\n",
       "    </tr>\n",
       "    <tr>\n",
       "      <th>8</th>\n",
       "      <td>,</td>\n",
       "      <td>True</td>\n",
       "      <td>[]</td>\n",
       "    </tr>\n",
       "    <tr>\n",
       "      <th>9</th>\n",
       "      <td>katikaid</td>\n",
       "      <td>False</td>\n",
       "      <td>[kaikaid, latikaid, karikaid, katikaiad]</td>\n",
       "    </tr>\n",
       "    <tr>\n",
       "      <th>10</th>\n",
       "      <td>ja</td>\n",
       "      <td>True</td>\n",
       "      <td>[]</td>\n",
       "    </tr>\n",
       "    <tr>\n",
       "      <th>11</th>\n",
       "      <td>karpe</td>\n",
       "      <td>True</td>\n",
       "      <td>[]</td>\n",
       "    </tr>\n",
       "    <tr>\n",
       "      <th>12</th>\n",
       "      <td>.</td>\n",
       "      <td>True</td>\n",
       "      <td>[]</td>\n",
       "    </tr>\n",
       "  </tbody>\n",
       "</table>\n",
       "</div>"
      ],
      "text/plain": [
       "   word_texts  spelling                      spelling_suggestions\n",
       "0          Ma      True                                        []\n",
       "1       tahax     False                     [tahaks, taha, tahad]\n",
       "2       minna      True                                        []\n",
       "3       järve      True                                        []\n",
       "4       äärde      True                                        []\n",
       "5          ja      True                                        []\n",
       "6        püda     False                                   [püüda]\n",
       "7       hauge      True                                        []\n",
       "8           ,      True                                        []\n",
       "9    katikaid     False  [kaikaid, latikaid, karikaid, katikaiad]\n",
       "10         ja      True                                        []\n",
       "11      karpe      True                                        []\n",
       "12          .      True                                        []"
      ]
     },
     "execution_count": 29,
     "metadata": {},
     "output_type": "execute_result"
    }
   ],
   "source": [
    "text.get.word_texts.spelling.spelling_suggestions.as_dataframe"
   ]
  },
  {
   "cell_type": "markdown",
   "metadata": {},
   "source": [
    "### Ülesanne 3. Parandame vead (2p)"
   ]
  },
  {
   "cell_type": "markdown",
   "metadata": {},
   "source": [
    "Kasutades EstNLTK õigekirjakontrolli võimalust, kirjutage kood, mis aitab parandada kirjavigu ning laseb kasutajal tehtavate asenduste osas kaasa rääkida. Selleks peaks kood sisendiks saama teksti ning kuvama kasutajale järjest lauseid, milles esineb õigekirjakontrollija meelest ebakorrektseid sõnu. Koos lausega võiks kuvada ka, millises sõnas probleem täpselt esineb.\n",
    "* Kui EstNLTK-l soovitusi ei ole, paluge kasutajal õige variant sisestada. Tühja sisestuse korral jäetakse sõna algsele kujule, kui kasutaja pakub oma variandi, asendatakse sõna lauses sellega;\n",
    "* Kui vigase sõna asemel on üks soovitus, siis asendatakse sõna sellega, lause ja asendus kuvatakse kasutajale sellegipoolest;\n",
    "* Kui soovitusi on mitu, kuvatakse kasutajale lause ning variandid koos järjekorranumbriga ning küsitakse kasutaja sisendit, mitmes variant valida asenduseks. Arvestage, et erinevalt Pythonist eelistavad inimesed nummerdamist üldjuhul alates 1-st; \n",
    "* Programmi töö lõppedes väljastage kasutajale tema parandatud tekst tervikuna;\n",
    "\n",
    "Vihjeid:\n",
    "* [input()](https://docs.python.org/3/library/functions.html#input) kasutaja sisendi küsimiseks \n",
    "* [spellcheck_results](https://estnltk.github.io/estnltk/1.4.1/tutorials/text.html#correcting-spelling) klassimuutuja annab nii korrektsushinnangu kui sõnasoovitused"
   ]
  },
  {
   "cell_type": "code",
   "execution_count": null,
   "metadata": {},
   "outputs": [],
   "source": [
    "name = input(\"Mis su nimi on? \")\n",
    "print(\"Tere, \" + name + \"!\")"
   ]
  },
  {
   "cell_type": "markdown",
   "metadata": {},
   "source": [
    "### Sõnapilved"
   ]
  },
  {
   "cell_type": "markdown",
   "metadata": {},
   "source": [
    "Sõnapilv on populaarne tekstiliste andmete esitamise viis. Kõige lihtsam on muidugi tükeldada tekst sõnadeks ning visualiseerida kõige sagedasemad sõnad. Paraku ei pruugi see olla väga informatiivne.\n",
    "\n",
    "Siin on näiteks toodud ühe teatrietenduse arvustuse pealt genereeritud sõnapilv. Nagu näha, on enim esindatud asesõnad sidesõnad ja määrsõnad, mis eriti informatiivsed ei ole."
   ]
  },
  {
   "cell_type": "markdown",
   "metadata": {},
   "source": [
    "![title](wordcloud7.png)"
   ]
  },
  {
   "cell_type": "markdown",
   "metadata": {},
   "source": [
    "### Ülesanne 4. Sõnapilv (1,5p)"
   ]
  },
  {
   "cell_type": "markdown",
   "metadata": {},
   "source": [
    "Kaustas *teatriarvustused2* on toodud üheksa arvustust ühe teatrietenduse kohta. Koostage kaustas olevate tekstide põhjal informatiivsem sõnapilv. Kuna arvustuste puhul on huvitavad peamiselt kirjutajate poolt antud hinnangud, siis parema sõnapilve koostamiseks:\n",
    "* lemmatiseerige tekstid\n",
    "* kasutage sõnapilves ainult omadussõnu\n",
    "* valige mõistlik hulk sõnu, mida visualiseerida - eeldatavasti sagedasemad, samas võib kasutada stoppsõnade loendit, et jätta välja sõnu, mis ei ole informatiivsed\n",
    "* Ühestamata jäänud (püstkriipsuga eraldatud) lemmad sõnapilves ('jääma|jäänud' jms) esineda ei tohiks"
   ]
  },
  {
   "cell_type": "markdown",
   "metadata": {},
   "source": [
    "**Vihjeid:**\n",
    "\n",
    "* Tekstide kodeeringuks on utf-8\n",
    "\n",
    "* Sõnapilve genereerimisel on abiks https://github.com/amueller/word_cloud teek. Kasutamiseks tuleb see installida praktikumiülesannete lahendamiseks kasutatavasse conda keskkonda käsuga\n",
    "\n",
    "    `conda install -c conda-forge wordcloud`\n",
    "    \n",
    "\n",
    "* Sõnapilve visualiseerimiseks vajame ka matplotlib'i, mille saab installida käsuga\n",
    "\n",
    "    `conda install matplotlib`\n",
    "    "
   ]
  },
  {
   "cell_type": "markdown",
   "metadata": {},
   "source": [
    "Ülaltoodud sõnapilv on genereeritud järgneva koodi abil:"
   ]
  },
  {
   "cell_type": "code",
   "execution_count": 1,
   "metadata": {},
   "outputs": [],
   "source": [
    "from wordcloud import WordCloud\n",
    "import matplotlib.pyplot as plt"
   ]
  },
  {
   "cell_type": "code",
   "execution_count": 2,
   "metadata": {},
   "outputs": [],
   "source": [
    "with open(\"teatriarvustused2/arvustus8.txt\", \"r\", encoding = 'utf-8') as fin:\n",
    "    text = fin.read()"
   ]
  },
  {
   "cell_type": "code",
   "execution_count": 3,
   "metadata": {},
   "outputs": [
    {
     "data": {
      "image/png": "[encoded data removed]",
      "text/plain": [
       "<Figure size 432x288 with 1 Axes>"
      ]
     },
     "metadata": {
      "needs_background": "light"
     },
     "output_type": "display_data"
    }
   ],
   "source": [
    "wordcloud = WordCloud(max_font_size = 160, max_words = 30, width = 500, height = 300, background_color = 'white').generate(text)\n",
    "fig = plt.figure()\n",
    "plt.imshow(wordcloud, interpolation = 'bilinear')\n",
    "plt.axis(\"off\")\n",
    "plt.show()"
   ]
  },
  {
   "cell_type": "markdown",
   "metadata": {},
   "source": [
    "### Boonusülesanne.  (1p)"
   ]
  },
  {
   "cell_type": "markdown",
   "metadata": {},
   "source": [
    "Vaadake Postimehe koostatud sõnapilve presidendi vabariigi aastapäeva kõne teksti pealt (pärit [siit](http://arvamus.postimees.ee/4027843/sonapilv-keda-voi-mida-mainis-kaljulaid-oma-kones-koige-enam)). Mõelge, mil moel saaks automaatse tekstitöötluse abil tulemust parandada. Genereerige uus ja parem sõnapilv (kõne teksti leiate failist *presidendi_tekst.txt*), mis oleks samuti Eesti kujuga. Näidis [siin.](https://github.com/amueller/word_cloud/blob/master/examples/masked.py)"
   ]
  },
  {
   "cell_type": "markdown",
   "metadata": {},
   "source": [
    "![title](presidendipilv.png)"
   ]
  }
 ],
 "metadata": {
  "anaconda-cloud": {},
  "kernelspec": {
   "display_name": "Python 3",
   "language": "python",
   "name": "python3"
  },
  "language_info": {
   "codemirror_mode": {
    "name": "ipython",
    "version": 3
   },
   "file_extension": ".py",
   "mimetype": "text/x-python",
   "name": "python",
   "nbconvert_exporter": "python",
   "pygments_lexer": "ipython3",
   "version": "3.5.3"
  }
 },
 "nbformat": 4,
 "nbformat_minor": 1
}
