{
 "cells": [
  {
   "cell_type": "markdown",
   "metadata": {},
   "source": [
    "<h1 style=\"color:blue\">Praktikum 2. EstNLTK</h1>\n",
    "<h3 style=\"color:blue\">Teksti segmenteerimine, morfoloogiline analüüs, õigekirjakontroll. Sõnapilved</h3>"
   ]
  },
  {
   "cell_type": "markdown",
   "metadata": {},
   "source": [
    "Tänases praktikumis teeme lähemalt tutvust eesti keele töötlemiseks mõeldud Pythoni teegiga [EstNLTK](https://github.com/estnltk/estnltk). \n",
    "Alustame kõige põhilisemast: teksti segmenteerimine sõnadeks ja lauseteks ning morfoloogilise analüüsi teostamine. \n",
    "Need sammud on vajalikud enamiku keeletöötlusülesannete lahendamisel: kui suudame tekstist kätte saada laused ja sõnad, ning filtreerida neid lemmade, sõnaliikide ja morfoloogilise info järgi, saame ka otsida sõna esinemisi sõnavormist (käändest/pöördest) sõltumata, luua sõnade/lemmade sagedusloendeid ning visualiseerida neid näiteks sõnapilvede abil. \n",
    "Morfoloogilise analüüsi alusel saab ka tuvastada õigekirjavigu, mida on võimalik spelleri abil parandada."
   ]
  },
  {
   "cell_type": "markdown",
   "metadata": {},
   "source": [
    "**NB!** Edasine osa juhendist eeldab, et EstNLTK versioon 1.7 on installitud keskkonda, milles käesolev _notebook_ käivitatud on. Kui selline keskkond on veel loomata või ei mäleta, kuidas aktiveerida jms, siis tasub vaadata 1. praktikumi PDF-juhendit. Kui tekib probleeme, küsige julgelt abi: EstNLTK töölesaamine on oluline, kuna seda läheb vaja lisaks tänasele ka kõigis järgmistes praktikumides."
   ]
  },
  {
   "cell_type": "markdown",
   "metadata": {},
   "source": [
    "### Text objekti loomine"
   ]
  },
  {
   "cell_type": "markdown",
   "metadata": {},
   "source": [
    "EstNLTK olulisimaks klassiks on Text. See sisaldab analüüsitavat teksti, teksti metaandmeid ning analüüsi käigus loodavaid lingvistilisi märgenduskihte. Selle kasutamiseks peame vastava klassi importima:"
   ]
  },
  {
   "cell_type": "code",
   "execution_count": 1,
   "metadata": {},
   "outputs": [],
   "source": [
    "from estnltk import Text"
   ]
  },
  {
   "cell_type": "markdown",
   "metadata": {},
   "source": [
    "Et oma teksti töötlema hakata, peame sellest tegema Text klassi objekti:"
   ]
  },
  {
   "cell_type": "code",
   "execution_count": 2,
   "metadata": {},
   "outputs": [],
   "source": [
    "my_sentences = \"Mees peeti kinni ja viidi Tartu vanglasse. Sinna pidi ta jääma kolmeks kuuks.\""
   ]
  },
  {
   "cell_type": "code",
   "execution_count": 3,
   "metadata": {},
   "outputs": [],
   "source": [
    "# Teeme oma teksti Text objektiks\n",
    "text = Text(my_sentences)"
   ]
  },
  {
   "cell_type": "code",
   "execution_count": 4,
   "metadata": {},
   "outputs": [
    {
     "data": {
      "text/html": [
       "<table border=\"1\" class=\"dataframe\">\n",
       "  <thead>\n",
       "    <tr style=\"text-align: right;\">\n",
       "      <th>text</th>\n",
       "    </tr>\n",
       "  </thead>\n",
       "  <tbody>\n",
       "    <tr>\n",
       "      <td><div align = \"left\">Mees peeti kinni ja viidi Tartu vanglasse. Sinna pidi ta jääma kolmeks kuuks.</div></td>\n",
       "    </tr>\n",
       "  </tbody>\n",
       "</table>"
      ],
      "text/plain": [
       "Text(text='Mees peeti kinni ja viidi Tartu vanglasse. Sinna pidi ta jääma kolmeks kuuks.')"
      ]
     },
     "execution_count": 4,
     "metadata": {},
     "output_type": "execute_result"
    }
   ],
   "source": [
    "text"
   ]
  },
  {
   "cell_type": "markdown",
   "metadata": {},
   "source": [
    "Atribuudi text kaudu saab algse teksti uuesti sõnena kätte:"
   ]
  },
  {
   "cell_type": "code",
   "execution_count": 5,
   "metadata": {},
   "outputs": [
    {
     "data": {
      "text/plain": [
       "'Mees peeti kinni ja viidi Tartu vanglasse. Sinna pidi ta jääma kolmeks kuuks.'"
      ]
     },
     "execution_count": 5,
     "metadata": {},
     "output_type": "execute_result"
    }
   ],
   "source": [
    "text.text"
   ]
  },
  {
   "cell_type": "markdown",
   "metadata": {},
   "source": [
    "### Märgenduskihtide loomine Text objektile"
   ]
  },
  {
   "cell_type": "markdown",
   "metadata": {},
   "source": [
    "Meetodi tag_layer() abil lisatakse Text-ile märgenduskihid, rakendades selleks EstNLTK tööahelas olevaid märgendajaid. Kui tag_layer() kutsutakse välja ilma kihte täpsustava sisendargumendita, siis teostatakse standardne analüüsitöövoog, mis hõlmab teksti segmenteerimist - jagamist lauseteks ja sõnadeks - ning morfoloogilist analüüsi ja ühestamist."
   ]
  },
  {
   "cell_type": "markdown",
   "metadata": {},
   "source": [
    "### Teksti segmenteerimine"
   ]
  },
  {
   "cell_type": "markdown",
   "metadata": {},
   "source": [
    "Keeleandmete analüüsimiseks on esmalt vaja tekst tükeldada -- jagada lauseteks ja sõnadeks. \n",
    "Esmapilgul võib see tunduda ehk lihtne ülesanne, mille lahendamiseks piisaks standardteegi [_split()_](https://docs.python.org/3.5/library/stdtypes.html#str.split) meetodist.\n",
    "Aga kui uurida tühikute ja punktuatsiooni kasutust tekstides detailsemalt, võib märgata üksjagu juhte, kus lihtne _split()_ rakendamine ei tööta.\n",
    "Näiteks lauses\n",
    "\n",
    "    Rattaralli toimub 29. mail 2016 ning selle stardi- ja finišipaik on Tartu kesklinnas, Turu tänaval.\n",
    "  \n",
    "on küll kaks punkti, aga ainult viimane tähistab lauselõppu -- **lausestaja** peab kuidagi aru saama, et kuupäeva järel olev punkt pole lauselõpp.\n",
    "\n",
    "Ka teksti sõnedeks jagaja ehk **sõnestaja** peab olema kavalam kui tavaline *split()* : lisaks sõnade eraldamisele tühikute järgi tuleb ka punktuatsioonisümbolid sõnadest lahku tõsta: see on vajalik nii kõige lihtsamal sõnaotsingul, sõnade loendamisel kui ka edasisel automaattöötlemisel. Lisaks tuleb tegeleda probleemidega, kus sõnad on kogemata kokku kirjutatud, näiteks tekstis\n",
    "    \n",
    "    Iga päev teeme valikuid.Valime kõike alates pesupulbrist ja lõpetades poliitikutega. \n",
    "\n",
    "tuleb tuvastada, et `valikuid.Valime` ei ole mitte tavaline sõna, vaid seal on tarvis kaks \"kokku kleebitud\" sõna lahku tõsta."
   ]
  },
  {
   "cell_type": "markdown",
   "metadata": {},
   "source": [
    "Sedalaadi teksti segmenteerimise probleemidega tegeleb EstNLTK meie eest. \n",
    "Seega võime teksti lihtsalt failist sisse lugeda, konverteerida Text objektiks, märgendada peale vastavad kihid ning seejärel küsida lauseid ja sõnu."
   ]
  },
  {
   "cell_type": "markdown",
   "metadata": {},
   "source": [
    "EstNLTK-s on kaks viisi Text objektilt märgenduskihi küsimiseks:\n",
    "\n",
    "* indeksi (sõne) järgi: text['words']\n",
    "* atribuudi järgi: text.words\n",
    "\n",
    "Tulemuste poolest on mõlemad viisid võrdsed: tagastatakse Layer objekt, mis on sisuliselt järjend märgendustest."
   ]
  },
  {
   "cell_type": "markdown",
   "metadata": {},
   "source": [
    "Tekstile märgendab vastavad kihid peale tag_layer() meetod. Kui vaatame tag_layer() meetodi poolt vaikimisi peale märgitud kihte, näeme, et neid on 5: sentences (laused), tokens (sõned), compound_tokens (liitsõned), words (sõnad), morph_analysis (morfoloogiline analüüs)."
   ]
  },
  {
   "cell_type": "code",
   "execution_count": 6,
   "metadata": {
    "scrolled": true
   },
   "outputs": [
    {
     "data": {
      "text/html": [
       "<table border=\"1\" class=\"dataframe\">\n",
       "  <thead>\n",
       "    <tr style=\"text-align: right;\">\n",
       "      <th>text</th>\n",
       "    </tr>\n",
       "  </thead>\n",
       "  <tbody>\n",
       "    <tr>\n",
       "      <td><div align = \"left\">Mees peeti kinni ja viidi Tartu vanglasse. Sinna pidi ta jääma kolmeks kuuks.</div></td>\n",
       "    </tr>\n",
       "  </tbody>\n",
       "</table>\n",
       "<table border=\"1\" class=\"dataframe\">\n",
       "  <thead>\n",
       "    <tr style=\"text-align: right;\">\n",
       "      <th>layer name</th>\n",
       "      <th>attributes</th>\n",
       "      <th>parent</th>\n",
       "      <th>enveloping</th>\n",
       "      <th>ambiguous</th>\n",
       "      <th>span count</th>\n",
       "    </tr>\n",
       "  </thead>\n",
       "  <tbody>\n",
       "    <tr>\n",
       "      <td>sentences</td>\n",
       "      <td></td>\n",
       "      <td>None</td>\n",
       "      <td>words</td>\n",
       "      <td>False</td>\n",
       "      <td>2</td>\n",
       "    </tr>\n",
       "    <tr>\n",
       "      <td>tokens</td>\n",
       "      <td></td>\n",
       "      <td>None</td>\n",
       "      <td>None</td>\n",
       "      <td>False</td>\n",
       "      <td>15</td>\n",
       "    </tr>\n",
       "    <tr>\n",
       "      <td>compound_tokens</td>\n",
       "      <td>type, normalized</td>\n",
       "      <td>None</td>\n",
       "      <td>tokens</td>\n",
       "      <td>False</td>\n",
       "      <td>0</td>\n",
       "    </tr>\n",
       "    <tr>\n",
       "      <td>words</td>\n",
       "      <td>normalized_form</td>\n",
       "      <td>None</td>\n",
       "      <td>None</td>\n",
       "      <td>True</td>\n",
       "      <td>15</td>\n",
       "    </tr>\n",
       "    <tr>\n",
       "      <td>morph_analysis</td>\n",
       "      <td>normalized_text, lemma, root, root_tokens, ending, clitic, form, partofspeech</td>\n",
       "      <td>words</td>\n",
       "      <td>None</td>\n",
       "      <td>True</td>\n",
       "      <td>15</td>\n",
       "    </tr>\n",
       "  </tbody>\n",
       "</table>"
      ],
      "text/plain": [
       "Text(text='Mees peeti kinni ja viidi Tartu vanglasse. Sinna pidi ta jääma kolmeks kuuks.')"
      ]
     },
     "execution_count": 6,
     "metadata": {},
     "output_type": "execute_result"
    }
   ],
   "source": [
    "text.tag_layer()"
   ]
  },
  {
   "cell_type": "markdown",
   "metadata": {},
   "source": [
    "Standardkihtide märgendamine toimub järgmises järjekorras:\n",
    "1. tokens\n",
    "2. compound_tokens\n",
    "3. words\n",
    "4. sentences\n",
    "5. morph_analysis\n",
    "\n",
    "Sõnede ehk token'ite kiht on kasutusel selleks, et eristada korrektselt märgendatud sõnu (loeme siin sõnadeks ka kirjavahemärgid, lühendid, meiliaadressid jm) tekstis tühikutega eraldatud üksusest. Enamasti sõnad ja sõned kattuvad, kuid teatud juhtudel ühendatakse mitu sõnet kokku üheks sõnaks, mis tuleb välja kihist compound_tokens (liitsõned). Näeme, et eelmises näites oli sõnade ja sõnede arv sama ning compound_tokens kiht tühi. Järgmises näites aga näeme, et sõnade ja sõnede arvud erinevad:"
   ]
  },
  {
   "cell_type": "code",
   "execution_count": 7,
   "metadata": {},
   "outputs": [
    {
     "data": {
      "text/html": [
       "<table border=\"1\" class=\"dataframe\">\n",
       "  <thead>\n",
       "    <tr style=\"text-align: right;\">\n",
       "      <th>text</th>\n",
       "    </tr>\n",
       "  </thead>\n",
       "  <tbody>\n",
       "    <tr>\n",
       "      <td><div align = \"left\">Festivalil osales üle 30 000 muusikahuvilise.</div></td>\n",
       "    </tr>\n",
       "  </tbody>\n",
       "</table>\n",
       "<table border=\"1\" class=\"dataframe\">\n",
       "  <thead>\n",
       "    <tr style=\"text-align: right;\">\n",
       "      <th>layer name</th>\n",
       "      <th>attributes</th>\n",
       "      <th>parent</th>\n",
       "      <th>enveloping</th>\n",
       "      <th>ambiguous</th>\n",
       "      <th>span count</th>\n",
       "    </tr>\n",
       "  </thead>\n",
       "  <tbody>\n",
       "    <tr>\n",
       "      <td>sentences</td>\n",
       "      <td></td>\n",
       "      <td>None</td>\n",
       "      <td>words</td>\n",
       "      <td>False</td>\n",
       "      <td>1</td>\n",
       "    </tr>\n",
       "    <tr>\n",
       "      <td>tokens</td>\n",
       "      <td></td>\n",
       "      <td>None</td>\n",
       "      <td>None</td>\n",
       "      <td>False</td>\n",
       "      <td>7</td>\n",
       "    </tr>\n",
       "    <tr>\n",
       "      <td>compound_tokens</td>\n",
       "      <td>type, normalized</td>\n",
       "      <td>None</td>\n",
       "      <td>tokens</td>\n",
       "      <td>False</td>\n",
       "      <td>1</td>\n",
       "    </tr>\n",
       "    <tr>\n",
       "      <td>words</td>\n",
       "      <td>normalized_form</td>\n",
       "      <td>None</td>\n",
       "      <td>None</td>\n",
       "      <td>True</td>\n",
       "      <td>6</td>\n",
       "    </tr>\n",
       "    <tr>\n",
       "      <td>morph_analysis</td>\n",
       "      <td>normalized_text, lemma, root, root_tokens, ending, clitic, form, partofspeech</td>\n",
       "      <td>words</td>\n",
       "      <td>None</td>\n",
       "      <td>True</td>\n",
       "      <td>6</td>\n",
       "    </tr>\n",
       "  </tbody>\n",
       "</table>"
      ],
      "text/plain": [
       "Text(text='Festivalil osales üle 30 000 muusikahuvilise.')"
      ]
     },
     "execution_count": 7,
     "metadata": {},
     "output_type": "execute_result"
    }
   ],
   "source": [
    "text2 = Text(\"Festivalil osales üle 30 000 muusikahuvilise.\").tag_layer()\n",
    "text2"
   ]
  },
  {
   "cell_type": "code",
   "execution_count": 8,
   "metadata": {},
   "outputs": [
    {
     "data": {
      "text/html": [
       "<h4>Layer</h4>\n",
       "\n",
       "\n",
       "<table border=\"1\" class=\"dataframe\">\n",
       "  <thead>\n",
       "    <tr style=\"text-align: right;\">\n",
       "      <th>layer name</th>\n",
       "      <th>attributes</th>\n",
       "      <th>parent</th>\n",
       "      <th>enveloping</th>\n",
       "      <th>ambiguous</th>\n",
       "      <th>span count</th>\n",
       "    </tr>\n",
       "  </thead>\n",
       "  <tbody>\n",
       "    <tr>\n",
       "      <td>tokens</td>\n",
       "      <td></td>\n",
       "      <td>None</td>\n",
       "      <td>None</td>\n",
       "      <td>False</td>\n",
       "      <td>7</td>\n",
       "    </tr>\n",
       "  </tbody>\n",
       "</table>\n",
       "<table border=\"1\" class=\"dataframe\">\n",
       "  <thead>\n",
       "    <tr style=\"text-align: right;\">\n",
       "      <th>text</th>\n",
       "    </tr>\n",
       "  </thead>\n",
       "  <tbody>\n",
       "    <tr>\n",
       "      <td>Festivalil</td>\n",
       "    </tr>\n",
       "    <tr>\n",
       "      <td>osales</td>\n",
       "    </tr>\n",
       "    <tr>\n",
       "      <td>üle</td>\n",
       "    </tr>\n",
       "    <tr>\n",
       "      <td>30</td>\n",
       "    </tr>\n",
       "    <tr>\n",
       "      <td>000</td>\n",
       "    </tr>\n",
       "    <tr>\n",
       "      <td>muusikahuvilise</td>\n",
       "    </tr>\n",
       "    <tr>\n",
       "      <td>.</td>\n",
       "    </tr>\n",
       "  </tbody>\n",
       "</table>"
      ],
      "text/plain": [
       "Layer(name='tokens', attributes=(), spans=SL[Span('Festivalil', [{}]),\n",
       "Span('osales', [{}]),\n",
       "Span('üle', [{}]),\n",
       "Span('30', [{}]),\n",
       "Span('000', [{}]),\n",
       "Span('muusikahuvilise', [{}]),\n",
       "Span('.', [{}])])"
      ]
     },
     "execution_count": 8,
     "metadata": {},
     "output_type": "execute_result"
    }
   ],
   "source": [
    "# Tekstis esinevad sõned e tühikutega eraldatud üksused\n",
    "text2.tokens"
   ]
  },
  {
   "cell_type": "code",
   "execution_count": 9,
   "metadata": {},
   "outputs": [
    {
     "data": {
      "text/html": [
       "<h4>Layer</h4>\n",
       "\n",
       "\n",
       "<table border=\"1\" class=\"dataframe\">\n",
       "  <thead>\n",
       "    <tr style=\"text-align: right;\">\n",
       "      <th>layer name</th>\n",
       "      <th>attributes</th>\n",
       "      <th>parent</th>\n",
       "      <th>enveloping</th>\n",
       "      <th>ambiguous</th>\n",
       "      <th>span count</th>\n",
       "    </tr>\n",
       "  </thead>\n",
       "  <tbody>\n",
       "    <tr>\n",
       "      <td>compound_tokens</td>\n",
       "      <td>type, normalized</td>\n",
       "      <td>None</td>\n",
       "      <td>tokens</td>\n",
       "      <td>False</td>\n",
       "      <td>1</td>\n",
       "    </tr>\n",
       "  </tbody>\n",
       "</table>\n",
       "<table border=\"1\" class=\"dataframe\">\n",
       "  <thead>\n",
       "    <tr style=\"text-align: right;\">\n",
       "      <th>text</th>\n",
       "      <th>type</th>\n",
       "      <th>normalized</th>\n",
       "    </tr>\n",
       "  </thead>\n",
       "  <tbody>\n",
       "    <tr>\n",
       "      <td>['30', '000']</td>\n",
       "      <td>['numeric']</td>\n",
       "      <td>30000</td>\n",
       "    </tr>\n",
       "  </tbody>\n",
       "</table>"
      ],
      "text/plain": [
       "Layer(name='compound_tokens', attributes=('type', 'normalized'), spans=SL[EnvelopingSpan(['30', '000'], [{'type': ['numeric'], 'normalized': '30000'}])])"
      ]
     },
     "execution_count": 9,
     "metadata": {},
     "output_type": "execute_result"
    }
   ],
   "source": [
    "# Liitsõned e omavahel kokku ühendatud sõned\n",
    "text2.compound_tokens"
   ]
  },
  {
   "cell_type": "code",
   "execution_count": 10,
   "metadata": {},
   "outputs": [
    {
     "data": {
      "text/html": [
       "<h4>Layer</h4>\n",
       "\n",
       "\n",
       "<table border=\"1\" class=\"dataframe\">\n",
       "  <thead>\n",
       "    <tr style=\"text-align: right;\">\n",
       "      <th>layer name</th>\n",
       "      <th>attributes</th>\n",
       "      <th>parent</th>\n",
       "      <th>enveloping</th>\n",
       "      <th>ambiguous</th>\n",
       "      <th>span count</th>\n",
       "    </tr>\n",
       "  </thead>\n",
       "  <tbody>\n",
       "    <tr>\n",
       "      <td>words</td>\n",
       "      <td>normalized_form</td>\n",
       "      <td>None</td>\n",
       "      <td>None</td>\n",
       "      <td>True</td>\n",
       "      <td>6</td>\n",
       "    </tr>\n",
       "  </tbody>\n",
       "</table>\n",
       "<table border=\"1\" class=\"dataframe\">\n",
       "  <thead>\n",
       "    <tr style=\"text-align: right;\">\n",
       "      <th>text</th>\n",
       "      <th>normalized_form</th>\n",
       "    </tr>\n",
       "  </thead>\n",
       "  <tbody>\n",
       "    <tr>\n",
       "      <td>Festivalil</td>\n",
       "      <td>None</td>\n",
       "    </tr>\n",
       "    <tr>\n",
       "      <td>osales</td>\n",
       "      <td>None</td>\n",
       "    </tr>\n",
       "    <tr>\n",
       "      <td>üle</td>\n",
       "      <td>None</td>\n",
       "    </tr>\n",
       "    <tr>\n",
       "      <td>30 000</td>\n",
       "      <td>30000</td>\n",
       "    </tr>\n",
       "    <tr>\n",
       "      <td>muusikahuvilise</td>\n",
       "      <td>None</td>\n",
       "    </tr>\n",
       "    <tr>\n",
       "      <td>.</td>\n",
       "      <td>None</td>\n",
       "    </tr>\n",
       "  </tbody>\n",
       "</table>"
      ],
      "text/plain": [
       "Layer(name='words', attributes=('normalized_form',), spans=SL[Span('Festivalil', [{'normalized_form': None}]),\n",
       "Span('osales', [{'normalized_form': None}]),\n",
       "Span('üle', [{'normalized_form': None}]),\n",
       "Span('30 000', [{'normalized_form': '30000'}]),\n",
       "Span('muusikahuvilise', [{'normalized_form': None}]),\n",
       "Span('.', [{'normalized_form': None}])])"
      ]
     },
     "execution_count": 10,
     "metadata": {},
     "output_type": "execute_result"
    }
   ],
   "source": [
    "# Sõnad - keele väikseimad tähenduslikud üksused\n",
    "text2.words"
   ]
  },
  {
   "cell_type": "markdown",
   "metadata": {},
   "source": [
    "Kui me ei soovi märgendada kõiki standardkihte (näiteks aja ja arvutusressursside kokkuhoiu eesmärgil), võime ka tag_layer() meetodis täpsustada, millise(d) kihi(d) soovime märgendada:"
   ]
  },
  {
   "cell_type": "code",
   "execution_count": 11,
   "metadata": {},
   "outputs": [],
   "source": [
    "text3 = Text('Kaitsevägi reserveerib sõjaajaks mitu tuhat erasõidukit.').tag_layer(['words'])"
   ]
  },
  {
   "cell_type": "code",
   "execution_count": 12,
   "metadata": {},
   "outputs": [
    {
     "data": {
      "text/html": [
       "<table border=\"1\" class=\"dataframe\">\n",
       "  <thead>\n",
       "    <tr style=\"text-align: right;\">\n",
       "      <th>text</th>\n",
       "    </tr>\n",
       "  </thead>\n",
       "  <tbody>\n",
       "    <tr>\n",
       "      <td><div align = \"left\">Kaitsevägi reserveerib sõjaajaks mitu tuhat erasõidukit.</div></td>\n",
       "    </tr>\n",
       "  </tbody>\n",
       "</table>\n",
       "<table border=\"1\" class=\"dataframe\">\n",
       "  <thead>\n",
       "    <tr style=\"text-align: right;\">\n",
       "      <th>layer name</th>\n",
       "      <th>attributes</th>\n",
       "      <th>parent</th>\n",
       "      <th>enveloping</th>\n",
       "      <th>ambiguous</th>\n",
       "      <th>span count</th>\n",
       "    </tr>\n",
       "  </thead>\n",
       "  <tbody>\n",
       "    <tr>\n",
       "      <td>tokens</td>\n",
       "      <td></td>\n",
       "      <td>None</td>\n",
       "      <td>None</td>\n",
       "      <td>False</td>\n",
       "      <td>7</td>\n",
       "    </tr>\n",
       "    <tr>\n",
       "      <td>compound_tokens</td>\n",
       "      <td>type, normalized</td>\n",
       "      <td>None</td>\n",
       "      <td>tokens</td>\n",
       "      <td>False</td>\n",
       "      <td>0</td>\n",
       "    </tr>\n",
       "    <tr>\n",
       "      <td>words</td>\n",
       "      <td>normalized_form</td>\n",
       "      <td>None</td>\n",
       "      <td>None</td>\n",
       "      <td>True</td>\n",
       "      <td>7</td>\n",
       "    </tr>\n",
       "  </tbody>\n",
       "</table>"
      ],
      "text/plain": [
       "Text(text='Kaitsevägi reserveerib sõjaajaks mitu tuhat erasõidukit.')"
      ]
     },
     "execution_count": 12,
     "metadata": {},
     "output_type": "execute_result"
    }
   ],
   "source": [
    "text3"
   ]
  },
  {
   "cell_type": "markdown",
   "metadata": {},
   "source": [
    "Nagu näeme, märgendati words kihi jaoks ka tokens ja compound_tokens kihid, kuna need on words kihi märgendamiseks vajalikud."
   ]
  },
  {
   "cell_type": "markdown",
   "metadata": {},
   "source": [
    "Et tekstis olevad laused koosnevad sõnadest, siis saame itereerida nii üle kogu teksti sõnade kui ka lause kaupa:"
   ]
  },
  {
   "cell_type": "code",
   "execution_count": 13,
   "metadata": {},
   "outputs": [
    {
     "name": "stdout",
     "output_type": "stream",
     "text": [
      "Lause: \"Mees peeti kinni ja viidi Tartu vanglasse.\" koosneb järgmistest sõnadest: \n",
      "Mees\n",
      "peeti\n",
      "kinni\n",
      "ja\n",
      "viidi\n",
      "Tartu\n",
      "vanglasse\n",
      ".\n",
      "Lause: \"Sinna pidi ta jääma kolmeks kuuks.\" koosneb järgmistest sõnadest: \n",
      "Sinna\n",
      "pidi\n",
      "ta\n",
      "jääma\n",
      "kolmeks\n",
      "kuuks\n",
      ".\n"
     ]
    }
   ],
   "source": [
    "for sentence in text.sentences:\n",
    "    print('Lause: \"' + sentence.enclosing_text + '\" koosneb järgmistest sõnadest: ')\n",
    "    for word in sentence.words:\n",
    "        print(word.text)"
   ]
  },
  {
   "cell_type": "markdown",
   "metadata": {},
   "source": [
    "### Ülesanne 1. Sõnade ja lausete pikkused eri autoritel (1p)\n",
    "Võrrelge Indrek Hargla ja Karen Orlau tekstide lausete ja sõnade pikkusi. Selleks kirjutage funktsioon, millele antakse ette kataloogi asukoht ning mis leiab ja tagastab kõigi kataloogis olevate failide peale kokku:\n",
    "* keskmise failipikkuse lausetes\n",
    "* keskmise lausepikkuse sõnades\n",
    "* keskmise sõnapikkuse tähemärkides\n",
    "\n",
    "Jooksutage funktsiooni Indrek Hargla juttudel (kataloogis *hargla_texts*) ning Karen Orlau juttudel (kataloogis *orlau_texts*)."
   ]
  },
  {
   "cell_type": "markdown",
   "metadata": {},
   "source": [
    "**Vihjeid:**\n",
    "* Tekstide kodeeringuks on utf-8;\n",
    "* Lausete ja sõnade arvu leidmiseks tekstidest kasutage EstNLTK-d;\n",
    "* Kataloogi kõigi failide läbimisel on abiks [os.listdir](https://docs.python.org/3/library/os.html#os.listdir) - vt näidet:"
   ]
  },
  {
   "cell_type": "code",
   "execution_count": 14,
   "metadata": {},
   "outputs": [
    {
     "name": "stdout",
     "output_type": "stream",
     "text": [
      "dummy_folder/file2.txt\n",
      "Ühel õhtul toidupoodi minnes leidsin eest lagedad võiletid.\n",
      "\n",
      "dummy_folder/file1.txt\n",
      "Eestil on terve rida rahvusmüüte, mis pole tõesed ja on moonutused, kui mitte otse valed.\n",
      "\n"
     ]
    }
   ],
   "source": [
    "import os\n",
    "path = 'dummy_folder/'\n",
    "for file in os.listdir(path):\n",
    "    filename = os.path.join(path, file) \n",
    "    with open(filename, \"r\", encoding = 'utf-8') as fin:\n",
    "        print(filename)\n",
    "        print(fin.read())    "
   ]
  },
  {
   "cell_type": "markdown",
   "metadata": {},
   "source": [
    "### Morfoloogiline analüüs\n",
    "\n",
    "Eesti keeles on sõnadel teatavasti palju erinevaid vorme, nt nimisõnu saab kasutada 14 käändes ning lisaks muuta arvus (ainsus/mitmus).\n",
    "Teksti töötluse seisukohast on aga tihti kasulik käsitleda ühe sõna kõiki vorme koos.\n",
    "Siin tulebki appi morfoloogiline analüüs.\n",
    "Lihtsustatult öeldes tegeleb morfoloogiline analüüs sõna struktuuri kindlakstegemisega: millistest tükkidest sõna koosneb? \n",
    "Sellise analüüsi käigus selgub aga ka palju muud kasulikku: milline on sõna algvorm, millist liiki sõnaga on tegu ja millised on tükkidele vastavad grammatilised kategooriad."
   ]
  },
  {
   "cell_type": "markdown",
   "metadata": {},
   "source": [
    "Morfoloogiline analüüs lisatakse tekstile tag_layer() meetodi abil vaikimisi, saame seda vaadata kihist morph_analysis. Nagu näeme, siis morfoloogiline analüüs teostatakse just tähenduslikel üksustel e sõnadel, mitte tühikutega eraldatud sõnedel:"
   ]
  },
  {
   "cell_type": "code",
   "execution_count": 15,
   "metadata": {},
   "outputs": [
    {
     "data": {
      "text/html": [
       "<h4>Layer</h4>\n",
       "\n",
       "\n",
       "<table border=\"1\" class=\"dataframe\">\n",
       "  <thead>\n",
       "    <tr style=\"text-align: right;\">\n",
       "      <th>layer name</th>\n",
       "      <th>attributes</th>\n",
       "      <th>parent</th>\n",
       "      <th>enveloping</th>\n",
       "      <th>ambiguous</th>\n",
       "      <th>span count</th>\n",
       "    </tr>\n",
       "  </thead>\n",
       "  <tbody>\n",
       "    <tr>\n",
       "      <td>morph_analysis</td>\n",
       "      <td>normalized_text, lemma, root, root_tokens, ending, clitic, form, partofspeech</td>\n",
       "      <td>words</td>\n",
       "      <td>None</td>\n",
       "      <td>True</td>\n",
       "      <td>6</td>\n",
       "    </tr>\n",
       "  </tbody>\n",
       "</table>\n",
       "<table border=\"1\" class=\"dataframe\">\n",
       "  <thead>\n",
       "    <tr style=\"text-align: right;\">\n",
       "      <th>text</th>\n",
       "      <th>normalized_text</th>\n",
       "      <th>lemma</th>\n",
       "      <th>root</th>\n",
       "      <th>root_tokens</th>\n",
       "      <th>ending</th>\n",
       "      <th>clitic</th>\n",
       "      <th>form</th>\n",
       "      <th>partofspeech</th>\n",
       "    </tr>\n",
       "  </thead>\n",
       "  <tbody>\n",
       "    <tr>\n",
       "      <td>Festivalil</td>\n",
       "      <td>Festivalil</td>\n",
       "      <td>festival</td>\n",
       "      <td>festival</td>\n",
       "      <td>['festival']</td>\n",
       "      <td>l</td>\n",
       "      <td></td>\n",
       "      <td>sg ad</td>\n",
       "      <td>S</td>\n",
       "    </tr>\n",
       "    <tr>\n",
       "      <td>osales</td>\n",
       "      <td>osales</td>\n",
       "      <td>osalema</td>\n",
       "      <td>osale</td>\n",
       "      <td>['osale']</td>\n",
       "      <td>s</td>\n",
       "      <td></td>\n",
       "      <td>s</td>\n",
       "      <td>V</td>\n",
       "    </tr>\n",
       "    <tr>\n",
       "      <td>üle</td>\n",
       "      <td>üle</td>\n",
       "      <td>üle</td>\n",
       "      <td>üle</td>\n",
       "      <td>['üle']</td>\n",
       "      <td>0</td>\n",
       "      <td></td>\n",
       "      <td></td>\n",
       "      <td>K</td>\n",
       "    </tr>\n",
       "    <tr>\n",
       "      <td>30 000</td>\n",
       "      <td>30000</td>\n",
       "      <td>30000</td>\n",
       "      <td>30000</td>\n",
       "      <td>['30000']</td>\n",
       "      <td>0</td>\n",
       "      <td></td>\n",
       "      <td>?</td>\n",
       "      <td>N</td>\n",
       "    </tr>\n",
       "    <tr>\n",
       "      <td>muusikahuvilise</td>\n",
       "      <td>muusikahuvilise</td>\n",
       "      <td>muusikahuviline</td>\n",
       "      <td>muusika_huviline</td>\n",
       "      <td>['muusika', 'huviline']</td>\n",
       "      <td>0</td>\n",
       "      <td></td>\n",
       "      <td>sg g</td>\n",
       "      <td>S</td>\n",
       "    </tr>\n",
       "    <tr>\n",
       "      <td>.</td>\n",
       "      <td>.</td>\n",
       "      <td>.</td>\n",
       "      <td>.</td>\n",
       "      <td>['.']</td>\n",
       "      <td></td>\n",
       "      <td></td>\n",
       "      <td></td>\n",
       "      <td>Z</td>\n",
       "    </tr>\n",
       "  </tbody>\n",
       "</table>"
      ],
      "text/plain": [
       "Layer(name='morph_analysis', attributes=('normalized_text', 'lemma', 'root', 'root_tokens', 'ending', 'clitic', 'form', 'partofspeech'), spans=SL[Span('Festivalil', [{'normalized_text': 'Festivalil', 'lemma': 'festival', 'root': 'festival', 'root_tokens': ['festival'], 'ending': 'l', 'clitic': '', 'form': 'sg ad', 'partofspeech': 'S'}]),\n",
       "Span('osales', [{'normalized_text': 'osales', 'lemma': 'osalema', 'root': 'osale', 'root_tokens': ['osale'], 'ending': 's', 'clitic': '', 'form': 's', 'partofspeech': 'V'}]),\n",
       "Span('üle', [{'normalized_text': 'üle', 'lemma': 'üle', 'root': 'üle', 'root_tokens': ['üle'], 'ending': '0', 'clitic': '', 'form': '', 'partofspeech': 'K'}]),\n",
       "Span('30 000', [{'normalized_text': '30000', 'lemma': '30000', 'root': '30000', 'root_tokens': ['30000'], 'ending': '0', 'clitic': '', 'form': '?', 'partofspeech': 'N'}]),\n",
       "Span('muusikahuvilise', [{'normalized_text': 'muusikahuvilise', 'lemma': 'muusikahuviline', 'root': 'muusika_huviline', 'root_tokens': ['muusika', 'huviline'], 'ending': '0', 'clitic': '', 'form': 'sg g', 'partofspeech': 'S'}]),\n",
       "Span('.', [{'normalized_text': '.', 'lemma': '.', 'root': '.', 'root_tokens': ['.'], 'ending': '', 'clitic': '', 'form': '', 'partofspeech': 'Z'}])])"
      ]
     },
     "execution_count": 15,
     "metadata": {},
     "output_type": "execute_result"
    }
   ],
   "source": [
    "text2.morph_analysis"
   ]
  },
  {
   "cell_type": "markdown",
   "metadata": {},
   "source": [
    "Nagu näeme, sisaldab morfoloogilise analüüsi kiht hulka atribuute: *text* ja *normalized_text* olid juba sõnade kihil, ent juurde on lisatud *lemma* (sõna algvorm e lemma), *root* (tüvi), *root_tokens* (tüveosised), *ending* (käände-/pöördelõpp), *clitic* (kliitik - gi/ki liide), *form* (sõna morfoloogiline vorm), *partofspeech* (sõnaliik)."
   ]
  },
  {
   "cell_type": "markdown",
   "metadata": {},
   "source": [
    "#### Sõnade lemmad\n",
    "\n",
    "Morfoloogilise analüüsi üks olulisemaid tulemusi on see, et erinevad vormid taandatakse ühele kindlale kujule: leitakse iga sõna algvorm ehk **lemma**.\n",
    "Nimisõnade puhul on selleks enamasti ainsuse nimetava vorm (nt sõnade *oad, ubade, ubasid* lemmaks on *uba*), tegusõnade puhul aga *ma*-lõpuline vorm (nt sõnade *nägin, näeme, näe* algvorm on *nägema*)."
   ]
  },
  {
   "cell_type": "markdown",
   "metadata": {},
   "source": [
    "EstNLTK-s saab lemmad kätte morph_analysis kihist vastavat atribuuti küsides:"
   ]
  },
  {
   "cell_type": "code",
   "execution_count": 16,
   "metadata": {
    "scrolled": true
   },
   "outputs": [
    {
     "data": {
      "text/html": [
       "<h4>AmbiguousAttributeList (spans)</h4>\n",
       "<table border=\"1\" class=\"dataframe\">\n",
       "  <thead>\n",
       "    <tr style=\"text-align: right;\">\n",
       "      <th></th>\n",
       "      <th>lemma</th>\n",
       "    </tr>\n",
       "  </thead>\n",
       "  <tbody>\n",
       "    <tr>\n",
       "      <td>0</td>\n",
       "      <td>festival</td>\n",
       "    </tr>\n",
       "    <tr>\n",
       "      <td>1</td>\n",
       "      <td>osalema</td>\n",
       "    </tr>\n",
       "    <tr>\n",
       "      <td>2</td>\n",
       "      <td>üle</td>\n",
       "    </tr>\n",
       "    <tr>\n",
       "      <td>3</td>\n",
       "      <td>30000</td>\n",
       "    </tr>\n",
       "    <tr>\n",
       "      <td>4</td>\n",
       "      <td>muusikahuviline</td>\n",
       "    </tr>\n",
       "    <tr>\n",
       "      <td>5</td>\n",
       "      <td>.</td>\n",
       "    </tr>\n",
       "  </tbody>\n",
       "</table>"
      ],
      "text/plain": [
       "AmbiguousAttributeList([['festival'], ['osalema'], ['üle'], ['30000'], ['muusikahuviline'], ['.']], ('lemma',))"
      ]
     },
     "execution_count": 16,
     "metadata": {},
     "output_type": "execute_result"
    }
   ],
   "source": [
    "text2.morph_analysis.lemma"
   ]
  },
  {
   "cell_type": "markdown",
   "metadata": {},
   "source": [
    "Soovi korral võime seda tabeli asemel vaadata ka print käsu abil listina:"
   ]
  },
  {
   "cell_type": "code",
   "execution_count": 17,
   "metadata": {},
   "outputs": [
    {
     "name": "stdout",
     "output_type": "stream",
     "text": [
      "[['festival'], ['osalema'], ['üle'], ['30000'], ['muusikahuviline'], ['.']]\n"
     ]
    }
   ],
   "source": [
    "print(text2.morph_analysis.lemma)"
   ]
  },
  {
   "cell_type": "markdown",
   "metadata": {},
   "source": [
    "Näeme, et iga lemma on omakorda eraldi järjendis. Järjendit kasutatakse seetõttu, et analüüs ei pruugi alati olla üheselt määratav: ühe sõna morfoloogiliseks tõlgendamiseks võib olla rohkem kui üks võimalus. Näiteks järgmises lauses leidub tekstisõnale \"Teod\" kaks võimalikku lemmat:"
   ]
  },
  {
   "cell_type": "code",
   "execution_count": 18,
   "metadata": {},
   "outputs": [],
   "source": [
    "text4 = Text('Teod liiguvad aeglaselt').tag_layer()"
   ]
  },
  {
   "cell_type": "code",
   "execution_count": 19,
   "metadata": {},
   "outputs": [
    {
     "data": {
      "text/html": [
       "<h4>Layer</h4>\n",
       "\n",
       "\n",
       "<table border=\"1\" class=\"dataframe\">\n",
       "  <thead>\n",
       "    <tr style=\"text-align: right;\">\n",
       "      <th>layer name</th>\n",
       "      <th>attributes</th>\n",
       "      <th>parent</th>\n",
       "      <th>enveloping</th>\n",
       "      <th>ambiguous</th>\n",
       "      <th>span count</th>\n",
       "    </tr>\n",
       "  </thead>\n",
       "  <tbody>\n",
       "    <tr>\n",
       "      <td>morph_analysis</td>\n",
       "      <td>normalized_text, lemma, root, root_tokens, ending, clitic, form, partofspeech</td>\n",
       "      <td>words</td>\n",
       "      <td>None</td>\n",
       "      <td>True</td>\n",
       "      <td>3</td>\n",
       "    </tr>\n",
       "  </tbody>\n",
       "</table>\n",
       "<table border=\"1\" class=\"dataframe\">\n",
       "  <thead>\n",
       "    <tr style=\"text-align: right;\">\n",
       "      <th>text</th>\n",
       "      <th>normalized_text</th>\n",
       "      <th>lemma</th>\n",
       "      <th>root</th>\n",
       "      <th>root_tokens</th>\n",
       "      <th>ending</th>\n",
       "      <th>clitic</th>\n",
       "      <th>form</th>\n",
       "      <th>partofspeech</th>\n",
       "    </tr>\n",
       "  </thead>\n",
       "  <tbody>\n",
       "    <tr>\n",
       "      <td>Teod</td>\n",
       "      <td>Teod</td>\n",
       "      <td>tegu</td>\n",
       "      <td>tegu</td>\n",
       "      <td>['tegu']</td>\n",
       "      <td>d</td>\n",
       "      <td></td>\n",
       "      <td>pl n</td>\n",
       "      <td>S</td>\n",
       "    </tr>\n",
       "    <tr>\n",
       "      <td></td>\n",
       "      <td>Teod</td>\n",
       "      <td>tigu</td>\n",
       "      <td>tigu</td>\n",
       "      <td>['tigu']</td>\n",
       "      <td>d</td>\n",
       "      <td></td>\n",
       "      <td>pl n</td>\n",
       "      <td>S</td>\n",
       "    </tr>\n",
       "    <tr>\n",
       "      <td>liiguvad</td>\n",
       "      <td>liiguvad</td>\n",
       "      <td>liikuma</td>\n",
       "      <td>liiku</td>\n",
       "      <td>['liiku']</td>\n",
       "      <td>vad</td>\n",
       "      <td></td>\n",
       "      <td>vad</td>\n",
       "      <td>V</td>\n",
       "    </tr>\n",
       "    <tr>\n",
       "      <td>aeglaselt</td>\n",
       "      <td>aeglaselt</td>\n",
       "      <td>aeglaselt</td>\n",
       "      <td>aeglaselt</td>\n",
       "      <td>['aeglaselt']</td>\n",
       "      <td>0</td>\n",
       "      <td></td>\n",
       "      <td></td>\n",
       "      <td>D</td>\n",
       "    </tr>\n",
       "  </tbody>\n",
       "</table>"
      ],
      "text/plain": [
       "Layer(name='morph_analysis', attributes=('normalized_text', 'lemma', 'root', 'root_tokens', 'ending', 'clitic', 'form', 'partofspeech'), spans=SL[Span('Teod', [{'normalized_text': 'Teod', 'lemma': 'tegu', 'root': 'tegu', 'root_tokens': ['tegu'], 'ending': 'd', 'clitic': '', 'form': 'pl n', 'partofspeech': 'S'}, {'normalized_text': 'Teod', 'lemma': 'tigu', 'root': 'tigu', 'root_tokens': ['tigu'], 'ending': 'd', 'clitic': '', 'form': 'pl n', 'partofspeech': 'S'}]),\n",
       "Span('liiguvad', [{'normalized_text': 'liiguvad', 'lemma': 'liikuma', 'root': 'liiku', 'root_tokens': ['liiku'], 'ending': 'vad', 'clitic': '', 'form': 'vad', 'partofspeech': 'V'}]),\n",
       "Span('aeglaselt', [{'normalized_text': 'aeglaselt', 'lemma': 'aeglaselt', 'root': 'aeglaselt', 'root_tokens': ['aeglaselt'], 'ending': '0', 'clitic': '', 'form': '', 'partofspeech': 'D'}])])"
      ]
     },
     "execution_count": 19,
     "metadata": {},
     "output_type": "execute_result"
    }
   ],
   "source": [
    "text4.morph_analysis"
   ]
  },
  {
   "cell_type": "code",
   "execution_count": 20,
   "metadata": {},
   "outputs": [
    {
     "name": "stdout",
     "output_type": "stream",
     "text": [
      "[['tegu', 'tigu'], ['liikuma'], ['aeglaselt']]\n"
     ]
    }
   ],
   "source": [
    "print(text4.morph_analysis.lemma)"
   ]
  },
  {
   "cell_type": "markdown",
   "metadata": {},
   "source": [
    "#### Sõnaliigid ja grammatilised kategooriad\n",
    "\n",
    "Laias laastus jagunevad sõnad _käändsõnadeks_ (nimi-, omadus-, ase-, arvsõnad), _pöördsõnadeks_ (tegusõnad e verbid) ning _muutumatuteks sõnadeks_ (sidesõnad, määrsõnad, kaassõnad, lühendid, lausemärgid).\n",
    "Sõnaliik (ingl *part of speech*) ütleb meile esmajoones seda, millist infot sõna kohta analüüsil leida võib: käändsõnade puhul leitakse analüüsi käigus sõna kääne ja arv ning pöördsõnade puhul leitakse (grammatiline) isik, kõneviis, aeg, arv, tegumood ja kõneliik. \n",
    "Muutumatud sõnad (nt sidesõnad *ja*, *ning*, *või*) esinevad aga alati ühel kujul ning morfoloogilisel tasandil me nende kohta mingit lisainfot ei leiagi."
   ]
  },
  {
   "cell_type": "markdown",
   "metadata": {},
   "source": [
    "EstNLTK-s saab teksti sõnaliigid kätte atribuuti 'partofspeech' küsides:"
   ]
  },
  {
   "cell_type": "code",
   "execution_count": 21,
   "metadata": {},
   "outputs": [
    {
     "data": {
      "text/html": [
       "<h4>AmbiguousAttributeList (spans)</h4>\n",
       "<table border=\"1\" class=\"dataframe\">\n",
       "  <thead>\n",
       "    <tr style=\"text-align: right;\">\n",
       "      <th></th>\n",
       "      <th>partofspeech</th>\n",
       "    </tr>\n",
       "  </thead>\n",
       "  <tbody>\n",
       "    <tr>\n",
       "      <td>0</td>\n",
       "      <td>S</td>\n",
       "    </tr>\n",
       "    <tr>\n",
       "      <td>1</td>\n",
       "      <td>V</td>\n",
       "    </tr>\n",
       "    <tr>\n",
       "      <td>2</td>\n",
       "      <td>K</td>\n",
       "    </tr>\n",
       "    <tr>\n",
       "      <td>3</td>\n",
       "      <td>N</td>\n",
       "    </tr>\n",
       "    <tr>\n",
       "      <td>4</td>\n",
       "      <td>S</td>\n",
       "    </tr>\n",
       "    <tr>\n",
       "      <td>5</td>\n",
       "      <td>Z</td>\n",
       "    </tr>\n",
       "  </tbody>\n",
       "</table>"
      ],
      "text/plain": [
       "AmbiguousAttributeList([['S'], ['V'], ['K'], ['N'], ['S'], ['Z']], ('partofspeech',))"
      ]
     },
     "execution_count": 21,
     "metadata": {},
     "output_type": "execute_result"
    }
   ],
   "source": [
    "text2.morph_analysis.partofspeech"
   ]
  },
  {
   "cell_type": "markdown",
   "metadata": {},
   "source": [
    "Nagu väljundist näha, kasutatakse sõnaliikide tähistamiseks lühendeid (_S_ - substantiiv e nimisõna, _V_ - verb e tegusõna jne). Lühendid on lahti kirjutatud [selles tabelis](https://github.com/estnltk/estnltk/blob/main/tutorials/nlp_pipeline/B_morphology/00_tables_of_morphological_categories.ipynb)."
   ]
  },
  {
   "cell_type": "markdown",
   "metadata": {},
   "source": [
    "Kui on tarvis sõnade morfoloogiat detailsemalt uurida, siis *text.morph_analysis.form* abil saab kätte ka sõnade grammatilised kategooriad (nt käändsõnade käände ja arvu).\n",
    "Grammatilised kategooriad on samuti toodud lühenditena, käändsõnade kategoorialühendid on lahti seletatud `Table: Noun form descriptions (Vabamorf)` ning verbide omad `Table: Verb form descriptions (Vabamorf)`.\n",
    "Käesolevas praktikumis meil aga sellist detailsust tarvis pole, esialgu piisab teadmisest, et see info on vajadusel olemas."
   ]
  },
  {
   "cell_type": "code",
   "execution_count": 22,
   "metadata": {
    "scrolled": true
   },
   "outputs": [
    {
     "data": {
      "text/html": [
       "<h4>AmbiguousAttributeList (spans)</h4>\n",
       "<table border=\"1\" class=\"dataframe\">\n",
       "  <thead>\n",
       "    <tr style=\"text-align: right;\">\n",
       "      <th></th>\n",
       "      <th>form</th>\n",
       "    </tr>\n",
       "  </thead>\n",
       "  <tbody>\n",
       "    <tr>\n",
       "      <td>0</td>\n",
       "      <td>sg ad</td>\n",
       "    </tr>\n",
       "    <tr>\n",
       "      <td>1</td>\n",
       "      <td>s</td>\n",
       "    </tr>\n",
       "    <tr>\n",
       "      <td>2</td>\n",
       "      <td></td>\n",
       "    </tr>\n",
       "    <tr>\n",
       "      <td>3</td>\n",
       "      <td>?</td>\n",
       "    </tr>\n",
       "    <tr>\n",
       "      <td>4</td>\n",
       "      <td>sg g</td>\n",
       "    </tr>\n",
       "    <tr>\n",
       "      <td>5</td>\n",
       "      <td></td>\n",
       "    </tr>\n",
       "  </tbody>\n",
       "</table>"
      ],
      "text/plain": [
       "AmbiguousAttributeList([['sg ad'], ['s'], [''], ['?'], ['sg g'], ['']], ('form',))"
      ]
     },
     "execution_count": 22,
     "metadata": {},
     "output_type": "execute_result"
    }
   ],
   "source": [
    "text2.morph_analysis.form"
   ]
  },
  {
   "cell_type": "markdown",
   "metadata": {},
   "source": [
    "Kui vaadeldud kujul morfoloogiline märgendus jääb segaseks, saame lisada kihina `morph_analysis_est` ka veidi arusaadavama eestikeelse märgenduse, mis võib vajadusel abiks olla *morph_analysis*-kihi mõistmisel. Kuna aga edaspidi vaadeldavad töövahendid kasutavad justnimelt kihti `morph_analysis`, siis rohkem me eestikeelset märgendust praktiliselt ei kasuta:"
   ]
  },
  {
   "cell_type": "code",
   "execution_count": 23,
   "metadata": {},
   "outputs": [
    {
     "data": {
      "text/html": [
       "<h4>Layer</h4>\n",
       "\n",
       "\n",
       "<table border=\"1\" class=\"dataframe\">\n",
       "  <thead>\n",
       "    <tr style=\"text-align: right;\">\n",
       "      <th>layer name</th>\n",
       "      <th>attributes</th>\n",
       "      <th>parent</th>\n",
       "      <th>enveloping</th>\n",
       "      <th>ambiguous</th>\n",
       "      <th>span count</th>\n",
       "    </tr>\n",
       "  </thead>\n",
       "  <tbody>\n",
       "    <tr>\n",
       "      <td>morph_analysis_est</td>\n",
       "      <td>normaliseeritud_sõne, algvorm, lõpp, sõnaliik, vormi_nimetus, kliitik</td>\n",
       "      <td>morph_analysis</td>\n",
       "      <td>None</td>\n",
       "      <td>True</td>\n",
       "      <td>3</td>\n",
       "    </tr>\n",
       "  </tbody>\n",
       "</table>\n",
       "<table border=\"1\" class=\"dataframe\">\n",
       "  <thead>\n",
       "    <tr style=\"text-align: right;\">\n",
       "      <th>text</th>\n",
       "      <th>normaliseeritud_sõne</th>\n",
       "      <th>algvorm</th>\n",
       "      <th>lõpp</th>\n",
       "      <th>sõnaliik</th>\n",
       "      <th>vormi_nimetus</th>\n",
       "      <th>kliitik</th>\n",
       "    </tr>\n",
       "  </thead>\n",
       "  <tbody>\n",
       "    <tr>\n",
       "      <td>Teod</td>\n",
       "      <td>Teod</td>\n",
       "      <td>tegu</td>\n",
       "      <td>d</td>\n",
       "      <td>nimisõna</td>\n",
       "      <td>mitmus nimetav (nominatiiv)</td>\n",
       "      <td></td>\n",
       "    </tr>\n",
       "    <tr>\n",
       "      <td></td>\n",
       "      <td>Teod</td>\n",
       "      <td>tigu</td>\n",
       "      <td>d</td>\n",
       "      <td>nimisõna</td>\n",
       "      <td>mitmus nimetav (nominatiiv)</td>\n",
       "      <td></td>\n",
       "    </tr>\n",
       "    <tr>\n",
       "      <td>liiguvad</td>\n",
       "      <td>liiguvad</td>\n",
       "      <td>liikuma</td>\n",
       "      <td>vad</td>\n",
       "      <td>tegusõna</td>\n",
       "      <td>kindel kõneviis olevik 3. isik mitmus aktiiv jaatav kõne</td>\n",
       "      <td></td>\n",
       "    </tr>\n",
       "    <tr>\n",
       "      <td>aeglaselt</td>\n",
       "      <td>aeglaselt</td>\n",
       "      <td>aeglaselt</td>\n",
       "      <td>0</td>\n",
       "      <td>määrsõna</td>\n",
       "      <td></td>\n",
       "      <td></td>\n",
       "    </tr>\n",
       "  </tbody>\n",
       "</table>"
      ],
      "text/plain": [
       "Layer(name='morph_analysis_est', attributes=('normaliseeritud_sõne', 'algvorm', 'lõpp', 'sõnaliik', 'vormi_nimetus', 'kliitik'), spans=SL[Span('Teod', [{'normaliseeritud_sõne': 'Teod', 'algvorm': 'tegu', 'lõpp': 'd', 'sõnaliik': 'nimisõna', 'vormi_nimetus': 'mitmus nimetav (nominatiiv)', 'kliitik': ''}, {'normaliseeritud_sõne': 'Teod', 'algvorm': 'tigu', 'lõpp': 'd', 'sõnaliik': 'nimisõna', 'vormi_nimetus': 'mitmus nimetav (nominatiiv)', 'kliitik': ''}]),\n",
       "Span('liiguvad', [{'normaliseeritud_sõne': 'liiguvad', 'algvorm': 'liikuma', 'lõpp': 'vad', 'sõnaliik': 'tegusõna', 'vormi_nimetus': 'kindel kõneviis olevik 3. isik mitmus aktiiv jaatav kõne', 'kliitik': ''}]),\n",
       "Span('aeglaselt', [{'normaliseeritud_sõne': 'aeglaselt', 'algvorm': 'aeglaselt', 'lõpp': '0', 'sõnaliik': 'määrsõna', 'vormi_nimetus': '', 'kliitik': ''}])])"
      ]
     },
     "execution_count": 23,
     "metadata": {},
     "output_type": "execute_result"
    }
   ],
   "source": [
    "text4.tag_layer(['morph_analysis_est'])\n",
    "text4.morph_analysis_est"
   ]
  },
  {
   "cell_type": "markdown",
   "metadata": {},
   "source": [
    "### Morfoloogilise analüüsi vaikesätted\n",
    "\n",
    "Vaikimisi tehakse morfoloogiline analüüs alati koos **ühestamise**, **oletamise** ja **pärisnimeanalüüside pakkumisega**. Mida see tähendab? \n",
    "\n",
    "**MORFOLOOGILINE ÜHESTAMINE**: kui ühe sõnavormi analüüsimiseks on mitu võimalust - näiteks sõna \"peeti\" võib olla nii vorm nimisõnast \"peet\" kui ka tegusõnast \"pidama\" - , siis valitakse välja antud (lause)kontekstis kõige tõenäolisem tõlgendus. "
   ]
  },
  {
   "cell_type": "code",
   "execution_count": 24,
   "metadata": {},
   "outputs": [
    {
     "data": {
      "text/html": [
       "<h4>Layer</h4>\n",
       "\n",
       "\n",
       "<table border=\"1\" class=\"dataframe\">\n",
       "  <thead>\n",
       "    <tr style=\"text-align: right;\">\n",
       "      <th>layer name</th>\n",
       "      <th>attributes</th>\n",
       "      <th>parent</th>\n",
       "      <th>enveloping</th>\n",
       "      <th>ambiguous</th>\n",
       "      <th>span count</th>\n",
       "    </tr>\n",
       "  </thead>\n",
       "  <tbody>\n",
       "    <tr>\n",
       "      <td>morph_analysis</td>\n",
       "      <td>normalized_text, lemma, root, root_tokens, ending, clitic, form, partofspeech</td>\n",
       "      <td>words</td>\n",
       "      <td>None</td>\n",
       "      <td>True</td>\n",
       "      <td>5</td>\n",
       "    </tr>\n",
       "  </tbody>\n",
       "</table>\n",
       "<table border=\"1\" class=\"dataframe\">\n",
       "  <thead>\n",
       "    <tr style=\"text-align: right;\">\n",
       "      <th>text</th>\n",
       "      <th>normalized_text</th>\n",
       "      <th>lemma</th>\n",
       "      <th>root</th>\n",
       "      <th>root_tokens</th>\n",
       "      <th>ending</th>\n",
       "      <th>clitic</th>\n",
       "      <th>form</th>\n",
       "      <th>partofspeech</th>\n",
       "    </tr>\n",
       "  </thead>\n",
       "  <tbody>\n",
       "    <tr>\n",
       "      <td>Pidu</td>\n",
       "      <td>Pidu</td>\n",
       "      <td>pidu</td>\n",
       "      <td>pidu</td>\n",
       "      <td>['pidu']</td>\n",
       "      <td>0</td>\n",
       "      <td></td>\n",
       "      <td>sg n</td>\n",
       "      <td>S</td>\n",
       "    </tr>\n",
       "    <tr>\n",
       "      <td>peeti</td>\n",
       "      <td>peeti</td>\n",
       "      <td>pidama</td>\n",
       "      <td>pida</td>\n",
       "      <td>['pida']</td>\n",
       "      <td>ti</td>\n",
       "      <td></td>\n",
       "      <td>ti</td>\n",
       "      <td>V</td>\n",
       "    </tr>\n",
       "    <tr>\n",
       "      <td>kolm</td>\n",
       "      <td>kolm</td>\n",
       "      <td>kolm</td>\n",
       "      <td>kolm</td>\n",
       "      <td>['kolm']</td>\n",
       "      <td>0</td>\n",
       "      <td></td>\n",
       "      <td>sg n</td>\n",
       "      <td>N</td>\n",
       "    </tr>\n",
       "    <tr>\n",
       "      <td>päeva</td>\n",
       "      <td>päeva</td>\n",
       "      <td>päev</td>\n",
       "      <td>päev</td>\n",
       "      <td>['päev']</td>\n",
       "      <td>0</td>\n",
       "      <td></td>\n",
       "      <td>sg p</td>\n",
       "      <td>S</td>\n",
       "    </tr>\n",
       "    <tr>\n",
       "      <td>järjest</td>\n",
       "      <td>järjest</td>\n",
       "      <td>järjest</td>\n",
       "      <td>järjest</td>\n",
       "      <td>['järjest']</td>\n",
       "      <td>0</td>\n",
       "      <td></td>\n",
       "      <td></td>\n",
       "      <td>D</td>\n",
       "    </tr>\n",
       "  </tbody>\n",
       "</table>"
      ],
      "text/plain": [
       "Layer(name='morph_analysis', attributes=('normalized_text', 'lemma', 'root', 'root_tokens', 'ending', 'clitic', 'form', 'partofspeech'), spans=SL[Span('Pidu', [{'normalized_text': 'Pidu', 'lemma': 'pidu', 'root': 'pidu', 'root_tokens': ['pidu'], 'ending': '0', 'clitic': '', 'form': 'sg n', 'partofspeech': 'S'}]),\n",
       "Span('peeti', [{'normalized_text': 'peeti', 'lemma': 'pidama', 'root': 'pida', 'root_tokens': ['pida'], 'ending': 'ti', 'clitic': '', 'form': 'ti', 'partofspeech': 'V'}]),\n",
       "Span('kolm', [{'normalized_text': 'kolm', 'lemma': 'kolm', 'root': 'kolm', 'root_tokens': ['kolm'], 'ending': '0', 'clitic': '', 'form': 'sg n', 'partofspeech': 'N'}]),\n",
       "Span('päeva', [{'normalized_text': 'päeva', 'lemma': 'päev', 'root': 'päev', 'root_tokens': ['päev'], 'ending': '0', 'clitic': '', 'form': 'sg p', 'partofspeech': 'S'}]),\n",
       "Span('järjest', [{'normalized_text': 'järjest', 'lemma': 'järjest', 'root': 'järjest', 'root_tokens': ['järjest'], 'ending': '0', 'clitic': '', 'form': '', 'partofspeech': 'D'}])])"
      ]
     },
     "execution_count": 24,
     "metadata": {},
     "output_type": "execute_result"
    }
   ],
   "source": [
    "Text(\"Pidu peeti kolm päeva järjest\").tag_layer().morph_analysis"
   ]
  },
  {
   "cell_type": "markdown",
   "metadata": {},
   "source": [
    "Seejuures jääb siiski mõningatel juhtudel mitmesus alles, nagu oli märgata varasemas näitelauses \"Teod liiguvad aeglaselt\". Ka järgmises näites on sõnal \"surnud\" neli analüüsivarianti:"
   ]
  },
  {
   "cell_type": "code",
   "execution_count": 25,
   "metadata": {},
   "outputs": [
    {
     "data": {
      "text/html": [
       "<h4>Layer</h4>\n",
       "\n",
       "\n",
       "<table border=\"1\" class=\"dataframe\">\n",
       "  <thead>\n",
       "    <tr style=\"text-align: right;\">\n",
       "      <th>layer name</th>\n",
       "      <th>attributes</th>\n",
       "      <th>parent</th>\n",
       "      <th>enveloping</th>\n",
       "      <th>ambiguous</th>\n",
       "      <th>span count</th>\n",
       "    </tr>\n",
       "  </thead>\n",
       "  <tbody>\n",
       "    <tr>\n",
       "      <td>morph_analysis</td>\n",
       "      <td>normalized_text, lemma, root, root_tokens, ending, clitic, form, partofspeech</td>\n",
       "      <td>words</td>\n",
       "      <td>None</td>\n",
       "      <td>True</td>\n",
       "      <td>4</td>\n",
       "    </tr>\n",
       "  </tbody>\n",
       "</table>\n",
       "<table border=\"1\" class=\"dataframe\">\n",
       "  <thead>\n",
       "    <tr style=\"text-align: right;\">\n",
       "      <th>text</th>\n",
       "      <th>normalized_text</th>\n",
       "      <th>lemma</th>\n",
       "      <th>root</th>\n",
       "      <th>root_tokens</th>\n",
       "      <th>ending</th>\n",
       "      <th>clitic</th>\n",
       "      <th>form</th>\n",
       "      <th>partofspeech</th>\n",
       "    </tr>\n",
       "  </thead>\n",
       "  <tbody>\n",
       "    <tr>\n",
       "      <td>Mees</td>\n",
       "      <td>Mees</td>\n",
       "      <td>mees</td>\n",
       "      <td>mees</td>\n",
       "      <td>['mees']</td>\n",
       "      <td>0</td>\n",
       "      <td></td>\n",
       "      <td>sg n</td>\n",
       "      <td>S</td>\n",
       "    </tr>\n",
       "    <tr>\n",
       "      <td>oli</td>\n",
       "      <td>oli</td>\n",
       "      <td>olema</td>\n",
       "      <td>ole</td>\n",
       "      <td>['ole']</td>\n",
       "      <td>i</td>\n",
       "      <td></td>\n",
       "      <td>s</td>\n",
       "      <td>V</td>\n",
       "    </tr>\n",
       "    <tr>\n",
       "      <td>surnud</td>\n",
       "      <td>surnud</td>\n",
       "      <td>surnud</td>\n",
       "      <td>surnud</td>\n",
       "      <td>['surnud']</td>\n",
       "      <td>0</td>\n",
       "      <td></td>\n",
       "      <td></td>\n",
       "      <td>A</td>\n",
       "    </tr>\n",
       "    <tr>\n",
       "      <td></td>\n",
       "      <td>surnud</td>\n",
       "      <td>surema</td>\n",
       "      <td>sure</td>\n",
       "      <td>['sure']</td>\n",
       "      <td>nud</td>\n",
       "      <td></td>\n",
       "      <td>nud</td>\n",
       "      <td>V</td>\n",
       "    </tr>\n",
       "    <tr>\n",
       "      <td></td>\n",
       "      <td>surnud</td>\n",
       "      <td>surnud</td>\n",
       "      <td>surnud</td>\n",
       "      <td>['surnud']</td>\n",
       "      <td>d</td>\n",
       "      <td></td>\n",
       "      <td>pl n</td>\n",
       "      <td>A</td>\n",
       "    </tr>\n",
       "    <tr>\n",
       "      <td></td>\n",
       "      <td>surnud</td>\n",
       "      <td>surnud</td>\n",
       "      <td>surnud</td>\n",
       "      <td>['surnud']</td>\n",
       "      <td>0</td>\n",
       "      <td></td>\n",
       "      <td>sg n</td>\n",
       "      <td>A</td>\n",
       "    </tr>\n",
       "    <tr>\n",
       "      <td>.</td>\n",
       "      <td>.</td>\n",
       "      <td>.</td>\n",
       "      <td>.</td>\n",
       "      <td>['.']</td>\n",
       "      <td></td>\n",
       "      <td></td>\n",
       "      <td></td>\n",
       "      <td>Z</td>\n",
       "    </tr>\n",
       "  </tbody>\n",
       "</table>"
      ],
      "text/plain": [
       "Layer(name='morph_analysis', attributes=('normalized_text', 'lemma', 'root', 'root_tokens', 'ending', 'clitic', 'form', 'partofspeech'), spans=SL[Span('Mees', [{'normalized_text': 'Mees', 'lemma': 'mees', 'root': 'mees', 'root_tokens': ['mees'], 'ending': '0', 'clitic': '', 'form': 'sg n', 'partofspeech': 'S'}]),\n",
       "Span('oli', [{'normalized_text': 'oli', 'lemma': 'olema', 'root': 'ole', 'root_tokens': ['ole'], 'ending': 'i', 'clitic': '', 'form': 's', 'partofspeech': 'V'}]),\n",
       "Span('surnud', [{'normalized_text': 'surnud', 'lemma': 'surnud', 'root': 'surnud', 'root_tokens': ['surnud'], 'ending': '0', 'clitic': '', 'form': '', 'partofspeech': 'A'}, {'normalized_text': 'surnud', 'lemma': 'surema', 'root': 'sure', 'root_tokens': ['sure'], 'ending': 'nud', 'clitic': '', 'form': 'nud', 'partofspeech': 'V'}, {'normalized_text': 'surnud', 'lemma': 'surnud', 'root': 'surnud', 'root_tokens': ['surnud'], 'ending': 'd', 'clitic': '', 'form': 'pl n', 'partofspeech': 'A'}, {'normalized_text': 'surnud', 'lemma': 'surnud', 'root': 'surnud', 'root_tokens': ['surnud'], 'ending': '0', 'clitic': '', 'form': 'sg n', 'partofspeech': 'A'}]),\n",
       "Span('.', [{'normalized_text': '.', 'lemma': '.', 'root': '.', 'root_tokens': ['.'], 'ending': '', 'clitic': '', 'form': '', 'partofspeech': 'Z'}])])"
      ]
     },
     "execution_count": 25,
     "metadata": {},
     "output_type": "execute_result"
    }
   ],
   "source": [
    "Text(\"Mees oli surnud.\").tag_layer().morph_analysis "
   ]
  },
  {
   "cell_type": "markdown",
   "metadata": {},
   "source": [
    " * _Lingivstiline vahemärkus:_ näites esinev sõna \"surnud\" mitmesus on üsna tüüpiline ka teistele *nud*-lõpulistele sõnadele: ühest küljest võib *nud*-lõpulist sõna tõlgendada kui omadussõna (`'partofspeech': 'A'`) -- kui mingi tegevuse tulemusena tekkinud \"omadust\", aga teisest küljest on see avatud ka verbi tõlgendusele (`'partofspeech': 'V'`) -- seda võib tõlgendada kui mingi tegevuse või protsessi seisundit (loe detailsemalt [siit](https://et.wikipedia.org/wiki/Mineviku_kesks%C3%B5na)). Sedalaadi mitmesuste lahendamine nõuab kõrgema tasandi (süntaksi, semantika) keeleanalüüsi ja seetõttu jäetakse need morfoloogilisel analüüsil targu lahendamata."
   ]
  },
  {
   "cell_type": "markdown",
   "metadata": {},
   "source": [
    "**OLETAMINE**: kui analüsaator ei leia tekstis esinevat sõna sõnastikust ega suuda seda analüüsida ka liitega või liitsõnaks, siis sõna kuju põhjal pakutakse eeldatav(ad) analüüs(id). Järgnevas näites kasutatud sõna \"poodelungile\" tänapäeva eesti keele sõnastikes ei esine, ent on eesti keele kõnelejale siiski lihtne mõista. Oletaja suudab õigesti määrata vormi, ent lemma jääb mitmeseks:"
   ]
  },
  {
   "cell_type": "code",
   "execution_count": 26,
   "metadata": {},
   "outputs": [
    {
     "data": {
      "text/html": [
       "<h4>Layer</h4>\n",
       "\n",
       "\n",
       "<table border=\"1\" class=\"dataframe\">\n",
       "  <thead>\n",
       "    <tr style=\"text-align: right;\">\n",
       "      <th>layer name</th>\n",
       "      <th>attributes</th>\n",
       "      <th>parent</th>\n",
       "      <th>enveloping</th>\n",
       "      <th>ambiguous</th>\n",
       "      <th>span count</th>\n",
       "    </tr>\n",
       "  </thead>\n",
       "  <tbody>\n",
       "    <tr>\n",
       "      <td>morph_analysis</td>\n",
       "      <td>normalized_text, lemma, root, root_tokens, ending, clitic, form, partofspeech</td>\n",
       "      <td>words</td>\n",
       "      <td>None</td>\n",
       "      <td>True</td>\n",
       "      <td>4</td>\n",
       "    </tr>\n",
       "  </tbody>\n",
       "</table>\n",
       "<table border=\"1\" class=\"dataframe\">\n",
       "  <thead>\n",
       "    <tr style=\"text-align: right;\">\n",
       "      <th>text</th>\n",
       "      <th>normalized_text</th>\n",
       "      <th>lemma</th>\n",
       "      <th>root</th>\n",
       "      <th>root_tokens</th>\n",
       "      <th>ending</th>\n",
       "      <th>clitic</th>\n",
       "      <th>form</th>\n",
       "      <th>partofspeech</th>\n",
       "    </tr>\n",
       "  </thead>\n",
       "  <tbody>\n",
       "    <tr>\n",
       "      <td>Tüdrukud</td>\n",
       "      <td>Tüdrukud</td>\n",
       "      <td>tüdruk</td>\n",
       "      <td>tüdruk</td>\n",
       "      <td>['tüdruk']</td>\n",
       "      <td>d</td>\n",
       "      <td></td>\n",
       "      <td>pl n</td>\n",
       "      <td>S</td>\n",
       "    </tr>\n",
       "    <tr>\n",
       "      <td>läksid</td>\n",
       "      <td>läksid</td>\n",
       "      <td>minema</td>\n",
       "      <td>mine</td>\n",
       "      <td>['mine']</td>\n",
       "      <td>sid</td>\n",
       "      <td></td>\n",
       "      <td>sid</td>\n",
       "      <td>V</td>\n",
       "    </tr>\n",
       "    <tr>\n",
       "      <td>poodelungile</td>\n",
       "      <td>poodelungile</td>\n",
       "      <td>poodelung</td>\n",
       "      <td>poodelung</td>\n",
       "      <td>['poodelung']</td>\n",
       "      <td>le</td>\n",
       "      <td></td>\n",
       "      <td>sg all</td>\n",
       "      <td>S</td>\n",
       "    </tr>\n",
       "    <tr>\n",
       "      <td></td>\n",
       "      <td>poodelungile</td>\n",
       "      <td>poodelungi</td>\n",
       "      <td>poodelungi</td>\n",
       "      <td>['poodelungi']</td>\n",
       "      <td>le</td>\n",
       "      <td></td>\n",
       "      <td>sg all</td>\n",
       "      <td>S</td>\n",
       "    </tr>\n",
       "    <tr>\n",
       "      <td></td>\n",
       "      <td>poodelungile</td>\n",
       "      <td>poodelunk</td>\n",
       "      <td>poodelunk</td>\n",
       "      <td>['poodelunk']</td>\n",
       "      <td>le</td>\n",
       "      <td></td>\n",
       "      <td>sg all</td>\n",
       "      <td>S</td>\n",
       "    </tr>\n",
       "    <tr>\n",
       "      <td>.</td>\n",
       "      <td>.</td>\n",
       "      <td>.</td>\n",
       "      <td>.</td>\n",
       "      <td>['.']</td>\n",
       "      <td></td>\n",
       "      <td></td>\n",
       "      <td></td>\n",
       "      <td>Z</td>\n",
       "    </tr>\n",
       "  </tbody>\n",
       "</table>"
      ],
      "text/plain": [
       "Layer(name='morph_analysis', attributes=('normalized_text', 'lemma', 'root', 'root_tokens', 'ending', 'clitic', 'form', 'partofspeech'), spans=SL[Span('Tüdrukud', [{'normalized_text': 'Tüdrukud', 'lemma': 'tüdruk', 'root': 'tüdruk', 'root_tokens': ['tüdruk'], 'ending': 'd', 'clitic': '', 'form': 'pl n', 'partofspeech': 'S'}]),\n",
       "Span('läksid', [{'normalized_text': 'läksid', 'lemma': 'minema', 'root': 'mine', 'root_tokens': ['mine'], 'ending': 'sid', 'clitic': '', 'form': 'sid', 'partofspeech': 'V'}]),\n",
       "Span('poodelungile', [{'normalized_text': 'poodelungile', 'lemma': 'poodelung', 'root': 'poodelung', 'root_tokens': ['poodelung'], 'ending': 'le', 'clitic': '', 'form': 'sg all', 'partofspeech': 'S'}, {'normalized_text': 'poodelungile', 'lemma': 'poodelungi', 'root': 'poodelungi', 'root_tokens': ['poodelungi'], 'ending': 'le', 'clitic': '', 'form': 'sg all', 'partofspeech': 'S'}, {'normalized_text': 'poodelungile', 'lemma': 'poodelunk', 'root': 'poodelunk', 'root_tokens': ['poodelunk'], 'ending': 'le', 'clitic': '', 'form': 'sg all', 'partofspeech': 'S'}]),\n",
       "Span('.', [{'normalized_text': '.', 'lemma': '.', 'root': '.', 'root_tokens': ['.'], 'ending': '', 'clitic': '', 'form': '', 'partofspeech': 'Z'}])])"
      ]
     },
     "execution_count": 26,
     "metadata": {},
     "output_type": "execute_result"
    }
   ],
   "source": [
    "Text('Tüdrukud läksid poodelungile.').tag_layer().morph_analysis"
   ]
  },
  {
   "cell_type": "markdown",
   "metadata": {},
   "source": [
    "**PÄRISNIMEANALÜÜSIDE PAKKUMINE:** kui nimisõna algab suure algustähega, võib see olla nii tavaline sõna kui ka pärisnimi (nt _Trump_ võib olla nii teatud liiki mast kaardimängus kui ka perekonnanimi). Analüsaator püüab konteksti järgi ära arvata, kummaga tegu on:"
   ]
  },
  {
   "cell_type": "code",
   "execution_count": 27,
   "metadata": {},
   "outputs": [
    {
     "data": {
      "text/html": [
       "<h4>Layer</h4>\n",
       "\n",
       "\n",
       "<table border=\"1\" class=\"dataframe\">\n",
       "  <thead>\n",
       "    <tr style=\"text-align: right;\">\n",
       "      <th>layer name</th>\n",
       "      <th>attributes</th>\n",
       "      <th>parent</th>\n",
       "      <th>enveloping</th>\n",
       "      <th>ambiguous</th>\n",
       "      <th>span count</th>\n",
       "    </tr>\n",
       "  </thead>\n",
       "  <tbody>\n",
       "    <tr>\n",
       "      <td>morph_analysis</td>\n",
       "      <td>normalized_text, lemma, root, root_tokens, ending, clitic, form, partofspeech</td>\n",
       "      <td>words</td>\n",
       "      <td>None</td>\n",
       "      <td>True</td>\n",
       "      <td>4</td>\n",
       "    </tr>\n",
       "  </tbody>\n",
       "</table>\n",
       "<table border=\"1\" class=\"dataframe\">\n",
       "  <thead>\n",
       "    <tr style=\"text-align: right;\">\n",
       "      <th>text</th>\n",
       "      <th>normalized_text</th>\n",
       "      <th>lemma</th>\n",
       "      <th>root</th>\n",
       "      <th>root_tokens</th>\n",
       "      <th>ending</th>\n",
       "      <th>clitic</th>\n",
       "      <th>form</th>\n",
       "      <th>partofspeech</th>\n",
       "    </tr>\n",
       "  </thead>\n",
       "  <tbody>\n",
       "    <tr>\n",
       "      <td>Kapten</td>\n",
       "      <td>Kapten</td>\n",
       "      <td>kapten</td>\n",
       "      <td>kapten</td>\n",
       "      <td>['kapten']</td>\n",
       "      <td>0</td>\n",
       "      <td></td>\n",
       "      <td>sg n</td>\n",
       "      <td>S</td>\n",
       "    </tr>\n",
       "    <tr>\n",
       "      <td>Trumm</td>\n",
       "      <td>Trumm</td>\n",
       "      <td>Trumm</td>\n",
       "      <td>Trumm</td>\n",
       "      <td>['Trumm']</td>\n",
       "      <td>0</td>\n",
       "      <td></td>\n",
       "      <td>sg n</td>\n",
       "      <td>H</td>\n",
       "    </tr>\n",
       "    <tr>\n",
       "      <td>tasus</td>\n",
       "      <td>tasus</td>\n",
       "      <td>tasuma</td>\n",
       "      <td>tasu</td>\n",
       "      <td>['tasu']</td>\n",
       "      <td>s</td>\n",
       "      <td></td>\n",
       "      <td>s</td>\n",
       "      <td>V</td>\n",
       "    </tr>\n",
       "    <tr>\n",
       "      <td>arve</td>\n",
       "      <td>arve</td>\n",
       "      <td>arve</td>\n",
       "      <td>arve</td>\n",
       "      <td>['arve']</td>\n",
       "      <td>0</td>\n",
       "      <td></td>\n",
       "      <td>sg g</td>\n",
       "      <td>S</td>\n",
       "    </tr>\n",
       "  </tbody>\n",
       "</table>"
      ],
      "text/plain": [
       "Layer(name='morph_analysis', attributes=('normalized_text', 'lemma', 'root', 'root_tokens', 'ending', 'clitic', 'form', 'partofspeech'), spans=SL[Span('Kapten', [{'normalized_text': 'Kapten', 'lemma': 'kapten', 'root': 'kapten', 'root_tokens': ['kapten'], 'ending': '0', 'clitic': '', 'form': 'sg n', 'partofspeech': 'S'}]),\n",
       "Span('Trumm', [{'normalized_text': 'Trumm', 'lemma': 'Trumm', 'root': 'Trumm', 'root_tokens': ['Trumm'], 'ending': '0', 'clitic': '', 'form': 'sg n', 'partofspeech': 'H'}]),\n",
       "Span('tasus', [{'normalized_text': 'tasus', 'lemma': 'tasuma', 'root': 'tasu', 'root_tokens': ['tasu'], 'ending': 's', 'clitic': '', 'form': 's', 'partofspeech': 'V'}]),\n",
       "Span('arve', [{'normalized_text': 'arve', 'lemma': 'arve', 'root': 'arve', 'root_tokens': ['arve'], 'ending': '0', 'clitic': '', 'form': 'sg g', 'partofspeech': 'S'}])])"
      ]
     },
     "execution_count": 27,
     "metadata": {},
     "output_type": "execute_result"
    }
   ],
   "source": [
    "Text('Kapten Trumm tasus arve').tag_layer().morph_analysis"
   ]
  },
  {
   "cell_type": "code",
   "execution_count": 28,
   "metadata": {},
   "outputs": [
    {
     "data": {
      "text/html": [
       "<h4>Layer</h4>\n",
       "\n",
       "\n",
       "<table border=\"1\" class=\"dataframe\">\n",
       "  <thead>\n",
       "    <tr style=\"text-align: right;\">\n",
       "      <th>layer name</th>\n",
       "      <th>attributes</th>\n",
       "      <th>parent</th>\n",
       "      <th>enveloping</th>\n",
       "      <th>ambiguous</th>\n",
       "      <th>span count</th>\n",
       "    </tr>\n",
       "  </thead>\n",
       "  <tbody>\n",
       "    <tr>\n",
       "      <td>morph_analysis</td>\n",
       "      <td>normalized_text, lemma, root, root_tokens, ending, clitic, form, partofspeech</td>\n",
       "      <td>words</td>\n",
       "      <td>None</td>\n",
       "      <td>True</td>\n",
       "      <td>6</td>\n",
       "    </tr>\n",
       "  </tbody>\n",
       "</table>\n",
       "<table border=\"1\" class=\"dataframe\">\n",
       "  <thead>\n",
       "    <tr style=\"text-align: right;\">\n",
       "      <th>text</th>\n",
       "      <th>normalized_text</th>\n",
       "      <th>lemma</th>\n",
       "      <th>root</th>\n",
       "      <th>root_tokens</th>\n",
       "      <th>ending</th>\n",
       "      <th>clitic</th>\n",
       "      <th>form</th>\n",
       "      <th>partofspeech</th>\n",
       "    </tr>\n",
       "  </thead>\n",
       "  <tbody>\n",
       "    <tr>\n",
       "      <td>Suur</td>\n",
       "      <td>Suur</td>\n",
       "      <td>suur</td>\n",
       "      <td>suur</td>\n",
       "      <td>['suur']</td>\n",
       "      <td>0</td>\n",
       "      <td></td>\n",
       "      <td>sg n</td>\n",
       "      <td>A</td>\n",
       "    </tr>\n",
       "    <tr>\n",
       "      <td>Trumm</td>\n",
       "      <td>Trumm</td>\n",
       "      <td>trumm</td>\n",
       "      <td>trumm</td>\n",
       "      <td>['trumm']</td>\n",
       "      <td>0</td>\n",
       "      <td></td>\n",
       "      <td>sg n</td>\n",
       "      <td>S</td>\n",
       "    </tr>\n",
       "    <tr>\n",
       "      <td>oli</td>\n",
       "      <td>oli</td>\n",
       "      <td>olema</td>\n",
       "      <td>ole</td>\n",
       "      <td>['ole']</td>\n",
       "      <td>i</td>\n",
       "      <td></td>\n",
       "      <td>s</td>\n",
       "      <td>V</td>\n",
       "    </tr>\n",
       "    <tr>\n",
       "      <td>orkestrist</td>\n",
       "      <td>orkestrist</td>\n",
       "      <td>orkester</td>\n",
       "      <td>orkester</td>\n",
       "      <td>['orkester']</td>\n",
       "      <td>st</td>\n",
       "      <td></td>\n",
       "      <td>sg el</td>\n",
       "      <td>S</td>\n",
       "    </tr>\n",
       "    <tr>\n",
       "      <td>puudu</td>\n",
       "      <td>puudu</td>\n",
       "      <td>puudu</td>\n",
       "      <td>puudu</td>\n",
       "      <td>['puudu']</td>\n",
       "      <td>0</td>\n",
       "      <td></td>\n",
       "      <td></td>\n",
       "      <td>D</td>\n",
       "    </tr>\n",
       "    <tr>\n",
       "      <td>.</td>\n",
       "      <td>.</td>\n",
       "      <td>.</td>\n",
       "      <td>.</td>\n",
       "      <td>['.']</td>\n",
       "      <td></td>\n",
       "      <td></td>\n",
       "      <td></td>\n",
       "      <td>Z</td>\n",
       "    </tr>\n",
       "  </tbody>\n",
       "</table>"
      ],
      "text/plain": [
       "Layer(name='morph_analysis', attributes=('normalized_text', 'lemma', 'root', 'root_tokens', 'ending', 'clitic', 'form', 'partofspeech'), spans=SL[Span('Suur', [{'normalized_text': 'Suur', 'lemma': 'suur', 'root': 'suur', 'root_tokens': ['suur'], 'ending': '0', 'clitic': '', 'form': 'sg n', 'partofspeech': 'A'}]),\n",
       "Span('Trumm', [{'normalized_text': 'Trumm', 'lemma': 'trumm', 'root': 'trumm', 'root_tokens': ['trumm'], 'ending': '0', 'clitic': '', 'form': 'sg n', 'partofspeech': 'S'}]),\n",
       "Span('oli', [{'normalized_text': 'oli', 'lemma': 'olema', 'root': 'ole', 'root_tokens': ['ole'], 'ending': 'i', 'clitic': '', 'form': 's', 'partofspeech': 'V'}]),\n",
       "Span('orkestrist', [{'normalized_text': 'orkestrist', 'lemma': 'orkester', 'root': 'orkester', 'root_tokens': ['orkester'], 'ending': 'st', 'clitic': '', 'form': 'sg el', 'partofspeech': 'S'}]),\n",
       "Span('puudu', [{'normalized_text': 'puudu', 'lemma': 'puudu', 'root': 'puudu', 'root_tokens': ['puudu'], 'ending': '0', 'clitic': '', 'form': '', 'partofspeech': 'D'}]),\n",
       "Span('.', [{'normalized_text': '.', 'lemma': '.', 'root': '.', 'root_tokens': ['.'], 'ending': '', 'clitic': '', 'form': '', 'partofspeech': 'Z'}])])"
      ]
     },
     "execution_count": 28,
     "metadata": {},
     "output_type": "execute_result"
    }
   ],
   "source": [
    "Text('Suur Trumm oli orkestrist puudu.').tag_layer().morph_analysis"
   ]
  },
  {
   "cell_type": "markdown",
   "metadata": {},
   "source": [
    "#### Morfoloogilise analüüsi sätete muutmine\n",
    "\n",
    "Nii ühestajat, oletajat kui pärisnimede pakkujat on võimalik *Text* objekti morfoloogilisel märgendamisel välja lülitada. Morfanalüsaatori parameetrite muutmiseks peame kasutama *resolver*it, mis käib järgmiselt:"
   ]
  },
  {
   "cell_type": "code",
   "execution_count": 29,
   "metadata": {},
   "outputs": [],
   "source": [
    "from estnltk.default_resolver import make_resolver\n",
    "\n",
    "# Loome resolveri\n",
    "resolver = make_resolver(\n",
    "                 disambiguate=False, # keelame ühestamise\n",
    "                 guess=True,\n",
    "                 propername=True)"
   ]
  },
  {
   "cell_type": "code",
   "execution_count": 30,
   "metadata": {},
   "outputs": [
    {
     "data": {
      "text/html": [
       "<table border=\"1\" class=\"dataframe\">\n",
       "  <thead>\n",
       "    <tr style=\"text-align: right;\">\n",
       "      <th>text</th>\n",
       "    </tr>\n",
       "  </thead>\n",
       "  <tbody>\n",
       "    <tr>\n",
       "      <td><div align = \"left\">Kapten Trumm tasus arve.</div></td>\n",
       "    </tr>\n",
       "  </tbody>\n",
       "</table>\n",
       "<table border=\"1\" class=\"dataframe\">\n",
       "  <thead>\n",
       "    <tr style=\"text-align: right;\">\n",
       "      <th>layer name</th>\n",
       "      <th>attributes</th>\n",
       "      <th>parent</th>\n",
       "      <th>enveloping</th>\n",
       "      <th>ambiguous</th>\n",
       "      <th>span count</th>\n",
       "    </tr>\n",
       "  </thead>\n",
       "  <tbody>\n",
       "    <tr>\n",
       "      <td>sentences</td>\n",
       "      <td></td>\n",
       "      <td>None</td>\n",
       "      <td>words</td>\n",
       "      <td>False</td>\n",
       "      <td>1</td>\n",
       "    </tr>\n",
       "    <tr>\n",
       "      <td>tokens</td>\n",
       "      <td></td>\n",
       "      <td>None</td>\n",
       "      <td>None</td>\n",
       "      <td>False</td>\n",
       "      <td>5</td>\n",
       "    </tr>\n",
       "    <tr>\n",
       "      <td>compound_tokens</td>\n",
       "      <td>type, normalized</td>\n",
       "      <td>None</td>\n",
       "      <td>tokens</td>\n",
       "      <td>False</td>\n",
       "      <td>0</td>\n",
       "    </tr>\n",
       "    <tr>\n",
       "      <td>words</td>\n",
       "      <td>normalized_form</td>\n",
       "      <td>None</td>\n",
       "      <td>None</td>\n",
       "      <td>True</td>\n",
       "      <td>5</td>\n",
       "    </tr>\n",
       "    <tr>\n",
       "      <td>morph_analysis</td>\n",
       "      <td>normalized_text, lemma, root, root_tokens, ending, clitic, form, partofspeech, _ignore</td>\n",
       "      <td>words</td>\n",
       "      <td>None</td>\n",
       "      <td>True</td>\n",
       "      <td>5</td>\n",
       "    </tr>\n",
       "  </tbody>\n",
       "</table>"
      ],
      "text/plain": [
       "Text(text='Kapten Trumm tasus arve.')"
      ]
     },
     "execution_count": 30,
     "metadata": {},
     "output_type": "execute_result"
    }
   ],
   "source": [
    "# Teostame morfoloogilise analüüsi ilma ühestamiseta\n",
    "text = Text(\"Kapten Trumm tasus arve.\")\n",
    "text.tag_layer(resolver=resolver)"
   ]
  },
  {
   "cell_type": "code",
   "execution_count": 31,
   "metadata": {},
   "outputs": [
    {
     "data": {
      "text/html": [
       "<h4>Layer</h4>\n",
       "\n",
       "\n",
       "<table border=\"1\" class=\"dataframe\">\n",
       "  <thead>\n",
       "    <tr style=\"text-align: right;\">\n",
       "      <th>layer name</th>\n",
       "      <th>attributes</th>\n",
       "      <th>parent</th>\n",
       "      <th>enveloping</th>\n",
       "      <th>ambiguous</th>\n",
       "      <th>span count</th>\n",
       "    </tr>\n",
       "  </thead>\n",
       "  <tbody>\n",
       "    <tr>\n",
       "      <td>morph_analysis</td>\n",
       "      <td>normalized_text, lemma, root, root_tokens, ending, clitic, form, partofspeech, _ignore</td>\n",
       "      <td>words</td>\n",
       "      <td>None</td>\n",
       "      <td>True</td>\n",
       "      <td>5</td>\n",
       "    </tr>\n",
       "  </tbody>\n",
       "</table>\n",
       "<table border=\"1\" class=\"dataframe\">\n",
       "  <thead>\n",
       "    <tr style=\"text-align: right;\">\n",
       "      <th>text</th>\n",
       "      <th>normalized_text</th>\n",
       "      <th>lemma</th>\n",
       "      <th>root</th>\n",
       "      <th>root_tokens</th>\n",
       "      <th>ending</th>\n",
       "      <th>clitic</th>\n",
       "      <th>form</th>\n",
       "      <th>partofspeech</th>\n",
       "      <th>_ignore</th>\n",
       "    </tr>\n",
       "  </thead>\n",
       "  <tbody>\n",
       "    <tr>\n",
       "      <td>Kapten</td>\n",
       "      <td>Kapten</td>\n",
       "      <td>Kapten</td>\n",
       "      <td>Kapten</td>\n",
       "      <td>['Kapten']</td>\n",
       "      <td>0</td>\n",
       "      <td></td>\n",
       "      <td>sg n</td>\n",
       "      <td>H</td>\n",
       "      <td>False</td>\n",
       "    </tr>\n",
       "    <tr>\n",
       "      <td></td>\n",
       "      <td>Kapten</td>\n",
       "      <td>kapten</td>\n",
       "      <td>kapten</td>\n",
       "      <td>['kapten']</td>\n",
       "      <td>0</td>\n",
       "      <td></td>\n",
       "      <td>sg n</td>\n",
       "      <td>S</td>\n",
       "      <td>False</td>\n",
       "    </tr>\n",
       "    <tr>\n",
       "      <td>Trumm</td>\n",
       "      <td>Trumm</td>\n",
       "      <td>Trumm</td>\n",
       "      <td>Trumm</td>\n",
       "      <td>['Trumm']</td>\n",
       "      <td>0</td>\n",
       "      <td></td>\n",
       "      <td>sg n</td>\n",
       "      <td>H</td>\n",
       "      <td>False</td>\n",
       "    </tr>\n",
       "    <tr>\n",
       "      <td></td>\n",
       "      <td>Trumm</td>\n",
       "      <td>trumm</td>\n",
       "      <td>trumm</td>\n",
       "      <td>['trumm']</td>\n",
       "      <td>0</td>\n",
       "      <td></td>\n",
       "      <td>sg n</td>\n",
       "      <td>S</td>\n",
       "      <td>False</td>\n",
       "    </tr>\n",
       "    <tr>\n",
       "      <td>tasus</td>\n",
       "      <td>tasus</td>\n",
       "      <td>tasu</td>\n",
       "      <td>tasu</td>\n",
       "      <td>['tasu']</td>\n",
       "      <td>s</td>\n",
       "      <td></td>\n",
       "      <td>sg in</td>\n",
       "      <td>S</td>\n",
       "      <td>False</td>\n",
       "    </tr>\n",
       "    <tr>\n",
       "      <td></td>\n",
       "      <td>tasus</td>\n",
       "      <td>tasuma</td>\n",
       "      <td>tasu</td>\n",
       "      <td>['tasu']</td>\n",
       "      <td>s</td>\n",
       "      <td></td>\n",
       "      <td>s</td>\n",
       "      <td>V</td>\n",
       "      <td>False</td>\n",
       "    </tr>\n",
       "    <tr>\n",
       "      <td>arve</td>\n",
       "      <td>arve</td>\n",
       "      <td>arv</td>\n",
       "      <td>arv</td>\n",
       "      <td>['arv']</td>\n",
       "      <td>e</td>\n",
       "      <td></td>\n",
       "      <td>pl p</td>\n",
       "      <td>S</td>\n",
       "      <td>False</td>\n",
       "    </tr>\n",
       "    <tr>\n",
       "      <td></td>\n",
       "      <td>arve</td>\n",
       "      <td>arve</td>\n",
       "      <td>arve</td>\n",
       "      <td>['arve']</td>\n",
       "      <td>0</td>\n",
       "      <td></td>\n",
       "      <td>sg g</td>\n",
       "      <td>S</td>\n",
       "      <td>False</td>\n",
       "    </tr>\n",
       "    <tr>\n",
       "      <td></td>\n",
       "      <td>arve</td>\n",
       "      <td>arve</td>\n",
       "      <td>arve</td>\n",
       "      <td>['arve']</td>\n",
       "      <td>0</td>\n",
       "      <td></td>\n",
       "      <td>sg n</td>\n",
       "      <td>S</td>\n",
       "      <td>False</td>\n",
       "    </tr>\n",
       "    <tr>\n",
       "      <td>.</td>\n",
       "      <td>.</td>\n",
       "      <td>.</td>\n",
       "      <td>.</td>\n",
       "      <td>['.']</td>\n",
       "      <td></td>\n",
       "      <td></td>\n",
       "      <td></td>\n",
       "      <td>Z</td>\n",
       "      <td>False</td>\n",
       "    </tr>\n",
       "  </tbody>\n",
       "</table>"
      ],
      "text/plain": [
       "Layer(name='morph_analysis', attributes=('normalized_text', 'lemma', 'root', 'root_tokens', 'ending', 'clitic', 'form', 'partofspeech', '_ignore'), spans=SL[Span('Kapten', [{'normalized_text': 'Kapten', 'lemma': 'Kapten', 'root': 'Kapten', 'root_tokens': ['Kapten'], 'ending': '0', 'clitic': '', 'form': 'sg n', 'partofspeech': 'H', '_ignore': False}, {'normalized_text': 'Kapten', 'lemma': 'kapten', 'root': 'kapten', 'root_tokens': ['kapten'], 'ending': '0', 'clitic': '', 'form': 'sg n', 'partofspeech': 'S', '_ignore': False}]),\n",
       "Span('Trumm', [{'normalized_text': 'Trumm', 'lemma': 'Trumm', 'root': 'Trumm', 'root_tokens': ['Trumm'], 'ending': '0', 'clitic': '', 'form': 'sg n', 'partofspeech': 'H', '_ignore': False}, {'normalized_text': 'Trumm', 'lemma': 'trumm', 'root': 'trumm', 'root_tokens': ['trumm'], 'ending': '0', 'clitic': '', 'form': 'sg n', 'partofspeech': 'S', '_ignore': False}]),\n",
       "Span('tasus', [{'normalized_text': 'tasus', 'lemma': 'tasu', 'root': 'tasu', 'root_tokens': ['tasu'], 'ending': 's', 'clitic': '', 'form': 'sg in', 'partofspeech': 'S', '_ignore': False}, {'normalized_text': 'tasus', 'lemma': 'tasuma', 'root': 'tasu', 'root_tokens': ['tasu'], 'ending': 's', 'clitic': '', 'form': 's', 'partofspeech': 'V', '_ignore': False}]),\n",
       "Span('arve', [{'normalized_text': 'arve', 'lemma': 'arv', 'root': 'arv', 'root_tokens': ['arv'], 'ending': 'e', 'clitic': '', 'form': 'pl p', 'partofspeech': 'S', '_ignore': False}, {'normalized_text': 'arve', 'lemma': 'arve', 'root': 'arve', 'root_tokens': ['arve'], 'ending': '0', 'clitic': '', 'form': 'sg g', 'partofspeech': 'S', '_ignore': False}, {'normalized_text': 'arve', 'lemma': 'arve', 'root': 'arve', 'root_tokens': ['arve'], 'ending': '0', 'clitic': '', 'form': 'sg n', 'partofspeech': 'S', '_ignore': False}]),\n",
       "Span('.', [{'normalized_text': '.', 'lemma': '.', 'root': '.', 'root_tokens': ['.'], 'ending': '', 'clitic': '', 'form': '', 'partofspeech': 'Z', '_ignore': False}])])"
      ]
     },
     "execution_count": 31,
     "metadata": {},
     "output_type": "execute_result"
    }
   ],
   "source": [
    "text.morph_analysis"
   ]
  },
  {
   "cell_type": "markdown",
   "metadata": {},
   "source": [
    "Näeme, et ühestaja väljalülitamisel (`disambiguate = False`) antakse välja kõik võimalikud morfoloogilise analüüsi tõlgendused sõnade kohta (k.a sellised, mis konteksti kuidagi ei sobi)."
   ]
  },
  {
   "cell_type": "markdown",
   "metadata": {},
   "source": [
    "Kui lülitame välja nii ühestamise kui oletamised (guess=False, propername=False, disambiguate=False), saame kasutada morfanalüsaatorit selleks, et leida tundmatuid sõnu - sõnu, mis kas ei ole korrektselt kirjutatud või ei esine kirjakeeles. Uut *resolver*'it luues peame arvestama ka asjaoluga, et *resolver* märgib tekstile peale ainult need kihid, mida veel ei ole. Ehk siis, et näha parameetrite muutmisel tekkivaid muutusi, peame kas looma uue Text objekti või kustutama ära vastava kihi."
   ]
  },
  {
   "cell_type": "code",
   "execution_count": 32,
   "metadata": {},
   "outputs": [
    {
     "data": {
      "text/html": [
       "<h4>Layer</h4>\n",
       "\n",
       "\n",
       "<table border=\"1\" class=\"dataframe\">\n",
       "  <thead>\n",
       "    <tr style=\"text-align: right;\">\n",
       "      <th>layer name</th>\n",
       "      <th>attributes</th>\n",
       "      <th>parent</th>\n",
       "      <th>enveloping</th>\n",
       "      <th>ambiguous</th>\n",
       "      <th>span count</th>\n",
       "    </tr>\n",
       "  </thead>\n",
       "  <tbody>\n",
       "    <tr>\n",
       "      <td>morph_analysis</td>\n",
       "      <td>normalized_text, lemma, root, root_tokens, ending, clitic, form, partofspeech, _ignore</td>\n",
       "      <td>words</td>\n",
       "      <td>None</td>\n",
       "      <td>True</td>\n",
       "      <td>5</td>\n",
       "    </tr>\n",
       "  </tbody>\n",
       "</table>\n",
       "<table border=\"1\" class=\"dataframe\">\n",
       "  <thead>\n",
       "    <tr style=\"text-align: right;\">\n",
       "      <th>text</th>\n",
       "      <th>normalized_text</th>\n",
       "      <th>lemma</th>\n",
       "      <th>root</th>\n",
       "      <th>root_tokens</th>\n",
       "      <th>ending</th>\n",
       "      <th>clitic</th>\n",
       "      <th>form</th>\n",
       "      <th>partofspeech</th>\n",
       "      <th>_ignore</th>\n",
       "    </tr>\n",
       "  </thead>\n",
       "  <tbody>\n",
       "    <tr>\n",
       "      <td>Kapten</td>\n",
       "      <td>Kapten</td>\n",
       "      <td>Kapten</td>\n",
       "      <td>Kapten</td>\n",
       "      <td>['Kapten']</td>\n",
       "      <td>0</td>\n",
       "      <td></td>\n",
       "      <td>sg n</td>\n",
       "      <td>H</td>\n",
       "      <td>False</td>\n",
       "    </tr>\n",
       "    <tr>\n",
       "      <td></td>\n",
       "      <td>Kapten</td>\n",
       "      <td>kapten</td>\n",
       "      <td>kapten</td>\n",
       "      <td>['kapten']</td>\n",
       "      <td>0</td>\n",
       "      <td></td>\n",
       "      <td>sg n</td>\n",
       "      <td>S</td>\n",
       "      <td>False</td>\n",
       "    </tr>\n",
       "    <tr>\n",
       "      <td>Trumm</td>\n",
       "      <td>Trumm</td>\n",
       "      <td>Trumm</td>\n",
       "      <td>Trumm</td>\n",
       "      <td>['Trumm']</td>\n",
       "      <td>0</td>\n",
       "      <td></td>\n",
       "      <td>sg n</td>\n",
       "      <td>H</td>\n",
       "      <td>False</td>\n",
       "    </tr>\n",
       "    <tr>\n",
       "      <td></td>\n",
       "      <td>Trumm</td>\n",
       "      <td>trumm</td>\n",
       "      <td>trumm</td>\n",
       "      <td>['trumm']</td>\n",
       "      <td>0</td>\n",
       "      <td></td>\n",
       "      <td>sg n</td>\n",
       "      <td>S</td>\n",
       "      <td>False</td>\n",
       "    </tr>\n",
       "    <tr>\n",
       "      <td>tasus</td>\n",
       "      <td>tasus</td>\n",
       "      <td>tasu</td>\n",
       "      <td>tasu</td>\n",
       "      <td>['tasu']</td>\n",
       "      <td>s</td>\n",
       "      <td></td>\n",
       "      <td>sg in</td>\n",
       "      <td>S</td>\n",
       "      <td>False</td>\n",
       "    </tr>\n",
       "    <tr>\n",
       "      <td></td>\n",
       "      <td>tasus</td>\n",
       "      <td>tasuma</td>\n",
       "      <td>tasu</td>\n",
       "      <td>['tasu']</td>\n",
       "      <td>s</td>\n",
       "      <td></td>\n",
       "      <td>s</td>\n",
       "      <td>V</td>\n",
       "      <td>False</td>\n",
       "    </tr>\n",
       "    <tr>\n",
       "      <td>arve</td>\n",
       "      <td>arve</td>\n",
       "      <td>arv</td>\n",
       "      <td>arv</td>\n",
       "      <td>['arv']</td>\n",
       "      <td>e</td>\n",
       "      <td></td>\n",
       "      <td>pl p</td>\n",
       "      <td>S</td>\n",
       "      <td>False</td>\n",
       "    </tr>\n",
       "    <tr>\n",
       "      <td></td>\n",
       "      <td>arve</td>\n",
       "      <td>arve</td>\n",
       "      <td>arve</td>\n",
       "      <td>['arve']</td>\n",
       "      <td>0</td>\n",
       "      <td></td>\n",
       "      <td>sg g</td>\n",
       "      <td>S</td>\n",
       "      <td>False</td>\n",
       "    </tr>\n",
       "    <tr>\n",
       "      <td></td>\n",
       "      <td>arve</td>\n",
       "      <td>arve</td>\n",
       "      <td>arve</td>\n",
       "      <td>['arve']</td>\n",
       "      <td>0</td>\n",
       "      <td></td>\n",
       "      <td>sg n</td>\n",
       "      <td>S</td>\n",
       "      <td>False</td>\n",
       "    </tr>\n",
       "    <tr>\n",
       "      <td>.</td>\n",
       "      <td>.</td>\n",
       "      <td>.</td>\n",
       "      <td>.</td>\n",
       "      <td>['.']</td>\n",
       "      <td></td>\n",
       "      <td></td>\n",
       "      <td></td>\n",
       "      <td>Z</td>\n",
       "      <td>False</td>\n",
       "    </tr>\n",
       "  </tbody>\n",
       "</table>"
      ],
      "text/plain": [
       "Layer(name='morph_analysis', attributes=('normalized_text', 'lemma', 'root', 'root_tokens', 'ending', 'clitic', 'form', 'partofspeech', '_ignore'), spans=SL[Span('Kapten', [{'normalized_text': 'Kapten', 'lemma': 'Kapten', 'root': 'Kapten', 'root_tokens': ['Kapten'], 'ending': '0', 'clitic': '', 'form': 'sg n', 'partofspeech': 'H', '_ignore': False}, {'normalized_text': 'Kapten', 'lemma': 'kapten', 'root': 'kapten', 'root_tokens': ['kapten'], 'ending': '0', 'clitic': '', 'form': 'sg n', 'partofspeech': 'S', '_ignore': False}]),\n",
       "Span('Trumm', [{'normalized_text': 'Trumm', 'lemma': 'Trumm', 'root': 'Trumm', 'root_tokens': ['Trumm'], 'ending': '0', 'clitic': '', 'form': 'sg n', 'partofspeech': 'H', '_ignore': False}, {'normalized_text': 'Trumm', 'lemma': 'trumm', 'root': 'trumm', 'root_tokens': ['trumm'], 'ending': '0', 'clitic': '', 'form': 'sg n', 'partofspeech': 'S', '_ignore': False}]),\n",
       "Span('tasus', [{'normalized_text': 'tasus', 'lemma': 'tasu', 'root': 'tasu', 'root_tokens': ['tasu'], 'ending': 's', 'clitic': '', 'form': 'sg in', 'partofspeech': 'S', '_ignore': False}, {'normalized_text': 'tasus', 'lemma': 'tasuma', 'root': 'tasu', 'root_tokens': ['tasu'], 'ending': 's', 'clitic': '', 'form': 's', 'partofspeech': 'V', '_ignore': False}]),\n",
       "Span('arve', [{'normalized_text': 'arve', 'lemma': 'arv', 'root': 'arv', 'root_tokens': ['arv'], 'ending': 'e', 'clitic': '', 'form': 'pl p', 'partofspeech': 'S', '_ignore': False}, {'normalized_text': 'arve', 'lemma': 'arve', 'root': 'arve', 'root_tokens': ['arve'], 'ending': '0', 'clitic': '', 'form': 'sg g', 'partofspeech': 'S', '_ignore': False}, {'normalized_text': 'arve', 'lemma': 'arve', 'root': 'arve', 'root_tokens': ['arve'], 'ending': '0', 'clitic': '', 'form': 'sg n', 'partofspeech': 'S', '_ignore': False}]),\n",
       "Span('.', [{'normalized_text': '.', 'lemma': '.', 'root': '.', 'root_tokens': ['.'], 'ending': '', 'clitic': '', 'form': '', 'partofspeech': 'Z', '_ignore': False}])])"
      ]
     },
     "execution_count": 32,
     "metadata": {},
     "output_type": "execute_result"
    }
   ],
   "source": [
    "text.pop_layer('morph_analysis')  # Kustutame ära morfoloogilise analüüsi kihi"
   ]
  },
  {
   "cell_type": "code",
   "execution_count": 33,
   "metadata": {},
   "outputs": [],
   "source": [
    "resolver2 = make_resolver(\n",
    "                 disambiguate=False, # keelame ühestamise\n",
    "                 guess=False, # keelame oletamise\n",
    "                 propername=False) # keelame pärisnimede oletamise"
   ]
  },
  {
   "cell_type": "code",
   "execution_count": 34,
   "metadata": {},
   "outputs": [],
   "source": [
    "text = Text('Tüdrukud läksid poodelungile.').tag_layer(resolver = resolver2)"
   ]
  },
  {
   "cell_type": "code",
   "execution_count": 35,
   "metadata": {},
   "outputs": [
    {
     "data": {
      "text/html": [
       "<h4>Layer</h4>\n",
       "\n",
       "\n",
       "<table border=\"1\" class=\"dataframe\">\n",
       "  <thead>\n",
       "    <tr style=\"text-align: right;\">\n",
       "      <th>layer name</th>\n",
       "      <th>attributes</th>\n",
       "      <th>parent</th>\n",
       "      <th>enveloping</th>\n",
       "      <th>ambiguous</th>\n",
       "      <th>span count</th>\n",
       "    </tr>\n",
       "  </thead>\n",
       "  <tbody>\n",
       "    <tr>\n",
       "      <td>morph_analysis</td>\n",
       "      <td>normalized_text, lemma, root, root_tokens, ending, clitic, form, partofspeech, _ignore</td>\n",
       "      <td>words</td>\n",
       "      <td>None</td>\n",
       "      <td>True</td>\n",
       "      <td>4</td>\n",
       "    </tr>\n",
       "  </tbody>\n",
       "</table>\n",
       "<table border=\"1\" class=\"dataframe\">\n",
       "  <thead>\n",
       "    <tr style=\"text-align: right;\">\n",
       "      <th>text</th>\n",
       "      <th>normalized_text</th>\n",
       "      <th>lemma</th>\n",
       "      <th>root</th>\n",
       "      <th>root_tokens</th>\n",
       "      <th>ending</th>\n",
       "      <th>clitic</th>\n",
       "      <th>form</th>\n",
       "      <th>partofspeech</th>\n",
       "      <th>_ignore</th>\n",
       "    </tr>\n",
       "  </thead>\n",
       "  <tbody>\n",
       "    <tr>\n",
       "      <td>Tüdrukud</td>\n",
       "      <td>Tüdrukud</td>\n",
       "      <td>tüdruk</td>\n",
       "      <td>tüdruk</td>\n",
       "      <td>['tüdruk']</td>\n",
       "      <td>d</td>\n",
       "      <td></td>\n",
       "      <td>pl n</td>\n",
       "      <td>S</td>\n",
       "      <td>False</td>\n",
       "    </tr>\n",
       "    <tr>\n",
       "      <td>läksid</td>\n",
       "      <td>läksid</td>\n",
       "      <td>minema</td>\n",
       "      <td>mine</td>\n",
       "      <td>['mine']</td>\n",
       "      <td>sid</td>\n",
       "      <td></td>\n",
       "      <td>sid</td>\n",
       "      <td>V</td>\n",
       "      <td>False</td>\n",
       "    </tr>\n",
       "    <tr>\n",
       "      <td>poodelungile</td>\n",
       "      <td>None</td>\n",
       "      <td>None</td>\n",
       "      <td>None</td>\n",
       "      <td>None</td>\n",
       "      <td>None</td>\n",
       "      <td>None</td>\n",
       "      <td>None</td>\n",
       "      <td>None</td>\n",
       "      <td>False</td>\n",
       "    </tr>\n",
       "    <tr>\n",
       "      <td>.</td>\n",
       "      <td>None</td>\n",
       "      <td>None</td>\n",
       "      <td>None</td>\n",
       "      <td>None</td>\n",
       "      <td>None</td>\n",
       "      <td>None</td>\n",
       "      <td>None</td>\n",
       "      <td>None</td>\n",
       "      <td>False</td>\n",
       "    </tr>\n",
       "  </tbody>\n",
       "</table>"
      ],
      "text/plain": [
       "Layer(name='morph_analysis', attributes=('normalized_text', 'lemma', 'root', 'root_tokens', 'ending', 'clitic', 'form', 'partofspeech', '_ignore'), spans=SL[Span('Tüdrukud', [{'normalized_text': 'Tüdrukud', 'lemma': 'tüdruk', 'root': 'tüdruk', 'root_tokens': ['tüdruk'], 'ending': 'd', 'clitic': '', 'form': 'pl n', 'partofspeech': 'S', '_ignore': False}]),\n",
       "Span('läksid', [{'normalized_text': 'läksid', 'lemma': 'minema', 'root': 'mine', 'root_tokens': ['mine'], 'ending': 'sid', 'clitic': '', 'form': 'sid', 'partofspeech': 'V', '_ignore': False}]),\n",
       "Span('poodelungile', [{'normalized_text': None, 'lemma': None, 'root': None, 'root_tokens': None, 'ending': None, 'clitic': None, 'form': None, 'partofspeech': None, '_ignore': False}]),\n",
       "Span('.', [{'normalized_text': None, 'lemma': None, 'root': None, 'root_tokens': None, 'ending': None, 'clitic': None, 'form': None, 'partofspeech': None, '_ignore': False}])])"
      ]
     },
     "execution_count": 35,
     "metadata": {},
     "output_type": "execute_result"
    }
   ],
   "source": [
    "text.morph_analysis"
   ]
  },
  {
   "cell_type": "markdown",
   "metadata": {},
   "source": [
    "Näeme, et oletaja väljalülitamisel (guess = False) jäävad analüsaatori jaoks tundmatutele sõnadele analüüsid määramata.\n",
    "\n",
    "**NB!** Oletamise (guess = False) väljalülitamine toimib ainult siis, kui ka ühestamine ja pärisnimeanalüüside pakkumine on välja lülitatud. Kui kasutada ainult guess = False, siis seda ignoreeritakse ning morfanalüüs teostatakse vaikeparameetritega. Seda seetõttu, et ühestaja suudab ühestada vaid teksti, kus igal sõnal on analüüs olemas."
   ]
  },
  {
   "cell_type": "markdown",
   "metadata": {},
   "source": [
    "**NB2!** Kui oletamine on välja lülitatud, jäävad analüüsid määramata ka kirjavahemärkidele. Seetõttu ongi eelmises näites kaks `None` analüüsi: üks sõna 'poodelungile' kohta ja teine '.' kohta."
   ]
  },
  {
   "cell_type": "markdown",
   "metadata": {},
   "source": [
    "Pärisnimede pakkuja väljalülitamisel (`propername = False`) kaovad ära pärisnimetõlgendused:"
   ]
  },
  {
   "cell_type": "code",
   "execution_count": 36,
   "metadata": {},
   "outputs": [],
   "source": [
    "resolver3 = make_resolver(\n",
    "                 disambiguate=True, # keelame ühestamise\n",
    "                 guess=True, # keelame oletamise\n",
    "                 propername=False) # keelame pärisnimede oletamise"
   ]
  },
  {
   "cell_type": "code",
   "execution_count": 37,
   "metadata": {},
   "outputs": [],
   "source": [
    "text = Text('Kapten Trumm tasus arve.').tag_layer(resolver = resolver3)"
   ]
  },
  {
   "cell_type": "code",
   "execution_count": 38,
   "metadata": {},
   "outputs": [
    {
     "data": {
      "text/html": [
       "<h4>Layer</h4>\n",
       "\n",
       "\n",
       "<table border=\"1\" class=\"dataframe\">\n",
       "  <thead>\n",
       "    <tr style=\"text-align: right;\">\n",
       "      <th>layer name</th>\n",
       "      <th>attributes</th>\n",
       "      <th>parent</th>\n",
       "      <th>enveloping</th>\n",
       "      <th>ambiguous</th>\n",
       "      <th>span count</th>\n",
       "    </tr>\n",
       "  </thead>\n",
       "  <tbody>\n",
       "    <tr>\n",
       "      <td>morph_analysis</td>\n",
       "      <td>normalized_text, lemma, root, root_tokens, ending, clitic, form, partofspeech</td>\n",
       "      <td>words</td>\n",
       "      <td>None</td>\n",
       "      <td>True</td>\n",
       "      <td>5</td>\n",
       "    </tr>\n",
       "  </tbody>\n",
       "</table>\n",
       "<table border=\"1\" class=\"dataframe\">\n",
       "  <thead>\n",
       "    <tr style=\"text-align: right;\">\n",
       "      <th>text</th>\n",
       "      <th>normalized_text</th>\n",
       "      <th>lemma</th>\n",
       "      <th>root</th>\n",
       "      <th>root_tokens</th>\n",
       "      <th>ending</th>\n",
       "      <th>clitic</th>\n",
       "      <th>form</th>\n",
       "      <th>partofspeech</th>\n",
       "    </tr>\n",
       "  </thead>\n",
       "  <tbody>\n",
       "    <tr>\n",
       "      <td>Kapten</td>\n",
       "      <td>Kapten</td>\n",
       "      <td>kapten</td>\n",
       "      <td>kapten</td>\n",
       "      <td>['kapten']</td>\n",
       "      <td>0</td>\n",
       "      <td></td>\n",
       "      <td>sg n</td>\n",
       "      <td>S</td>\n",
       "    </tr>\n",
       "    <tr>\n",
       "      <td>Trumm</td>\n",
       "      <td>Trumm</td>\n",
       "      <td>trumm</td>\n",
       "      <td>trumm</td>\n",
       "      <td>['trumm']</td>\n",
       "      <td>0</td>\n",
       "      <td></td>\n",
       "      <td>sg n</td>\n",
       "      <td>S</td>\n",
       "    </tr>\n",
       "    <tr>\n",
       "      <td>tasus</td>\n",
       "      <td>tasus</td>\n",
       "      <td>tasuma</td>\n",
       "      <td>tasu</td>\n",
       "      <td>['tasu']</td>\n",
       "      <td>s</td>\n",
       "      <td></td>\n",
       "      <td>s</td>\n",
       "      <td>V</td>\n",
       "    </tr>\n",
       "    <tr>\n",
       "      <td>arve</td>\n",
       "      <td>arve</td>\n",
       "      <td>arve</td>\n",
       "      <td>arve</td>\n",
       "      <td>['arve']</td>\n",
       "      <td>0</td>\n",
       "      <td></td>\n",
       "      <td>sg n</td>\n",
       "      <td>S</td>\n",
       "    </tr>\n",
       "    <tr>\n",
       "      <td>.</td>\n",
       "      <td>.</td>\n",
       "      <td>.</td>\n",
       "      <td>.</td>\n",
       "      <td>['.']</td>\n",
       "      <td></td>\n",
       "      <td></td>\n",
       "      <td></td>\n",
       "      <td>Z</td>\n",
       "    </tr>\n",
       "  </tbody>\n",
       "</table>"
      ],
      "text/plain": [
       "Layer(name='morph_analysis', attributes=('normalized_text', 'lemma', 'root', 'root_tokens', 'ending', 'clitic', 'form', 'partofspeech'), spans=SL[Span('Kapten', [{'normalized_text': 'Kapten', 'lemma': 'kapten', 'root': 'kapten', 'root_tokens': ['kapten'], 'ending': '0', 'clitic': '', 'form': 'sg n', 'partofspeech': 'S'}]),\n",
       "Span('Trumm', [{'normalized_text': 'Trumm', 'lemma': 'trumm', 'root': 'trumm', 'root_tokens': ['trumm'], 'ending': '0', 'clitic': '', 'form': 'sg n', 'partofspeech': 'S'}]),\n",
       "Span('tasus', [{'normalized_text': 'tasus', 'lemma': 'tasuma', 'root': 'tasu', 'root_tokens': ['tasu'], 'ending': 's', 'clitic': '', 'form': 's', 'partofspeech': 'V'}]),\n",
       "Span('arve', [{'normalized_text': 'arve', 'lemma': 'arve', 'root': 'arve', 'root_tokens': ['arve'], 'ending': '0', 'clitic': '', 'form': 'sg n', 'partofspeech': 'S'}]),\n",
       "Span('.', [{'normalized_text': '.', 'lemma': '.', 'root': '.', 'root_tokens': ['.'], 'ending': '', 'clitic': '', 'form': '', 'partofspeech': 'Z'}])])"
      ]
     },
     "execution_count": 38,
     "metadata": {},
     "output_type": "execute_result"
    }
   ],
   "source": [
    "text.morph_analysis"
   ]
  },
  {
   "cell_type": "markdown",
   "metadata": {
    "pycharm": {
     "name": "#%% raw\n"
    }
   },
   "source": [
    "### Vaheülesanne: itereerimine üle mitmese märgenduse\n",
    "\n",
    "Kasutage resolverit ühestamise väljalülitamiseks ning kuvage lause \"Aurav tee jahtub tassis ära.\" iga sõna esinevad morfoloogilised analüüsid iga sõna kohta kujul:\n",
    "\n",
    "    TEE\n",
    "    tee -  S\n",
    "    tegema - V\n",
    "\n",
    "Pane tähele, et lemmad ja sõnaliigid peavad olema vastavuses."
   ]
  },
  {
   "cell_type": "markdown",
   "metadata": {},
   "source": [
    "### Ülesanne 2.  Morfoloogilise analüüsi katsetamine (1p)\n",
    "\n",
    "Leidke praktikumi materjalide hulgast fail *parasiitlusest.txt*. Lugege fail sisse, konverteerige *Text* objektiks ning teostage morfoloogiline analüüs. Täiendage oma koodi nii, et saaks vastata järgmistele küsimustele:\n",
    "\n",
    "A. Kui suur on dokumendi sõnavara (ehk unikaalsete tekstisõnede arv) ilma lemmatiseerimata? Vaadake normaliseeritud sõnu ehk atribuuti *normalized_text*. Mitmeseks jäänud analüüside puhul võib vaadata ainult esimest varianti.\n",
    "\n",
    "B. Kui suur on dokumendi sõnavara lemmatiseeritult?\n",
    "\n",
    "C. Mitu % tekstisõnadest jääb mitmeseks (on mitu analüüsi) koos morfoloogilise ühestamisega? (Ei ole vaja vaadata unikaalseid sõnu.)\n",
    "\n",
    "D. Mitu % tekstisõnadest jääb mitmeseks ilma morfoloogilise ühestamiseta?"
   ]
  },
  {
   "cell_type": "markdown",
   "metadata": {},
   "source": [
    "**Vihjed:**\n",
    "* Teksti kodeeringuks on utf-8\n",
    "* Analüüside arvu saame kätte *morph_analysis* kihi *annotations* atribuudi abil:"
   ]
  },
  {
   "cell_type": "code",
   "execution_count": 39,
   "metadata": {},
   "outputs": [
    {
     "name": "stdout",
     "output_type": "stream",
     "text": [
      "1\n",
      "4\n",
      "1\n",
      "1\n",
      "1\n",
      "1\n"
     ]
    }
   ],
   "source": [
    "text = Text('Hundid söönud, lambad terved.').tag_layer()\n",
    "for word in text.morph_analysis:\n",
    "    print(len(word.annotations))"
   ]
  },
  {
   "cell_type": "markdown",
   "metadata": {},
   "source": [
    "###  Õigekirjakontroll"
   ]
  },
  {
   "cell_type": "markdown",
   "metadata": {},
   "source": [
    "EstNLTK-s on olemas tööriist õigekirjakontrolli jaoks, mida saab kasutada järgmiselt:"
   ]
  },
  {
   "cell_type": "code",
   "execution_count": 40,
   "metadata": {},
   "outputs": [
    {
     "data": {
      "text/html": [
       "<h4>Layer</h4>\n",
       "\n",
       "\n",
       "<table border=\"1\" class=\"dataframe\">\n",
       "  <thead>\n",
       "    <tr style=\"text-align: right;\">\n",
       "      <th>layer name</th>\n",
       "      <th>attributes</th>\n",
       "      <th>parent</th>\n",
       "      <th>enveloping</th>\n",
       "      <th>ambiguous</th>\n",
       "      <th>span count</th>\n",
       "    </tr>\n",
       "  </thead>\n",
       "  <tbody>\n",
       "    <tr>\n",
       "      <td>words</td>\n",
       "      <td>normalized_form</td>\n",
       "      <td>None</td>\n",
       "      <td>None</td>\n",
       "      <td>True</td>\n",
       "      <td>13</td>\n",
       "    </tr>\n",
       "  </tbody>\n",
       "</table>\n",
       "<table border=\"1\" class=\"dataframe\">\n",
       "  <thead>\n",
       "    <tr style=\"text-align: right;\">\n",
       "      <th>text</th>\n",
       "      <th>normalized_form</th>\n",
       "    </tr>\n",
       "  </thead>\n",
       "  <tbody>\n",
       "    <tr>\n",
       "      <td>Ma</td>\n",
       "      <td>None</td>\n",
       "    </tr>\n",
       "    <tr>\n",
       "      <td>tahax</td>\n",
       "      <td>tahaks</td>\n",
       "    </tr>\n",
       "    <tr>\n",
       "      <td>minna</td>\n",
       "      <td>None</td>\n",
       "    </tr>\n",
       "    <tr>\n",
       "      <td>järve</td>\n",
       "      <td>None</td>\n",
       "    </tr>\n",
       "    <tr>\n",
       "      <td>äärde</td>\n",
       "      <td>None</td>\n",
       "    </tr>\n",
       "    <tr>\n",
       "      <td>ja</td>\n",
       "      <td>None</td>\n",
       "    </tr>\n",
       "    <tr>\n",
       "      <td>püda</td>\n",
       "      <td>püüda</td>\n",
       "    </tr>\n",
       "    <tr>\n",
       "      <td>hauge</td>\n",
       "      <td>None</td>\n",
       "    </tr>\n",
       "    <tr>\n",
       "      <td>,</td>\n",
       "      <td>None</td>\n",
       "    </tr>\n",
       "    <tr>\n",
       "      <td>katikaid</td>\n",
       "      <td>kaikaid</td>\n",
       "    </tr>\n",
       "    <tr>\n",
       "      <td>ja</td>\n",
       "      <td>None</td>\n",
       "    </tr>\n",
       "    <tr>\n",
       "      <td>karpe</td>\n",
       "      <td>None</td>\n",
       "    </tr>\n",
       "    <tr>\n",
       "      <td>.</td>\n",
       "      <td>None</td>\n",
       "    </tr>\n",
       "  </tbody>\n",
       "</table>"
      ],
      "text/plain": [
       "Layer(name='words', attributes=('normalized_form',), spans=SL[Span('Ma', [{'normalized_form': None}]),\n",
       "Span('tahax', [{'normalized_form': 'tahaks'}]),\n",
       "Span('minna', [{'normalized_form': None}]),\n",
       "Span('järve', [{'normalized_form': None}]),\n",
       "Span('äärde', [{'normalized_form': None}]),\n",
       "Span('ja', [{'normalized_form': None}]),\n",
       "Span('püda', [{'normalized_form': 'püüda'}]),\n",
       "Span('hauge', [{'normalized_form': None}]),\n",
       "Span(',', [{'normalized_form': None}]),\n",
       "Span('katikaid', [{'normalized_form': 'kaikaid'}]),\n",
       "Span('ja', [{'normalized_form': None}]),\n",
       "Span('karpe', [{'normalized_form': None}]),\n",
       "Span('.', [{'normalized_form': None}])])"
      ]
     },
     "execution_count": 40,
     "metadata": {},
     "output_type": "execute_result"
    }
   ],
   "source": [
    "from estnltk.taggers import SpellCheckRetagger\n",
    "\n",
    "# Loome kirjavigadega teksti ja märgime sellele peale sõnade kihi\n",
    "text = Text('Ma tahax minna järve äärde ja püda hauge, katikaid ja karpe.').tag_layer(['words'])\n",
    "\n",
    "# Loome õigekirjakontrollija\n",
    "spelling_tagger=SpellCheckRetagger()\n",
    "\n",
    "# Lisame vigastele sõnadele normaliseeritud kuju\n",
    "spelling_tagger.retag(text)\n",
    "\n",
    "# Vaatame tulemusi\n",
    "text.words"
   ]
  },
  {
   "cell_type": "markdown",
   "metadata": {},
   "source": [
    "Nagu näha, siis algses lauses on kolmest veast kahele korrektne vaste leitud, kolmandale aga mitte."
   ]
  },
  {
   "cell_type": "markdown",
   "metadata": {},
   "source": [
    "Morfoloogilisel analüüsil võetakse õigekirjavigade parandusi arvesse. Kui sõna 'normalized_form' sisaldab parandatud varianti, siis kasutatakse morfoloogilisel analüüsil seda, mitte algset varianti. Et seda näha, märgime parandatud tekstile peale morfoloogilise analüüsi kihi:"
   ]
  },
  {
   "cell_type": "code",
   "execution_count": 41,
   "metadata": {},
   "outputs": [
    {
     "data": {
      "text/html": [
       "<h4>Layer</h4>\n",
       "\n",
       "\n",
       "<table border=\"1\" class=\"dataframe\">\n",
       "  <thead>\n",
       "    <tr style=\"text-align: right;\">\n",
       "      <th>layer name</th>\n",
       "      <th>attributes</th>\n",
       "      <th>parent</th>\n",
       "      <th>enveloping</th>\n",
       "      <th>ambiguous</th>\n",
       "      <th>span count</th>\n",
       "    </tr>\n",
       "  </thead>\n",
       "  <tbody>\n",
       "    <tr>\n",
       "      <td>morph_analysis</td>\n",
       "      <td>normalized_text, lemma, root, root_tokens, ending, clitic, form, partofspeech</td>\n",
       "      <td>words</td>\n",
       "      <td>None</td>\n",
       "      <td>True</td>\n",
       "      <td>13</td>\n",
       "    </tr>\n",
       "  </tbody>\n",
       "</table>\n",
       "<table border=\"1\" class=\"dataframe\">\n",
       "  <thead>\n",
       "    <tr style=\"text-align: right;\">\n",
       "      <th>text</th>\n",
       "      <th>normalized_text</th>\n",
       "      <th>lemma</th>\n",
       "      <th>root</th>\n",
       "      <th>root_tokens</th>\n",
       "      <th>ending</th>\n",
       "      <th>clitic</th>\n",
       "      <th>form</th>\n",
       "      <th>partofspeech</th>\n",
       "    </tr>\n",
       "  </thead>\n",
       "  <tbody>\n",
       "    <tr>\n",
       "      <td>Ma</td>\n",
       "      <td>Ma</td>\n",
       "      <td>mina</td>\n",
       "      <td>mina</td>\n",
       "      <td>['mina']</td>\n",
       "      <td>0</td>\n",
       "      <td></td>\n",
       "      <td>sg n</td>\n",
       "      <td>P</td>\n",
       "    </tr>\n",
       "    <tr>\n",
       "      <td>tahax</td>\n",
       "      <td>tahaks</td>\n",
       "      <td>tahtma</td>\n",
       "      <td>taht</td>\n",
       "      <td>['taht']</td>\n",
       "      <td>ks</td>\n",
       "      <td></td>\n",
       "      <td>ks</td>\n",
       "      <td>V</td>\n",
       "    </tr>\n",
       "    <tr>\n",
       "      <td>minna</td>\n",
       "      <td>minna</td>\n",
       "      <td>minema</td>\n",
       "      <td>mine</td>\n",
       "      <td>['mine']</td>\n",
       "      <td>a</td>\n",
       "      <td></td>\n",
       "      <td>da</td>\n",
       "      <td>V</td>\n",
       "    </tr>\n",
       "    <tr>\n",
       "      <td>järve</td>\n",
       "      <td>järve</td>\n",
       "      <td>järv</td>\n",
       "      <td>järv</td>\n",
       "      <td>['järv']</td>\n",
       "      <td>0</td>\n",
       "      <td></td>\n",
       "      <td>sg g</td>\n",
       "      <td>S</td>\n",
       "    </tr>\n",
       "    <tr>\n",
       "      <td>äärde</td>\n",
       "      <td>äärde</td>\n",
       "      <td>äärde</td>\n",
       "      <td>äärde</td>\n",
       "      <td>['äärde']</td>\n",
       "      <td>0</td>\n",
       "      <td></td>\n",
       "      <td></td>\n",
       "      <td>K</td>\n",
       "    </tr>\n",
       "    <tr>\n",
       "      <td>ja</td>\n",
       "      <td>ja</td>\n",
       "      <td>ja</td>\n",
       "      <td>ja</td>\n",
       "      <td>['ja']</td>\n",
       "      <td>0</td>\n",
       "      <td></td>\n",
       "      <td></td>\n",
       "      <td>J</td>\n",
       "    </tr>\n",
       "    <tr>\n",
       "      <td>püda</td>\n",
       "      <td>püüda</td>\n",
       "      <td>püüdma</td>\n",
       "      <td>püüd</td>\n",
       "      <td>['püüd']</td>\n",
       "      <td>a</td>\n",
       "      <td></td>\n",
       "      <td>da</td>\n",
       "      <td>V</td>\n",
       "    </tr>\n",
       "    <tr>\n",
       "      <td>hauge</td>\n",
       "      <td>hauge</td>\n",
       "      <td>haug</td>\n",
       "      <td>haug</td>\n",
       "      <td>['haug']</td>\n",
       "      <td>e</td>\n",
       "      <td></td>\n",
       "      <td>pl p</td>\n",
       "      <td>S</td>\n",
       "    </tr>\n",
       "    <tr>\n",
       "      <td>,</td>\n",
       "      <td>,</td>\n",
       "      <td>,</td>\n",
       "      <td>,</td>\n",
       "      <td>[',']</td>\n",
       "      <td></td>\n",
       "      <td></td>\n",
       "      <td></td>\n",
       "      <td>Z</td>\n",
       "    </tr>\n",
       "    <tr>\n",
       "      <td>katikaid</td>\n",
       "      <td>kaikaid</td>\n",
       "      <td>kaigas</td>\n",
       "      <td>kaigas</td>\n",
       "      <td>['kaigas']</td>\n",
       "      <td>id</td>\n",
       "      <td></td>\n",
       "      <td>pl p</td>\n",
       "      <td>S</td>\n",
       "    </tr>\n",
       "    <tr>\n",
       "      <td>ja</td>\n",
       "      <td>ja</td>\n",
       "      <td>ja</td>\n",
       "      <td>ja</td>\n",
       "      <td>['ja']</td>\n",
       "      <td>0</td>\n",
       "      <td></td>\n",
       "      <td></td>\n",
       "      <td>J</td>\n",
       "    </tr>\n",
       "    <tr>\n",
       "      <td>karpe</td>\n",
       "      <td>karpe</td>\n",
       "      <td>karp</td>\n",
       "      <td>karp</td>\n",
       "      <td>['karp']</td>\n",
       "      <td>e</td>\n",
       "      <td></td>\n",
       "      <td>pl p</td>\n",
       "      <td>S</td>\n",
       "    </tr>\n",
       "    <tr>\n",
       "      <td>.</td>\n",
       "      <td>.</td>\n",
       "      <td>.</td>\n",
       "      <td>.</td>\n",
       "      <td>['.']</td>\n",
       "      <td></td>\n",
       "      <td></td>\n",
       "      <td></td>\n",
       "      <td>Z</td>\n",
       "    </tr>\n",
       "  </tbody>\n",
       "</table>"
      ],
      "text/plain": [
       "Layer(name='morph_analysis', attributes=('normalized_text', 'lemma', 'root', 'root_tokens', 'ending', 'clitic', 'form', 'partofspeech'), spans=SL[Span('Ma', [{'normalized_text': 'Ma', 'lemma': 'mina', 'root': 'mina', 'root_tokens': ['mina'], 'ending': '0', 'clitic': '', 'form': 'sg n', 'partofspeech': 'P'}]),\n",
       "Span('tahax', [{'normalized_text': 'tahaks', 'lemma': 'tahtma', 'root': 'taht', 'root_tokens': ['taht'], 'ending': 'ks', 'clitic': '', 'form': 'ks', 'partofspeech': 'V'}]),\n",
       "Span('minna', [{'normalized_text': 'minna', 'lemma': 'minema', 'root': 'mine', 'root_tokens': ['mine'], 'ending': 'a', 'clitic': '', 'form': 'da', 'partofspeech': 'V'}]),\n",
       "Span('järve', [{'normalized_text': 'järve', 'lemma': 'järv', 'root': 'järv', 'root_tokens': ['järv'], 'ending': '0', 'clitic': '', 'form': 'sg g', 'partofspeech': 'S'}]),\n",
       "Span('äärde', [{'normalized_text': 'äärde', 'lemma': 'äärde', 'root': 'äärde', 'root_tokens': ['äärde'], 'ending': '0', 'clitic': '', 'form': '', 'partofspeech': 'K'}]),\n",
       "Span('ja', [{'normalized_text': 'ja', 'lemma': 'ja', 'root': 'ja', 'root_tokens': ['ja'], 'ending': '0', 'clitic': '', 'form': '', 'partofspeech': 'J'}]),\n",
       "Span('püda', [{'normalized_text': 'püüda', 'lemma': 'püüdma', 'root': 'püüd', 'root_tokens': ['püüd'], 'ending': 'a', 'clitic': '', 'form': 'da', 'partofspeech': 'V'}]),\n",
       "Span('hauge', [{'normalized_text': 'hauge', 'lemma': 'haug', 'root': 'haug', 'root_tokens': ['haug'], 'ending': 'e', 'clitic': '', 'form': 'pl p', 'partofspeech': 'S'}]),\n",
       "Span(',', [{'normalized_text': ',', 'lemma': ',', 'root': ',', 'root_tokens': [','], 'ending': '', 'clitic': '', 'form': '', 'partofspeech': 'Z'}]),\n",
       "Span('katikaid', [{'normalized_text': 'kaikaid', 'lemma': 'kaigas', 'root': 'kaigas', 'root_tokens': ['kaigas'], 'ending': 'id', 'clitic': '', 'form': 'pl p', 'partofspeech': 'S'}]),\n",
       "Span('ja', [{'normalized_text': 'ja', 'lemma': 'ja', 'root': 'ja', 'root_tokens': ['ja'], 'ending': '0', 'clitic': '', 'form': '', 'partofspeech': 'J'}]),\n",
       "Span('karpe', [{'normalized_text': 'karpe', 'lemma': 'karp', 'root': 'karp', 'root_tokens': ['karp'], 'ending': 'e', 'clitic': '', 'form': 'pl p', 'partofspeech': 'S'}]),\n",
       "Span('.', [{'normalized_text': '.', 'lemma': '.', 'root': '.', 'root_tokens': ['.'], 'ending': '', 'clitic': '', 'form': '', 'partofspeech': 'Z'}])])"
      ]
     },
     "execution_count": 41,
     "metadata": {},
     "output_type": "execute_result"
    }
   ],
   "source": [
    "text.tag_layer(['morph_analysis'])\n",
    "text.morph_analysis"
   ]
  },
  {
   "cell_type": "markdown",
   "metadata": {},
   "source": [
    "Õigekirjakorrektor võib valesti kirjutatud sõna parandamiseks anda ka mitu varianti. Vaikimisi võtab SpellCheckRetagger esimese variandi, kuna mitme variandi säilitamisel võib morfoloogilise ühestamise kvaliteet kannatada. Katsetamiseks võib aga lubada ka kõik parandusvariandid, kasutades lippu `add_all_suggestions`:"
   ]
  },
  {
   "cell_type": "code",
   "execution_count": 42,
   "metadata": {},
   "outputs": [
    {
     "data": {
      "text/html": [
       "<h4>Layer</h4>\n",
       "\n",
       "\n",
       "<table border=\"1\" class=\"dataframe\">\n",
       "  <thead>\n",
       "    <tr style=\"text-align: right;\">\n",
       "      <th>layer name</th>\n",
       "      <th>attributes</th>\n",
       "      <th>parent</th>\n",
       "      <th>enveloping</th>\n",
       "      <th>ambiguous</th>\n",
       "      <th>span count</th>\n",
       "    </tr>\n",
       "  </thead>\n",
       "  <tbody>\n",
       "    <tr>\n",
       "      <td>words</td>\n",
       "      <td>normalized_form</td>\n",
       "      <td>None</td>\n",
       "      <td>None</td>\n",
       "      <td>True</td>\n",
       "      <td>13</td>\n",
       "    </tr>\n",
       "  </tbody>\n",
       "</table>\n",
       "<table border=\"1\" class=\"dataframe\">\n",
       "  <thead>\n",
       "    <tr style=\"text-align: right;\">\n",
       "      <th>text</th>\n",
       "      <th>normalized_form</th>\n",
       "    </tr>\n",
       "  </thead>\n",
       "  <tbody>\n",
       "    <tr>\n",
       "      <td>Ma</td>\n",
       "      <td>None</td>\n",
       "    </tr>\n",
       "    <tr>\n",
       "      <td>tahax</td>\n",
       "      <td>tahaks</td>\n",
       "    </tr>\n",
       "    <tr>\n",
       "      <td></td>\n",
       "      <td>taha</td>\n",
       "    </tr>\n",
       "    <tr>\n",
       "      <td></td>\n",
       "      <td>tahad</td>\n",
       "    </tr>\n",
       "    <tr>\n",
       "      <td>minna</td>\n",
       "      <td>None</td>\n",
       "    </tr>\n",
       "    <tr>\n",
       "      <td>järve</td>\n",
       "      <td>None</td>\n",
       "    </tr>\n",
       "    <tr>\n",
       "      <td>äärde</td>\n",
       "      <td>None</td>\n",
       "    </tr>\n",
       "    <tr>\n",
       "      <td>ja</td>\n",
       "      <td>None</td>\n",
       "    </tr>\n",
       "    <tr>\n",
       "      <td>püda</td>\n",
       "      <td>püüda</td>\n",
       "    </tr>\n",
       "    <tr>\n",
       "      <td>hauge</td>\n",
       "      <td>None</td>\n",
       "    </tr>\n",
       "    <tr>\n",
       "      <td>,</td>\n",
       "      <td>None</td>\n",
       "    </tr>\n",
       "    <tr>\n",
       "      <td>katikaid</td>\n",
       "      <td>kaikaid</td>\n",
       "    </tr>\n",
       "    <tr>\n",
       "      <td></td>\n",
       "      <td>latikaid</td>\n",
       "    </tr>\n",
       "    <tr>\n",
       "      <td></td>\n",
       "      <td>karikaid</td>\n",
       "    </tr>\n",
       "    <tr>\n",
       "      <td></td>\n",
       "      <td>katikaiad</td>\n",
       "    </tr>\n",
       "    <tr>\n",
       "      <td>ja</td>\n",
       "      <td>None</td>\n",
       "    </tr>\n",
       "    <tr>\n",
       "      <td>karpe</td>\n",
       "      <td>None</td>\n",
       "    </tr>\n",
       "    <tr>\n",
       "      <td>.</td>\n",
       "      <td>None</td>\n",
       "    </tr>\n",
       "  </tbody>\n",
       "</table>"
      ],
      "text/plain": [
       "Layer(name='words', attributes=('normalized_form',), spans=SL[Span('Ma', [{'normalized_form': None}]),\n",
       "Span('tahax', [{'normalized_form': 'tahaks'}, {'normalized_form': 'taha'}, {'normalized_form': 'tahad'}]),\n",
       "Span('minna', [{'normalized_form': None}]),\n",
       "Span('järve', [{'normalized_form': None}]),\n",
       "Span('äärde', [{'normalized_form': None}]),\n",
       "Span('ja', [{'normalized_form': None}]),\n",
       "Span('püda', [{'normalized_form': 'püüda'}]),\n",
       "Span('hauge', [{'normalized_form': None}]),\n",
       "Span(',', [{'normalized_form': None}]),\n",
       "Span('katikaid', [{'normalized_form': 'kaikaid'}, {'normalized_form': 'latikaid'}, {'normalized_form': 'karikaid'}, {'normalized_form': 'katikaiad'}]),\n",
       "Span('ja', [{'normalized_form': None}]),\n",
       "Span('karpe', [{'normalized_form': None}]),\n",
       "Span('.', [{'normalized_form': None}])])"
      ]
     },
     "execution_count": 42,
     "metadata": {},
     "output_type": "execute_result"
    }
   ],
   "source": [
    "# Create a text containing spelling mistakes\n",
    "text=Text('Ma tahax minna järve äärde ja püda hauge, katikaid ja karpe.').tag_layer(['words'])\n",
    "\n",
    "# Create spellchecker that can give multiple suggestions\n",
    "spelling_tagger=SpellCheckRetagger(add_all_suggestions=True)\n",
    "# Add normalizations to misspelled words\n",
    "spelling_tagger.retag(text)\n",
    "\n",
    "# Check the results\n",
    "text.words"
   ]
  },
  {
   "cell_type": "markdown",
   "metadata": {},
   "source": [
    "Näeme, et \"katikaid\" puhul on neli võimalust, kuna aga õige variant ei ole seekord esimene, siis kahjuks valitakse vale. "
   ]
  },
  {
   "cell_type": "markdown",
   "metadata": {},
   "source": [
    "Vahel võib juhtuda, et spelleril pole vigasele sõnale parandusettepanekuid. Kui on vaja tekstis määrata ära kõik vigased sõnad, hoolimata sellest, kas speller neile vaste leidis, saab kasutada lippu `add_spellchek`. See lisab sõnakihile atribuudi *spelling*, mille väärtused näitavad, kas tegu on korrektse õigekirjaga sõnaga. **NB!** Kuigi atribuudi *spelling* väärtust on näha iga normaliseeritud vormi kohta, käib atribuudi hinnang vaid tekstisõna, mitte selle normaliseeritud vormide kohta. "
   ]
  },
  {
   "cell_type": "code",
   "execution_count": 43,
   "metadata": {},
   "outputs": [],
   "source": [
    "spelling_tagger = SpellCheckRetagger(add_all_suggestions=True, add_spellcheck=True)"
   ]
  },
  {
   "cell_type": "code",
   "execution_count": 44,
   "metadata": {},
   "outputs": [
    {
     "data": {
      "text/html": [
       "<h4>Layer</h4>\n",
       "\n",
       "\n",
       "<table border=\"1\" class=\"dataframe\">\n",
       "  <thead>\n",
       "    <tr style=\"text-align: right;\">\n",
       "      <th>layer name</th>\n",
       "      <th>attributes</th>\n",
       "      <th>parent</th>\n",
       "      <th>enveloping</th>\n",
       "      <th>ambiguous</th>\n",
       "      <th>span count</th>\n",
       "    </tr>\n",
       "  </thead>\n",
       "  <tbody>\n",
       "    <tr>\n",
       "      <td>words</td>\n",
       "      <td>normalized_form, spelling</td>\n",
       "      <td>None</td>\n",
       "      <td>None</td>\n",
       "      <td>True</td>\n",
       "      <td>10</td>\n",
       "    </tr>\n",
       "  </tbody>\n",
       "</table>\n",
       "<table border=\"1\" class=\"dataframe\">\n",
       "  <thead>\n",
       "    <tr style=\"text-align: right;\">\n",
       "      <th>text</th>\n",
       "      <th>normalized_form</th>\n",
       "      <th>spelling</th>\n",
       "    </tr>\n",
       "  </thead>\n",
       "  <tbody>\n",
       "    <tr>\n",
       "      <td>Kas</td>\n",
       "      <td>None</td>\n",
       "      <td>True</td>\n",
       "    </tr>\n",
       "    <tr>\n",
       "      <td>sa</td>\n",
       "      <td>None</td>\n",
       "      <td>True</td>\n",
       "    </tr>\n",
       "    <tr>\n",
       "      <td>üldse</td>\n",
       "      <td>None</td>\n",
       "      <td>True</td>\n",
       "    </tr>\n",
       "    <tr>\n",
       "      <td>saad</td>\n",
       "      <td>None</td>\n",
       "      <td>True</td>\n",
       "    </tr>\n",
       "    <tr>\n",
       "      <td>arru</td>\n",
       "      <td>aru</td>\n",
       "      <td>False</td>\n",
       "    </tr>\n",
       "    <tr>\n",
       "      <td></td>\n",
       "      <td>erru</td>\n",
       "      <td>False</td>\n",
       "    </tr>\n",
       "    <tr>\n",
       "      <td></td>\n",
       "      <td>aeru</td>\n",
       "      <td>False</td>\n",
       "    </tr>\n",
       "    <tr>\n",
       "      <td></td>\n",
       "      <td>atru</td>\n",
       "      <td>False</td>\n",
       "    </tr>\n",
       "    <tr>\n",
       "      <td></td>\n",
       "      <td>adru</td>\n",
       "      <td>False</td>\n",
       "    </tr>\n",
       "    <tr>\n",
       "      <td></td>\n",
       "      <td>Ardu</td>\n",
       "      <td>False</td>\n",
       "    </tr>\n",
       "    <tr>\n",
       "      <td></td>\n",
       "      <td>tarru</td>\n",
       "      <td>False</td>\n",
       "    </tr>\n",
       "    <tr>\n",
       "      <td></td>\n",
       "      <td>marru</td>\n",
       "      <td>False</td>\n",
       "    </tr>\n",
       "    <tr>\n",
       "      <td></td>\n",
       "      <td>harru</td>\n",
       "      <td>False</td>\n",
       "    </tr>\n",
       "    <tr>\n",
       "      <td>,</td>\n",
       "      <td>None</td>\n",
       "      <td>True</td>\n",
       "    </tr>\n",
       "    <tr>\n",
       "      <td>mida</td>\n",
       "      <td>None</td>\n",
       "      <td>True</td>\n",
       "    </tr>\n",
       "    <tr>\n",
       "      <td>ta</td>\n",
       "      <td>None</td>\n",
       "      <td>True</td>\n",
       "    </tr>\n",
       "    <tr>\n",
       "      <td>räägbb</td>\n",
       "      <td>None</td>\n",
       "      <td>False</td>\n",
       "    </tr>\n",
       "    <tr>\n",
       "      <td>?</td>\n",
       "      <td>None</td>\n",
       "      <td>True</td>\n",
       "    </tr>\n",
       "  </tbody>\n",
       "</table>"
      ],
      "text/plain": [
       "Layer(name='words', attributes=('normalized_form', 'spelling'), spans=SL[Span('Kas', [{'normalized_form': None, 'spelling': True}]),\n",
       "Span('sa', [{'normalized_form': None, 'spelling': True}]),\n",
       "Span('üldse', [{'normalized_form': None, 'spelling': True}]),\n",
       "Span('saad', [{'normalized_form': None, 'spelling': True}]),\n",
       "Span('arru', [{'normalized_form': 'aru', 'spelling': False}, {'normalized_form': 'erru', 'spelling': False}, {'normalized_form': 'aeru', 'spelling': False}, {'normalized_form': 'atru', 'spelling': False}, {'normalized_form': 'adru', 'spelling': False}, {'normalized_form': 'Ardu', 'spelling': False}, {'normalized_form': 'tarru', 'spelling': False}, {'normalized_form': 'marru', 'spelling': False}, {'normalized_form': 'harru', 'spelling': False}]),\n",
       "Span(',', [{'normalized_form': None, 'spelling': True}]),\n",
       "Span('mida', [{'normalized_form': None, 'spelling': True}]),\n",
       "Span('ta', [{'normalized_form': None, 'spelling': True}]),\n",
       "Span('räägbb', [{'normalized_form': None, 'spelling': False}]),\n",
       "Span('?', [{'normalized_form': None, 'spelling': True}])])"
      ]
     },
     "execution_count": 44,
     "metadata": {},
     "output_type": "execute_result"
    }
   ],
   "source": [
    "text = Text('Kas sa üldse saad arru, mida ta räägbb?').tag_layer(['words'])\n",
    "spelling_tagger.retag(text)\n",
    "text.words"
   ]
  },
  {
   "cell_type": "markdown",
   "metadata": {},
   "source": [
    "### Ülesanne 3. Parandame vead (2,5p)"
   ]
  },
  {
   "cell_type": "markdown",
   "metadata": {},
   "source": [
    "Kasutades EstNLTK õigekirjakontrolli võimalust, kirjutage kood, mis aitab parandada kirjavigu ning laseb kasutajal tehtavate asenduste osas kaasa rääkida. Selleks peaks kood sisendiks saama teksti ning kuvama kasutajale järjest lauseid, milles esineb õigekirjakontrollija meelest ebakorrektseid sõnu. Koos lausega võiks kuvada ka, millises sõnas probleem täpselt esineb.\n",
    "* Kui EstNLTK-l soovitusi ei ole, paluge kasutajal õige variant sisestada. Tühja sisestuse korral jäetakse sõna algsele kujule, kui kasutaja pakub oma variandi, asendatakse sõna lauses sellega;\n",
    "* Kui vigase sõna asemel on üks soovitus, siis asendatakse sõna sellega, lause ja asendus kuvatakse kasutajale sellegipoolest;\n",
    "* Kui soovitusi on mitu, kuvatakse kasutajale lause ning variandid koos järjekorranumbriga ning küsitakse kasutaja sisendit, mitmes variant valida asenduseks. Arvestage, et erinevalt Pythonist eelistavad inimesed nummerdamist üldjuhul alates 1-st; \n",
    "* Programmi töö lõppedes väljastage kasutajale tema parandatud tekst tervikuna;\n",
    "\n",
    "Vihjeid:\n",
    "* [input()](https://docs.python.org/3/library/functions.html#input) kasutaja sisendi küsimiseks \n",
    "* korrektse teksti koostamisel ei pea täpselt säilitama tühikuid ja reavahetusi, küll aga võiks tekst näha välja esinduslik ja loetav (abiks nt regulaaravaldised ja/või sõnemeetod [join()](https://docs.python.org/3/library/stdtypes.html#str.join))."
   ]
  },
  {
   "cell_type": "code",
   "execution_count": 45,
   "metadata": {},
   "outputs": [
    {
     "name": "stdin",
     "output_type": "stream",
     "text": [
      "Mis su nimi on?  kristiina\n"
     ]
    },
    {
     "name": "stdout",
     "output_type": "stream",
     "text": [
      "Tere, kristiina!\n"
     ]
    }
   ],
   "source": [
    "name = input(\"Mis su nimi on? \")\n",
    "print(\"Tere, \" + name + \"!\")"
   ]
  },
  {
   "cell_type": "markdown",
   "metadata": {},
   "source": [
    "### Sõnapilved"
   ]
  },
  {
   "cell_type": "markdown",
   "metadata": {},
   "source": [
    "Sõnapilv on populaarne tekstiliste andmete esitamise viis, millel on toodud välja tekstis sagedasemad sõnad. Mida rohkem üks sõna tekstis esineb, seda suuremalt on see pildil kujutatud. Kõige lihtsam on muidugi tükeldada tekst sõnadeks ning visualiseerida kõige sagedasemad sõnad. Paraku ei pruugi see olla väga informatiivne.\n",
    "\n",
    "Siin on näiteks toodud ühe teatrietenduse arvustuse pealt genereeritud sõnapilv. Nagu näha, on enim esindatud asesõnad, sidesõnad ja määrsõnad, mis eriti informatiivsed ei ole."
   ]
  },
  {
   "cell_type": "markdown",
   "metadata": {},
   "source": [
    "![title](wordcloud7.png)"
   ]
  },
  {
   "cell_type": "markdown",
   "metadata": {},
   "source": [
    "### Ülesanne 4. Sõnapilv (1,5p)"
   ]
  },
  {
   "cell_type": "markdown",
   "metadata": {},
   "source": [
    "Kaustas *teatriarvustused2* on toodud üheksa arvustust ühe teatrietenduse kohta. Koostage kaustas olevate tekstide põhjal informatiivsem sõnapilv. Kuna arvustuste puhul on huvitavad peamiselt kirjutajate poolt antud hinnangud, siis parema sõnapilve koostamiseks:\n",
    "* lemmatiseerige tekstid\n",
    "* kasutage sõnapilves ainult omadussõnu\n",
    "* valige mõistlik hulk sõnu, mida visualiseerida - eeldatavasti sagedasemad, samas võib kasutada stoppsõnade loendit, et jätta välja sõnu, mis ei ole informatiivsed"
   ]
  },
  {
   "cell_type": "markdown",
   "metadata": {},
   "source": [
    "**Vihjeid:**\n",
    "\n",
    "* Tekstide kodeeringuks on utf-8\n",
    "\n",
    "* Sõnapilve genereerimisel on abiks https://github.com/amueller/word_cloud teek. Kasutamiseks tuleb see installida praktikumiülesannete lahendamiseks kasutatavasse conda keskkonda käsuga\n",
    "\n",
    "    `conda install -c conda-forge wordcloud`\n",
    "    \n",
    "* meetod *generate()* saab argumendiks sõne ning arvutab selles leiduvate sõnade sagedused ise välja (ei tööta hästi sõnedel, mis pole loomulikud, nt \"koer koer koer koer kass kass kass kass kass\")\n",
    "    \n",
    "* WordCloud'i atribuudi *max_words* abil saab määrata, mitut sagedaseimat sõna kuvada\n",
    "    \n",
    "\n",
    "* Sõnapilve visualiseerimiseks vajame ka matplotlib'i, mille saab installida käsuga\n",
    "\n",
    "    `conda install matplotlib`\n",
    "    "
   ]
  },
  {
   "cell_type": "markdown",
   "metadata": {},
   "source": [
    "Ülaltoodud sõnapilv on genereeritud järgneva koodi abil:"
   ]
  },
  {
   "cell_type": "code",
   "execution_count": 46,
   "metadata": {},
   "outputs": [],
   "source": [
    "from wordcloud import WordCloud\n",
    "import matplotlib.pyplot as plt"
   ]
  },
  {
   "cell_type": "code",
   "execution_count": 47,
   "metadata": {},
   "outputs": [],
   "source": [
    "with open(\"teatriarvustused2/arvustus8.txt\", \"r\", encoding = 'utf-8') as fin:\n",
    "    text = fin.read()"
   ]
  },
  {
   "cell_type": "code",
   "execution_count": 48,
   "metadata": {},
   "outputs": [
    {
     "data": {
      "image/png": "[encoded data removed]",
      "text/plain": [
       "<Figure size 640x480 with 1 Axes>"
      ]
     },
     "metadata": {},
     "output_type": "display_data"
    }
   ],
   "source": [
    "wordcloud = WordCloud(max_font_size = 160, max_words = 30, width = 500, height = 300, background_color = 'white').generate(text)\n",
    "fig = plt.figure()\n",
    "plt.imshow(wordcloud, interpolation = 'bilinear')\n",
    "plt.axis(\"off\")\n",
    "plt.show()"
   ]
  },
  {
   "cell_type": "markdown",
   "metadata": {},
   "source": [
    "### Boonusülesanne.  (1p)"
   ]
  },
  {
   "cell_type": "markdown",
   "metadata": {},
   "source": [
    "Vaadake Postimehe koostatud sõnapilve presidendi vabariigi aastapäeva kõne teksti pealt (pärit [siit](http://arvamus.postimees.ee/4027843/sonapilv-keda-voi-mida-mainis-kaljulaid-oma-kones-koige-enam)). Mõelge, mil moel saaks automaatse tekstitöötluse abil tulemust parandada. Genereerige uus ja parem sõnapilv (kõne teksti leiate failist *presidendi_tekst.txt*), mis oleks samuti Eesti kujuga. Näidis [siin.](https://github.com/amueller/word_cloud/blob/master/examples/masked.py)"
   ]
  },
  {
   "cell_type": "markdown",
   "metadata": {},
   "source": [
    "![title](presidendipilv.png)"
   ]
  }
 ],
 "metadata": {
  "anaconda-cloud": {},
  "kernelspec": {
   "display_name": "Python 3 (ipykernel)",
   "language": "python",
   "name": "python3"
  },
  "language_info": {
   "codemirror_mode": {
    "name": "ipython",
    "version": 3
   },
   "file_extension": ".py",
   "mimetype": "text/x-python",
   "name": "python",
   "nbconvert_exporter": "python",
   "pygments_lexer": "ipython3",
   "version": "3.8.13"
  }
 },
 "nbformat": 4,
 "nbformat_minor": 4
}
