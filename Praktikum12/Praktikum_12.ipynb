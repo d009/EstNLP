{
 "cells": [
  {
   "cell_type": "markdown",
   "metadata": {},
   "source": [
    "<h1 style=\"color:blue\">Praktikum 12. </h1>\n",
    "\n",
    "<h3 style=\"color:blue\">Dokumentide vektoresitus, klasterdamine ja visualiseerimine. Teemade modelleerimine, TF-IDF. Optilise tekstituvastuse katsetamine</h3>"
   ]
  },
  {
   "cell_type": "markdown",
   "metadata": {},
   "source": [
    "Käesolevas praktikumis uurime, kuidas tekstidokumente automaatselt liigitada ning leida neis kajastatavaid teemasid. Selleks vaatame kõigepealt tekstiandmete viimist vektorkujule, vektoritevahelise kauguse leidmist, seejärel tekstide automaatset klasterdamist, tulemuste visualiseerimist ning tekstides kajastatavate teemade tuvastamist. Boonusmaterjal käsitleb aga hoopis optilist tekstituvastamist."
   ]
  },
  {
   "cell_type": "markdown",
   "metadata": {},
   "source": [
    "## Dokumentide klasterdamine"
   ]
  },
  {
   "cell_type": "markdown",
   "metadata": {},
   "source": [
    "Dokumendi-tasemel tekstide liigitamisel eristatakse sageli kaht lähenemist: klassifitseerimist ja klasterdamist. _Klassifitseerimise_ puhul on meil juba olemas eeldefineeritud klassid, mille alla dokumendid tuleb liigitada, ning on olemas (või luuakse) treeningkorpus, kus selline liigitamine on (enamasti käsitsi) teostatud. Seega klassifitseerimise eesmärgiks on õppida treeningkorpuse põhjal automaatselt uusi dokumente liigitama.  _Klasterdamise_ puhul on olemas korpus, milles soovitakse dokumendid sarnasuse alusel gruppidesse jagada, ning tüüpiliselt pole teada võimalike gruppide arv ega ka see, kuidas gruppe võiks nimetada. Klasterdada võib aga ka siis, kui klasside arv ja sisu on eelnevalt teada, aga nt puudub märgendatud korpus - võib-olla kukuvad tekstid ise õigetesse klastritesse. Seega on klasterdamine tavaliselt orienteeritud korpuse uurimisele (tahame teada, milliseid sarnasusi seal võib olla), klassifitseerimine aga rakendusliku orientatsiooniga (tahame luua tööriista, mille abil saaks automaatselt liigitada uusi dokumente).\n",
    "\n",
    "Selles praktikumis käsitletavad sarnasuse leidmise meetodid sobivad tegelikult mõlema lähenemise puhul. Dokumentide sarnasus leitakse siin sõnade esinemissageduste järgi ehk eeldatakse, et sarnase sisuga dokumendid peavad olema sarnased ka sõnavaraliselt / leksikaalselt.\n",
    "\n",
    "Praktikumi näidete käivitamiseks ja ülesannete lahendamiseks kasutame teeki [scikit-learn](http://scikit-learn.sourceforge.net/), mille saab installida tavapäraselt käsuga ```conda install scikit-learn```   "
   ]
  },
  {
   "cell_type": "markdown",
   "metadata": {},
   "source": [
    "### Sõnade vektoresitused ja dokument-sõna maatriks"
   ]
  },
  {
   "cell_type": "markdown",
   "metadata": {},
   "source": [
    "Matemaatilistele meetoditele meeldivad struktureeritud arvandmed: _vektorid_ (lihtsustatult öeldes: arvude järjendid) ja _maatriksid_ (lihtsustatult öeldes: arvude tabelid). Seetõttu tuleb enne statistiliste / masinõppe meetodite kasutuselevõtmist leida viis, kuidas \"teisendada\" oma tekstilised andmed arvandmeteks.\n",
    "\n",
    "Tekstide automaatsel klassifitseerimisel või klasterdamisel viiakse analüüsitava korpuse dokumendid _vektorkujule_ ehk:\n",
    "\n",
    "   1. luuakse iga korpuse sõna kohta _vektor_ (arvude \"järjend\"), mille iga positsioon kirjeldab sõna esinemist ühes korpuse dokumendis;\n",
    "   2. kõigi sõnade vektoritest pannakse kokku _maatriks_ (arvude \"tabel\"), mille järgi saab leida nii üksiksõnade esinemismustreid kui ka dokumenti iseloomustava sõnavaramustri. \n",
    "\n",
    "Sarnasuste leidmisel tuginevadki statistilised meetodid maatriksile ning tekstide omadused, mis maatriksis ei kajastu (nt sõnade omavaheline järjekord, lausestus, süntaks vms) tulemust otseselt ka ei mõjuta. Siiski lisatakse masinõppelähenemiste puhul maatriksisse peale sõnaesinemiste ka muud informatsiooni dokumentide kohta (_a la_ dokumendi pikkus sõnades, loomise aeg). Käesolevas praktikumis vaatleme maatrikseid aga kõige tavapärasemal klasterdamiseks kasutataval kujul ehk _dokument-sõna_ maatriksitena."
   ]
  },
  {
   "cell_type": "markdown",
   "metadata": {},
   "source": [
    "Järgnevalt uurime samm-sammult, kuidas toimub dokument-sõna maatriksi loomine. Selleks laeme kõigepealt sisse ( _json_-kujul ) testkorpuse tekstid. Talletame ka failinimed, et meil oleks hiljem selge ülevaade, milline tekst millisest failist pärines:"
   ]
  },
  {
   "cell_type": "code",
   "execution_count": 1,
   "metadata": {},
   "outputs": [],
   "source": [
    "# 1) Andmete sisselugemine failidest\n",
    "import os, os.path\n",
    "from estnltk.corpus import read_document\n",
    "\n",
    "input_dir = '1_testkorpus'\n",
    "\n",
    "texts     = []\n",
    "filenames = []\n",
    "for filename in sorted(os.listdir(input_dir)):\n",
    "    full_filename = os.path.join(input_dir, filename)\n",
    "    text = read_document(full_filename)\n",
    "    # Loeme sisse tekstid (sõned) ja tekstide nimed\n",
    "    texts.append(text['text'])\n",
    "    filenames.append(filename)"
   ]
  },
  {
   "cell_type": "markdown",
   "metadata": {},
   "source": [
    "Edasi kasutame teeki [scikit-learn](http://scikit-learn.sourceforge.net/). Klass [CountVectorizer](http://scikit-learn.org/stable/modules/generated/sklearn.feature_extraction.text.CountVectorizer.html#sklearn-feature-extraction-text-countvectorizer) võimaldab luua sõnavektoreid, mille iga positsioon kirjeldab sõna esinemissagedust ühes dokumendis. Klassi initsialiseerimisel on võimalik täpsustada mitmeid teksti eeltöötluse samme, nt kas sõnad tuleks teisendada väiketähelisteks (vaikimisi: jah), kuidas (millise meetodi abil) jagada tekst sõnadeks ning millised sõnad on nn _stopp_-sõnad, mis tuleks välja jätta. \n",
    "\n",
    "Esialgu huvitab meid see, et tekst oleks sõnestatud, kasutades eesti keele sõnestusvahendeid. Seega loome meetodi, mis saab sisendiks sõne, sõnestab selle EstNLTK abil ning tagastab sõnade järjendi. Ning _CountVectorizer_-i loomisel täpsustame, et sõnestamiseks tuleks kasutada just seda meetodit:"
   ]
  },
  {
   "cell_type": "code",
   "execution_count": 2,
   "metadata": {},
   "outputs": [],
   "source": [
    "# 2) Vektoriseerija loomine\n",
    "from sklearn.feature_extraction.text import CountVectorizer\n",
    "from estnltk import Text\n",
    "\n",
    "# Meetod teksti sõnestamiseks estnltk abil\n",
    "def tokenize_with_estnltk( input_string ):\n",
    "    return Text(input_string).word_texts\n",
    "\n",
    "# Loome uue vektoriseerija, mis jagab tekstid sõnadeks estnltk abil:\n",
    "vectorizer = CountVectorizer(tokenizer = tokenize_with_estnltk)"
   ]
  },
  {
   "cell_type": "markdown",
   "metadata": {},
   "source": [
    "Nüüd saamegi kasutada `vectorizer`-it dokument-sõna maatriksi loomiseks. Selleks anname talle sisendiks järjendi analüüsitavatest dokumentidest (sisuliselt: järjend sõnedest), mille põhjal luuakse maatriks:"
   ]
  },
  {
   "cell_type": "code",
   "execution_count": 3,
   "metadata": {},
   "outputs": [],
   "source": [
    "# 3) Andmete viimine vektor-kujule\n",
    "matrix = vectorizer.fit_transform(texts)"
   ]
  },
  {
   "cell_type": "markdown",
   "metadata": {},
   "source": [
    "Võime uurida maatriksi (tabeli) mõõtmeid atribuudi `shape` abil:"
   ]
  },
  {
   "cell_type": "code",
   "execution_count": 4,
   "metadata": {},
   "outputs": [
    {
     "data": {
      "text/plain": [
       "(10, 2134)"
      ]
     },
     "execution_count": 4,
     "metadata": {},
     "output_type": "execute_result"
    }
   ],
   "source": [
    "matrix.shape"
   ]
  },
  {
   "cell_type": "markdown",
   "metadata": {},
   "source": [
    "Seega on meie tabelis 10 rida (erinevate tekstide arv meie korpuses) ning 2134 veergu (erinevate sõnade arv).\n",
    "\n",
    "Maatriksi põhjal saame ka uurida, millised sõnad / sõned korpuses esinesid:"
   ]
  },
  {
   "cell_type": "code",
   "execution_count": 5,
   "metadata": {},
   "outputs": [
    {
     "data": {
      "text/plain": [
       "['!',\n",
       " '\"',\n",
       " '%',\n",
       " '&',\n",
       " \"'\",\n",
       " '(',\n",
       " ')',\n",
       " '),',\n",
       " ',',\n",
       " ',»',\n",
       " '-',\n",
       " '->',\n",
       " '-sada',\n",
       " '.',\n",
       " '..',\n",
       " '...',\n",
       " '//',\n",
       " '10',\n",
       " '10.',\n",
       " '150',\n",
       " '16-',\n",
       " '16.',\n",
       " '17',\n",
       " '190',\n",
       " '1990.',\n",
       " '1991.',\n",
       " '1999.',\n",
       " '20',\n",
       " '20-ruutmeetrine',\n",
       " '200-300',\n",
       " '2000',\n",
       " '22.',\n",
       " '25-tonnise',\n",
       " '25.',\n",
       " '26.',\n",
       " '26.04',\n",
       " '28a',\n",
       " '30',\n",
       " '300',\n",
       " '32.',\n",
       " '350',\n",
       " '4-5',\n",
       " '400',\n",
       " '4000',\n",
       " '48',\n",
       " '5000',\n",
       " '58kg',\n",
       " '63-aastane',\n",
       " '8',\n",
       " '800',\n",
       " '9.',\n",
       " ':',\n",
       " ';',\n",
       " '?',\n",
       " 'aasta',\n",
       " 'aastakümmet',\n",
       " 'aastal',\n",
       " 'aastane',\n",
       " 'aastast',\n",
       " 'aastat',\n",
       " 'aastatel',\n",
       " 'abba',\n",
       " 'abi',\n",
       " 'abihoone',\n",
       " 'abiturientide',\n",
       " 'aega',\n",
       " 'aegadel',\n",
       " 'aegajalt',\n",
       " 'aeglaselt',\n",
       " 'aeroobikatreener',\n",
       " 'after',\n",
       " 'aga',\n",
       " 'agne',\n",
       " 'ahistavad',\n",
       " 'aidata',\n",
       " 'ainjärv',\n",
       " 'ainsas',\n",
       " 'ainuke',\n",
       " 'ainult',\n",
       " 'ainus',\n",
       " 'ainuüksi',\n",
       " 'aitab',\n",
       " 'aitas',\n",
       " 'aitavad',\n",
       " 'ajada',\n",
       " 'ajaks',\n",
       " 'ajal',\n",
       " 'ajalugu',\n",
       " 'ajasin',\n",
       " 'ajavahemikuks',\n",
       " 'akadeemia',\n",
       " 'aken',\n",
       " 'akende',\n",
       " 'aknad',\n",
       " 'aknaklaase',\n",
       " 'aknaklaasid',\n",
       " 'aktsiaseltsi',\n",
       " 'aktusele',\n",
       " 'aladele',\n",
       " 'aladelt',\n",
       " 'alakoholi',\n",
       " 'alal',\n",
       " 'alanenud',\n",
       " 'alates',\n",
       " 'alati',\n",
       " 'algab',\n",
       " 'algatajad',\n",
       " 'algul',\n",
       " 'alguses',\n",
       " 'alkohol',\n",
       " 'alkoholi',\n",
       " 'all',\n",
       " 'alla',\n",
       " 'allaheidetud',\n",
       " 'alles',\n",
       " 'alustan',\n",
       " 'alzheeriasse',\n",
       " 'ametikohad',\n",
       " 'ametipostil',\n",
       " 'ametlik',\n",
       " 'ametliku',\n",
       " 'ametlikult',\n",
       " 'amsterdamis',\n",
       " 'analüüsifirma',\n",
       " 'anatoomiast',\n",
       " 'andersson',\n",
       " 'andis',\n",
       " 'andmeid',\n",
       " 'andmise',\n",
       " 'andnud',\n",
       " 'andrei',\n",
       " 'andres',\n",
       " 'andriesseni',\n",
       " 'annab',\n",
       " 'annavad',\n",
       " 'ants',\n",
       " 'anusin',\n",
       " 'anvar',\n",
       " 'are',\n",
       " 'arenema',\n",
       " 'arm',\n",
       " 'armastada',\n",
       " 'armastatakse',\n",
       " 'arme',\n",
       " 'armi',\n",
       " 'armikoht',\n",
       " 'arsti',\n",
       " 'aru',\n",
       " 'arvamus',\n",
       " 'arvasin',\n",
       " 'arvata',\n",
       " 'arvavad',\n",
       " 'arvel',\n",
       " 'arvukus',\n",
       " 'arvukuse',\n",
       " 'arvus',\n",
       " 'as-i',\n",
       " 'asejuht',\n",
       " 'asetäitja',\n",
       " 'asi',\n",
       " 'asja',\n",
       " 'asjad',\n",
       " 'asjadele',\n",
       " 'asjaga',\n",
       " 'asju',\n",
       " 'asumi',\n",
       " 'asus',\n",
       " 'atlantise',\n",
       " 'auto',\n",
       " 'autoreid',\n",
       " 'autot',\n",
       " 'avaldust',\n",
       " 'avalike',\n",
       " 'avangard',\n",
       " 'avangardi',\n",
       " 'avastada',\n",
       " 'avatud',\n",
       " 'avio',\n",
       " 'bangladeshist',\n",
       " 'bangladeshlased',\n",
       " 'baseeruda',\n",
       " 'bbc',\n",
       " 'belgradlane',\n",
       " 'biennaal',\n",
       " 'blokaad',\n",
       " 'bns-ile',\n",
       " 'breillat',\n",
       " 'briti',\n",
       " 'broneerimine',\n",
       " 'butterfly',\n",
       " 'catherine',\n",
       " 'cm',\n",
       " 'datamonitor',\n",
       " 'defekt',\n",
       " 'deformatsioon',\n",
       " 'dekadents',\n",
       " 'deviats',\n",
       " 'dispetsher',\n",
       " 'dokumentaalfestival',\n",
       " 'dr',\n",
       " 'draamateatri',\n",
       " 'e',\n",
       " 'e-mail',\n",
       " 'edasi',\n",
       " 'eelistab',\n",
       " 'eelistavad',\n",
       " 'eelkõige',\n",
       " 'eelmisel',\n",
       " 'eemaldada',\n",
       " 'eemaldada.kas',\n",
       " 'eemaldamas',\n",
       " 'eemaldamine',\n",
       " 'eemaldatud',\n",
       " 'eemaldub',\n",
       " 'eemale',\n",
       " 'eesmine',\n",
       " 'eest',\n",
       " 'eesti',\n",
       " 'eestimaal',\n",
       " 'eestiski',\n",
       " 'eestisse',\n",
       " 'eestlaste',\n",
       " 'ega',\n",
       " 'ehitab',\n",
       " 'ehitusviisilt',\n",
       " 'ehk',\n",
       " 'ehmatavast',\n",
       " 'ei',\n",
       " 'eile',\n",
       " 'eks',\n",
       " 'eksjugoslaavlased',\n",
       " 'elab',\n",
       " 'elamu',\n",
       " 'elamurajoonide',\n",
       " 'elamus',\n",
       " 'elamuse',\n",
       " 'elanik',\n",
       " 'elasin',\n",
       " 'elav',\n",
       " 'elu',\n",
       " 'elult',\n",
       " 'elus',\n",
       " 'eluvõimalusest',\n",
       " 'emaslind',\n",
       " 'emaslinnu',\n",
       " 'emmauses',\n",
       " 'enam',\n",
       " 'enamik',\n",
       " 'enamvähem',\n",
       " 'end',\n",
       " 'enda',\n",
       " 'endale',\n",
       " 'endine',\n",
       " 'endla',\n",
       " 'energia',\n",
       " 'enim',\n",
       " 'ennast',\n",
       " 'enne',\n",
       " 'ensemble',\n",
       " 'ensüümidega',\n",
       " 'epl',\n",
       " 'eraldada',\n",
       " 'eraldi',\n",
       " 'erik',\n",
       " 'eriliseks',\n",
       " 'eriti',\n",
       " 'erki',\n",
       " 'ervin',\n",
       " 'esile',\n",
       " 'esimees',\n",
       " 'esimehe',\n",
       " 'esimese',\n",
       " 'esinemine',\n",
       " 'esines',\n",
       " 'esituses',\n",
       " 'estonias',\n",
       " 'et',\n",
       " 'etendatud',\n",
       " 'etendunud',\n",
       " 'ette',\n",
       " 'ettemaääratud',\n",
       " 'ettesöödetud',\n",
       " 'ettevalmistus',\n",
       " 'ettevõtmisest',\n",
       " 'etv',\n",
       " 'evelyn',\n",
       " 'fantaasia',\n",
       " 'fenomeni',\n",
       " 'festivalil',\n",
       " 'fikseeris',\n",
       " 'film',\n",
       " 'filmid',\n",
       " 'filmidele',\n",
       " 'filmifestival',\n",
       " 'filmilik',\n",
       " 'filmilugu',\n",
       " 'filmivaliku',\n",
       " 'firma',\n",
       " 'firmale',\n",
       " 'fotod',\n",
       " 'frankenstein',\n",
       " 'geniaalse',\n",
       " 'george',\n",
       " 'georgica',\n",
       " 'goldmine',\n",
       " 'gruberi',\n",
       " 'guido',\n",
       " 'gümnaasiumis',\n",
       " 'haiglast',\n",
       " 'hakata',\n",
       " 'hakkab',\n",
       " 'hakkas',\n",
       " 'hakkasime',\n",
       " 'hakkavad',\n",
       " 'haldajatele',\n",
       " 'hallikaskollane',\n",
       " 'hambaid',\n",
       " 'hamburgi',\n",
       " 'harjumaalt',\n",
       " 'harku',\n",
       " 'haruldane',\n",
       " 'harva',\n",
       " 'hea',\n",
       " 'head',\n",
       " 'heiki',\n",
       " 'hein',\n",
       " 'hele-',\n",
       " 'heledaks',\n",
       " 'helen',\n",
       " 'hetkekeks',\n",
       " 'hetkel',\n",
       " 'hierarhia',\n",
       " 'hiidlaine',\n",
       " 'hiljem',\n",
       " 'hiljuti',\n",
       " 'hind',\n",
       " 'hindas',\n",
       " 'hing',\n",
       " 'hinges',\n",
       " 'hinnangul',\n",
       " 'hinnata',\n",
       " 'hinnatud',\n",
       " 'hirmsa',\n",
       " 'hirmutas',\n",
       " 'hommikul',\n",
       " 'hommikuni',\n",
       " 'hoopis',\n",
       " 'http',\n",
       " 'hukatust',\n",
       " 'hulga',\n",
       " 'hulk',\n",
       " 'huvidel',\n",
       " 'huvitav',\n",
       " 'huvitavam',\n",
       " 'huvitavat',\n",
       " 'hvostovi',\n",
       " 'häid',\n",
       " 'häirib',\n",
       " 'häirijat',\n",
       " 'häirimise',\n",
       " 'hästi',\n",
       " 'häälitsustega',\n",
       " 'hõivab',\n",
       " 'hõõrus',\n",
       " 'hümn',\n",
       " 'i',\n",
       " 'idee',\n",
       " 'iga',\n",
       " 'igasse',\n",
       " 'igasuguseid',\n",
       " 'igaüks',\n",
       " 'iial',\n",
       " 'iialgi',\n",
       " 'ikagi',\n",
       " 'ikka',\n",
       " 'ikkagi',\n",
       " 'il-76',\n",
       " 'illusioon',\n",
       " 'ilma',\n",
       " 'ilmarise',\n",
       " 'ilukirurgi',\n",
       " 'ilus',\n",
       " 'imetlen',\n",
       " 'informatsiooni',\n",
       " 'inglise',\n",
       " 'inimene',\n",
       " 'inimese',\n",
       " 'inimesed',\n",
       " 'inimesi',\n",
       " 'inimest',\n",
       " 'inimeste',\n",
       " 'inna-katrin',\n",
       " 'inspektoritena',\n",
       " 'intellektuaalne',\n",
       " 'internetilehekülje',\n",
       " 'internetis',\n",
       " 'intervjuu',\n",
       " 'intervjuuministri',\n",
       " 'isaslind',\n",
       " 'ise',\n",
       " 'iseendast',\n",
       " 'isegi',\n",
       " 'iseloomu',\n",
       " 'isiksus',\n",
       " 'isiksused',\n",
       " 'isikuga',\n",
       " 'isksus',\n",
       " 'itaalia',\n",
       " 'ja',\n",
       " 'jaaniõhtu',\n",
       " 'jagata',\n",
       " 'jagatavatest',\n",
       " 'jagus',\n",
       " 'jah',\n",
       " 'jakobson',\n",
       " 'jakobsoni',\n",
       " 'jala',\n",
       " 'jalapealse',\n",
       " 'jaoks',\n",
       " 'jaoskonda',\n",
       " 'jazzialbum',\n",
       " 'jazzkaare',\n",
       " 'joe',\n",
       " 'joogi',\n",
       " 'jooksul',\n",
       " 'jooma',\n",
       " 'joomine',\n",
       " 'joonistus',\n",
       " 'jt',\n",
       " 'ju',\n",
       " 'juba',\n",
       " 'jube',\n",
       " 'jugoslaavia',\n",
       " 'jugoslaavias',\n",
       " 'jugoslaavlasi',\n",
       " 'juhatuse',\n",
       " 'juhatusele',\n",
       " 'juhib',\n",
       " 'juht',\n",
       " 'juhtida',\n",
       " 'juhtis',\n",
       " 'juhtumeid',\n",
       " 'juhust',\n",
       " 'julge',\n",
       " 'julm',\n",
       " 'juri',\n",
       " 'juske',\n",
       " 'just',\n",
       " 'justkui',\n",
       " 'juttu',\n",
       " 'jutud',\n",
       " 'jututeemaks',\n",
       " 'juuditi',\n",
       " 'juunil',\n",
       " 'juurde',\n",
       " 'juures',\n",
       " 'juuste',\n",
       " 'jäid',\n",
       " 'jäin',\n",
       " 'jälgida',\n",
       " 'järele',\n",
       " 'järelkärud',\n",
       " 'järgneb',\n",
       " 'järgnev',\n",
       " 'järgnevatel',\n",
       " 'järgselt',\n",
       " 'järjekordne',\n",
       " 'järsku',\n",
       " 'järve',\n",
       " 'jässakale',\n",
       " 'jääb',\n",
       " 'jääda',\n",
       " 'jäädes',\n",
       " 'jääks',\n",
       " 'jäänudki',\n",
       " 'jõe',\n",
       " 'jõekaldal',\n",
       " 'jõel',\n",
       " 'jõuda',\n",
       " 'jõudnud',\n",
       " 'ka',\n",
       " 'kaalu',\n",
       " 'kaalun',\n",
       " 'kaanida',\n",
       " 'kaanima',\n",
       " 'kaare',\n",
       " 'kaasa',\n",
       " 'kaasaarvatud',\n",
       " 'kaasmaalasest',\n",
       " 'kageli',\n",
       " 'kagu-aasia',\n",
       " 'kah',\n",
       " 'kaheksa',\n",
       " 'kahel',\n",
       " 'kahenädalastena',\n",
       " 'kahjuks',\n",
       " 'kahjust',\n",
       " 'kahtlemata',\n",
       " 'kaine',\n",
       " 'kainena',\n",
       " 'kainenema',\n",
       " 'kaisa',\n",
       " 'kaks',\n",
       " 'kalberg',\n",
       " 'kaldal',\n",
       " 'kaldoja',\n",
       " 'kamaba',\n",
       " 'kaminasaaliga',\n",
       " 'kanderaskus',\n",
       " 'kandis',\n",
       " 'kandist',\n",
       " 'kangastus',\n",
       " 'kannul',\n",
       " 'kao',\n",
       " 'kaotasime',\n",
       " 'kapstas',\n",
       " 'karikavõistlusest',\n",
       " 'karistus',\n",
       " 'karjusid',\n",
       " 'karu',\n",
       " 'karvu',\n",
       " 'kas',\n",
       " 'kase',\n",
       " 'kasti',\n",
       " 'kasulike',\n",
       " 'kasulikud',\n",
       " 'kasutada',\n",
       " 'kasvada',\n",
       " 'kasvõi',\n",
       " 'katki',\n",
       " 'katusele',\n",
       " 'katust',\n",
       " 'kaua',\n",
       " 'kaudu',\n",
       " 'kaugel',\n",
       " 'kaugele',\n",
       " 'kaugemale',\n",
       " 'kaugemalt',\n",
       " 'kaupa',\n",
       " 'kavas',\n",
       " 'keda',\n",
       " 'keegi',\n",
       " 'kehakujule',\n",
       " 'kehti',\n",
       " 'kel',\n",
       " 'kell',\n",
       " 'kelle',\n",
       " 'kellega',\n",
       " 'kellest',\n",
       " 'kersti',\n",
       " 'kertu',\n",
       " 'kes',\n",
       " 'keskkonnakaitse',\n",
       " 'keskkonnakaitset',\n",
       " 'keskkooli',\n",
       " 'kesklinna',\n",
       " 'kestel',\n",
       " 'kevadel',\n",
       " 'kiire',\n",
       " 'kiiremini',\n",
       " 'kiiresti',\n",
       " 'kiiult',\n",
       " 'kindel',\n",
       " 'kindla',\n",
       " 'kindlaks',\n",
       " 'kindlasti',\n",
       " 'kindluse',\n",
       " 'kingitus',\n",
       " 'kinni',\n",
       " 'kinnitas',\n",
       " 'kinnitusel',\n",
       " 'kinomajas',\n",
       " 'kinos',\n",
       " 'kipuks',\n",
       " 'kirja',\n",
       " 'kirjeldavad',\n",
       " 'kirjeldusse',\n",
       " 'kirjutas',\n",
       " 'kirjutate',\n",
       " 'kirjutati',\n",
       " 'kirurgi',\n",
       " 'kirurgile',\n",
       " 'kirurgilise',\n",
       " 'kisub',\n",
       " 'klaasid',\n",
       " 'klass',\n",
       " 'klassiga',\n",
       " 'klassikaaslased',\n",
       " 'klassikakava',\n",
       " 'klassile',\n",
       " 'klassis',\n",
       " 'kleit',\n",
       " 'kliima',\n",
       " 'kliinikus',\n",
       " 'klirisema',\n",
       " 'klirisesid',\n",
       " 'kodakondsus-',\n",
       " 'kodakondsuse',\n",
       " 'kodakondsust',\n",
       " 'kodakondsustaotlusega',\n",
       " 'kodanikele',\n",
       " 'kodanikkond',\n",
       " 'kodanikud',\n",
       " 'kodanikuks',\n",
       " 'kodu',\n",
       " 'kodulehekülg',\n",
       " 'koduleheküljel',\n",
       " 'kodumaa',\n",
       " 'kodumaine',\n",
       " 'kodumaja',\n",
       " 'kodus',\n",
       " 'koduses',\n",
       " 'kogu',\n",
       " 'kogub',\n",
       " 'kogukondi',\n",
       " 'kogume',\n",
       " 'kohal',\n",
       " 'kohaleiud',\n",
       " 'kohe',\n",
       " 'kohendavate',\n",
       " 'koht',\n",
       " 'kohta',\n",
       " 'kohutav',\n",
       " 'koju',\n",
       " 'kokku',\n",
       " 'kole',\n",
       " 'koledad',\n",
       " 'koledaks.küsiksingi',\n",
       " 'kollaseid',\n",
       " 'kolm',\n",
       " 'kolmanda',\n",
       " 'kolmes-neljas',\n",
       " 'kolmteist',\n",
       " 'komme',\n",
       " 'konkreetset',\n",
       " 'konkureerima',\n",
       " 'konkurentsi',\n",
       " 'konstitutsioon',\n",
       " 'konsultatsioonile',\n",
       " 'kontoritarbeid',\n",
       " 'kontrollida',\n",
       " 'kontserdisarjas',\n",
       " 'kontsert',\n",
       " 'kooli',\n",
       " 'kooliga',\n",
       " 'koolilõpetajad',\n",
       " 'koolis',\n",
       " 'koonilise',\n",
       " 'koormaga',\n",
       " 'koos',\n",
       " 'koosneb',\n",
       " 'koostöö',\n",
       " 'kopa',\n",
       " 'korda',\n",
       " 'korra',\n",
       " 'korral',\n",
       " 'korras',\n",
       " 'korrigeerida',\n",
       " 'korruse',\n",
       " 'korvpalli',\n",
       " 'kose',\n",
       " 'krahli',\n",
       " 'kristi',\n",
       " 'krooni',\n",
       " 'kuhu',\n",
       " 'kuhugi',\n",
       " 'kui',\n",
       " 'kuid',\n",
       " 'kuidas',\n",
       " 'kuigi',\n",
       " 'kuivadest',\n",
       " 'kujundamist',\n",
       " 'kukub',\n",
       " 'kultuuris',\n",
       " 'kultuurkapitali',\n",
       " 'kultuurrahvaks',\n",
       " 'kuna',\n",
       " 'kunagi',\n",
       " 'kuni',\n",
       " 'kuningat',\n",
       " 'kunstielamused',\n",
       " 'kunstielus',\n",
       " 'kunstiliigis',\n",
       " 'kunstiliselt',\n",
       " 'kunstist',\n",
       " 'kunstiteos',\n",
       " 'kunstnike',\n",
       " 'kunstnikel',\n",
       " 'kunstnikku',\n",
       " 'kurat',\n",
       " 'kuristavate',\n",
       " 'kuritöö',\n",
       " 'kus',\n",
       " 'kust',\n",
       " 'kutsehüüdudest',\n",
       " 'kuu',\n",
       " 'kuud',\n",
       " 'kuueaastaste',\n",
       " 'kuulajat',\n",
       " 'kuulda',\n",
       " 'kuuldemängulik',\n",
       " 'kuulis',\n",
       " 'kuulnud',\n",
       " 'kuulsin',\n",
       " 'kuulub',\n",
       " 'kuulujutte',\n",
       " 'kuuske',\n",
       " 'käest',\n",
       " 'käeulatuses',\n",
       " 'käia',\n",
       " 'käiku',\n",
       " 'käima',\n",
       " 'käinud',\n",
       " 'käis',\n",
       " 'käisid',\n",
       " 'käisin',\n",
       " 'käit',\n",
       " 'käituvad',\n",
       " 'käiva',\n",
       " 'käpp',\n",
       " 'käsnjaks',\n",
       " 'kättesaamist',\n",
       " 'kõige',\n",
       " 'kõigil',\n",
       " 'kõigile',\n",
       " 'kõigilt',\n",
       " 'kõik',\n",
       " 'kõike',\n",
       " 'kõiki',\n",
       " 'kõikjal',\n",
       " 'kõikuma',\n",
       " 'kõikvõimalikke',\n",
       " 'kõrbekuu',\n",
       " 'kõrgemal',\n",
       " 'kõrgemalt',\n",
       " 'kõrguse',\n",
       " 'kõrguselt',\n",
       " 'kõrgust',\n",
       " 'kõrtest',\n",
       " 'kõrvad',\n",
       " 'kõrval',\n",
       " 'kõrvalekaldeid',\n",
       " 'kõrvulukustavat',\n",
       " 'kõva',\n",
       " 'kõver',\n",
       " 'kõverdus',\n",
       " 'küber-jugoslaavia',\n",
       " 'küber-jugoslaaviat',\n",
       " 'küberjugoslaavlaseks',\n",
       " 'küberjugoslaavlaste',\n",
       " 'kübermaa',\n",
       " 'külas',\n",
       " 'külastada',\n",
       " 'küljele',\n",
       " 'küljelt',\n",
       " 'küll',\n",
       " 'külli',\n",
       " 'kümme',\n",
       " 'küsimus',\n",
       " 'küsimustele',\n",
       " 'kütusega',\n",
       " 'küünib',\n",
       " 'laadungiga',\n",
       " 'laanepere',\n",
       " 'laasik',\n",
       " 'laes',\n",
       " 'lagunemise',\n",
       " 'lahenevad',\n",
       " 'lahkumise',\n",
       " 'lahkuvad',\n",
       " 'lahkuvat',\n",
       " 'laiali',\n",
       " 'laikudega',\n",
       " 'lamp',\n",
       " 'langusest',\n",
       " 'lapsed',\n",
       " 'lasin',\n",
       " 'laskuda',\n",
       " 'lasteaia',\n",
       " 'lasteaiaga',\n",
       " 'lasteaias',\n",
       " 'lastele',\n",
       " 'lastiga',\n",
       " 'lastina',\n",
       " 'laul',\n",
       " 'laulab',\n",
       " 'lauldes',\n",
       " 'lauludest',\n",
       " 'laululind',\n",
       " 'laulupeol',\n",
       " 'laulupeost',\n",
       " 'laulupidu',\n",
       " 'lauluväljakul',\n",
       " 'lausa',\n",
       " 'lausus',\n",
       " 'lavastus',\n",
       " 'lehekülg',\n",
       " 'lehekülje',\n",
       " 'lehes',\n",
       " 'lehti',\n",
       " 'leiab',\n",
       " 'leida',\n",
       " 'leidke',\n",
       " 'leidnud',\n",
       " 'leidsid',\n",
       " 'leidsin',\n",
       " 'leidub',\n",
       " 'lend',\n",
       " 'lendamisluba',\n",
       " 'lendas',\n",
       " 'lendasid',\n",
       " 'lendavat',\n",
       " 'lendude',\n",
       " 'lennata',\n",
       " 'lennates',\n",
       " 'lennon',\n",
       " 'lennuamet',\n",
       " 'lennuameti',\n",
       " 'lennuametil',\n",
       " 'lennuametile',\n",
       " 'lennujaam',\n",
       " 'lennujaama',\n",
       " 'lennujaamalt',\n",
       " 'lennujaamas',\n",
       " 'lennujaamast',\n",
       " 'lennujuhtimiskeskuse',\n",
       " 'lennuk',\n",
       " 'lennuki',\n",
       " 'lennukid',\n",
       " 'lennukil',\n",
       " 'lennukirattad',\n",
       " 'lennukis',\n",
       " 'lennukit',\n",
       " 'lennukite',\n",
       " 'lennukitele',\n",
       " 'lennuliiklusteeninduse',\n",
       " 'lennuohutuse',\n",
       " 'lepp',\n",
       " 'levinud',\n",
       " 'liha',\n",
       " 'lihtne',\n",
       " 'lihtsalt',\n",
       " 'liiga',\n",
       " 'liigikaaslasi',\n",
       " 'liigutasid',\n",
       " 'liigutused',\n",
       " 'liikumise',\n",
       " 'liikumisele',\n",
       " 'liikumisest',\n",
       " 'liikumismänge',\n",
       " 'liivalaia',\n",
       " 'lindude',\n",
       " 'linna',\n",
       " 'linnaelanikele',\n",
       " 'linnaosa',\n",
       " 'linnapea',\n",
       " 'linnateatri',\n",
       " 'linnuse',\n",
       " 'lisaaega',\n",
       " 'lisada',\n",
       " 'lisaks',\n",
       " 'lisas',\n",
       " 'lising',\n",
       " 'loa',\n",
       " 'loll',\n",
       " 'loll.tahtsin',\n",
       " 'lolli',\n",
       " 'loodust',\n",
       " 'loojad',\n",
       " 'loomisest',\n",
       " 'loomulikult',\n",
       " 'loota',\n",
       " 'lotendama',\n",
       " 'lotmani',\n",
       " 'lott',\n",
       " 'lubab',\n",
       " 'lubame',\n",
       " 'lubatust',\n",
       " 'lugeda',\n",
       " 'lugu',\n",
       " 'lugupidamisega',\n",
       " 'lukku',\n",
       " 'lummata',\n",
       " 'luua',\n",
       " 'läbi',\n",
       " 'läbu',\n",
       " 'läheb',\n",
       " 'läheme',\n",
       " 'lähevad',\n",
       " 'lähistel',\n",
       " 'lähiümbruses',\n",
       " 'lähtuvate',\n",
       " 'läinud',\n",
       " 'läks',\n",
       " 'läksin',\n",
       " 'lärmi',\n",
       " 'lääne',\n",
       " 'lõbustamiseks',\n",
       " 'lõi',\n",
       " 'lõid',\n",
       " 'lõigata',\n",
       " 'lõigatud',\n",
       " 'lõikusest',\n",
       " 'lõpetaja',\n",
       " 'lõpetajad',\n",
       " 'lõpetajast',\n",
       " 'lõpetajat',\n",
       " 'lõpetajate',\n",
       " 'lõpetatakse',\n",
       " 'lõppeva',\n",
       " 'lõpuaktusele',\n",
       " 'lõpuks',\n",
       " 'lõpul',\n",
       " 'lõpuni',\n",
       " 'lõpupidu',\n",
       " 'lõpupidusid',\n",
       " 'lõpuülikonna',\n",
       " 'lõua',\n",
       " 'lõuaall',\n",
       " 'lõualoti',\n",
       " 'lõunapoolsematelt',\n",
       " 'lühike',\n",
       " 'm',\n",
       " 'ma',\n",
       " 'maa',\n",
       " 'maad',\n",
       " 'maade',\n",
       " 'maadel',\n",
       " 'maailm',\n",
       " 'maailma',\n",
       " 'maailmale',\n",
       " 'maailmas',\n",
       " 'maal',\n",
       " 'maandumis-',\n",
       " 'maani',\n",
       " 'maas',\n",
       " 'maavärina',\n",
       " 'macbeth',\n",
       " 'macbethil',\n",
       " 'madalalt',\n",
       " 'madalamal',\n",
       " 'madalamalt',\n",
       " 'madallennuga',\n",
       " 'madalstarti',\n",
       " 'magadan',\n",
       " 'magusa',\n",
       " 'maha',\n",
       " 'maiberg',\n",
       " 'maitses',\n",
       " 'maitsta',\n",
       " 'maiustama',\n",
       " 'maiuste',\n",
       " 'maja',\n",
       " 'majad',\n",
       " 'majas',\n",
       " 'maju',\n",
       " 'maksab',\n",
       " 'maksma',\n",
       " 'maksuvaba',\n",
       " 'mandunud',\n",
       " 'margi',\n",
       " 'mari',\n",
       " 'marius',\n",
       " 'masin',\n",
       " 'matrix',\n",
       " 'mayenbergi',\n",
       " 'maz-',\n",
       " 'mccartney',\n",
       " 'me',\n",
       " 'meeldejäävalt',\n",
       " 'meeldib',\n",
       " 'meeldis',\n",
       " 'meeleavaldus',\n",
       " 'meelest',\n",
       " 'meelis',\n",
       " 'meena',\n",
       " 'meenutas',\n",
       " 'mees',\n",
       " 'meetodist',\n",
       " 'meetri',\n",
       " 'meetrit',\n",
       " 'meie',\n",
       " 'meil',\n",
       " 'meile',\n",
       " 'meist',\n",
       " 'metallica',\n",
       " 'metsvindi',\n",
       " 'michaeli',\n",
       " 'mida',\n",
       " 'midagi',\n",
       " 'miki-hiir',\n",
       " 'miki-hiire',\n",
       " 'miks',\n",
       " 'miksiva-tel',\n",
       " 'mil',\n",
       " 'miljoni',\n",
       " 'mille',\n",
       " 'millega',\n",
       " 'millegi',\n",
       " 'milleks',\n",
       " ...]"
      ]
     },
     "execution_count": 5,
     "metadata": {},
     "output_type": "execute_result"
    }
   ],
   "source": [
    "# uurime kogutud sõnavara\n",
    "vocab = vectorizer.get_feature_names()\n",
    "vocab"
   ]
  },
  {
   "cell_type": "markdown",
   "metadata": {},
   "source": [
    "Konkreetsete sõnasageduste kättesaamiseks tuleb uurida maatriksi lahtreid. Maatriks on indekseeritud täisarvude järgi ning õige lahtri leidmiseks peame teadma vastavusi failinimede ja reaindeksite vahel ning sõnade ja veeruindeksite vahel. \n",
    "\n",
    "Mõlemad vastavused on meil tegelikult juba olemas. Andmete sisselugemisel salvestasime failinimed muutujasse `filenames`. Ning `vocab` sisaldab kõiki tekstis esinenud sõnu, samas järjekorras, nagu on maatriksi veerud."
   ]
  },
  {
   "cell_type": "code",
   "execution_count": 6,
   "metadata": {},
   "outputs": [
    {
     "name": "stdout",
     "output_type": "stream",
     "text": [
      "aja_EPL_1999_12_30.json\n",
      "16\n"
     ]
    }
   ],
   "source": [
    "# Leiame, mitu korda esineb sõna 'ja' esimeses tekstis\n",
    "\n",
    "# 1) esimese faili nimi:\n",
    "print(filenames[0])\n",
    "\n",
    "# 2) otsime maatriksist lahtri, mis vastab esimesele failile ning sõnale 'ja':\n",
    "print(matrix[0, vocab.index('ja')])"
   ]
  },
  {
   "cell_type": "markdown",
   "metadata": {},
   "source": [
    "Seega võime teha väikese programmi, mis aitab uurida etteantud sõnade esinemissagedust korpuse failide lõikes:"
   ]
  },
  {
   "cell_type": "code",
   "execution_count": 7,
   "metadata": {},
   "outputs": [
    {
     "name": "stdout",
     "output_type": "stream",
     "text": [
      " Sõna \"ja\" esineb failis  aja_EPL_1999_12_30.json   16  korda.\n",
      " Sõna \"ja\" esineb failis  aja_EPL_2001_06_18.tasak.json   12  korda.\n",
      " Sõna \"ja\" esineb failis  aja_pm_1999_08_13__40.json   4  korda.\n",
      " Sõna \"ja\" esineb failis  aja_pm_1999_08_13__42.json   7  korda.\n",
      " Sõna \"ja\" esineb failis  aja_sloleht_1999_08_13__36.json   9  korda.\n",
      " Sõna \"ja\" esineb failis  aja_sloleht_1999_08_13__68.json   1  korda.\n",
      " Sõna \"ja\" esineb failis  ettenten_arhiiv_koolielu_ee__470699.json   13  korda.\n",
      " Sõna \"ja\" esineb failis  ettenten_bio_edu_ee__442509.json   10  korda.\n",
      " Sõna \"ja\" esineb failis  ettenten_www_kliinik_ee__447481.json   17  korda.\n",
      " Sõna \"ja\" esineb failis  ettenten_www_poogen_ee__145074.json   12  korda.\n",
      "\n",
      " Sõna \"ning\" esineb failis  aja_EPL_1999_12_30.json   3  korda.\n",
      " Sõna \"ning\" esineb failis  aja_EPL_2001_06_18.tasak.json   2  korda.\n",
      " Sõna \"ning\" esineb failis  aja_pm_1999_08_13__42.json   3  korda.\n",
      " Sõna \"ning\" esineb failis  aja_sloleht_1999_08_13__36.json   1  korda.\n",
      " Sõna \"ning\" esineb failis  ettenten_bio_edu_ee__442509.json   2  korda.\n",
      " Sõna \"ning\" esineb failis  ettenten_www_kliinik_ee__447481.json   2  korda.\n",
      "\n",
      " Sõna \"siis\" esineb failis  aja_EPL_2001_06_18.tasak.json   6  korda.\n",
      " Sõna \"siis\" esineb failis  aja_pm_1999_08_13__40.json   1  korda.\n",
      " Sõna \"siis\" esineb failis  aja_sloleht_1999_08_13__36.json   1  korda.\n",
      " Sõna \"siis\" esineb failis  ettenten_www_kliinik_ee__447481.json   5  korda.\n",
      " Sõna \"siis\" esineb failis  ettenten_www_poogen_ee__145074.json   1  korda.\n",
      "\n",
      " Sõna \"omapäraselt\" esineb failis  ettenten_bio_edu_ee__442509.json   1  korda.\n",
      "\n"
     ]
    }
   ],
   "source": [
    "# Leiame etteantud sõnade listi põhjal, mitu korda esinesi iga sõna kõigis korpuse tekstides\n",
    "words_of_interest = ['ja', 'ning', 'siis', 'omapäraselt']\n",
    "\n",
    "for word in words_of_interest:\n",
    "    for fid, fnm in enumerate(filenames):\n",
    "        occurrence = matrix[fid, vocab.index(word)]\n",
    "        if occurrence:\n",
    "            print(' Sõna \"'+word+'\" esineb failis ',fnm,' ',occurrence,' korda.')\n",
    "    print()"
   ]
  },
  {
   "cell_type": "markdown",
   "metadata": {},
   "source": [
    "_Hõredad andmed_. Kui luua sõnade esinemissageduste tabel, siis võib sealt hakata silma nullidega lahtrite rohkus. Üldine tendents tekstiandmete puhul ongi see, et dokument-sõna maatriks tuleb hästi suur (antud juhul: 10 x 2134 lahtrit) ja sisaldab palju nulle. Kui hoiaksime sellist maatriksit tavalises Pythoni kahekordses listis, siis oleks suur osa infost sõnade _mitte-esinemise_ kohta ning ainult väike osa nende _esinemise_ kohta. See oleks aga üsna ebaefektiivne mälukasutus, kuivõrd on juba ette teada, et kõige olulisem info puudutab just sõnade esinemist ning et enamik sõnu on korpustes madala levikuga (st esinevad vaid vähestes dokumentides). Seetõttu tagastabki `CountVectorizer` vaikimisi nn hõreda maatriksi, kuhu pole salvestatud nulle, vaid ainult erinevused \"nullide meres\". Suurte korpuste korral võimaldab see kokku hoida sadu megasid mäluruumi (lähemalt on selle kohta kirjutatud [siin](https://de.dariah.eu/tatom/working_with_text.html#creating-a-document-term-matrix) ja [siin](http://scikit-learn.org/stable/modules/feature_extraction.html#sparsity))."
   ]
  },
  {
   "cell_type": "markdown",
   "metadata": {},
   "source": [
    "### Dokumentide võrdlemine\n",
    "\n",
    "Nüüd, mil korpuse dokumendid on viidud vektorite kujule, saame nendel rakendada matemaatilisi meetodeid ning uurida nende sarnasust. \n",
    "\n",
    "#### Eukleidese kaugus\n",
    "\n",
    "Üheks sageli katsetatavaks meetodiks on Eukleidese kaugus. Lihtsamal juhul, kui meil on tegemist 2-mõõtmelise (eukleidilise) ruumiga, saame vektoreid ette kujutada kui samast alguspunktist lähtuvaid \"jooni\" tasandil, ning eukleidiliseks kauguseks on siis kahe \"joone\" lõpp-punktide vahele tõmmatud (ja neid \"kolmnurgaks\" ühendava) joone pikkus. Meie andmed on küll keerulisema struktuuriga -- tegemist on _n_-mõõtmeliste vektoritega (kus _n_ on sõnade arv korpuses), mida pole just eriti lihtne visuaalselt ette kujutada. Aga matemaatiliselt saame kauguse 2-mõõtmelises eukleidilises ruumis üldistada [kauguseks _n_-mõõtmelises ruumis](https://et.wikipedia.org/wiki/Kaugus#Kaugus_eukleidilistes_ruumides) ning teha vastavad arvutused. Teek `sklearn` pakub selleks välja ka mugava funktsiooni:"
   ]
  },
  {
   "cell_type": "code",
   "execution_count": 8,
   "metadata": {},
   "outputs": [],
   "source": [
    "from sklearn.metrics.pairwise import euclidean_distances\n",
    "\n",
    "eucl_dist = euclidean_distances(matrix)"
   ]
  },
  {
   "cell_type": "markdown",
   "metadata": {},
   "source": [
    "Tulemuseks saame samuti tabeli (täpsemalt: `numpy` järjenditest koosneva järjendi), aga seekord on tabeli mõõtmed märksa väiksemad:"
   ]
  },
  {
   "cell_type": "code",
   "execution_count": 9,
   "metadata": {},
   "outputs": [
    {
     "data": {
      "text/plain": [
       "(10, 10)"
      ]
     },
     "execution_count": 9,
     "metadata": {},
     "output_type": "execute_result"
    }
   ],
   "source": [
    "eucl_dist.shape"
   ]
  },
  {
   "cell_type": "markdown",
   "metadata": {},
   "source": [
    "Sisuliselt on tabelis dokumentidevahelised kaugused korpuses, sh ka iga dokumendi kaugus iseendast."
   ]
  },
  {
   "cell_type": "code",
   "execution_count": 10,
   "metadata": {},
   "outputs": [
    {
     "data": {
      "text/plain": [
       "56.382621436041795"
      ]
     },
     "execution_count": 10,
     "metadata": {},
     "output_type": "execute_result"
    }
   ],
   "source": [
    "# Dokumentide 1 ja 0 vaheline kaugus\n",
    "eucl_dist[1,0]"
   ]
  },
  {
   "cell_type": "markdown",
   "metadata": {},
   "source": [
    "Tabelist ülevaate saamiseks võime kasutada `pandas.DataFrame`-i:"
   ]
  },
  {
   "cell_type": "code",
   "execution_count": 11,
   "metadata": {
    "scrolled": false
   },
   "outputs": [
    {
     "data": {
      "text/html": [
       "<div>\n",
       "<style scoped>\n",
       "    .dataframe tbody tr th:only-of-type {\n",
       "        vertical-align: middle;\n",
       "    }\n",
       "\n",
       "    .dataframe tbody tr th {\n",
       "        vertical-align: top;\n",
       "    }\n",
       "\n",
       "    .dataframe thead th {\n",
       "        text-align: right;\n",
       "    }\n",
       "</style>\n",
       "<table border=\"1\" class=\"dataframe\">\n",
       "  <thead>\n",
       "    <tr style=\"text-align: right;\">\n",
       "      <th></th>\n",
       "      <th>0</th>\n",
       "      <th>1</th>\n",
       "      <th>2</th>\n",
       "      <th>3</th>\n",
       "      <th>4</th>\n",
       "      <th>5</th>\n",
       "      <th>6</th>\n",
       "      <th>7</th>\n",
       "      <th>8</th>\n",
       "      <th>9</th>\n",
       "    </tr>\n",
       "  </thead>\n",
       "  <tbody>\n",
       "    <tr>\n",
       "      <th>0</th>\n",
       "      <td>0.0</td>\n",
       "      <td>56.4</td>\n",
       "      <td>66.1</td>\n",
       "      <td>67.0</td>\n",
       "      <td>66.5</td>\n",
       "      <td>72.6</td>\n",
       "      <td>64.2</td>\n",
       "      <td>64.0</td>\n",
       "      <td>65.5</td>\n",
       "      <td>79.9</td>\n",
       "    </tr>\n",
       "    <tr>\n",
       "      <th>1</th>\n",
       "      <td>56.4</td>\n",
       "      <td>0.0</td>\n",
       "      <td>61.8</td>\n",
       "      <td>51.8</td>\n",
       "      <td>54.1</td>\n",
       "      <td>77.1</td>\n",
       "      <td>61.2</td>\n",
       "      <td>62.4</td>\n",
       "      <td>51.4</td>\n",
       "      <td>51.2</td>\n",
       "    </tr>\n",
       "    <tr>\n",
       "      <th>2</th>\n",
       "      <td>66.1</td>\n",
       "      <td>61.8</td>\n",
       "      <td>0.0</td>\n",
       "      <td>39.7</td>\n",
       "      <td>36.0</td>\n",
       "      <td>32.7</td>\n",
       "      <td>33.2</td>\n",
       "      <td>29.8</td>\n",
       "      <td>44.0</td>\n",
       "      <td>64.8</td>\n",
       "    </tr>\n",
       "    <tr>\n",
       "      <th>3</th>\n",
       "      <td>67.0</td>\n",
       "      <td>51.8</td>\n",
       "      <td>39.7</td>\n",
       "      <td>0.0</td>\n",
       "      <td>40.1</td>\n",
       "      <td>55.3</td>\n",
       "      <td>44.0</td>\n",
       "      <td>43.2</td>\n",
       "      <td>43.5</td>\n",
       "      <td>53.0</td>\n",
       "    </tr>\n",
       "    <tr>\n",
       "      <th>4</th>\n",
       "      <td>66.5</td>\n",
       "      <td>54.1</td>\n",
       "      <td>36.0</td>\n",
       "      <td>40.1</td>\n",
       "      <td>0.0</td>\n",
       "      <td>55.5</td>\n",
       "      <td>43.5</td>\n",
       "      <td>43.0</td>\n",
       "      <td>47.9</td>\n",
       "      <td>59.0</td>\n",
       "    </tr>\n",
       "    <tr>\n",
       "      <th>5</th>\n",
       "      <td>72.6</td>\n",
       "      <td>77.1</td>\n",
       "      <td>32.7</td>\n",
       "      <td>55.3</td>\n",
       "      <td>55.5</td>\n",
       "      <td>0.0</td>\n",
       "      <td>35.4</td>\n",
       "      <td>29.2</td>\n",
       "      <td>53.7</td>\n",
       "      <td>81.3</td>\n",
       "    </tr>\n",
       "    <tr>\n",
       "      <th>6</th>\n",
       "      <td>64.2</td>\n",
       "      <td>61.2</td>\n",
       "      <td>33.2</td>\n",
       "      <td>44.0</td>\n",
       "      <td>43.5</td>\n",
       "      <td>35.4</td>\n",
       "      <td>0.0</td>\n",
       "      <td>28.2</td>\n",
       "      <td>42.2</td>\n",
       "      <td>66.5</td>\n",
       "    </tr>\n",
       "    <tr>\n",
       "      <th>7</th>\n",
       "      <td>64.0</td>\n",
       "      <td>62.4</td>\n",
       "      <td>29.8</td>\n",
       "      <td>43.2</td>\n",
       "      <td>43.0</td>\n",
       "      <td>29.2</td>\n",
       "      <td>28.2</td>\n",
       "      <td>0.0</td>\n",
       "      <td>41.8</td>\n",
       "      <td>68.0</td>\n",
       "    </tr>\n",
       "    <tr>\n",
       "      <th>8</th>\n",
       "      <td>65.5</td>\n",
       "      <td>51.4</td>\n",
       "      <td>44.0</td>\n",
       "      <td>43.5</td>\n",
       "      <td>47.9</td>\n",
       "      <td>53.7</td>\n",
       "      <td>42.2</td>\n",
       "      <td>41.8</td>\n",
       "      <td>0.0</td>\n",
       "      <td>52.8</td>\n",
       "    </tr>\n",
       "    <tr>\n",
       "      <th>9</th>\n",
       "      <td>79.9</td>\n",
       "      <td>51.2</td>\n",
       "      <td>64.8</td>\n",
       "      <td>53.0</td>\n",
       "      <td>59.0</td>\n",
       "      <td>81.3</td>\n",
       "      <td>66.5</td>\n",
       "      <td>68.0</td>\n",
       "      <td>52.8</td>\n",
       "      <td>0.0</td>\n",
       "    </tr>\n",
       "  </tbody>\n",
       "</table>\n",
       "</div>"
      ],
      "text/plain": [
       "      0     1     2     3     4     5     6     7     8     9\n",
       "0   0.0  56.4  66.1  67.0  66.5  72.6  64.2  64.0  65.5  79.9\n",
       "1  56.4   0.0  61.8  51.8  54.1  77.1  61.2  62.4  51.4  51.2\n",
       "2  66.1  61.8   0.0  39.7  36.0  32.7  33.2  29.8  44.0  64.8\n",
       "3  67.0  51.8  39.7   0.0  40.1  55.3  44.0  43.2  43.5  53.0\n",
       "4  66.5  54.1  36.0  40.1   0.0  55.5  43.5  43.0  47.9  59.0\n",
       "5  72.6  77.1  32.7  55.3  55.5   0.0  35.4  29.2  53.7  81.3\n",
       "6  64.2  61.2  33.2  44.0  43.5  35.4   0.0  28.2  42.2  66.5\n",
       "7  64.0  62.4  29.8  43.2  43.0  29.2  28.2   0.0  41.8  68.0\n",
       "8  65.5  51.4  44.0  43.5  47.9  53.7  42.2  41.8   0.0  52.8\n",
       "9  79.9  51.2  64.8  53.0  59.0  81.3  66.5  68.0  52.8   0.0"
      ]
     },
     "execution_count": 11,
     "metadata": {},
     "output_type": "execute_result"
    }
   ],
   "source": [
    "import numpy as np\n",
    "\n",
    "# Ümardame väärtused (1 koht peale koma)\n",
    "rounded = np.round(eucl_dist, 1)\n",
    "\n",
    "# Kuvame pandase abil tabelina:\n",
    "from pandas import DataFrame\n",
    "eucl_dist_df = DataFrame( rounded )\n",
    "eucl_dist_df"
   ]
  },
  {
   "cell_type": "markdown",
   "metadata": {},
   "source": [
    "8. praktikumist mäletame, et sellist sarnasuste maatriksit on lihtne visualiseerida *heatmap*'ina:"
   ]
  },
  {
   "cell_type": "code",
   "execution_count": 31,
   "metadata": {},
   "outputs": [],
   "source": [
    "import seaborn as sns"
   ]
  },
  {
   "cell_type": "code",
   "execution_count": 32,
   "metadata": {},
   "outputs": [
    {
     "data": {
      "text/plain": [
       "<matplotlib.axes._subplots.AxesSubplot at 0x7f020e9ebac8>"
      ]
     },
     "execution_count": 32,
     "metadata": {},
     "output_type": "execute_result"
    },
    {
     "data": {
      "image/png": "[encoded data removed]",
      "text/plain": [
       "<Figure size 432x288 with 2 Axes>"
      ]
     },
     "metadata": {},
     "output_type": "display_data"
    }
   ],
   "source": [
    "sns.heatmap(eucl_dist_df[eucl_dist_df > 0])"
   ]
  },
  {
   "cell_type": "markdown",
   "metadata": {},
   "source": [
    "Millised dokumendid on kõige sarnasemad, st kõige väiksema kaugusega? Tabeli diagonaalil võib märgata 0.0 väärtuseid, aga need ei loe, kuna märgivad dokumentide kauguseid iseendast. Seega meid huvitab väikseim nullist erinev arv, mille saab \"automaagiliselt\" kätte nii:"
   ]
  },
  {
   "cell_type": "code",
   "execution_count": 248,
   "metadata": {},
   "outputs": [
    {
     "data": {
      "text/plain": [
       "28.2"
      ]
     },
     "execution_count": 248,
     "metadata": {},
     "output_type": "execute_result"
    }
   ],
   "source": [
    "# Minimaalse väärtuse leidmine DataFrame'ist\n",
    "min_value = eucl_dist_df[eucl_dist_df > 0].min().min()\n",
    "min_value"
   ]
  },
  {
   "cell_type": "markdown",
   "metadata": {},
   "source": [
    "Nüüd saame minimaalse väärtuse ka tabelis värvida / esile tuua:"
   ]
  },
  {
   "cell_type": "code",
   "execution_count": 16,
   "metadata": {},
   "outputs": [
    {
     "data": {
      "text/html": [
       "<style  type=\"text/css\" >\n",
       "    #T_e03727b4_edde_11e8_bbab_7115529b8bbdrow6_col7 {\n",
       "            background-color:  yellow;\n",
       "        }    #T_e03727b4_edde_11e8_bbab_7115529b8bbdrow7_col6 {\n",
       "            background-color:  yellow;\n",
       "        }</style>  \n",
       "<table id=\"T_e03727b4_edde_11e8_bbab_7115529b8bbd\" > \n",
       "<thead>    <tr> \n",
       "        <th class=\"blank level0\" ></th> \n",
       "        <th class=\"col_heading level0 col0\" >0</th> \n",
       "        <th class=\"col_heading level0 col1\" >1</th> \n",
       "        <th class=\"col_heading level0 col2\" >2</th> \n",
       "        <th class=\"col_heading level0 col3\" >3</th> \n",
       "        <th class=\"col_heading level0 col4\" >4</th> \n",
       "        <th class=\"col_heading level0 col5\" >5</th> \n",
       "        <th class=\"col_heading level0 col6\" >6</th> \n",
       "        <th class=\"col_heading level0 col7\" >7</th> \n",
       "        <th class=\"col_heading level0 col8\" >8</th> \n",
       "        <th class=\"col_heading level0 col9\" >9</th> \n",
       "    </tr></thead> \n",
       "<tbody>    <tr> \n",
       "        <th id=\"T_e03727b4_edde_11e8_bbab_7115529b8bbdlevel0_row0\" class=\"row_heading level0 row0\" >0</th> \n",
       "        <td id=\"T_e03727b4_edde_11e8_bbab_7115529b8bbdrow0_col0\" class=\"data row0 col0\" >0</td> \n",
       "        <td id=\"T_e03727b4_edde_11e8_bbab_7115529b8bbdrow0_col1\" class=\"data row0 col1\" >56.4</td> \n",
       "        <td id=\"T_e03727b4_edde_11e8_bbab_7115529b8bbdrow0_col2\" class=\"data row0 col2\" >66.1</td> \n",
       "        <td id=\"T_e03727b4_edde_11e8_bbab_7115529b8bbdrow0_col3\" class=\"data row0 col3\" >67</td> \n",
       "        <td id=\"T_e03727b4_edde_11e8_bbab_7115529b8bbdrow0_col4\" class=\"data row0 col4\" >66.5</td> \n",
       "        <td id=\"T_e03727b4_edde_11e8_bbab_7115529b8bbdrow0_col5\" class=\"data row0 col5\" >72.6</td> \n",
       "        <td id=\"T_e03727b4_edde_11e8_bbab_7115529b8bbdrow0_col6\" class=\"data row0 col6\" >64.2</td> \n",
       "        <td id=\"T_e03727b4_edde_11e8_bbab_7115529b8bbdrow0_col7\" class=\"data row0 col7\" >64</td> \n",
       "        <td id=\"T_e03727b4_edde_11e8_bbab_7115529b8bbdrow0_col8\" class=\"data row0 col8\" >65.5</td> \n",
       "        <td id=\"T_e03727b4_edde_11e8_bbab_7115529b8bbdrow0_col9\" class=\"data row0 col9\" >79.9</td> \n",
       "    </tr>    <tr> \n",
       "        <th id=\"T_e03727b4_edde_11e8_bbab_7115529b8bbdlevel0_row1\" class=\"row_heading level0 row1\" >1</th> \n",
       "        <td id=\"T_e03727b4_edde_11e8_bbab_7115529b8bbdrow1_col0\" class=\"data row1 col0\" >56.4</td> \n",
       "        <td id=\"T_e03727b4_edde_11e8_bbab_7115529b8bbdrow1_col1\" class=\"data row1 col1\" >0</td> \n",
       "        <td id=\"T_e03727b4_edde_11e8_bbab_7115529b8bbdrow1_col2\" class=\"data row1 col2\" >61.8</td> \n",
       "        <td id=\"T_e03727b4_edde_11e8_bbab_7115529b8bbdrow1_col3\" class=\"data row1 col3\" >51.8</td> \n",
       "        <td id=\"T_e03727b4_edde_11e8_bbab_7115529b8bbdrow1_col4\" class=\"data row1 col4\" >54.1</td> \n",
       "        <td id=\"T_e03727b4_edde_11e8_bbab_7115529b8bbdrow1_col5\" class=\"data row1 col5\" >77.1</td> \n",
       "        <td id=\"T_e03727b4_edde_11e8_bbab_7115529b8bbdrow1_col6\" class=\"data row1 col6\" >61.2</td> \n",
       "        <td id=\"T_e03727b4_edde_11e8_bbab_7115529b8bbdrow1_col7\" class=\"data row1 col7\" >62.4</td> \n",
       "        <td id=\"T_e03727b4_edde_11e8_bbab_7115529b8bbdrow1_col8\" class=\"data row1 col8\" >51.4</td> \n",
       "        <td id=\"T_e03727b4_edde_11e8_bbab_7115529b8bbdrow1_col9\" class=\"data row1 col9\" >51.2</td> \n",
       "    </tr>    <tr> \n",
       "        <th id=\"T_e03727b4_edde_11e8_bbab_7115529b8bbdlevel0_row2\" class=\"row_heading level0 row2\" >2</th> \n",
       "        <td id=\"T_e03727b4_edde_11e8_bbab_7115529b8bbdrow2_col0\" class=\"data row2 col0\" >66.1</td> \n",
       "        <td id=\"T_e03727b4_edde_11e8_bbab_7115529b8bbdrow2_col1\" class=\"data row2 col1\" >61.8</td> \n",
       "        <td id=\"T_e03727b4_edde_11e8_bbab_7115529b8bbdrow2_col2\" class=\"data row2 col2\" >0</td> \n",
       "        <td id=\"T_e03727b4_edde_11e8_bbab_7115529b8bbdrow2_col3\" class=\"data row2 col3\" >39.7</td> \n",
       "        <td id=\"T_e03727b4_edde_11e8_bbab_7115529b8bbdrow2_col4\" class=\"data row2 col4\" >36</td> \n",
       "        <td id=\"T_e03727b4_edde_11e8_bbab_7115529b8bbdrow2_col5\" class=\"data row2 col5\" >32.7</td> \n",
       "        <td id=\"T_e03727b4_edde_11e8_bbab_7115529b8bbdrow2_col6\" class=\"data row2 col6\" >33.2</td> \n",
       "        <td id=\"T_e03727b4_edde_11e8_bbab_7115529b8bbdrow2_col7\" class=\"data row2 col7\" >29.8</td> \n",
       "        <td id=\"T_e03727b4_edde_11e8_bbab_7115529b8bbdrow2_col8\" class=\"data row2 col8\" >44</td> \n",
       "        <td id=\"T_e03727b4_edde_11e8_bbab_7115529b8bbdrow2_col9\" class=\"data row2 col9\" >64.8</td> \n",
       "    </tr>    <tr> \n",
       "        <th id=\"T_e03727b4_edde_11e8_bbab_7115529b8bbdlevel0_row3\" class=\"row_heading level0 row3\" >3</th> \n",
       "        <td id=\"T_e03727b4_edde_11e8_bbab_7115529b8bbdrow3_col0\" class=\"data row3 col0\" >67</td> \n",
       "        <td id=\"T_e03727b4_edde_11e8_bbab_7115529b8bbdrow3_col1\" class=\"data row3 col1\" >51.8</td> \n",
       "        <td id=\"T_e03727b4_edde_11e8_bbab_7115529b8bbdrow3_col2\" class=\"data row3 col2\" >39.7</td> \n",
       "        <td id=\"T_e03727b4_edde_11e8_bbab_7115529b8bbdrow3_col3\" class=\"data row3 col3\" >0</td> \n",
       "        <td id=\"T_e03727b4_edde_11e8_bbab_7115529b8bbdrow3_col4\" class=\"data row3 col4\" >40.1</td> \n",
       "        <td id=\"T_e03727b4_edde_11e8_bbab_7115529b8bbdrow3_col5\" class=\"data row3 col5\" >55.3</td> \n",
       "        <td id=\"T_e03727b4_edde_11e8_bbab_7115529b8bbdrow3_col6\" class=\"data row3 col6\" >44</td> \n",
       "        <td id=\"T_e03727b4_edde_11e8_bbab_7115529b8bbdrow3_col7\" class=\"data row3 col7\" >43.2</td> \n",
       "        <td id=\"T_e03727b4_edde_11e8_bbab_7115529b8bbdrow3_col8\" class=\"data row3 col8\" >43.5</td> \n",
       "        <td id=\"T_e03727b4_edde_11e8_bbab_7115529b8bbdrow3_col9\" class=\"data row3 col9\" >53</td> \n",
       "    </tr>    <tr> \n",
       "        <th id=\"T_e03727b4_edde_11e8_bbab_7115529b8bbdlevel0_row4\" class=\"row_heading level0 row4\" >4</th> \n",
       "        <td id=\"T_e03727b4_edde_11e8_bbab_7115529b8bbdrow4_col0\" class=\"data row4 col0\" >66.5</td> \n",
       "        <td id=\"T_e03727b4_edde_11e8_bbab_7115529b8bbdrow4_col1\" class=\"data row4 col1\" >54.1</td> \n",
       "        <td id=\"T_e03727b4_edde_11e8_bbab_7115529b8bbdrow4_col2\" class=\"data row4 col2\" >36</td> \n",
       "        <td id=\"T_e03727b4_edde_11e8_bbab_7115529b8bbdrow4_col3\" class=\"data row4 col3\" >40.1</td> \n",
       "        <td id=\"T_e03727b4_edde_11e8_bbab_7115529b8bbdrow4_col4\" class=\"data row4 col4\" >0</td> \n",
       "        <td id=\"T_e03727b4_edde_11e8_bbab_7115529b8bbdrow4_col5\" class=\"data row4 col5\" >55.5</td> \n",
       "        <td id=\"T_e03727b4_edde_11e8_bbab_7115529b8bbdrow4_col6\" class=\"data row4 col6\" >43.5</td> \n",
       "        <td id=\"T_e03727b4_edde_11e8_bbab_7115529b8bbdrow4_col7\" class=\"data row4 col7\" >43</td> \n",
       "        <td id=\"T_e03727b4_edde_11e8_bbab_7115529b8bbdrow4_col8\" class=\"data row4 col8\" >47.9</td> \n",
       "        <td id=\"T_e03727b4_edde_11e8_bbab_7115529b8bbdrow4_col9\" class=\"data row4 col9\" >59</td> \n",
       "    </tr>    <tr> \n",
       "        <th id=\"T_e03727b4_edde_11e8_bbab_7115529b8bbdlevel0_row5\" class=\"row_heading level0 row5\" >5</th> \n",
       "        <td id=\"T_e03727b4_edde_11e8_bbab_7115529b8bbdrow5_col0\" class=\"data row5 col0\" >72.6</td> \n",
       "        <td id=\"T_e03727b4_edde_11e8_bbab_7115529b8bbdrow5_col1\" class=\"data row5 col1\" >77.1</td> \n",
       "        <td id=\"T_e03727b4_edde_11e8_bbab_7115529b8bbdrow5_col2\" class=\"data row5 col2\" >32.7</td> \n",
       "        <td id=\"T_e03727b4_edde_11e8_bbab_7115529b8bbdrow5_col3\" class=\"data row5 col3\" >55.3</td> \n",
       "        <td id=\"T_e03727b4_edde_11e8_bbab_7115529b8bbdrow5_col4\" class=\"data row5 col4\" >55.5</td> \n",
       "        <td id=\"T_e03727b4_edde_11e8_bbab_7115529b8bbdrow5_col5\" class=\"data row5 col5\" >0</td> \n",
       "        <td id=\"T_e03727b4_edde_11e8_bbab_7115529b8bbdrow5_col6\" class=\"data row5 col6\" >35.4</td> \n",
       "        <td id=\"T_e03727b4_edde_11e8_bbab_7115529b8bbdrow5_col7\" class=\"data row5 col7\" >29.2</td> \n",
       "        <td id=\"T_e03727b4_edde_11e8_bbab_7115529b8bbdrow5_col8\" class=\"data row5 col8\" >53.7</td> \n",
       "        <td id=\"T_e03727b4_edde_11e8_bbab_7115529b8bbdrow5_col9\" class=\"data row5 col9\" >81.3</td> \n",
       "    </tr>    <tr> \n",
       "        <th id=\"T_e03727b4_edde_11e8_bbab_7115529b8bbdlevel0_row6\" class=\"row_heading level0 row6\" >6</th> \n",
       "        <td id=\"T_e03727b4_edde_11e8_bbab_7115529b8bbdrow6_col0\" class=\"data row6 col0\" >64.2</td> \n",
       "        <td id=\"T_e03727b4_edde_11e8_bbab_7115529b8bbdrow6_col1\" class=\"data row6 col1\" >61.2</td> \n",
       "        <td id=\"T_e03727b4_edde_11e8_bbab_7115529b8bbdrow6_col2\" class=\"data row6 col2\" >33.2</td> \n",
       "        <td id=\"T_e03727b4_edde_11e8_bbab_7115529b8bbdrow6_col3\" class=\"data row6 col3\" >44</td> \n",
       "        <td id=\"T_e03727b4_edde_11e8_bbab_7115529b8bbdrow6_col4\" class=\"data row6 col4\" >43.5</td> \n",
       "        <td id=\"T_e03727b4_edde_11e8_bbab_7115529b8bbdrow6_col5\" class=\"data row6 col5\" >35.4</td> \n",
       "        <td id=\"T_e03727b4_edde_11e8_bbab_7115529b8bbdrow6_col6\" class=\"data row6 col6\" >0</td> \n",
       "        <td id=\"T_e03727b4_edde_11e8_bbab_7115529b8bbdrow6_col7\" class=\"data row6 col7\" >28.2</td> \n",
       "        <td id=\"T_e03727b4_edde_11e8_bbab_7115529b8bbdrow6_col8\" class=\"data row6 col8\" >42.2</td> \n",
       "        <td id=\"T_e03727b4_edde_11e8_bbab_7115529b8bbdrow6_col9\" class=\"data row6 col9\" >66.5</td> \n",
       "    </tr>    <tr> \n",
       "        <th id=\"T_e03727b4_edde_11e8_bbab_7115529b8bbdlevel0_row7\" class=\"row_heading level0 row7\" >7</th> \n",
       "        <td id=\"T_e03727b4_edde_11e8_bbab_7115529b8bbdrow7_col0\" class=\"data row7 col0\" >64</td> \n",
       "        <td id=\"T_e03727b4_edde_11e8_bbab_7115529b8bbdrow7_col1\" class=\"data row7 col1\" >62.4</td> \n",
       "        <td id=\"T_e03727b4_edde_11e8_bbab_7115529b8bbdrow7_col2\" class=\"data row7 col2\" >29.8</td> \n",
       "        <td id=\"T_e03727b4_edde_11e8_bbab_7115529b8bbdrow7_col3\" class=\"data row7 col3\" >43.2</td> \n",
       "        <td id=\"T_e03727b4_edde_11e8_bbab_7115529b8bbdrow7_col4\" class=\"data row7 col4\" >43</td> \n",
       "        <td id=\"T_e03727b4_edde_11e8_bbab_7115529b8bbdrow7_col5\" class=\"data row7 col5\" >29.2</td> \n",
       "        <td id=\"T_e03727b4_edde_11e8_bbab_7115529b8bbdrow7_col6\" class=\"data row7 col6\" >28.2</td> \n",
       "        <td id=\"T_e03727b4_edde_11e8_bbab_7115529b8bbdrow7_col7\" class=\"data row7 col7\" >0</td> \n",
       "        <td id=\"T_e03727b4_edde_11e8_bbab_7115529b8bbdrow7_col8\" class=\"data row7 col8\" >41.8</td> \n",
       "        <td id=\"T_e03727b4_edde_11e8_bbab_7115529b8bbdrow7_col9\" class=\"data row7 col9\" >68</td> \n",
       "    </tr>    <tr> \n",
       "        <th id=\"T_e03727b4_edde_11e8_bbab_7115529b8bbdlevel0_row8\" class=\"row_heading level0 row8\" >8</th> \n",
       "        <td id=\"T_e03727b4_edde_11e8_bbab_7115529b8bbdrow8_col0\" class=\"data row8 col0\" >65.5</td> \n",
       "        <td id=\"T_e03727b4_edde_11e8_bbab_7115529b8bbdrow8_col1\" class=\"data row8 col1\" >51.4</td> \n",
       "        <td id=\"T_e03727b4_edde_11e8_bbab_7115529b8bbdrow8_col2\" class=\"data row8 col2\" >44</td> \n",
       "        <td id=\"T_e03727b4_edde_11e8_bbab_7115529b8bbdrow8_col3\" class=\"data row8 col3\" >43.5</td> \n",
       "        <td id=\"T_e03727b4_edde_11e8_bbab_7115529b8bbdrow8_col4\" class=\"data row8 col4\" >47.9</td> \n",
       "        <td id=\"T_e03727b4_edde_11e8_bbab_7115529b8bbdrow8_col5\" class=\"data row8 col5\" >53.7</td> \n",
       "        <td id=\"T_e03727b4_edde_11e8_bbab_7115529b8bbdrow8_col6\" class=\"data row8 col6\" >42.2</td> \n",
       "        <td id=\"T_e03727b4_edde_11e8_bbab_7115529b8bbdrow8_col7\" class=\"data row8 col7\" >41.8</td> \n",
       "        <td id=\"T_e03727b4_edde_11e8_bbab_7115529b8bbdrow8_col8\" class=\"data row8 col8\" >0</td> \n",
       "        <td id=\"T_e03727b4_edde_11e8_bbab_7115529b8bbdrow8_col9\" class=\"data row8 col9\" >52.8</td> \n",
       "    </tr>    <tr> \n",
       "        <th id=\"T_e03727b4_edde_11e8_bbab_7115529b8bbdlevel0_row9\" class=\"row_heading level0 row9\" >9</th> \n",
       "        <td id=\"T_e03727b4_edde_11e8_bbab_7115529b8bbdrow9_col0\" class=\"data row9 col0\" >79.9</td> \n",
       "        <td id=\"T_e03727b4_edde_11e8_bbab_7115529b8bbdrow9_col1\" class=\"data row9 col1\" >51.2</td> \n",
       "        <td id=\"T_e03727b4_edde_11e8_bbab_7115529b8bbdrow9_col2\" class=\"data row9 col2\" >64.8</td> \n",
       "        <td id=\"T_e03727b4_edde_11e8_bbab_7115529b8bbdrow9_col3\" class=\"data row9 col3\" >53</td> \n",
       "        <td id=\"T_e03727b4_edde_11e8_bbab_7115529b8bbdrow9_col4\" class=\"data row9 col4\" >59</td> \n",
       "        <td id=\"T_e03727b4_edde_11e8_bbab_7115529b8bbdrow9_col5\" class=\"data row9 col5\" >81.3</td> \n",
       "        <td id=\"T_e03727b4_edde_11e8_bbab_7115529b8bbdrow9_col6\" class=\"data row9 col6\" >66.5</td> \n",
       "        <td id=\"T_e03727b4_edde_11e8_bbab_7115529b8bbdrow9_col7\" class=\"data row9 col7\" >68</td> \n",
       "        <td id=\"T_e03727b4_edde_11e8_bbab_7115529b8bbdrow9_col8\" class=\"data row9 col8\" >52.8</td> \n",
       "        <td id=\"T_e03727b4_edde_11e8_bbab_7115529b8bbdrow9_col9\" class=\"data row9 col9\" >0</td> \n",
       "    </tr></tbody> \n",
       "</table> "
      ],
      "text/plain": [
       "<pandas.io.formats.style.Styler at 0x7f0210418780>"
      ]
     },
     "execution_count": 16,
     "metadata": {},
     "output_type": "execute_result"
    }
   ],
   "source": [
    "import math\n",
    "\n",
    "# Funktsioon, mis omistab tabeli lahtrile kollase värvi, kui väärtus on piisavalt lähedal min_value-le\n",
    "color_fun = lambda s: 'background-color: yellow' if math.isclose(s, min_value, rel_tol=1e-5) else ''\n",
    "\n",
    "# Rakendame funktsioon oma tabelil\n",
    "eucl_dist_df.style.applymap(color_fun)"
   ]
  },
  {
   "cell_type": "markdown",
   "metadata": {},
   "source": [
    "Teine viis seda teha: teeme tsükli üle tabeli ning kasutame vahemuutujat minimaalse väärtuse ülesleidmiseks. Ühtlasi leiame ka üles vastavad rea- ja veeruindeksid (millised dokumendid olid kõige sarnasemad):"
   ]
  },
  {
   "cell_type": "code",
   "execution_count": 17,
   "metadata": {},
   "outputs": [
    {
     "name": "stdout",
     "output_type": "stream",
     "text": [
      " Kõige sarnasemad ( kaugus 28.231188426986208 ) on ettenten_arhiiv_koolielu_ee__470699.json ja ettenten_bio_edu_ee__442509.json\n"
     ]
    }
   ],
   "source": [
    "# Leiame, millised dokumendid on kõige sarnasemad eukleidese kauguse järgi\n",
    "min_dist = eucl_dist[1,0]\n",
    "min_xid = 0\n",
    "min_yid = 0\n",
    "for xid, x in enumerate(eucl_dist):\n",
    "    for yid, y in enumerate(x):\n",
    "        if xid != yid and y < min_dist:\n",
    "            min_dist = y\n",
    "            min_xid = xid\n",
    "            min_yid = yid\n",
    "print(' Kõige sarnasemad ( kaugus',min_dist,') on',filenames[min_xid],'ja',filenames[min_yid])"
   ]
  },
  {
   "cell_type": "markdown",
   "metadata": {},
   "source": [
    "Uurime ka mõlema faili/dokumendi alguseid:"
   ]
  },
  {
   "cell_type": "code",
   "execution_count": 18,
   "metadata": {},
   "outputs": [
    {
     "name": "stdout",
     "output_type": "stream",
     "text": [
      "--------------------------------------------------\n",
      "ettenten_arhiiv_koolielu_ee__470699.json : Signe Kalberg: Eelmisel nädalal Paide Kesklinna lasteaias olnud tervisenädalal panid nii lapsed kui ka õpetajad rõhku liikumisele ja tervislikule toitumisele.\n",
      "\n",
      "Kesklinna lasteaia viie- ja kuueaastaste rühmas käiva Saloome Toome meelest oli tervisenädala kõige toredam päev see, kui nad käisid koos õp\n",
      "--------------------------------------------------\n",
      "ettenten_bio_edu_ee__442509.json : Rohevint\n",
      "\n",
      "Rohevint on varblasest veidi suurem rohekaskollane (isaslind) või hallikaskollane (emaslind) tüseda koonilise nokaga laululind. Vaatamata pisut jässakale kehakujule on rohevindi liigutused osavad ja lend kiire. Rahuliku iseloomu tõttu võib ta õige kaua ühel kohal püsida ja ümbrust silmitse\n",
      "\n"
     ]
    }
   ],
   "source": [
    "print('-'*50)\n",
    "print(filenames[min_xid], ':', texts[min_xid][:300])\n",
    "print('-'*50)\n",
    "print(filenames[min_yid], ':', texts[min_yid][:300])\n",
    "print()"
   ]
  },
  {
   "cell_type": "markdown",
   "metadata": {},
   "source": [
    "### Ülesanne 1. Kattuvused sõnavaras (0,5 p)\n",
    "\n",
    "Eelmise katse väljundit (kahe \"kõige sarnasema\" dokumendi alguseid, aga ka sisusid) uurides on üsna raske aru saada, miks meetod pakub, et tegemist on sarnaste dokumentidega. Et probleemi lähemalt uurida, looge funktsioon, mis saab argumentideks dokument-sõna-maatriksi (`matrix`), sõnaloendi (`vocab`) ja kahe dokumendi (maatriksi rea) indeksid (täisarvud `x` ja `y`), ning leiab ja tagastab sõnad, mis esinesid mõlemas dokumendis, koos vastavate sõnasagedustega mõlemas dokumendis. Tulemused võib vormistada nt ennikutena:\n",
    "\n",
    "        >> common_words(matrix, vocab, 1, 2)\n",
    "           [('lennujaama', 1, 2), ('tallinna', 3, 4), ... ]\n",
    "\n",
    "Leidke funktsiooni abil kahe kõige sarnasema dokumendi sõnavaraline kattuvus."
   ]
  },
  {
   "cell_type": "markdown",
   "metadata": {},
   "source": [
    "#### Koosinus-sarnasus \n",
    "Eukleidese kauguse rakendamisel tekstide võrdlemisel on üks iseärasus: kauguseid mõjutab võrreldavate dokumentide pikkus. Seega,  kui kaks dokumenti kirjutavad samal teemal (kasutavad sarnast sõnavara), aga on pikkuse poolest väga erinevad (nt üks on lühike uudisnupp ning teine pikk arvamuslugu), siis Eukleidese kaugus ei pruugi neid kahte dokumenti kõige sarnasemateks lugeda. Pigem võib juhtuda, et \"sarnasteks\" kujunevad pikkuse poolest sarnased dokumendid.\n",
    "\n",
    "Sellest probleemist saame üle, kui kasutame vektorite võrdlemise teistsugust meetodit: **koosinus-sarnasust** (ingl _cosine similarity_). Tuleme tagasi 2-mõõtmelise ruumi näite juurde. Nagu eelnevalt, nii ka nüüd on vektorid ühest ja samast punktist algavad \"jooned\" tasandil ja meid huvitab nende joonte \"sarnasus\". Aga seekord hülgame joonte lõpp-punktide vahelise kauguse (mis sõltub joonte pikkusest) ning mõõdame vaid kahe \"joone\" vahelist nurka. Seda teebki koosinus-sarnasus. Kui läheme 2-mõõtmelisest ruumist jälle _n_-mõõtmelisse ruumi dokumentide-vahelist sarnasust leidma, siis hakkab tulemust (vektorite-vahelist nurka) mõjutama mitte niivõrd kattuvate sõnade sagedus, kuivõrd üleüldine kattuvate sõnade arv (mida rohkem erinevaid kattuvaid sõnu, seda väiksem nurk -- isegi kui kattuvad sõnad ise on vähesagedased).\n",
    "\n",
    "Rangelt võttes on `cosine_similarity` sarnasuse mõõdik ning tagastab 0 ja 1 vahele jääva väärtuse (1 == maksimaalne sarnasus / identsus, 0 == maksimaalne erinevus). Et meie tulemused oleks enam-vähem võrreldavad Eukleidese kauguse omadega, peame sarnasused teisendama kaugusteks (ehk siis läbi viima tehted: _kaugus_ = 1 - _sarnasus_). Selleks on teegis `sklearn` olemas eraldi funktsioon:"
   ]
  },
  {
   "cell_type": "code",
   "execution_count": 19,
   "metadata": {},
   "outputs": [
    {
     "data": {
      "text/plain": [
       "array([[0.        , 0.26057677, 0.53184201, 0.4809694 , 0.4729253 ,\n",
       "        0.68222021, 0.48586239, 0.4709485 , 0.46587488, 0.4957613 ],\n",
       "       [0.26057677, 0.        , 0.30846336, 0.23247808, 0.25878573,\n",
       "        0.54462099, 0.31558506, 0.29513492, 0.22638838, 0.19058794],\n",
       "       [0.53184201, 0.30846336, 0.        , 0.2488617 , 0.17948869,\n",
       "        0.602905  , 0.40697862, 0.39101752, 0.36539096, 0.29357499],\n",
       "       [0.4809694 , 0.23247808, 0.2488617 , 0.        , 0.23304776,\n",
       "        0.54548337, 0.33797455, 0.30707484, 0.28307457, 0.2144593 ],\n",
       "       [0.4729253 , 0.25878573, 0.17948869, 0.23304776, 0.        ,\n",
       "        0.57296783, 0.32850877, 0.30270944, 0.34349699, 0.28192844],\n",
       "       [0.68222021, 0.54462099, 0.602905  , 0.54548337, 0.57296783,\n",
       "        0.        , 0.57677652, 0.56295185, 0.56757397, 0.55572181],\n",
       "       [0.48586239, 0.31558506, 0.40697862, 0.33797455, 0.32850877,\n",
       "        0.57677652, 0.        , 0.31046074, 0.33027239, 0.34803718],\n",
       "       [0.4709485 , 0.29513492, 0.39101752, 0.30707484, 0.30270944,\n",
       "        0.56295185, 0.31046074, 0.        , 0.31089011, 0.33989946],\n",
       "       [0.46587488, 0.22638838, 0.36539096, 0.28307457, 0.34349699,\n",
       "        0.56757397, 0.33027239, 0.31089011, 0.        , 0.20919423],\n",
       "       [0.4957613 , 0.19058794, 0.29357499, 0.2144593 , 0.28192844,\n",
       "        0.55572181, 0.34803718, 0.33989946, 0.20919423, 0.        ]])"
      ]
     },
     "execution_count": 19,
     "metadata": {},
     "output_type": "execute_result"
    }
   ],
   "source": [
    "from sklearn.metrics.pairwise import cosine_distances\n",
    "\n",
    "cos_dist = cosine_distances(matrix)\n",
    "cos_dist"
   ]
  },
  {
   "cell_type": "code",
   "execution_count": 20,
   "metadata": {},
   "outputs": [
    {
     "data": {
      "text/html": [
       "<div>\n",
       "<style scoped>\n",
       "    .dataframe tbody tr th:only-of-type {\n",
       "        vertical-align: middle;\n",
       "    }\n",
       "\n",
       "    .dataframe tbody tr th {\n",
       "        vertical-align: top;\n",
       "    }\n",
       "\n",
       "    .dataframe thead th {\n",
       "        text-align: right;\n",
       "    }\n",
       "</style>\n",
       "<table border=\"1\" class=\"dataframe\">\n",
       "  <thead>\n",
       "    <tr style=\"text-align: right;\">\n",
       "      <th></th>\n",
       "      <th>0</th>\n",
       "      <th>1</th>\n",
       "      <th>2</th>\n",
       "      <th>3</th>\n",
       "      <th>4</th>\n",
       "      <th>5</th>\n",
       "      <th>6</th>\n",
       "      <th>7</th>\n",
       "      <th>8</th>\n",
       "      <th>9</th>\n",
       "    </tr>\n",
       "  </thead>\n",
       "  <tbody>\n",
       "    <tr>\n",
       "      <th>0</th>\n",
       "      <td>0.00</td>\n",
       "      <td>0.26</td>\n",
       "      <td>0.53</td>\n",
       "      <td>0.48</td>\n",
       "      <td>0.47</td>\n",
       "      <td>0.68</td>\n",
       "      <td>0.49</td>\n",
       "      <td>0.47</td>\n",
       "      <td>0.47</td>\n",
       "      <td>0.50</td>\n",
       "    </tr>\n",
       "    <tr>\n",
       "      <th>1</th>\n",
       "      <td>0.26</td>\n",
       "      <td>0.00</td>\n",
       "      <td>0.31</td>\n",
       "      <td>0.23</td>\n",
       "      <td>0.26</td>\n",
       "      <td>0.54</td>\n",
       "      <td>0.32</td>\n",
       "      <td>0.30</td>\n",
       "      <td>0.23</td>\n",
       "      <td>0.19</td>\n",
       "    </tr>\n",
       "    <tr>\n",
       "      <th>2</th>\n",
       "      <td>0.53</td>\n",
       "      <td>0.31</td>\n",
       "      <td>0.00</td>\n",
       "      <td>0.25</td>\n",
       "      <td>0.18</td>\n",
       "      <td>0.60</td>\n",
       "      <td>0.41</td>\n",
       "      <td>0.39</td>\n",
       "      <td>0.37</td>\n",
       "      <td>0.29</td>\n",
       "    </tr>\n",
       "    <tr>\n",
       "      <th>3</th>\n",
       "      <td>0.48</td>\n",
       "      <td>0.23</td>\n",
       "      <td>0.25</td>\n",
       "      <td>0.00</td>\n",
       "      <td>0.23</td>\n",
       "      <td>0.55</td>\n",
       "      <td>0.34</td>\n",
       "      <td>0.31</td>\n",
       "      <td>0.28</td>\n",
       "      <td>0.21</td>\n",
       "    </tr>\n",
       "    <tr>\n",
       "      <th>4</th>\n",
       "      <td>0.47</td>\n",
       "      <td>0.26</td>\n",
       "      <td>0.18</td>\n",
       "      <td>0.23</td>\n",
       "      <td>0.00</td>\n",
       "      <td>0.57</td>\n",
       "      <td>0.33</td>\n",
       "      <td>0.30</td>\n",
       "      <td>0.34</td>\n",
       "      <td>0.28</td>\n",
       "    </tr>\n",
       "    <tr>\n",
       "      <th>5</th>\n",
       "      <td>0.68</td>\n",
       "      <td>0.54</td>\n",
       "      <td>0.60</td>\n",
       "      <td>0.55</td>\n",
       "      <td>0.57</td>\n",
       "      <td>0.00</td>\n",
       "      <td>0.58</td>\n",
       "      <td>0.56</td>\n",
       "      <td>0.57</td>\n",
       "      <td>0.56</td>\n",
       "    </tr>\n",
       "    <tr>\n",
       "      <th>6</th>\n",
       "      <td>0.49</td>\n",
       "      <td>0.32</td>\n",
       "      <td>0.41</td>\n",
       "      <td>0.34</td>\n",
       "      <td>0.33</td>\n",
       "      <td>0.58</td>\n",
       "      <td>0.00</td>\n",
       "      <td>0.31</td>\n",
       "      <td>0.33</td>\n",
       "      <td>0.35</td>\n",
       "    </tr>\n",
       "    <tr>\n",
       "      <th>7</th>\n",
       "      <td>0.47</td>\n",
       "      <td>0.30</td>\n",
       "      <td>0.39</td>\n",
       "      <td>0.31</td>\n",
       "      <td>0.30</td>\n",
       "      <td>0.56</td>\n",
       "      <td>0.31</td>\n",
       "      <td>0.00</td>\n",
       "      <td>0.31</td>\n",
       "      <td>0.34</td>\n",
       "    </tr>\n",
       "    <tr>\n",
       "      <th>8</th>\n",
       "      <td>0.47</td>\n",
       "      <td>0.23</td>\n",
       "      <td>0.37</td>\n",
       "      <td>0.28</td>\n",
       "      <td>0.34</td>\n",
       "      <td>0.57</td>\n",
       "      <td>0.33</td>\n",
       "      <td>0.31</td>\n",
       "      <td>0.00</td>\n",
       "      <td>0.21</td>\n",
       "    </tr>\n",
       "    <tr>\n",
       "      <th>9</th>\n",
       "      <td>0.50</td>\n",
       "      <td>0.19</td>\n",
       "      <td>0.29</td>\n",
       "      <td>0.21</td>\n",
       "      <td>0.28</td>\n",
       "      <td>0.56</td>\n",
       "      <td>0.35</td>\n",
       "      <td>0.34</td>\n",
       "      <td>0.21</td>\n",
       "      <td>0.00</td>\n",
       "    </tr>\n",
       "  </tbody>\n",
       "</table>\n",
       "</div>"
      ],
      "text/plain": [
       "      0     1     2     3     4     5     6     7     8     9\n",
       "0  0.00  0.26  0.53  0.48  0.47  0.68  0.49  0.47  0.47  0.50\n",
       "1  0.26  0.00  0.31  0.23  0.26  0.54  0.32  0.30  0.23  0.19\n",
       "2  0.53  0.31  0.00  0.25  0.18  0.60  0.41  0.39  0.37  0.29\n",
       "3  0.48  0.23  0.25  0.00  0.23  0.55  0.34  0.31  0.28  0.21\n",
       "4  0.47  0.26  0.18  0.23  0.00  0.57  0.33  0.30  0.34  0.28\n",
       "5  0.68  0.54  0.60  0.55  0.57  0.00  0.58  0.56  0.57  0.56\n",
       "6  0.49  0.32  0.41  0.34  0.33  0.58  0.00  0.31  0.33  0.35\n",
       "7  0.47  0.30  0.39  0.31  0.30  0.56  0.31  0.00  0.31  0.34\n",
       "8  0.47  0.23  0.37  0.28  0.34  0.57  0.33  0.31  0.00  0.21\n",
       "9  0.50  0.19  0.29  0.21  0.28  0.56  0.35  0.34  0.21  0.00"
      ]
     },
     "execution_count": 20,
     "metadata": {},
     "output_type": "execute_result"
    }
   ],
   "source": [
    "# Tulemused ilusa ümardatud arvudega tabelina:\n",
    "from pandas import DataFrame\n",
    "DataFrame( np.round(cos_dist, 2) )"
   ]
  },
  {
   "cell_type": "markdown",
   "metadata": {},
   "source": [
    "Lõpuks leiame, millised on seekord kaks kõige sarnasemat dokumenti:"
   ]
  },
  {
   "cell_type": "code",
   "execution_count": 21,
   "metadata": {},
   "outputs": [
    {
     "name": "stdout",
     "output_type": "stream",
     "text": [
      " Kõige sarnasemad ( kaugus 0.17948868902393578 ) on aja_pm_1999_08_13__40.json ja aja_sloleht_1999_08_13__36.json\n"
     ]
    }
   ],
   "source": [
    "# Leiame, millised dokumendid on kõige sarnasemad koosinus-sarnasuse järgi\n",
    "min_dist = cos_dist[1,0]\n",
    "min_xid = 0\n",
    "min_yid = 0\n",
    "for xid, x in enumerate(cos_dist):\n",
    "    for yid, y in enumerate(x):\n",
    "        if xid != yid and y < min_dist:\n",
    "            min_dist = y\n",
    "            min_xid = xid\n",
    "            min_yid = yid\n",
    "print(' Kõige sarnasemad ( kaugus',min_dist,') on',filenames[min_xid],'ja',filenames[min_yid])"
   ]
  },
  {
   "cell_type": "code",
   "execution_count": 22,
   "metadata": {},
   "outputs": [
    {
     "name": "stdout",
     "output_type": "stream",
     "text": [
      "--------------------------------------------------\n",
      "aja_pm_1999_08_13__40.json : KERSTI NEIMAN\n",
      "\n",
      "Tallinna lennujaamast startinud täislastiga transpordilennuk hirmutas üleeile umbes saja meetri kõrguselt üle pealinna elamurajoonide lennates inimesi , pannes Nõmme ja Tondi majad mürast vappuma ja klaasid klirisema .\n",
      "\n",
      "“ Sellist müra pole ma kunagi elus kuulnud , ei oska isegi öelda \n",
      "--------------------------------------------------\n",
      "aja_sloleht_1999_08_13__36.json : 25-tonnise laadungiga Vene transpordilennuk IL-76 raputas üleeile Nõmme ja Tondi maju ning väristas aknaklaase , sest ei suutnud Tallinna kohal kõrgust võtta . “ Ma ei saanud alguses aru , mis toimus , ” rääkis Nõmmel elav Anvar Samost . “ Toas polnud võimalik rääkida , mürin oli tohutu .\n",
      "Aknaklaasi\n",
      "\n"
     ]
    }
   ],
   "source": [
    "print('-'*50)\n",
    "print(filenames[min_xid], ':', texts[min_xid][:300])\n",
    "print('-'*50)\n",
    "print(filenames[min_yid], ':', texts[min_yid][:300])\n",
    "print()"
   ]
  },
  {
   "cell_type": "markdown",
   "metadata": {},
   "source": [
    "Seekord paistab tulemus palju parem :)"
   ]
  },
  {
   "cell_type": "markdown",
   "metadata": {},
   "source": [
    "### Ülesanne 2. Sarnase sisuga artiklid (2 p)\n",
    "\n",
    "Kataloogis `'2_aja_EPL_pm_sloleht'` on kolme ajalehe -- Eesti Päevalehe, Postimehe ja SL Õhtulehe -- artiklid. Katsetage  _koosinus-sarnasust_ ja kolme erinevat eeltöötluse võtet ning leidke SL Õhtulehe artiklitele kõige sarnasemad artiklid. \n",
    "\n",
    "Töö tulemusena väljastab programm SL Õhtulehe artiklid (failinimed koos artiklipealkirjadega) ning iga artikli järel kolm kõige sarnasemat artiklit (artiklite failinimed + pealkirjad), igaüks leitud erinevat eeltöötluse võtet kasutades. Eeltöötluse võtted peaksid katma:\n",
    "\n",
    "   1. Tavalist EstNLTK sõnestamist (maatriksi veergudeks sõnavormid);\n",
    "   2. Korpuse lemmatiseerimist EstNLTK abil (maatriksi veergudeks sõnalemmad);\n",
    "   3. Stopp-sõnade (ja/või väga sagedaste sõnade) eemaldamist;\n",
    "\n",
    "Mõni võte võib ka kombineerida mitut asja eelmisest loetelust. Millisel viisil läheb kõige rohkem sarnaseid artikleid täppi (pealkirjade ja/või artiklite sisu põgusa uurimise järgi otsustades)?\n",
    "\n",
    "Detaile:\n",
    "\n",
    "  * Sisendandmed on json formaadis `Text` objektid. Tuletage varasematest praktikumidest meelde, millise EstNLTK meetodiga on neid mugavalt võimalik sisse lugeda; Artiklite `Text` objektid sisaldavad ka metaandmeid, nt `\"title\"`, `\"ajalehenumber\"`, `\"author\"`;\n",
    "  * Dokumentide viimiseks vektorkujule kasutage klassi [CountVectorizer](http://scikit-learn.org/stable/modules/generated/sklearn.feature_extraction.text.CountVectorizer.html#sklearn-feature-extraction-text-countvectorizer); Eeltöötluse võtete kehtestamine peaks toimima läbi selle klassi parameetrite muutmise;\n",
    "  * Dokumentide-vaheliste kauguste maatriksite loomiseks kasutage funktsiooni [cosine_distances](http://scikit-learn.org/stable/modules/generated/sklearn.metrics.pairwise.cosine_distances.html#sklearn.metrics.pairwise.cosine_distances); Iga eeltöötluse võtte rakendamisel luuakse uus kauguste maatriks;\n",
    "  * Et koodis oleks vähem kordamist, tuleks luua ka funktsioon, mis saab sisendiks kauguste maatriksi ja dokumendi indeksi ning leiab maatriksi põhjal etteantud dokumendile kõige sarnasema dokumendi (indeksi);"
   ]
  },
  {
   "cell_type": "markdown",
   "metadata": {},
   "source": [
    "### Tekstide klasterdamine ja visualiseerimine\n",
    "\n",
    "Kui meil on teada dokumentide sarnasused / kaugused paarikaupa (ning just selline info on meie kauguste maatriksi(te)s), siis võime paarikaupa sarnasuste leidmise ideed üldistada ning otsida sarnasusi suuremate gruppide vahel. **Klasterdamise** eesmärgiks ongi moodustada korpuses olevatest dokumentidest grupid ehk _klastrid_ (sh on lubatud ka ühest dokumendist koosnevad klastrid -- kui mingile dokumendile ei leidugi ühtegi teist sarnast dokumenti).\n",
    "\n",
    "Klasterdamise puhul on üheks keeruliseks küsimuseks, kuhu tõmmata piir sarnaste ja mitte-sarnaste dokumentide vahel. Ehk siis: alates millisest kauguse väärtusest tuleks dokumendid kindlasti paigutada erinevatesse klastritesse. Sellele probleemile võib läheneda erinevalt. Klasterdamise algoritm [_K-Means_](http://scikit-learn.org/stable/modules/clustering.html#k-means) eeldab, et (võimalike) klastrite arv on juba eelnevalt välja selgitatud (nt andmete uurimise teel) ning antakse programmile ette, programmi ülesandeks on seejärel moodustada täpselt etteantud arv klastreid. Algoritm [_DBSCAN_](http://scikit-learn.org/stable/modules/clustering.html#dbscan) nõuab kasutajalt klastrite tihedust kirjeldavate parameetrite määramist (kui suur peab olema sarnaste dokumendite naabruskond ning maksimaalne lubatud kaugus, et võiks moodustada klastri) ning moodustab klastrid ainult (kauguste poolest) tihedalt koos paiknevatest dokumentidest.\n",
    "\n",
    "Praktikas, kui me alles alustame korpuse uurimisega, ei pruugi meil olla selget ülevaadet sellest, kui palju ja milliseid klastreid saab tekstidest moodustada. Seega oleks kõige parem selline lähenemine, mis annab ülevaate võimalikest klastritest, ent ei nõua selget piiride tõmbamist klastrite vahele. Ning sellist lähenemist pakub **hierarhiline klasterdamine**."
   ]
  },
  {
   "cell_type": "markdown",
   "metadata": {},
   "source": [
    "[Hierarhilise klasterdamise](http://scikit-learn.org/stable/modules/clustering.html#hierarchical-clustering) käigus moodustatakse dokumentidest hierarhia (puu-struktuur), mille saab visualiseerida dendrogrammina ning millelt saab välja lugeda infot kõigi dokumentide klastri-kuuluvuse kohta. \n",
    "\n",
    "Käesolevas praktikumis kasutame hierarhiliseks klasterdamiseks teegi `scipy` vahendeid (kui teil on `sklearn` juba installitud, peaks olemas olema ka `scipy`, kuna `sklearn` sõltub sellest).\n",
    "\n",
    "Enne klasterdamist tuleb aga teha veel üks andmeteisendus.\n",
    "Nimelt, kui teegis `sklearn` olid meil kaugused salvestatud 2-mõõtmelisse andmestruktuuri, siis teegis `scipy` hoitakse kauguseid nn tihendatud (ingl _condensed_) maatriksis, mis on 1-mõõtmeline andmestruktuur.\n",
    "Seega `sklearn` kujul maatriks ei sobi ja kaugused tuleb uuesti arvutada, kasutades `scipy` funktsiooni [`pdist`](https://docs.scipy.org/doc/scipy/reference/generated/scipy.spatial.distance.pdist.html):"
   ]
  },
  {
   "cell_type": "code",
   "execution_count": 23,
   "metadata": {},
   "outputs": [],
   "source": [
    "from scipy.spatial.distance import pdist\n",
    "# Arvutame (koosinus)kauguse scipy abil, tulemuseks \"condensed\" kaugusmaatriks\n",
    "condensed_dist_matrix = pdist( matrix.toarray(), 'cosine')"
   ]
  },
  {
   "cell_type": "markdown",
   "metadata": {},
   "source": [
    "Klasterdamist teostab meetod `linkage` ning tulemused tagastatakse nn aheldusmaatriksi kujul:"
   ]
  },
  {
   "cell_type": "code",
   "execution_count": 24,
   "metadata": {},
   "outputs": [],
   "source": [
    "from scipy.cluster.hierarchy import linkage\n",
    "\n",
    "# Teostame klasterdamise, tulemuseks saame nn aheldusmaatriksi\n",
    "linkage_matrix = linkage( condensed_dist_matrix )"
   ]
  },
  {
   "cell_type": "code",
   "execution_count": 25,
   "metadata": {},
   "outputs": [
    {
     "data": {
      "text/plain": [
       "array([[ 2.        ,  4.        ,  0.17948869,  2.        ],\n",
       "       [ 1.        ,  9.        ,  0.19058794,  2.        ],\n",
       "       [ 8.        , 11.        ,  0.20919423,  3.        ],\n",
       "       [ 3.        , 12.        ,  0.2144593 ,  4.        ],\n",
       "       [10.        , 13.        ,  0.23304776,  6.        ],\n",
       "       [ 0.        , 14.        ,  0.26057677,  7.        ],\n",
       "       [ 7.        , 15.        ,  0.29513492,  8.        ],\n",
       "       [ 6.        , 16.        ,  0.31046074,  9.        ],\n",
       "       [ 5.        , 17.        ,  0.54462099, 10.        ]])"
      ]
     },
     "execution_count": 25,
     "metadata": {},
     "output_type": "execute_result"
    }
   ],
   "source": [
    "linkage_matrix"
   ]
  },
  {
   "cell_type": "markdown",
   "metadata": {},
   "source": [
    "Aheldusmaatriks kirjeldab klasterdamise protsessi samm-sammult. Maatriksi iga rida kirjeldab ühe uue klastri moodustamist: millised elemendid (kauguste-maatriksi indeksid) või äsjamoodustatud klastrid tuleb liita, milline on nende vaheline kaugus ning mitut elementi (algsest kauguste maatriksist) uus klaster hõlmab. Täpse tagastatava struktuuri kirjelduse leiab [siit](https://docs.scipy.org/doc/scipy/reference/generated/scipy.cluster.hierarchy.linkage.html#scipy.cluster.hierarchy.linkage).\n",
    "\n",
    "Klasterdamise tulemust mõjutab üksjagu palju see, mis valemi järgi kahe klastri kaugus leitakse. Võimalusi on mitmeid. Vaikimisi rakendatakse [_'Single-linkage'_](https://en.wikipedia.org/wiki/Single-linkage_clustering) klasterdamist, mille järgi kahe klastri kauguseks on nende elementide vahelistest kaugustest minimaalne. Aga võib valida ka maksimaalse kauguse ( [_'Complete-linkage'_](https://en.wikipedia.org/wiki/Complete-linkage_clustering)), keskmise kauguse jm. Võimalikest kauguse leidmise meetoditest annab ülevaate [funktsiooni `linkage` dokumentatsioon](https://docs.scipy.org/doc/scipy/reference/generated/scipy.cluster.hierarchy.linkage.html#scipy-cluster-hierarchy-linkage)."
   ]
  },
  {
   "cell_type": "markdown",
   "metadata": {},
   "source": [
    "Viimased sammud: loome klasterdamise tulemuste põhjal dendrogrammi ning visualiseerime selle `matplotlib`'i abil."
   ]
  },
  {
   "cell_type": "code",
   "execution_count": 26,
   "metadata": {},
   "outputs": [
    {
     "data": {
      "text/plain": [
       "{'color_list': ['g', 'g', 'g', 'g', 'g', 'g', 'g', 'g', 'b'],\n",
       " 'dcoord': [[0.0, 0.1794886890239351, 0.1794886890239351, 0.0],\n",
       "  [0.0, 0.19058793795889162, 0.19058793795889162, 0.0],\n",
       "  [0.0, 0.2091942296665077, 0.2091942296665077, 0.19058793795889162],\n",
       "  [0.0, 0.21445930088592313, 0.21445930088592313, 0.2091942296665077],\n",
       "  [0.1794886890239351,\n",
       "   0.2330477630780956,\n",
       "   0.2330477630780956,\n",
       "   0.21445930088592313],\n",
       "  [0.0, 0.2605767655469038, 0.2605767655469038, 0.2330477630780956],\n",
       "  [0.0, 0.2951349179181698, 0.2951349179181698, 0.2605767655469038],\n",
       "  [0.0, 0.31046074127051637, 0.31046074127051637, 0.2951349179181698],\n",
       "  [0.0, 0.5446209930314134, 0.5446209930314134, 0.31046074127051637]],\n",
       " 'icoord': [[45.0, 45.0, 55.0, 55.0],\n",
       "  [85.0, 85.0, 95.0, 95.0],\n",
       "  [75.0, 75.0, 90.0, 90.0],\n",
       "  [65.0, 65.0, 82.5, 82.5],\n",
       "  [50.0, 50.0, 73.75, 73.75],\n",
       "  [35.0, 35.0, 61.875, 61.875],\n",
       "  [25.0, 25.0, 48.4375, 48.4375],\n",
       "  [15.0, 15.0, 36.71875, 36.71875],\n",
       "  [5.0, 5.0, 25.859375, 25.859375]],\n",
       " 'ivl': ['aja_sloleht_1999_08_13__68.json',\n",
       "  'ettenten_arhiiv_koolielu_ee__470699.json',\n",
       "  'ettenten_bio_edu_ee__442509.json',\n",
       "  'aja_EPL_1999_12_30.json',\n",
       "  'aja_pm_1999_08_13__40.json',\n",
       "  'aja_sloleht_1999_08_13__36.json',\n",
       "  'aja_pm_1999_08_13__42.json',\n",
       "  'ettenten_www_kliinik_ee__447481.json',\n",
       "  'aja_EPL_2001_06_18.tasak.json',\n",
       "  'ettenten_www_poogen_ee__145074.json'],\n",
       " 'leaves': [5, 6, 7, 0, 2, 4, 3, 8, 1, 9]}"
      ]
     },
     "execution_count": 26,
     "metadata": {},
     "output_type": "execute_result"
    },
    {
     "data": {
      "image/png": "[encoded data removed]",
      "text/plain": [
       "<Figure size 432x288 with 1 Axes>"
      ]
     },
     "metadata": {},
     "output_type": "display_data"
    }
   ],
   "source": [
    "# 1) matplotlib'i joonistuse kuvamine Notebookis kuvada ilma 'show' vms käsuta. \n",
    "#%matplotlib inline\n",
    "\n",
    "# 2) Loome dendrogrammi\n",
    "from scipy.cluster.hierarchy import dendrogram\n",
    "dendrogram(linkage_matrix, orientation=\"right\", labels=filenames)"
   ]
  },
  {
   "cell_type": "markdown",
   "metadata": {},
   "source": [
    "### Ülesanne 3. SL Õhtulehe artiklite \"rubriigistamine\" (2,5 p)\n",
    "\n",
    "Looge programm, mis määrab SL Õhtulehe artiklitele rubriigid sarnaste PM ja EPL artiklite rubriikide alusel. Rubriik tuleb valida 6 normaliseeritud rubriiginime seast ('eesti_uudised', 'välisuudised', 'kultuur', 'arvamused', 'majandus', 'sport'), lisaks võib panna rubriigiks ka 'määramata' -- siis, kui tõenäosus õige rubriik määrata paistab olevat liiga väike.\n",
    "\n",
    "Alustage programmi arendamist ja testimist kataloogi `'2_aja_EPL_pm_sloleht'` artiklite peal. Rubriigi määramiseks rakendage taaskord dokumentide sarnasuse leidmist, aga seekord kasutage vektoriseerijana klassi [TfidfVectorizer](http://scikit-learn.org/stable/modules/generated/sklearn.feature_extraction.text.TfidfVectorizer.html) . \n",
    "\n",
    "TfidfVectorizer kasutab sõnasageduste asemel **TF-IDF-skoori**, mis näitab, kuivõrd iseloomulik on sõna mingile tekstile korpuses. TF (_term frequency_) on sõna esinemissagedus tekstis, IDF (_inverse document frequency_) kajastab seda, kui paljudes korpuse dokumentides see sõna üldse esineb, TF-IDF on nende korrutis (toimeloogika täpsem kirjeldus [siin](http://scikit-learn.org/stable/modules/feature_extraction.html#tfidf-term-weighting)).\n",
    "\n",
    "Eeltöötluse võtted jäävad teie otsustada. Leidke iga SL Õhtulehe artikliga kõige sarnasemad Postimehe ja Eesti Päevalehe artiklid ning otsustage SL Õhtulehe artikli rubriik nende rubriikide põhjal. Milline on rubriigi määramise täpne loogika, jääb teie otsustada; võib nt katsetada [KNN algoritmi](http://www.saedsayad.com/k_nearest_neighbors.htm) tööpõhimõtet, kasutada mingit sarnasuste lävendit, millest väiksema sarnasuse korral jäetakse rubriik määramata, ja/või katsetada mõnd `sklearn`'i [masinõppelähenemist](http://scikit-learn.org/stable/auto_examples/text/document_classification_20newsgroups.html) (aga arvestage, et masinõppe katsetamine võib olla üsna töömahukas ning otseselt seda nõutud ei ole).\n",
    "\n",
    "Kui tunnete, et olete juba piisavalt kataloogi `'2_aja_EPL_pm_sloleht'` SL Õhtulehe artiklitel katsetanud ning paistab, et tulemused on ok, siis suurendage artiklite hulka, lisades sinna kataloogis `'3_aja_sloleht'` olevad artiklid. Pärast artiklite hulga suurendamist enam \"rubriigistamise loogikat\" muuta ei tohi -- meid huvitabki küsimus, kui hästi see loogika toimib ka uutel / tundmatutel andmetel.\n",
    "\n",
    "Programmi väljastab kataloogis `'2_aja_EPL_pm_sloleht'` olevate SL Õhtulehe artiklite rubriigistamise tulemused (artiklipealkirjad + määratud rubriigid) ning samuti `'3_aja_sloleht'` artiklite rubriigistamise tulemused."
   ]
  },
  {
   "cell_type": "markdown",
   "metadata": {},
   "source": [
    "## Teemade modelleerimine\n",
    "\n",
    "Lisaks klasterdamisalgoritmidele on dokumentide liigitamisel laialdaselt kasutusel **teemade modelleerimise** (*topic modeling*) algoritmid, neist enim kasutatud on [LDA](https://en.wikipedia.org/wiki/Latent_Dirichlet_allocation).  Teemade modelleerimise eesmärk on anda ülevaade dokumentidest, et lugejal oleks võimalik ilma kõiki dokumente läbi lugemata saada aru, millest kirjutatakse. \n",
    "\n",
    "Teemade modelleerimine põhineb eeldusel, et **erinevatest teemadest kirjutades kasutatakse mingil määral erinevaid sõnu**. Nagu klasterdamine, on ka teemade modelleerimine juhendamata masinõppe valdkonda kuuluv ülesanne ehk me ei vaja märgendatud treeningkorpust. Teemade modelleerimise puhul leitakse aga korpusest esmalt seal esinevad teemad ehk sõnade tõenäosuslik jaotumine: iga teema puhul on erinevatel sõnadel erinev esinemise tõenäosus. \n",
    "\n",
    "Kui teemad on leitud, võime soovi korral ka leida, milline sõnade tõenäosuslik jaotus kirjeldab mingit dokumenti kõige paremini ehk saame selle põhjal dokumente liigitada. "
   ]
  },
  {
   "cell_type": "markdown",
   "metadata": {},
   "source": [
    "Et asjast paremini aru saada, teeme katset pisikese näidiskorpusega. Teemade modelleerimiseks kasutame [gensim](https://radimrehurek.com/gensim/index.html) teeki, mille 8. praktikumis juba installisime word2vec mudeli treenimiseks. "
   ]
  },
  {
   "cell_type": "markdown",
   "metadata": {},
   "source": [
    "Loome kõigepealt omale hästi naiivse näitekorpuse, kus sisalduvad tekstid (siinkohal ühelauselised) kahel eri teemal, milles kasutatav sõnavara ka selgelt erineb:"
   ]
  },
  {
   "cell_type": "code",
   "execution_count": 223,
   "metadata": {},
   "outputs": [],
   "source": [
    "texts = ['Teemade modelleerimine põhineb eeldusel, et erinevatest teemadest kirjutades kasutatakse mingil määral erinevaid sõnu.',\n",
    "         'Nagu klasterdamine, on ka teemade modelleerimine juhendamata masinõppe valdkonda kuuluv ülesanne ehk me ei vaja märgendatud treeningkorpust.',\n",
    "         'Teemade modelleerimise puhul leitakse aga korpusest esmalt seal esinevad teemad ehk sõnade tõenäosuslik jaotumine: iga teema puhul on erinevatel sõnadel erinev esinemise tõenäosus.',\n",
    "        'Makaronivorm tähendab ahjuvormi makaronidest.',\n",
    "         'Makaronivorm küpsetatakse ahjus ahjuvormi sees.',\n",
    "         'Makaronivormi põhilised koostisosad lisaks makaronidele on muna ja piima segu, maitseained ning juust katteks.']"
   ]
  },
  {
   "cell_type": "markdown",
   "metadata": {},
   "source": [
    "Loome korpusest maatriksi nagu enne ajakirjandustekstidestki: kasutame ```CounteVectorizerit``` ning tokeniseerime teksti eelnevalt defineeritud ```tokenize_with_estnltk``` meetodiga."
   ]
  },
  {
   "cell_type": "code",
   "execution_count": 299,
   "metadata": {},
   "outputs": [],
   "source": [
    "vectorizer = CountVectorizer(tokenizer = tokenize_with_estnltk)\n",
    "matrix = vectorizer.fit_transform(texts)"
   ]
  },
  {
   "cell_type": "code",
   "execution_count": 295,
   "metadata": {},
   "outputs": [
    {
     "data": {
      "text/plain": [
       "<6x70 sparse matrix of type '<class 'numpy.int64'>'\n",
       "\twith 85 stored elements in Compressed Sparse Row format>"
      ]
     },
     "execution_count": 295,
     "metadata": {},
     "output_type": "execute_result"
    }
   ],
   "source": [
    "matrix"
   ]
  },
  {
   "cell_type": "markdown",
   "metadata": {},
   "source": [
    "Edasi impordime *gensimist* ```LdaModel```'i, mis on vajalik mudeli treenimiseks. Samuti on meil vaja ```Sparse2Corpus``` meetodit, mille abil oma hõre maatriks teisendada ```LdaModel```'ile sobivale kujule:"
   ]
  },
  {
   "cell_type": "code",
   "execution_count": 364,
   "metadata": {},
   "outputs": [],
   "source": [
    "from gensim.models.ldamulticore import LdaModel\n",
    "from gensim.matutils import Sparse2Corpus"
   ]
  },
  {
   "cell_type": "code",
   "execution_count": 365,
   "metadata": {},
   "outputs": [],
   "source": [
    "corpus = Sparse2Corpus(matrix, documents_columns = False)"
   ]
  },
  {
   "cell_type": "markdown",
   "metadata": {},
   "source": [
    "Samuti vajame teemade mudeli treenimiseks sõnastiku kujul id->sõna _mapping_'ut. Selleks leiame vektoriseerijast sõnavara ning loome selle põhjal sõnastiku, kus võtmeteks on indeksid ja väärtusteks sõnad:"
   ]
  },
  {
   "cell_type": "code",
   "execution_count": 366,
   "metadata": {},
   "outputs": [],
   "source": [
    "vocab = np.array(vectorizer.get_feature_names())\n",
    "\n",
    "id2word = {}\n",
    "for idx, i in enumerate(vocab):\n",
    "    id2word[idx] = i"
   ]
  },
  {
   "cell_type": "markdown",
   "metadata": {},
   "source": [
    "Ja nüüd saamegi asuda mudeli treenimise juurde. Treenimiseks peame ette andma korpuse, teemade arvu ning id2word _mapping_'u. Teemade arv on vabalt valitav. Kuna praegusel juhul me teame, et neid on 2, siis võimegi selle valida, üldjuhul vajab see aga katsetamist, et näha, mis paistab optimaalne (ja loomulikult sõltub korpuse suurusest ja tekstide arvust - 6 lausest 60 teemat otsida ei ole mõtet, aga kui korpus on suur, siis ei ole 60 teemat midagi ulmelist). Alati tasub lähtuda muidugi oma eesmärkidest - teemade tõlgendamine jääb siin kasutaja teha ning suure teemade arvu korral on seda raske teha (samas võib liikuda edasi klasterdamisalgoritmide juurde, mis ka leitud teemasid grupeerida aitaks). "
   ]
  },
  {
   "cell_type": "code",
   "execution_count": 388,
   "metadata": {},
   "outputs": [],
   "source": [
    "lda = LdaModel(corpus, num_topics=2, id2word=id2word)"
   ]
  },
  {
   "cell_type": "markdown",
   "metadata": {},
   "source": [
    "Kui mudel on treenitud, saame vaadata, missugused teemad moodustusid. Nagu öeldud, teema moodustab sõnade tõenäosuslik jaotus, seega näidatakse meile sõnu ja nende tõenäosusi. Kuna meil oli ainult 2 teemat, siis ütleme, et soovime neid mõlemat näha ning kummastki 10 esimest sõna:"
   ]
  },
  {
   "cell_type": "code",
   "execution_count": 389,
   "metadata": {},
   "outputs": [
    {
     "data": {
      "text/plain": [
       "[(0,\n",
       "  '0.219*\":\" + 0.125*\"ahjuvormi\" + 0.102*\".\" + 0.079*\",\" + 0.054*\"ahjus\" + 0.049*\"aga\" + 0.006*\"piima\" + 0.006*\"on\" + 0.006*\"nagu\" + 0.006*\"modelleerimise\"'),\n",
       " (1,\n",
       "  '0.161*\".\" + 0.132*\",\" + 0.102*\":\" + 0.089*\"ahjuvormi\" + 0.033*\"ahjus\" + 0.025*\"aga\" + 0.007*\"piima\" + 0.007*\"on\" + 0.007*\"nagu\" + 0.007*\"modelleerimise\"')]"
      ]
     },
     "execution_count": 389,
     "metadata": {},
     "output_type": "execute_result"
    }
   ],
   "source": [
    "lda2.show_topics(2, 10)"
   ]
  },
  {
   "cell_type": "markdown",
   "metadata": {},
   "source": [
    "Näeme, et teemade esimesteks ehk n-ö kõige iseloomulikumateks \"sõnadeks\" on praegu kirjavahemärgid. Samuti korduvad esimesena paiknevad sõnad mõlemas teemas. See on selge vihje, et ühest küljest on meie korpus kaugelt liiga väike selle meetodi kasutamiseks, teisest küljest on meil tegemata eeltöötlus - teemasid modelleerides on üldiselt vaja välja visata n-ö stoppsõnad (keeles sageli esinevad sõnad, millel tähendust vähe, sh kirjavahemärgid, sidesõnad jne). Seda saab näiteks teha, andes ```CountVectorizer```'ile ette loendi stoppsõnadest parameetrina *stop_words*. Samuti on mõistlik oma tekst lemmatiseerida."
   ]
  },
  {
   "cell_type": "markdown",
   "metadata": {},
   "source": [
    "Kui oleme teemad leidnud, saame küsida ka, millised tekstid kuuluvad millise teema alla. Selleks leiame kõigi tekstide skoorid erinevate teemade alla kuulumiseks:"
   ]
  },
  {
   "cell_type": "code",
   "execution_count": 390,
   "metadata": {},
   "outputs": [],
   "source": [
    "assignments = lda.inference(corpus)"
   ]
  },
  {
   "cell_type": "markdown",
   "metadata": {},
   "source": [
    "Saime tuple'i, mille esimene liige on numpy array, milles igal real on ühe teksti skoorid. Leiame neist suurimad, et saada teada, millise teema alla mingi tekst mudeli meelest kõige suurema tõenäosusega kuulub:"
   ]
  },
  {
   "cell_type": "code",
   "execution_count": 391,
   "metadata": {},
   "outputs": [],
   "source": [
    "# argmax() leiab suurima väärtusega elemendi indeksi ning axis = 1 täpsustab, et vaatame rea kaupa\n",
    "most_likely_labels = assignments[0].argmax(axis=1)"
   ]
  },
  {
   "cell_type": "code",
   "execution_count": 392,
   "metadata": {},
   "outputs": [
    {
     "data": {
      "text/plain": [
       "array([1, 1, 0, 1, 1, 0])"
      ]
     },
     "execution_count": 392,
     "metadata": {},
     "output_type": "execute_result"
    }
   ],
   "source": [
    "most_likely_labels"
   ]
  },
  {
   "cell_type": "markdown",
   "metadata": {},
   "source": [
    "Saadud 0-d ja 1-d tähistavad, kumma teema alla vastava indeksiga tekst kuulub praeguse mudeli järgi. \n",
    "\n",
    "Kuna meie korpus on väike ja eeltöötlemata ehk enamik sõnu esineb ühe korra ning mudeli algväärtustamine juhuslik, siis erinevatel jooksutamistel saame erinevaid tulemusi. Päris andmetega töötades see nii olla ei tohiks ja mudel peaks end ära stabiliseerima ka vaikeparameetritega. Kui see nii ei ole, siis saab vajadusel suurendada seda, mitu korda korpust läbi käiakse ja teemasid üle arvutatakse, enne kui mudeli treenimine lõppeb. Selle kohta leiab soovi korral rohkem infot [siit](https://radimrehurek.com/gensim/models/ldamodel.html). "
   ]
  },
  {
   "cell_type": "markdown",
   "metadata": {},
   "source": [
    "### Ülesanne 4. Teemad Eesti uudistes (1,5 p)\n",
    "\n",
    "Looge teemade mudel Eesti uudistele. Selleks kasutage kataloogist '2_aja_EPL_pm_sloleht' uudiseid, mille rubriigiks on märgitud \"eesti_uudised\". \n",
    "* Tehke uudistele eeltöötlus, mille käigus need lemmatiseeritakse ning eemaldatakse stoppsõnad. Stoppsõnade seas peaksid kindlasti olema ka kirjavahemärgid.\n",
    "* Vektoriseerijana kasutage ```CountVectorizer```'it. Kuna LDA mudel vajab sisendina sõnade esinemissagedusi korpuse tekstides, siis ```TfidfVectorizer``` ei sobi.\n",
    "* Katsetades erinevate teemade arvudega, leidke enda meelest optimaalne. \n",
    "* Leidke ka iga teema alla kuuluvad uudised ning väljastage ekraanile nende algus (nt 200 tähemärki).\n",
    "* Soovi korral võite proovida ka näiteks ainult mingite sõnaliikide peal mudelit treenida."
   ]
  },
  {
   "cell_type": "markdown",
   "metadata": {},
   "source": [
    "### Veel TF-IDF-ist"
   ]
  },
  {
   "cell_type": "markdown",
   "metadata": {},
   "source": [
    "Lugedes ülesande 3 juurest TF-IDF-skoori kirjeldust, võis tekkida ülesandes 4 kiusatus kasutada TfidfVectorizerit, kuna teemade väljaselgitamiseks oleks ju tore arvestada just sellele tekstile iseloomulikke sõnu. LDA toimib aga sõnasageduste pealt, seega tuleks sel juhul kasutada mõnda teist teemade modelleerimise algoritmi. \n",
    "\n",
    "See ei tähenda aga, et me ei võiks TF-IDFi sellegipoolest oma tekstide uurimiseks kasutada, kui me juhtumisi juba teame tekstide liigitust, ent tahaks teada, mille poolest liigid üksteisest erinevad. Võtame selleks eelnevas näites kasutatud korpuse, ent jagame tekstid vastavalt liiki kuuluvusele kaheks:"
   ]
  },
  {
   "cell_type": "code",
   "execution_count": 395,
   "metadata": {},
   "outputs": [],
   "source": [
    "type1 = ' '.join(texts[:3])\n",
    "type2 = ' '.join(texts[3:])"
   ]
  },
  {
   "cell_type": "code",
   "execution_count": 396,
   "metadata": {},
   "outputs": [],
   "source": [
    "corpus = [type1, type2]"
   ]
  },
  {
   "cell_type": "code",
   "execution_count": 397,
   "metadata": {},
   "outputs": [
    {
     "data": {
      "text/plain": [
       "['Teemade modelleerimine põhineb eeldusel, et erinevatest teemadest kirjutades kasutatakse mingil määral erinevaid sõnu. Nagu klasterdamine, on ka teemade modelleerimine juhendamata masinõppe valdkonda kuuluv ülesanne ehk me ei vaja märgendatud treeningkorpust. Teemade modelleerimise puhul leitakse aga korpusest esmalt seal esinevad teemad ehk sõnade tõenäosuslik jaotumine: iga teema puhul on erinevatel sõnadel erinev esinemise tõenäosus.',\n",
       " 'Makaronivorm tähendab ahjuvormi makaronidest. Makaronivorm küpsetatakse ahjus ahjuvormi sees. Makaronivormi põhilised koostisosad lisaks makaronidele on muna ja piima segu, maitseained ning juust katteks.']"
      ]
     },
     "execution_count": 397,
     "metadata": {},
     "output_type": "execute_result"
    }
   ],
   "source": [
    "corpus"
   ]
  },
  {
   "cell_type": "markdown",
   "metadata": {},
   "source": [
    "Loome TfIdf-vektoriseerija ja maatriksi ning salvestame sõnavara:"
   ]
  },
  {
   "cell_type": "code",
   "execution_count": 400,
   "metadata": {},
   "outputs": [],
   "source": [
    "from sklearn.feature_extraction.text import TfidfVectorizer\n",
    "vectorizer = TfidfVectorizer(tokenizer = tokenize_with_estnltk)\n",
    "matrix = vectorizer.fit_transform(corpus)\n",
    "vocab = np.array(vectorizer.get_feature_names())"
   ]
  },
  {
   "cell_type": "markdown",
   "metadata": {},
   "source": [
    "Saadud maatriksis on kõigi sõnade Tf-Idf skoorid meie mõlemas tekstis. Suurimate skooridega sõnad on kummagi vastava teksti jaoks kõige iseloomulikumad. Et maatriksit vaadata, tekitame temast tiheda maatriksi:"
   ]
  },
  {
   "cell_type": "code",
   "execution_count": 423,
   "metadata": {},
   "outputs": [
    {
     "data": {
      "text/plain": [
       "matrix([[0.1670026 , 0.2505039 , 0.11735816, 0.11735816, 0.        ,\n",
       "         0.        , 0.11735816, 0.23471633, 0.11735816, 0.11735816,\n",
       "         0.11735816, 0.11735816, 0.11735816, 0.11735816, 0.11735816,\n",
       "         0.11735816, 0.11735816, 0.11735816, 0.        , 0.11735816,\n",
       "         0.11735816, 0.        , 0.11735816, 0.11735816, 0.        ,\n",
       "         0.11735816, 0.11735816, 0.        , 0.11735816, 0.11735816,\n",
       "         0.        , 0.11735816, 0.        , 0.        , 0.        ,\n",
       "         0.        , 0.        , 0.        , 0.11735816, 0.11735816,\n",
       "         0.11735816, 0.23471633, 0.11735816, 0.        , 0.11735816,\n",
       "         0.11735816, 0.11735816, 0.        , 0.1670026 , 0.        ,\n",
       "         0.23471633, 0.        , 0.11735816, 0.11735816, 0.        ,\n",
       "         0.        , 0.11735816, 0.11735816, 0.11735816, 0.11735816,\n",
       "         0.11735816, 0.35207449, 0.11735816, 0.11735816, 0.        ,\n",
       "         0.11735816, 0.11735816, 0.11735816, 0.11735816, 0.11735816],\n",
       "        [0.1266344 , 0.3799032 , 0.        , 0.        , 0.17798023,\n",
       "         0.35596046, 0.        , 0.        , 0.        , 0.        ,\n",
       "         0.        , 0.        , 0.        , 0.        , 0.        ,\n",
       "         0.        , 0.        , 0.        , 0.17798023, 0.        ,\n",
       "         0.        , 0.17798023, 0.        , 0.        , 0.17798023,\n",
       "         0.        , 0.        , 0.17798023, 0.        , 0.        ,\n",
       "         0.17798023, 0.        , 0.17798023, 0.17798023, 0.17798023,\n",
       "         0.17798023, 0.35596046, 0.17798023, 0.        , 0.        ,\n",
       "         0.        , 0.        , 0.        , 0.17798023, 0.        ,\n",
       "         0.        , 0.        , 0.17798023, 0.1266344 , 0.17798023,\n",
       "         0.        , 0.17798023, 0.        , 0.        , 0.17798023,\n",
       "         0.17798023, 0.        , 0.        , 0.        , 0.        ,\n",
       "         0.        , 0.        , 0.        , 0.        , 0.17798023,\n",
       "         0.        , 0.        , 0.        , 0.        , 0.        ]])"
      ]
     },
     "execution_count": 423,
     "metadata": {},
     "output_type": "execute_result"
    }
   ],
   "source": [
    "dense_matrix = matrix.todense()\n",
    "dense_matrix"
   ]
  },
  {
   "cell_type": "markdown",
   "metadata": {},
   "source": [
    "Et teada saada, millised sõnad kõige suurematele väärtustele maatriksis vastavad, loome muutuja *sorted_scores*, kus maatriksi indeksid on sorteeritud vastavalt nende väärtustele, ning teeme selle listiks. "
   ]
  },
  {
   "cell_type": "code",
   "execution_count": 416,
   "metadata": {},
   "outputs": [],
   "source": [
    "sorted_scores = dense_matrix.argsort(axis = 1).tolist()\n",
    "sorted_scores"
   ]
  },
  {
   "cell_type": "markdown",
   "metadata": {},
   "source": [
    "Nüüd saamegi leida kummalegi tekstile kõige iseloomulikumad sõnad:"
   ]
  },
  {
   "cell_type": "code",
   "execution_count": 424,
   "metadata": {},
   "outputs": [
    {
     "name": "stdout",
     "output_type": "stream",
     "text": [
      "Teksti  1  kõige enam teis(t)est eristavad sõnad on : \n",
      "\n",
      "teemade\n",
      ".\n",
      "ehk\n",
      "puhul\n",
      "modelleerimine\n",
      "on\n",
      ",\n",
      "korpusest\n",
      "iga\n",
      "klasterdamine\n",
      "\n",
      "----------\n",
      "\n",
      "Teksti  2  kõige enam teis(t)est eristavad sõnad on : \n",
      "\n",
      ".\n",
      "ahjuvormi\n",
      "makaronivorm\n",
      "makaronidele\n",
      "maitseained\n",
      "muna\n",
      "põhilised\n",
      "makaronivormi\n",
      "sees\n",
      "segu\n",
      "\n",
      "----------\n",
      "\n"
     ]
    }
   ],
   "source": [
    "for idx, scores in enumerate(sorted_scores):\n",
    "    print('Teksti ', str(idx+1), ' kõige enam teis(t)est eristavad sõnad on : ' )\n",
    "    print()\n",
    "    # Leiame 10 viimase ehk kõige iseloomulikuma sõna indeksit ning pöörame nad ümber,\n",
    "    # et 1. kohal oleks kõige iseloomulikum\n",
    "    max_values = scores[-10:][::-1]\n",
    "    \n",
    "    # Prindime vastavate indeksitega sõnad\n",
    "    for i in max_values:\n",
    "        print(vocab[i])\n",
    "    print()    \n",
    "    print('----------') \n",
    "    print()"
   ]
  },
  {
   "cell_type": "markdown",
   "metadata": {},
   "source": [
    "Loomulikult oleks siingi abi lemmatiseerimisest. "
   ]
  },
  {
   "cell_type": "markdown",
   "metadata": {},
   "source": [
    "---"
   ]
  },
  {
   "cell_type": "markdown",
   "metadata": {},
   "source": [
    "## Lisamaterjal (vabatahtlik). Optiline tekstituvastus\n",
    "\n",
    "Optiline tekstituvastus ehk OCR (_Optical Character Recognition_) tegeleb piltide pealt teksti tuvastamise ja masinloetavale kujule viimisega. Näiteks võimaldab see analüüsida digiteeritud kujul vanu ürikuid ja ajalehti ning muuta nendel olev tekst märksõnade kaudu otsitavaks. Siiski on raske leida tekstituvastussüsteemi, mis töötaks ühtviisi hästi igat liiki tekstidel. Tüüpiliselt vajab süsteem spetsiaalset kohandamist: nii konkreetsele keelele kui ka analüüsitavatele kirjašriftidele. Tegemist on keeruka protsessiga ning selleks vajaminevad teadmised ja oskused ei mahu käesoleva aine raamesse. Siiski on Pythonis olemas ka teegid, mis võimaldavad ilma suurema *know-how*'ta lihtsamaid probleeme lahendada. Head tagasisidet on saanud näiteks [PyTesseract](https://pypi.python.org/pypi/pytesseract), mis on Pythoni *wrapper* Google'i *Tesseract-OCR* API-le. Käesolevas praktikumis katsetamegi _PyTesseract_-i."
   ]
  },
  {
   "cell_type": "markdown",
   "metadata": {},
   "source": [
    "1) Installige Google'i [Tesseract-OCR](https://github.com/tesseract-ocr/tesseract/wiki#installation); Windows'i installeriga installides pakutakse teile installitavate komponentide valikut: valige kindlasti keelte seast _\"Estonian\"_, lisakatsetamiseks on soovitav võtta ka _\"Finnish\"_;\n",
    "\n",
    "2) Installige käsurealt [PyTesseract](https://pypi.python.org/pypi/pytesseract):\n",
    "\n",
    "       pip install pytesseract\n",
    "    \n",
    "3) Katsetage järgmisi koodilõike (loodud [selle kasutusnäite](https://pypi.python.org/pypi/pytesseract) eeskujul):"
   ]
  },
  {
   "cell_type": "code",
   "execution_count": 27,
   "metadata": {},
   "outputs": [],
   "source": [
    "try:\n",
    "    import Image\n",
    "except ImportError:\n",
    "    from PIL import Image\n",
    "import pytesseract\n",
    "\n",
    "#pytesseract.pytesseract.tesseract_cmd = '<full_path_to_your_tesseract_executable>'\n",
    "#pytesseract.pytesseract.tesseract_cmd = 'C:\\\\Program Files\\\\Tesseract-OCR\\\\tesseract'"
   ]
  },
  {
   "cell_type": "markdown",
   "metadata": {},
   "source": [
    "**test-ocr-pm-1.png**\n",
    "<img src=\"test-ocr-pm-1.png\">"
   ]
  },
  {
   "cell_type": "code",
   "execution_count": 28,
   "metadata": {},
   "outputs": [
    {
     "name": "stdout",
     "output_type": "stream",
     "text": [
      "Võõra auto tõstuki\n",
      "otsa tõstnud Lembit\n",
      "selgitab: kõik sai alguse\n",
      "meie ettevõtte autode\n",
      "süütamisest\n"
     ]
    }
   ],
   "source": [
    "print(pytesseract.image_to_string(Image.open('test-ocr-pm-1.png'), lang='est'))"
   ]
  },
  {
   "cell_type": "markdown",
   "metadata": {},
   "source": [
    "**test-ocr-kinematografistid-1.png**\n",
    "<img src=\"test-ocr-kinematografistid-1.png\">"
   ]
  },
  {
   "cell_type": "code",
   "execution_count": 29,
   "metadata": {},
   "outputs": [
    {
     "name": "stdout",
     "output_type": "stream",
     "text": [
      "Esimeselt üleliiduliselt noor-\n",
      "te kinematografistide tööde\n",
      "ülevaatuselt Kiievis tuli eesti\n",
      "noor filmiloojate põlvkond ta-\n",
      "gasi kolme auhinnaga. Diplo-\n",
      "mi parima = täismetraažilise\n",
      "mängufilmi eest sai 0. Neu-\n",
      "land filmiga «Tuulte pesa».\n"
     ]
    }
   ],
   "source": [
    "print(pytesseract.image_to_string(Image.open('test-ocr-kinematografistid-1.png'), lang='est'))"
   ]
  },
  {
   "cell_type": "code",
   "execution_count": 30,
   "metadata": {},
   "outputs": [
    {
     "name": "stdout",
     "output_type": "stream",
     "text": [
      "Esimeselt äleliiduliselt noor-\n",
      "te kinematografistide tööde\n",
      "lilevaatuselt Kiievis tuli eesti\n",
      "noor filmiloojate pölvkond ta-\n",
      "gasi kolme auhinnaga. Diplo-\n",
      "mi parima täismetraaZilise\n",
      "mängufilmi eest sai O. Neu-\n",
      "land filmiga <«Tuulte pesa».\n"
     ]
    }
   ],
   "source": [
    "print(pytesseract.image_to_string(Image.open('test-ocr-kinematografistid-1.png'), lang='fin'))"
   ]
  },
  {
   "cell_type": "markdown",
   "metadata": {},
   "source": [
    "### Boonusülesanne. OCR-i katsetamine (1p)\n",
    "\n",
    "Otsige mingi pildi kujul tekst mõnest digiteeritud vanast ajalehest või ajakirjast (üks võimalus on pilt otsida nt http://www.digar.ee andmebaasist).\n",
    "Katsetage sellel *PyTesseract*'i teegi tekstituvastust. Et tuvastamine maksimaalselt õnnestuks, tasuks valida pilt, millel on valge taust ning tekst on otse. Samuti peaks kirjašrift olema võimalikult sarnane tänapäevastele ajalehešriftidele -- gooti kirja tuvastamine teil tõenäoliselt ei õnnestu. Lahendusena esitage kood, pilt *Notebook*'is ning pildilt tuvastatud tekst. "
   ]
  },
  {
   "cell_type": "markdown",
   "metadata": {},
   "source": [
    "---"
   ]
  },
  {
   "cell_type": "markdown",
   "metadata": {},
   "source": [
    "#### Märkus\n",
    "\n",
    "Käesoleva praktikumi materjalide loomisel on osaliselt tuginetud veebikursuse _'Text Analysis with Topic Models for the Humanities and Social Sciences'_ materjalidele, mis on saadaval leheküljel: https://de.dariah.eu/tatom/working_with_text.html ."
   ]
  }
 ],
 "metadata": {
  "anaconda-cloud": {},
  "kernelspec": {
   "display_name": "Python [conda env:estnltk141]",
   "language": "python",
   "name": "conda-env-estnltk141-py"
  },
  "language_info": {
   "codemirror_mode": {
    "name": "ipython",
    "version": 3
   },
   "file_extension": ".py",
   "mimetype": "text/x-python",
   "name": "python",
   "nbconvert_exporter": "python",
   "pygments_lexer": "ipython3",
   "version": "3.5.6"
  }
 },
 "nbformat": 4,
 "nbformat_minor": 1
}
