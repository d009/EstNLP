{
 "cells": [
  {
   "cell_type": "markdown",
   "metadata": {},
   "source": [
    "<h1 style=\"color:blue\">Praktikum 12. </h1>\n",
    "\n",
    "<h3 style=\"color:blue\">Dokumentide vektoresitus, klasterdamine ja visualiseerimine. Teemade modelleerimine, TF-IDF. Optilise tekstituvastuse katsetamine</h3>"
   ]
  },
  {
   "cell_type": "markdown",
   "metadata": {},
   "source": [
    "Käesolevas praktikumis uurime, kuidas tekstidokumente automaatselt liigitada ning leida neis kajastatavaid teemasid. Selleks vaatame kõigepealt tekstiandmete viimist vektorkujule, vektoritevahelise kauguse leidmist, seejärel tekstide automaatset klasterdamist, tulemuste visualiseerimist ning tekstides kajastatavate teemade tuvastamist. Boonusmaterjal käsitleb aga hoopis optilist tekstituvastamist."
   ]
  },
  {
   "cell_type": "markdown",
   "metadata": {},
   "source": [
    "## Dokumentide klasterdamine"
   ]
  },
  {
   "cell_type": "markdown",
   "metadata": {},
   "source": [
    "Dokumendi-tasemel tekstide liigitamisel eristatakse sageli kaht lähenemist: klassifitseerimist ja klasterdamist. _Klassifitseerimise_ puhul on meil juba olemas eeldefineeritud klassid, mille alla dokumendid tuleb liigitada, ning on olemas (või luuakse) treeningkorpus, kus selline liigitamine on (enamasti käsitsi) teostatud. Seega klassifitseerimise eesmärgiks on õppida treeningkorpuse põhjal automaatselt uusi dokumente liigitama.  _Klasterdamise_ puhul on olemas korpus, milles soovitakse dokumendid sarnasuse alusel gruppidesse jagada, ning tüüpiliselt pole teada võimalike gruppide arv ega ka see, kuidas gruppe võiks nimetada. Klasterdada võib aga ka siis, kui klasside arv ja sisu on eelnevalt teada, aga nt puudub märgendatud korpus - võib-olla kukuvad tekstid ise õigetesse klastritesse. Seega on klasterdamine tavaliselt orienteeritud korpuse uurimisele (tahame teada, milliseid sarnasusi seal võib olla), klassifitseerimine aga rakendusliku orientatsiooniga (tahame luua tööriista, mille abil saaks automaatselt liigitada uusi dokumente).\n",
    "\n",
    "Selles praktikumis käsitletavad sarnasuse leidmise meetodid sobivad tegelikult mõlema lähenemise puhul. Dokumentide sarnasus leitakse siin sõnade esinemissageduste järgi ehk eeldatakse, et sarnase sisuga dokumendid peavad olema sarnased ka sõnavaraliselt / leksikaalselt.\n",
    "\n",
    "Praktikumi näidete käivitamiseks ja ülesannete lahendamiseks kasutame teeki [scikit-learn](https://scikit-learn.org), mille saab installida tavapäraselt käsuga ```conda install scikit-learn```   "
   ]
  },
  {
   "cell_type": "markdown",
   "metadata": {},
   "source": [
    "### Sõnade vektoresitused ja dokument-sõna maatriks"
   ]
  },
  {
   "cell_type": "markdown",
   "metadata": {},
   "source": [
    "Matemaatilistele meetoditele meeldivad struktureeritud arvandmed: _vektorid_ (lihtsustatult öeldes: arvude järjendid) ja _maatriksid_ (lihtsustatult öeldes: arvude tabelid). Seetõttu tuleb enne statistiliste / masinõppe meetodite kasutuselevõtmist leida viis, kuidas \"teisendada\" oma tekstilised andmed arvandmeteks.\n",
    "\n",
    "Tekstide automaatsel klassifitseerimisel või klasterdamisel viiakse analüüsitava korpuse dokumendid _vektorkujule_ ehk:\n",
    "\n",
    "   1. luuakse iga korpuse sõna kohta _vektor_ (arvude \"järjend\"), mille iga positsioon kirjeldab sõna esinemist ühes korpuse dokumendis;\n",
    "   2. kõigi sõnade vektoritest pannakse kokku _maatriks_ (arvude \"tabel\"), mille järgi saab leida nii üksiksõnade esinemismustreid kui ka dokumenti iseloomustava sõnavaramustri. \n",
    "\n",
    "Sarnasuste leidmisel tuginevadki statistilised meetodid maatriksile ning tekstide omadused, mis maatriksis ei kajastu (nt sõnade omavaheline järjekord, lausestus, süntaks vms) tulemust otseselt ka ei mõjuta. Siiski lisatakse masinõppelähenemiste puhul maatriksisse peale sõnaesinemiste ka muud informatsiooni dokumentide kohta (_a la_ dokumendi pikkus sõnades, loomise aeg). Käesolevas praktikumis vaatleme maatrikseid aga kõige tavapärasemal klasterdamiseks kasutataval kujul ehk _dokument-sõna_ maatriksitena."
   ]
  },
  {
   "cell_type": "markdown",
   "metadata": {},
   "source": [
    "Järgnevalt uurime samm-sammult, kuidas toimub dokument-sõna maatriksi loomine. Selleks laeme kõigepealt sisse ( _json_-kujul ) testkorpuse tekstid. Talletame ka failinimed, et meil oleks hiljem selge ülevaade, milline tekst millisest failist pärines:"
   ]
  },
  {
   "cell_type": "code",
   "execution_count": 1,
   "metadata": {},
   "outputs": [],
   "source": [
    "# 1) Andmete sisselugemine failidest\n",
    "import os, os.path\n",
    "from estnltk.converters import json_to_text\n",
    "\n",
    "input_dir = '1_testkorpus'\n",
    "\n",
    "texts     = []\n",
    "filenames = []\n",
    "for filename in sorted(os.listdir(input_dir)):\n",
    "    full_filename = os.path.join(input_dir, filename)\n",
    "    text = json_to_text(file=full_filename)\n",
    "    # Loeme sisse tekstid (sõned) ja tekstide nimed\n",
    "    texts.append(text.text)\n",
    "    filenames.append(filename)"
   ]
  },
  {
   "cell_type": "markdown",
   "metadata": {},
   "source": [
    "Edasi kasutame teeki [scikit-learn](https://scikit-learn.org/stable/). Klass [CountVectorizer](http://scikit-learn.org/stable/modules/generated/sklearn.feature_extraction.text.CountVectorizer.html#sklearn-feature-extraction-text-countvectorizer) võimaldab luua sõnavektoreid, mille iga positsioon kirjeldab sõna esinemissagedust ühes dokumendis. Klassi initsialiseerimisel on võimalik täpsustada mitmeid teksti eeltöötluse samme, nt kas sõnad tuleks teisendada väiketähelisteks (vaikimisi: jah), kuidas (millise meetodi abil) jagada tekst sõnadeks ning millised sõnad on nn _stopp_-sõnad, mis tuleks välja jätta. \n",
    "\n",
    "Esialgu huvitab meid see, et tekst oleks sõnestatud, kasutades eesti keele sõnestusvahendeid. Seega loome meetodi, mis saab sisendiks sõne, sõnestab selle EstNLTK abil ning tagastab sõnade järjendi. Ning _CountVectorizer_-i loomisel täpsustame, et sõnestamiseks tuleks kasutada just seda meetodit:"
   ]
  },
  {
   "cell_type": "code",
   "execution_count": 2,
   "metadata": {},
   "outputs": [],
   "source": [
    "# 2) Vektoriseerija loomine\n",
    "from sklearn.feature_extraction.text import CountVectorizer\n",
    "from estnltk import Text\n",
    "\n",
    "# Meetod teksti sõnestamiseks estnltk abil\n",
    "def tokenize_with_estnltk( input_string ):\n",
    "    return Text(input_string).tag_layer(['words']).words.text\n",
    "\n",
    "# Loome uue vektoriseerija, mis jagab tekstid sõnadeks estnltk abil:\n",
    "vectorizer = CountVectorizer(tokenizer = tokenize_with_estnltk, token_pattern=None)"
   ]
  },
  {
   "cell_type": "markdown",
   "metadata": {},
   "source": [
    "Nüüd saamegi kasutada `vectorizer`-it dokument-sõna maatriksi loomiseks. Selleks anname talle sisendiks järjendi analüüsitavatest dokumentidest (sisuliselt: järjend sõnedest), mille põhjal luuakse maatriks:"
   ]
  },
  {
   "cell_type": "code",
   "execution_count": 3,
   "metadata": {},
   "outputs": [],
   "source": [
    "# 3) Andmete viimine vektor-kujule\n",
    "matrix = vectorizer.fit_transform(texts)"
   ]
  },
  {
   "cell_type": "markdown",
   "metadata": {},
   "source": [
    "Võime uurida maatriksi (tabeli) mõõtmeid atribuudi `shape` abil:"
   ]
  },
  {
   "cell_type": "code",
   "execution_count": 4,
   "metadata": {},
   "outputs": [
    {
     "data": {
      "text/plain": [
       "(10, 2128)"
      ]
     },
     "execution_count": 4,
     "metadata": {},
     "output_type": "execute_result"
    }
   ],
   "source": [
    "matrix.shape"
   ]
  },
  {
   "cell_type": "markdown",
   "metadata": {},
   "source": [
    "Seega on meie tabelis 10 rida (erinevate tekstide arv meie korpuses) ning 2128 veergu (erinevate sõnade arv).\n",
    "\n",
    "Maatriksi põhjal saame ka uurida, millised sõnad / sõned korpuses esinesid:"
   ]
  },
  {
   "cell_type": "code",
   "execution_count": 5,
   "metadata": {},
   "outputs": [
    {
     "data": {
      "text/plain": [
       "array(['!', '\"', '&', '(', ')', ',', '-', '.', '..', '...', '/', '10%',\n",
       "       '10.', '150', '16', '16.', '17', '190', '1990.', '1991.', '1999.',\n",
       "       '20 .', '20-ruutmeetrine', '200', '2000', '22.', '25-tonnise',\n",
       "       '25.', '26.', '26.04', '28a', '30', '300', '32.', '350', '4',\n",
       "       '400', '4000', '48', '5', '5000', '58kg', '63-aastane', '8', '800',\n",
       "       '9.', ':', ';', '?', 'aasta', 'aastakümmet', 'aastal', 'aastane',\n",
       "       'aastast', 'aastat', 'aastatel', 'abba', 'abi', 'abihoone',\n",
       "       'abiturientide', 'aega', 'aegadel', 'aegajalt', 'aeglaselt',\n",
       "       'aeroobikatreener', 'after', 'aga', 'agne', 'ahistavad', 'aidata',\n",
       "       'ainjärv', 'ainsas', 'ainuke', 'ainult', 'ainus', 'ainuüksi',\n",
       "       'aitab', 'aitas', 'aitavad', 'ajada', 'ajaks', 'ajal', 'ajalugu',\n",
       "       'ajasin', 'ajavahemikuks', 'akadeemia', 'aken', 'akende', 'aknad',\n",
       "       'aknaklaase', 'aknaklaasid', 'aktsiaseltsi', 'aktusele', 'aladele',\n",
       "       'aladelt', 'alakoholi', 'alal', 'alanenud', 'alates', 'alati'],\n",
       "      dtype=object)"
      ]
     },
     "execution_count": 5,
     "metadata": {},
     "output_type": "execute_result"
    }
   ],
   "source": [
    "# uurime kogutud sõnavara\n",
    "vocab = vectorizer.get_feature_names_out()\n",
    "# sõnu on palju; kuvame 100 esimest ülevaateks\n",
    "vocab[:100]"
   ]
  },
  {
   "cell_type": "markdown",
   "metadata": {},
   "source": [
    "Konkreetsete sõnasageduste kättesaamiseks tuleb uurida maatriksi lahtreid. Maatriks on indekseeritud täisarvude järgi ning õige lahtri leidmiseks peame teadma vastavusi failinimede ja reaindeksite vahel ning sõnade ja veeruindeksite vahel. \n",
    "\n",
    "Mõlemad vastavused on meil tegelikult juba olemas. Andmete sisselugemisel salvestasime failinimed muutujasse `filenames`. Ning `vocab` sisaldab kõiki tekstis esinenud sõnu, samas järjekorras, nagu on maatriksi veerud."
   ]
  },
  {
   "cell_type": "code",
   "execution_count": 6,
   "metadata": {},
   "outputs": [
    {
     "name": "stdout",
     "output_type": "stream",
     "text": [
      "aja_EPL_1999_12_30.json\n",
      "16\n"
     ]
    }
   ],
   "source": [
    "# Leiame, mitu korda esineb sõna 'ja' esimeses tekstis\n",
    "\n",
    "# 1) esimese faili nimi:\n",
    "print(filenames[0])\n",
    "\n",
    "# 2) otsime maatriksist lahtri, mis vastab esimesele failile ning sõnale 'ja':\n",
    "print(matrix[0, list(vocab).index('ja')])"
   ]
  },
  {
   "cell_type": "markdown",
   "metadata": {},
   "source": [
    "Seega võime teha väikese programmi, mis aitab uurida etteantud sõnade esinemissagedust korpuse failide lõikes:"
   ]
  },
  {
   "cell_type": "code",
   "execution_count": 7,
   "metadata": {},
   "outputs": [
    {
     "name": "stdout",
     "output_type": "stream",
     "text": [
      " Sõna \"ja\" esineb failis  aja_EPL_1999_12_30.json   16  korda.\n",
      " Sõna \"ja\" esineb failis  aja_EPL_2001_06_18.tasak.json   12  korda.\n",
      " Sõna \"ja\" esineb failis  aja_pm_1999_08_13__40.json   4  korda.\n",
      " Sõna \"ja\" esineb failis  aja_pm_1999_08_13__42.json   7  korda.\n",
      " Sõna \"ja\" esineb failis  aja_sloleht_1999_08_13__36.json   9  korda.\n",
      " Sõna \"ja\" esineb failis  aja_sloleht_1999_08_13__68.json   1  korda.\n",
      " Sõna \"ja\" esineb failis  ettenten_arhiiv_koolielu_ee__470699.json   13  korda.\n",
      " Sõna \"ja\" esineb failis  ettenten_bio_edu_ee__442509.json   10  korda.\n",
      " Sõna \"ja\" esineb failis  ettenten_www_kliinik_ee__447481.json   17  korda.\n",
      " Sõna \"ja\" esineb failis  ettenten_www_poogen_ee__145074.json   12  korda.\n",
      "\n",
      " Sõna \"ning\" esineb failis  aja_EPL_1999_12_30.json   3  korda.\n",
      " Sõna \"ning\" esineb failis  aja_EPL_2001_06_18.tasak.json   2  korda.\n",
      " Sõna \"ning\" esineb failis  aja_pm_1999_08_13__42.json   3  korda.\n",
      " Sõna \"ning\" esineb failis  aja_sloleht_1999_08_13__36.json   1  korda.\n",
      " Sõna \"ning\" esineb failis  ettenten_bio_edu_ee__442509.json   2  korda.\n",
      " Sõna \"ning\" esineb failis  ettenten_www_kliinik_ee__447481.json   2  korda.\n",
      "\n",
      " Sõna \"siis\" esineb failis  aja_EPL_2001_06_18.tasak.json   6  korda.\n",
      " Sõna \"siis\" esineb failis  aja_pm_1999_08_13__40.json   1  korda.\n",
      " Sõna \"siis\" esineb failis  aja_sloleht_1999_08_13__36.json   1  korda.\n",
      " Sõna \"siis\" esineb failis  ettenten_www_kliinik_ee__447481.json   5  korda.\n",
      " Sõna \"siis\" esineb failis  ettenten_www_poogen_ee__145074.json   1  korda.\n",
      "\n",
      " Sõna \"omapäraselt\" esineb failis  ettenten_bio_edu_ee__442509.json   1  korda.\n",
      "\n"
     ]
    }
   ],
   "source": [
    "# Leiame etteantud sõnade listi põhjal, mitu korda esinesi iga sõna kõigis korpuse tekstides\n",
    "words_of_interest = ['ja', 'ning', 'siis', 'omapäraselt']\n",
    "vocab_list = list(vocab)\n",
    "\n",
    "for word in words_of_interest:\n",
    "    for fid, fnm in enumerate(filenames):\n",
    "        occurrence = matrix[fid, vocab_list.index(word)]\n",
    "        if occurrence:\n",
    "            print(' Sõna \"'+word+'\" esineb failis ',fnm,' ',occurrence,' korda.')\n",
    "    print()"
   ]
  },
  {
   "cell_type": "markdown",
   "metadata": {},
   "source": [
    "_Hõredad andmed_. Kui luua sõnade esinemissageduste tabel, siis võib sealt hakata silma nullidega lahtrite rohkus. Üldine tendents tekstiandmete puhul ongi see, et dokument-sõna maatriks tuleb hästi suur (antud juhul: 10 x 2128 lahtrit) ja sisaldab palju nulle. Kui hoiaksime sellist maatriksit tavalises Pythoni kahekordses listis, siis oleks suur osa infost sõnade _mitte-esinemise_ kohta ning ainult väike osa nende _esinemise_ kohta. See oleks aga üsna ebaefektiivne mälukasutus, kuivõrd on juba ette teada, et kõige olulisem info puudutab just sõnade esinemist ning et enamik sõnu on korpustes madala levikuga (st esinevad vaid vähestes dokumentides). Seetõttu tagastabki `CountVectorizer` vaikimisi nn hõreda maatriksi, kuhu pole salvestatud nulle, vaid ainult erinevused \"nullide meres\". Suurte korpuste korral võimaldab see kokku hoida sadu megasid mäluruumi (lähemalt on selle kohta kirjutatud [siin](https://github.com/DARIAH-DE/tatom/blob/develop/source/working_with_text.rst#creating-a-document-term-matrix) ja [siin](http://scikit-learn.org/stable/modules/feature_extraction.html#sparsity))."
   ]
  },
  {
   "cell_type": "markdown",
   "metadata": {},
   "source": [
    "### Dokumentide võrdlemine\n",
    "\n",
    "Nüüd, mil korpuse dokumendid on viidud vektorite kujule, saame nendel rakendada matemaatilisi meetodeid ning uurida nende sarnasust. \n",
    "\n",
    "#### Eukleidese kaugus\n",
    "\n",
    "Üheks sageli katsetatavaks meetodiks on Eukleidese kaugus. Lihtsamal juhul, kui meil on tegemist 2-mõõtmelise (eukleidilise) ruumiga, saame vektoreid ette kujutada kui samast alguspunktist lähtuvaid \"jooni\" tasandil, ning eukleidiliseks kauguseks on siis kahe \"joone\" lõpp-punktide vahele tõmmatud (ja neid \"kolmnurgaks\" ühendava) joone pikkus. Meie andmed on küll keerulisema struktuuriga -- tegemist on _n_-mõõtmeliste vektoritega (kus _n_ on sõnade arv korpuses), mida pole just eriti lihtne visuaalselt ette kujutada. Aga matemaatiliselt saame kauguse 2-mõõtmelises eukleidilises ruumis üldistada [kauguseks _n_-mõõtmelises ruumis](https://et.wikipedia.org/wiki/Kaugus#Kaugus_eukleidilistes_ruumides) ning teha vastavad arvutused. Teek `sklearn` pakub selleks välja ka mugava funktsiooni:"
   ]
  },
  {
   "cell_type": "code",
   "execution_count": 8,
   "metadata": {},
   "outputs": [],
   "source": [
    "from sklearn.metrics.pairwise import euclidean_distances\n",
    "\n",
    "eucl_dist = euclidean_distances(matrix)"
   ]
  },
  {
   "cell_type": "markdown",
   "metadata": {},
   "source": [
    "Tulemuseks saame samuti tabeli (täpsemalt: `numpy` järjenditest koosneva järjendi), aga seekord on tabeli mõõtmed märksa väiksemad:"
   ]
  },
  {
   "cell_type": "code",
   "execution_count": 9,
   "metadata": {},
   "outputs": [
    {
     "data": {
      "text/plain": [
       "(10, 10)"
      ]
     },
     "execution_count": 9,
     "metadata": {},
     "output_type": "execute_result"
    }
   ],
   "source": [
    "eucl_dist.shape"
   ]
  },
  {
   "cell_type": "markdown",
   "metadata": {},
   "source": [
    "Sisuliselt on tabelis dokumentidevahelised kaugused korpuses, sh ka iga dokumendi kaugus iseendast."
   ]
  },
  {
   "cell_type": "code",
   "execution_count": 10,
   "metadata": {},
   "outputs": [
    {
     "data": {
      "text/plain": [
       "56.39148871948674"
      ]
     },
     "execution_count": 10,
     "metadata": {},
     "output_type": "execute_result"
    }
   ],
   "source": [
    "# Dokumentide 1 ja 0 vaheline kaugus\n",
    "eucl_dist[1,0]"
   ]
  },
  {
   "cell_type": "markdown",
   "metadata": {},
   "source": [
    "Tabelist ülevaate saamiseks võime kasutada `pandas.DataFrame`-i:"
   ]
  },
  {
   "cell_type": "code",
   "execution_count": 11,
   "metadata": {},
   "outputs": [
    {
     "data": {
      "text/html": [
       "<div>\n",
       "<style scoped>\n",
       "    .dataframe tbody tr th:only-of-type {\n",
       "        vertical-align: middle;\n",
       "    }\n",
       "\n",
       "    .dataframe tbody tr th {\n",
       "        vertical-align: top;\n",
       "    }\n",
       "\n",
       "    .dataframe thead th {\n",
       "        text-align: right;\n",
       "    }\n",
       "</style>\n",
       "<table border=\"1\" class=\"dataframe\">\n",
       "  <thead>\n",
       "    <tr style=\"text-align: right;\">\n",
       "      <th></th>\n",
       "      <th>0</th>\n",
       "      <th>1</th>\n",
       "      <th>2</th>\n",
       "      <th>3</th>\n",
       "      <th>4</th>\n",
       "      <th>5</th>\n",
       "      <th>6</th>\n",
       "      <th>7</th>\n",
       "      <th>8</th>\n",
       "      <th>9</th>\n",
       "    </tr>\n",
       "  </thead>\n",
       "  <tbody>\n",
       "    <tr>\n",
       "      <th>0</th>\n",
       "      <td>0.0</td>\n",
       "      <td>56.4</td>\n",
       "      <td>66.3</td>\n",
       "      <td>67.1</td>\n",
       "      <td>66.5</td>\n",
       "      <td>72.7</td>\n",
       "      <td>63.8</td>\n",
       "      <td>64.1</td>\n",
       "      <td>65.4</td>\n",
       "      <td>80.3</td>\n",
       "    </tr>\n",
       "    <tr>\n",
       "      <th>1</th>\n",
       "      <td>56.4</td>\n",
       "      <td>0.0</td>\n",
       "      <td>61.8</td>\n",
       "      <td>51.9</td>\n",
       "      <td>54.3</td>\n",
       "      <td>77.1</td>\n",
       "      <td>57.6</td>\n",
       "      <td>62.4</td>\n",
       "      <td>51.0</td>\n",
       "      <td>50.8</td>\n",
       "    </tr>\n",
       "    <tr>\n",
       "      <th>2</th>\n",
       "      <td>66.3</td>\n",
       "      <td>61.8</td>\n",
       "      <td>0.0</td>\n",
       "      <td>39.8</td>\n",
       "      <td>35.4</td>\n",
       "      <td>32.7</td>\n",
       "      <td>33.3</td>\n",
       "      <td>29.8</td>\n",
       "      <td>44.6</td>\n",
       "      <td>66.2</td>\n",
       "    </tr>\n",
       "    <tr>\n",
       "      <th>3</th>\n",
       "      <td>67.1</td>\n",
       "      <td>51.9</td>\n",
       "      <td>39.8</td>\n",
       "      <td>0.0</td>\n",
       "      <td>40.0</td>\n",
       "      <td>55.3</td>\n",
       "      <td>41.8</td>\n",
       "      <td>43.2</td>\n",
       "      <td>43.5</td>\n",
       "      <td>53.4</td>\n",
       "    </tr>\n",
       "    <tr>\n",
       "      <th>4</th>\n",
       "      <td>66.5</td>\n",
       "      <td>54.3</td>\n",
       "      <td>35.4</td>\n",
       "      <td>40.0</td>\n",
       "      <td>0.0</td>\n",
       "      <td>54.9</td>\n",
       "      <td>41.4</td>\n",
       "      <td>42.6</td>\n",
       "      <td>47.5</td>\n",
       "      <td>59.0</td>\n",
       "    </tr>\n",
       "    <tr>\n",
       "      <th>5</th>\n",
       "      <td>72.7</td>\n",
       "      <td>77.1</td>\n",
       "      <td>32.7</td>\n",
       "      <td>55.3</td>\n",
       "      <td>54.9</td>\n",
       "      <td>0.0</td>\n",
       "      <td>38.7</td>\n",
       "      <td>29.2</td>\n",
       "      <td>54.8</td>\n",
       "      <td>83.5</td>\n",
       "    </tr>\n",
       "    <tr>\n",
       "      <th>6</th>\n",
       "      <td>63.8</td>\n",
       "      <td>57.6</td>\n",
       "      <td>33.3</td>\n",
       "      <td>41.8</td>\n",
       "      <td>41.4</td>\n",
       "      <td>38.7</td>\n",
       "      <td>0.0</td>\n",
       "      <td>29.8</td>\n",
       "      <td>40.5</td>\n",
       "      <td>62.9</td>\n",
       "    </tr>\n",
       "    <tr>\n",
       "      <th>7</th>\n",
       "      <td>64.1</td>\n",
       "      <td>62.4</td>\n",
       "      <td>29.8</td>\n",
       "      <td>43.2</td>\n",
       "      <td>42.6</td>\n",
       "      <td>29.2</td>\n",
       "      <td>29.8</td>\n",
       "      <td>0.0</td>\n",
       "      <td>42.5</td>\n",
       "      <td>69.5</td>\n",
       "    </tr>\n",
       "    <tr>\n",
       "      <th>8</th>\n",
       "      <td>65.4</td>\n",
       "      <td>51.0</td>\n",
       "      <td>44.6</td>\n",
       "      <td>43.5</td>\n",
       "      <td>47.5</td>\n",
       "      <td>54.8</td>\n",
       "      <td>40.5</td>\n",
       "      <td>42.5</td>\n",
       "      <td>0.0</td>\n",
       "      <td>54.0</td>\n",
       "    </tr>\n",
       "    <tr>\n",
       "      <th>9</th>\n",
       "      <td>80.3</td>\n",
       "      <td>50.8</td>\n",
       "      <td>66.2</td>\n",
       "      <td>53.4</td>\n",
       "      <td>59.0</td>\n",
       "      <td>83.5</td>\n",
       "      <td>62.9</td>\n",
       "      <td>69.5</td>\n",
       "      <td>54.0</td>\n",
       "      <td>0.0</td>\n",
       "    </tr>\n",
       "  </tbody>\n",
       "</table>\n",
       "</div>"
      ],
      "text/plain": [
       "      0     1     2     3     4     5     6     7     8     9\n",
       "0   0.0  56.4  66.3  67.1  66.5  72.7  63.8  64.1  65.4  80.3\n",
       "1  56.4   0.0  61.8  51.9  54.3  77.1  57.6  62.4  51.0  50.8\n",
       "2  66.3  61.8   0.0  39.8  35.4  32.7  33.3  29.8  44.6  66.2\n",
       "3  67.1  51.9  39.8   0.0  40.0  55.3  41.8  43.2  43.5  53.4\n",
       "4  66.5  54.3  35.4  40.0   0.0  54.9  41.4  42.6  47.5  59.0\n",
       "5  72.7  77.1  32.7  55.3  54.9   0.0  38.7  29.2  54.8  83.5\n",
       "6  63.8  57.6  33.3  41.8  41.4  38.7   0.0  29.8  40.5  62.9\n",
       "7  64.1  62.4  29.8  43.2  42.6  29.2  29.8   0.0  42.5  69.5\n",
       "8  65.4  51.0  44.6  43.5  47.5  54.8  40.5  42.5   0.0  54.0\n",
       "9  80.3  50.8  66.2  53.4  59.0  83.5  62.9  69.5  54.0   0.0"
      ]
     },
     "execution_count": 11,
     "metadata": {},
     "output_type": "execute_result"
    }
   ],
   "source": [
    "import numpy as np\n",
    "\n",
    "# Ümardame väärtused (1 koht peale koma)\n",
    "rounded = np.round(eucl_dist, 1)\n",
    "\n",
    "# Kuvame pandase abil tabelina:\n",
    "from pandas import DataFrame\n",
    "eucl_dist_df = DataFrame( rounded )\n",
    "eucl_dist_df"
   ]
  },
  {
   "cell_type": "markdown",
   "metadata": {},
   "source": [
    "7. praktikumist mäletame, et sellist sarnasuste maatriksit on lihtne visualiseerida *heatmap*'ina:"
   ]
  },
  {
   "cell_type": "code",
   "execution_count": 12,
   "metadata": {},
   "outputs": [],
   "source": [
    "import seaborn as sns"
   ]
  },
  {
   "cell_type": "code",
   "execution_count": 13,
   "metadata": {},
   "outputs": [
    {
     "data": {
      "text/plain": [
       "<Axes: >"
      ]
     },
     "execution_count": 13,
     "metadata": {},
     "output_type": "execute_result"
    },
    {
     "data": {
      "image/png": "[encoded data removed]",
      "text/plain": [
       "<Figure size 640x480 with 2 Axes>"
      ]
     },
     "metadata": {},
     "output_type": "display_data"
    }
   ],
   "source": [
    "sns.heatmap(eucl_dist_df[eucl_dist_df > 0])"
   ]
  },
  {
   "cell_type": "markdown",
   "metadata": {},
   "source": [
    "Millised dokumendid on kõige sarnasemad, st kõige väiksema kaugusega? Tabeli diagonaalil võib märgata 0.0 väärtuseid, aga need ei loe, kuna märgivad dokumentide kauguseid iseendast. Seega meid huvitab väikseim nullist erinev arv, mille saab \"automaagiliselt\" kätte nii:"
   ]
  },
  {
   "cell_type": "code",
   "execution_count": 14,
   "metadata": {},
   "outputs": [
    {
     "data": {
      "text/plain": [
       "29.2"
      ]
     },
     "execution_count": 14,
     "metadata": {},
     "output_type": "execute_result"
    }
   ],
   "source": [
    "# Minimaalse väärtuse leidmine DataFrame'ist\n",
    "min_value = eucl_dist_df[eucl_dist_df > 0].min().min()\n",
    "min_value"
   ]
  },
  {
   "cell_type": "markdown",
   "metadata": {},
   "source": [
    "Nüüd saame minimaalse väärtuse ka tabelis värvida / esile tuua:"
   ]
  },
  {
   "cell_type": "code",
   "execution_count": 15,
   "metadata": {},
   "outputs": [
    {
     "data": {
      "text/html": [
       "<style type=\"text/css\">\n",
       "#T_11612_row5_col7, #T_11612_row7_col5 {\n",
       "  background-color: yellow;\n",
       "}\n",
       "</style>\n",
       "<table id=\"T_11612\">\n",
       "  <thead>\n",
       "    <tr>\n",
       "      <th class=\"blank level0\" >&nbsp;</th>\n",
       "      <th id=\"T_11612_level0_col0\" class=\"col_heading level0 col0\" >0</th>\n",
       "      <th id=\"T_11612_level0_col1\" class=\"col_heading level0 col1\" >1</th>\n",
       "      <th id=\"T_11612_level0_col2\" class=\"col_heading level0 col2\" >2</th>\n",
       "      <th id=\"T_11612_level0_col3\" class=\"col_heading level0 col3\" >3</th>\n",
       "      <th id=\"T_11612_level0_col4\" class=\"col_heading level0 col4\" >4</th>\n",
       "      <th id=\"T_11612_level0_col5\" class=\"col_heading level0 col5\" >5</th>\n",
       "      <th id=\"T_11612_level0_col6\" class=\"col_heading level0 col6\" >6</th>\n",
       "      <th id=\"T_11612_level0_col7\" class=\"col_heading level0 col7\" >7</th>\n",
       "      <th id=\"T_11612_level0_col8\" class=\"col_heading level0 col8\" >8</th>\n",
       "      <th id=\"T_11612_level0_col9\" class=\"col_heading level0 col9\" >9</th>\n",
       "    </tr>\n",
       "  </thead>\n",
       "  <tbody>\n",
       "    <tr>\n",
       "      <th id=\"T_11612_level0_row0\" class=\"row_heading level0 row0\" >0</th>\n",
       "      <td id=\"T_11612_row0_col0\" class=\"data row0 col0\" >0.000000</td>\n",
       "      <td id=\"T_11612_row0_col1\" class=\"data row0 col1\" >56.400000</td>\n",
       "      <td id=\"T_11612_row0_col2\" class=\"data row0 col2\" >66.300000</td>\n",
       "      <td id=\"T_11612_row0_col3\" class=\"data row0 col3\" >67.100000</td>\n",
       "      <td id=\"T_11612_row0_col4\" class=\"data row0 col4\" >66.500000</td>\n",
       "      <td id=\"T_11612_row0_col5\" class=\"data row0 col5\" >72.700000</td>\n",
       "      <td id=\"T_11612_row0_col6\" class=\"data row0 col6\" >63.800000</td>\n",
       "      <td id=\"T_11612_row0_col7\" class=\"data row0 col7\" >64.100000</td>\n",
       "      <td id=\"T_11612_row0_col8\" class=\"data row0 col8\" >65.400000</td>\n",
       "      <td id=\"T_11612_row0_col9\" class=\"data row0 col9\" >80.300000</td>\n",
       "    </tr>\n",
       "    <tr>\n",
       "      <th id=\"T_11612_level0_row1\" class=\"row_heading level0 row1\" >1</th>\n",
       "      <td id=\"T_11612_row1_col0\" class=\"data row1 col0\" >56.400000</td>\n",
       "      <td id=\"T_11612_row1_col1\" class=\"data row1 col1\" >0.000000</td>\n",
       "      <td id=\"T_11612_row1_col2\" class=\"data row1 col2\" >61.800000</td>\n",
       "      <td id=\"T_11612_row1_col3\" class=\"data row1 col3\" >51.900000</td>\n",
       "      <td id=\"T_11612_row1_col4\" class=\"data row1 col4\" >54.300000</td>\n",
       "      <td id=\"T_11612_row1_col5\" class=\"data row1 col5\" >77.100000</td>\n",
       "      <td id=\"T_11612_row1_col6\" class=\"data row1 col6\" >57.600000</td>\n",
       "      <td id=\"T_11612_row1_col7\" class=\"data row1 col7\" >62.400000</td>\n",
       "      <td id=\"T_11612_row1_col8\" class=\"data row1 col8\" >51.000000</td>\n",
       "      <td id=\"T_11612_row1_col9\" class=\"data row1 col9\" >50.800000</td>\n",
       "    </tr>\n",
       "    <tr>\n",
       "      <th id=\"T_11612_level0_row2\" class=\"row_heading level0 row2\" >2</th>\n",
       "      <td id=\"T_11612_row2_col0\" class=\"data row2 col0\" >66.300000</td>\n",
       "      <td id=\"T_11612_row2_col1\" class=\"data row2 col1\" >61.800000</td>\n",
       "      <td id=\"T_11612_row2_col2\" class=\"data row2 col2\" >0.000000</td>\n",
       "      <td id=\"T_11612_row2_col3\" class=\"data row2 col3\" >39.800000</td>\n",
       "      <td id=\"T_11612_row2_col4\" class=\"data row2 col4\" >35.400000</td>\n",
       "      <td id=\"T_11612_row2_col5\" class=\"data row2 col5\" >32.700000</td>\n",
       "      <td id=\"T_11612_row2_col6\" class=\"data row2 col6\" >33.300000</td>\n",
       "      <td id=\"T_11612_row2_col7\" class=\"data row2 col7\" >29.800000</td>\n",
       "      <td id=\"T_11612_row2_col8\" class=\"data row2 col8\" >44.600000</td>\n",
       "      <td id=\"T_11612_row2_col9\" class=\"data row2 col9\" >66.200000</td>\n",
       "    </tr>\n",
       "    <tr>\n",
       "      <th id=\"T_11612_level0_row3\" class=\"row_heading level0 row3\" >3</th>\n",
       "      <td id=\"T_11612_row3_col0\" class=\"data row3 col0\" >67.100000</td>\n",
       "      <td id=\"T_11612_row3_col1\" class=\"data row3 col1\" >51.900000</td>\n",
       "      <td id=\"T_11612_row3_col2\" class=\"data row3 col2\" >39.800000</td>\n",
       "      <td id=\"T_11612_row3_col3\" class=\"data row3 col3\" >0.000000</td>\n",
       "      <td id=\"T_11612_row3_col4\" class=\"data row3 col4\" >40.000000</td>\n",
       "      <td id=\"T_11612_row3_col5\" class=\"data row3 col5\" >55.300000</td>\n",
       "      <td id=\"T_11612_row3_col6\" class=\"data row3 col6\" >41.800000</td>\n",
       "      <td id=\"T_11612_row3_col7\" class=\"data row3 col7\" >43.200000</td>\n",
       "      <td id=\"T_11612_row3_col8\" class=\"data row3 col8\" >43.500000</td>\n",
       "      <td id=\"T_11612_row3_col9\" class=\"data row3 col9\" >53.400000</td>\n",
       "    </tr>\n",
       "    <tr>\n",
       "      <th id=\"T_11612_level0_row4\" class=\"row_heading level0 row4\" >4</th>\n",
       "      <td id=\"T_11612_row4_col0\" class=\"data row4 col0\" >66.500000</td>\n",
       "      <td id=\"T_11612_row4_col1\" class=\"data row4 col1\" >54.300000</td>\n",
       "      <td id=\"T_11612_row4_col2\" class=\"data row4 col2\" >35.400000</td>\n",
       "      <td id=\"T_11612_row4_col3\" class=\"data row4 col3\" >40.000000</td>\n",
       "      <td id=\"T_11612_row4_col4\" class=\"data row4 col4\" >0.000000</td>\n",
       "      <td id=\"T_11612_row4_col5\" class=\"data row4 col5\" >54.900000</td>\n",
       "      <td id=\"T_11612_row4_col6\" class=\"data row4 col6\" >41.400000</td>\n",
       "      <td id=\"T_11612_row4_col7\" class=\"data row4 col7\" >42.600000</td>\n",
       "      <td id=\"T_11612_row4_col8\" class=\"data row4 col8\" >47.500000</td>\n",
       "      <td id=\"T_11612_row4_col9\" class=\"data row4 col9\" >59.000000</td>\n",
       "    </tr>\n",
       "    <tr>\n",
       "      <th id=\"T_11612_level0_row5\" class=\"row_heading level0 row5\" >5</th>\n",
       "      <td id=\"T_11612_row5_col0\" class=\"data row5 col0\" >72.700000</td>\n",
       "      <td id=\"T_11612_row5_col1\" class=\"data row5 col1\" >77.100000</td>\n",
       "      <td id=\"T_11612_row5_col2\" class=\"data row5 col2\" >32.700000</td>\n",
       "      <td id=\"T_11612_row5_col3\" class=\"data row5 col3\" >55.300000</td>\n",
       "      <td id=\"T_11612_row5_col4\" class=\"data row5 col4\" >54.900000</td>\n",
       "      <td id=\"T_11612_row5_col5\" class=\"data row5 col5\" >0.000000</td>\n",
       "      <td id=\"T_11612_row5_col6\" class=\"data row5 col6\" >38.700000</td>\n",
       "      <td id=\"T_11612_row5_col7\" class=\"data row5 col7\" >29.200000</td>\n",
       "      <td id=\"T_11612_row5_col8\" class=\"data row5 col8\" >54.800000</td>\n",
       "      <td id=\"T_11612_row5_col9\" class=\"data row5 col9\" >83.500000</td>\n",
       "    </tr>\n",
       "    <tr>\n",
       "      <th id=\"T_11612_level0_row6\" class=\"row_heading level0 row6\" >6</th>\n",
       "      <td id=\"T_11612_row6_col0\" class=\"data row6 col0\" >63.800000</td>\n",
       "      <td id=\"T_11612_row6_col1\" class=\"data row6 col1\" >57.600000</td>\n",
       "      <td id=\"T_11612_row6_col2\" class=\"data row6 col2\" >33.300000</td>\n",
       "      <td id=\"T_11612_row6_col3\" class=\"data row6 col3\" >41.800000</td>\n",
       "      <td id=\"T_11612_row6_col4\" class=\"data row6 col4\" >41.400000</td>\n",
       "      <td id=\"T_11612_row6_col5\" class=\"data row6 col5\" >38.700000</td>\n",
       "      <td id=\"T_11612_row6_col6\" class=\"data row6 col6\" >0.000000</td>\n",
       "      <td id=\"T_11612_row6_col7\" class=\"data row6 col7\" >29.800000</td>\n",
       "      <td id=\"T_11612_row6_col8\" class=\"data row6 col8\" >40.500000</td>\n",
       "      <td id=\"T_11612_row6_col9\" class=\"data row6 col9\" >62.900000</td>\n",
       "    </tr>\n",
       "    <tr>\n",
       "      <th id=\"T_11612_level0_row7\" class=\"row_heading level0 row7\" >7</th>\n",
       "      <td id=\"T_11612_row7_col0\" class=\"data row7 col0\" >64.100000</td>\n",
       "      <td id=\"T_11612_row7_col1\" class=\"data row7 col1\" >62.400000</td>\n",
       "      <td id=\"T_11612_row7_col2\" class=\"data row7 col2\" >29.800000</td>\n",
       "      <td id=\"T_11612_row7_col3\" class=\"data row7 col3\" >43.200000</td>\n",
       "      <td id=\"T_11612_row7_col4\" class=\"data row7 col4\" >42.600000</td>\n",
       "      <td id=\"T_11612_row7_col5\" class=\"data row7 col5\" >29.200000</td>\n",
       "      <td id=\"T_11612_row7_col6\" class=\"data row7 col6\" >29.800000</td>\n",
       "      <td id=\"T_11612_row7_col7\" class=\"data row7 col7\" >0.000000</td>\n",
       "      <td id=\"T_11612_row7_col8\" class=\"data row7 col8\" >42.500000</td>\n",
       "      <td id=\"T_11612_row7_col9\" class=\"data row7 col9\" >69.500000</td>\n",
       "    </tr>\n",
       "    <tr>\n",
       "      <th id=\"T_11612_level0_row8\" class=\"row_heading level0 row8\" >8</th>\n",
       "      <td id=\"T_11612_row8_col0\" class=\"data row8 col0\" >65.400000</td>\n",
       "      <td id=\"T_11612_row8_col1\" class=\"data row8 col1\" >51.000000</td>\n",
       "      <td id=\"T_11612_row8_col2\" class=\"data row8 col2\" >44.600000</td>\n",
       "      <td id=\"T_11612_row8_col3\" class=\"data row8 col3\" >43.500000</td>\n",
       "      <td id=\"T_11612_row8_col4\" class=\"data row8 col4\" >47.500000</td>\n",
       "      <td id=\"T_11612_row8_col5\" class=\"data row8 col5\" >54.800000</td>\n",
       "      <td id=\"T_11612_row8_col6\" class=\"data row8 col6\" >40.500000</td>\n",
       "      <td id=\"T_11612_row8_col7\" class=\"data row8 col7\" >42.500000</td>\n",
       "      <td id=\"T_11612_row8_col8\" class=\"data row8 col8\" >0.000000</td>\n",
       "      <td id=\"T_11612_row8_col9\" class=\"data row8 col9\" >54.000000</td>\n",
       "    </tr>\n",
       "    <tr>\n",
       "      <th id=\"T_11612_level0_row9\" class=\"row_heading level0 row9\" >9</th>\n",
       "      <td id=\"T_11612_row9_col0\" class=\"data row9 col0\" >80.300000</td>\n",
       "      <td id=\"T_11612_row9_col1\" class=\"data row9 col1\" >50.800000</td>\n",
       "      <td id=\"T_11612_row9_col2\" class=\"data row9 col2\" >66.200000</td>\n",
       "      <td id=\"T_11612_row9_col3\" class=\"data row9 col3\" >53.400000</td>\n",
       "      <td id=\"T_11612_row9_col4\" class=\"data row9 col4\" >59.000000</td>\n",
       "      <td id=\"T_11612_row9_col5\" class=\"data row9 col5\" >83.500000</td>\n",
       "      <td id=\"T_11612_row9_col6\" class=\"data row9 col6\" >62.900000</td>\n",
       "      <td id=\"T_11612_row9_col7\" class=\"data row9 col7\" >69.500000</td>\n",
       "      <td id=\"T_11612_row9_col8\" class=\"data row9 col8\" >54.000000</td>\n",
       "      <td id=\"T_11612_row9_col9\" class=\"data row9 col9\" >0.000000</td>\n",
       "    </tr>\n",
       "  </tbody>\n",
       "</table>\n"
      ],
      "text/plain": [
       "<pandas.io.formats.style.Styler at 0x208110b5d60>"
      ]
     },
     "execution_count": 15,
     "metadata": {},
     "output_type": "execute_result"
    }
   ],
   "source": [
    "import math\n",
    "\n",
    "# Funktsioon, mis omistab tabeli lahtrile kollase värvi, kui väärtus s on piisavalt lähedal min_value-le\n",
    "color_fun = lambda s: 'background-color: yellow' if math.isclose(s, min_value, rel_tol=1e-5) else ''\n",
    "\n",
    "# Rakendame funktsioon oma tabelil\n",
    "eucl_dist_df.style.map(color_fun)"
   ]
  },
  {
   "cell_type": "markdown",
   "metadata": {},
   "source": [
    "Teine viis seda teha: teeme tsükli üle tabeli ning kasutame vahemuutujat minimaalse väärtuse ülesleidmiseks. Ühtlasi leiame ka üles vastavad rea- ja veeruindeksid (millised dokumendid olid kõige sarnasemad):"
   ]
  },
  {
   "cell_type": "code",
   "execution_count": 16,
   "metadata": {},
   "outputs": [
    {
     "name": "stdout",
     "output_type": "stream",
     "text": [
      " Kõige sarnasemad ( kaugus 29.24038303442689 ) on aja_sloleht_1999_08_13__68.json ja ettenten_bio_edu_ee__442509.json\n"
     ]
    }
   ],
   "source": [
    "# Leiame, millised dokumendid on kõige sarnasemad eukleidese kauguse järgi\n",
    "min_dist = eucl_dist[1,0]\n",
    "min_xid = 0\n",
    "min_yid = 0\n",
    "for xid, x in enumerate(eucl_dist):\n",
    "    for yid, y in enumerate(x):\n",
    "        if xid != yid and y < min_dist:\n",
    "            min_dist = y\n",
    "            min_xid = xid\n",
    "            min_yid = yid\n",
    "print(' Kõige sarnasemad ( kaugus',min_dist,') on',filenames[min_xid],'ja',filenames[min_yid])"
   ]
  },
  {
   "cell_type": "markdown",
   "metadata": {},
   "source": [
    "Uurime ka mõlema faili/dokumendi alguseid:"
   ]
  },
  {
   "cell_type": "code",
   "execution_count": 17,
   "metadata": {},
   "outputs": [
    {
     "name": "stdout",
     "output_type": "stream",
     "text": [
      "--------------------------------------------------\n",
      "aja_sloleht_1999_08_13__68.json : Tervisekaupade seas tõotab värskeimaks moeks saada tervist kohendavate maiuste tarvitamine .\n",
      "\n",
      "Analüüsifirma Datamonitor hinnangul hakkavad inimesed juba üsna varsti maiustama näiteks vitamiinidega üle puistatud komme , kuna muidu jääb vitamiinide osa toidusedelis liiga väikeseks .\n",
      "\n",
      "Vitamiinide , min\n",
      "--------------------------------------------------\n",
      "ettenten_bio_edu_ee__442509.json : Rohevint\n",
      "\n",
      "Rohevint on varblasest veidi suurem rohekaskollane (isaslind) või hallikaskollane (emaslind) tüseda koonilise nokaga laululind. Vaatamata pisut jässakale kehakujule on rohevindi liigutused osavad ja lend kiire. Rahuliku iseloomu tõttu võib ta õige kaua ühel kohal püsida ja ümbrust silmitse\n",
      "\n"
     ]
    }
   ],
   "source": [
    "print('-'*50)\n",
    "print(filenames[min_xid], ':', texts[min_xid][:300])\n",
    "print('-'*50)\n",
    "print(filenames[min_yid], ':', texts[min_yid][:300])\n",
    "print()"
   ]
  },
  {
   "cell_type": "markdown",
   "metadata": {},
   "source": [
    "### Ülesanne 1. Kattuvused sõnavaras (0,5 p)\n",
    "\n",
    "Eelmise katse väljundit (kahe \"kõige sarnasema\" dokumendi alguseid, aga ka sisusid) uurides on üsna raske aru saada, miks meetod pakub, et tegemist on sarnaste dokumentidega. Et probleemi lähemalt uurida, looge funktsioon, mis saab argumentideks dokument-sõna-maatriksi (`matrix`), sõnaloendi (`vocab`) ja kahe dokumendi (maatriksi rea) indeksid (täisarvud `x` ja `y`), ning leiab ja tagastab sõnad, mis esinesid mõlemas dokumendis, koos vastavate sõnasagedustega mõlemas dokumendis. Tulemused võib vormistada nt ennikutena:\n",
    "\n",
    "```python\n",
    ">> common_words(matrix, vocab, 1, 2)\n",
    "[('lennujaama', 1, 2), ('tallinna', 3, 4), ... ]\n",
    "```\n",
    "Leidke funktsiooni abil kahe kõige sarnasema dokumendi sõnavaraline kattuvus."
   ]
  },
  {
   "cell_type": "markdown",
   "metadata": {},
   "source": [
    "#### Koosinus-sarnasus \n",
    "Eukleidese kauguse rakendamisel tekstide võrdlemisel on üks iseärasus: kauguseid mõjutab võrreldavate dokumentide pikkus. Seega,  kui kaks dokumenti kirjutavad samal teemal (kasutavad sarnast sõnavara), aga on pikkuse poolest väga erinevad (nt üks on lühike uudisnupp ning teine pikk arvamuslugu), siis Eukleidese kaugus ei pruugi neid kahte dokumenti kõige sarnasemateks lugeda. Pigem võib juhtuda, et \"sarnasteks\" kujunevad pikkuse poolest sarnased dokumendid.\n",
    "\n",
    "Sellest probleemist saame üle, kui kasutame vektorite võrdlemise teistsugust meetodit: **koosinus-sarnasust** (ingl _cosine similarity_). Tuleme tagasi 2-mõõtmelise ruumi näite juurde. Nagu eelnevalt, nii ka nüüd on vektorid ühest ja samast punktist algavad \"jooned\" tasandil ja meid huvitab nende joonte \"sarnasus\". Aga seekord hülgame joonte lõpp-punktide vahelise kauguse (mis sõltub joonte pikkusest) ning mõõdame vaid kahe \"joone\" vahelist nurka. Seda teebki koosinus-sarnasus. Kui läheme 2-mõõtmelisest ruumist jälle _n_-mõõtmelisse ruumi dokumentide-vahelist sarnasust leidma, siis hakkab tulemust (vektorite-vahelist nurka) mõjutama mitte niivõrd kattuvate sõnade sagedus, kuivõrd üleüldine kattuvate sõnade arv (mida rohkem erinevaid kattuvaid sõnu, seda väiksem nurk -- isegi kui kattuvad sõnad ise on vähesagedased).\n",
    "\n",
    "Rangelt võttes on `cosine_similarity` sarnasuse mõõdik ning tagastab 0 ja 1 vahele jääva väärtuse (1 == maksimaalne sarnasus / identsus, 0 == maksimaalne erinevus). Et meie tulemused oleks enam-vähem võrreldavad Eukleidese kauguse omadega, peame sarnasused teisendama kaugusteks (ehk siis läbi viima tehted: _kaugus_ = 1 - _sarnasus_). Selleks on teegis `sklearn` olemas eraldi funktsioon:"
   ]
  },
  {
   "cell_type": "code",
   "execution_count": 18,
   "metadata": {},
   "outputs": [
    {
     "data": {
      "text/plain": [
       "array([[0.        , 0.26014779, 0.53246741, 0.48151069, 0.47592839,\n",
       "        0.68264473, 0.4747659 , 0.47165526, 0.45829498, 0.48368046],\n",
       "       [0.26014779, 0.        , 0.30864234, 0.23275668, 0.26013435,\n",
       "        0.54497077, 0.26688999, 0.29567633, 0.22263921, 0.18111386],\n",
       "       [0.53246741, 0.30864234, 0.        , 0.24897073, 0.17921586,\n",
       "        0.602905  , 0.36268058, 0.39101752, 0.36032217, 0.27762593],\n",
       "       [0.48151069, 0.23275668, 0.24897073, 0.        , 0.23422336,\n",
       "        0.54554934, 0.2978718 , 0.30717541, 0.27799142, 0.20009005],\n",
       "       [0.47592839, 0.26013435, 0.17921586, 0.23422336, 0.        ,\n",
       "        0.57446101, 0.29855495, 0.30618029, 0.3346192 , 0.26192177],\n",
       "       [0.68264473, 0.54497077, 0.602905  , 0.54554934, 0.57446101,\n",
       "        0.        , 0.55508902, 0.56295185, 0.56419528, 0.54755989],\n",
       "       [0.4747659 , 0.26688999, 0.36268058, 0.2978718 , 0.29855495,\n",
       "        0.55508902, 0.        , 0.29631177, 0.28359907, 0.26220467],\n",
       "       [0.47165526, 0.29567633, 0.39101752, 0.30717541, 0.30618029,\n",
       "        0.56295185, 0.29631177, 0.        , 0.30296992, 0.32283766],\n",
       "       [0.45829498, 0.22263921, 0.36032217, 0.27799142, 0.3346192 ,\n",
       "        0.56419528, 0.28359907, 0.30296992, 0.        , 0.20533342],\n",
       "       [0.48368046, 0.18111386, 0.27762593, 0.20009005, 0.26192177,\n",
       "        0.54755989, 0.26220467, 0.32283766, 0.20533342, 0.        ]])"
      ]
     },
     "execution_count": 18,
     "metadata": {},
     "output_type": "execute_result"
    }
   ],
   "source": [
    "from sklearn.metrics.pairwise import cosine_distances\n",
    "\n",
    "cos_dist = cosine_distances(matrix)\n",
    "cos_dist"
   ]
  },
  {
   "cell_type": "code",
   "execution_count": 19,
   "metadata": {},
   "outputs": [
    {
     "data": {
      "text/html": [
       "<div>\n",
       "<style scoped>\n",
       "    .dataframe tbody tr th:only-of-type {\n",
       "        vertical-align: middle;\n",
       "    }\n",
       "\n",
       "    .dataframe tbody tr th {\n",
       "        vertical-align: top;\n",
       "    }\n",
       "\n",
       "    .dataframe thead th {\n",
       "        text-align: right;\n",
       "    }\n",
       "</style>\n",
       "<table border=\"1\" class=\"dataframe\">\n",
       "  <thead>\n",
       "    <tr style=\"text-align: right;\">\n",
       "      <th></th>\n",
       "      <th>0</th>\n",
       "      <th>1</th>\n",
       "      <th>2</th>\n",
       "      <th>3</th>\n",
       "      <th>4</th>\n",
       "      <th>5</th>\n",
       "      <th>6</th>\n",
       "      <th>7</th>\n",
       "      <th>8</th>\n",
       "      <th>9</th>\n",
       "    </tr>\n",
       "  </thead>\n",
       "  <tbody>\n",
       "    <tr>\n",
       "      <th>0</th>\n",
       "      <td>0.00</td>\n",
       "      <td>0.26</td>\n",
       "      <td>0.53</td>\n",
       "      <td>0.48</td>\n",
       "      <td>0.48</td>\n",
       "      <td>0.68</td>\n",
       "      <td>0.47</td>\n",
       "      <td>0.47</td>\n",
       "      <td>0.46</td>\n",
       "      <td>0.48</td>\n",
       "    </tr>\n",
       "    <tr>\n",
       "      <th>1</th>\n",
       "      <td>0.26</td>\n",
       "      <td>0.00</td>\n",
       "      <td>0.31</td>\n",
       "      <td>0.23</td>\n",
       "      <td>0.26</td>\n",
       "      <td>0.54</td>\n",
       "      <td>0.27</td>\n",
       "      <td>0.30</td>\n",
       "      <td>0.22</td>\n",
       "      <td>0.18</td>\n",
       "    </tr>\n",
       "    <tr>\n",
       "      <th>2</th>\n",
       "      <td>0.53</td>\n",
       "      <td>0.31</td>\n",
       "      <td>0.00</td>\n",
       "      <td>0.25</td>\n",
       "      <td>0.18</td>\n",
       "      <td>0.60</td>\n",
       "      <td>0.36</td>\n",
       "      <td>0.39</td>\n",
       "      <td>0.36</td>\n",
       "      <td>0.28</td>\n",
       "    </tr>\n",
       "    <tr>\n",
       "      <th>3</th>\n",
       "      <td>0.48</td>\n",
       "      <td>0.23</td>\n",
       "      <td>0.25</td>\n",
       "      <td>0.00</td>\n",
       "      <td>0.23</td>\n",
       "      <td>0.55</td>\n",
       "      <td>0.30</td>\n",
       "      <td>0.31</td>\n",
       "      <td>0.28</td>\n",
       "      <td>0.20</td>\n",
       "    </tr>\n",
       "    <tr>\n",
       "      <th>4</th>\n",
       "      <td>0.48</td>\n",
       "      <td>0.26</td>\n",
       "      <td>0.18</td>\n",
       "      <td>0.23</td>\n",
       "      <td>0.00</td>\n",
       "      <td>0.57</td>\n",
       "      <td>0.30</td>\n",
       "      <td>0.31</td>\n",
       "      <td>0.33</td>\n",
       "      <td>0.26</td>\n",
       "    </tr>\n",
       "    <tr>\n",
       "      <th>5</th>\n",
       "      <td>0.68</td>\n",
       "      <td>0.54</td>\n",
       "      <td>0.60</td>\n",
       "      <td>0.55</td>\n",
       "      <td>0.57</td>\n",
       "      <td>0.00</td>\n",
       "      <td>0.56</td>\n",
       "      <td>0.56</td>\n",
       "      <td>0.56</td>\n",
       "      <td>0.55</td>\n",
       "    </tr>\n",
       "    <tr>\n",
       "      <th>6</th>\n",
       "      <td>0.47</td>\n",
       "      <td>0.27</td>\n",
       "      <td>0.36</td>\n",
       "      <td>0.30</td>\n",
       "      <td>0.30</td>\n",
       "      <td>0.56</td>\n",
       "      <td>0.00</td>\n",
       "      <td>0.30</td>\n",
       "      <td>0.28</td>\n",
       "      <td>0.26</td>\n",
       "    </tr>\n",
       "    <tr>\n",
       "      <th>7</th>\n",
       "      <td>0.47</td>\n",
       "      <td>0.30</td>\n",
       "      <td>0.39</td>\n",
       "      <td>0.31</td>\n",
       "      <td>0.31</td>\n",
       "      <td>0.56</td>\n",
       "      <td>0.30</td>\n",
       "      <td>0.00</td>\n",
       "      <td>0.30</td>\n",
       "      <td>0.32</td>\n",
       "    </tr>\n",
       "    <tr>\n",
       "      <th>8</th>\n",
       "      <td>0.46</td>\n",
       "      <td>0.22</td>\n",
       "      <td>0.36</td>\n",
       "      <td>0.28</td>\n",
       "      <td>0.33</td>\n",
       "      <td>0.56</td>\n",
       "      <td>0.28</td>\n",
       "      <td>0.30</td>\n",
       "      <td>0.00</td>\n",
       "      <td>0.21</td>\n",
       "    </tr>\n",
       "    <tr>\n",
       "      <th>9</th>\n",
       "      <td>0.48</td>\n",
       "      <td>0.18</td>\n",
       "      <td>0.28</td>\n",
       "      <td>0.20</td>\n",
       "      <td>0.26</td>\n",
       "      <td>0.55</td>\n",
       "      <td>0.26</td>\n",
       "      <td>0.32</td>\n",
       "      <td>0.21</td>\n",
       "      <td>0.00</td>\n",
       "    </tr>\n",
       "  </tbody>\n",
       "</table>\n",
       "</div>"
      ],
      "text/plain": [
       "      0     1     2     3     4     5     6     7     8     9\n",
       "0  0.00  0.26  0.53  0.48  0.48  0.68  0.47  0.47  0.46  0.48\n",
       "1  0.26  0.00  0.31  0.23  0.26  0.54  0.27  0.30  0.22  0.18\n",
       "2  0.53  0.31  0.00  0.25  0.18  0.60  0.36  0.39  0.36  0.28\n",
       "3  0.48  0.23  0.25  0.00  0.23  0.55  0.30  0.31  0.28  0.20\n",
       "4  0.48  0.26  0.18  0.23  0.00  0.57  0.30  0.31  0.33  0.26\n",
       "5  0.68  0.54  0.60  0.55  0.57  0.00  0.56  0.56  0.56  0.55\n",
       "6  0.47  0.27  0.36  0.30  0.30  0.56  0.00  0.30  0.28  0.26\n",
       "7  0.47  0.30  0.39  0.31  0.31  0.56  0.30  0.00  0.30  0.32\n",
       "8  0.46  0.22  0.36  0.28  0.33  0.56  0.28  0.30  0.00  0.21\n",
       "9  0.48  0.18  0.28  0.20  0.26  0.55  0.26  0.32  0.21  0.00"
      ]
     },
     "execution_count": 19,
     "metadata": {},
     "output_type": "execute_result"
    }
   ],
   "source": [
    "# Tulemused ilusa ümardatud arvudega tabelina:\n",
    "from pandas import DataFrame\n",
    "DataFrame( np.round(cos_dist, 2) )"
   ]
  },
  {
   "cell_type": "markdown",
   "metadata": {},
   "source": [
    "Lõpuks leiame, millised on seekord kaks kõige sarnasemat dokumenti:"
   ]
  },
  {
   "cell_type": "code",
   "execution_count": 20,
   "metadata": {},
   "outputs": [
    {
     "name": "stdout",
     "output_type": "stream",
     "text": [
      " Kõige sarnasemad ( kaugus 0.1792158575339805 ) on aja_pm_1999_08_13__40.json ja aja_sloleht_1999_08_13__36.json\n"
     ]
    }
   ],
   "source": [
    "# Leiame, millised dokumendid on kõige sarnasemad koosinus-sarnasuse järgi\n",
    "min_dist = cos_dist[1,0]\n",
    "min_xid = 0\n",
    "min_yid = 0\n",
    "for xid, x in enumerate(cos_dist):\n",
    "    for yid, y in enumerate(x):\n",
    "        if xid != yid and y < min_dist:\n",
    "            min_dist = y\n",
    "            min_xid = xid\n",
    "            min_yid = yid\n",
    "print(' Kõige sarnasemad ( kaugus',min_dist,') on',filenames[min_xid],'ja',filenames[min_yid])"
   ]
  },
  {
   "cell_type": "code",
   "execution_count": 21,
   "metadata": {},
   "outputs": [
    {
     "name": "stdout",
     "output_type": "stream",
     "text": [
      "--------------------------------------------------\n",
      "aja_pm_1999_08_13__40.json : KERSTI NEIMAN\n",
      "\n",
      "Tallinna lennujaamast startinud täislastiga transpordilennuk hirmutas üleeile umbes saja meetri kõrguselt üle pealinna elamurajoonide lennates inimesi , pannes Nõmme ja Tondi majad mürast vappuma ja klaasid klirisema .\n",
      "\n",
      "“ Sellist müra pole ma kunagi elus kuulnud , ei oska isegi öelda \n",
      "--------------------------------------------------\n",
      "aja_sloleht_1999_08_13__36.json : 25-tonnise laadungiga Vene transpordilennuk IL-76 raputas üleeile Nõmme ja Tondi maju ning väristas aknaklaase , sest ei suutnud Tallinna kohal kõrgust võtta . “ Ma ei saanud alguses aru , mis toimus , ” rääkis Nõmmel elav Anvar Samost . “ Toas polnud võimalik rääkida , mürin oli tohutu .\n",
      "Aknaklaasi\n",
      "\n"
     ]
    }
   ],
   "source": [
    "print('-'*50)\n",
    "print(filenames[min_xid], ':', texts[min_xid][:300])\n",
    "print('-'*50)\n",
    "print(filenames[min_yid], ':', texts[min_yid][:300])\n",
    "print()"
   ]
  },
  {
   "cell_type": "markdown",
   "metadata": {},
   "source": [
    "Seekord paistab tulemus palju parem :)"
   ]
  },
  {
   "cell_type": "markdown",
   "metadata": {},
   "source": [
    "### Ülesanne 2. Sarnase sisuga artiklid (2 p)\n",
    "\n",
    "Kataloogis `'2_aja_EPL_pm_sloleht'` on kolme ajalehe -- Eesti Päevalehe, Postimehe ja SL Õhtulehe -- artiklid. Katsetage  _koosinus-sarnasust_ ja kolme erinevat eeltöötluse võtet ning leidke SL Õhtulehe artiklitele kõige sarnasemad artiklid. \n",
    "\n",
    "Töö tulemusena väljastab programm SL Õhtulehe artiklid (failinimed koos artiklipealkirjadega) ning iga artikli järel kolm kõige sarnasemat artiklit (artiklite failinimed + pealkirjad), igaüks leitud erinevat eeltöötluse võtet kasutades. Eeltöötluse võtted peaksid katma:\n",
    "\n",
    "   1. Tavalist EstNLTK sõnestamist (maatriksi veergudeks sõnavormid);\n",
    "   2. Korpuse lemmatiseerimist EstNLTK abil (maatriksi veergudeks sõnalemmad);\n",
    "   3. Stopp-sõnade (ja/või väga sagedaste sõnade) eemaldamist;\n",
    "\n",
    "Mõni võte võib ka kombineerida mitut asja eelmisest loetelust. Millisel viisil läheb kõige rohkem sarnaseid artikleid täppi (pealkirjade ja/või artiklite sisu põgusa uurimise järgi otsustades)?\n",
    "\n",
    "Detaile:\n",
    "\n",
    "  * Sisendandmed on json formaadis `Text` objektid. Tuletage varasematest praktikumidest meelde, millise EstNLTK meetodiga on neid mugavalt võimalik sisse lugeda; Artiklite `Text` objektid sisaldavad ka metaandmeid, nt `\"title\"`, `\"ajalehenumber\"`, `\"author\"`;\n",
    "  * Dokumentide viimiseks vektorkujule kasutage klassi [CountVectorizer](http://scikit-learn.org/stable/modules/generated/sklearn.feature_extraction.text.CountVectorizer.html#sklearn-feature-extraction-text-countvectorizer); Eeltöötluse võtete kehtestamine peaks toimima läbi selle klassi parameetrite muutmise;\n",
    "  * Dokumentide-vaheliste kauguste maatriksite loomiseks kasutage funktsiooni [cosine_distances](http://scikit-learn.org/stable/modules/generated/sklearn.metrics.pairwise.cosine_distances.html#sklearn.metrics.pairwise.cosine_distances); Iga eeltöötluse võtte rakendamisel luuakse uus kauguste maatriks;\n",
    "  * Et koodis oleks vähem kordamist, tuleks luua ka funktsioon, mis saab sisendiks kauguste maatriksi ja dokumendi indeksi ning leiab maatriksi põhjal etteantud dokumendile kõige sarnasema dokumendi (indeksi);"
   ]
  },
  {
   "cell_type": "markdown",
   "metadata": {},
   "source": [
    "### Tekstide klasterdamine ja visualiseerimine\n",
    "\n",
    "Kui meil on teada dokumentide sarnasused / kaugused paarikaupa (ning just selline info on meie kauguste maatriksi(te)s), siis võime paarikaupa sarnasuste leidmise ideed üldistada ning otsida sarnasusi suuremate gruppide vahel. **Klasterdamise** eesmärgiks ongi moodustada korpuses olevatest dokumentidest grupid ehk _klastrid_ (sh on lubatud ka ühest dokumendist koosnevad klastrid -- kui mingile dokumendile ei leidugi ühtegi teist sarnast dokumenti).\n",
    "\n",
    "Klasterdamise puhul on üheks keeruliseks küsimuseks, kuhu tõmmata piir sarnaste ja mitte-sarnaste dokumentide vahel. Ehk siis: alates millisest kauguse väärtusest tuleks dokumendid kindlasti paigutada erinevatesse klastritesse. Sellele probleemile võib läheneda erinevalt. Klasterdamise algoritm [_K-Means_](http://scikit-learn.org/stable/modules/clustering.html#k-means) eeldab, et (võimalike) klastrite arv on juba eelnevalt välja selgitatud (nt andmete uurimise teel) ning antakse programmile ette, programmi ülesandeks on seejärel moodustada täpselt etteantud arv klastreid. Algoritm [_DBSCAN_](http://scikit-learn.org/stable/modules/clustering.html#dbscan) nõuab kasutajalt klastrite tihedust kirjeldavate parameetrite määramist (kui suur peab olema sarnaste dokumendite naabruskond ning maksimaalne lubatud kaugus, et võiks moodustada klastri) ning moodustab klastrid ainult (kauguste poolest) tihedalt koos paiknevatest dokumentidest.\n",
    "\n",
    "Praktikas, kui me alles alustame korpuse uurimisega, ei pruugi meil olla selget ülevaadet sellest, kui palju ja milliseid klastreid saab tekstidest moodustada. Seega oleks kõige parem selline lähenemine, mis annab ülevaate võimalikest klastritest, ent ei nõua selget piiride tõmbamist klastrite vahele. Ning sellist lähenemist pakub **hierarhiline klasterdamine**."
   ]
  },
  {
   "cell_type": "markdown",
   "metadata": {},
   "source": [
    "[Hierarhilise klasterdamise](http://scikit-learn.org/stable/modules/clustering.html#hierarchical-clustering) käigus moodustatakse dokumentidest hierarhia (puu-struktuur), mille saab visualiseerida dendrogrammina ning millelt saab välja lugeda infot kõigi dokumentide klastri-kuuluvuse kohta. \n",
    "\n",
    "Käesolevas praktikumis kasutame hierarhiliseks klasterdamiseks teegi `scipy` vahendeid (kui teil on `sklearn` juba installitud, peaks olemas olema ka `scipy`, kuna `sklearn` sõltub sellest).\n",
    "\n",
    "Enne klasterdamist tuleb aga teha veel üks andmeteisendus.\n",
    "Nimelt, kui teegis `sklearn` olid meil kaugused salvestatud 2-mõõtmelisse andmestruktuuri, siis teegis `scipy` hoitakse kauguseid nn tihendatud (ingl _condensed_) maatriksis, mis on 1-mõõtmeline andmestruktuur.\n",
    "Seega `sklearn` kujul maatriks ei sobi ja kaugused tuleb uuesti arvutada, kasutades `scipy` funktsiooni [`pdist`](https://docs.scipy.org/doc/scipy/reference/generated/scipy.spatial.distance.pdist.html):"
   ]
  },
  {
   "cell_type": "code",
   "execution_count": 22,
   "metadata": {},
   "outputs": [],
   "source": [
    "from scipy.spatial.distance import pdist\n",
    "# Arvutame (koosinus)kauguse scipy abil, tulemuseks \"condensed\" kaugusmaatriks\n",
    "condensed_dist_matrix = pdist( matrix.toarray(), 'cosine')"
   ]
  },
  {
   "cell_type": "markdown",
   "metadata": {},
   "source": [
    "Klasterdamist teostab meetod `linkage` ning tulemused tagastatakse nn aheldusmaatriksi kujul:"
   ]
  },
  {
   "cell_type": "code",
   "execution_count": 23,
   "metadata": {},
   "outputs": [],
   "source": [
    "from scipy.cluster.hierarchy import linkage\n",
    "\n",
    "# Teostame klasterdamise, tulemuseks saame nn aheldusmaatriksi\n",
    "linkage_matrix = linkage( condensed_dist_matrix )"
   ]
  },
  {
   "cell_type": "code",
   "execution_count": 24,
   "metadata": {},
   "outputs": [
    {
     "data": {
      "text/plain": [
       "array([[ 2.        ,  4.        ,  0.17921586,  2.        ],\n",
       "       [ 1.        ,  9.        ,  0.18111386,  2.        ],\n",
       "       [ 3.        , 11.        ,  0.20009005,  3.        ],\n",
       "       [ 8.        , 12.        ,  0.20533342,  4.        ],\n",
       "       [10.        , 13.        ,  0.23422336,  6.        ],\n",
       "       [ 0.        , 14.        ,  0.26014779,  7.        ],\n",
       "       [ 6.        , 15.        ,  0.26220467,  8.        ],\n",
       "       [ 7.        , 16.        ,  0.29567633,  9.        ],\n",
       "       [ 5.        , 17.        ,  0.54497077, 10.        ]])"
      ]
     },
     "execution_count": 24,
     "metadata": {},
     "output_type": "execute_result"
    }
   ],
   "source": [
    "linkage_matrix"
   ]
  },
  {
   "cell_type": "markdown",
   "metadata": {},
   "source": [
    "Aheldusmaatriks kirjeldab klasterdamise protsessi samm-sammult. Maatriksi iga rida kirjeldab ühe uue klastri moodustamist: millised elemendid (kauguste-maatriksi indeksid) või äsjamoodustatud klastrid tuleb liita, milline on nende vaheline kaugus ning mitut elementi (algsest kauguste maatriksist) uus klaster hõlmab. Täpse tagastatava struktuuri kirjelduse leiab [siit](https://docs.scipy.org/doc/scipy/reference/generated/scipy.cluster.hierarchy.linkage.html#scipy.cluster.hierarchy.linkage).\n",
    "\n",
    "Klasterdamise tulemust mõjutab üksjagu palju see, mis valemi järgi kahe klastri kaugus leitakse. Võimalusi on mitmeid. Vaikimisi rakendatakse [_'Single-linkage'_](https://en.wikipedia.org/wiki/Single-linkage_clustering) klasterdamist, mille järgi kahe klastri kauguseks on nende elementide vahelistest kaugustest minimaalne. Aga võib valida ka maksimaalse kauguse ( [_'Complete-linkage'_](https://en.wikipedia.org/wiki/Complete-linkage_clustering)), keskmise kauguse jm. Võimalikest kauguse leidmise meetoditest annab ülevaate [funktsiooni `linkage` dokumentatsioon](https://docs.scipy.org/doc/scipy/reference/generated/scipy.cluster.hierarchy.linkage.html#scipy-cluster-hierarchy-linkage)."
   ]
  },
  {
   "cell_type": "markdown",
   "metadata": {},
   "source": [
    "Viimased sammud: loome klasterdamise tulemuste põhjal dendrogrammi ning visualiseerime selle `matplotlib`'i abil."
   ]
  },
  {
   "cell_type": "code",
   "execution_count": 25,
   "metadata": {},
   "outputs": [
    {
     "data": {
      "text/plain": [
       "{'icoord': [[45.0, 45.0, 55.0, 55.0],\n",
       "  [85.0, 85.0, 95.0, 95.0],\n",
       "  [75.0, 75.0, 90.0, 90.0],\n",
       "  [65.0, 65.0, 82.5, 82.5],\n",
       "  [50.0, 50.0, 73.75, 73.75],\n",
       "  [35.0, 35.0, 61.875, 61.875],\n",
       "  [25.0, 25.0, 48.4375, 48.4375],\n",
       "  [15.0, 15.0, 36.71875, 36.71875],\n",
       "  [5.0, 5.0, 25.859375, 25.859375]],\n",
       " 'dcoord': [[0.0, 0.17921585753398128, 0.17921585753398128, 0.0],\n",
       "  [0.0, 0.18111385866160634, 0.18111385866160634, 0.0],\n",
       "  [0.0, 0.20009005034183258, 0.20009005034183258, 0.18111385866160634],\n",
       "  [0.0, 0.20533341604182587, 0.20533341604182587, 0.20009005034183258],\n",
       "  [0.17921585753398128,\n",
       "   0.23422336498961538,\n",
       "   0.23422336498961538,\n",
       "   0.20533341604182587],\n",
       "  [0.0, 0.2601477885337976, 0.2601477885337976, 0.23422336498961538],\n",
       "  [0.0, 0.2622046689204579, 0.2622046689204579, 0.2601477885337976],\n",
       "  [0.0, 0.2956763306119925, 0.2956763306119925, 0.2622046689204579],\n",
       "  [0.0, 0.5449707734094469, 0.5449707734094469, 0.2956763306119925]],\n",
       " 'ivl': ['aja_sloleht_1999_08_13__68.json',\n",
       "  'ettenten_bio_edu_ee__442509.json',\n",
       "  'ettenten_arhiiv_koolielu_ee__470699.json',\n",
       "  'aja_EPL_1999_12_30.json',\n",
       "  'aja_pm_1999_08_13__40.json',\n",
       "  'aja_sloleht_1999_08_13__36.json',\n",
       "  'ettenten_www_kliinik_ee__447481.json',\n",
       "  'aja_pm_1999_08_13__42.json',\n",
       "  'aja_EPL_2001_06_18.tasak.json',\n",
       "  'ettenten_www_poogen_ee__145074.json'],\n",
       " 'leaves': [5, 7, 6, 0, 2, 4, 8, 3, 1, 9],\n",
       " 'color_list': ['C1', 'C1', 'C1', 'C1', 'C1', 'C1', 'C1', 'C1', 'C0'],\n",
       " 'leaves_color_list': ['C0',\n",
       "  'C1',\n",
       "  'C1',\n",
       "  'C1',\n",
       "  'C1',\n",
       "  'C1',\n",
       "  'C1',\n",
       "  'C1',\n",
       "  'C1',\n",
       "  'C1']}"
      ]
     },
     "execution_count": 25,
     "metadata": {},
     "output_type": "execute_result"
    },
    {
     "data": {
      "image/png": "[encoded data removed]",
      "text/plain": [
       "<Figure size 640x480 with 1 Axes>"
      ]
     },
     "metadata": {},
     "output_type": "display_data"
    }
   ],
   "source": [
    "# 1) matplotlib'i joonistuse kuvamine Notebookis kuvada ilma 'show' vms käsuta. \n",
    "#%matplotlib inline\n",
    "\n",
    "# 2) Loome dendrogrammi\n",
    "from scipy.cluster.hierarchy import dendrogram\n",
    "dendrogram(linkage_matrix, orientation=\"right\", labels=filenames)"
   ]
  },
  {
   "cell_type": "markdown",
   "metadata": {},
   "source": [
    "### Ülesanne 3. SL Õhtulehe artiklite \"rubriigistamine\" (2,5 p)\n",
    "\n",
    "Looge programm, mis määrab SL Õhtulehe artiklitele rubriigid sarnaste PM ja EPL artiklite rubriikide alusel. Rubriik tuleb valida 6 normaliseeritud rubriiginime seast ('eesti_uudised', 'välisuudised', 'kultuur', 'arvamused', 'majandus', 'sport'), lisaks võib panna rubriigiks ka 'määramata' -- siis, kui tõenäosus õige rubriik määrata paistab olevat liiga väike.\n",
    "\n",
    "Alustage programmi arendamist ja testimist kataloogi `'2_aja_EPL_pm_sloleht'` artiklite peal. Rubriigi määramiseks rakendage taaskord dokumentide sarnasuse leidmist, aga seekord kasutage vektoriseerijana klassi [TfidfVectorizer](http://scikit-learn.org/stable/modules/generated/sklearn.feature_extraction.text.TfidfVectorizer.html) . \n",
    "\n",
    "TfidfVectorizer kasutab sõnasageduste asemel **TF-IDF-skoori**, mis näitab, kuivõrd iseloomulik on sõna mingile tekstile korpuses. TF (_term frequency_) on sõna esinemissagedus tekstis, IDF (_inverse document frequency_) kajastab seda, kui paljudes korpuse dokumentides see sõna üldse esineb, TF-IDF on nende korrutis (toimeloogika täpsem kirjeldus [siin](http://scikit-learn.org/stable/modules/feature_extraction.html#tfidf-term-weighting)).\n",
    "\n",
    "Eeltöötluse võtted jäävad teie otsustada. Leidke iga SL Õhtulehe artikliga kõige sarnasemad Postimehe ja Eesti Päevalehe artiklid ning otsustage SL Õhtulehe artikli rubriik nende rubriikide põhjal. Milline on rubriigi määramise täpne loogika, jääb teie otsustada; võib nt katsetada [KNN algoritmi](http://www.saedsayad.com/k_nearest_neighbors.htm) tööpõhimõtet, kasutada mingit sarnasuste lävendit, millest väiksema sarnasuse korral jäetakse rubriik määramata, ja/või katsetada mõnd `sklearn`'i [masinõppelähenemist](https://scikit-learn.org/stable/auto_examples/text/plot_document_classification_20newsgroups.html) (aga arvestage, et masinõppe katsetamine võib olla üsna töömahukas ning otseselt seda nõutud ei ole).\n",
    "\n",
    "Kui tunnete, et olete juba piisavalt kataloogi `'2_aja_EPL_pm_sloleht'` SL Õhtulehe artiklitel katsetanud ning paistab, et tulemused on ok, siis suurendage artiklite hulka, lisades sinna kataloogis `'3_aja_sloleht'` olevad artiklid. Pärast artiklite hulga suurendamist enam \"rubriigistamise loogikat\" muuta ei tohi -- meid huvitabki küsimus, kui hästi see loogika toimib ka uutel / tundmatutel andmetel.\n",
    "\n",
    "Programmi väljastab kataloogis `'2_aja_EPL_pm_sloleht'` olevate SL Õhtulehe artiklite rubriigistamise tulemused (artiklipealkirjad + määratud rubriigid) ning samuti `'3_aja_sloleht'` artiklite rubriigistamise tulemused."
   ]
  },
  {
   "cell_type": "markdown",
   "metadata": {},
   "source": [
    "## Teemade modelleerimine\n",
    "\n",
    "Lisaks klasterdamisalgoritmidele on dokumentide liigitamisel laialdaselt kasutusel **teemade modelleerimise** (*topic modeling*) algoritmid, neist enim kasutatud on [LDA](https://en.wikipedia.org/wiki/Latent_Dirichlet_allocation).  Teemade modelleerimise eesmärk on anda ülevaade dokumentidest, et lugejal oleks võimalik ilma kõiki dokumente läbi lugemata saada aru, millest kirjutatakse. \n",
    "\n",
    "Teemade modelleerimine põhineb eeldusel, et **erinevatest teemadest kirjutades kasutatakse mingil määral erinevaid sõnu**. Nagu klasterdamine, on ka teemade modelleerimine juhendamata masinõppe valdkonda kuuluv ülesanne ehk me ei vaja märgendatud treeningkorpust. Teemade modelleerimise puhul leitakse aga korpusest esmalt seal esinevad teemad ehk sõnade tõenäosuslik jaotumine: iga teema puhul on erinevatel sõnadel erinev esinemise tõenäosus. \n",
    "\n",
    "Kui teemad on leitud, võime soovi korral ka leida, milline sõnade tõenäosuslik jaotus kirjeldab mingit dokumenti kõige paremini ehk saame selle põhjal dokumente liigitada. "
   ]
  },
  {
   "cell_type": "markdown",
   "metadata": {},
   "source": [
    "Et asjast paremini aru saada, teeme katset pisikese näidiskorpusega. Teemade modelleerimiseks kasutame [gensim](https://radimrehurek.com/gensim/index.html) teeki, mille 7. praktikumis juba installisime word2vec mudeli treenimiseks. "
   ]
  },
  {
   "cell_type": "markdown",
   "metadata": {},
   "source": [
    "Loome kõigepealt omale hästi naiivse näitekorpuse, kus sisalduvad tekstid (siinkohal ühelauselised) kahel eri teemal, milles kasutatav sõnavara ka selgelt erineb:"
   ]
  },
  {
   "cell_type": "code",
   "execution_count": 26,
   "metadata": {},
   "outputs": [],
   "source": [
    "texts = ['Teemade modelleerimine põhineb eeldusel, et erinevatest teemadest kirjutades kasutatakse mingil määral erinevaid sõnu.',\n",
    "         'Nagu klasterdamine, on ka teemade modelleerimine juhendamata masinõppe valdkonda kuuluv ülesanne ehk me ei vaja märgendatud treeningkorpust.',\n",
    "         'Teemade modelleerimise puhul leitakse aga korpusest esmalt seal esinevad teemad ehk sõnade tõenäosuslik jaotumine: iga teema puhul on erinevatel sõnadel erinev esinemise tõenäosus.',\n",
    "         'Makaronivorm tähendab ahjuvormi makaronidest.',\n",
    "         'Makaronivorm küpsetatakse ahjus ahjuvormi sees.',\n",
    "         'Makaronivormi põhilised koostisosad lisaks makaronidele on muna ja piima segu, maitseained ning juust katteks.']"
   ]
  },
  {
   "cell_type": "markdown",
   "metadata": {},
   "source": [
    "Loome korpusest maatriksi nagu enne ajakirjandustekstidestki: kasutame ```CounteVectorizerit``` ning tokeniseerime teksti eelnevalt defineeritud ```tokenize_with_estnltk``` meetodiga."
   ]
  },
  {
   "cell_type": "code",
   "execution_count": 27,
   "metadata": {},
   "outputs": [],
   "source": [
    "vectorizer = CountVectorizer(tokenizer = tokenize_with_estnltk, token_pattern=None)\n",
    "matrix = vectorizer.fit_transform(texts)"
   ]
  },
  {
   "cell_type": "code",
   "execution_count": 28,
   "metadata": {},
   "outputs": [
    {
     "data": {
      "text/plain": [
       "<6x70 sparse matrix of type '<class 'numpy.int64'>'\n",
       "\twith 85 stored elements in Compressed Sparse Row format>"
      ]
     },
     "execution_count": 28,
     "metadata": {},
     "output_type": "execute_result"
    }
   ],
   "source": [
    "matrix"
   ]
  },
  {
   "cell_type": "markdown",
   "metadata": {},
   "source": [
    "Edasi impordime *gensimist* ```LdaModel```'i, mis on vajalik mudeli treenimiseks. Samuti on meil vaja ```Sparse2Corpus``` meetodit, mille abil oma hõre maatriks teisendada ```LdaModel```'ile sobivale kujule:"
   ]
  },
  {
   "cell_type": "code",
   "execution_count": 29,
   "metadata": {},
   "outputs": [],
   "source": [
    "from gensim.models.ldamulticore import LdaModel\n",
    "from gensim.matutils import Sparse2Corpus"
   ]
  },
  {
   "cell_type": "code",
   "execution_count": 30,
   "metadata": {},
   "outputs": [],
   "source": [
    "corpus = Sparse2Corpus(matrix, documents_columns = False)"
   ]
  },
  {
   "cell_type": "markdown",
   "metadata": {},
   "source": [
    "Samuti vajame teemade mudeli treenimiseks sõnastiku kujul id->sõna _mapping_'ut. Selleks leiame vektoriseerijast sõnavara ning loome selle põhjal sõnastiku, kus võtmeteks on indeksid ja väärtusteks sõnad:"
   ]
  },
  {
   "cell_type": "code",
   "execution_count": 31,
   "metadata": {},
   "outputs": [],
   "source": [
    "vocab = np.array(vectorizer.get_feature_names_out())\n",
    "\n",
    "id2word = {}\n",
    "for idx, i in enumerate(vocab):\n",
    "    id2word[idx] = i"
   ]
  },
  {
   "cell_type": "markdown",
   "metadata": {},
   "source": [
    "Ja nüüd saamegi asuda mudeli treenimise juurde. Treenimiseks peame ette andma korpuse, teemade arvu ning id2word _mapping_'u. Teemade arv on vabalt valitav. Kuna praegusel juhul me teame, et neid on 2, siis võimegi selle valida, üldjuhul vajab see aga katsetamist, et näha, mis paistab optimaalne (ja loomulikult sõltub korpuse suurusest ja tekstide arvust - 6 lausest 60 teemat otsida ei ole mõtet, aga kui korpus on suur, siis ei ole 60 teemat midagi ulmelist). Alati tasub lähtuda muidugi oma eesmärkidest - teemade tõlgendamine jääb siin kasutaja teha ning suure teemade arvu korral on seda raske teha (samas võib liikuda edasi klasterdamisalgoritmide juurde, mis ka leitud teemasid grupeerida aitaks). "
   ]
  },
  {
   "cell_type": "code",
   "execution_count": 32,
   "metadata": {},
   "outputs": [
    {
     "name": "stdout",
     "output_type": "stream",
     "text": [
      "INFO:ldamodel.py:577: using symmetric alpha at 0.5\n",
      "INFO:ldamodel.py:577: using symmetric eta at 0.5\n",
      "INFO:ldamodel.py:482: using serial LDA version on this node\n",
      "INFO:ldamodel.py:948: running online (single-pass) LDA training, 2 topics, 1 passes over the supplied corpus of 6 documents, updating model once every 6 documents, evaluating perplexity every 6 documents, iterating 50x with a convergence threshold of 0.001000\n",
      "WARNING:ldamodel.py:959: too few updates, training might not converge; consider increasing the number of passes or iterations to improve accuracy\n",
      "INFO:ldamodel.py:848: -5.172 per-word bound, 36.1 perplexity estimate based on a held-out corpus of 6 documents with 86 words\n",
      "INFO:ldamodel.py:1002: PROGRESS: pass 0, at document #6/6\n",
      "INFO:ldamodel.py:1197: topic #0 (0.500): 0.053*\".\" + 0.030*\",\" + 0.026*\"makaronivorm\" + 0.025*\"ahjuvormi\" + 0.025*\"on\" + 0.021*\"teemade\" + 0.018*\"sees\" + 0.018*\"ahjus\" + 0.018*\"küpsetatakse\" + 0.018*\"ning\"\n",
      "INFO:ldamodel.py:1197: topic #1 (0.500): 0.037*\".\" + 0.030*\"teemade\" + 0.029*\"puhul\" + 0.027*\"on\" + 0.023*\"ehk\" + 0.021*\",\" + 0.020*\"modelleerimine\" + 0.018*\"iga\" + 0.018*\"teemad\" + 0.018*\"esmalt\"\n",
      "INFO:ldamodel.py:1075: topic diff=0.549679, rho=1.000000\n",
      "INFO:utils.py:448: LdaModel lifecycle event {'msg': 'trained LdaModel<num_terms=70, num_topics=2, decay=0.5, chunksize=2000> in 0.01s', 'datetime': '2023-11-23T11:50:43.480639', 'gensim': '4.3.2', 'python': '3.9.17 (main, Jul  5 2023, 20:47:11) [MSC v.1916 64 bit (AMD64)]', 'platform': 'Windows-10-10.0.22621-SP0', 'event': 'created'}\n"
     ]
    }
   ],
   "source": [
    "lda = LdaModel(corpus, num_topics=2, id2word=id2word)"
   ]
  },
  {
   "cell_type": "markdown",
   "metadata": {},
   "source": [
    "Kui mudel on treenitud, saame vaadata, missugused teemad moodustusid. Nagu öeldud, teema moodustab sõnade tõenäosuslik jaotus, seega näidatakse meile sõnu ja nende tõenäosusi. Kuna meil oli ainult 2 teemat, siis ütleme, et soovime neid mõlemat näha ning kummastki 10 esimest sõna:"
   ]
  },
  {
   "cell_type": "code",
   "execution_count": 33,
   "metadata": {},
   "outputs": [
    {
     "data": {
      "text/plain": [
       "[(0,\n",
       "  '0.053*\".\" + 0.030*\",\" + 0.026*\"makaronivorm\" + 0.025*\"ahjuvormi\" + 0.025*\"on\" + 0.021*\"teemade\" + 0.018*\"sees\" + 0.018*\"ahjus\" + 0.018*\"küpsetatakse\" + 0.018*\"ning\"'),\n",
       " (1,\n",
       "  '0.037*\".\" + 0.030*\"teemade\" + 0.029*\"puhul\" + 0.027*\"on\" + 0.023*\"ehk\" + 0.021*\",\" + 0.020*\"modelleerimine\" + 0.018*\"iga\" + 0.018*\"teemad\" + 0.018*\"esmalt\"')]"
      ]
     },
     "execution_count": 33,
     "metadata": {},
     "output_type": "execute_result"
    }
   ],
   "source": [
    "lda.show_topics(2, 10)"
   ]
  },
  {
   "cell_type": "markdown",
   "metadata": {},
   "source": [
    "Näeme, et teemade esimesteks ehk n-ö kõige iseloomulikumateks \"sõnadeks\" on praegu mh kirjavahemärgid. Samuti korduvad esimesena paiknevad sõnad mõlemas teemas. See on selge vihje, et ühest küljest on meie korpus kaugelt liiga väike selle meetodi kasutamiseks, teisest küljest on meil tegemata eeltöötlus - teemasid modelleerides on üldiselt vaja välja visata n-ö stoppsõnad (keeles sageli esinevad sõnad, millel tähendust vähe, sh kirjavahemärgid, sidesõnad jne). Seda saab näiteks teha, andes ```CountVectorizer```'ile ette loendi stoppsõnadest parameetrina *stop_words*. Samuti on mõistlik oma tekst lemmatiseerida."
   ]
  },
  {
   "cell_type": "markdown",
   "metadata": {},
   "source": [
    "Kui oleme teemad leidnud, saame küsida ka, millised tekstid kuuluvad millise teema alla. Selleks leiame kõigi tekstide skoorid erinevate teemade alla kuulumiseks:"
   ]
  },
  {
   "cell_type": "code",
   "execution_count": 34,
   "metadata": {},
   "outputs": [],
   "source": [
    "assignments = lda.inference(corpus)"
   ]
  },
  {
   "cell_type": "markdown",
   "metadata": {},
   "source": [
    "Saime tuple'i, mille esimene liige on numpy array, milles igal real on ühe teksti skoorid. Leiame neist suurimad, et saada teada, millise teema alla mingi tekst mudeli meelest kõige suurema tõenäosusega kuulub:"
   ]
  },
  {
   "cell_type": "code",
   "execution_count": 35,
   "metadata": {},
   "outputs": [],
   "source": [
    "# argmax() leiab suurima väärtusega elemendi indeksi ning axis = 1 täpsustab, et vaatame rea kaupa\n",
    "most_likely_labels = assignments[0].argmax(axis=1)"
   ]
  },
  {
   "cell_type": "code",
   "execution_count": 36,
   "metadata": {},
   "outputs": [
    {
     "data": {
      "text/plain": [
       "array([1, 0, 1, 0, 0, 0], dtype=int64)"
      ]
     },
     "execution_count": 36,
     "metadata": {},
     "output_type": "execute_result"
    }
   ],
   "source": [
    "most_likely_labels"
   ]
  },
  {
   "cell_type": "markdown",
   "metadata": {},
   "source": [
    "Saadud 0-d ja 1-d tähistavad, kumma teema alla vastava indeksiga tekst kuulub praeguse mudeli järgi. \n",
    "\n",
    "Kuna meie korpus on väike ja eeltöötlemata ehk enamik sõnu esineb ühe korra ning mudeli algväärtustamine juhuslik, siis erinevatel jooksutamistel saame erinevaid tulemusi. Päris andmetega töötades see nii olla ei tohiks ja mudel peaks end ära stabiliseerima ka vaikeparameetritega. Kui see nii ei ole, siis saab vajadusel suurendada seda, mitu korda korpust läbi käiakse ja teemasid üle arvutatakse, enne kui mudeli treenimine lõppeb. Selle kohta leiab soovi korral rohkem infot [siit](https://radimrehurek.com/gensim/models/ldamodel.html). "
   ]
  },
  {
   "cell_type": "markdown",
   "metadata": {},
   "source": [
    "### Ülesanne 4. Teemad Eesti uudistes (1,75 p)\n",
    "\n",
    "Looge teemade mudel Eesti uudistele. Selleks kasutage kataloogist '2_aja_EPL_pm_sloleht' uudiseid, mille rubriigiks on märgitud \"eesti_uudised\". \n",
    "* Tehke uudistele eeltöötlus, mille käigus need lemmatiseeritakse ning eemaldatakse stoppsõnad. Stoppsõnade seas peaksid kindlasti olema ka kirjavahemärgid.\n",
    "* Vektoriseerijana kasutage ```CountVectorizer```'it. Kuna LDA mudel vajab sisendina sõnade esinemissagedusi korpuse tekstides, siis ```TfidfVectorizer``` ei sobi.\n",
    "* Katsetades erinevate teemade arvudega, leidke enda meelest optimaalne. \n",
    "* Leidke ka iga teema alla kuuluvad uudised ning väljastage ekraanile nende algus (nt 200 tähemärki).\n",
    "* Soovi korral võite proovida ka näiteks ainult mingite sõnaliikide peal mudelit treenida."
   ]
  },
  {
   "cell_type": "markdown",
   "metadata": {},
   "source": [
    "### Veel TF-IDF-ist"
   ]
  },
  {
   "cell_type": "markdown",
   "metadata": {},
   "source": [
    "Lugedes ülesande 3 juurest TF-IDF-skoori kirjeldust, võis tekkida ülesandes 4 kiusatus kasutada TfidfVectorizerit, kuna teemade väljaselgitamiseks oleks ju tore arvestada just sellele tekstile iseloomulikke sõnu. LDA toimib aga sõnasageduste pealt, seega tuleks sel juhul kasutada mõnda teist teemade modelleerimise algoritmi. \n",
    "\n",
    "See ei tähenda aga, et me ei võiks TF-IDFi sellegipoolest oma tekstide uurimiseks kasutada, kui me juhtumisi juba teame tekstide liigitust, ent tahaks teada, mille poolest liigid üksteisest erinevad. Võtame selleks eelnevas näites kasutatud korpuse, ent jagame tekstid vastavalt liiki kuuluvusele kaheks:"
   ]
  },
  {
   "cell_type": "code",
   "execution_count": 37,
   "metadata": {},
   "outputs": [],
   "source": [
    "type1 = ' '.join(texts[:3])\n",
    "type2 = ' '.join(texts[3:])"
   ]
  },
  {
   "cell_type": "code",
   "execution_count": 38,
   "metadata": {},
   "outputs": [],
   "source": [
    "corpus = [type1, type2]"
   ]
  },
  {
   "cell_type": "code",
   "execution_count": 39,
   "metadata": {},
   "outputs": [
    {
     "data": {
      "text/plain": [
       "['Teemade modelleerimine põhineb eeldusel, et erinevatest teemadest kirjutades kasutatakse mingil määral erinevaid sõnu. Nagu klasterdamine, on ka teemade modelleerimine juhendamata masinõppe valdkonda kuuluv ülesanne ehk me ei vaja märgendatud treeningkorpust. Teemade modelleerimise puhul leitakse aga korpusest esmalt seal esinevad teemad ehk sõnade tõenäosuslik jaotumine: iga teema puhul on erinevatel sõnadel erinev esinemise tõenäosus.',\n",
       " 'Makaronivorm tähendab ahjuvormi makaronidest. Makaronivorm küpsetatakse ahjus ahjuvormi sees. Makaronivormi põhilised koostisosad lisaks makaronidele on muna ja piima segu, maitseained ning juust katteks.']"
      ]
     },
     "execution_count": 39,
     "metadata": {},
     "output_type": "execute_result"
    }
   ],
   "source": [
    "corpus"
   ]
  },
  {
   "cell_type": "markdown",
   "metadata": {},
   "source": [
    "Loome TfIdf-vektoriseerija ja maatriksi ning salvestame sõnavara:"
   ]
  },
  {
   "cell_type": "code",
   "execution_count": 40,
   "metadata": {},
   "outputs": [],
   "source": [
    "from sklearn.feature_extraction.text import TfidfVectorizer\n",
    "vectorizer = TfidfVectorizer(tokenizer = tokenize_with_estnltk, token_pattern=None)\n",
    "matrix = vectorizer.fit_transform(corpus)\n",
    "vocab = np.array(vectorizer.get_feature_names_out())"
   ]
  },
  {
   "cell_type": "markdown",
   "metadata": {},
   "source": [
    "Saadud maatriksis on kõigi sõnade Tf-Idf skoorid meie mõlemas tekstis. Suurimate skooridega sõnad on kummagi vastava teksti jaoks kõige iseloomulikumad. Et maatriksit vaadata, tekitame temast tiheda maatriksi:"
   ]
  },
  {
   "cell_type": "code",
   "execution_count": 41,
   "metadata": {},
   "outputs": [
    {
     "data": {
      "text/plain": [
       "matrix([[0.1670026 , 0.2505039 , 0.11735816, 0.11735816, 0.        ,\n",
       "         0.        , 0.11735816, 0.23471633, 0.11735816, 0.11735816,\n",
       "         0.11735816, 0.11735816, 0.11735816, 0.11735816, 0.11735816,\n",
       "         0.11735816, 0.11735816, 0.11735816, 0.        , 0.11735816,\n",
       "         0.11735816, 0.        , 0.11735816, 0.11735816, 0.        ,\n",
       "         0.11735816, 0.11735816, 0.        , 0.11735816, 0.11735816,\n",
       "         0.        , 0.11735816, 0.        , 0.        , 0.        ,\n",
       "         0.        , 0.        , 0.        , 0.11735816, 0.11735816,\n",
       "         0.11735816, 0.23471633, 0.11735816, 0.        , 0.11735816,\n",
       "         0.11735816, 0.11735816, 0.        , 0.1670026 , 0.        ,\n",
       "         0.23471633, 0.        , 0.11735816, 0.11735816, 0.        ,\n",
       "         0.        , 0.11735816, 0.11735816, 0.11735816, 0.11735816,\n",
       "         0.11735816, 0.35207449, 0.11735816, 0.11735816, 0.        ,\n",
       "         0.11735816, 0.11735816, 0.11735816, 0.11735816, 0.11735816],\n",
       "        [0.1266344 , 0.3799032 , 0.        , 0.        , 0.17798023,\n",
       "         0.35596046, 0.        , 0.        , 0.        , 0.        ,\n",
       "         0.        , 0.        , 0.        , 0.        , 0.        ,\n",
       "         0.        , 0.        , 0.        , 0.17798023, 0.        ,\n",
       "         0.        , 0.17798023, 0.        , 0.        , 0.17798023,\n",
       "         0.        , 0.        , 0.17798023, 0.        , 0.        ,\n",
       "         0.17798023, 0.        , 0.17798023, 0.17798023, 0.17798023,\n",
       "         0.17798023, 0.35596046, 0.17798023, 0.        , 0.        ,\n",
       "         0.        , 0.        , 0.        , 0.17798023, 0.        ,\n",
       "         0.        , 0.        , 0.17798023, 0.1266344 , 0.17798023,\n",
       "         0.        , 0.17798023, 0.        , 0.        , 0.17798023,\n",
       "         0.17798023, 0.        , 0.        , 0.        , 0.        ,\n",
       "         0.        , 0.        , 0.        , 0.        , 0.17798023,\n",
       "         0.        , 0.        , 0.        , 0.        , 0.        ]])"
      ]
     },
     "execution_count": 41,
     "metadata": {},
     "output_type": "execute_result"
    }
   ],
   "source": [
    "dense_matrix = matrix.todense()\n",
    "dense_matrix"
   ]
  },
  {
   "cell_type": "markdown",
   "metadata": {},
   "source": [
    "Et teada saada, millised sõnad kõige suurematele väärtustele maatriksis vastavad, loome muutuja *sorted_scores*, kus maatriksi indeksid on sorteeritud vastavalt nende väärtustele, ning teeme selle listiks. "
   ]
  },
  {
   "cell_type": "code",
   "execution_count": 42,
   "metadata": {},
   "outputs": [
    {
     "data": {
      "text/plain": [
       "[[34,\n",
       "  35,\n",
       "  33,\n",
       "  32,\n",
       "  30,\n",
       "  43,\n",
       "  27,\n",
       "  24,\n",
       "  47,\n",
       "  21,\n",
       "  49,\n",
       "  51,\n",
       "  36,\n",
       "  54,\n",
       "  18,\n",
       "  37,\n",
       "  4,\n",
       "  5,\n",
       "  64,\n",
       "  55,\n",
       "  67,\n",
       "  39,\n",
       "  66,\n",
       "  65,\n",
       "  40,\n",
       "  42,\n",
       "  56,\n",
       "  63,\n",
       "  46,\n",
       "  62,\n",
       "  60,\n",
       "  59,\n",
       "  58,\n",
       "  57,\n",
       "  52,\n",
       "  53,\n",
       "  45,\n",
       "  44,\n",
       "  69,\n",
       "  68,\n",
       "  2,\n",
       "  3,\n",
       "  6,\n",
       "  8,\n",
       "  9,\n",
       "  10,\n",
       "  11,\n",
       "  12,\n",
       "  13,\n",
       "  14,\n",
       "  38,\n",
       "  16,\n",
       "  15,\n",
       "  19,\n",
       "  31,\n",
       "  20,\n",
       "  29,\n",
       "  22,\n",
       "  23,\n",
       "  25,\n",
       "  26,\n",
       "  17,\n",
       "  28,\n",
       "  0,\n",
       "  48,\n",
       "  41,\n",
       "  50,\n",
       "  7,\n",
       "  1,\n",
       "  61],\n",
       " [69,\n",
       "  26,\n",
       "  60,\n",
       "  28,\n",
       "  29,\n",
       "  59,\n",
       "  31,\n",
       "  58,\n",
       "  57,\n",
       "  68,\n",
       "  25,\n",
       "  56,\n",
       "  52,\n",
       "  38,\n",
       "  39,\n",
       "  40,\n",
       "  41,\n",
       "  42,\n",
       "  50,\n",
       "  44,\n",
       "  45,\n",
       "  53,\n",
       "  61,\n",
       "  23,\n",
       "  22,\n",
       "  67,\n",
       "  2,\n",
       "  3,\n",
       "  66,\n",
       "  65,\n",
       "  6,\n",
       "  7,\n",
       "  8,\n",
       "  9,\n",
       "  10,\n",
       "  11,\n",
       "  12,\n",
       "  13,\n",
       "  14,\n",
       "  15,\n",
       "  16,\n",
       "  17,\n",
       "  63,\n",
       "  19,\n",
       "  20,\n",
       "  62,\n",
       "  46,\n",
       "  48,\n",
       "  0,\n",
       "  49,\n",
       "  4,\n",
       "  64,\n",
       "  18,\n",
       "  21,\n",
       "  24,\n",
       "  27,\n",
       "  47,\n",
       "  32,\n",
       "  30,\n",
       "  35,\n",
       "  55,\n",
       "  54,\n",
       "  37,\n",
       "  51,\n",
       "  43,\n",
       "  33,\n",
       "  34,\n",
       "  36,\n",
       "  5,\n",
       "  1]]"
      ]
     },
     "execution_count": 42,
     "metadata": {},
     "output_type": "execute_result"
    }
   ],
   "source": [
    "sorted_scores = dense_matrix.argsort(axis = 1).tolist()\n",
    "sorted_scores"
   ]
  },
  {
   "cell_type": "markdown",
   "metadata": {},
   "source": [
    "Nüüd saamegi leida kummalegi tekstile kõige iseloomulikumad sõnad:"
   ]
  },
  {
   "cell_type": "code",
   "execution_count": 43,
   "metadata": {},
   "outputs": [
    {
     "name": "stdout",
     "output_type": "stream",
     "text": [
      "Teksti  1  kõige enam teis(t)est eristavad sõnad on : \n",
      "\n",
      "teemade\n",
      ".\n",
      "ehk\n",
      "puhul\n",
      "modelleerimine\n",
      "on\n",
      ",\n",
      "korpusest\n",
      "iga\n",
      "klasterdamine\n",
      "\n",
      "----------\n",
      "\n",
      "Teksti  2  kõige enam teis(t)est eristavad sõnad on : \n",
      "\n",
      ".\n",
      "ahjuvormi\n",
      "makaronivorm\n",
      "makaronidele\n",
      "maitseained\n",
      "muna\n",
      "põhilised\n",
      "makaronivormi\n",
      "sees\n",
      "segu\n",
      "\n",
      "----------\n",
      "\n"
     ]
    }
   ],
   "source": [
    "for idx, scores in enumerate(sorted_scores):\n",
    "    print('Teksti ', str(idx+1), ' kõige enam teis(t)est eristavad sõnad on : ' )\n",
    "    print()\n",
    "    # Leiame 10 viimase ehk kõige iseloomulikuma sõna indeksit ning pöörame nad ümber,\n",
    "    # et 1. kohal oleks kõige iseloomulikum\n",
    "    max_values = scores[-10:][::-1]\n",
    "    \n",
    "    # Prindime vastavate indeksitega sõnad\n",
    "    for i in max_values:\n",
    "        print(vocab[i])\n",
    "    print()    \n",
    "    print('----------') \n",
    "    print()"
   ]
  },
  {
   "cell_type": "markdown",
   "metadata": {},
   "source": [
    "Loomulikult oleks siingi abi lemmatiseerimisest. "
   ]
  },
  {
   "cell_type": "markdown",
   "metadata": {},
   "source": [
    "---"
   ]
  },
  {
   "cell_type": "markdown",
   "metadata": {},
   "source": [
    "## Lisamaterjal (vabatahtlik). Optiline tekstituvastus\n",
    "\n",
    "Optiline tekstituvastus ehk OCR (_Optical Character Recognition_) tegeleb piltide pealt teksti tuvastamise ja masinloetavale kujule viimisega. Näiteks võimaldab see analüüsida digiteeritud kujul vanu ürikuid ja ajalehti ning muuta nendel olev tekst märksõnade kaudu otsitavaks. Siiski on raske leida tekstituvastussüsteemi, mis töötaks ühtviisi hästi igat liiki tekstidel. Tüüpiliselt vajab süsteem spetsiaalset kohandamist: nii konkreetsele keelele kui ka analüüsitavatele kirjašriftidele. Tegemist on keeruka protsessiga ning selleks vajaminevad teadmised ja oskused ei mahu käesoleva aine raamesse. Siiski on Pythonis olemas ka teegid, mis võimaldavad ilma suurema *know-how*'ta lihtsamaid probleeme lahendada. Head tagasisidet on saanud näiteks [PyTesseract](https://pypi.python.org/pypi/pytesseract), mis on Pythoni *wrapper* Google'i *Tesseract-OCR* API-le. Käesolevas praktikumis katsetamegi _PyTesseract_-i."
   ]
  },
  {
   "cell_type": "markdown",
   "metadata": {},
   "source": [
    "1) Installige Google'i [Tesseract-OCR](https://tesseract-ocr.github.io/tessdoc/Installation.html); Windows'i installeriga installides pakutakse teile installitavate komponentide valikut: valige kindlasti keelte seast _\"Estonian\"_, lisakatsetamiseks on soovitav võtta ka _\"Finnish\"_;\n",
    "\n",
    "2) Installige käsurealt [PyTesseract](https://pypi.python.org/pypi/pytesseract):\n",
    "\n",
    "       pip install pytesseract\n",
    "\n",
    "3) Katsetage järgmisi koodilõike (loodud [selle kasutusnäite](https://pypi.python.org/pypi/pytesseract) eeskujul):"
   ]
  },
  {
   "cell_type": "code",
   "execution_count": 44,
   "metadata": {},
   "outputs": [],
   "source": [
    "try:\n",
    "    import Image\n",
    "except ImportError:\n",
    "    from PIL import Image\n",
    "import pytesseract\n",
    "\n",
    "#pytesseract.pytesseract.tesseract_cmd = '<full_path_to_your_tesseract_executable>'\n",
    "#pytesseract.pytesseract.tesseract_cmd = 'C:\\\\Program Files\\\\Tesseract-OCR\\\\tesseract'"
   ]
  },
  {
   "cell_type": "markdown",
   "metadata": {},
   "source": [
    "**test-ocr-pm-1.png**\n",
    "<img src=\"test-ocr-pm-1.png\">"
   ]
  },
  {
   "cell_type": "code",
   "execution_count": 45,
   "metadata": {},
   "outputs": [
    {
     "name": "stdout",
     "output_type": "stream",
     "text": [
      " \n",
      "\n",
      "Võõra auto tõstuki\n",
      "otsa tõstnud Lembit\n",
      "selgitab: kõik sai alguse\n",
      "meie ettevõtte autode\n",
      "süütamisest\n",
      "\f",
      "\n"
     ]
    }
   ],
   "source": [
    "print(pytesseract.image_to_string(Image.open('test-ocr-pm-1.png'), lang='est'))"
   ]
  },
  {
   "cell_type": "markdown",
   "metadata": {},
   "source": [
    "**test-ocr-kinematografistid-1.png**\n",
    "<img src=\"test-ocr-kinematografistid-1.png\">"
   ]
  },
  {
   "cell_type": "code",
   "execution_count": 46,
   "metadata": {},
   "outputs": [
    {
     "name": "stdout",
     "output_type": "stream",
     "text": [
      "Esimeselt üleliiduliselt noor-\n",
      "te kinematografistide tööde\n",
      "ülevaatuselt Kiievis tuli eesti\n",
      "noor filmiloojate põlvkond ta-\n",
      "gasi kolme auhinnaga. Diplo-\n",
      "mi parima = täismetraažilise\n",
      "mängufilmi eest sai 0. Neu-\n",
      "land filmiga «Tuulte pesa».\n",
      "\f",
      "\n"
     ]
    }
   ],
   "source": [
    "print(pytesseract.image_to_string(Image.open('test-ocr-kinematografistid-1.png'), lang='est'))"
   ]
  },
  {
   "cell_type": "code",
   "execution_count": 47,
   "metadata": {},
   "outputs": [
    {
     "name": "stdout",
     "output_type": "stream",
     "text": [
      "Esimeselt äleliiduliselt noor-\n",
      "te kinematografistide tööde\n",
      "lilevaatuselt Kiievis tuli eesti\n",
      "noor filmiloojate pölvkond ta-\n",
      "gasi kolme auhinnaga. Diplo-\n",
      "mi parima täismetraaZilise\n",
      "mängufilmi eest sai O. Neu-\n",
      "land filmiga <«Tuulte pesa».\n",
      "\f",
      "\n"
     ]
    }
   ],
   "source": [
    "print(pytesseract.image_to_string(Image.open('test-ocr-kinematografistid-1.png'), lang='fin'))"
   ]
  },
  {
   "cell_type": "markdown",
   "metadata": {},
   "source": [
    "### Boonusülesanne. OCR-i katsetamine (1.25p)\n",
    "\n",
    "Otsige mingi pildi kujul tekst mõnest digiteeritud vanast ajalehest või ajakirjast (üks võimalus on pilt otsida nt http://www.digar.ee andmebaasist).\n",
    "Katsetage sellel *PyTesseract*'i teegi tekstituvastust. Et tuvastamine maksimaalselt õnnestuks, tasuks valida pilt, millel on valge taust ning tekst on otse. Samuti peaks kirjašrift olema võimalikult sarnane tänapäevastele ajalehešriftidele -- gooti kirja tuvastamine teil tõenäoliselt ei õnnestu. Lahendusena esitage kood, pilt *Notebook*'is ning pildilt tuvastatud tekst. "
   ]
  },
  {
   "cell_type": "markdown",
   "metadata": {},
   "source": [
    "---"
   ]
  },
  {
   "cell_type": "markdown",
   "metadata": {},
   "source": [
    "#### Märkus\n",
    "\n",
    "Käesoleva praktikumi materjalide loomisel on osaliselt tuginetud veebikursuse _'Text Analysis with Topic Models for the Humanities and Social Sciences'_ materjalidele, mis on saadaval leheküljel: https://github.com/DARIAH-DE/tatom/blob/develop/source/working_with_text.rst ."
   ]
  }
 ],
 "metadata": {
  "anaconda-cloud": {},
  "kernelspec": {
   "display_name": "Python 3 (ipykernel)",
   "language": "python",
   "name": "python3"
  },
  "language_info": {
   "codemirror_mode": {
    "name": "ipython",
    "version": 3
   },
   "file_extension": ".py",
   "mimetype": "text/x-python",
   "name": "python",
   "nbconvert_exporter": "python",
   "pygments_lexer": "ipython3",
   "version": "3.9.17"
  }
 },
 "nbformat": 4,
 "nbformat_minor": 4
}
