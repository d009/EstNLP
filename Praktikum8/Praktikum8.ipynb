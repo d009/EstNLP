{
 "cells": [
  {
   "cell_type": "markdown",
   "metadata": {},
   "source": [
    "<h1 style=\"color:blue\">Praktikum 8. </h1>"
   ]
  },
  {
   "cell_type": "markdown",
   "metadata": {},
   "source": [
    "<h3 style=\"color:blue\">Wordnet. Heatmap'i loomine. Word2vec. Pdf-i lugemine Pythonis.</h3>"
   ]
  },
  {
   "cell_type": "markdown",
   "metadata": {},
   "source": [
    "#### 27. oktoober 2017\n",
    "\n",
    "#### Ülesannete esitamise tähtaeg 5. november 2017 23:55"
   ]
  },
  {
   "cell_type": "markdown",
   "metadata": {},
   "source": [
    "## Wordnet"
   ]
  },
  {
   "cell_type": "markdown",
   "metadata": {},
   "source": [
    "### Sünohulgad"
   ]
  },
  {
   "cell_type": "markdown",
   "metadata": {},
   "source": [
    "**Wordnet** on leksikaal-semantiline andmebaas, mis sisaldab informatsiooni mõistete ja nendevaheliste semantiliste suhete kohta. Rohkem infot leiab [siit](http://www.cl.ut.ee/ressursid/teksaurus/?lang=et), muuhulgas on seal toodud kaks viidet, kuidas Wordnetist päringuid teha saab. Praktikumis käsitleme aga Wordneti Pythoni liidest, mille eeliseks on loomulikult kasutatavus oma programmikoodi sees. Dokumentatsioon on saadaval [siin](https://estnltk.github.io/estnltk/1.4.1/tutorials/text.html#estonian-wordnet).\n",
    "\n",
    "Wordneti põhiühik on **sünonüümihulk** (ka **sünohulk**), mis koosneb kõigist ühte ja sama mõistet väljendavatest sõnadest (või sõnaühenditest). Sünohulgad on ühendatud **viidetega**, mis vastavad mõistetevahelistele **suhetele**. Kõige olulisemad (ehk Wordnetis kõige enam esindatud) suhted on **hüponüümia** ja **hüperonüümia** ehk alam- ja ülemmõisted. "
   ]
  },
  {
   "cell_type": "markdown",
   "metadata": {},
   "source": [
    "Wordneti kasutamiseks tuleb importida vastav moodul:"
   ]
  },
  {
   "cell_type": "code",
   "execution_count": 1,
   "metadata": {
    "collapsed": true
   },
   "outputs": [],
   "source": [
    "from estnltk.wordnet import wn"
   ]
  },
  {
   "cell_type": "markdown",
   "metadata": {},
   "source": [
    "Enne ulatuslikumaid Wordneti päringuid (mida ülesannete lahendamisel ette tuleb), tasub pärida Wordnetist kõik sünohulgad. See võtab mõne minuti aega, aga pärast toimivad Wordneti päringud sellevõrra tunduvalt kiiremini."
   ]
  },
  {
   "cell_type": "code",
   "execution_count": 2,
   "metadata": {
    "collapsed": false
   },
   "outputs": [
    {
     "data": {
      "text/plain": [
       "[\"Synset('korraldama.v.07')\",\n",
       " \"Synset('korraldamine.n.03')\",\n",
       " \"Synset('küsima.v.02')\",\n",
       " \"Synset('küsimine.n.02')\",\n",
       " \"Synset('mõjutama.v.01')\",\n",
       " \"Synset('mõjutamine.n.02')\",\n",
       " \"Synset('lubama.v.01')\",\n",
       " \"Synset('lubamine.n.01')\",\n",
       " \"Synset('üksmeelel olema.v.01')\",\n",
       " \"Synset('informeerima.v.01')\",\n",
       " \"Synset('informeerimine.n.02')\",\n",
       " \"Synset('selgitama.v.01')\",\n",
       " \"Synset('selgitamine.n.02')\",\n",
       " \"Synset('väljendama.v.03')\",\n",
       " \"Synset('väljendamine.n.04')\",\n",
       " \"Synset('rääkima.v.04')\",\n",
       " \"Synset('avaldama.v.04')\",\n",
       " \"Synset('avaldamine.n.02')\",\n",
       " \"Synset('mõtlema.v.02')\",\n",
       " \"Synset('mõtlemine.n.02')\",\n",
       " \"Synset('häälitsema.v.01')\",\n",
       " \"Synset('valimistulemus.n.01')\",\n",
       " \"Synset('kirjutama.v.02')\",\n",
       " \"Synset('kirjutamine.n.02')\",\n",
       " \"Synset('sisse kandma.v.01')\",\n",
       " \"Synset('registreerimine.n.02')\",\n",
       " \"Synset('väljendama.v.01')\",\n",
       " \"Synset('väljendamine.n.06')\",\n",
       " \"Synset('mängima.v.01')\",\n",
       " \"Synset('mängimine.n.01')\",\n",
       " \"Synset('loobuma.v.02')\",\n",
       " \"Synset('loobumine.n.02')\",\n",
       " \"Synset('võitlema.v.01')\",\n",
       " \"Synset('võitlemine.n.01')\",\n",
       " \"Synset('ründama.v.01')\",\n",
       " \"Synset('ründamine.n.02')\",\n",
       " \"Synset('toituma.v.01')\",\n",
       " \"Synset('rakendama.v.01')\",\n",
       " \"Synset('rakendamine.n.01')\",\n",
       " \"Synset('hankima.v.02')\",\n",
       " \"Synset('hankimine.n.02')\",\n",
       " \"Synset('kokku puutuma.v.01')\",\n",
       " \"Synset('külgnemine.n.01')\",\n",
       " \"Synset('puutuma.v.02')\",\n",
       " \"Synset('võtma.v.01')\",\n",
       " \"Synset('võtmine.n.02')\",\n",
       " \"Synset('põrkama.v.01')\",\n",
       " \"Synset('põrkamine.n.02')\",\n",
       " \"Synset('katma.v.02')\",\n",
       " \"Synset('katmine.n.02')\",\n",
       " \"Synset('sulgema.v.01')\",\n",
       " \"Synset('sulgemine.n.03')\",\n",
       " \"Synset('ühendama.v.01')\",\n",
       " \"Synset('ühendamine.n.02')\",\n",
       " \"Synset('viima.v.02')\",\n",
       " \"Synset('viimine.n.02')\",\n",
       " \"Synset('viskama.v.02')\",\n",
       " \"Synset('viskamine.n.02')\",\n",
       " \"Synset('puhastama.v.01')\",\n",
       " \"Synset('puhastamine.n.02')\",\n",
       " \"Synset('lahutama.v.01')\",\n",
       " \"Synset('lahutamine.n.01')\",\n",
       " \"Synset('looma.v.02')\",\n",
       " \"Synset('loomine.n.03')\",\n",
       " \"Synset('looma.v.05')\",\n",
       " \"Synset('loomine.n.04')\",\n",
       " \"Synset('tegema.v.06')\",\n",
       " \"Synset('tegemine.n.04')\",\n",
       " \"Synset('vormima.v.01')\",\n",
       " \"Synset('vormimine.n.01')\",\n",
       " \"Synset('kaunistama.v.01')\",\n",
       " \"Synset('kaunistamine.n.02')\",\n",
       " \"Synset('kujutama.v.01')\",\n",
       " \"Synset('kujutamine.n.02')\",\n",
       " \"Synset('seletama.v.01')\",\n",
       " \"Synset('seletamine.n.03')\",\n",
       " \"Synset('sooritama.v.04')\",\n",
       " \"Synset('sooritamine.n.02')\",\n",
       " \"Synset('ihaldama.v.01')\",\n",
       " \"Synset('ihaldamine.n.01')\",\n",
       " \"Synset('liikuma.v.03')\",\n",
       " \"Synset('liikuma.v.02')\",\n",
       " \"Synset('liikumine.n.06')\",\n",
       " \"Synset('lahkuma.v.03')\",\n",
       " \"Synset('lahkumine.n.03')\",\n",
       " \"Synset('liigutama.v.02')\",\n",
       " \"Synset('liigutamine.n.03')\",\n",
       " \"Synset('käima.v.01')\",\n",
       " \"Synset('käimine.n.01')\",\n",
       " \"Synset('sõitma.v.02')\",\n",
       " \"Synset('sõitmine.n.02')\",\n",
       " \"Synset('laskuma.v.01')\",\n",
       " \"Synset('laskumine.n.02')\",\n",
       " \"Synset('juhtima.v.03')\",\n",
       " \"Synset('juhtimine.n.02')\",\n",
       " \"Synset('saabuma.v.03')\",\n",
       " \"Synset('saabumine.n.02')\",\n",
       " \"Synset('sisenema.v.01')\",\n",
       " \"Synset('sisenemine.n.01')\",\n",
       " \"Synset('mööda minema.v.01')\",\n",
       " \"Synset('möödumine.n.01')\",\n",
       " \"Synset('kogema.v.02')\",\n",
       " \"Synset('kogemine.n.02')\",\n",
       " \"Synset('vaatama.v.02')\",\n",
       " \"Synset('vaatamine.n.04')\",\n",
       " \"Synset('näima.v.01')\",\n",
       " \"Synset('näimine.n.01')\",\n",
       " \"Synset('kõlama.v.02')\",\n",
       " \"Synset('kõlamine.n.01')\",\n",
       " \"Synset('kinkima.v.01')\",\n",
       " \"Synset('kinkimine.n.02')\",\n",
       " \"Synset('olema.v.09')\",\n",
       " \"Synset('olemine.n.03')\",\n",
       " \"Synset('omama.v.02')\",\n",
       " \"Synset('omamine.n.02')\",\n",
       " \"Synset('omandama.v.02')\",\n",
       " \"Synset('omandamine.n.04')\",\n",
       " \"Synset('maksma.v.02')\",\n",
       " \"Synset('maksmine.n.02')\",\n",
       " \"Synset('kaotama.v.01')\",\n",
       " \"Synset('kaotamine.n.03')\",\n",
       " \"Synset('kahju kannatama.v.01')\",\n",
       " \"Synset('tekitama.v.02')\",\n",
       " \"Synset('tekitamine.n.05')\",\n",
       " \"Synset('varustama.v.02')\",\n",
       " \"Synset('varustamine.n.02')\",\n",
       " \"Synset('varustama.v.01')\",\n",
       " \"Synset('varustamine.n.03')\",\n",
       " \"Synset('tegutsema.v.03')\",\n",
       " \"Synset('tegutsemine.n.02')\",\n",
       " \"Synset('vaeva nägema.v.01')\",\n",
       " \"Synset('pingutamine.n.01')\",\n",
       " \"Synset('hoolitsema.v.02')\",\n",
       " \"Synset('hoolitsemine.n.02')\",\n",
       " \"Synset('juhtima.v.02')\",\n",
       " \"Synset('juhtimine.n.03')\",\n",
       " \"Synset('määrama.v.04')\",\n",
       " \"Synset('määramine.n.03')\",\n",
       " \"Synset('kontrollima.v.01')\",\n",
       " \"Synset('kontrollimine.n.02')\",\n",
       " \"Synset('püüdma.v.02')\",\n",
       " \"Synset('püüdmine.n.03')\",\n",
       " \"Synset('abistama.v.02')\",\n",
       " \"Synset('abistamine.n.03')\",\n",
       " \"Synset('sooritama.v.03')\",\n",
       " \"Synset('sooritamine.n.03')\",\n",
       " \"Synset('petma.v.01')\",\n",
       " \"Synset('petmine.n.02')\",\n",
       " \"Synset('olema.v.08')\",\n",
       " \"Synset('lõppema.v.02')\",\n",
       " \"Synset('lõppemine.n.01')\",\n",
       " \"Synset('ootama.v.02')\",\n",
       " \"Synset('ootamine.n.02')\",\n",
       " \"Synset('olema.v.07')\",\n",
       " \"Synset('olemine.n.05')\",\n",
       " \"Synset('sobima.v.04')\",\n",
       " \"Synset('sobimine.n.02')\",\n",
       " \"Synset('võrdne olema.v.01')\",\n",
       " \"Synset('võrdumine.n.01')\",\n",
       " \"Synset('juurde kuuluma.v.01')\",\n",
       " \"Synset('lõpetama.v.03')\",\n",
       " \"Synset('lõpetamine.n.03')\",\n",
       " \"Synset('hoidma.v.02')\",\n",
       " \"Synset('hoidmine.n.02')\",\n",
       " \"Synset('jätkama.v.02')\",\n",
       " \"Synset('jätkamine.n.01')\",\n",
       " \"Synset('veetma.v.01')\",\n",
       " \"Synset('veetmine.n.01')\",\n",
       " \"Synset('võima.v.01')\",\n",
       " \"Synset('müüma.v.01')\",\n",
       " \"Synset('müümine.n.02')\",\n",
       " \"Synset('alla tulema.v.01')\",\n",
       " \"Synset('sadamine.n.01')\",\n",
       " \"Synset('korrastama.v.03')\",\n",
       " \"Synset('sugemine.n.01')\",\n",
       " \"Synset('vigastama.v.01')\",\n",
       " \"Synset('haavamine.n.01')\",\n",
       " \"Synset('hoolitsema.v.01')\",\n",
       " \"Synset('muutuma.v.01')\",\n",
       " \"Synset('muutumine.n.02')\",\n",
       " \"Synset('jääma.v.01')\",\n",
       " \"Synset('jäämine.n.02')\",\n",
       " \"Synset('kujundama.v.02')\",\n",
       " \"Synset('kujundamine.n.02')\",\n",
       " \"Synset('jääma.v.04')\",\n",
       " \"Synset('jäämine.n.03')\",\n",
       " \"Synset('vähenema.v.02')\",\n",
       " \"Synset('vähenemine.n.02')\",\n",
       " \"Synset('kasvama.v.04')\",\n",
       " \"Synset('kasvamine.n.03')\",\n",
       " \"Synset('kõrvaldama.v.01')\",\n",
       " \"Synset('kõrvaldamine.n.02')\",\n",
       " \"Synset('halvenema.v.01')\",\n",
       " \"Synset('halvenemine.n.02')\",\n",
       " \"Synset('parandama.v.02')\",\n",
       " \"Synset('parandamine.n.03')\",\n",
       " \"Synset('kahjustuma.v.02')\",\n",
       " \"Synset('kahjustumine.n.01')\",\n",
       " \"Synset('murduma.v.01')\",\n",
       " \"Synset('murdumine.n.01')\",\n",
       " \"Synset('käituma.v.01')\",\n",
       " \"Synset('käitumine.n.02')\",\n",
       " \"Synset('juhtuma.v.03')\",\n",
       " \"Synset('juhtumine.n.01')\",\n",
       " \"Synset('jätkama.v.01')\",\n",
       " \"Synset('jätkamine.n.02')\",\n",
       " \"Synset('lõpetama.v.02')\",\n",
       " \"Synset('lõpetamine.n.04')\",\n",
       " \"Synset('katkestama.v.01')\",\n",
       " \"Synset('katkestamine.n.03')\",\n",
       " \"Synset('vähendama.v.01')\",\n",
       " \"Synset('vähendamine.n.02')\",\n",
       " \"Synset('täitma.v.01')\",\n",
       " \"Synset('täitmine.n.04')\",\n",
       " \"Synset('märkima.v.01')\",\n",
       " \"Synset('märkimine.n.01')\",\n",
       " \"Synset('teadma.v.01')\",\n",
       " \"Synset('teadmine.n.03')\",\n",
       " \"Synset('meelde tulema.v.01')\",\n",
       " \"Synset('meenumine.n.01')\",\n",
       " \"Synset('meelde tuletama.v.01')\",\n",
       " \"Synset('meenutamine.n.02')\",\n",
       " \"Synset('mõtlema.v.01')\",\n",
       " \"Synset('tuvastama.v.01')\",\n",
       " \"Synset('tuvastamine.n.02')\",\n",
       " \"Synset('otsustama.v.03')\",\n",
       " \"Synset('otsustamine.n.02')\",\n",
       " \"Synset('valima.v.01')\",\n",
       " \"Synset('valimine.n.02')\",\n",
       " \"Synset('arvama.v.02')\",\n",
       " \"Synset('arvamine.n.01')\",\n",
       " \"Synset('arvama.v.05')\",\n",
       " \"Synset('otsustama.v.02')\",\n",
       " \"Synset('otsustamine.n.03')\",\n",
       " \"Synset('kindlaks määrama.v.01')\",\n",
       " \"Synset('fikseerimine.n.02')\",\n",
       " \"Synset('kavandama.v.01')\",\n",
       " \"Synset('kavandamine.n.02')\",\n",
       " \"Synset('ootama.v.01')\",\n",
       " \"Synset('ootamine.n.03')\",\n",
       " \"Synset('ettevõtmine.n.01')\",\n",
       " \"Synset('seks.n.01')\",\n",
       " \"Synset('tootmine.n.01')\",\n",
       " \"Synset('kunst.n.02')\",\n",
       " \"Synset('toit.n.03')\",\n",
       " \"Synset('võitlus.n.01')\",\n",
       " \"Synset('rünnak.n.01')\",\n",
       " \"Synset('asi.n.04')\",\n",
       " \"Synset('menetlus.n.02')\",\n",
       " \"Synset('rühmategevus.n.01')\",\n",
       " \"Synset('karistus.n.01')\",\n",
       " \"Synset('löök.n.02')\",\n",
       " \"Synset('artikkel.n.01')\",\n",
       " \"Synset('abi.n.01')\",\n",
       " \"Synset('järglane.n.01')\",\n",
       " \"Synset('mikroorganism.n.01')\",\n",
       " \"Synset('teadmine.n.01')\",\n",
       " \"Synset('lind.n.01')\",\n",
       " \"Synset('motiiv.n.01')\",\n",
       " \"Synset('tunne.n.02')\",\n",
       " \"Synset('koht.n.04')\",\n",
       " \"Synset('imetaja.n.01')\",\n",
       " \"Synset('vorm.n.01')\",\n",
       " \"Synset('selgrootu.n.01')\",\n",
       " \"Synset('mollusk.n.01')\",\n",
       " \"Synset('aeg.n.02')\",\n",
       " \"Synset('koer.n.01')\",\n",
       " \"Synset('ruum.n.03')\",\n",
       " \"Synset('olend.n.01')\",\n",
       " \"Synset('putukas.n.01')\",\n",
       " \"Synset('seisund.n.03')\",\n",
       " \"Synset('sündmus.n.02')\",\n",
       " \"Synset('vastne.n.01')\",\n",
       " \"Synset('hobune.n.01')\",\n",
       " \"Synset('hominiid.n.01')\",\n",
       " \"Synset('kala.n.01')\",\n",
       " \"Synset('asi.n.03')\",\n",
       " \"Synset('üksus.n.01')\",\n",
       " \"Synset('kontor.n.01')\",\n",
       " \"Synset('töökoht.n.02')\",\n",
       " \"Synset('olmerajatis.n.01')\",\n",
       " \"Synset('tegu.n.03')\",\n",
       " \"Synset('riie.n.02')\",\n",
       " \"Synset('nõu.n.01')\",\n",
       " \"Synset('transpordivahend.n.01')\",\n",
       " \"Synset('kate.n.02')\",\n",
       " \"Synset('looming.n.01')\",\n",
       " \"Synset('riistapuu.n.01')\",\n",
       " \"Synset('mõjuaine.n.01')\",\n",
       " \"Synset('varustus.n.01')\",\n",
       " \"Synset('mööbliese.n.01')\",\n",
       " \"Synset('grupp.n.02')\",\n",
       " \"Synset('vahend.n.02')\",\n",
       " \"Synset('mehhanism.n.01')\",\n",
       " \"Synset('arstim.n.02')\",\n",
       " \"Synset('ravimisviis.n.01')\",\n",
       " \"Synset('ava.n.02')\",\n",
       " \"Synset('dekoratsioon.n.01')\",\n",
       " \"Synset('ornament.n.01')\",\n",
       " \"Synset('tee.n.04')\",\n",
       " \"Synset('mänguasi.n.01')\",\n",
       " \"Synset('omand.n.02')\",\n",
       " \"Synset('ehitatu.n.01')\",\n",
       " \"Synset('süsteem.n.04')\",\n",
       " \"Synset('õhusõiduk.n.01')\",\n",
       " \"Synset('aparaat.n.01')\",\n",
       " \"Synset('kott.n.01')\",\n",
       " \"Synset('barjäär.n.01')\",\n",
       " \"Synset('paat.n.01')\",\n",
       " \"Synset('köide.n.01')\",\n",
       " \"Synset('pudel.n.01')\",\n",
       " \"Synset('omadus.n.02')\",\n",
       " \"Synset('auto.n.01')\",\n",
       " \"Synset('kaart.n.01')\",\n",
       " \"Synset('tool.n.01')\",\n",
       " \"Synset('riided.n.01')\",\n",
       " \"Synset('rõivas.n.01')\",\n",
       " \"Synset('kaup.n.01')\",\n",
       " \"Synset('komponent.n.01')\",\n",
       " \"Synset('kujutamine.n.01')\",\n",
       " \"Synset('kujutis.n.01')\",\n",
       " \"Synset('seos.n.02')\",\n",
       " \"Synset('niit.n.02')\",\n",
       " \"Synset('aed.n.01')\",\n",
       " \"Synset('mootor.n.01')\",\n",
       " \"Synset('kaevand.n.01')\",\n",
       " \"Synset('pind.n.03')\",\n",
       " \"Synset('pind.n.02')\",\n",
       " \"Synset('pool.n.02')\",\n",
       " \"Synset('kinnitusvahend.n.01')\",\n",
       " \"Synset('peakate.n.01')\",\n",
       " \"Synset('hulk.n.03')\",\n",
       " \"Synset('valgustus.n.02')\",\n",
       " \"Synset('kiht.n.02')\",\n",
       " \"Synset('tuba.n.01')\",\n",
       " \"Synset('maja.n.01')\",\n",
       " \"Synset('masin.n.01')\",\n",
       " \"Synset('mõõteriist.n.01')\",\n",
       " \"Synset('pill.n.01')\",\n",
       " \"Synset('polster.n.01')\",\n",
       " \"Synset('osa.n.04')\",\n",
       " \"Synset('fenomen.n.01')\",\n",
       " \"Synset('läbikäik.n.01')\",\n",
       " \"Synset('pilt.n.01')\",\n",
       " \"Synset('kilp.n.01')\",\n",
       " \"Synset('käsitöökoda.n.01')\",\n",
       " \"Synset('teivas.n.01')\",\n",
       " \"Synset('kepp.n.01')\",\n",
       " \"Synset('toodang.n.02')\",\n",
       " \"Synset('töö.n.04')\",\n",
       " \"Synset('saavutus.n.01')\",\n",
       " \"Synset('rakk.n.01')\",\n",
       " \"Synset('kunstiteos.n.01')\",\n",
       " \"Synset('tee.n.03')\",\n",
       " \"Synset('plaat.n.01')\",\n",
       " \"Synset('laev.n.01')\",\n",
       " \"Synset('pood.n.01')\",\n",
       " \"Synset('riba.n.01')\",\n",
       " \"Synset('tugi.n.01')\",\n",
       " \"Synset('alus.n.02')\",\n",
       " \"Synset('laud.n.01')\",\n",
       " \"Synset('tööriist.n.01')\",\n",
       " \"Synset('tegu.n.02')\",\n",
       " \"Synset('toru.n.01')\",\n",
       " \"Synset('sõiduk.n.01')\",\n",
       " \"Synset('laev.n.02')\",\n",
       " \"Synset('relv.n.01')\",\n",
       " \"Synset('iseloomujoon.n.01')\",\n",
       " \"Synset('välimus.n.01')\",\n",
       " \"Synset('põhijoon.n.01')\",\n",
       " \"Synset('käitumine.n.01')\",\n",
       " \"Synset('omadus.n.01')\",\n",
       " \"Synset('viis.n.03')\",\n",
       " \"Synset('värv.n.01')\",\n",
       " \"Synset('distants.n.01')\",\n",
       " \"Synset('mõõde.n.01')\",\n",
       " \"Synset('aste.n.02')\",\n",
       " \"Synset('arv.n.01')\",\n",
       " \"Synset('väärtus.n.01')\",\n",
       " \"Synset('õigus.n.01')\",\n",
       " \"Synset('võimelisus.n.01')\",\n",
       " \"Synset('keha.n.02')\",\n",
       " \"Synset('nahk.n.01')\",\n",
       " \"Synset('kaotus.n.01')\",\n",
       " \"Synset('trakt.n.01')\",\n",
       " \"Synset('habe.n.01')\",\n",
       " \"Synset('kude.n.01')\",\n",
       " \"Synset('luu.n.01')\",\n",
       " \"Synset('muskel.n.01')\",\n",
       " \"Synset('organ.n.02')\",\n",
       " \"Synset('eritis.n.01')\",\n",
       " \"Synset('hormoon.n.01')\",\n",
       " \"Synset('veresoon.n.01')\",\n",
       " \"Synset('veen.n.01')\",\n",
       " \"Synset('eksitus.n.01')\",\n",
       " \"Synset('kile.n.01')\",\n",
       " \"Synset('võime.n.01')\",\n",
       " \"Synset('osavus.n.01')\",\n",
       " \"Synset('võimetus.n.01')\",\n",
       " \"Synset('meel.n.02')\",\n",
       " \"Synset('taju.n.01')\",\n",
       " \"Synset('meetod.n.02')\",\n",
       " \"Synset('süsteem.n.03')\",\n",
       " \"Synset('tunnetusprotsess.n.01')\",\n",
       " \"Synset('aisting.n.01')\",\n",
       " \"Synset('struktuur.n.01')\",\n",
       " \"Synset('korraldus.n.03')\",\n",
       " \"Synset('liigitamine.n.01')\",\n",
       " \"Synset('teadmised.n.01')\",\n",
       " \"Synset('idee.n.01')\",\n",
       " \"Synset('käsitus.n.01')\",\n",
       " \"Synset('tüüp.n.01')\",\n",
       " \"Synset('kogus.n.01')\",\n",
       " \"Synset('kava.n.01')\",\n",
       " \"Synset('õpetus.n.01')\",\n",
       " \"Synset('usk.n.01')\",\n",
       " \"Synset('siht.n.03')\",\n",
       " \"Synset('teooria.n.01')\",\n",
       " \"Synset('ainevaldkond.n.01')\",\n",
       " \"Synset('teadus.n.01')\",\n",
       " \"Synset('bioloogia.n.01')\",\n",
       " \"Synset('meditsiin.n.01')\",\n",
       " \"Synset('füüsika.n.01')\",\n",
       " \"Synset('hoiak.n.01')\",\n",
       " \"Synset('kalduvus.n.01')\",\n",
       " \"Synset('tõuge.n.01')\",\n",
       " \"Synset('suhtlus.n.02')\",\n",
       " \"Synset('teade.n.02')\",\n",
       " \"Synset('paberileht.n.01')\",\n",
       " \"Synset('keel.n.03')\",\n",
       " \"Synset('sõna.n.01')\",\n",
       " \"Synset('nimi.n.01')\",\n",
       " \"Synset('tiitel.n.01')\",\n",
       " \"Synset('kirjutis.n.01')\",\n",
       " \"Synset('luuletus.n.01')\",\n",
       " \"Synset('tekst.n.01')\",\n",
       " \"Synset('raamat.n.01')\",\n",
       " \"Synset('käsiraamat.n.01')\",\n",
       " \"Synset('nimekiri.n.02')\",\n",
       " \"Synset('arvutiprogramm.n.01')\",\n",
       " \"Synset('sõnum.n.01')\",\n",
       " \"Synset('näitamine.n.01')\",\n",
       " \"Synset('kiri.n.01')\",\n",
       " \"Synset('informatsioon.n.01')\",\n",
       " \"Synset('poliitika.n.01')\",\n",
       " \"Synset('avaldus.n.02')\",\n",
       " \"Synset('deklaratsioon.n.01')\",\n",
       " \"Synset('signaal.n.01')\",\n",
       " \"Synset('tundemärk.n.01')\",\n",
       " \"Synset('sümbol.n.01')\",\n",
       " \"Synset('tähis.n.01')\",\n",
       " \"Synset('täht.n.02')\",\n",
       " \"Synset('kirjatäht.n.01')\",\n",
       " \"Synset('embleem.n.01')\",\n",
       " \"Synset('kokkupuude.n.01')\",\n",
       " \"Synset('põhjus.n.01')\",\n",
       " \"Synset('keel.n.02')\",\n",
       " \"Synset('suhtlus.n.01')\",\n",
       " \"Synset('kompositsioon.n.01')\",\n",
       " \"Synset('laul.n.01')\",\n",
       " \"Synset('väljendusstiil.n.01')\",\n",
       " \"Synset('retooriline vahend.n.01')\",\n",
       " \"Synset('jutt.n.01')\",\n",
       " \"Synset('keel.n.01')\",\n",
       " \"Synset('hääl.n.02')\",\n",
       " \"Synset('käsk.n.01')\",\n",
       " \"Synset('palve.n.02')\",\n",
       " \"Synset('juhtum.n.01')\",\n",
       " \"Synset('muutus.n.01')\",\n",
       " \"Synset('halb õnn.n.01')\",\n",
       " \"Synset('liikumine.n.03')\",\n",
       " \"Synset('kasv.n.02')\",\n",
       " \"Synset('heli.n.01')\",\n",
       " \"Synset('võistlus.n.01')\",\n",
       " \"Synset('emotsioon.n.01')\",\n",
       " \"Synset('iha.n.01')\",\n",
       " \"Synset('nauding.n.01')\",\n",
       " \"Synset('tuju.n.01')\",\n",
       " \"Synset('toit.n.02')\",\n",
       " \"Synset('portsjon.n.01')\",\n",
       " \"Synset('toit.n.01')\",\n",
       " \"Synset('kondiitritoode.n.02')\",\n",
       " \"Synset('kompvek.n.01')\",\n",
       " \"Synset('magustoit.n.01')\",\n",
       " \"Synset('pagaritoode.n.01')\",\n",
       " \"Synset('kondiitritoode.n.01')\",\n",
       " \"Synset('kook.n.01')\",\n",
       " \"Synset('liha.n.01')\",\n",
       " \"Synset('jahutoode.n.01')\",\n",
       " \"Synset('söödav vili.n.01')\",\n",
       " \"Synset('köögivili.n.01')\",\n",
       " \"Synset('maitseaine.n.01')\",\n",
       " \"Synset('valik.n.01')\",\n",
       " \"Synset('kaste.n.01')\",\n",
       " \"Synset('piimatoode.n.01')\",\n",
       " \"Synset('juust.n.01')\",\n",
       " \"Synset('jook.n.01')\",\n",
       " \"Synset('vein.n.01')\",\n",
       " \"Synset('korraldus.n.01')\",\n",
       " \"Synset('inimkond.n.01')\",\n",
       " \"Synset('inimesed.n.01')\",\n",
       " \"Synset('kogu.n.02')\",\n",
       " \"Synset('kogu.n.01')\",\n",
       " \"Synset('komplekt.n.01')\",\n",
       " \"Synset('organisatsioon.n.01')\",\n",
       " \"Synset('ühing.n.01')\",\n",
       " \"Synset('valitsus.n.01')\",\n",
       " \"Synset('asutus.n.01')\",\n",
       " \"Synset('kirik.n.01')\",\n",
       " \"Synset('osakond.n.02')\",\n",
       " \"Synset('maa.n.04')\",\n",
       " \"Synset('kompanii.n.01')\",\n",
       " \"Synset('osakond.n.01')\",\n",
       " \"Synset('vahend.n.01')\",\n",
       " \"Synset('halduskogu.n.01')\",\n",
       " \"Synset('klubi.n.01')\",\n",
       " \"Synset('kool.n.01')\",\n",
       " \"Synset('komisjon.n.01')\",\n",
       " \"Synset('valitsusasutus.n.01')\",\n",
       " \"Synset('instituut.n.01')\",\n",
       " \"Synset('süsteem.n.01')\",\n",
       " \"Synset('liikumine.n.02')\",\n",
       " \"Synset('ala.n.04')\",\n",
       " \"Synset('külg.n.01')\",\n",
       " \"Synset('piir.n.01')\",\n",
       " \"Synset('linn.n.01')\",\n",
       " \"Synset('maa.n.03')\",\n",
       " \"Synset('piirkond.n.03')\",\n",
       " \"Synset('joon.n.02')\",\n",
       " \"Synset('punkt.n.02')\",\n",
       " \"Synset('osa.n.03')\",\n",
       " \"Synset('ala.n.02')\",\n",
       " \"Synset('maakond.n.01')\",\n",
       " \"Synset('pind.n.01')\",\n",
       " \"Synset('muutmine.n.01')\",\n",
       " \"Synset('maa-ala.n.01')\",\n",
       " \"Synset('suund.n.02')\",\n",
       " \"Synset('jääk.n.01')\",\n",
       " \"Synset('kate.n.01')\",\n",
       " \"Synset('kere.n.01')\",\n",
       " \"Synset('osa.n.02')\",\n",
       " \"Synset('kõrgendik.n.01')\",\n",
       " \"Synset('lohk.n.01')\",\n",
       " \"Synset('muutumine.n.01')\",\n",
       " \"Synset('sete.n.01')\",\n",
       " \"Synset('auk.n.01')\",\n",
       " \"Synset('taevakeha.n.01')\",\n",
       " \"Synset('vesi.n.01')\",\n",
       " \"Synset('maa.n.02')\",\n",
       " \"Synset('kujuteldav olend.n.01')\",\n",
       " \"Synset('jumalus.n.01')\",\n",
       " \"Synset('looja.n.01')\",\n",
       " \"Synset('üleminek.n.01')\",\n",
       " \"Synset('kaitsja.n.02')\",\n",
       " \"Synset('meelelahutuskunstnik.n.01')\",\n",
       " \"Synset('ekspert.n.01')\",\n",
       " \"Synset('naine.n.02')\",\n",
       " \"Synset('elanik.n.01')\",\n",
       " \"Synset('pärismaalane.n.01')\",\n",
       " \"Synset('intellektuaal.n.01')\",\n",
       " \"Synset('liider.n.01')\",\n",
       " \"Synset('mees.n.02')\",\n",
       " \"Synset('omataoline.n.01')\",\n",
       " \"Synset('usklik.n.01')\",\n",
       " \"Synset('õnnetu inimene.n.01')\",\n",
       " \"Synset('töötaja.n.01')\",\n",
       " \"Synset('eurooplane.n.01')\",\n",
       " \"Synset('tuttav.n.01')\",\n",
       " \"Synset('advokaat.n.01')\",\n",
       " \"Synset('kunstiinimene.n.01')\",\n",
       " \"Synset('assistent.n.01')\",\n",
       " \"Synset('atleet.n.01')\",\n",
       " \"Synset('laps.n.02')\",\n",
       " \"Synset('laps.n.01')\",\n",
       " \"Synset('kunstnik.n.01')\",\n",
       " \"Synset('pooldaja.n.01')\",\n",
       " \"Synset('arst.n.01')\",\n",
       " \"Synset('teenistuja.n.01')\",\n",
       " \"Synset('järelkäija.n.01')\",\n",
       " \"Synset('sõber.n.01')\",\n",
       " \"Synset('sugulane.n.01')\",\n",
       " \"Synset('poiss.n.01')\",\n",
       " \"Synset('tapmine.n.01')\",\n",
       " \"Synset('muusik.n.01')\",\n",
       " \"Synset('kantseleitöötaja.n.01')\",\n",
       " \"Synset('mõjujõud.n.01')\",\n",
       " \"Synset('esindaja.n.01')\",\n",
       " \"Synset('valitseja.n.01')\",\n",
       " \"Synset('sõdur.n.01')\",\n",
       " \"Synset('naine.n.01')\",\n",
       " \"Synset('kirjanik.n.01')\",\n",
       " \"Synset('looduslik fenomen.n.01')\",\n",
       " \"Synset('tagajärg.n.01')\",\n",
       " \"Synset('puhastamine.n.01')\",\n",
       " \"Synset('fortuuna.n.01')\",\n",
       " \"Synset('jõud.n.01')\",\n",
       " \"Synset('seen.n.01')\",\n",
       " \"Synset('puu.n.01')\",\n",
       " \"Synset('põõsas.n.01')\",\n",
       " \"Synset('vili.n.01')\",\n",
       " \"Synset('lehestik.n.01')\",\n",
       " \"Synset('omand.n.01')\",\n",
       " \"Synset('aktiva.n.01')\",\n",
       " \"Synset('rahahulk.n.01')\",\n",
       " \"Synset('raha.n.01')\",\n",
       " \"Synset('valuuta.n.01')\",\n",
       " \"Synset('münt.n.01')\",\n",
       " \"Synset('rahalised kohustused.n.01')\",\n",
       " \"Synset('dokument.n.01')\",\n",
       " \"Synset('register.n.01')\",\n",
       " \"Synset('protsess.n.01')\",\n",
       " \"Synset('areng.n.01')\",\n",
       " \"Synset('töötlemine.n.01')\",\n",
       " \"Synset('liikumine.n.01')\",\n",
       " \"Synset('ühik.n.01')\",\n",
       " \"Synset('arv.n.02')\",\n",
       " \"Synset('ruum.n.01')\",\n",
       " \"Synset('ühendus.n.01')\",\n",
       " \"Synset('osa.n.01')\",\n",
       " \"Synset('sugulus.n.01')\",\n",
       " \"Synset('suhe.n.03')\",\n",
       " \"Synset('suund.n.01')\",\n",
       " \"Synset('keha.n.01')\",\n",
       " \"Synset('kujund.n.01')\",\n",
       " \"Synset('reis.n.01')\",\n",
       " \"Synset('joon.n.01')\",\n",
       " \"Synset('olukord.n.02')\",\n",
       " \"Synset('seisund.n.02')\",\n",
       " \"Synset('situatsioon.n.01')\",\n",
       " \"Synset('suhe.n.02')\",\n",
       " \"Synset('suhe.n.01')\",\n",
       " \"Synset('staatus.n.02')\",\n",
       " \"Synset('ühiskondlik seisund.n.01')\",\n",
       " \"Synset('liigutus.n.01')\",\n",
       " \"Synset('üksmeel.n.01')\",\n",
       " \"Synset('korralagedus.n.01')\",\n",
       " \"Synset('haigus.n.02')\",\n",
       " \"Synset('tõbi.n.01')\",\n",
       " \"Synset('kasvaja.n.01')\",\n",
       " \"Synset('õli.n.01')\",\n",
       " \"Synset('taimehaigus.n.01')\",\n",
       " \"Synset('trauma.n.01')\",\n",
       " \"Synset('vaevus.n.01')\",\n",
       " \"Synset('põletik.n.01')\",\n",
       " \"Synset('vähendamine.n.01')\",\n",
       " \"Synset('vaimuhaigus.n.01')\",\n",
       " \"Synset('liit.n.01')\",\n",
       " \"Synset('ametiväärikus.n.01')\",\n",
       " \"Synset('puudus.n.02')\",\n",
       " \"Synset('puue.n.01')\",\n",
       " \"Synset('materjal.n.01')\",\n",
       " \"Synset('segu.n.01')\",\n",
       " \"Synset('sulam.n.01')\",\n",
       " \"Synset('hape.n.01')\",\n",
       " \"Synset('aatom.n.01')\",\n",
       " \"Synset('element.n.02')\",\n",
       " \"Synset('metalliline element.n.01')\",\n",
       " \"Synset('proteiin.n.01')\",\n",
       " \"Synset('reaktiiv.n.01')\",\n",
       " \"Synset('keemiline ühend.n.01')\",\n",
       " \"Synset('algaine.n.01')\",\n",
       " \"Synset('maapind.n.01')\",\n",
       " \"Synset('rasv.n.01')\",\n",
       " \"Synset('kasv.n.01')\",\n",
       " \"Synset('kiud.n.01')\",\n",
       " \"Synset('kütus.n.01')\",\n",
       " \"Synset('voolav aine.n.01')\",\n",
       " \"Synset('mineraal.n.01')\",\n",
       " \"Synset('paber.n.01')\",\n",
       " \"Synset('pulber.n.01')\",\n",
       " \"Synset('sool.n.01')\",\n",
       " \"Synset('mürk.n.01')\",\n",
       " \"Synset('tahke aine.n.01')\",\n",
       " \"Synset('puit.n.01')\",\n",
       " \"Synset('kellaaeg.n.01')\",\n",
       " \"Synset('päev.n.01')\",\n",
       " \"Synset('kuu.n.01')\",\n",
       " \"Synset('moment.n.01')\",\n",
       " \"Synset('tegevus.n.01')\",\n",
       " \"Synset('tava.n.01')\",\n",
       " \"Synset('mäng.n.01')\",\n",
       " \"Synset('loom.n.01')\",\n",
       " \"Synset('etendus.n.01')\",\n",
       " \"Synset('tants.n.01')\",\n",
       " \"Synset('muusika.n.01')\",\n",
       " \"Synset('manööver.n.02')\",\n",
       " \"Synset('mängujoonis.n.01')\",\n",
       " \"Synset('löök.n.01')\",\n",
       " \"Synset('taim.n.01')\",\n",
       " \"Synset('töö.n.02')\",\n",
       " \"Synset('tegevusala.n.01')\",\n",
       " \"Synset('töökoht.n.03')\",\n",
       " \"Synset('objekt.n.01')\",\n",
       " \"Synset('hool.n.01')\",\n",
       " \"Synset('ravi.n.01')\",\n",
       " \"Synset('töö.n.01')\",\n",
       " \"Synset('aine.n.01')\",\n",
       " \"Synset('tundma.v.01')\",\n",
       " \"Synset('tundmine.n.02')\",\n",
       " \"Synset('vedelik.n.01')\",\n",
       " \"Synset('pigment.n.01')\",\n",
       " \"Synset('rääkima.v.02')\",\n",
       " \"Synset('panema.v.01')\",\n",
       " \"Synset('panemine.n.02')\",\n",
       " \"Synset('olema.v.04')\",\n",
       " \"Synset('seadma.v.01')\",\n",
       " \"Synset('seadmine.n.03')\",\n",
       " \"Synset('esinema.v.02')\",\n",
       " \"Synset('esinemine.n.03')\",\n",
       " \"Synset('tegelema.v.01')\",\n",
       " \"Synset('tegelemine.n.02')\",\n",
       " \"Synset('käsitlema.v.01')\",\n",
       " \"Synset('käsitlemine.n.01')\",\n",
       " \"Synset('esitama.v.05')\",\n",
       " \"Synset('esitamine.n.02')\",\n",
       " \"Synset('uurima.v.01')\",\n",
       " \"Synset('uurimine.n.04')\",\n",
       " \"Synset('uurima.v.02')\",\n",
       " \"Synset('uurimine.n.05')\",\n",
       " \"Synset('seadma.v.02')\",\n",
       " \"Synset('seadmine.n.04')\",\n",
       " \"Synset('arranžeerima.v.01')\",\n",
       " \"Synset('arranžeerimine.n.01')\",\n",
       " \"Synset('ümber seadma.v.01')\",\n",
       " \"Synset('dramatiseerima.v.01')\",\n",
       " \"Synset('dramatiseerimine.n.01')\",\n",
       " \"Synset('ennistama.v.01')\",\n",
       " \"Synset('vestlema.v.01')\",\n",
       " \"Synset('vestlemine.n.01')\",\n",
       " \"Synset('elama.v.01')\",\n",
       " \"Synset('elamine.n.02')\",\n",
       " \"Synset('jooksma.v.02')\",\n",
       " \"Synset('jooksmine.n.02')\",\n",
       " \"Synset('minema.v.07')\",\n",
       " \"Synset('minemine.n.04')\",\n",
       " \"Synset('arenema.v.01')\",\n",
       " \"Synset('arenemine.n.03')\",\n",
       " \"Synset('minema.v.11')\",\n",
       " \"Synset('minemine.n.05')\",\n",
       " \"Synset('andma.v.01')\",\n",
       " \"Synset('andmine.n.04')\",\n",
       " \"Synset('andma.v.02')\",\n",
       " \"Synset('andmine.n.05')\",\n",
       " \"Synset('andma.v.05')\",\n",
       " \"Synset('andmine.n.06')\",\n",
       " \"Synset('hakkama.v.02')\",\n",
       " \"Synset('hakkamine.n.02')\",\n",
       " \"Synset('hakkama.v.03')\",\n",
       " \"Synset('hakkamine.n.03')\",\n",
       " \"Synset('tekkima.v.01')\",\n",
       " \"Synset('hakkama.v.05')\",\n",
       " \"Synset('muutma.v.02')\",\n",
       " \"Synset('muutmine.n.02')\",\n",
       " \"Synset('nägema.v.01')\",\n",
       " \"Synset('nägemine.n.04')\",\n",
       " \"Synset('leidma.v.02')\",\n",
       " \"Synset('leidmine.n.02')\",\n",
       " \"Synset('nägema.v.03')\",\n",
       " \"Synset('nägemine.n.05')\",\n",
       " \"Synset('algama.v.04')\",\n",
       " \"Synset('algamine.n.02')\",\n",
       " \"Synset('avama.v.01')\",\n",
       " \"Synset('avamine.n.02')\",\n",
       " \"Synset('kasutama.v.01')\",\n",
       " \"Synset('kasutamine.n.02')\",\n",
       " \"Synset('leidma.v.01')\",\n",
       " \"Synset('leidmine.n.03')\",\n",
       " \"Synset('otsima.v.01')\",\n",
       " \"Synset('otsimine.n.02')\",\n",
       " \"Synset('leidma.v.04')\",\n",
       " \"Synset('leidmine.n.04')\",\n",
       " \"Synset('leidma.v.05')\",\n",
       " \"Synset('leidmine.n.05')\",\n",
       " \"Synset('suutma.v.01')\",\n",
       " \"Synset('suutmine.n.01')\",\n",
       " \"Synset('kandma.v.01')\",\n",
       " \"Synset('kandmine.n.01')\",\n",
       " \"Synset('ajama.v.06')\",\n",
       " \"Synset('ajamine.n.01')\",\n",
       " \"Synset('ajama.v.07')\",\n",
       " \"Synset('ajamine.n.02')\",\n",
       " \"Synset('lõikama.v.01')\",\n",
       " \"Synset('lõikamine.n.02')\",\n",
       " \"Synset('hääldama.v.01')\",\n",
       " \"Synset('hääldamine.n.02')\",\n",
       " \"Synset('kuuluma.v.01')\",\n",
       " \"Synset('kuulumine.n.01')\",\n",
       " \"Synset('kuuluma.v.02')\",\n",
       " \"Synset('tekkima.v.03')\",\n",
       " \"Synset('tekkimine.n.03')\",\n",
       " \"Synset('koosnema.v.01')\",\n",
       " \"Synset('koosnemine.n.01')\",\n",
       " \"Synset('valmistama.v.02')\",\n",
       " \"Synset('valmistamine.n.03')\",\n",
       " \"Synset('valmistama.v.03')\",\n",
       " \"Synset('valmistamine.n.04')\",\n",
       " \"Synset('moodustama.v.02')\",\n",
       " \"Synset('moodustamine.n.02')\",\n",
       " \"Synset('moodustama.v.04')\",\n",
       " \"Synset('moodustamine.n.03')\",\n",
       " \"Synset('moodustama.v.05')\",\n",
       " \"Synset('moodustamine.n.04')\",\n",
       " \"Synset('osutama.v.02')\",\n",
       " \"Synset('osutamine.n.01')\",\n",
       " \"Synset('osutama.v.03')\",\n",
       " \"Synset('osutamine.n.02')\",\n",
       " \"Synset('esitama.v.04')\",\n",
       " \"Synset('esitamine.n.03')\",\n",
       " \"Synset('esitama.v.07')\",\n",
       " \"Synset('esitamine.n.04')\",\n",
       " \"Synset('esitama.v.06')\",\n",
       " \"Synset('esitamine.n.05')\",\n",
       " \"Synset('kasvatama.v.02')\",\n",
       " \"Synset('kasvatamine.n.03')\",\n",
       " \"Synset('kasvatama.v.05')\",\n",
       " \"Synset('kasvatamine.n.04')\",\n",
       " \"Synset('kasvatama.v.06')\",\n",
       " \"Synset('kasvatamine.n.05')\",\n",
       " \"Synset('elama.v.02')\",\n",
       " \"Synset('elamine.n.03')\",\n",
       " \"Synset('elama.v.03')\",\n",
       " \"Synset('elamine.n.04')\",\n",
       " \"Synset('elama.v.04')\",\n",
       " \"Synset('elamine.n.05')\",\n",
       " \"Synset('lähtuma.v.01')\",\n",
       " \"Synset('lähtumine.n.01')\",\n",
       " \"Synset('lähtuma.v.03')\",\n",
       " \"Synset('lähtumine.n.02')\",\n",
       " \"Synset('lähtuma.v.04')\",\n",
       " \"Synset('lähtumine.n.03')\",\n",
       " \"Synset('ümbritsema.v.01')\",\n",
       " \"Synset('ümbritsemine.n.01')\",\n",
       " \"Synset('ümbritsema.v.02')\",\n",
       " \"Synset('ümbritsemine.n.02')\",\n",
       " \"Synset('ümbritsema.v.03')\",\n",
       " \"Synset('ümbritsemine.n.03')\",\n",
       " \"Synset('tõmbama.v.02')\",\n",
       " \"Synset('tõmbamine.n.02')\",\n",
       " \"Synset('tõmbama.v.05')\",\n",
       " \"Synset('tõmbamine.n.03')\",\n",
       " \"Synset('kandma.v.02')\",\n",
       " \"Synset('kandmine.n.02')\",\n",
       " \"Synset('sallima.v.01')\",\n",
       " \"Synset('sallimine.n.01')\",\n",
       " \"Synset('kandma.v.05')\",\n",
       " \"Synset('kandmine.n.03')\",\n",
       " \"Synset('kandma.v.06')\",\n",
       " \"Synset('kandmine.n.04')\",\n",
       " \"Synset('kandma.v.07')\",\n",
       " \"Synset('kandmine.n.05')\",\n",
       " \"Synset('rõhutama.v.01')\",\n",
       " \"Synset('rõhutamine.n.02')\",\n",
       " \"Synset('rõhutama.v.02')\",\n",
       " \"Synset('rõhutamine.n.03')\",\n",
       " \"Synset('piirama.v.05')\",\n",
       " \"Synset('piiramine.n.03')\",\n",
       " \"Synset('piirama.v.06')\",\n",
       " \"Synset('piiramine.n.04')\",\n",
       " \"Synset('piirama.v.07')\",\n",
       " \"Synset('piiramine.n.05')\",\n",
       " \"Synset('tooma.v.01')\",\n",
       " \"Synset('toomine.n.01')\",\n",
       " \"Synset('kestma.v.02')\",\n",
       " \"Synset('kestmine.n.01')\",\n",
       " \"Synset('kestmine.n.02')\",\n",
       " \"Synset('tingima.v.01')\",\n",
       " \"Synset('tingimine.n.03')\",\n",
       " \"Synset('kuluma.v.04')\",\n",
       " \"Synset('kulumine.n.03')\",\n",
       " \"Synset('töötlema.v.01')\",\n",
       " \"Synset('töötlemine.n.02')\",\n",
       " \"Synset('töötlema.v.02')\",\n",
       " \"Synset('töötlemine.n.03')\",\n",
       " \"Synset('töötlema.v.03')\",\n",
       " \"Synset('töötlemine.n.04')\",\n",
       " \"Synset('kahjustama.v.01')\",\n",
       " \"Synset('kahjustamine.n.02')\",\n",
       " \"Synset('einestama.v.01')\",\n",
       " \"Synset('einestamine.n.01')\",\n",
       " \"Synset('märkima.v.02')\",\n",
       " \"Synset('märkimine.n.02')\",\n",
       " \"Synset('võimaldama.v.02')\",\n",
       " \"Synset('võimaldamine.n.02')\",\n",
       " \"Synset('võimaldama.v.03')\",\n",
       " \"Synset('võimaldamine.n.03')\",\n",
       " \"Synset('arenema.v.02')\",\n",
       " \"Synset('arenemine.n.04')\",\n",
       " \"Synset('kujunema.v.02')\",\n",
       " \"Synset('kujunemine.n.02')\",\n",
       " \"Synset('moodustuma.v.02')\",\n",
       " \"Synset('moodustumine.n.01')\",\n",
       " \"Synset('kaduma.v.06')\",\n",
       " \"Synset('kadumine.n.03')\",\n",
       " \"Synset('kaduma.v.10')\",\n",
       " \"Synset('kadumine.n.04')\",\n",
       " \"Synset('vedama.v.02')\",\n",
       " \"Synset('vedamine.n.04')\",\n",
       " \"Synset('ilmuma.v.02')\",\n",
       " \"Synset('ilmumine.n.02')\",\n",
       " \"Synset('ilmuma.v.03')\",\n",
       " \"Synset('ilmumine.n.03')\",\n",
       " \"Synset('ilmumine.n.04')\",\n",
       " \"Synset('lisama.v.02')\",\n",
       " \"Synset('lisamine.n.03')\",\n",
       " \"Synset('lisama.v.03')\",\n",
       " \"Synset('lisamine.n.04')\",\n",
       " \"Synset('koguma.v.01')\",\n",
       " \"Synset('kogumine.n.01')\",\n",
       " \"Synset('puuduma.v.01')\",\n",
       " \"Synset('puudumine.n.02')\",\n",
       " \"Synset('puuduma.v.02')\",\n",
       " \"Synset('puudumine.n.03')\",\n",
       " \"Synset('jooksma.v.04')\",\n",
       " \"Synset('jooksmine.n.03')\",\n",
       " \"Synset('rõhuma.v.01')\",\n",
       " \"Synset('rõhumine.n.01')\",\n",
       " \"Synset('rõhuma.v.03')\",\n",
       " \"Synset('rõhumine.n.02')\",\n",
       " \"Synset('takistama.v.01')\",\n",
       " \"Synset('takistamine.n.01')\",\n",
       " \"Synset('avama.v.02')\",\n",
       " \"Synset('avamine.n.03')\",\n",
       " \"Synset('sisaldama.v.01')\",\n",
       " \"Synset('sisaldamine.n.01')\",\n",
       " \"Synset('minema.v.01')\",\n",
       " \"Synset('minemine.n.06')\",\n",
       " \"Synset('asendit muutma.v.01')\",\n",
       " \"Synset('liigutamine.n.04')\",\n",
       " \"Synset('minema.v.04')\",\n",
       " \"Synset('minemine.n.07')\",\n",
       " \"Synset('jalutama.v.01')\",\n",
       " \"Synset('jalutamine.n.02')\",\n",
       " \"Synset('põrutama.v.01')\",\n",
       " \"Synset('põrutamine.n.01')\",\n",
       " \"Synset('purjetama.v.01')\",\n",
       " \"Synset('purjetamine.n.01')\",\n",
       " \"Synset('minema.v.03')\",\n",
       " \"Synset('minemine.n.08')\",\n",
       " \"Synset('suunduma.v.01')\",\n",
       " \"Synset('suundumine.n.01')\",\n",
       " \"Synset('eemalduma.v.01')\",\n",
       " \"Synset('eemaldumine.n.01')\",\n",
       " \"Synset('minema.v.05')\",\n",
       " \"Synset('minemine.n.09')\",\n",
       " \"Synset('lõppema.v.01')\",\n",
       " \"Synset('lõppemine.n.02')\",\n",
       " \"Synset('minema.v.06')\",\n",
       " \"Synset('minemine.n.10')\",\n",
       " \"Synset('vallanduma.v.01')\",\n",
       " \"Synset('vallandumine.n.01')\",\n",
       " \"Synset('minema.v.09')\",\n",
       " \"Synset('minemine.n.11')\",\n",
       " \"Synset('õnnestuma.v.01')\",\n",
       " \"Synset('õnnestumine.n.02')\",\n",
       " \"Synset('minema.v.10')\",\n",
       " \"Synset('minemine.n.12')\",\n",
       " \"Synset('sünnis olema.v.01')\",\n",
       " \"Synset('minema.v.12')\",\n",
       " \"Synset('minemine.n.13')\",\n",
       " \"Synset('minema.v.15')\",\n",
       " \"Synset('minemine.n.14')\",\n",
       " \"Synset('minema.v.16')\",\n",
       " \"Synset('minemine.n.15')\",\n",
       " \"Synset('olema.v.03')\",\n",
       " \"Synset('olemine.n.09')\",\n",
       " \"Synset('jääma.v.02')\",\n",
       " \"Synset('jäämine.n.04')\",\n",
       " \"Synset('jääma.v.03')\",\n",
       " \"Synset('jäämine.n.05')\",\n",
       " \"Synset('jääma.v.05')\",\n",
       " \"Synset('jäämine.n.06')\",\n",
       " \"Synset('annetama.v.01')\",\n",
       " \"Synset('annetamine.n.02')\",\n",
       " \"Synset('maksma.v.01')\",\n",
       " \"Synset('maksmine.n.03')\",\n",
       " \"Synset('laenama.v.01')\",\n",
       " \"Synset('laenamine.n.01')\",\n",
       " \"Synset('loobuma.v.01')\",\n",
       " \"Synset('loobumine.n.03')\",\n",
       " \"Synset('andma.v.03')\",\n",
       " \"Synset('andmine.n.08')\",\n",
       " \"Synset('saak.n.01')\",\n",
       " \"Synset('andma.v.06')\",\n",
       " \"Synset('andmine.n.09')\",\n",
       " \"Synset('andma.v.07')\",\n",
       " \"Synset('andmine.n.10')\",\n",
       " \"Synset('andma.v.08')\",\n",
       " \"Synset('andmine.n.11')\",\n",
       " \"Synset('andma.v.09')\",\n",
       " \"Synset('andmine.n.12')\",\n",
       " \"Synset('korraldama.v.03')\",\n",
       " \"Synset('korraldamine.n.06')\",\n",
       " \"Synset('andma.v.10')\",\n",
       " \"Synset('andmine.n.13')\",\n",
       " \"Synset('andma.v.11')\",\n",
       " \"Synset('andmine.n.14')\",\n",
       " \"Synset('andma.v.12')\",\n",
       " \"Synset('andmine.n.15')\",\n",
       " \"Synset('panema.v.10')\",\n",
       " \"Synset('panemine.n.05')\",\n",
       " ...]"
      ]
     },
     "execution_count": 2,
     "metadata": {},
     "output_type": "execute_result"
    }
   ],
   "source": [
    "# Leiame kõik sünohulgad\n",
    "wn.all_synsets()"
   ]
  },
  {
   "cell_type": "markdown",
   "metadata": {},
   "source": [
    "Leiame sünohulgad, kuhu kuulub sõna \"koer\":"
   ]
  },
  {
   "cell_type": "code",
   "execution_count": 3,
   "metadata": {
    "collapsed": true
   },
   "outputs": [],
   "source": [
    "koer = wn.synsets(\"koer\")"
   ]
  },
  {
   "cell_type": "code",
   "execution_count": 4,
   "metadata": {
    "collapsed": false
   },
   "outputs": [
    {
     "data": {
      "text/plain": [
       "[\"Synset('koer.n.01')\", \"Synset('kaak.n.01')\"]"
      ]
     },
     "execution_count": 4,
     "metadata": {},
     "output_type": "execute_result"
    }
   ],
   "source": [
    "koer"
   ]
  },
  {
   "cell_type": "markdown",
   "metadata": {},
   "source": [
    "### Ülesanne 1. Uurime Wordnet'i (1p)\n",
    "Kirjutage kood, mis loeb sisse faili *parasiitlusest.txt*, lemmatiseerib teksti, eemaldab lemmade hulgast kirjavahemärgid ning leiab allesjäänud lemmadele Wordneti liidese abil sünohulgad. Vastake järgmistele küsimustele:\n",
    "\n",
    "a) Mitmel % lemmadest on Wordnetis enam kui üks sünohulk?\n",
    "\n",
    "b) Mitmel % lemmadest ei ole Wordnetis ühtegi vastet? Millised on protsendid sõnaliigiti? (St mitu % nimisõnadest, omadussõnadest jne Wordnetist leidmata jääb)\n",
    "\n",
    "c) Mitu tähendust (sünohulka) leitakse iga lemma kohta keskmiselt?\n",
    "\n",
    "Vihjeid:\n",
    "- Kui sõnal on mitu lemmat (nt levima|levinud), siis tuleks sünohulgad leida kõigile lemmadele eraldi."
   ]
  },
  {
   "cell_type": "markdown",
   "metadata": {},
   "source": [
    "### Sünohulkade suhted: ülem- ja alammõisted"
   ]
  },
  {
   "cell_type": "markdown",
   "metadata": {},
   "source": [
    "Leiame leitud sünohulkade ülemmõisted ehk hüperonüümid:"
   ]
  },
  {
   "cell_type": "code",
   "execution_count": 5,
   "metadata": {
    "collapsed": false
   },
   "outputs": [
    {
     "name": "stdout",
     "output_type": "stream",
     "text": [
      "[\"Synset('koerlane.n.01')\"]\n",
      "[\"Synset('alaealine.n.01')\"]\n"
     ]
    }
   ],
   "source": [
    "for k in koer:\n",
    "    print(k.hypernyms())"
   ]
  },
  {
   "cell_type": "markdown",
   "metadata": {},
   "source": [
    "Leiame leitud sünohulkade alammõisted ehk hüponüümid:"
   ]
  },
  {
   "cell_type": "code",
   "execution_count": 6,
   "metadata": {
    "collapsed": false
   },
   "outputs": [
    {
     "name": "stdout",
     "output_type": "stream",
     "text": [
      "[\"Synset('õuekoer.n.01')\", \"Synset('jälituskoer.n.01')\", \"Synset('karjakoer.n.01')\", \"Synset('kelgukoer.n.01')\", \"Synset('toakoer.n.01')\", \"Synset('teenistuskoer.n.01')\", \"Synset('njuufaundlane.n.01')\", \"Synset('veokoer.n.01')\", \"Synset('juhtkoer.n.01')\", \"Synset('jahikoer.n.01')\", \"Synset('sitsija.n.01')\", \"Synset('krants.n.01')\", \"Synset('rakk.n.02')\", \"Synset('lita.n.02')\", \"Synset('koeraklutt.n.01')\", \"Synset('klähvits.n.01')\"]\n",
      "[]\n"
     ]
    }
   ],
   "source": [
    "for k in koer:\n",
    "    print(k.hyponyms())"
   ]
  },
  {
   "cell_type": "markdown",
   "metadata": {},
   "source": [
    "Kui mõni sõnatähendus tundub arusaamatu või ebaloogiline, on võimalik küsida definitsiooni:"
   ]
  },
  {
   "cell_type": "code",
   "execution_count": 7,
   "metadata": {
    "collapsed": false
   },
   "outputs": [
    {
     "data": {
      "text/plain": [
       "'väike koer (EKSS)'"
      ]
     },
     "execution_count": 7,
     "metadata": {},
     "output_type": "execute_result"
    }
   ],
   "source": [
    "wn.synset('rakk.n.02').definition()"
   ]
  },
  {
   "cell_type": "code",
   "execution_count": 8,
   "metadata": {
    "collapsed": false
   },
   "outputs": [
    {
     "data": {
      "text/plain": [
       "[\"Synset('jalats.n.01')\"]"
      ]
     },
     "execution_count": 8,
     "metadata": {},
     "output_type": "execute_result"
    }
   ],
   "source": [
    "wn.synsets(\"jalanõu\")"
   ]
  },
  {
   "cell_type": "code",
   "execution_count": 9,
   "metadata": {
    "collapsed": false
   },
   "outputs": [],
   "source": [
    "jalats = wn.synset('jalats.n.01')"
   ]
  },
  {
   "cell_type": "code",
   "execution_count": 10,
   "metadata": {
    "collapsed": false
   },
   "outputs": [
    {
     "data": {
      "text/plain": [
       "'(laba)jalga välismõjude eest kaitsev kate (king, saabas, sandaal, tuhvel, kaloss vm.)'"
      ]
     },
     "execution_count": 10,
     "metadata": {},
     "output_type": "execute_result"
    }
   ],
   "source": [
    "jalats.definition()"
   ]
  },
  {
   "cell_type": "markdown",
   "metadata": {},
   "source": [
    "Tuleb meeles pidada, et sünohulgas ei pruugi sõnu olla ainult üks - kasutades lemmas() meetodit, saame teada kõik selle sünohulga sõnad:"
   ]
  },
  {
   "cell_type": "code",
   "execution_count": 11,
   "metadata": {
    "collapsed": false
   },
   "outputs": [
    {
     "data": {
      "text/plain": [
       "[<estnltk.wordnet.wn.Lemma at 0x7f12272fb898>,\n",
       " <estnltk.wordnet.wn.Lemma at 0x7f11f20b4e80>,\n",
       " <estnltk.wordnet.wn.Lemma at 0x7f11f20b4ef0>]"
      ]
     },
     "execution_count": 11,
     "metadata": {},
     "output_type": "execute_result"
    }
   ],
   "source": [
    "jalats.lemmas()"
   ]
  },
  {
   "cell_type": "code",
   "execution_count": 12,
   "metadata": {
    "collapsed": false
   },
   "outputs": [
    {
     "data": {
      "text/plain": [
       "['jalats', 'jalanõu', 'jalavari']"
      ]
     },
     "execution_count": 12,
     "metadata": {},
     "output_type": "execute_result"
    }
   ],
   "source": [
    "[lemma.name for lemma in jalats.lemmas()]"
   ]
  },
  {
   "cell_type": "markdown",
   "metadata": {},
   "source": [
    "Kui me ei soovi ainult konkreetse sünohulga lemmasid, vaid näiteks ka hüponüümide, hüponüümide hüponüümide jnejne lemmasid (nt et leida kõikvõimalikud jalatseid tähistavad sõnad), saame kasutada `closure()` meetodit. Sel juhul tuleb ka täpsustada, missugust sünohulkadevahelist suhet vaatame. "
   ]
  },
  {
   "cell_type": "code",
   "execution_count": 13,
   "metadata": {
    "collapsed": false,
    "scrolled": true
   },
   "outputs": [],
   "source": [
    "jalats_synsets = jalats.closure('has_hyponym')"
   ]
  },
  {
   "cell_type": "code",
   "execution_count": 14,
   "metadata": {
    "collapsed": false,
    "scrolled": true
   },
   "outputs": [
    {
     "data": {
      "text/plain": [
       "[\"Synset('ratturiking.n.01')\",\n",
       " \"Synset('naelking.n.01')\",\n",
       " \"Synset('rihmking.n.01')\",\n",
       " \"Synset('uisusaabas.n.01')\",\n",
       " \"Synset('kamass.n.01')\",\n",
       " \"Synset('kaloss.n.01')\",\n",
       " \"Synset('juust.n.02')\",\n",
       " \"Synset('kalurisäärik.n.01')\",\n",
       " \"Synset('tennis.n.01')\",\n",
       " \"Synset('saabas.n.01')\",\n",
       " \"Synset('suss.n.02')\",\n",
       " \"Synset('sõidusaabas.n.01')\",\n",
       " \"Synset('sandaal.n.01')\",\n",
       " \"Synset('koturn.n.01')\",\n",
       " \"Synset('viltsuss.n.01')\",\n",
       " \"Synset('lapseking.n.01')\",\n",
       " \"Synset('ratsasaabas.n.01')\",\n",
       " \"Synset('botas.n.01')\",\n",
       " \"Synset('viisk.n.01')\",\n",
       " \"Synset('kummik.n.01')\",\n",
       " \"Synset('king.n.01')\",\n",
       " \"Synset('viltsaabas.n.01')\",\n",
       " \"Synset('suusasaabas.n.01')\",\n",
       " \"Synset('pastel.n.01')\",\n",
       " \"Synset('suss.n.01')\",\n",
       " \"Synset('golfiking.n.01')\",\n",
       " \"Synset('kirsasaabas.n.01')\",\n",
       " \"Synset('kets.n.01')\",\n",
       " \"Synset('botik.n.01')\",\n",
       " \"Synset('kroomsaabas.n.01')\",\n",
       " \"Synset('spordijalats.n.01')\",\n",
       " \"Synset('peoking.n.01')\",\n",
       " \"Synset('mäesuusasaabas.n.01')\",\n",
       " \"Synset('säärik.n.01')\",\n",
       " \"Synset('balletisuss.n.01')\"]"
      ]
     },
     "execution_count": 14,
     "metadata": {},
     "output_type": "execute_result"
    }
   ],
   "source": [
    "jalats_synsets"
   ]
  },
  {
   "cell_type": "markdown",
   "metadata": {},
   "source": [
    "### Ülesanne 2. Kes on teksti peategelane? (1,5p)\n",
    "Praktikumi materjalide hulgas on toodud üks artikkel portaalist Telegram - fail nimega 'telegram.txt'. Leidke, millist olendit on kõige enam selles tekstis mainitud. Selleks:\n",
    "* leidke tekstist kõik nimisõnade lemmad\n",
    "* leidke wordnetist kõik olendeid tähistavad sõnad. Kasutage sünohulka wn.synset(\"olend.n.01\") - leidke selle closure() ehk kõik alamsünohulgad ning omakorda nende hulkade lemmad\n",
    "* kontrollige, millised tekstis esinenud nimisõnadest kuuluvad olendite hulka\n",
    "* leidke nendest sagedasim\n",
    "* NB! Kui lemma on jäänud mitmeseks (kujul 'päike|päikene'), siis tuleb see | kohalt poolitada ja kontrollida kumbagi lemmat eraldi. Selle juures aitab split() meetod."
   ]
  },
  {
   "cell_type": "markdown",
   "metadata": {},
   "source": [
    "### Sünohulkadevahelised kaugused"
   ]
  },
  {
   "cell_type": "markdown",
   "metadata": {},
   "source": [
    "Lisaks hüpo- ja hüperonüümide leidmisele on võimalik leida ka kahe sünohulga lähim ülemmõiste või nendevaheline kaugus - see peaks näitama, kui sarnased sõnad omavahel on."
   ]
  },
  {
   "cell_type": "markdown",
   "metadata": {},
   "source": [
    "Lähima ülemmõiste leidmine sünohulkadele \"koer.n.01\" ja \"kass.n.01\":"
   ]
  },
  {
   "cell_type": "code",
   "execution_count": 15,
   "metadata": {
    "collapsed": false
   },
   "outputs": [],
   "source": [
    "koer = wn.synset('koer.n.01')\n",
    "kass = wn.synset('kass.n.01')"
   ]
  },
  {
   "cell_type": "code",
   "execution_count": 16,
   "metadata": {
    "collapsed": false
   },
   "outputs": [
    {
     "data": {
      "text/plain": [
       "[\"Synset('kiskjaline.n.01')\"]"
      ]
     },
     "execution_count": 16,
     "metadata": {},
     "output_type": "execute_result"
    }
   ],
   "source": [
    "koer.lowest_common_hypernyms(kass)"
   ]
  },
  {
   "cell_type": "code",
   "execution_count": 17,
   "metadata": {
    "collapsed": true
   },
   "outputs": [],
   "source": [
    "kinnas = wn.synset('kinnas.n.01')\n",
    "teater = wn.synset('teater.n.01')"
   ]
  },
  {
   "cell_type": "code",
   "execution_count": 18,
   "metadata": {
    "collapsed": false
   },
   "outputs": [
    {
     "data": {
      "text/plain": [
       "[\"Synset('asi.n.04')\"]"
      ]
     },
     "execution_count": 18,
     "metadata": {},
     "output_type": "execute_result"
    }
   ],
   "source": [
    "kinnas.lowest_common_hypernyms(teater)"
   ]
  },
  {
   "cell_type": "markdown",
   "metadata": {},
   "source": [
    "Kuna kõik sünohulgad ei ole omavahel ühendatud, ei leidu ka kõigile ühist ülemmõistet:"
   ]
  },
  {
   "cell_type": "code",
   "execution_count": 19,
   "metadata": {
    "collapsed": true
   },
   "outputs": [],
   "source": [
    "kasvatus = wn.synset('kasvatus.n.01')"
   ]
  },
  {
   "cell_type": "code",
   "execution_count": 20,
   "metadata": {
    "collapsed": true
   },
   "outputs": [],
   "source": [
    "koer.lowest_common_hypernyms(kasvatus)"
   ]
  },
  {
   "cell_type": "markdown",
   "metadata": {},
   "source": [
    "Sünohulkade vaheliste kauguste leidmiseks on Wordnetis kolm eri mõõdikut, mille selgitused leiab soovi korral [siit](http://atlas.ahc.umn.edu/umls_similarity/similarity_measures.html). path_similarity ja wup_similarity varieeruvad 0 ja 1 vahel, lch_similarity sõltub aga hierarhia maksimaalsest sügavusest. Kõigi kolme puhul tähistab suurem arv suuremat sarnasust ehk sünohulgad paiknevad üksteisele lähemal."
   ]
  },
  {
   "cell_type": "code",
   "execution_count": 21,
   "metadata": {
    "collapsed": false
   },
   "outputs": [
    {
     "data": {
      "text/plain": [
       "0.058823529411764705"
      ]
     },
     "execution_count": 21,
     "metadata": {},
     "output_type": "execute_result"
    }
   ],
   "source": [
    "koer.path_similarity(kasvatus)"
   ]
  },
  {
   "cell_type": "code",
   "execution_count": 22,
   "metadata": {
    "collapsed": false
   },
   "outputs": [
    {
     "data": {
      "text/plain": [
       "0.2"
      ]
     },
     "execution_count": 22,
     "metadata": {},
     "output_type": "execute_result"
    }
   ],
   "source": [
    "koer.path_similarity(kass)"
   ]
  },
  {
   "cell_type": "code",
   "execution_count": 23,
   "metadata": {
    "collapsed": false
   },
   "outputs": [
    {
     "data": {
      "text/plain": [
       "0.42488319396526597"
      ]
     },
     "execution_count": 23,
     "metadata": {},
     "output_type": "execute_result"
    }
   ],
   "source": [
    "koer.lch_similarity(kasvatus)"
   ]
  },
  {
   "cell_type": "code",
   "execution_count": 24,
   "metadata": {
    "collapsed": false
   },
   "outputs": [
    {
     "data": {
      "text/plain": [
       "1.6486586255873816"
      ]
     },
     "execution_count": 24,
     "metadata": {},
     "output_type": "execute_result"
    }
   ],
   "source": [
    "koer.lch_similarity(kass)"
   ]
  },
  {
   "cell_type": "code",
   "execution_count": 25,
   "metadata": {
    "collapsed": true
   },
   "outputs": [],
   "source": [
    "koer.wup_similarity(kasvatus)"
   ]
  },
  {
   "cell_type": "code",
   "execution_count": 26,
   "metadata": {
    "collapsed": false
   },
   "outputs": [
    {
     "data": {
      "text/plain": [
       "0.8"
      ]
     },
     "execution_count": 26,
     "metadata": {},
     "output_type": "execute_result"
    }
   ],
   "source": [
    "koer.wup_similarity(kass)"
   ]
  },
  {
   "cell_type": "markdown",
   "metadata": {},
   "source": [
    "### Ülesanne 3. Sarnased ja erinevad - Wordnet (1,75p)\n",
    "Kuivõrd ühtivad Wordneti kaugusmõõdikute alusel sarnased sõnad sellega, mida me ise sarnaseks peame? Teeme väikse katse, leides 20 sõna omavahelised kaugused ja visualiseerides tulemusi, et nende hoomamine lihtsam oleks.\n",
    "\n",
    "Valime katsealusteks seekord anekdooditegelased. Failist 'anekdoodid.csv' leiate Eesti Kirjandusmuuseumi [anekdoodiandmebaasist](http://www.folklore.ee/~liisi/o2/) korjatud anekdoodid. Kasutades eelmises ülesandes loodud olendite listi, leidke 20 kõige sagedamini anekdootides esinevat olendit. \n",
    "\n",
    "Kuna Wordnetis saab võrrelda ainult sünohulkadevahelisi kaugusi, mitte aga lemmadevahelisi, siis leidke nendele 20 lemmale vastavad sünohulgad ning nende kõigi omavahelised kaugused. Edasise visualiseerimise huvides tasub koguda need andmed kas pandase dataframe'i või mõnda andmestruktuuri, millest on lihtne moodustada dataframe'i - näiteks sõnastikku, mille väärtusteks on sõnastikud (vt ka visualiseerimisnäide allpool). Sõna/sünohulga kaugus iseendaga jätke tühjaks - see võimaldab visualisatsioonis paremini esile tulla huvitavamatel juhtudel.\n",
    "\n",
    "Visualiseerige tulemused heatmap'ina. Rea- ja veerunimedeks peaksid olema lemmad, mitte sünohulgad."
   ]
  },
  {
   "cell_type": "markdown",
   "metadata": {},
   "source": [
    "Vihjeid:\n",
    "* kaugusmõõdikuna kasutage ükskõik millist ülaltoodutest\n",
    "* heatmap'i loomisel on abiks [_seaborn_](https://seaborn.pydata.org/) teek. Installimine käib tavapäraselt:\n",
    "\n",
    "    conda install seaborn"
   ]
  },
  {
   "cell_type": "markdown",
   "metadata": {},
   "source": [
    "##### Heatmap'i loomine seaborn teegi abil"
   ]
  },
  {
   "cell_type": "code",
   "execution_count": 27,
   "metadata": {
    "collapsed": true
   },
   "outputs": [],
   "source": [
    "# Impordime teegi (peab eelnevalt installima!)\n",
    "import seaborn as sns\n",
    "import pandas as pd"
   ]
  },
  {
   "cell_type": "code",
   "execution_count": 28,
   "metadata": {
    "collapsed": true
   },
   "outputs": [],
   "source": [
    "# See rida on nn notebook magic, võimaldab diagramme otse otebookis kuvada ilma 'show' vms käsuta. \n",
    "# (http://ipython.readthedocs.io/en/stable/interactive/magics.html#magic-matplotlib)\n",
    "%matplotlib inline"
   ]
  },
  {
   "cell_type": "code",
   "execution_count": 29,
   "metadata": {
    "collapsed": true
   },
   "outputs": [],
   "source": [
    "# Mänguandmestik visualiseerimisnäite jaoks\n",
    "d = {'õun': {'pirn': 2, 'kirss': 1}, 'pirn': {'kirss': 3, 'õun': 2}, 'kirss': {'õun': 1, 'pirn': 3}}"
   ]
  },
  {
   "cell_type": "code",
   "execution_count": 30,
   "metadata": {
    "collapsed": true
   },
   "outputs": [],
   "source": [
    "df = pd.DataFrame.from_dict(d)"
   ]
  },
  {
   "cell_type": "code",
   "execution_count": 31,
   "metadata": {
    "collapsed": false
   },
   "outputs": [
    {
     "data": {
      "text/html": [
       "<div>\n",
       "<table border=\"1\" class=\"dataframe\">\n",
       "  <thead>\n",
       "    <tr style=\"text-align: right;\">\n",
       "      <th></th>\n",
       "      <th>kirss</th>\n",
       "      <th>pirn</th>\n",
       "      <th>õun</th>\n",
       "    </tr>\n",
       "  </thead>\n",
       "  <tbody>\n",
       "    <tr>\n",
       "      <th>kirss</th>\n",
       "      <td>NaN</td>\n",
       "      <td>3.0</td>\n",
       "      <td>1.0</td>\n",
       "    </tr>\n",
       "    <tr>\n",
       "      <th>pirn</th>\n",
       "      <td>3.0</td>\n",
       "      <td>NaN</td>\n",
       "      <td>2.0</td>\n",
       "    </tr>\n",
       "    <tr>\n",
       "      <th>õun</th>\n",
       "      <td>1.0</td>\n",
       "      <td>2.0</td>\n",
       "      <td>NaN</td>\n",
       "    </tr>\n",
       "  </tbody>\n",
       "</table>\n",
       "</div>"
      ],
      "text/plain": [
       "       kirss  pirn  õun\n",
       "kirss    NaN   3.0  1.0\n",
       "pirn     3.0   NaN  2.0\n",
       "õun      1.0   2.0  NaN"
      ]
     },
     "execution_count": 31,
     "metadata": {},
     "output_type": "execute_result"
    }
   ],
   "source": [
    "df"
   ]
  },
  {
   "cell_type": "code",
   "execution_count": 32,
   "metadata": {
    "collapsed": false,
    "scrolled": true
   },
   "outputs": [
    {
     "data": {
      "text/plain": [
       "<matplotlib.axes._subplots.AxesSubplot at 0x7f12216ac048>"
      ]
     },
     "execution_count": 32,
     "metadata": {},
     "output_type": "execute_result"
    },
    {
     "data": {
      "image/png": "[encoded data removed]",
      "text/plain": [
       "<matplotlib.figure.Figure at 0x7f1227093a20>"
      ]
     },
     "metadata": {},
     "output_type": "display_data"
    }
   ],
   "source": [
    "sns.heatmap(df)"
   ]
  },
  {
   "cell_type": "markdown",
   "metadata": {},
   "source": [
    "Soovi korral saame muuta värve või muid kujunduselemente - värvide kohta vt [siit](https://seaborn.pydata.org/tutorial/color_palettes.html)"
   ]
  },
  {
   "cell_type": "code",
   "execution_count": 33,
   "metadata": {
    "collapsed": false
   },
   "outputs": [
    {
     "data": {
      "text/plain": [
       "<matplotlib.axes._subplots.AxesSubplot at 0x7f11f9d6db00>"
      ]
     },
     "execution_count": 33,
     "metadata": {},
     "output_type": "execute_result"
    },
    {
     "data": {
      "image/png": "[encoded data removed]",
      "text/plain": [
       "<matplotlib.figure.Figure at 0x7f11ffac14e0>"
      ]
     },
     "metadata": {},
     "output_type": "display_data"
    }
   ],
   "source": [
    "sns.heatmap(df, cmap = 'coolwarm', linewidths=1.0, annot=True)"
   ]
  },
  {
   "cell_type": "markdown",
   "metadata": {},
   "source": [
    "#### Wordneti varjukülg"
   ]
  },
  {
   "cell_type": "markdown",
   "metadata": {},
   "source": [
    "Vaadake ülesandes 2 loodud _heatmap_'i. Kas sõnade sarnasused vastavad sellele, mida oma intuitsiooni põhjal arvaksite? \n",
    "\n",
    "Vaadake ka järgmisi näiteid:"
   ]
  },
  {
   "cell_type": "code",
   "execution_count": 34,
   "metadata": {
    "collapsed": true
   },
   "outputs": [],
   "source": [
    "inglane = wn.synsets('inglane')[0]\n",
    "ameeriklane = wn.synsets('ameeriklane')[0]\n",
    "majaelanik = wn.synsets('majaelanik')[0]"
   ]
  },
  {
   "cell_type": "code",
   "execution_count": 35,
   "metadata": {
    "collapsed": false
   },
   "outputs": [
    {
     "data": {
      "text/plain": [
       "0.2"
      ]
     },
     "execution_count": 35,
     "metadata": {},
     "output_type": "execute_result"
    }
   ],
   "source": [
    "inglane.path_similarity(ameeriklane)"
   ]
  },
  {
   "cell_type": "code",
   "execution_count": 36,
   "metadata": {
    "collapsed": false
   },
   "outputs": [
    {
     "data": {
      "text/plain": [
       "0.3333333333333333"
      ]
     },
     "execution_count": 36,
     "metadata": {},
     "output_type": "execute_result"
    }
   ],
   "source": [
    "ameeriklane.path_similarity(majaelanik)"
   ]
  },
  {
   "cell_type": "code",
   "execution_count": 37,
   "metadata": {
    "collapsed": false
   },
   "outputs": [
    {
     "data": {
      "text/plain": [
       "0.2"
      ]
     },
     "execution_count": 37,
     "metadata": {},
     "output_type": "execute_result"
    }
   ],
   "source": [
    "majaelanik.path_similarity(inglane)"
   ]
  },
  {
   "cell_type": "markdown",
   "metadata": {},
   "source": [
    "Intuitiivselt pakuksime ilmselt, et \"inglane\" ja \"ameeriklane\" on omavahel sarnasemad kui kumbki sõna sõnaga \"majaelanik\", ent Wordnet arvab vastupidist. Miks?"
   ]
  },
  {
   "cell_type": "code",
   "execution_count": 38,
   "metadata": {
    "collapsed": false
   },
   "outputs": [
    {
     "data": {
      "text/plain": [
       "[\"Synset('elanik.n.01')\"]"
      ]
     },
     "execution_count": 38,
     "metadata": {},
     "output_type": "execute_result"
    }
   ],
   "source": [
    "ameeriklane.hypernyms()"
   ]
  },
  {
   "cell_type": "code",
   "execution_count": 39,
   "metadata": {
    "collapsed": false
   },
   "outputs": [
    {
     "data": {
      "text/plain": [
       "[\"Synset('eurooplane.n.01')\"]"
      ]
     },
     "execution_count": 39,
     "metadata": {},
     "output_type": "execute_result"
    }
   ],
   "source": [
    "inglane.hypernyms()"
   ]
  },
  {
   "cell_type": "code",
   "execution_count": 40,
   "metadata": {
    "collapsed": false
   },
   "outputs": [
    {
     "data": {
      "text/plain": [
       "[\"Synset('elanik.n.01')\"]"
      ]
     },
     "execution_count": 40,
     "metadata": {},
     "output_type": "execute_result"
    }
   ],
   "source": [
    "majaelanik.hypernyms()"
   ]
  },
  {
   "cell_type": "code",
   "execution_count": 41,
   "metadata": {
    "collapsed": false
   },
   "outputs": [
    {
     "data": {
      "text/plain": [
       "[\"Synset('inimene.n.01')\"]"
      ]
     },
     "execution_count": 41,
     "metadata": {},
     "output_type": "execute_result"
    }
   ],
   "source": [
    "ameeriklane.lowest_common_hypernyms(inglane)"
   ]
  },
  {
   "cell_type": "markdown",
   "metadata": {},
   "source": [
    "Ühesõnaga, Wordneti hierarhia ei vasta alati intuitsioonile. Õnneks on aga olemas ka teisi viise sõnade sarnasuse hindamiseks. Järgnevalt katsetame mudelit [word2vec](https://en.wikipedia.org/wiki/Word2vec)."
   ]
  },
  {
   "cell_type": "markdown",
   "metadata": {},
   "source": [
    "### Word2vec"
   ]
  },
  {
   "cell_type": "markdown",
   "metadata": {},
   "source": [
    "Word2vec mudel põhineb **distributiivsushüpoteesil**: sarnase distributsiooniga lingvistilised üksused on ka semantiliselt sarnased. Ehk - sõnad, mis esinevad sarnastes kontekstides, on sarnase tähendusega. Kuna siin kursusel me süvitsi masinõppeteemadesse ei lähe, siis võtame word2veci kui musta kasti ega süvene praegu sellesse, kuidas kontekstide sarnasusi arvutatakse. Kui aga on siiski huvi rohkem teada, siis saab näiteks [siit](https://www.distilled.net/resources/a-beginners-guide-to-word2vec-aka-whats-the-opposite-of-canada/)."
   ]
  },
  {
   "cell_type": "markdown",
   "metadata": {},
   "source": [
    "Nagu enamiku masinõpperakenduste puhul, on ka word2veci jaoks oluline omada võimalikult palju andmeid. Mida rohkem andmeid, seda aeglasem on aga mudelite treenimine. Seetõttu on nt EstNLTK-s olemas juba suurte korpuste peal valmis treenitud [word2vec mudelid](https://github.com/estnltk/word2vec-models/blob/master/README.md)."
   ]
  },
  {
   "cell_type": "markdown",
   "metadata": {},
   "source": [
    "Meie aga katsetame järgmises ülesandes ise oma mudeli treenimist väiksel korpusel. Word2vec mudelite loomisel on abiks teek [_gensim_](https://radimrehurek.com/gensim/), mille saab installida tavapäraselt:"
   ]
  },
  {
   "cell_type": "markdown",
   "metadata": {},
   "source": [
    "conda install gensim"
   ]
  },
  {
   "cell_type": "markdown",
   "metadata": {},
   "source": [
    "Mudeli loomiseks tuleb word2vec'ile ette anda n-ö kontekstide listina oma korpus. Näiteks, kui korpuseks on tekst\n",
    "\n",
    "\"Mari sööb õuna. Jüri ei söö õuna.\"\n",
    "\n",
    "ja kontekstiks lause, siis tuleks korpus ette anda kujul"
   ]
  },
  {
   "cell_type": "code",
   "execution_count": 42,
   "metadata": {
    "collapsed": true
   },
   "outputs": [],
   "source": [
    "corpus = [['Mari', 'sööb', 'õuna', '.'], ['Jüri', 'ei', 'söö', 'õuna', '.']]"
   ]
  },
  {
   "cell_type": "markdown",
   "metadata": {},
   "source": [
    "Mudeli treenimiseks on meetod Word2Vec():"
   ]
  },
  {
   "cell_type": "code",
   "execution_count": 43,
   "metadata": {
    "collapsed": false
   },
   "outputs": [],
   "source": [
    "from gensim.models.word2vec import Word2Vec\n",
    "model = Word2Vec(corpus, min_count = 1)"
   ]
  },
  {
   "cell_type": "markdown",
   "metadata": {},
   "source": [
    "*min_count* parameeter määrab, mitu korda minimaalselt peab sõna korpuses esinema - vaikimisi on see 5, aga kuna praeguses \"korpuses\" ükski sõna nii palju ei esine, siis kasutame siin näites 1. (Ise mudelit treenides võite katsetada erinevaid variante.)"
   ]
  },
  {
   "cell_type": "markdown",
   "metadata": {},
   "source": [
    "Kui mudel on valmis, saamegi hakata sõnade sarnasusi küsima:"
   ]
  },
  {
   "cell_type": "code",
   "execution_count": 44,
   "metadata": {
    "collapsed": false
   },
   "outputs": [
    {
     "data": {
      "text/plain": [
       "0.14443817420071511"
      ]
     },
     "execution_count": 44,
     "metadata": {},
     "output_type": "execute_result"
    }
   ],
   "source": [
    "model.similarity(\"Mari\", \"Jüri\")"
   ]
  },
  {
   "cell_type": "code",
   "execution_count": 45,
   "metadata": {
    "collapsed": false
   },
   "outputs": [
    {
     "data": {
      "text/plain": [
       "0.030650327388455557"
      ]
     },
     "execution_count": 45,
     "metadata": {},
     "output_type": "execute_result"
    }
   ],
   "source": [
    "model.similarity(\"Mari\", \"õuna\")"
   ]
  },
  {
   "cell_type": "markdown",
   "metadata": {},
   "source": [
    "### Ülesanne 4. Sarnased ja erinevad - Word2vec (1,5p)"
   ]
  },
  {
   "cell_type": "markdown",
   "metadata": {},
   "source": [
    "Looge _gensim_ teegi abil anekdootide korpuse põhjal oma word2vec mudel, leidke anekdooditegelaste vahelised sarnasusnäitajad ning visualiseerige tulemused nii, nagu eelmiseski ülesandes.\n",
    "\n",
    "Detailid:\n",
    "* Korpusena kasutage kõiki anekdoote failist anekdoodid.csv\n",
    "* Kontekstina kasutage lauset (lausestamisel aitab loomulikult EstNLTK)\n",
    "* Lemmatiseerige anekdoodid, st esitage laused lemmade listina. Mitmeste lemmade puhul valige esimene, viimane või juhuslik variant.\n",
    "* Treenitud mudeli põhjal leidke kõigi 20 sagedasema anekdooditegelase omavahelised sarnasusnäitajad. Lemma ja tema enda sarnasust ärge arvestage (jätke märkimata).\n",
    "* Visualiseerige tulemus heatmap'ina\n",
    "\n",
    "Milliseid sarnasusi-erinevusi märkate võrreldes eelmise ülesande tulemustega?"
   ]
  },
  {
   "cell_type": "markdown",
   "metadata": {},
   "source": [
    "### Pdf-i lugemine Pythonis"
   ]
  },
  {
   "cell_type": "markdown",
   "metadata": {},
   "source": [
    "Paljud arhiveeritud dokumendid ning teadusartiklid talletatakse PDF formaadis. Need näevad inimsilma jaoks head välja (sest mis ilust saame me rääkida näiteks csv, json-i või txt formaadi puhul?), ent automaattöötluse seisukohast on see ilu pigem nuhtluseks. Pdf-dokumentide sisemine struktuur võib olla väga erinev, sõltuvalt sellest, kuidas ja milliste vahenditega dokument loodud on (kui pdf-i siseelu lähemalt huvitab, saab sellest lugeda näiteks [siit](https://web.archive.org/web/20141010035745/http://gnupdf.org/Introduction_to_PDF)). \n",
    "\n",
    "Isegi kui jätame praegu kõrvale juhtumid, kus dokumendid on saadud nt skannimise teel ja tegemata on optiline tekstituvastus (sellest tuleb juttu 12. praktikumis), on pdf-ide programmaatiline lugemine paras peavalu. Seega, parim nõuanne pdf-ist teksti (või ka muude üksuste - tabelite jms) ekstraheerimise osas oleks mitte seda teha - kui vähegi võimalik, püüda andmed hankida sellisel kujul, nagu nad olid enne pdf-iks muutmist. Kui see aga siiski võimalik ei ole, siis on olemas mõned Pythoni tööriistad, mis siiski abiks on."
   ]
  },
  {
   "cell_type": "markdown",
   "metadata": {},
   "source": [
    "Hinnatuimad teegid pdf-ide töötlemiseks Pythonis on [_pyPDF2_](https://github.com/mstamy2/PyPDF2) ja [_pdfminer_](https://github.com/euske/pdfminer). Seejuures on kummalgi ka omad plussid ja miinused. _PyPDF2_ on baastööriist, millel ei ole palju võimalusi, ent seda on lihtne kasutada ja see on hästi dokumenteeritud. Saadaval condast nii Windowsile kui Linuxile järgnevalt:"
   ]
  },
  {
   "cell_type": "markdown",
   "metadata": {},
   "source": [
    "conda install -c conda-forge pypdf2"
   ]
  },
  {
   "cell_type": "markdown",
   "metadata": {},
   "source": [
    "_Pdfminer_ oli originaalis saadaval vaid Python 2-le, Python 3 jaoks on olemas versioon [_pdfminer3k_](https://github.com/jaepil/pdfminer3k), mis on originaaliga võrreldes veel kehvemini dokumenteeritud ega ole ka täpselt samasuguse liidesega. Samas pakub _pdfminer_ rohkem võimalusi, et edukalt oma pdf-ist tekst ikkagi kätte saada. _Pdfminer3k_ on saadaval condast käsuga"
   ]
  },
  {
   "cell_type": "markdown",
   "metadata": {},
   "source": [
    "conda install -c conda-forge pdfminer3k"
   ]
  },
  {
   "cell_type": "markdown",
   "metadata": {},
   "source": [
    "### Boonusülesanne. (1p)\n",
    "Uurige, kuidas töötavad teegid pypdf2 ja pdfminer. Katsetage mõlemaga teksti eraldamist failidest 'artikkel.pdf' ja 'kohtulahend.pdf'. Kirjeldage tulemust. (Pdfmineri puhul võib kasutada ka Python 2-le loodud versiooni, millele leidub rohkem dokumentatsiooni - sel juhul on vaja luua esmalt uus conda keskkond, kuhu oleks installitud python2.\n",
    "\n",
    "**NB!** Kui installite python2 oma tavapäraselt kasutatavasse conda keskkonda, siis sealt eemaldatakse python3 ja vajalikud asjad enam ei tööta.\n",
    "\n",
    "(Kummagi teegi kasutamine annab 0,5p.)"
   ]
  }
 ],
 "metadata": {
  "anaconda-cloud": {},
  "kernelspec": {
   "display_name": "Python [conda env:estnltk141]",
   "language": "python",
   "name": "conda-env-estnltk141-py"
  },
  "language_info": {
   "codemirror_mode": {
    "name": "ipython",
    "version": 3
   },
   "file_extension": ".py",
   "mimetype": "text/x-python",
   "name": "python",
   "nbconvert_exporter": "python",
   "pygments_lexer": "ipython3",
   "version": "3.5.3"
  },
  "nbpresent": {
   "slides": {
    "0a83f097-d5a8-49a0-96ea-3777ad00e83e": {
     "id": "0a83f097-d5a8-49a0-96ea-3777ad00e83e",
     "layout": "grid",
     "prev": null,
     "regions": {
      "b43e0a67-a12c-4b80-b32b-f180aac41485": {
       "attrs": {
        "height": 1,
        "pad": 0.01,
        "treemap:weight": 1,
        "width": 0.5,
        "x": 0,
        "y": 0
       },
       "id": "b43e0a67-a12c-4b80-b32b-f180aac41485"
      },
      "b4774102-439d-4c9b-aed3-4c65c48230f0": {
       "attrs": {
        "height": 1,
        "pad": 0.01,
        "treemap:weight": 1,
        "width": 0.5,
        "x": 0,
        "y": 0
       },
       "content": {
        "cell": "1434895f-2170-4afe-afbc-121e1a02ccad",
        "part": "whole"
       },
       "id": "b4774102-439d-4c9b-aed3-4c65c48230f0"
      }
     }
    },
    "15fef150-7f9c-4195-80da-5a896be0a2b2": {
     "id": "15fef150-7f9c-4195-80da-5a896be0a2b2",
     "prev": "ffc76c4d-dcdf-489a-aaf7-2480d2150a57",
     "regions": {
      "24442615-75de-4d57-b2ec-5d42b7eba825": {
       "attrs": {
        "height": 0.8,
        "width": 0.8,
        "x": 0.1,
        "y": 0.1
       },
       "content": {
        "cell": "701ca367-b28f-44b6-b6b6-11c3891dd4b9",
        "part": "whole"
       },
       "id": "24442615-75de-4d57-b2ec-5d42b7eba825"
      }
     }
    },
    "1ba956c6-cba5-4def-a65f-1d8df941a865": {
     "id": "1ba956c6-cba5-4def-a65f-1d8df941a865",
     "prev": "6b76d734-526f-4ebc-98c5-9780e0907583",
     "regions": {
      "095e8f83-5fed-4c51-9e6f-4ac57d2ee1a0": {
       "attrs": {
        "height": 0.8,
        "width": 0.8,
        "x": -0.02068965517241384,
        "y": 0.04061302681992335
       },
       "content": {
        "cell": "2e3eecd2-f1ee-4580-bd31-c2c245eee957",
        "part": "whole"
       },
       "id": "095e8f83-5fed-4c51-9e6f-4ac57d2ee1a0"
      }
     }
    },
    "6b76d734-526f-4ebc-98c5-9780e0907583": {
     "id": "6b76d734-526f-4ebc-98c5-9780e0907583",
     "prev": "15fef150-7f9c-4195-80da-5a896be0a2b2",
     "regions": {
      "ef21cb5f-c64b-4372-965c-9eaea3e1b6ae": {
       "attrs": {
        "height": 0.8,
        "width": 0.8,
        "x": 0.1,
        "y": 0.1
       },
       "content": {
        "cell": "3008a912-87ef-412c-8993-73df579b5047",
        "part": "whole"
       },
       "id": "ef21cb5f-c64b-4372-965c-9eaea3e1b6ae"
      }
     }
    },
    "7ebb2f67-b666-416f-8b71-a157ef2eee6b": {
     "id": "7ebb2f67-b666-416f-8b71-a157ef2eee6b",
     "prev": "0a83f097-d5a8-49a0-96ea-3777ad00e83e",
     "regions": {
      "42d5c8bf-2ac7-49d8-bd05-93df8845bec4": {
       "attrs": {
        "height": 0.8,
        "width": 0.8,
        "x": 0.1,
        "y": 0.1
       },
       "content": {
        "cell": "604faf20-832d-48e4-86b5-325f4b5e6e7e",
        "part": "whole"
       },
       "id": "42d5c8bf-2ac7-49d8-bd05-93df8845bec4"
      }
     }
    },
    "ffc76c4d-dcdf-489a-aaf7-2480d2150a57": {
     "id": "ffc76c4d-dcdf-489a-aaf7-2480d2150a57",
     "prev": "7ebb2f67-b666-416f-8b71-a157ef2eee6b",
     "regions": {
      "4ec9bbc2-ca2a-4718-aa34-f62d928b0510": {
       "attrs": {
        "height": 1,
        "width": 1,
        "x": 0,
        "y": 0
       },
       "id": "4ec9bbc2-ca2a-4718-aa34-f62d928b0510"
      }
     }
    }
   },
   "themes": {}
  }
 },
 "nbformat": 4,
 "nbformat_minor": 1
}
