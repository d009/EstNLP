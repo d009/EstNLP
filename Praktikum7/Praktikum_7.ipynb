{
 "cells": [
  {
   "cell_type": "markdown",
   "metadata": {},
   "source": [
    "<h1 style=\"color:blue\">Praktikum 7. </h1>\n",
    "\n",
    "<h3 style=\"color:blue\">Wordnet. Heatmap'i loomine. Word2vec. Pdf-i lugemine Pythonis.</h3>\n",
    "\n",
    "## Wordnet\n",
    "\n",
    "### Sünohulgad"
   ]
  },
  {
   "cell_type": "markdown",
   "metadata": {},
   "source": [
    "**Wordnet** on leksikaal-semantiline andmebaas, mis sisaldab informatsiooni mõistete ja nendevaheliste semantiliste suhete kohta. Wordnette on tehtud paljudele keeltele. Rohkem informatsiooni Eesti Wordneti (EstWN) kohta, sh EstWNis kasutatavad semantilised suhted, leiab [siit](http://www.cl.ut.ee/ressursid/teksaurus/?lang=et). Muuhulgas on seal toodud kaks viidet, kuidas Wordnetist päringuid teha saab. Praktikumis käsitleme aga Wordneti Pythoni liidest, mille eeliseks on loomulikult kasutatavus oma programmikoodi sees. Dokumentatsioon on saadaval [siin](https://github.com/estnltk/estnltk/blob/version_1.6/tutorials/wordnet/wordnet.ipynb).\n",
    "\n",
    "Wordneti põhiühik on **sünohulk** (või **sünonüümihulk**), mis koosneb kõigist ühte ja sama mõistet väljendavatest sõnadest (või sõnaühenditest). Sünohulgad on ühendatud **viidetega**, mis vastavad mõistetevahelistele **suhetele**. Kõige olulisemad (ehk Wordnetis kõige enam esindatud) suhted on **hüponüümia** ja **hüperonüümia** ehk alam- ja ülemmõisted. "
   ]
  },
  {
   "cell_type": "markdown",
   "metadata": {},
   "source": [
    "### Sünohulgad"
   ]
  },
  {
   "cell_type": "markdown",
   "metadata": {},
   "source": [
    "Wordneti kasutamiseks tuleb importida vastav moodul ja luua Wordneti objekt:"
   ]
  },
  {
   "cell_type": "code",
   "execution_count": 1,
   "metadata": {
    "scrolled": true
   },
   "outputs": [],
   "source": [
    "from estnltk.wordnet import Wordnet\n",
    "\n",
    "wn = Wordnet()"
   ]
  },
  {
   "cell_type": "markdown",
   "metadata": {},
   "source": [
    "Wordnetis leidub leidub nimisõnu, verbe, adjektiive ja adverbe. Kui soovime kätte saada kindlat sõnaliiki sõnu, saame `synsets_with_pos` meetodile sõnaliigitunnust ette andes tekitada generaatori, üle mille itereerida."
   ]
  },
  {
   "cell_type": "code",
   "execution_count": 2,
   "metadata": {},
   "outputs": [
    {
     "name": "stdout",
     "output_type": "stream",
     "text": [
      "Synset('4D.a.01')\n",
      "Synset('aadamaülikonnas.a.01')\n",
      "Synset('aadellik.a.01')\n",
      "Synset('aadeteta.a.01')\n",
      "Synset('äädikaline.a.01')\n",
      "Synset('äädikane.a.01')\n",
      "Synset('ääre-.a.01')\n",
      "Synset('äärmine.a.01')\n",
      "Synset('äärmine.a.02')\n",
      "Synset('äärmuslik.a.01')\n",
      "Synset('äärne.a.01')\n",
      "Synset('ääspunane.a.01')\n",
      "Synset('aastane.a.01')\n",
      "Synset('aastane.a.02')\n",
      "Synset('aastaringne.a.01')\n",
      "Synset('aateline.a.01')\n",
      "Synset('aatomi-.a.01')\n",
      "Synset('äbar.a.01')\n",
      "Synset('aberrantne.a.01')\n",
      "Synset('abi-.a.01')\n",
      "Synset('abielus.a.01')\n",
      "Synset('abiotsiv.a.01')\n",
      "Synset('abitu.a.02')\n",
      "Synset('abivalmis.a.01')\n",
      "Synset('ablas.a.01')\n"
     ]
    }
   ],
   "source": [
    "adjectives = wn.synsets_with_pos('a')  # pärime omadussõnad\n",
    "\n",
    "counter = 0\n",
    "while counter < 25:\n",
    "    print(next(adjectives))\n",
    "    counter += 1"
   ]
  },
  {
   "cell_type": "markdown",
   "metadata": {},
   "source": [
    "Pärida saab ka sünohulki, kus leidub kindel sõna:"
   ]
  },
  {
   "cell_type": "code",
   "execution_count": 3,
   "metadata": {},
   "outputs": [],
   "source": [
    "koerad = wn['koer']"
   ]
  },
  {
   "cell_type": "markdown",
   "metadata": {},
   "source": [
    "või kus sõnal on soovitud sõnaliik:"
   ]
  },
  {
   "cell_type": "code",
   "execution_count": 4,
   "metadata": {},
   "outputs": [],
   "source": [
    "t2na = wn['täna']\n",
    "t2na_r = wn['täna', 'r']  # pärime adverbi"
   ]
  },
  {
   "cell_type": "code",
   "execution_count": 5,
   "metadata": {},
   "outputs": [
    {
     "data": {
      "text/plain": [
       "[\"Synset('täna.r.01')\", \"Synset('täna.r.02')\", \"Synset('täna.n.01')\"]"
      ]
     },
     "execution_count": 5,
     "metadata": {},
     "output_type": "execute_result"
    }
   ],
   "source": [
    "t2na"
   ]
  },
  {
   "cell_type": "code",
   "execution_count": 6,
   "metadata": {},
   "outputs": [
    {
     "data": {
      "text/plain": [
       "[\"Synset('täna.r.01')\", \"Synset('täna.r.02')\"]"
      ]
     },
     "execution_count": 6,
     "metadata": {},
     "output_type": "execute_result"
    }
   ],
   "source": [
    "t2na_r"
   ]
  },
  {
   "cell_type": "markdown",
   "metadata": {},
   "source": [
    "Üks sõna kuulub sageli mitmesse sünohulka, sünohulka omakorda kuulub enamasti mitu sünonüümset lemmat.\n",
    "Selleks, et sünohulkade tähendusi eristada, saame vaadata definitsiooni:"
   ]
  },
  {
   "cell_type": "code",
   "execution_count": 8,
   "metadata": {
    "scrolled": false
   },
   "outputs": [
    {
     "name": "stdout",
     "output_type": "stream",
     "text": [
      "Synset('suund.n.02') -- mingisse punkti või kohta juhtiv joon; sõidu-, kulgemissuund\n",
      "Synset('abinõu.n.01') -- mingile eesmärgile suunatud, selle saavutamiseks rakendatud tegevus\n",
      "Synset('rada.n.03') -- veebiaadressi puhul see osa veebiaadressist, mis määrab ära otsitava faili asukoha kataloogisüsteemis ehk failini viiva tee\n",
      "Synset('tee.n.04') -- miski, mida mööda saab minna ühest kohast teise\n",
      "Synset('tee.n.05') -- jook, mida saadakse (purustatud) teelehtede leotamisel vees\n",
      "Synset('tee.n.06') -- väljakujunenud tee liikumiseks, reisimiseks\n",
      "Synset('tee.n.07') -- mingi liin, mida mööda sõidetakse, reisitakse\n",
      "Synset('tee.n.08') -- teepõõsa ja muude taimede kuivatatud lehed, pungad, varred või õied joogi valmistamiseks\n",
      "Synset('pöördustee.n.01') -- faili poole pöördumisel (näit. opsüsteemist) läbitavate hierarhiliste kataloogide jada\n"
     ]
    }
   ],
   "source": [
    "for tee in wn['tee']:\n",
    "    print(tee, '--', tee.definition)"
   ]
  },
  {
   "cell_type": "markdown",
   "metadata": {},
   "source": [
    "Sünohulka kuuluvaid lemmasid saame pärida nii:"
   ]
  },
  {
   "cell_type": "code",
   "execution_count": 7,
   "metadata": {
    "scrolled": true
   },
   "outputs": [
    {
     "data": {
      "text/plain": [
       "['koos', 'kurss', 'orientatsioon', 'siht', 'suund', 'tee']"
      ]
     },
     "execution_count": 7,
     "metadata": {},
     "output_type": "execute_result"
    }
   ],
   "source": [
    "wn['tee'][0].lemmas"
   ]
  },
  {
   "cell_type": "markdown",
   "metadata": {},
   "source": [
    "### Ülesanne 1. Uurime Wordnet'i (1p)\n",
    "Kirjutage kood, mis loeb sisse faili \"parasiitlusest.txt\", lemmatiseerib teksti, eemaldab lemmade hulgast kirjavahemärgid ning leiab allesjäänud lemmadele Wordneti liidese abil sünohulgad. Vastake järgmistele küsimustele:\n",
    "\n",
    "a) Mitmel % lemmadest on Wordnetis enam kui üks sünohulk?\n",
    "\n",
    "b) Mitmel % lemmadest ei ole Wordnetis ühtegi vastet? Millised on protsendid sõnaliigiti? (St mitu % nimisõnadest, omadussõnadest jne Wordnetist leidmata jääb)\n",
    "\n",
    "c) Mitu tähendust (sünohulka) leitakse iga lemma kohta keskmiselt?\n",
    "\n",
    "Vihjeid:\n",
    "- Kui mitmesel sõnal on erinevad lemmad (nt levima/levinud), siis tuleks sünohulgad leida kõigile lemmadele eraldi."
   ]
  },
  {
   "cell_type": "markdown",
   "metadata": {},
   "source": [
    "### Sünohulkade suhted: ülem- ja alammõisted"
   ]
  },
  {
   "cell_type": "markdown",
   "metadata": {},
   "source": [
    "Leiame varem päritud koera sünohulkade ülemmõisted e hüperonüümid:"
   ]
  },
  {
   "cell_type": "code",
   "execution_count": 9,
   "metadata": {},
   "outputs": [
    {
     "name": "stdout",
     "output_type": "stream",
     "text": [
      "[\"Synset('koduloom.n.01')\"]\n",
      "[\"Synset('huligaan.n.01')\"]\n",
      "[\"Synset('tööriist.n.01')\"]\n"
     ]
    }
   ],
   "source": [
    "for k in koerad:\n",
    "    print(k.hypernyms)"
   ]
  },
  {
   "cell_type": "markdown",
   "metadata": {},
   "source": [
    "ja alammõisted e hüponüümid:"
   ]
  },
  {
   "cell_type": "code",
   "execution_count": 10,
   "metadata": {
    "scrolled": true
   },
   "outputs": [
    {
     "name": "stdout",
     "output_type": "stream",
     "text": [
      "[\"Synset('ajukoer.n.01')\", \"Synset('spits.n.01')\", \"Synset('koeraklähvits.n.01')\", \"Synset('koeranäss.n.01')\", \"Synset('lita.n.02')\", \"Synset('rakk.n.02')\", \"Synset('krants.n.01')\", \"Synset('sitsija.n.01')\", \"Synset('jahikoer.n.01')\", \"Synset('juhtkoer.n.01')\", \"Synset('veokoer.n.01')\", \"Synset('toakoer.n.01')\", \"Synset('kelgukoer.n.01')\", \"Synset('karjakoer.n.01')\", \"Synset('jälituskoer.n.01')\", \"Synset('hoovikoer.n.01')\", \"Synset('teenistuskoer.n.01')\", \"Synset('hulkurkoer.n.01')\", \"Synset('tõukoer.n.01')\", \"Synset('rakats.n.01')\", \"Synset('puli.n.01')\"]\n",
      "[]\n",
      "[]\n"
     ]
    }
   ],
   "source": [
    "for k in koerad:\n",
    "    print(k.hyponyms)"
   ]
  },
  {
   "cell_type": "markdown",
   "metadata": {},
   "source": [
    "Eraldi meetodid on ka holonüümide ja meronüümide e osa-terviku suhtes olevate sünohulkade leidmiseks."
   ]
  },
  {
   "cell_type": "code",
   "execution_count": 11,
   "metadata": {},
   "outputs": [
    {
     "name": "stdout",
     "output_type": "stream",
     "text": [
      "[\"Synset('koerakuut.n.01')\"]\n",
      "[]\n",
      "[]\n",
      "[]\n",
      "[]\n",
      "[]\n"
     ]
    }
   ],
   "source": [
    "for k in koerad:\n",
    "    print(k.holonyms)\n",
    "    print(k.meronyms)"
   ]
  },
  {
   "cell_type": "markdown",
   "metadata": {},
   "source": [
    "Kõigi suhete leidmiseks on võimalik kasutada get_related_synsets(), mis tagastab listi seotud sünohulkadest nende suhetega"
   ]
  },
  {
   "cell_type": "code",
   "execution_count": 12,
   "metadata": {},
   "outputs": [
    {
     "name": "stdout",
     "output_type": "stream",
     "text": [
      "[(\"Synset('haukumine.n.02')\", 'agent'), (\"Synset('koduloom.n.01')\", 'be_in_state'), (\"Synset('koduloom.n.01')\", 'hypernym'), (\"Synset('koerlane.n.01')\", 'holo_member'), (\"Synset('koerakuut.n.01')\", 'holonym'), (\"Synset('ajukoer.n.01')\", 'hyponym'), (\"Synset('spits.n.01')\", 'hyponym'), (\"Synset('koeraklähvits.n.01')\", 'hyponym'), (\"Synset('koeranäss.n.01')\", 'hyponym'), (\"Synset('lita.n.02')\", 'hyponym'), (\"Synset('rakk.n.02')\", 'hyponym'), (\"Synset('krants.n.01')\", 'hyponym'), (\"Synset('sitsija.n.01')\", 'hyponym'), (\"Synset('jahikoer.n.01')\", 'hyponym'), (\"Synset('juhtkoer.n.01')\", 'hyponym'), (\"Synset('veokoer.n.01')\", 'hyponym'), (\"Synset('toakoer.n.01')\", 'hyponym'), (\"Synset('kelgukoer.n.01')\", 'hyponym'), (\"Synset('karjakoer.n.01')\", 'hyponym'), (\"Synset('jälituskoer.n.01')\", 'hyponym'), (\"Synset('hoovikoer.n.01')\", 'hyponym'), (\"Synset('teenistuskoer.n.01')\", 'hyponym'), (\"Synset('hulkurkoer.n.01')\", 'hyponym'), (\"Synset('tõukoer.n.01')\", 'hyponym'), (\"Synset('rakats.n.01')\", 'hyponym'), (\"Synset('puli.n.01')\", 'hyponym'), (\"Synset('koerapulm.n.01')\", 'role'), (\"Synset('koera kaelavõru.n.01')\", 'similar'), (\"Synset('koertemaja.n.01')\", 'similar'), (\"Synset('koerakelk.n.01')\", 'similar'), (\"Synset('jalutusrihm.n.01')\", 'similar'), (\"Synset('ulve.n.01')\", 'similar')]\n",
      "\n",
      "[(\"Synset('huligaanitsev.a.01')\", 'be_in_state'), (\"Synset('huligaan.n.01')\", 'hypernym')]\n",
      "\n",
      "[(\"Synset('tööriist.n.01')\", 'hypernym')]\n",
      "\n"
     ]
    }
   ],
   "source": [
    "for k in koerad:\n",
    "    print(k.get_related_synset())\n",
    "    print()"
   ]
  },
  {
   "cell_type": "markdown",
   "metadata": {},
   "source": [
    "Argumendina saab ette anda ka kindla suhte:"
   ]
  },
  {
   "cell_type": "code",
   "execution_count": 13,
   "metadata": {},
   "outputs": [
    {
     "name": "stdout",
     "output_type": "stream",
     "text": [
      "[\"Synset('koduloom.n.01')\"]\n",
      "[\"Synset('huligaanitsev.a.01')\"]\n",
      "[]\n"
     ]
    }
   ],
   "source": [
    "for k in koerad:\n",
    "    print(k.get_related_synset('be_in_state'))"
   ]
  },
  {
   "cell_type": "markdown",
   "metadata": {},
   "source": [
    "Kui me ei soovi ainult konkreetse sünohulga lemmasid, vaid näiteks ka hüponüümide, hüponüümide hüponüümide jnejne lemmasid (nt et leida kõikvõimalikud jalatseid tähistavad sõnad), saame kasutada `closure()` meetodit. Sel juhul tuleb ka täpsustada, missugust sünohulkadevahelist suhet vaatame. "
   ]
  },
  {
   "cell_type": "code",
   "execution_count": 14,
   "metadata": {
    "scrolled": true
   },
   "outputs": [
    {
     "data": {
      "text/plain": [
       "[\"Synset('koerliblikas.n.01')\",\n",
       " \"Synset('kapsaliblikas.n.01')\",\n",
       " \"Synset('admiral.n.02')\",\n",
       " \"Synset('silmik.n.01')\",\n",
       " \"Synset('öölane.n.01')\",\n",
       " \"Synset('täpik.n.01')\",\n",
       " \"Synset('rohetäpik.n.01')\",\n",
       " \"Synset('leedik.n.01')\",\n",
       " \"Synset('kapsaleedik.n.01')\",\n",
       " \"Synset('vahaleedik.n.01')\",\n",
       " \"Synset('jahuleedik.n.01')\",\n",
       " \"Synset('tubakaleedik.n.01')\",\n",
       " \"Synset('käbileedik.n.01')\",\n",
       " \"Synset('niiduleedik.n.01')\",\n",
       " \"Synset('kirjuleedik.n.01')\",\n",
       " \"Synset('surulane.n.01')\",\n",
       " \"Synset('klaastiib.n.01')\",\n",
       " \"Synset('vaarikaklaastiib.n.01')\",\n",
       " \"Synset('kedrik.n.01')\",\n",
       " \"Synset('eistekedrik.n.01')\",\n",
       " \"Synset('männikedrik.n.01')\",\n",
       " \"Synset('rõngakedrik.n.01')\",\n",
       " \"Synset('varreleedik.n.01')\",\n",
       " \"Synset('koiliblikas.n.01')\",\n",
       " \"Synset('päevaliblikas.n.01')\",\n",
       " \"Synset('leinaliblikas.n.01')\",\n",
       " \"Synset('siidiliblikas.n.01')\",\n",
       " \"Synset('võrgendikoi.n.01')\",\n",
       " \"Synset('suru.n.01')\",\n",
       " \"Synset('vaksik.n.01')\",\n",
       " \"Synset('külmavaksik.n.01')\",\n",
       " \"Synset('hallavaksik.n.01')\",\n",
       " \"Synset('hiidvaksik.n.01')\",\n",
       " \"Synset('kuuvaksik.n.01')\",\n",
       " \"Synset('öövaksik.n.01')\",\n",
       " \"Synset('männivaksik.n.01')\",\n",
       " \"Synset('sügisvaksik.n.01')\",\n",
       " \"Synset('võsavaksik.n.01')\",\n",
       " \"Synset('mähkurlane.n.01')\",\n",
       " \"Synset('lapsuliblikas.n.01')\"]"
      ]
     },
     "execution_count": 14,
     "metadata": {},
     "output_type": "execute_result"
    }
   ],
   "source": [
    "liblikas = wn['liblikas'][0]\n",
    "\n",
    "# Kui anname ette ainult suhte, saame kõik selle suhtega seotud \"päritud\" sünohulgad \n",
    "liblikas.closure('hyponym')"
   ]
  },
  {
   "cell_type": "code",
   "execution_count": 15,
   "metadata": {},
   "outputs": [
    {
     "data": {
      "text/plain": [
       "[\"Synset('putukas.n.01')\"]"
      ]
     },
     "execution_count": 15,
     "metadata": {},
     "output_type": "execute_result"
    }
   ],
   "source": [
    "# Kui anname ette ka arvu, saame täpsustada, mitme taseme kaugusi suhteid vaatame.\n",
    "# 1 annab meile vahetult seotud suhted\n",
    "liblikas.closure('hypernym', 1)"
   ]
  },
  {
   "cell_type": "code",
   "execution_count": 16,
   "metadata": {},
   "outputs": [
    {
     "data": {
      "text/plain": [
       "[\"Synset('putukas.n.01')\",\n",
       " \"Synset('lülijalgne.n.01')\",\n",
       " \"Synset('selgrootu.n.01')\"]"
      ]
     },
     "execution_count": 16,
     "metadata": {},
     "output_type": "execute_result"
    }
   ],
   "source": [
    "liblikas.closure('hypernym', 3)"
   ]
  },
  {
   "cell_type": "markdown",
   "metadata": {},
   "source": [
    "### Ülesanne 2. Kes on teksti peategelane? (1,5p)\n",
    "Praktikumi materjalide hulgas on toodud üks artikkel portaalist Telegram: fail nimega \"telegram.txt\". Leidke, millist olendit on kõige enam selles tekstis mainitud. Selleks:\n",
    "* leidke tekstist kõik nimisõnade lemmad\n",
    "* leidke wordnetist kõik olendeid tähistavad sõnad. Kasutage sünohulka \"olend.n.01\" (leiate sõna *olend* kaudu) - leidke selle kõik alamsünohulgad closure() abil ning seejärel nende sünohulkade lemmad\n",
    "* kontrollige, millised tekstis esinenud nimisõnadest kuuluvad olendite hulka\n",
    "* leidke nendest sagedasim\n",
    "* Mitmese lemma puhul tuleb kõiki eraldi kontrollida.\n",
    "\n",
    "NB! \"Olend\" sünohulgast kõigi alluvate pärimine võib olla aeganõudev protsess (u 10 min). Kuna edaspidi läheb olendite nimekirja mitmel korral vaja, on mõistlik kõik olendeid tähistavad lemmad faili kirjutada."
   ]
  },
  {
   "cell_type": "markdown",
   "metadata": {},
   "source": [
    "### Sünohulkadevahelised kaugused"
   ]
  },
  {
   "cell_type": "markdown",
   "metadata": {},
   "source": [
    "Lisaks hüpo- ja hüperonüümide leidmisele on võimalik leida ka kahe sünohulga lähim ülemmõiste või nendevaheline kaugus - see peaks näitama, kui sarnased sõnad omavahel on."
   ]
  },
  {
   "cell_type": "markdown",
   "metadata": {},
   "source": [
    "Lähima ülemmõiste leidmine sünohulkadele \"koer.n.01\" ja \"kass.n.01\":"
   ]
  },
  {
   "cell_type": "code",
   "execution_count": 17,
   "metadata": {},
   "outputs": [],
   "source": [
    "koer = koerad[0]\n",
    "kass = wn['kass'][0]"
   ]
  },
  {
   "cell_type": "code",
   "execution_count": 18,
   "metadata": {},
   "outputs": [
    {
     "data": {
      "text/plain": [
       "[\"Synset('koduloom.n.01')\"]"
      ]
     },
     "execution_count": 18,
     "metadata": {},
     "output_type": "execute_result"
    }
   ],
   "source": [
    "wn.lowest_common_hypernyms(kass, koer)"
   ]
  },
  {
   "cell_type": "markdown",
   "metadata": {},
   "source": [
    "Omavahel pole kindlasti ühendatud eri sõnaliikidest sõnad, aga ka kõigil samast sõnaliigist sõnadel pole ühist ülemmõistet:"
   ]
  },
  {
   "cell_type": "code",
   "execution_count": 19,
   "metadata": {},
   "outputs": [],
   "source": [
    "room = wn['rõõm'][0]"
   ]
  },
  {
   "cell_type": "code",
   "execution_count": 20,
   "metadata": {},
   "outputs": [],
   "source": [
    "wn.lowest_common_hypernyms(koer, room)"
   ]
  },
  {
   "cell_type": "markdown",
   "metadata": {},
   "source": [
    "Sünohulkade vaheliste kauguste leidmiseks on Wordnetis kolm eri mõõdikut, mille selgitused leiab soovi korral [siit](http://www.nltk.org/howto/wordnet.html) \"Similarity\" alamjaotuse alt."
   ]
  },
  {
   "cell_type": "code",
   "execution_count": 21,
   "metadata": {},
   "outputs": [],
   "source": [
    "wn.path_similarity(koer, room)"
   ]
  },
  {
   "cell_type": "code",
   "execution_count": 22,
   "metadata": {},
   "outputs": [
    {
     "data": {
      "text/plain": [
       "0.3333333333333333"
      ]
     },
     "execution_count": 22,
     "metadata": {},
     "output_type": "execute_result"
    }
   ],
   "source": [
    "wn.path_similarity(koer, kass)"
   ]
  },
  {
   "cell_type": "code",
   "execution_count": 23,
   "metadata": {},
   "outputs": [],
   "source": [
    "wn.lch_similarity(koer, room)"
   ]
  },
  {
   "cell_type": "code",
   "execution_count": 24,
   "metadata": {},
   "outputs": [
    {
     "data": {
      "text/plain": [
       "2.159484249353372"
      ]
     },
     "execution_count": 24,
     "metadata": {},
     "output_type": "execute_result"
    }
   ],
   "source": [
    "wn.lch_similarity(koer, kass)"
   ]
  },
  {
   "cell_type": "code",
   "execution_count": 25,
   "metadata": {},
   "outputs": [],
   "source": [
    "wn.wup_similarity(koer, room)"
   ]
  },
  {
   "cell_type": "code",
   "execution_count": 26,
   "metadata": {},
   "outputs": [
    {
     "data": {
      "text/plain": [
       "0.8888888888888888"
      ]
     },
     "execution_count": 26,
     "metadata": {},
     "output_type": "execute_result"
    }
   ],
   "source": [
    "wn.wup_similarity(koer, kass)"
   ]
  },
  {
   "cell_type": "markdown",
   "metadata": {},
   "source": [
    "### Ülesanne 3. Sarnased ja erinevad - Wordnet (1,75p)\n",
    "Kuivõrd ühtivad Wordneti kaugusmõõdikute alusel sarnased sõnad sellega, mida me ise sarnaseks peame? Teeme väikse katse, leides 20 sõna omavahelised kaugused ja visualiseerides tulemusi, et nende hoomamine lihtsam oleks.\n",
    "\n",
    "Valime katsealusteks seekord anekdooditegelased. Failist \"anekdoodid.csv\" leiate Eesti Kirjandusmuuseumi [anekdoodiandmebaasist](http://www.folklore.ee/~liisi/o2/) korjatud anekdoodid. Kasutades eelmises ülesandes loodud olendite listi, leidke 20 kõige sagedamini anekdootides esinevat olendit. \n",
    "\n",
    "Kuna Wordnetis saab võrrelda ainult sünohulkadevahelisi kaugusi, mitte aga lemmadevahelisi, siis leidke nendele 20 lemmale vastavad sünohulgad ning nende kõigi omavahelised kaugused. Edasise visualiseerimise huvides tasub koguda need andmed kas pandase *dataframe*'i või mõnda andmestruktuuri, millest on lihtne moodustada *dataframe*'i - näiteks sõnastikku, mille väärtusteks on sõnastikud (vt ka visualiseerimisnäide allpool). Sõna/sünohulga kaugus iseendaga jätke tühjaks - see võimaldab visualisatsioonis paremini esile tulla huvitavamatel juhtudel.\n",
    "\n",
    "Visualiseerige tulemused *heatmap*'ina. Rea- ja veerunimedeks peaksid olema lemmad, mitte sünohulgad."
   ]
  },
  {
   "cell_type": "markdown",
   "metadata": {},
   "source": [
    "Vihjeid:\n",
    "* kaugusmõõdikuna kasutage ükskõik millist ülaltoodutest\n",
    "* heatmap'i loomisel on abiks [_seaborn_](https://seaborn.pydata.org/) teek. Installimine käib tavapäraselt:\n",
    "`conda install seaborn`"
   ]
  },
  {
   "cell_type": "markdown",
   "metadata": {},
   "source": [
    "##### Heatmap'i loomine seaborn teegi abil"
   ]
  },
  {
   "cell_type": "code",
   "execution_count": 27,
   "metadata": {},
   "outputs": [],
   "source": [
    "# Impordime teegi (peab eelnevalt installima!)\n",
    "import seaborn as sns\n",
    "import pandas as pd"
   ]
  },
  {
   "cell_type": "code",
   "execution_count": 28,
   "metadata": {},
   "outputs": [],
   "source": [
    "# Mänguandmestik visualiseerimisnäite jaoks\n",
    "d = {'õun': {'pirn': 2, 'kirss': 1}, 'pirn': {'kirss': 3, 'õun': 2}, 'kirss': {'õun': 1, 'pirn': 3}}"
   ]
  },
  {
   "cell_type": "code",
   "execution_count": 29,
   "metadata": {},
   "outputs": [],
   "source": [
    "df = pd.DataFrame.from_dict(d)"
   ]
  },
  {
   "cell_type": "code",
   "execution_count": 30,
   "metadata": {},
   "outputs": [
    {
     "data": {
      "text/html": [
       "<div>\n",
       "<style scoped>\n",
       "    .dataframe tbody tr th:only-of-type {\n",
       "        vertical-align: middle;\n",
       "    }\n",
       "\n",
       "    .dataframe tbody tr th {\n",
       "        vertical-align: top;\n",
       "    }\n",
       "\n",
       "    .dataframe thead th {\n",
       "        text-align: right;\n",
       "    }\n",
       "</style>\n",
       "<table border=\"1\" class=\"dataframe\">\n",
       "  <thead>\n",
       "    <tr style=\"text-align: right;\">\n",
       "      <th></th>\n",
       "      <th>õun</th>\n",
       "      <th>pirn</th>\n",
       "      <th>kirss</th>\n",
       "    </tr>\n",
       "  </thead>\n",
       "  <tbody>\n",
       "    <tr>\n",
       "      <th>pirn</th>\n",
       "      <td>2.0</td>\n",
       "      <td>NaN</td>\n",
       "      <td>3.0</td>\n",
       "    </tr>\n",
       "    <tr>\n",
       "      <th>kirss</th>\n",
       "      <td>1.0</td>\n",
       "      <td>3.0</td>\n",
       "      <td>NaN</td>\n",
       "    </tr>\n",
       "    <tr>\n",
       "      <th>õun</th>\n",
       "      <td>NaN</td>\n",
       "      <td>2.0</td>\n",
       "      <td>1.0</td>\n",
       "    </tr>\n",
       "  </tbody>\n",
       "</table>\n",
       "</div>"
      ],
      "text/plain": [
       "       õun  pirn  kirss\n",
       "pirn   2.0   NaN    3.0\n",
       "kirss  1.0   3.0    NaN\n",
       "õun    NaN   2.0    1.0"
      ]
     },
     "execution_count": 30,
     "metadata": {},
     "output_type": "execute_result"
    }
   ],
   "source": [
    "df"
   ]
  },
  {
   "cell_type": "code",
   "execution_count": 31,
   "metadata": {},
   "outputs": [
    {
     "data": {
      "text/plain": [
       "<matplotlib.axes._subplots.AxesSubplot at 0x25ebf781be0>"
      ]
     },
     "execution_count": 31,
     "metadata": {},
     "output_type": "execute_result"
    },
    {
     "data": {
      "image/png": "[encoded data removed]",
      "text/plain": [
       "<Figure size 432x288 with 2 Axes>"
      ]
     },
     "metadata": {
      "needs_background": "light"
     },
     "output_type": "display_data"
    }
   ],
   "source": [
    "sns.heatmap(df)"
   ]
  },
  {
   "cell_type": "markdown",
   "metadata": {},
   "source": [
    "Soovi korral saame muuta värve või muid kujunduselemente - värvide kohta vt [siit](https://seaborn.pydata.org/tutorial/color_palettes.html)"
   ]
  },
  {
   "cell_type": "code",
   "execution_count": 32,
   "metadata": {},
   "outputs": [
    {
     "data": {
      "text/plain": [
       "<matplotlib.axes._subplots.AxesSubplot at 0x25ebefbf668>"
      ]
     },
     "execution_count": 32,
     "metadata": {},
     "output_type": "execute_result"
    },
    {
     "data": {
      "image/png": "[encoded data removed]",
      "text/plain": [
       "<Figure size 432x288 with 2 Axes>"
      ]
     },
     "metadata": {
      "needs_background": "light"
     },
     "output_type": "display_data"
    }
   ],
   "source": [
    "sns.heatmap(df, cmap = 'coolwarm', linewidths=1.0, annot=True)"
   ]
  },
  {
   "cell_type": "markdown",
   "metadata": {},
   "source": [
    "#### Wordneti varjukülg"
   ]
  },
  {
   "cell_type": "markdown",
   "metadata": {},
   "source": [
    "Vaadake ülesandes 3 loodud *heatmap*'i. Kas sõnade sarnasused vastavad sellele, mida oma intuitsiooni põhjal arvaksite? \n",
    "\n",
    "Vaadake ka järgmisi näiteid:"
   ]
  },
  {
   "cell_type": "code",
   "execution_count": 33,
   "metadata": {},
   "outputs": [],
   "source": [
    "eestlane = wn['eestlane'][0]\n",
    "viljandlane = wn['viljandlane'][0]\n",
    "majaelanik = wn['majaelanik'][0]"
   ]
  },
  {
   "cell_type": "code",
   "execution_count": 34,
   "metadata": {},
   "outputs": [
    {
     "data": {
      "text/plain": [
       "0.3333333333333333"
      ]
     },
     "execution_count": 34,
     "metadata": {},
     "output_type": "execute_result"
    }
   ],
   "source": [
    "wn.path_similarity(majaelanik, viljandlane)"
   ]
  },
  {
   "cell_type": "code",
   "execution_count": 35,
   "metadata": {
    "scrolled": true
   },
   "outputs": [
    {
     "data": {
      "text/plain": [
       "0.045454545454545456"
      ]
     },
     "execution_count": 35,
     "metadata": {},
     "output_type": "execute_result"
    }
   ],
   "source": [
    "wn.path_similarity(eestlane, viljandlane)"
   ]
  },
  {
   "cell_type": "code",
   "execution_count": 36,
   "metadata": {},
   "outputs": [
    {
     "data": {
      "text/plain": [
       "[\"Synset('elanik.n.01')\"]"
      ]
     },
     "execution_count": 36,
     "metadata": {},
     "output_type": "execute_result"
    }
   ],
   "source": [
    "majaelanik.hypernyms"
   ]
  },
  {
   "cell_type": "code",
   "execution_count": 37,
   "metadata": {},
   "outputs": [
    {
     "data": {
      "text/plain": [
       "[\"Synset('elanik.n.01')\"]"
      ]
     },
     "execution_count": 37,
     "metadata": {},
     "output_type": "execute_result"
    }
   ],
   "source": [
    "viljandlane.hypernyms"
   ]
  },
  {
   "cell_type": "code",
   "execution_count": 38,
   "metadata": {
    "scrolled": true
   },
   "outputs": [
    {
     "data": {
      "text/plain": [
       "[\"Synset('baltimaalane.n.01')\"]"
      ]
     },
     "execution_count": 38,
     "metadata": {},
     "output_type": "execute_result"
    }
   ],
   "source": [
    "eestlane.hypernyms"
   ]
  },
  {
   "cell_type": "code",
   "execution_count": 39,
   "metadata": {},
   "outputs": [],
   "source": [
    "wn.lowest_common_hypernyms(eestlane, viljandlane)"
   ]
  },
  {
   "cell_type": "code",
   "execution_count": 40,
   "metadata": {
    "scrolled": true
   },
   "outputs": [
    {
     "data": {
      "text/plain": [
       "[(\"Synset('eestlane.n.01')\", 'holo_member'),\n",
       " (\"Synset('elanik.n.01')\", 'hypernym')]"
      ]
     },
     "execution_count": 40,
     "metadata": {},
     "output_type": "execute_result"
    }
   ],
   "source": [
    "viljandlane.get_related_synset()"
   ]
  },
  {
   "cell_type": "markdown",
   "metadata": {},
   "source": [
    "Ühesõnaga, Wordneti hierarhia ei vasta alati intuitsioonile. Õnneks on aga olemas ka teisi viise sõnade sarnasuse hindamiseks. Järgnevalt katsetame mudelit [word2vec](https://en.wikipedia.org/wiki/Word2vec)."
   ]
  },
  {
   "cell_type": "markdown",
   "metadata": {},
   "source": [
    "### *Word2vec*"
   ]
  },
  {
   "cell_type": "markdown",
   "metadata": {},
   "source": [
    "*Word2vec*'i (W2V) mudel põhineb **distributiivsushüpoteesil**: sarnase distributsiooniga lingvistilised üksused on ka semantiliselt sarnased. Teisisõnu, sarnastes kontekstides esinevad sõnad on sarnase tähendusega. Kuna siin kursusel me masinõppe teoreetilise poolega ei tegele, siis võtame *word2vec*'i kui musta kasti ega süvene praegu sellesse, kuidas kontekstide sarnasusi arvutatakse. Kui aga on siiski huvi rohkem teada, siis saab näiteks [siit](https://www.distilled.net/resources/a-beginners-guide-to-word2vec-aka-whats-the-opposite-of-canada/)."
   ]
  },
  {
   "cell_type": "markdown",
   "metadata": {},
   "source": [
    "Nagu enamiku masinõppealgoritmide puhul, on ka W2V jaoks oluline omada võimalikult palju andmeid. Mida rohkem andmeid, seda aeglasem on aga mudelite treenimine. Seetõttu on eesti keele jaoks olemas mitu juba suurte korpuste peal valmis treenitut mudelit, mida leiab [siit](https://github.com/estnltk/word2vec-models/blob/master/README.md) ja [siit](https://github.com/eleriaedmaa/embeddings)."
   ]
  },
  {
   "cell_type": "markdown",
   "metadata": {},
   "source": [
    "Meie aga katsetame järgmises ülesandes ise oma mudeli treenimist väiksel korpusel. W2V mudelite loomisel on abiks teek [_gensim_](https://radimrehurek.com/gensim/), mille uusima versiooni saab installida käsurealt läbi pip'i:\n",
    "`pip install --upgrade gensim`"
   ]
  },
  {
   "cell_type": "markdown",
   "metadata": {},
   "source": [
    "Mudeli loomiseks tuleb *word2vec*'ile ette anda n-ö kontekstide listina oma korpus. Näiteks, kui korpuseks on tekst\n",
    "\n",
    "\"Mari sööb õuna. Jüri ei söö õuna.\"\n",
    "\n",
    "ja kontekstiks lause, siis tuleks korpus ette anda kujul"
   ]
  },
  {
   "cell_type": "code",
   "execution_count": 41,
   "metadata": {},
   "outputs": [],
   "source": [
    "corpus = [['Mari', 'sööb', 'õuna', '.'], ['Jüri', 'ei', 'söö', 'õuna', '.'], ['Jüri', 'sööb', 'pirni', '.']]"
   ]
  },
  {
   "cell_type": "markdown",
   "metadata": {},
   "source": [
    "Mudeli treenimiseks on meetod Word2Vec():"
   ]
  },
  {
   "cell_type": "code",
   "execution_count": 42,
   "metadata": {},
   "outputs": [
    {
     "name": "stdout",
     "output_type": "stream",
     "text": [
      "INFO:textcleaner.py:37: 'pattern' package not found; tag filters are not available for English\n",
      "INFO:word2vec.py:1588: collecting all words and their counts\n",
      "INFO:word2vec.py:1573: PROGRESS: at sentence #0, processed 0 words, keeping 0 word types\n",
      "INFO:word2vec.py:1596: collected 8 word types from a corpus of 13 raw words and 3 sentences\n",
      "INFO:word2vec.py:1647: Loading a fresh vocabulary\n",
      "INFO:word2vec.py:1671: effective_min_count=1 retains 8 unique words (100% of original 8, drops 0)\n",
      "INFO:word2vec.py:1677: effective_min_count=1 leaves 13 word corpus (100% of original 13, drops 0)\n",
      "INFO:word2vec.py:1736: deleting the raw counts dictionary of 8 items\n",
      "INFO:word2vec.py:1739: sample=0.001 downsamples 8 most-common words\n",
      "INFO:word2vec.py:1742: downsampling leaves estimated 1 word corpus (9.5% of prior 13)\n",
      "INFO:base_any2vec.py:1022: estimated required memory for 8 words and 100 dimensions: 10400 bytes\n",
      "INFO:word2vec.py:1888: resetting layer weights\n",
      "INFO:base_any2vec.py:1210: training model with 3 workers on 8 vocabulary and 100 features, using sg=0 hs=0 sample=0.001 negative=5 window=5\n",
      "INFO:base_any2vec.py:349: worker thread finished; awaiting finish of 2 more threads\n",
      "INFO:base_any2vec.py:349: worker thread finished; awaiting finish of 1 more threads\n",
      "INFO:base_any2vec.py:349: worker thread finished; awaiting finish of 0 more threads\n",
      "INFO:base_any2vec.py:1346: EPOCH - 1 : training on 13 raw words (1 effective words) took 0.0s, 682 effective words/s\n",
      "INFO:base_any2vec.py:349: worker thread finished; awaiting finish of 2 more threads\n",
      "INFO:base_any2vec.py:349: worker thread finished; awaiting finish of 1 more threads\n",
      "INFO:base_any2vec.py:349: worker thread finished; awaiting finish of 0 more threads\n",
      "INFO:base_any2vec.py:1346: EPOCH - 2 : training on 13 raw words (0 effective words) took 0.0s, 0 effective words/s\n",
      "INFO:base_any2vec.py:349: worker thread finished; awaiting finish of 2 more threads\n",
      "INFO:base_any2vec.py:349: worker thread finished; awaiting finish of 1 more threads\n",
      "INFO:base_any2vec.py:349: worker thread finished; awaiting finish of 0 more threads\n",
      "INFO:base_any2vec.py:1346: EPOCH - 3 : training on 13 raw words (2 effective words) took 0.0s, 1474 effective words/s\n",
      "INFO:base_any2vec.py:349: worker thread finished; awaiting finish of 2 more threads\n",
      "INFO:base_any2vec.py:349: worker thread finished; awaiting finish of 1 more threads\n",
      "INFO:base_any2vec.py:349: worker thread finished; awaiting finish of 0 more threads\n",
      "INFO:base_any2vec.py:1346: EPOCH - 4 : training on 13 raw words (0 effective words) took 0.0s, 0 effective words/s\n",
      "INFO:base_any2vec.py:349: worker thread finished; awaiting finish of 2 more threads\n",
      "INFO:base_any2vec.py:349: worker thread finished; awaiting finish of 1 more threads\n",
      "INFO:base_any2vec.py:349: worker thread finished; awaiting finish of 0 more threads\n",
      "INFO:base_any2vec.py:1346: EPOCH - 5 : training on 13 raw words (1 effective words) took 0.0s, 412 effective words/s\n",
      "INFO:base_any2vec.py:1382: training on a 65 raw words (4 effective words) took 0.0s, 146 effective words/s\n",
      "WARNING:base_any2vec.py:1386: under 10 jobs per worker: consider setting a smaller `batch_words' for smoother alpha decay\n"
     ]
    }
   ],
   "source": [
    "from gensim.models import Word2Vec\n",
    "model = Word2Vec(corpus, min_count = 1)"
   ]
  },
  {
   "cell_type": "markdown",
   "metadata": {},
   "source": [
    "*min_count* parameeter määrab, mitu korda minimaalselt peab sõna korpuses esinema – vaikimisi on see 5, aga kuna praeguses \"korpuses\" ükski sõna nii palju ei esine, siis kasutame siin näites 1. (Ise mudelit treenides võite katsetada erinevaid variante.)"
   ]
  },
  {
   "cell_type": "markdown",
   "metadata": {},
   "source": [
    "Kui mudel on valmis, saamegi hakata sõnade sarnasusi küsima. Meetod *similarity()* annab meile sõnade kontekstivektorite koosinussarnasuse, mis varieerub -1-st 1-ni (kõige sarnasem)."
   ]
  },
  {
   "cell_type": "code",
   "execution_count": 43,
   "metadata": {},
   "outputs": [
    {
     "data": {
      "text/plain": [
       "0.024861269"
      ]
     },
     "execution_count": 43,
     "metadata": {},
     "output_type": "execute_result"
    }
   ],
   "source": [
    "model.wv.similarity(\"Mari\", \"Jüri\")"
   ]
  },
  {
   "cell_type": "code",
   "execution_count": 44,
   "metadata": {},
   "outputs": [
    {
     "data": {
      "text/plain": [
       "0.045913413"
      ]
     },
     "execution_count": 44,
     "metadata": {},
     "output_type": "execute_result"
    }
   ],
   "source": [
    "model.wv.similarity(\"Mari\", \"pirni\")"
   ]
  },
  {
   "cell_type": "markdown",
   "metadata": {},
   "source": [
    "### Ülesanne 4. Sarnased ja erinevad - Word2vec (1,75p)"
   ]
  },
  {
   "cell_type": "markdown",
   "metadata": {},
   "source": [
    "Looge _gensim_ teegi abil anekdootide korpuse põhjal oma word2vec mudel, leidke anekdooditegelaste vahelised sarnasusnäitajad ning visualiseerige tulemused nii, nagu eelmiseski ülesandes.\n",
    "\n",
    "Detailid:\n",
    "* Korpusena kasutage kõiki anekdoote failist \"anekdoodid.csv\"\n",
    "* Kontekstina kasutage lauset (lausestamisel aitab loomulikult EstNLTK)\n",
    "* Lemmatiseerige anekdoodid, st esitage laused lemmade listina. Mitmeste lemmade puhul valige esimene, viimane või juhuslik variant.\n",
    "* Treenitud mudeli põhjal leidke kõigi 20 sagedasema anekdooditegelase omavahelised sarnasusnäitajad. Lemma ja tema enda sarnasust ärge arvestage (jätke märkimata).\n",
    "* Visualiseerige tulemus heatmap'ina\n",
    "\n",
    "Milliseid sarnasusi-erinevusi märkate võrreldes eelmise ülesande tulemustega?"
   ]
  },
  {
   "cell_type": "markdown",
   "metadata": {},
   "source": [
    "### Pdf-i lugemine Pythonis"
   ]
  },
  {
   "cell_type": "markdown",
   "metadata": {},
   "source": [
    "Paljud arhiveeritud dokumendid ning teadusartiklid talletatakse PDF formaadis. Need näevad inimsilma jaoks head välja (sest mis ilust saame me rääkida näiteks csv, json-i või txt formaadi puhul?), ent automaattöötluse seisukohast on see ilu pigem nuhtluseks. Pdf-dokumentide sisemine struktuur võib olla väga erinev, sõltuvalt sellest, kuidas ja milliste vahenditega dokument loodud on (kui pdf-i siseelu lähemalt huvitab, saab sellest lugeda näiteks [siit](https://web.archive.org/web/20141010035745/http://gnupdf.org/Introduction_to_PDF)). \n",
    "\n",
    "Isegi kui jätame praegu kõrvale juhtumid, kus dokumendid on saadud nt skannimise teel ja tegemata on optiline tekstituvastus (sellest tuleb juttu 12. praktikumis), on pdf-ide programmaatiline lugemine paras peavalu. Seega, parim nõuanne pdf-ist teksti (või ka muude üksuste - tabelite jms) ekstraheerimise osas oleks mitte seda teha - kui vähegi võimalik, püüda andmed hankida sellisel kujul, nagu nad olid enne pdf-iks muutmist. Kui see aga siiski võimalik ei ole, siis on olemas mõned Pythoni tööriistad, mis siiski abiks on."
   ]
  },
  {
   "cell_type": "markdown",
   "metadata": {},
   "source": [
    "Hinnatuimad teegid pdf-ide töötlemiseks Pythonis on [_pyPDF2_](https://github.com/mstamy2/PyPDF2) ja [_pdfminer_](https://github.com/euske/pdfminer). Seejuures on kummalgi ka omad plussid ja miinused. _PyPDF2_ on baastööriist, millel ei ole palju võimalusi, ent seda on lihtne kasutada ja see on hästi dokumenteeritud. Saadaval condast nii Windowsile kui Linuxile järgnevalt:"
   ]
  },
  {
   "cell_type": "markdown",
   "metadata": {},
   "source": [
    "`conda install -c conda-forge pypdf2`"
   ]
  },
  {
   "cell_type": "markdown",
   "metadata": {},
   "source": [
    "_Pdfminer_ oli originaalis saadaval vaid Python 2-le, Python 3 jaoks on olemas versioon [_pdfminer3k_](https://github.com/jaepil/pdfminer3k), mis on originaaliga võrreldes veel kehvemini dokumenteeritud ega ole ka täpselt samasuguse liidesega. Samas pakub _pdfminer_ rohkem võimalusi, et edukalt oma pdf-ist tekst ikkagi kätte saada. _Pdfminer3k_ on saadaval condast käsuga:"
   ]
  },
  {
   "cell_type": "markdown",
   "metadata": {},
   "source": [
    "`conda install -c conda-forge pdfminer3k`"
   ]
  },
  {
   "cell_type": "markdown",
   "metadata": {},
   "source": [
    "### Boonusülesanne. (1p)\n",
    "Uurige, kuidas töötavad teegid *pypdf2* ja *pdfminer*. Katsetage mõlemaga teksti eraldamist failidest \"artikkel.pdf\" ja \"kohtulahend.pdf\". Kirjeldage tulemust. (Pdfmineri puhul võib kasutada ka Python 2-le loodud versiooni, millele leidub rohkem dokumentatsiooni - sel juhul on vaja luua esmalt uus conda keskkond, kuhu oleks installitud python2).\n",
    "\n",
    "**NB!** Kui installite python2 oma tavapäraselt kasutatavasse conda keskkonda, siis sealt eemaldatakse python3 ja vajalikud asjad enam ei tööta.\n",
    "\n",
    "(Kummagi teegi katsetamine annab 0,5p.)"
   ]
  }
 ],
 "metadata": {
  "kernelspec": {
   "display_name": "Python 3",
   "language": "python",
   "name": "python3"
  },
  "language_info": {
   "codemirror_mode": {
    "name": "ipython",
    "version": 3
   },
   "file_extension": ".py",
   "mimetype": "text/x-python",
   "name": "python",
   "nbconvert_exporter": "python",
   "pygments_lexer": "ipython3",
   "version": "3.6.10"
  }
 },
 "nbformat": 4,
 "nbformat_minor": 4
}