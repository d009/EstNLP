{
 "cells": [
  {
   "cell_type": "markdown",
   "metadata": {},
   "source": [
    "<h1 style=\"color:blue\">Praktikum 7. </h1>\n",
    "\n",
    "<h3 style=\"color:blue\">Wordnet. Heatmap'i loomine. Word2vec. Pdf-i lugemine Pythonis.</h3>\n",
    "\n",
    "## Wordnet\n",
    "\n",
    "### Sünohulgad"
   ]
  },
  {
   "cell_type": "markdown",
   "metadata": {},
   "source": [
    "**Wordnet** on leksikaal-semantiline andmebaas, mis sisaldab informatsiooni mõistete ja nendevaheliste semantiliste suhete kohta. Wordnette on tehtud paljudele keeltele. Rohkem informatsiooni Eesti Wordneti (EstWN) kohta, sh EstWNis kasutatavad semantilised suhted, leiab [siit](http://www.cl.ut.ee/ressursid/teksaurus/?lang=et). Muuhulgas on seal toodud kaks viidet, kuidas Wordnetist päringuid teha saab. Praktikumis käsitleme aga Wordneti Pythoni liidest, mille eeliseks on loomulikult kasutatavus oma programmikoodi sees. Dokumentatsioon on saadaval [siin](https://github.com/estnltk/estnltk/blob/main/tutorials/wordnet/wordnet.ipynb).\n",
    "\n",
    "Wordneti põhiühik on **sünohulk** (või **sünonüümihulk**), mis koosneb kõigist ühte ja sama mõistet väljendavatest sõnadest (või sõnaühenditest). Sünohulgad on ühendatud **viidetega**, mis vastavad mõistetevahelistele **suhetele**. Kõige olulisemad (ehk Wordnetis kõige enam esindatud) suhted on **hüponüümia** ja **hüperonüümia** ehk alam- ja ülemmõisted. "
   ]
  },
  {
   "cell_type": "markdown",
   "metadata": {},
   "source": [
    "### Sünohulgad"
   ]
  },
  {
   "cell_type": "markdown",
   "metadata": {},
   "source": [
    "Wordneti kasutamiseks tuleb importida vastav moodul ja luua Wordneti objekt:"
   ]
  },
  {
   "cell_type": "code",
   "execution_count": 1,
   "metadata": {
    "scrolled": true
   },
   "outputs": [],
   "source": [
    "from estnltk.wordnet import Wordnet\n",
    "\n",
    "wn = Wordnet()"
   ]
  },
  {
   "cell_type": "code",
   "execution_count": 2,
   "metadata": {
    "scrolled": true
   },
   "outputs": [
    {
     "name": "stdout",
     "output_type": "stream",
     "text": [
      "Synset('korda seadma.v.03')\n",
      "Synset('korraldamine.n.03')\n",
      "Synset('küsima.v.02')\n",
      "Synset('küsimine.n.02')\n",
      "Synset('kallutama.v.01')\n",
      "Synset('laskma.v.04')\n",
      "Synset('laskmine.n.03')\n",
      "Synset('nõus olema.v.01')\n",
      "Synset('informeerima.v.01')\n",
      "Synset('informeerimine.n.02')\n"
     ]
    }
   ],
   "source": [
    "# sünohulkade saamine\n",
    "for i, synset in enumerate(wn):\n",
    "    if i == 10:\n",
    "        break\n",
    "    print(synset)"
   ]
  },
  {
   "cell_type": "markdown",
   "metadata": {},
   "source": [
    "Wordnetis leidub leidub nimisõnu, verbe, adjektiive ja adverbe. Kui soovime kätte saada kindlat sõnaliiki sõnu, saame `synsets_with_pos` meetodile sõnaliigitunnust ette andes tekitada generaatori, üle mille itereerida."
   ]
  },
  {
   "cell_type": "code",
   "execution_count": 3,
   "metadata": {
    "tags": []
   },
   "outputs": [
    {
     "name": "stdout",
     "output_type": "stream",
     "text": [
      "Synset('4D.a.01')\n",
      "Synset('aadamaülikonnas.a.01')\n",
      "Synset('aadellik.a.01')\n",
      "Synset('aasaline.a.01')\n",
      "Synset('aasia.a.01')\n",
      "Synset('aasiv.a.01')\n",
      "Synset('aastane.a.01')\n",
      "Synset('aastane.a.02')\n",
      "Synset('aastaringne.a.01')\n",
      "Synset('aastatepikkune.a.01')\n",
      "Synset('aastatetagune.a.01')\n",
      "Synset('aateline.a.01')\n",
      "Synset('aatomi-.a.01')\n",
      "Synset('abdominaalne.a.01')\n",
      "Synset('aberrantne.a.01')\n",
      "Synset('abi-.a.01')\n",
      "Synset('abielus.a.01')\n",
      "Synset('abiogeenne.a.01')\n",
      "Synset('abiootiline.a.01')\n",
      "Synset('abiotsiv.a.01')\n",
      "Synset('abistav.a.01')\n",
      "Synset('abitu.a.01')\n",
      "Synset('abitu.a.02')\n",
      "Synset('ablas.a.01')\n",
      "Synset('ablas.a.02')\n"
     ]
    }
   ],
   "source": [
    "adjectives = wn.synsets_with_pos('a')  # pärime omadussõnad\n",
    "\n",
    "counter = 0\n",
    "while counter < 25:\n",
    "    print(next(adjectives))\n",
    "    counter += 1"
   ]
  },
  {
   "cell_type": "markdown",
   "metadata": {},
   "source": [
    "Pärida saab ka sünohulki, kus leidub kindel sõna:"
   ]
  },
  {
   "cell_type": "code",
   "execution_count": 4,
   "metadata": {},
   "outputs": [
    {
     "data": {
      "text/plain": [
       "[\"Synset('distsiplineerimatu.a.01')\",\n",
       " \"Synset('kodukoer.n.01')\",\n",
       " \"Synset('kaak.n.01')\",\n",
       " \"Synset('koer.n.03')\"]"
      ]
     },
     "execution_count": 4,
     "metadata": {},
     "output_type": "execute_result"
    }
   ],
   "source": [
    "koerad = wn['koer']\n",
    "koerad"
   ]
  },
  {
   "cell_type": "markdown",
   "metadata": {},
   "source": [
    "või kus sõnal on soovitud sõnaliik:"
   ]
  },
  {
   "cell_type": "code",
   "execution_count": 5,
   "metadata": {},
   "outputs": [],
   "source": [
    "t2na = wn['täna']\n",
    "t2na_r = wn['täna', 'r']  # pärime adverbi"
   ]
  },
  {
   "cell_type": "code",
   "execution_count": 6,
   "metadata": {},
   "outputs": [
    {
     "data": {
      "text/plain": [
       "[\"Synset('täna.r.01')\", \"Synset('täna.r.02')\", \"Synset('täna.n.01')\"]"
      ]
     },
     "execution_count": 6,
     "metadata": {},
     "output_type": "execute_result"
    }
   ],
   "source": [
    "t2na"
   ]
  },
  {
   "cell_type": "code",
   "execution_count": 7,
   "metadata": {},
   "outputs": [
    {
     "data": {
      "text/plain": [
       "[\"Synset('täna.r.01')\", \"Synset('täna.r.02')\"]"
      ]
     },
     "execution_count": 7,
     "metadata": {},
     "output_type": "execute_result"
    }
   ],
   "source": [
    "t2na_r"
   ]
  },
  {
   "cell_type": "markdown",
   "metadata": {},
   "source": [
    "Üks sõna kuulub sageli mitmesse sünohulka, sünohulka omakorda kuulub enamasti mitu sünonüümset lemmat.\n",
    "Selleks, et sünohulkade tähendusi eristada, saame vaadata definitsiooni:"
   ]
  },
  {
   "cell_type": "code",
   "execution_count": 8,
   "metadata": {},
   "outputs": [
    {
     "name": "stdout",
     "output_type": "stream",
     "text": [
      "Synset('koos.n.01') -- mingisse punkti või kohta juhtiv joon; sõidu-, kulgemissuund\n",
      "Synset('abinõu.n.01') -- mingile eesmärgile suunatud, selle saavutamiseks rakendatud tegevus\n",
      "Synset('rada.n.03') -- veebiaadressi puhul see osa veebiaadressist, mis määrab ära otsitava faili asukoha kataloogisüsteemis ehk failini viiva tee\n",
      "Synset('rada.n.02') -- miski, mida mööda saab minna ühest kohast teise\n",
      "Synset('tee.n.05') -- jook, mida saadakse (purustatud) teelehtede leotamisel vees\n",
      "Synset('liikumistee.n.01') -- väljakujunenud tee liikumiseks, reisimiseks\n",
      "Synset('tee.n.07') -- mingi liin, mida mööda sõidetakse, reisitakse\n",
      "Synset('tee.n.08') -- teepõõsa ja muude taimede kuivatatud lehed, pungad, varred või õied joogi valmistamiseks\n",
      "Synset('pöördustee.n.01') -- faili poole pöördumisel (näit. opsüsteemist) läbitavate hierarhiliste kataloogide jada\n"
     ]
    }
   ],
   "source": [
    "for tee in wn['tee']:\n",
    "    print(tee, '--', tee.definition)"
   ]
  },
  {
   "cell_type": "code",
   "execution_count": 9,
   "metadata": {},
   "outputs": [
    {
     "data": {
      "text/plain": [
       "9"
      ]
     },
     "execution_count": 9,
     "metadata": {},
     "output_type": "execute_result"
    }
   ],
   "source": [
    "# sõna sünohulkade arv\n",
    "len(wn['tee'])"
   ]
  },
  {
   "cell_type": "markdown",
   "metadata": {},
   "source": [
    "Konkreetsesse sünohulka kuuluvaid lemmasid saame pärida indekseid kasutades, näiteks nii:"
   ]
  },
  {
   "cell_type": "code",
   "execution_count": 10,
   "metadata": {
    "scrolled": true
   },
   "outputs": [
    {
     "data": {
      "text/plain": [
       "['koos', 'kurss', 'orientatsioon', 'siht', 'suund', 'tee']"
      ]
     },
     "execution_count": 10,
     "metadata": {},
     "output_type": "execute_result"
    }
   ],
   "source": [
    "wn['tee'][0].lemmas"
   ]
  },
  {
   "cell_type": "markdown",
   "metadata": {},
   "source": [
    "### Ülesanne 1. Uurime Wordnet'i (1p)\n",
    "Kirjutage kood, mis loeb sisse faili \"parasiitlusest.txt\", lemmatiseerib teksti (ehk morfoloogiline analüüs tavalise, lausepõhise ühestamisega), eemaldab ***lemmade*** hulgast kirjavahemärgid ning leiab allesjäänud lemmadele Wordneti liidese abil sünohulgad (täpsustan: ***unikaalsetele lemmadele***, pole vaja samale lemmale mitut päringut teha). Vastake järgmistele küsimustele:\n",
    "\n",
    "a) Mitmel % lemmadest on Wordnetis enam kui üks sünohulk?\n",
    "\n",
    "b) Mitmel % lemmadest ei ole Wordnetis ühtegi vastet?\n",
    "\n",
    "c) Millised on % sõnaliigiti? Ehk mitu % nimisõnadest, omadussõnadest jne puudub Wordnetis sünohulk + leida ka need sõnaliigid, mille kõikidel sõnadel LEIDUS sünohulk!)\n",
    "\n",
    "d) Mitu tähendust (sünohulka) leitakse iga lemma kohta keskmiselt? Ehk sünohulkade arv/lemmade arv.\n",
    "\n",
    "Ehk töökäigus on teil vaja:\n",
    "1. salvestada lemma ja selle sõnaliik\n",
    "2. leida mitmel sõnal on rohkem kui 1 sünohulk\n",
    "3. leida mitmel sõnal pole ühtki sünohulka\n",
    "4. leida, mitu sünohulka teil üldse kokku\n",
    "\n",
    "***OLULINE***:\n",
    "- Kui mitmesel sõnal on erinevad lemmad (nt levima/levinud), siis tuleks sünohulgad leida ***kõikidele lemmadele eraldi***.\n",
    "\n"
   ]
  },
  {
   "cell_type": "markdown",
   "metadata": {},
   "source": [
    "### Sünohulkade suhted: ülem- ja alammõisted"
   ]
  },
  {
   "cell_type": "markdown",
   "metadata": {},
   "source": [
    "Leiame varem päritud koera sünohulkade ülemmõisted e hüperonüümid:"
   ]
  },
  {
   "cell_type": "code",
   "execution_count": 11,
   "metadata": {},
   "outputs": [
    {
     "name": "stdout",
     "output_type": "stream",
     "text": [
      "[]\n",
      "[\"Synset('koduloom.n.01')\"]\n",
      "[\"Synset('huligaan.n.01')\"]\n",
      "[\"Synset('tarberiist.n.01')\"]\n"
     ]
    }
   ],
   "source": [
    "for k in koerad:\n",
    "    print(k.hypernyms)"
   ]
  },
  {
   "cell_type": "markdown",
   "metadata": {},
   "source": [
    "ja alammõisted e hüponüümid:"
   ]
  },
  {
   "cell_type": "code",
   "execution_count": 12,
   "metadata": {
    "scrolled": true
   },
   "outputs": [
    {
     "name": "stdout",
     "output_type": "stream",
     "text": [
      "[]\n",
      "[\"Synset('krants.n.01')\", \"Synset('sitsija.n.01')\", \"Synset('jahikoer.n.01')\", \"Synset('abikoer.n.01')\", \"Synset('veokoer.n.01')\", \"Synset('hulkurkoer.n.01')\", \"Synset('toakoer.n.01')\", \"Synset('kelgukoer.n.01')\", \"Synset('karjakoer.n.01')\", \"Synset('jälituskoer.n.01')\", \"Synset('hoovikoer.n.01')\", \"Synset('teenistuskoer.n.01')\", \"Synset('klähvats.n.01')\", \"Synset('rakats.n.01')\", \"Synset('puli.n.01')\", \"Synset('ajukoer.n.01')\", \"Synset('tõukoer.n.01')\", \"Synset('koeraklutt.n.01')\", \"Synset('hatt.n.02')\", \"Synset('rakats.n.02')\", \"Synset('spits.n.01')\"]\n",
      "[]\n",
      "[]\n"
     ]
    }
   ],
   "source": [
    "for k in koerad:\n",
    "    print(k.hyponyms)"
   ]
  },
  {
   "cell_type": "markdown",
   "metadata": {},
   "source": [
    "Eraldi meetodid on ka holonüümide ja meronüümide e osa-terviku suhtes olevate sünohulkade leidmiseks."
   ]
  },
  {
   "cell_type": "code",
   "execution_count": 13,
   "metadata": {},
   "outputs": [
    {
     "name": "stdout",
     "output_type": "stream",
     "text": [
      "[]\n",
      "[]\n",
      "[\"Synset('koerakuut.n.01')\"]\n",
      "[]\n",
      "[]\n",
      "[]\n",
      "[]\n",
      "[]\n"
     ]
    }
   ],
   "source": [
    "for k in koerad:\n",
    "    print(k.holonyms)\n",
    "    print(k.meronyms)"
   ]
  },
  {
   "cell_type": "markdown",
   "metadata": {},
   "source": [
    "Kõigi suhete leidmiseks on võimalik kasutada get_related_synsets(), mis tagastab listi seotud sünohulkadest nende suhetega"
   ]
  },
  {
   "cell_type": "code",
   "execution_count": 14,
   "metadata": {},
   "outputs": [
    {
     "name": "stdout",
     "output_type": "stream",
     "text": [
      "[(\"Synset('faktilugu.n.01')\", 'domain_topic'), (\"Synset('ebakorrektne.a.01')\", 'similar'), (\"Synset('kaak.n.01')\", 'similar')]\n",
      "\n",
      "[(\"Synset('koeravõitlus.n.01')\", 'agent'), (\"Synset('haukumine.n.02')\", 'agent'), (\"Synset('sitsimine.n.01')\", 'agent'), (\"Synset('koeralik.a.01')\", 'also'), (\"Synset('koduloom.n.01')\", 'be_in_state'), (\"Synset('koduloom.n.01')\", 'hypernym'), (\"Synset('bioloogia.n.01')\", 'domain_topic'), (\"Synset('koerlane.n.01')\", 'holo_member'), (\"Synset('koerakuut.n.01')\", 'holonym'), (\"Synset('krants.n.01')\", 'hyponym'), (\"Synset('sitsija.n.01')\", 'hyponym'), (\"Synset('jahikoer.n.01')\", 'hyponym'), (\"Synset('abikoer.n.01')\", 'hyponym'), (\"Synset('veokoer.n.01')\", 'hyponym'), (\"Synset('hulkurkoer.n.01')\", 'hyponym'), (\"Synset('toakoer.n.01')\", 'hyponym'), (\"Synset('kelgukoer.n.01')\", 'hyponym'), (\"Synset('karjakoer.n.01')\", 'hyponym'), (\"Synset('jälituskoer.n.01')\", 'hyponym'), (\"Synset('hoovikoer.n.01')\", 'hyponym'), (\"Synset('teenistuskoer.n.01')\", 'hyponym'), (\"Synset('klähvats.n.01')\", 'hyponym'), (\"Synset('rakats.n.01')\", 'hyponym'), (\"Synset('puli.n.01')\", 'hyponym'), (\"Synset('ajukoer.n.01')\", 'hyponym'), (\"Synset('tõukoer.n.01')\", 'hyponym'), (\"Synset('koeraklutt.n.01')\", 'hyponym'), (\"Synset('hatt.n.02')\", 'hyponym'), (\"Synset('rakats.n.02')\", 'hyponym'), (\"Synset('spits.n.01')\", 'hyponym'), (\"Synset('koerapulm.n.01')\", 'role'), (\"Synset('koera kaelavõru.n.01')\", 'similar'), (\"Synset('jalutusrihm.n.01')\", 'similar'), (\"Synset('koerakelk.n.01')\", 'similar'), (\"Synset('koertemaja.n.01')\", 'similar'), (\"Synset('ulve.n.01')\", 'similar'), (\"Synset('koeratoit.n.01')\", 'similar')]\n",
      "\n",
      "[(\"Synset('huligaanitsev.a.01')\", 'be_in_state'), (\"Synset('huligaan.n.01')\", 'hypernym'), (\"Synset('distsiplineerimatu.a.01')\", 'similar')]\n",
      "\n",
      "[(\"Synset('tarberiist.n.01')\", 'hypernym'), (\"Synset('kalavõrk.n.01')\", 'similar')]\n",
      "\n"
     ]
    }
   ],
   "source": [
    "for k in koerad:\n",
    "    print(k.get_related_synset())\n",
    "    print()"
   ]
  },
  {
   "cell_type": "markdown",
   "metadata": {},
   "source": [
    "Argumendina saab ette anda ka kindla suhte:"
   ]
  },
  {
   "cell_type": "code",
   "execution_count": 15,
   "metadata": {},
   "outputs": [
    {
     "name": "stdout",
     "output_type": "stream",
     "text": [
      "[]\n",
      "[\"Synset('koduloom.n.01')\"]\n",
      "[\"Synset('huligaanitsev.a.01')\"]\n",
      "[]\n"
     ]
    }
   ],
   "source": [
    "for k in koerad:\n",
    "    print(k.get_related_synset('be_in_state'))"
   ]
  },
  {
   "cell_type": "markdown",
   "metadata": {},
   "source": [
    "Kui me ei soovi ainult konkreetse sünohulga lemmasid, vaid näiteks ka hüponüümide, hüponüümide hüponüümide jnejne lemmasid (nt et leida kõikvõimalikud jalatseid tähistavad sõnad), saame kasutada `closure()` meetodit. Sel juhul tuleb ka täpsustada, missugust sünohulkadevahelist suhet vaatame. "
   ]
  },
  {
   "cell_type": "code",
   "execution_count": 16,
   "metadata": {
    "scrolled": true
   },
   "outputs": [
    {
     "data": {
      "text/plain": [
       "[\"Synset('mähkurlane.n.01')\",\n",
       " \"Synset('vaksik.n.01')\",\n",
       " \"Synset('võsavaksik.n.01')\",\n",
       " \"Synset('sügisvaksik.n.01')\",\n",
       " \"Synset('külmavaksik.n.01')\",\n",
       " \"Synset('hallavaksik.n.01')\",\n",
       " \"Synset('hiidvaksik.n.01')\",\n",
       " \"Synset('kuuvaksik.n.01')\",\n",
       " \"Synset('ööliblikas.n.01')\",\n",
       " \"Synset('männivaksik.n.01')\",\n",
       " \"Synset('koerliblikas.n.01')\",\n",
       " \"Synset('kapsaliblikas.n.01')\",\n",
       " \"Synset('admiral.n.02')\",\n",
       " \"Synset('silmik.n.01')\",\n",
       " \"Synset('öölane.n.01')\",\n",
       " \"Synset('täpik.n.01')\",\n",
       " \"Synset('rohetäpik.n.01')\",\n",
       " \"Synset('leedik.n.01')\",\n",
       " \"Synset('kirjuleedik.n.01')\",\n",
       " \"Synset('jahuleedik.n.01')\",\n",
       " \"Synset('kapsaleedik.n.01')\",\n",
       " \"Synset('kärjeleedik.n.01')\",\n",
       " \"Synset('tubakaleedik.n.01')\",\n",
       " \"Synset('käbileedik.n.01')\",\n",
       " \"Synset('niiduleedik.n.01')\",\n",
       " \"Synset('surulane.n.01')\",\n",
       " \"Synset('klaastiib.n.01')\",\n",
       " \"Synset('vaarikaklaastiib.n.01')\",\n",
       " \"Synset('kedrik.n.01')\",\n",
       " \"Synset('eistekedrik.n.01')\",\n",
       " \"Synset('männikedrik.n.01')\",\n",
       " \"Synset('aia-rõngakedrik.n.01')\",\n",
       " \"Synset('varreleedik.n.01')\",\n",
       " \"Synset('koi.n.04')\",\n",
       " \"Synset('päevaliblikas.n.01')\",\n",
       " \"Synset('siniliblikas.n.01')\",\n",
       " \"Synset('leinaliblikas.n.01')\",\n",
       " \"Synset('siidiliblikas.n.01')\",\n",
       " \"Synset('võrgendikoi.n.01')\",\n",
       " \"Synset('suru.n.01')\",\n",
       " \"Synset('lapsuliblikas.n.01')\"]"
      ]
     },
     "execution_count": 16,
     "metadata": {},
     "output_type": "execute_result"
    }
   ],
   "source": [
    "liblikas = wn['liblikas'][0]\n",
    "\n",
    "# Kui anname ette ainult suhte, saame kõik selle suhtega seotud \"päritud\" sünohulgad \n",
    "liblikas.closure('hyponym')"
   ]
  },
  {
   "cell_type": "code",
   "execution_count": 17,
   "metadata": {},
   "outputs": [
    {
     "data": {
      "text/plain": [
       "[\"Synset('insekt.n.01')\"]"
      ]
     },
     "execution_count": 17,
     "metadata": {},
     "output_type": "execute_result"
    }
   ],
   "source": [
    "# Kui anname ette ka arvu, saame täpsustada, mitme taseme kaugusi suhteid vaatame.\n",
    "# 1 annab meile vahetult seotud suhted\n",
    "liblikas.closure('hypernym', 1)"
   ]
  },
  {
   "cell_type": "code",
   "execution_count": 18,
   "metadata": {},
   "outputs": [
    {
     "data": {
      "text/plain": [
       "[\"Synset('insekt.n.01')\",\n",
       " \"Synset('artropood.n.01')\",\n",
       " \"Synset('selgrootu.n.01')\"]"
      ]
     },
     "execution_count": 18,
     "metadata": {},
     "output_type": "execute_result"
    }
   ],
   "source": [
    "liblikas.closure('hypernym', 3)"
   ]
  },
  {
   "attachments": {},
   "cell_type": "markdown",
   "metadata": {},
   "source": [
    "### Ülesanne 2. Kes on teksti peategelane? (1,5p)\n",
    "Ülesanne on leida, millist olendit on kõige enam selles tekstis mainitud. Sisendfail on \"telegram.txt\". Ülesande lahendamiseks tee järgmist:\n",
    "* vaikeväärtustega morf analüüs\n",
    "* leidke tekstist kõik ***nimisõnade lemmad***\n",
    "* leidke wordnetist kõik olendeid tähistavad sõnad. Selleks kasutage sünohulka \"olend.n.01\" (leiate sõna *olend* kaudu) - leidke selle kõik alamsünohulgad `closure()` abil ning seejärel salvestage kõikide nende sünohulkade lemmad (***vt ka all NB'd***)\n",
    "* kontrollige, millised tekstis esinenud nimisõnadest lemmad kuuluvad olendite hulka\n",
    "* leidke nendest kõige sagedasem (EHK TOP ÜKS!)\n",
    "* mitmese lemma puhul tuleb **kõiki** eraldi kontrollida! See tähendab seda, et mõni tekstisõna võib saada mitu analüüsi, nt 'tulnukasse' saab lemmaks 'tulnuk' ja 'tulnukas'. Mõlemate puhul tuleb vaadata, kas tegu substantiiviga või mitte. \n",
    "\n",
    "NB! \"Olend\" sünohulgast kõigi alluvate pärimine võib olla aeganõudev protsess (u 10 min). Kuna edaspidi läheb olendite nimekirja mitmel korral vaja, on mõistlik kõik olendeid tähistavad lemmad faili kirjutada (olend per rida). Olendeid peaks olema ~20k.\n",
    "\n",
    "Ülesande väljund: genereerib olendite faili + ``print(most_common(1))``"
   ]
  },
  {
   "cell_type": "markdown",
   "metadata": {},
   "source": [
    "### Sünohulkadevahelised kaugused"
   ]
  },
  {
   "cell_type": "markdown",
   "metadata": {},
   "source": [
    "Lisaks hüpo- ja hüperonüümide leidmisele on võimalik leida ka kahe sünohulga lähim ülemmõiste või nendevaheline kaugus - see peaks näitama, kui sarnased sõnad omavahel on."
   ]
  },
  {
   "cell_type": "markdown",
   "metadata": {},
   "source": [
    "Lähima ülemmõiste leidmine sünohulkadele \"koer.n.01\" ja \"kass.n.01\":"
   ]
  },
  {
   "cell_type": "code",
   "execution_count": 19,
   "metadata": {},
   "outputs": [],
   "source": [
    "koer =  wn['koer'][1]\n",
    "kass = wn['kass'][0]"
   ]
  },
  {
   "cell_type": "code",
   "execution_count": 20,
   "metadata": {},
   "outputs": [
    {
     "data": {
      "text/plain": [
       "[\"Synset('koduloom.n.01')\"]"
      ]
     },
     "execution_count": 20,
     "metadata": {},
     "output_type": "execute_result"
    }
   ],
   "source": [
    "wn.lowest_common_hypernyms(kass, koer)"
   ]
  },
  {
   "cell_type": "markdown",
   "metadata": {},
   "source": [
    "Omavahel pole kindlasti ühendatud eri sõnaliikidest sõnad, aga ka kõigil samast sõnaliigist sõnadel pole ühist ülemmõistet:"
   ]
  },
  {
   "cell_type": "code",
   "execution_count": 21,
   "metadata": {},
   "outputs": [],
   "source": [
    "room = wn['rõõm'][0]"
   ]
  },
  {
   "cell_type": "code",
   "execution_count": 22,
   "metadata": {},
   "outputs": [],
   "source": [
    "wn.lowest_common_hypernyms(koer, room)"
   ]
  },
  {
   "cell_type": "markdown",
   "metadata": {},
   "source": [
    "Sünohulkade vaheliste kauguste leidmiseks on Wordnetis kolm eri mõõdikut\n",
    "* `path_similarity()`: return a score denoting how similar two word senses are, based on the shortest path that connects the senses in the is-a (hypernym/hypnoym) taxonomy\n",
    "* `lch_similarity()`: Leacock-Chodorow Similarity returns a score denoting how similar two word senses are, based on the shortest path that connects the senses (as above) and the maximum depth of the taxonomy in which the senses occur.  \n",
    "* `wup_similarity()`: Wu-Palmer Similarity returns a score denoting how similar two word senses are, based on the depth of the two senses in the taxonomy and that of their Least Common Subsumer (most specific ancestor node). \n",
    "\n",
    "Kui soovi, siis selgitusi vaata lähemalt [siit](http://www.nltk.org/howto/wordnet.html) \"Similarity\" alamjaotuse alt."
   ]
  },
  {
   "cell_type": "code",
   "execution_count": 23,
   "metadata": {},
   "outputs": [
    {
     "data": {
      "text/plain": [
       "0.037037037037037035"
      ]
     },
     "execution_count": 23,
     "metadata": {},
     "output_type": "execute_result"
    }
   ],
   "source": [
    "wn.path_similarity(koer, room)"
   ]
  },
  {
   "cell_type": "code",
   "execution_count": 24,
   "metadata": {},
   "outputs": [
    {
     "data": {
      "text/plain": [
       "0.3333333333333333"
      ]
     },
     "execution_count": 24,
     "metadata": {},
     "output_type": "execute_result"
    }
   ],
   "source": [
    "wn.path_similarity(koer, kass)"
   ]
  },
  {
   "cell_type": "code",
   "execution_count": 25,
   "metadata": {},
   "outputs": [
    {
     "data": {
      "text/plain": [
       "-0.03774032798284711"
      ]
     },
     "execution_count": 25,
     "metadata": {},
     "output_type": "execute_result"
    }
   ],
   "source": [
    "wn.lch_similarity(koer, room)"
   ]
  },
  {
   "cell_type": "code",
   "execution_count": 26,
   "metadata": {},
   "outputs": [
    {
     "data": {
      "text/plain": [
       "2.159484249353372"
      ]
     },
     "execution_count": 26,
     "metadata": {},
     "output_type": "execute_result"
    }
   ],
   "source": [
    "wn.lch_similarity(koer, kass)"
   ]
  },
  {
   "cell_type": "code",
   "execution_count": 27,
   "metadata": {},
   "outputs": [],
   "source": [
    "wn.wup_similarity(koer, room)"
   ]
  },
  {
   "cell_type": "code",
   "execution_count": 28,
   "metadata": {},
   "outputs": [
    {
     "data": {
      "text/plain": [
       "0.8888888888888888"
      ]
     },
     "execution_count": 28,
     "metadata": {},
     "output_type": "execute_result"
    }
   ],
   "source": [
    "wn.wup_similarity(koer, kass)"
   ]
  },
  {
   "cell_type": "markdown",
   "metadata": {},
   "source": [
    "### Ülesanne 3. Sarnased ja erinevad - Wordnet (1,75p)\n",
    "Kuivõrd ühtivad Wordneti kaugusmõõdikute alusel sarnased sõnad sellega, mida me ise sarnaseks peame? Teeme väikse katse, leides 20 sõna omavahelised kaugused ja visualiseerides tulemusi, et nende hoomamine lihtsam oleks.\n",
    "\n",
    "Valime katsealusteks seekord anekdooditegelased. Failist \"anekdoodid.csv\" leiate Eesti Kirjandusmuuseumi [anekdoodiandmebaasist](http://www.folklore.ee/~liisi/o2/) korjatud anekdoodid (ärge unustage, et andekdoote tuleb lemmatiseerida). Kasutades **eelmises ülesandes loodud olendite listi**, leidke 20 kõige sagedamini anekdootides esinevat olendit. Kui eelmine ülesanne ei õnnestunud, siis kasuta olendid_lisamaterjal.txt.\n",
    "\n",
    "Kuna Wordnetis saab võrrelda ainult **sünohulkadevahelisi** kaugusi, mitte aga lemmadevahelisi, siis leidke nendele 20 lemmale vastavad sünohulgad ning nende kõikide sünohulkade omavahelised kaugused. Edasise visualiseerimise huvides tasub koguda need andmed, kas pandase *dataframe*'i või mõnda andmestruktuuri, millest on lihtne moodustada *dataframe*'i - näiteks sõnastikku, mille väärtusteks on sõnastikud (vt ka visualiseerimise näidet allpool). Sõna/sünohulga kaugus iseendaga määrake käsitsi (aga see väärtus peab ilmselgelt olema miinusmärgiga) - see võimaldab huvitavamatel juhtudel visuaalselt paremini esile tulla.\n",
    "\n",
    "Visualiseerige tulemused *heatmap*'ina. Rea- ja veerunimedeks peaksid olema lemmad, mitte sünohulgad (vihje `synohulk.name`).\n",
    "\n",
    "**Ehk lühidalt ja maakeeles:** laske andekdootidele morfanalüüs peale, seejärel eraldage need nimisõnad, mis olid ühtlasi ka olendite nimekirjas. Väljastage TOP 20 andekdootides esinevat olendit. Nüüd leiate nende TOP 20 olendi sünohulgad ja nende sünohulkade omavahelised kaugused. Ehk kui sul on järjend `[el1, el2, el3, el4]`, siis leiad kaugused: `el1.kaugus(el2)`, `el1.kaugus(el3)`, `el1.kaugus(el4)`, `el2.kaugus(el3)`, `el2.kaugus(el4)`, `el3.kaugus(el4)`\n",
    "\n",
    "LÕPLIK VÄLJUND:\n",
    "1. top 20 anekdootides esinevat olendit\n",
    "2. heatmapi joonis, kus kõikide sünohulkade nimed veergude ja ridade \"pealkirjad\"\n",
    "\n"
   ]
  },
  {
   "cell_type": "markdown",
   "metadata": {},
   "source": [
    "Vihjeid:\n",
    "* kaugusmõõdikuna kasutage ükskõik millist ülaltoodutest\n",
    "* heatmap'i loomisel on abiks [_seaborn_](https://seaborn.pydata.org/) teek. Installimine käib tavapäraselt:\n",
    "`conda install seaborn`"
   ]
  },
  {
   "cell_type": "markdown",
   "metadata": {},
   "source": [
    "##### Heatmap'i loomine seaborn teegi abil"
   ]
  },
  {
   "cell_type": "code",
   "execution_count": 29,
   "metadata": {},
   "outputs": [],
   "source": [
    "# Impordime teegi (peab eelnevalt installima!)\n",
    "import seaborn as sns\n",
    "import pandas as pd"
   ]
  },
  {
   "cell_type": "code",
   "execution_count": 30,
   "metadata": {},
   "outputs": [],
   "source": [
    "# Mänguandmestik visualiseerimisnäite jaoks\n",
    "d = {'õun': {'pirn': 2, 'kirss': 1}, 'pirn': {'kirss': 3, 'õun': 2}, 'kirss': {'õun': 1, 'pirn': 3}}"
   ]
  },
  {
   "cell_type": "code",
   "execution_count": 31,
   "metadata": {},
   "outputs": [],
   "source": [
    "df = pd.DataFrame.from_dict(d)"
   ]
  },
  {
   "cell_type": "code",
   "execution_count": 32,
   "metadata": {},
   "outputs": [
    {
     "data": {
      "text/html": [
       "<div>\n",
       "<style scoped>\n",
       "    .dataframe tbody tr th:only-of-type {\n",
       "        vertical-align: middle;\n",
       "    }\n",
       "\n",
       "    .dataframe tbody tr th {\n",
       "        vertical-align: top;\n",
       "    }\n",
       "\n",
       "    .dataframe thead th {\n",
       "        text-align: right;\n",
       "    }\n",
       "</style>\n",
       "<table border=\"1\" class=\"dataframe\">\n",
       "  <thead>\n",
       "    <tr style=\"text-align: right;\">\n",
       "      <th></th>\n",
       "      <th>õun</th>\n",
       "      <th>pirn</th>\n",
       "      <th>kirss</th>\n",
       "    </tr>\n",
       "  </thead>\n",
       "  <tbody>\n",
       "    <tr>\n",
       "      <th>pirn</th>\n",
       "      <td>2.0</td>\n",
       "      <td>NaN</td>\n",
       "      <td>3.0</td>\n",
       "    </tr>\n",
       "    <tr>\n",
       "      <th>kirss</th>\n",
       "      <td>1.0</td>\n",
       "      <td>3.0</td>\n",
       "      <td>NaN</td>\n",
       "    </tr>\n",
       "    <tr>\n",
       "      <th>õun</th>\n",
       "      <td>NaN</td>\n",
       "      <td>2.0</td>\n",
       "      <td>1.0</td>\n",
       "    </tr>\n",
       "  </tbody>\n",
       "</table>\n",
       "</div>"
      ],
      "text/plain": [
       "       õun  pirn  kirss\n",
       "pirn   2.0   NaN    3.0\n",
       "kirss  1.0   3.0    NaN\n",
       "õun    NaN   2.0    1.0"
      ]
     },
     "execution_count": 32,
     "metadata": {},
     "output_type": "execute_result"
    }
   ],
   "source": [
    "df"
   ]
  },
  {
   "cell_type": "code",
   "execution_count": 33,
   "metadata": {},
   "outputs": [
    {
     "data": {
      "text/plain": [
       "<Axes: >"
      ]
     },
     "execution_count": 33,
     "metadata": {},
     "output_type": "execute_result"
    },
    {
     "data": {
      "image/png": "[encoded data removed]",
      "text/plain": [
       "<Figure size 640x480 with 2 Axes>"
      ]
     },
     "metadata": {},
     "output_type": "display_data"
    }
   ],
   "source": [
    "sns.heatmap(df)"
   ]
  },
  {
   "cell_type": "markdown",
   "metadata": {},
   "source": [
    "Soovi korral saame muuta värve või muid kujunduselemente - värvide kohta vt [siit](https://seaborn.pydata.org/tutorial/color_palettes.html)"
   ]
  },
  {
   "cell_type": "code",
   "execution_count": 34,
   "metadata": {},
   "outputs": [
    {
     "data": {
      "text/plain": [
       "<Axes: >"
      ]
     },
     "execution_count": 34,
     "metadata": {},
     "output_type": "execute_result"
    },
    {
     "data": {
      "image/png": "[encoded data removed]",
      "text/plain": [
       "<Figure size 640x480 with 2 Axes>"
      ]
     },
     "metadata": {},
     "output_type": "display_data"
    }
   ],
   "source": [
    "sns.heatmap(df, cmap = 'coolwarm', linewidths=1.0, annot=True)"
   ]
  },
  {
   "cell_type": "markdown",
   "metadata": {},
   "source": [
    "### KIRJUTA ÜL 3 KOOD SIIA:\n",
    "sh kõik importkäsud!"
   ]
  },
  {
   "cell_type": "code",
   "execution_count": null,
   "metadata": {},
   "outputs": [],
   "source": []
  },
  {
   "cell_type": "markdown",
   "metadata": {},
   "source": [
    "#### Wordneti varjukülg"
   ]
  },
  {
   "cell_type": "markdown",
   "metadata": {},
   "source": [
    "Vaadake ülesandes 3 loodud *heatmap*'i. Kas sõnade sarnasused vastavad sellele, mida oma intuitsiooni põhjal arvaksite? \n",
    "\n",
    "Vaadake ka järgmisi näiteid:"
   ]
  },
  {
   "cell_type": "code",
   "execution_count": 35,
   "metadata": {},
   "outputs": [],
   "source": [
    "eestlane = wn['eestlane'][0]\n",
    "viljandlane = wn['viljandlane'][0]\n",
    "majaelanik = wn['majaelanik'][0]"
   ]
  },
  {
   "cell_type": "code",
   "execution_count": 36,
   "metadata": {},
   "outputs": [
    {
     "data": {
      "text/plain": [
       "0.3333333333333333"
      ]
     },
     "execution_count": 36,
     "metadata": {},
     "output_type": "execute_result"
    }
   ],
   "source": [
    "wn.path_similarity(majaelanik, viljandlane)"
   ]
  },
  {
   "cell_type": "code",
   "execution_count": 37,
   "metadata": {
    "scrolled": true
   },
   "outputs": [
    {
     "data": {
      "text/plain": [
       "0.06666666666666667"
      ]
     },
     "execution_count": 37,
     "metadata": {},
     "output_type": "execute_result"
    }
   ],
   "source": [
    "wn.path_similarity(eestlane, viljandlane)"
   ]
  },
  {
   "cell_type": "code",
   "execution_count": 38,
   "metadata": {},
   "outputs": [
    {
     "data": {
      "text/plain": [
       "[\"Synset('asukas.n.01')\"]"
      ]
     },
     "execution_count": 38,
     "metadata": {},
     "output_type": "execute_result"
    }
   ],
   "source": [
    "majaelanik.hypernyms"
   ]
  },
  {
   "cell_type": "code",
   "execution_count": 39,
   "metadata": {},
   "outputs": [
    {
     "data": {
      "text/plain": [
       "[\"Synset('asukas.n.01')\"]"
      ]
     },
     "execution_count": 39,
     "metadata": {},
     "output_type": "execute_result"
    }
   ],
   "source": [
    "viljandlane.hypernyms"
   ]
  },
  {
   "cell_type": "code",
   "execution_count": 40,
   "metadata": {
    "scrolled": true
   },
   "outputs": [
    {
     "data": {
      "text/plain": [
       "[\"Synset('baltimaalane.n.01')\"]"
      ]
     },
     "execution_count": 40,
     "metadata": {},
     "output_type": "execute_result"
    }
   ],
   "source": [
    "eestlane.hypernyms"
   ]
  },
  {
   "cell_type": "code",
   "execution_count": 41,
   "metadata": {},
   "outputs": [],
   "source": [
    "wn.lowest_common_hypernyms(eestlane, viljandlane)"
   ]
  },
  {
   "cell_type": "code",
   "execution_count": 42,
   "metadata": {
    "scrolled": true
   },
   "outputs": [
    {
     "data": {
      "text/plain": [
       "[(\"Synset('asukas.n.01')\", 'hypernym'),\n",
       " (\"Synset('viljandilanna.n.01')\", 'hyponym'),\n",
       " (\"Synset('eestimaalane.n.01')\", 'similar')]"
      ]
     },
     "execution_count": 42,
     "metadata": {},
     "output_type": "execute_result"
    }
   ],
   "source": [
    "viljandlane.get_related_synset()"
   ]
  },
  {
   "cell_type": "markdown",
   "metadata": {},
   "source": [
    "Ühesõnaga, Wordneti hierarhia ei vasta alati intuitsioonile. Õnneks on aga olemas ka teisi viise sõnade sarnasuse hindamiseks. Järgnevalt katsetame mudelit [word2vec](https://en.wikipedia.org/wiki/Word2vec)."
   ]
  },
  {
   "cell_type": "markdown",
   "metadata": {},
   "source": [
    "### *Word2vec*"
   ]
  },
  {
   "cell_type": "markdown",
   "metadata": {},
   "source": [
    "*Word2vec*'i (W2V) mudel põhineb **distributiivsushüpoteesil**: sarnase distributsiooniga lingvistilised üksused on ka semantiliselt sarnased. Teisisõnu, sarnastes kontekstides esinevad sõnad on sarnase tähendusega. Kuna siin kursusel me masinõppe teoreetilise poolega ei tegele, siis võtame *word2vec*'i kui musta kasti ega süvene praegu sellesse, kuidas kontekstide sarnasusi arvutatakse. Kui aga on siiski huvi rohkem teada, siis saab näiteks [siit](https://www.distilled.net/resources/a-beginners-guide-to-word2vec-aka-whats-the-opposite-of-canada/)."
   ]
  },
  {
   "cell_type": "markdown",
   "metadata": {},
   "source": [
    "Nagu enamiku masinõppealgoritmide puhul, on ka W2V jaoks oluline omada võimalikult palju andmeid. Mida rohkem andmeid, seda aeglasem on aga mudelite treenimine. Seetõttu on eesti keele jaoks olemas mitu juba suurte korpuste peal valmis treenitut mudelit, mida leiab [siit](https://github.com/estnltk/word2vec-models/blob/master/README.md) ja [siit](https://github.com/eleriaedmaa/embeddings)."
   ]
  },
  {
   "cell_type": "markdown",
   "metadata": {},
   "source": [
    "Meie aga katsetame järgmises ülesandes ise oma mudeli treenimist väiksel korpusel. W2V mudelite loomisel on abiks teek [_gensim_](https://radimrehurek.com/gensim/), mille uusima versiooni saab installida käsurealt läbi pip'i:\n",
    "`pip install --upgrade gensim`"
   ]
  },
  {
   "cell_type": "markdown",
   "metadata": {},
   "source": [
    "VÕI:"
   ]
  },
  {
   "cell_type": "code",
   "execution_count": 43,
   "metadata": {},
   "outputs": [],
   "source": [
    "# import sys\n",
    "# !{sys.executable} -m pip install gensim"
   ]
  },
  {
   "cell_type": "markdown",
   "metadata": {},
   "source": [
    "Mudeli loomiseks tuleb *word2vec*'ile ette anda n-ö kontekstide listina oma korpus. Näiteks, kui korpuseks on tekst\n",
    "\n",
    "\"Mari sööb õuna. Jüri ei söö õuna. Jüri sööb pirni.\"\n",
    "\n",
    "ja kontekstiks lause, siis tuleks korpus ette anda kujul"
   ]
  },
  {
   "cell_type": "code",
   "execution_count": 44,
   "metadata": {},
   "outputs": [],
   "source": [
    "corpus = [['Mari', 'sööb', 'õuna', '.'], ['Jüri', 'ei', 'söö', 'õuna', '.'], ['Jüri', 'sööb', 'pirni', '.']]"
   ]
  },
  {
   "cell_type": "markdown",
   "metadata": {},
   "source": [
    "Mudeli treenimiseks on meetod Word2Vec():"
   ]
  },
  {
   "cell_type": "code",
   "execution_count": 45,
   "metadata": {},
   "outputs": [
    {
     "name": "stdout",
     "output_type": "stream",
     "text": [
      "INFO:word2vec.py:582: collecting all words and their counts\n",
      "INFO:word2vec.py:565: PROGRESS: at sentence #0, processed 0 words, keeping 0 word types\n",
      "INFO:word2vec.py:588: collected 8 word types from a corpus of 13 raw words and 3 sentences\n",
      "INFO:word2vec.py:637: Creating a fresh vocabulary\n",
      "INFO:utils.py:448: Word2Vec lifecycle event {'msg': 'effective_min_count=1 retains 8 unique words (100.00% of original 8, drops 0)', 'datetime': '2024-02-13T11:39:53.790685', 'gensim': '4.3.2', 'python': '3.9.17 (main, Jul  5 2023, 20:47:11) [MSC v.1916 64 bit (AMD64)]', 'platform': 'Windows-10-10.0.22631-SP0', 'event': 'prepare_vocab'}\n",
      "INFO:utils.py:448: Word2Vec lifecycle event {'msg': 'effective_min_count=1 leaves 13 word corpus (100.00% of original 13, drops 0)', 'datetime': '2024-02-13T11:39:53.790685', 'gensim': '4.3.2', 'python': '3.9.17 (main, Jul  5 2023, 20:47:11) [MSC v.1916 64 bit (AMD64)]', 'platform': 'Windows-10-10.0.22631-SP0', 'event': 'prepare_vocab'}\n",
      "INFO:word2vec.py:745: deleting the raw counts dictionary of 8 items\n",
      "INFO:word2vec.py:748: sample=0.001 downsamples 8 most-common words\n",
      "INFO:utils.py:448: Word2Vec lifecycle event {'msg': 'downsampling leaves estimated 1.2412898115188833 word corpus (9.5%% of prior 13)', 'datetime': '2024-02-13T11:39:53.790685', 'gensim': '4.3.2', 'python': '3.9.17 (main, Jul  5 2023, 20:47:11) [MSC v.1916 64 bit (AMD64)]', 'platform': 'Windows-10-10.0.22631-SP0', 'event': 'prepare_vocab'}\n",
      "INFO:word2vec.py:805: estimated required memory for 8 words and 100 dimensions: 10400 bytes\n",
      "INFO:word2vec.py:863: resetting layer weights\n",
      "INFO:utils.py:448: Word2Vec lifecycle event {'update': False, 'trim_rule': 'None', 'datetime': '2024-02-13T11:39:53.792698', 'gensim': '4.3.2', 'python': '3.9.17 (main, Jul  5 2023, 20:47:11) [MSC v.1916 64 bit (AMD64)]', 'platform': 'Windows-10-10.0.22631-SP0', 'event': 'build_vocab'}\n",
      "INFO:utils.py:448: Word2Vec lifecycle event {'msg': 'training model with 3 workers on 8 vocabulary and 100 features, using sg=0 hs=0 sample=0.001 negative=5 window=5 shrink_windows=True', 'datetime': '2024-02-13T11:39:53.792698', 'gensim': '4.3.2', 'python': '3.9.17 (main, Jul  5 2023, 20:47:11) [MSC v.1916 64 bit (AMD64)]', 'platform': 'Windows-10-10.0.22631-SP0', 'event': 'train'}\n",
      "INFO:word2vec.py:1652: EPOCH 0: training on 13 raw words (1 effective words) took 0.0s, 1026 effective words/s\n",
      "INFO:word2vec.py:1652: EPOCH 1: training on 13 raw words (0 effective words) took 0.0s, 0 effective words/s\n",
      "INFO:word2vec.py:1652: EPOCH 2: training on 13 raw words (2 effective words) took 0.0s, 6647 effective words/s\n",
      "INFO:word2vec.py:1652: EPOCH 3: training on 13 raw words (0 effective words) took 0.0s, 0 effective words/s\n",
      "INFO:word2vec.py:1652: EPOCH 4: training on 13 raw words (1 effective words) took 0.0s, 1010 effective words/s\n",
      "INFO:utils.py:448: Word2Vec lifecycle event {'msg': 'training on 65 raw words (4 effective words) took 0.0s, 210 effective words/s', 'datetime': '2024-02-13T11:39:53.812078', 'gensim': '4.3.2', 'python': '3.9.17 (main, Jul  5 2023, 20:47:11) [MSC v.1916 64 bit (AMD64)]', 'platform': 'Windows-10-10.0.22631-SP0', 'event': 'train'}\n",
      "INFO:utils.py:448: Word2Vec lifecycle event {'params': 'Word2Vec<vocab=8, vector_size=100, alpha=0.025>', 'datetime': '2024-02-13T11:39:53.812078', 'gensim': '4.3.2', 'python': '3.9.17 (main, Jul  5 2023, 20:47:11) [MSC v.1916 64 bit (AMD64)]', 'platform': 'Windows-10-10.0.22631-SP0', 'event': 'created'}\n"
     ]
    }
   ],
   "source": [
    "from gensim.models import Word2Vec\n",
    "model = Word2Vec(corpus, min_count = 1)"
   ]
  },
  {
   "cell_type": "markdown",
   "metadata": {},
   "source": [
    "*min_count* parameeter määrab, mitu korda minimaalselt peab sõna korpuses esinema – vaikimisi on see 5, aga kuna praeguses \"korpuses\" ükski sõna nii palju ei esine, siis kasutame siin näites 1. (Ise mudelit treenides võite katsetada erinevaid variante.)"
   ]
  },
  {
   "cell_type": "markdown",
   "metadata": {},
   "source": [
    "Kui mudel on valmis, saamegi hakata sõnade sarnasusi küsima. Meetod *similarity()* annab meile sõnade kontekstivektorite koosinussarnasuse, mis varieerub -1-st 1-ni (kõige sarnasem)."
   ]
  },
  {
   "cell_type": "code",
   "execution_count": 46,
   "metadata": {},
   "outputs": [
    {
     "data": {
      "text/plain": [
       "-0.115555435"
      ]
     },
     "execution_count": 46,
     "metadata": {},
     "output_type": "execute_result"
    }
   ],
   "source": [
    "model.wv.similarity(\"Mari\", \"Jüri\")"
   ]
  },
  {
   "cell_type": "code",
   "execution_count": 47,
   "metadata": {},
   "outputs": [
    {
     "data": {
      "text/plain": [
       "-0.028491035"
      ]
     },
     "execution_count": 47,
     "metadata": {},
     "output_type": "execute_result"
    }
   ],
   "source": [
    "model.wv.similarity(\"Mari\", \"pirni\")"
   ]
  },
  {
   "cell_type": "markdown",
   "metadata": {},
   "source": [
    "### Ülesanne 4. Sarnased ja erinevad - Word2vec (1,75p)"
   ]
  },
  {
   "cell_type": "markdown",
   "metadata": {},
   "source": [
    "Looge _gensim_ teegi abil anekdootide korpuse põhjal oma word2vec mudel, leidke anekdooditegelaste vahelised sarnasusnäitajad ning visualiseerige tulemused nii, nagu eelmiseski ülesandes.\n",
    "\n",
    "* Korpusena kasutage anekdoote failist \"anekdoodi_minikorpus.csv\", \n",
    "* Kontekstina kasutage lauset (lausestamisel aitab loomulikult EstNLTK) ehk võtate ette lausekihi, itereerite üle lausete ja üle iga lause sõnade, ning vaatate selle lemmat!\n",
    "* Lemmatiseerige anekdoodid ja salvestage lause kaupa listidesse. Mitmeste lemmade puhul valige esimene. Lõpuks lähevad kõik lause listid ühte suurde listi (see on teie word2veci sisend).\n",
    "\n",
    "  <=== need sammud on kõige aeganõudvamad. Kui kood jookseb >15minutit, siis võta vähem andekdoote sisendiks. ===>\n",
    "----------------------------------------------------------------\n",
    "* Treenige word2vec'iga oma mudel.\n",
    "* Treenitud mudeli põhjal leidke kõigi 20 sagedasema anekdooditegelase omavahelised sarnasusnäitajad. Ehk siis `model.wv.similarity(TOP20 olend1, TOP20 olend2)` jne. Lemma ja tema enda sarnasust ärge arvestage (jätke märkimata).\n",
    "* Visualiseerige tulemus heatmap'ina\n",
    "\n",
    "\n",
    "VÄLJUND:\n",
    "1. uus heatmap\n",
    "2. paar lausega vastake küsimusele: milliseid sarnasusi-erinevusi märkate võrreldes eelmise ülesande tulemustega?\n",
    "\n"
   ]
  },
  {
   "cell_type": "markdown",
   "metadata": {},
   "source": [
    "### Pdf-i lugemine Pythonis"
   ]
  },
  {
   "cell_type": "markdown",
   "metadata": {},
   "source": [
    "Paljud arhiveeritud dokumendid ning teadusartiklid talletatakse PDF formaadis. Need näevad inimsilma jaoks head välja (sest mis ilust saame me rääkida näiteks csv, json-i või txt formaadi puhul?), ent automaattöötluse seisukohast on see ilu pigem nuhtluseks. Pdf-dokumentide sisemine struktuur võib olla väga erinev, sõltuvalt sellest, kuidas ja milliste vahenditega dokument loodud on (kui pdf-i siseelu lähemalt huvitab, saab sellest lugeda näiteks [siit](https://web.archive.org/web/20141010035745/http://gnupdf.org/Introduction_to_PDF)). \n",
    "\n",
    "Isegi kui jätame praegu kõrvale juhtumid, kus dokumendid on saadud nt skannimise teel ja tegemata on optiline tekstituvastus (sellest tuleb juttu 12. praktikumis), on pdf-ide programmaatiline lugemine paras peavalu. Seega, parim nõuanne pdf-ist teksti (või ka muude üksuste - tabelite jms) ekstraheerimise osas oleks mitte seda teha - kui vähegi võimalik, püüda andmed hankida sellisel kujul, nagu nad olid enne pdf-iks muutmist. Kui see aga siiski võimalik ei ole, siis on olemas mõned Pythoni tööriistad, mis siiski abiks on."
   ]
  },
  {
   "cell_type": "markdown",
   "metadata": {},
   "source": [
    "Hinnatuimad teegid pdf-ide töötlemiseks Pythonis on [_pyPDF2_](https://github.com/mstamy2/PyPDF2) ja [_pdfminer_](https://github.com/euske/pdfminer). Seejuures on kummalgi ka omad plussid ja miinused. _PyPDF2_ on baastööriist, millel ei ole palju võimalusi, ent seda on lihtne kasutada ja see on hästi dokumenteeritud. Saadaval condast nii Windowsile kui Linuxile järgnevalt:"
   ]
  },
  {
   "cell_type": "markdown",
   "metadata": {},
   "source": [
    "`conda install -c conda-forge pypdf2`"
   ]
  },
  {
   "cell_type": "markdown",
   "metadata": {},
   "source": [
    "_Pdfminer_ oli originaalis saadaval vaid Python 2-le, Python 3 jaoks on olemas versioon [_pdfminer3k_](https://github.com/jaepil/pdfminer3k), mis on originaaliga võrreldes veel kehvemini dokumenteeritud ega ole ka täpselt samasuguse liidesega. Samas pakub _pdfminer_ rohkem võimalusi, et edukalt oma pdf-ist tekst ikkagi kätte saada. _Pdfminer3k_ on saadaval condast käsuga:"
   ]
  },
  {
   "cell_type": "markdown",
   "metadata": {},
   "source": [
    "`conda install -c conda-forge pdfminer3k`"
   ]
  },
  {
   "cell_type": "markdown",
   "metadata": {},
   "source": [
    "### Boonusülesanne. (1p)\n",
    "Uurige, kuidas töötavad teegid *pypdf2* ja *pdfminer*. Katsetage mõlemaga teksti eraldamist failidest \"artikkel.pdf\" ja \"kohtulahend.pdf\". Kirjeldage tulemust. (Pdfmineri puhul võib kasutada ka Python 2-le loodud versiooni, millele leidub rohkem dokumentatsiooni - sel juhul on vaja luua esmalt uus conda keskkond, kuhu oleks installitud python2).\n",
    "\n",
    "**NB!** Kui installite python2 oma tavapäraselt kasutatavasse conda keskkonda, siis sealt eemaldatakse python3 ja vajalikud asjad enam ei tööta.\n",
    "\n",
    "(Kummagi teegi katsetamine annab 0,5p.)"
   ]
  }
 ],
 "metadata": {
  "kernelspec": {
   "display_name": "Python 3 (ipykernel)",
   "language": "python",
   "name": "python3"
  },
  "language_info": {
   "codemirror_mode": {
    "name": "ipython",
    "version": 3
   },
   "file_extension": ".py",
   "mimetype": "text/x-python",
   "name": "python",
   "nbconvert_exporter": "python",
   "pygments_lexer": "ipython3",
   "version": "3.9.17"
  }
 },
 "nbformat": 4,
 "nbformat_minor": 4
}
