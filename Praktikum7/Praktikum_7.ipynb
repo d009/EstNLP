{
 "cells": [
  {
   "cell_type": "markdown",
   "metadata": {},
   "source": [
    "<h1 style=\"color:blue\">Praktikum 9. </h1>\n",
    "<h3 style=\"color:blue\">Süntaktiline analüüs. HTML sisendi lugemine</h3>"
   ]
  },
  {
   "cell_type": "markdown",
   "metadata": {},
   "source": [
    "#### 3. november 2017\n",
    "#### Ülesannete esitamise tähtaeg 12. november 2017 23:55"
   ]
  },
  {
   "cell_type": "markdown",
   "metadata": {},
   "source": [
    "Tänases praktikumis vaatame, kuidas Pythoni vahenditega oma eestikeelsele tekstile süntaktilist analüüsi lisada saab. \n",
    "\n",
    "Süntaksiteooriaid on teatavasti mitmeid (täpsemalt on nendega võimalik tutvuda nt aines MTAT.06.031 Süntaksiteooriad ja -mudelid või vaadates ÕISist selle materjale), aga kuna eesti keele arvutisüntaksi puhul on leitud, et sobivaimaks on **sõltuvusgrammatika**, siis automaattöövahendid just niisugust analüüsi väljastavadki. Sõltuvusgrammatikas leitakse sõnade funktsioonid lauses (ehk pindsüntaktilised funktsioonid) ning sõnadevahelised seosed (ehk sõltuvussuhted)."
   ]
  },
  {
   "cell_type": "markdown",
   "metadata": {},
   "source": [
    "Eesti keele süntaktiliseks märgendamiseks on kaks enamkasutatavat töövahendit statistiline [MaltParser](http://www.maltparser.org/) ja reeglipõhine kitsenduste grammatika formalismil baseeruv [VISLCG3](https://github.com/EstSyntax/EstCG) analüsaator. Mõlemat on võimalik kasutada läbi EstNLTK (vt ka [juhend](https://estnltk.github.io/estnltk/1.4.1/tutorials/dependency_syntax.html)) ning mõlema väljundit aitab vajadusel mõista [see dokument](https://korpused.keeleressursid.ee/syntaks/dokumendid/syntaksiliides_ee.pdf)."
   ]
  },
  {
   "cell_type": "markdown",
   "metadata": {},
   "source": [
    "### MaltParser"
   ]
  },
  {
   "cell_type": "markdown",
   "metadata": {},
   "source": [
    "Vaikimisi rakendatakse süntaktiliseks märgendamiseks MaltParserit, see käib meetodi tag_syntax() abil:"
   ]
  },
  {
   "cell_type": "code",
   "execution_count": 1,
   "metadata": {
    "collapsed": true
   },
   "outputs": [],
   "source": [
    "from estnltk import Text\n",
    "from pprint import pprint\n",
    "text = Text('Poe ees õlut joonud mehed häirisid kohalikke, aga ükskõikne politsei ei teinud midagi.')"
   ]
  },
  {
   "cell_type": "code",
   "execution_count": 2,
   "metadata": {
    "collapsed": false
   },
   "outputs": [
    {
     "data": {
      "text/plain": [
       "{'conll_syntax': [{'end': 3,\n",
       "   'parser_out': [['@P>', 1]],\n",
       "   'sent_id': 0,\n",
       "   'start': 0},\n",
       "  {'end': 7, 'parser_out': [['@ADVL', 3]], 'sent_id': 0, 'start': 4},\n",
       "  {'end': 12, 'parser_out': [['@ADVL', 3]], 'sent_id': 0, 'start': 8},\n",
       "  {'end': 19, 'parser_out': [['@AN>', 4]], 'sent_id': 0, 'start': 13},\n",
       "  {'end': 25, 'parser_out': [['@SUBJ', 5]], 'sent_id': 0, 'start': 20},\n",
       "  {'end': 34, 'parser_out': [['ROOT', -1]], 'sent_id': 0, 'start': 26},\n",
       "  {'end': 44, 'parser_out': [['@PRD', 5]], 'sent_id': 0, 'start': 35},\n",
       "  {'end': 45, 'parser_out': [['xxx', 6]], 'sent_id': 0, 'start': 44},\n",
       "  {'end': 49, 'parser_out': [['@J', 12]], 'sent_id': 0, 'start': 46},\n",
       "  {'end': 59, 'parser_out': [['@AN>', 10]], 'sent_id': 0, 'start': 50},\n",
       "  {'end': 68, 'parser_out': [['@SUBJ', 12]], 'sent_id': 0, 'start': 60},\n",
       "  {'end': 71, 'parser_out': [['@NEG', 12]], 'sent_id': 0, 'start': 69},\n",
       "  {'end': 78, 'parser_out': [['@FMV', 5]], 'sent_id': 0, 'start': 72},\n",
       "  {'end': 85, 'parser_out': [['@OBJ', 12]], 'sent_id': 0, 'start': 79},\n",
       "  {'end': 86, 'parser_out': [['xxx', 13]], 'sent_id': 0, 'start': 85}],\n",
       " 'paragraphs': [{'end': 86, 'start': 0}],\n",
       " 'sentences': [{'end': 86, 'start': 0}],\n",
       " 'text': 'Poe ees õlut joonud mehed häirisid kohalikke, aga ükskõikne politsei ei teinud midagi.',\n",
       " 'words': [{'analysis': [{'clitic': '',\n",
       "     'ending': '0',\n",
       "     'form': 'sg g',\n",
       "     'lemma': 'pood',\n",
       "     'partofspeech': 'S',\n",
       "     'root': 'pood',\n",
       "     'root_tokens': ['pood']}],\n",
       "   'end': 3,\n",
       "   'start': 0,\n",
       "   'text': 'Poe'},\n",
       "  {'analysis': [{'clitic': '',\n",
       "     'ending': '0',\n",
       "     'form': '',\n",
       "     'lemma': 'ees',\n",
       "     'partofspeech': 'K',\n",
       "     'root': 'ees',\n",
       "     'root_tokens': ['ees']}],\n",
       "   'end': 7,\n",
       "   'start': 4,\n",
       "   'text': 'ees'},\n",
       "  {'analysis': [{'clitic': '',\n",
       "     'ending': 't',\n",
       "     'form': 'sg p',\n",
       "     'lemma': 'õlu',\n",
       "     'partofspeech': 'S',\n",
       "     'root': 'õlu',\n",
       "     'root_tokens': ['õlu']}],\n",
       "   'end': 12,\n",
       "   'start': 8,\n",
       "   'text': 'õlut'},\n",
       "  {'analysis': [{'clitic': '',\n",
       "     'ending': 'nud',\n",
       "     'form': 'nud',\n",
       "     'lemma': 'jooma',\n",
       "     'partofspeech': 'V',\n",
       "     'root': 'joo',\n",
       "     'root_tokens': ['joo']},\n",
       "    {'clitic': '',\n",
       "     'ending': '0',\n",
       "     'form': '',\n",
       "     'lemma': 'joonud',\n",
       "     'partofspeech': 'A',\n",
       "     'root': 'joo=nud',\n",
       "     'root_tokens': ['joonud']},\n",
       "    {'clitic': '',\n",
       "     'ending': '0',\n",
       "     'form': 'sg n',\n",
       "     'lemma': 'joonud',\n",
       "     'partofspeech': 'A',\n",
       "     'root': 'joo=nud',\n",
       "     'root_tokens': ['joonud']},\n",
       "    {'clitic': '',\n",
       "     'ending': 'd',\n",
       "     'form': 'pl n',\n",
       "     'lemma': 'joonud',\n",
       "     'partofspeech': 'A',\n",
       "     'root': 'joo=nud',\n",
       "     'root_tokens': ['joonud']}],\n",
       "   'end': 19,\n",
       "   'start': 13,\n",
       "   'text': 'joonud'},\n",
       "  {'analysis': [{'clitic': '',\n",
       "     'ending': 'd',\n",
       "     'form': 'pl n',\n",
       "     'lemma': 'mees',\n",
       "     'partofspeech': 'S',\n",
       "     'root': 'mees',\n",
       "     'root_tokens': ['mees']}],\n",
       "   'end': 25,\n",
       "   'start': 20,\n",
       "   'text': 'mehed'},\n",
       "  {'analysis': [{'clitic': '',\n",
       "     'ending': 'sid',\n",
       "     'form': 'sid',\n",
       "     'lemma': 'häirima',\n",
       "     'partofspeech': 'V',\n",
       "     'root': 'häiri',\n",
       "     'root_tokens': ['häiri']}],\n",
       "   'end': 34,\n",
       "   'start': 26,\n",
       "   'text': 'häirisid'},\n",
       "  {'analysis': [{'clitic': '',\n",
       "     'ending': 'e',\n",
       "     'form': 'pl p',\n",
       "     'lemma': 'kohalik',\n",
       "     'partofspeech': 'A',\n",
       "     'root': 'kohalik',\n",
       "     'root_tokens': ['kohalik']}],\n",
       "   'end': 44,\n",
       "   'start': 35,\n",
       "   'text': 'kohalikke'},\n",
       "  {'analysis': [{'clitic': '',\n",
       "     'ending': '',\n",
       "     'form': '',\n",
       "     'lemma': ',',\n",
       "     'partofspeech': 'Z',\n",
       "     'root': ',',\n",
       "     'root_tokens': [',']}],\n",
       "   'end': 45,\n",
       "   'start': 44,\n",
       "   'text': ','},\n",
       "  {'analysis': [{'clitic': '',\n",
       "     'ending': '0',\n",
       "     'form': '',\n",
       "     'lemma': 'aga',\n",
       "     'partofspeech': 'J',\n",
       "     'root': 'aga',\n",
       "     'root_tokens': ['aga']}],\n",
       "   'end': 49,\n",
       "   'start': 46,\n",
       "   'text': 'aga'},\n",
       "  {'analysis': [{'clitic': '',\n",
       "     'ending': '0',\n",
       "     'form': 'sg n',\n",
       "     'lemma': 'ükskõikne',\n",
       "     'partofspeech': 'A',\n",
       "     'root': 'üks_kõikne',\n",
       "     'root_tokens': ['üks', 'kõikne']}],\n",
       "   'end': 59,\n",
       "   'start': 50,\n",
       "   'text': 'ükskõikne'},\n",
       "  {'analysis': [{'clitic': '',\n",
       "     'ending': '0',\n",
       "     'form': 'sg n',\n",
       "     'lemma': 'politsei',\n",
       "     'partofspeech': 'S',\n",
       "     'root': 'politsei',\n",
       "     'root_tokens': ['politsei']}],\n",
       "   'end': 68,\n",
       "   'start': 60,\n",
       "   'text': 'politsei'},\n",
       "  {'analysis': [{'clitic': '',\n",
       "     'ending': '0',\n",
       "     'form': 'neg',\n",
       "     'lemma': 'ei',\n",
       "     'partofspeech': 'V',\n",
       "     'root': 'ei',\n",
       "     'root_tokens': ['ei']}],\n",
       "   'end': 71,\n",
       "   'start': 69,\n",
       "   'text': 'ei'},\n",
       "  {'analysis': [{'clitic': '',\n",
       "     'ending': 'nud',\n",
       "     'form': 'nud',\n",
       "     'lemma': 'tegema',\n",
       "     'partofspeech': 'V',\n",
       "     'root': 'tege',\n",
       "     'root_tokens': ['tege']},\n",
       "    {'clitic': '',\n",
       "     'ending': '0',\n",
       "     'form': '',\n",
       "     'lemma': 'teinud',\n",
       "     'partofspeech': 'A',\n",
       "     'root': 'tei=nud',\n",
       "     'root_tokens': ['teinud']},\n",
       "    {'clitic': '',\n",
       "     'ending': '0',\n",
       "     'form': 'sg n',\n",
       "     'lemma': 'teinud',\n",
       "     'partofspeech': 'A',\n",
       "     'root': 'tei=nud',\n",
       "     'root_tokens': ['teinud']},\n",
       "    {'clitic': '',\n",
       "     'ending': 'd',\n",
       "     'form': 'pl n',\n",
       "     'lemma': 'teinud',\n",
       "     'partofspeech': 'A',\n",
       "     'root': 'tei=nud',\n",
       "     'root_tokens': ['teinud']}],\n",
       "   'end': 78,\n",
       "   'start': 72,\n",
       "   'text': 'teinud'},\n",
       "  {'analysis': [{'clitic': '',\n",
       "     'ending': 'dagi',\n",
       "     'form': 'sg p',\n",
       "     'lemma': 'miski',\n",
       "     'partofspeech': 'P',\n",
       "     'root': 'miski',\n",
       "     'root_tokens': ['miski']}],\n",
       "   'end': 85,\n",
       "   'start': 79,\n",
       "   'text': 'midagi'},\n",
       "  {'analysis': [{'clitic': '',\n",
       "     'ending': '',\n",
       "     'form': '',\n",
       "     'lemma': '.',\n",
       "     'partofspeech': 'Z',\n",
       "     'root': '.',\n",
       "     'root_tokens': ['.']}],\n",
       "   'end': 86,\n",
       "   'start': 85,\n",
       "   'text': '.'}]}"
      ]
     },
     "execution_count": 2,
     "metadata": {},
     "output_type": "execute_result"
    }
   ],
   "source": [
    "# Teostame süntaktilise analüüsi MaltParseri abil\n",
    "text.tag_syntax()"
   ]
  },
  {
   "cell_type": "code",
   "execution_count": 3,
   "metadata": {
    "collapsed": false
   },
   "outputs": [
    {
     "data": {
      "text/plain": [
       "[{'end': 3, 'parser_out': [['@P>', 1]], 'sent_id': 0, 'start': 0},\n",
       " {'end': 7, 'parser_out': [['@ADVL', 3]], 'sent_id': 0, 'start': 4},\n",
       " {'end': 12, 'parser_out': [['@ADVL', 3]], 'sent_id': 0, 'start': 8},\n",
       " {'end': 19, 'parser_out': [['@AN>', 4]], 'sent_id': 0, 'start': 13},\n",
       " {'end': 25, 'parser_out': [['@SUBJ', 5]], 'sent_id': 0, 'start': 20},\n",
       " {'end': 34, 'parser_out': [['ROOT', -1]], 'sent_id': 0, 'start': 26},\n",
       " {'end': 44, 'parser_out': [['@PRD', 5]], 'sent_id': 0, 'start': 35},\n",
       " {'end': 45, 'parser_out': [['xxx', 6]], 'sent_id': 0, 'start': 44},\n",
       " {'end': 49, 'parser_out': [['@J', 12]], 'sent_id': 0, 'start': 46},\n",
       " {'end': 59, 'parser_out': [['@AN>', 10]], 'sent_id': 0, 'start': 50},\n",
       " {'end': 68, 'parser_out': [['@SUBJ', 12]], 'sent_id': 0, 'start': 60},\n",
       " {'end': 71, 'parser_out': [['@NEG', 12]], 'sent_id': 0, 'start': 69},\n",
       " {'end': 78, 'parser_out': [['@FMV', 5]], 'sent_id': 0, 'start': 72},\n",
       " {'end': 85, 'parser_out': [['@OBJ', 12]], 'sent_id': 0, 'start': 79},\n",
       " {'end': 86, 'parser_out': [['xxx', 13]], 'sent_id': 0, 'start': 85}]"
      ]
     },
     "execution_count": 3,
     "metadata": {},
     "output_type": "execute_result"
    }
   ],
   "source": [
    "text['conll_syntax']"
   ]
  },
  {
   "cell_type": "markdown",
   "metadata": {},
   "source": [
    "Nagu näeme, lisatakse tekstile süntaktilise analüüsi käigus nii juba tuttav 'words' kiht koos morfoloogilise analüüsiga kui ka uus kiht nimega 'conll_syntax', kus paiknevad nii pindsüntaktiliste funktsioonide märgendid kui ka sõltuvussuhet (sõna ülemust) tähistavad numbrid."
   ]
  },
  {
   "cell_type": "markdown",
   "metadata": {},
   "source": [
    "Et paremini aru saada, milline analüüs millise sõna juurde käib, võime väljastada koos süntaktilise analüüsi kihiga ka sõnad:"
   ]
  },
  {
   "cell_type": "code",
   "execution_count": 4,
   "metadata": {
    "collapsed": false
   },
   "outputs": [
    {
     "data": {
      "text/plain": [
       "[('Poe', {'end': 3, 'parser_out': [['@P>', 1]], 'sent_id': 0, 'start': 0}),\n",
       " ('ees', {'end': 7, 'parser_out': [['@ADVL', 3]], 'sent_id': 0, 'start': 4}),\n",
       " ('õlut', {'end': 12, 'parser_out': [['@ADVL', 3]], 'sent_id': 0, 'start': 8}),\n",
       " ('joonud',\n",
       "  {'end': 19, 'parser_out': [['@AN>', 4]], 'sent_id': 0, 'start': 13}),\n",
       " ('mehed',\n",
       "  {'end': 25, 'parser_out': [['@SUBJ', 5]], 'sent_id': 0, 'start': 20}),\n",
       " ('häirisid',\n",
       "  {'end': 34, 'parser_out': [['ROOT', -1]], 'sent_id': 0, 'start': 26}),\n",
       " ('kohalikke',\n",
       "  {'end': 44, 'parser_out': [['@PRD', 5]], 'sent_id': 0, 'start': 35}),\n",
       " (',', {'end': 45, 'parser_out': [['xxx', 6]], 'sent_id': 0, 'start': 44}),\n",
       " ('aga', {'end': 49, 'parser_out': [['@J', 12]], 'sent_id': 0, 'start': 46}),\n",
       " ('ükskõikne',\n",
       "  {'end': 59, 'parser_out': [['@AN>', 10]], 'sent_id': 0, 'start': 50}),\n",
       " ('politsei',\n",
       "  {'end': 68, 'parser_out': [['@SUBJ', 12]], 'sent_id': 0, 'start': 60}),\n",
       " ('ei', {'end': 71, 'parser_out': [['@NEG', 12]], 'sent_id': 0, 'start': 69}),\n",
       " ('teinud',\n",
       "  {'end': 78, 'parser_out': [['@FMV', 5]], 'sent_id': 0, 'start': 72}),\n",
       " ('midagi',\n",
       "  {'end': 85, 'parser_out': [['@OBJ', 12]], 'sent_id': 0, 'start': 79}),\n",
       " ('.', {'end': 86, 'parser_out': [['xxx', 13]], 'sent_id': 0, 'start': 85})]"
      ]
     },
     "execution_count": 4,
     "metadata": {},
     "output_type": "execute_result"
    }
   ],
   "source": [
    "list(zip(text.word_texts, text['conll_syntax']))"
   ]
  },
  {
   "cell_type": "markdown",
   "metadata": {},
   "source": [
    "### VISLCG3"
   ]
  },
  {
   "cell_type": "markdown",
   "metadata": {},
   "source": [
    "VISLCG3 parseri kasutamiseks on vaja VISLCG3 esmalt installida oma arvutisse (vt juhendit [siit](http://visl.sdu.dk/cg3/single/#installation)). Selle kasutamiseks läbi EstNLTK tuleb luua VISLCG3 parseri isend, andes ette vislcg3 asukoha oma arvutis (kui lisate vislcg3 parseri kataloogi oma PATH süsteemimuutujasse, siis ei ole vaja asukohta parseri isendi loomisel ette anda)."
   ]
  },
  {
   "cell_type": "code",
   "execution_count": 5,
   "metadata": {
    "collapsed": false
   },
   "outputs": [],
   "source": [
    "from estnltk.syntax.parsers import VISLCG3Parser"
   ]
  },
  {
   "cell_type": "code",
   "execution_count": null,
   "metadata": {
    "collapsed": true
   },
   "outputs": [],
   "source": [
    "# See käsk niisugusel kujul tõenäoliselt ei tööta - peate vislcg3 asukoha määrama vastavalt sellele,\n",
    "# kuhu oma arvutis selle installisite\n",
    "parser = VISLCG3Parser(vislcg_cmd='C:\\\\cg3\\\\bin\\\\vislcg3.exe')"
   ]
  },
  {
   "cell_type": "code",
   "execution_count": 6,
   "metadata": {
    "collapsed": true
   },
   "outputs": [],
   "source": [
    "# Kui VISLCG3 kataloog on PATHi lisatud, saab isendi tekitada teed ette andmata\n",
    "parser = VISLCG3Parser()"
   ]
  },
  {
   "cell_type": "markdown",
   "metadata": {},
   "source": [
    "VislCG3-ga saame samuti teksti märgendada meetodi tag_syntax() abil. Et meetod kasutaks MaltParseri asemel VISLCG3, tuleb see juba Text objekti loomise käigus ära määrata - parameetriks syntactic_parser tuleb ette anda oma VISLCG3 parser (mille tekitasime eelmisel real):"
   ]
  },
  {
   "cell_type": "code",
   "execution_count": 7,
   "metadata": {
    "collapsed": false
   },
   "outputs": [],
   "source": [
    "text = Text('Poe ees õlut joonud mehed häirisid kohalikke, aga ükskõikne politsei ei teinud midagi.', syntactic_parser = parser)"
   ]
  },
  {
   "cell_type": "code",
   "execution_count": 8,
   "metadata": {
    "collapsed": false
   },
   "outputs": [
    {
     "data": {
      "text/plain": [
       "{'paragraphs': [{'end': 86, 'start': 0}],\n",
       " 'sentences': [{'end': 86, 'start': 0}],\n",
       " 'text': 'Poe ees õlut joonud mehed häirisid kohalikke, aga ükskõikne politsei ei teinud midagi.',\n",
       " 'vislcg3_syntax': [{'end': 3,\n",
       "   'parser_out': [['@P>', 1]],\n",
       "   'sent_id': 0,\n",
       "   'start': 0},\n",
       "  {'end': 7, 'parser_out': [['@ADVL', 5]], 'sent_id': 0, 'start': 4},\n",
       "  {'end': 12, 'parser_out': [['@OBJ', 3]], 'sent_id': 0, 'start': 8},\n",
       "  {'end': 19, 'parser_out': [['@AN>', 4]], 'sent_id': 0, 'start': 13},\n",
       "  {'end': 25, 'parser_out': [['@SUBJ', 5]], 'sent_id': 0, 'start': 20},\n",
       "  {'end': 34, 'parser_out': [['@FMV', -1]], 'sent_id': 0, 'start': 26},\n",
       "  {'end': 44, 'parser_out': [['@ADVL', 5]], 'sent_id': 0, 'start': 35},\n",
       "  {'end': 45, 'parser_out': [['xxx', 6]], 'sent_id': 0, 'start': 44},\n",
       "  {'end': 49, 'parser_out': [['@J', 10]], 'sent_id': 0, 'start': 46},\n",
       "  {'end': 59, 'parser_out': [['@AN>', 10]], 'sent_id': 0, 'start': 50},\n",
       "  {'end': 68, 'parser_out': [['@SUBJ', 12]], 'sent_id': 0, 'start': 60},\n",
       "  {'end': 71, 'parser_out': [['@NEG', 12]], 'sent_id': 0, 'start': 69},\n",
       "  {'end': 78, 'parser_out': [['@FMV', 5]], 'sent_id': 0, 'start': 72},\n",
       "  {'end': 85, 'parser_out': [['@OBJ', 12]], 'sent_id': 0, 'start': 79},\n",
       "  {'end': 86, 'parser_out': [['xxx', 13]], 'sent_id': 0, 'start': 85}],\n",
       " 'words': [{'analysis': [{'clitic': '',\n",
       "     'ending': '0',\n",
       "     'form': 'sg g',\n",
       "     'lemma': 'Pood',\n",
       "     'partofspeech': 'H',\n",
       "     'root': 'Pood',\n",
       "     'root_tokens': ['Pood']},\n",
       "    {'clitic': '',\n",
       "     'ending': '0',\n",
       "     'form': 'sg g',\n",
       "     'lemma': 'Poe',\n",
       "     'partofspeech': 'H',\n",
       "     'root': 'Poe',\n",
       "     'root_tokens': ['Poe']},\n",
       "    {'clitic': '',\n",
       "     'ending': '0',\n",
       "     'form': 'sg n',\n",
       "     'lemma': 'Poe',\n",
       "     'partofspeech': 'H',\n",
       "     'root': 'Poe',\n",
       "     'root_tokens': ['Poe']},\n",
       "    {'clitic': '',\n",
       "     'ending': '0',\n",
       "     'form': 'sg g',\n",
       "     'lemma': 'pood',\n",
       "     'partofspeech': 'S',\n",
       "     'root': 'pood',\n",
       "     'root_tokens': ['pood']},\n",
       "    {'clitic': '',\n",
       "     'ending': '0',\n",
       "     'form': 'o',\n",
       "     'lemma': 'pugema',\n",
       "     'partofspeech': 'V',\n",
       "     'root': 'puge',\n",
       "     'root_tokens': ['puge']}],\n",
       "   'end': 3,\n",
       "   'start': 0,\n",
       "   'text': 'Poe'},\n",
       "  {'analysis': [{'clitic': '',\n",
       "     'ending': '0',\n",
       "     'form': '',\n",
       "     'lemma': 'ees',\n",
       "     'partofspeech': 'D',\n",
       "     'root': 'ees',\n",
       "     'root_tokens': ['ees']},\n",
       "    {'clitic': '',\n",
       "     'ending': '0',\n",
       "     'form': '',\n",
       "     'lemma': 'ees',\n",
       "     'partofspeech': 'K',\n",
       "     'root': 'ees',\n",
       "     'root_tokens': ['ees']},\n",
       "    {'clitic': '',\n",
       "     'ending': 's',\n",
       "     'form': 'sg in',\n",
       "     'lemma': 'esi',\n",
       "     'partofspeech': 'S',\n",
       "     'root': 'esi',\n",
       "     'root_tokens': ['esi']}],\n",
       "   'end': 7,\n",
       "   'start': 4,\n",
       "   'text': 'ees'},\n",
       "  {'analysis': [{'clitic': '',\n",
       "     'ending': 't',\n",
       "     'form': 'sg p',\n",
       "     'lemma': 'õlu',\n",
       "     'partofspeech': 'S',\n",
       "     'root': 'õlu',\n",
       "     'root_tokens': ['õlu']}],\n",
       "   'end': 12,\n",
       "   'start': 8,\n",
       "   'text': 'õlut'},\n",
       "  {'analysis': [{'clitic': '',\n",
       "     'ending': 'nud',\n",
       "     'form': 'nud',\n",
       "     'lemma': 'jooma',\n",
       "     'partofspeech': 'V',\n",
       "     'root': 'joo',\n",
       "     'root_tokens': ['joo']},\n",
       "    {'clitic': '',\n",
       "     'ending': 'd',\n",
       "     'form': 'pl n',\n",
       "     'lemma': 'joonu',\n",
       "     'partofspeech': 'S',\n",
       "     'root': 'joo=nu',\n",
       "     'root_tokens': ['joonu']},\n",
       "    {'clitic': '',\n",
       "     'ending': '0',\n",
       "     'form': '',\n",
       "     'lemma': 'joonud',\n",
       "     'partofspeech': 'A',\n",
       "     'root': 'joo=nud',\n",
       "     'root_tokens': ['joonud']},\n",
       "    {'clitic': '',\n",
       "     'ending': '0',\n",
       "     'form': 'sg n',\n",
       "     'lemma': 'joonud',\n",
       "     'partofspeech': 'A',\n",
       "     'root': 'joo=nud',\n",
       "     'root_tokens': ['joonud']},\n",
       "    {'clitic': '',\n",
       "     'ending': 'd',\n",
       "     'form': 'pl n',\n",
       "     'lemma': 'joonud',\n",
       "     'partofspeech': 'A',\n",
       "     'root': 'joo=nud',\n",
       "     'root_tokens': ['joonud']}],\n",
       "   'end': 19,\n",
       "   'start': 13,\n",
       "   'text': 'joonud'},\n",
       "  {'analysis': [{'clitic': '',\n",
       "     'ending': 'd',\n",
       "     'form': 'pl n',\n",
       "     'lemma': 'mees',\n",
       "     'partofspeech': 'S',\n",
       "     'root': 'mees',\n",
       "     'root_tokens': ['mees']}],\n",
       "   'end': 25,\n",
       "   'start': 20,\n",
       "   'text': 'mehed'},\n",
       "  {'analysis': [{'clitic': '',\n",
       "     'ending': 'sid',\n",
       "     'form': 'sid',\n",
       "     'lemma': 'häirima',\n",
       "     'partofspeech': 'V',\n",
       "     'root': 'häiri',\n",
       "     'root_tokens': ['häiri']}],\n",
       "   'end': 34,\n",
       "   'start': 26,\n",
       "   'text': 'häirisid'},\n",
       "  {'analysis': [{'clitic': '',\n",
       "     'ending': 'e',\n",
       "     'form': 'pl p',\n",
       "     'lemma': 'kohalik',\n",
       "     'partofspeech': 'A',\n",
       "     'root': 'kohalik',\n",
       "     'root_tokens': ['kohalik']}],\n",
       "   'end': 44,\n",
       "   'start': 35,\n",
       "   'text': 'kohalikke'},\n",
       "  {'analysis': [{'clitic': '',\n",
       "     'ending': '',\n",
       "     'form': '',\n",
       "     'lemma': ',',\n",
       "     'partofspeech': 'Z',\n",
       "     'root': ',',\n",
       "     'root_tokens': [',']}],\n",
       "   'end': 45,\n",
       "   'start': 44,\n",
       "   'text': ','},\n",
       "  {'analysis': [{'clitic': '',\n",
       "     'ending': '0',\n",
       "     'form': '',\n",
       "     'lemma': 'aga',\n",
       "     'partofspeech': 'J',\n",
       "     'root': 'aga',\n",
       "     'root_tokens': ['aga']}],\n",
       "   'end': 49,\n",
       "   'start': 46,\n",
       "   'text': 'aga'},\n",
       "  {'analysis': [{'clitic': '',\n",
       "     'ending': '0',\n",
       "     'form': 'sg n',\n",
       "     'lemma': 'ükskõikne',\n",
       "     'partofspeech': 'A',\n",
       "     'root': 'üks_kõikne',\n",
       "     'root_tokens': ['üks', 'kõikne']}],\n",
       "   'end': 59,\n",
       "   'start': 50,\n",
       "   'text': 'ükskõikne'},\n",
       "  {'analysis': [{'clitic': '',\n",
       "     'ending': '0',\n",
       "     'form': 'sg g',\n",
       "     'lemma': 'politsei',\n",
       "     'partofspeech': 'S',\n",
       "     'root': 'politsei',\n",
       "     'root_tokens': ['politsei']},\n",
       "    {'clitic': '',\n",
       "     'ending': '0',\n",
       "     'form': 'sg n',\n",
       "     'lemma': 'politsei',\n",
       "     'partofspeech': 'S',\n",
       "     'root': 'politsei',\n",
       "     'root_tokens': ['politsei']}],\n",
       "   'end': 68,\n",
       "   'start': 60,\n",
       "   'text': 'politsei'},\n",
       "  {'analysis': [{'clitic': '',\n",
       "     'ending': '0',\n",
       "     'form': '',\n",
       "     'lemma': 'ei',\n",
       "     'partofspeech': 'D',\n",
       "     'root': 'ei',\n",
       "     'root_tokens': ['ei']},\n",
       "    {'clitic': '',\n",
       "     'ending': '0',\n",
       "     'form': 'neg',\n",
       "     'lemma': 'ei',\n",
       "     'partofspeech': 'V',\n",
       "     'root': 'ei',\n",
       "     'root_tokens': ['ei']}],\n",
       "   'end': 71,\n",
       "   'start': 69,\n",
       "   'text': 'ei'},\n",
       "  {'analysis': [{'clitic': '',\n",
       "     'ending': 'nud',\n",
       "     'form': 'nud',\n",
       "     'lemma': 'tegema',\n",
       "     'partofspeech': 'V',\n",
       "     'root': 'tege',\n",
       "     'root_tokens': ['tege']},\n",
       "    {'clitic': '',\n",
       "     'ending': '0',\n",
       "     'form': '',\n",
       "     'lemma': 'teinud',\n",
       "     'partofspeech': 'A',\n",
       "     'root': 'tei=nud',\n",
       "     'root_tokens': ['teinud']},\n",
       "    {'clitic': '',\n",
       "     'ending': '0',\n",
       "     'form': 'sg n',\n",
       "     'lemma': 'teinud',\n",
       "     'partofspeech': 'A',\n",
       "     'root': 'tei=nud',\n",
       "     'root_tokens': ['teinud']},\n",
       "    {'clitic': '',\n",
       "     'ending': 'd',\n",
       "     'form': 'pl n',\n",
       "     'lemma': 'teinud',\n",
       "     'partofspeech': 'A',\n",
       "     'root': 'tei=nud',\n",
       "     'root_tokens': ['teinud']},\n",
       "    {'clitic': '',\n",
       "     'ending': 'd',\n",
       "     'form': 'pl n',\n",
       "     'lemma': 'teinu',\n",
       "     'partofspeech': 'S',\n",
       "     'root': 'teinu',\n",
       "     'root_tokens': ['teinu']}],\n",
       "   'end': 78,\n",
       "   'start': 72,\n",
       "   'text': 'teinud'},\n",
       "  {'analysis': [{'clitic': '',\n",
       "     'ending': 'dagi',\n",
       "     'form': 'sg p',\n",
       "     'lemma': 'miski',\n",
       "     'partofspeech': 'P',\n",
       "     'root': 'miski',\n",
       "     'root_tokens': ['miski']}],\n",
       "   'end': 85,\n",
       "   'start': 79,\n",
       "   'text': 'midagi'},\n",
       "  {'analysis': [{'clitic': '',\n",
       "     'ending': '',\n",
       "     'form': '',\n",
       "     'lemma': '.',\n",
       "     'partofspeech': 'Z',\n",
       "     'root': '.',\n",
       "     'root_tokens': ['.']}],\n",
       "   'end': 86,\n",
       "   'start': 85,\n",
       "   'text': '.'}]}"
      ]
     },
     "execution_count": 8,
     "metadata": {},
     "output_type": "execute_result"
    }
   ],
   "source": [
    "text.tag_syntax()"
   ]
  },
  {
   "cell_type": "markdown",
   "metadata": {},
   "source": [
    "Nagu näeme, siis kui tekst on analüüsitud VISLCG3 parseriga, lisatakse süntaktiline analüüs kihti 'vislcg3_syntax':"
   ]
  },
  {
   "cell_type": "code",
   "execution_count": 9,
   "metadata": {
    "collapsed": false
   },
   "outputs": [
    {
     "data": {
      "text/plain": [
       "[{'end': 3, 'parser_out': [['@P>', 1]], 'sent_id': 0, 'start': 0},\n",
       " {'end': 7, 'parser_out': [['@ADVL', 5]], 'sent_id': 0, 'start': 4},\n",
       " {'end': 12, 'parser_out': [['@OBJ', 3]], 'sent_id': 0, 'start': 8},\n",
       " {'end': 19, 'parser_out': [['@AN>', 4]], 'sent_id': 0, 'start': 13},\n",
       " {'end': 25, 'parser_out': [['@SUBJ', 5]], 'sent_id': 0, 'start': 20},\n",
       " {'end': 34, 'parser_out': [['@FMV', -1]], 'sent_id': 0, 'start': 26},\n",
       " {'end': 44, 'parser_out': [['@ADVL', 5]], 'sent_id': 0, 'start': 35},\n",
       " {'end': 45, 'parser_out': [['xxx', 6]], 'sent_id': 0, 'start': 44},\n",
       " {'end': 49, 'parser_out': [['@J', 10]], 'sent_id': 0, 'start': 46},\n",
       " {'end': 59, 'parser_out': [['@AN>', 10]], 'sent_id': 0, 'start': 50},\n",
       " {'end': 68, 'parser_out': [['@SUBJ', 12]], 'sent_id': 0, 'start': 60},\n",
       " {'end': 71, 'parser_out': [['@NEG', 12]], 'sent_id': 0, 'start': 69},\n",
       " {'end': 78, 'parser_out': [['@FMV', 5]], 'sent_id': 0, 'start': 72},\n",
       " {'end': 85, 'parser_out': [['@OBJ', 12]], 'sent_id': 0, 'start': 79},\n",
       " {'end': 86, 'parser_out': [['xxx', 13]], 'sent_id': 0, 'start': 85}]"
      ]
     },
     "execution_count": 9,
     "metadata": {},
     "output_type": "execute_result"
    }
   ],
   "source": [
    "text['vislcg3_syntax']"
   ]
  },
  {
   "cell_type": "markdown",
   "metadata": {},
   "source": [
    "### Puustruktuur"
   ]
  },
  {
   "cell_type": "markdown",
   "metadata": {},
   "source": [
    "Süntaksis ei huvitu me enamasti vaid ühest sõnast korraga, vaid ka sõnadevahelistest seostest. Seetõttu ei piisa enam võimalusest sõna kaupa üle teksti itereerida, vaid soovime teha päringuid vastavalt leitud süntaksipuu struktuurile. Siinkohal tulebki appi meetod syntax_trees(), mis loob tekstist puuobjektid, millele omakorda on võimalik vastavaid päringuid teha. Vaatame näidet kahelauselise teksti puhul:"
   ]
  },
  {
   "cell_type": "code",
   "execution_count": 10,
   "metadata": {
    "collapsed": true
   },
   "outputs": [],
   "source": [
    "text = Text(\"Pisike poiss kimbutas kirpe. Need kirbud ei julgenud kiusata karusid.\")"
   ]
  },
  {
   "cell_type": "code",
   "execution_count": 11,
   "metadata": {
    "collapsed": true
   },
   "outputs": [],
   "source": [
    "# Loome tekstist puuobjektid ehk leiame kõik tekstis esinevad juurtipud\n",
    "# Kui me parserit ei täpsusta, tehakse analüüs MaltParseriga\n",
    "trees = text.syntax_trees()"
   ]
  },
  {
   "cell_type": "code",
   "execution_count": 12,
   "metadata": {
    "collapsed": false
   },
   "outputs": [
    {
     "data": {
      "text/plain": [
       "2"
      ]
     },
     "execution_count": 12,
     "metadata": {},
     "output_type": "execute_result"
    }
   ],
   "source": [
    "len(trees)"
   ]
  },
  {
   "cell_type": "code",
   "execution_count": 13,
   "metadata": {
    "collapsed": false
   },
   "outputs": [
    {
     "data": {
      "text/plain": [
       "[<estnltk.syntax.utils.Tree at 0x7f71c2ed4d30>,\n",
       " <estnltk.syntax.utils.Tree at 0x7f71c2ed4f98>]"
      ]
     },
     "execution_count": 13,
     "metadata": {},
     "output_type": "execute_result"
    }
   ],
   "source": [
    "trees"
   ]
  },
  {
   "cell_type": "code",
   "execution_count": 14,
   "metadata": {
    "collapsed": false
   },
   "outputs": [
    {
     "data": {
      "text/plain": [
       "'kimbutas'"
      ]
     },
     "execution_count": 14,
     "metadata": {},
     "output_type": "execute_result"
    }
   ],
   "source": [
    "trees[0].text"
   ]
  },
  {
   "cell_type": "markdown",
   "metadata": {},
   "source": [
    "Kui puud on loodud, võime nende peal teha erinevaid päringuid. Abiks on kindlasti meetodid get_children() tipu (sõna) alluvate leidmiseks ning get_parent() ülema leidmiseks:"
   ]
  },
  {
   "cell_type": "code",
   "execution_count": 15,
   "metadata": {
    "collapsed": false
   },
   "outputs": [
    {
     "name": "stdout",
     "output_type": "stream",
     "text": [
      "[('Pisike', ['@AN>']), ('poiss', ['@SUBJ'])]\n",
      "[('Need', ['@NN>']), ('kirbud', ['@SUBJ'])]\n"
     ]
    }
   ],
   "source": [
    "# Leiame subjektid ja nendele alluvad sõnad\n",
    "for tree in trees:\n",
    "    subject_nodes = tree.get_children( label=\"@SUBJ\" )\n",
    "    for subj_node in subject_nodes:\n",
    "        subject_and_children = subj_node.get_children( include_self=True, sorted=True )\n",
    "        # Prindime nii sõna kui funktsioonimärgendi\n",
    "        print( [(node.text, node.labels) for node in subject_and_children] )"
   ]
  },
  {
   "cell_type": "markdown",
   "metadata": {},
   "source": [
    "Lisaks eelmises näites kasutatud funktsioonimärgendile saame seada päringule ka muid kitsendusi, selleks vajame WordTemplate moodulit:"
   ]
  },
  {
   "cell_type": "code",
   "execution_count": 16,
   "metadata": {
    "collapsed": true
   },
   "outputs": [],
   "source": [
    "from estnltk.mw_verbs.utils import WordTemplate\n",
    "from estnltk.names import POSTAG, FORM, LEMMA"
   ]
  },
  {
   "cell_type": "markdown",
   "metadata": {},
   "source": [
    "Loome sõnamalli, mis otsiks nimetavas käändes nimisõnu - nii ainsuses kui mitmuses. Sõnamallides saab kasutada regulaaravaldisi:"
   ]
  },
  {
   "cell_type": "code",
   "execution_count": 17,
   "metadata": {
    "collapsed": true
   },
   "outputs": [],
   "source": [
    "noun_in_nominative = WordTemplate({POSTAG: 'S', FORM: '^(sg n|pl n)$'})"
   ]
  },
  {
   "cell_type": "markdown",
   "metadata": {},
   "source": [
    "Leiame esimesest puust mallile vastavad sõnad:"
   ]
  },
  {
   "cell_type": "code",
   "execution_count": 18,
   "metadata": {
    "collapsed": false
   },
   "outputs": [],
   "source": [
    "nominative_subj = trees[0].get_children(word_template=noun_in_nominative, label = '@SUBJ' )"
   ]
  },
  {
   "cell_type": "code",
   "execution_count": 19,
   "metadata": {
    "collapsed": false
   },
   "outputs": [
    {
     "data": {
      "text/plain": [
       "['poiss']"
      ]
     },
     "execution_count": 19,
     "metadata": {},
     "output_type": "execute_result"
    }
   ],
   "source": [
    "[node.text for node in nominative_subj]"
   ]
  },
  {
   "cell_type": "markdown",
   "metadata": {},
   "source": [
    "Loome sõnamalli, mis otsib lemmat \"kirp\":"
   ]
  },
  {
   "cell_type": "code",
   "execution_count": 20,
   "metadata": {
    "collapsed": false
   },
   "outputs": [],
   "source": [
    "kirp = WordTemplate({LEMMA: 'kirp'})"
   ]
  },
  {
   "cell_type": "markdown",
   "metadata": {},
   "source": [
    "Leiame sõnad, mis on sõna \"kirp\" ülemusteks (parent):"
   ]
  },
  {
   "cell_type": "code",
   "execution_count": 21,
   "metadata": {
    "collapsed": false
   },
   "outputs": [
    {
     "name": "stdout",
     "output_type": "stream",
     "text": [
      "kimbutas\n",
      "julgenud\n"
     ]
    }
   ],
   "source": [
    "for tree in trees:\n",
    "    kirbud = tree.get_children(word_template = kirp)\n",
    "    for element in kirbud:\n",
    "        print(element.parent.text)"
   ]
  },
  {
   "cell_type": "markdown",
   "metadata": {},
   "source": [
    "Kui tahaksime aga kätte saada sõnavormide asemel lemmasid, peaksime süvenema token klassimuutujasse:"
   ]
  },
  {
   "cell_type": "code",
   "execution_count": 22,
   "metadata": {
    "collapsed": false
   },
   "outputs": [
    {
     "name": "stdout",
     "output_type": "stream",
     "text": [
      "{'start': 13, 'analysis': [{'form': 's', 'partofspeech': 'V', 'clitic': '', 'root': 'kimbuta', 'ending': 's', 'lemma': 'kimbutama', 'root_tokens': ['kimbuta']}], 'end': 21, 'text': 'kimbutas'}\n",
      "LEMMA: kimbutama\n",
      "{'start': 44, 'analysis': [{'form': 'nud', 'partofspeech': 'V', 'clitic': '', 'root': 'julge', 'ending': 'nud', 'lemma': 'julgema', 'root_tokens': ['julge']}, {'form': '', 'partofspeech': 'A', 'clitic': '', 'root': 'julge=nud', 'ending': '0', 'lemma': 'julgenud', 'root_tokens': ['julgenud']}, {'form': 'sg n', 'partofspeech': 'A', 'clitic': '', 'root': 'julge=nud', 'ending': '0', 'lemma': 'julgenud', 'root_tokens': ['julgenud']}, {'form': 'pl n', 'partofspeech': 'A', 'clitic': '', 'root': 'julge=nud', 'ending': 'd', 'lemma': 'julgenud', 'root_tokens': ['julgenud']}], 'end': 52, 'text': 'julgenud'}\n",
      "LEMMA: julgema\n",
      "LEMMA: julgenud\n",
      "LEMMA: julgenud\n",
      "LEMMA: julgenud\n"
     ]
    }
   ],
   "source": [
    "for tree in trees:\n",
    "    kirbud = tree.get_children(word_template = kirp)\n",
    "    for element in kirbud:\n",
    "        print(element.parent.token)\n",
    "        for i in element.parent.token['analysis']:\n",
    "            print('LEMMA: ' + i['lemma'])"
   ]
  },
  {
   "cell_type": "markdown",
   "metadata": {},
   "source": [
    "**NB!** Eelnevates näites rakendati analüsaatoreid üksikutel lausetel. Kuigi see praktikas töötab, siis kiiruse poolest on oluline vahe, kas analüüsida tekste ühe lause kaupa või lasta kogu tekst korraga läbi süntaksianalüsaatori -- viimane variant peaks enamikul juhtudest olema oluliselt kiirem. Selle põhjus on tehniline: süntaksianalüsaator salvestab analüüsitava teksti faili, rakendab sellel Pythoni-välist programmi ning loeb uued analüüsi tulemused failist. Selline failidega opereerimine -- failide avamine/lugemine/sulgemine -- on aga üksjagu aeganõudev protsess. Seega on parema kiiruse huvides soovitav \"failidega majandamist\" minimeerida ehk siis lasta suur tekst läbi korraga, mitte lausete kaupa."
   ]
  },
  {
   "cell_type": "markdown",
   "metadata": {},
   "source": [
    "### Ülesanne 1. Süntaksianalüsaatorite väljundite lahtimõtestamine (1p + 0,5 boonuspunkti)\n",
    "\n",
    "Parsige lause \"*Sir Kenneth Robinson on rahvusvaheline nõustaja loovushariduse teemal valitsustele, MTÜ-dele ja kunstikoolidele.*\" nii MaltParseri kui VislCG3 parseriga (selleks installige esmalt vislcg3 - juhend ülalpool). Võrrelge väljundeid.\n",
    "* Mille poolest erineb parserite poolt väljastatud pindsüntaktiline märgendus? Seletage erinevused inimkeeli lahti (st kasutades keeleteaduslikke termineid, mitte programmi väljastatavaid märgendeid). (0,5p)\n",
    "* Milline näeb välja kummagi parseri poolt väljastatud sõltuvuspuu selle lause jaoks? Visualiseerige mõlema parseri poolt väljastatud puud, kasutades omale meelepäraseid töövahendeid (võimalikud variandid: paber ja pliiats\\*, Paint, Word, Latex\\*\\*, ...). Kui analüüs on jäänud mitmeseks, kasutage variantidest esimest. (0,5p)"
   ]
  },
  {
   "cell_type": "markdown",
   "metadata": {},
   "source": [
    "\\*Paberi ja pliiatsi kasutamisel palun esitage puu kas selles või järgmises praktikumis või pildistatuna/skannituna.\n",
    "\n",
    "\\*\\*Puu esitamine Latexis tehtuna annab **0,5 boonuspunkti**."
   ]
  },
  {
   "cell_type": "markdown",
   "metadata": {},
   "source": [
    "### Ülesanne 2. Naine, mees ja teised Hargla lühijuttudes (3p)\n",
    "Teostage süntaktiline analüüs Indrek Hargla lühijuttudel, mille leiate kataloogist *hargla*. Kas kasutada MaltParserit või VislCG3, võite ise otsustada.\n",
    "\n",
    "A. Leidke, kummale jääb juttudes sagedamini subjekti, kummale objekti roll - kas mehele või naisele? Milliseid tegevusi tegemas kujutatakse meest, milliseid naist?\n",
    "Selleks:\n",
    "* leidke, mitmes lauses esineb naine subjektina, mitmes mees? Mitmes objektina? Milline on subjektina vs objektina käsitlemise suhe naiste puhul, milline meestel?\n",
    "* millised on 5 sagedasemat tegevust, mida teeb subjektina \"naine\", millised \"mees\" puhul? Tegevuse puhul leidke kõigepealt vastava subjekti otsene ülemus, kui see aga pole tegusõna (nt koordinatsiooni puhul), siis leidke lause kõrgeim ülemus.\n",
    "\n",
    "\n",
    "B. Kuidas aga jagunevad tegevused elusate ja elutute subjektide vahel? Kasutage elususe-elutuse määramiseks:\n",
    "* eelmises praktikumis Wordnetist leitud olendite listi - need on elus\n",
    "* EstNLTK pärisnimede tuvastajat (arvestades, et isikud on elus, organisatsioonid ja lokatsioonid mitte) ning \n",
    "* eeldust, et isikulised asesõnad tähistavad samuti elusolendeid\n",
    "* eeldust, et kõik, mis pole elus, on elutu\n",
    "\n",
    "Ehk:\n",
    "* leidke lausest subjekt\n",
    "* otsustage, kas subjekt on elus või mitte\n",
    "* leidke tegevus, mida subjekt teeb, samal põhimõttel, nagu ülesande A-osas\n",
    "Millised on sagedasemad elus ja millised elutute subjektide tegevused? Kas leidub tegevusi, mida teevad ainult elus või ainult elutud subjektid?"
   ]
  },
  {
   "cell_type": "markdown",
   "metadata": {},
   "source": [
    "## HTML"
   ]
  },
  {
   "cell_type": "markdown",
   "metadata": {},
   "source": [
    "Tõenäoliselt oleks huvitav näiteks eelmise ülesandega sarnaseid analüüse teha ka muudel tekstidel. Kust aga tekste saada, kui soovime vaadata kaugemale juba olemasolevatest standardsesse formaati viidud korpustest? Kõige lihtsam on neid hankida muidugi veebist. Kuidas seda teha, käsitletakse järgmises praktikumis, praegu aga teeme väikse harjutuse selle kohta, kuidas juba omale salvestatud HTML-failist meid huvitav info kätte saada."
   ]
  },
  {
   "cell_type": "markdown",
   "metadata": {},
   "source": [
    "Kõige lihtsam on selleks kasutada vahendit `beautifulsoup`, millega tutvusite juba üleeelmises praktikumis. Sarnaselt XML-ile võimaldab `beautifulsoup` parsida\\* ka HTML-i, aga lxml-i asemel aitab meid html.parser."
   ]
  },
  {
   "cell_type": "markdown",
   "metadata": {},
   "source": [
    "\\*Parsimise all mõistetakse süntaktilise analüüsi teostamist nii loomuliku keele kui ka programmeerimis- või märgenduskeele puhul. MaltParser ja VISLCG tegelevad arusaadavalt loomuliku keele parsimisega, beautifulsoup aga märgenduskeeltega. Seega, HTML-ist rääkides mõistame parsimise all seda, kuidas märgendite vahelt oma tekst välja korjata."
   ]
  },
  {
   "cell_type": "code",
   "execution_count": 23,
   "metadata": {
    "collapsed": true
   },
   "outputs": [],
   "source": [
    "from bs4 import BeautifulSoup"
   ]
  },
  {
   "cell_type": "code",
   "execution_count": 24,
   "metadata": {
    "collapsed": true
   },
   "outputs": [],
   "source": [
    "html = '''<!DOCTYPE html>\n",
    "<html>\n",
    "<body>\n",
    "\n",
    "<h1>Pole probleemi</h1>\n",
    "\n",
    "<p>Oli õhtune tipptund, tuli sõita läbi linna.</p>\n",
    "<p>Tuled fooris vahetusid, kuid üle veel ei saanud.</p>\n",
    "\n",
    "</body>\n",
    "</html>'''"
   ]
  },
  {
   "cell_type": "code",
   "execution_count": 25,
   "metadata": {
    "collapsed": true
   },
   "outputs": [],
   "source": [
    "soup = BeautifulSoup(html, 'html.parser')"
   ]
  },
  {
   "cell_type": "code",
   "execution_count": 26,
   "metadata": {
    "collapsed": false
   },
   "outputs": [
    {
     "name": "stdout",
     "output_type": "stream",
     "text": [
      "Oli õhtune tipptund, tuli sõita läbi linna.\n",
      "Tuled fooris vahetusid, kuid üle veel ei saanud.\n"
     ]
    }
   ],
   "source": [
    "for i in soup.find_all('p'):\n",
    "    print(i.get_text())"
   ]
  },
  {
   "cell_type": "markdown",
   "metadata": {},
   "source": [
    "### Ülesanne 3. HTML sisendi lugemine ja parserite võrdlus (2p)\n",
    "\n",
    "Lugege ja parsige (kahes tähenduses ja kolme parseriga) fail *kenneth_robinson.html*. Leidke, kui palju erinevad omavahel MaltParseri ja VislCG3 väljund. Seejuures ärge lugege erinevuste hulka juhte, kus MaltParser on väljastanud pindsüntaktiliseks funktsiooniks ROOT. Vastake küsimustele:\n",
    "* Kui suur osa sõnadest saab nii sama pindsüntaksi märgendi kui sõltuvusmärgendi mõlemalt parserilt? Lugege siia hulka ka juhud, kus VISLCG3 väljund on jäänud mitmeseks, aga siiski sisaldab MaltParseri väljundit ka.\n",
    "* Kui suur osa sõnadest saab erineva pindsüntaksi märgendi?\n",
    "* Kui suur osa sõnadest saab erineva sõltuvussüntaksi märgendi?"
   ]
  }
 ],
 "metadata": {
  "anaconda-cloud": {},
  "kernelspec": {
   "display_name": "Python [conda env:estnltk141]",
   "language": "python",
   "name": "conda-env-estnltk141-py"
  },
  "language_info": {
   "codemirror_mode": {
    "name": "ipython",
    "version": 3
   },
   "file_extension": ".py",
   "mimetype": "text/x-python",
   "name": "python",
   "nbconvert_exporter": "python",
   "pygments_lexer": "ipython3",
   "version": "3.5.3"
  }
 },
 "nbformat": 4,
 "nbformat_minor": 1
}
