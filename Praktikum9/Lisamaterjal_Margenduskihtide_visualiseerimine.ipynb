{
 "cells": [
  {
   "cell_type": "markdown",
   "metadata": {},
   "source": [
    "## Lisamaterjal: _PrettyPrinter_ ja märgenduskihtide visualiseerimine \n",
    "\n",
    "Mõnikord on tarvis saada märgendustest kiire ülevaade. Selleks oleks tore kuvada tekst selliselt, et märgendused on kuidagi spetsiaalselt tähistatud või esile tõstetud. EstNLTK-s on selleks puhuks loodud klass [PrettyPrinter](https://estnltk.github.io/estnltk/1.4.1/tutorials/prettyprinter.html#html-prettyprinter), mis võimaldab märgenduskihte visualiseerida. Otseselt pilte see klass küll ei joonista, aga ta vormistab teksti HTML-i ehk veebilehe lähtekoodina, mida saab edaspidi juba mitmesugustel viisidel kuvada.\n",
    "\n",
    "Näide _PrettyPrinter_-i kasutamise kohta:"
   ]
  },
  {
   "cell_type": "code",
   "execution_count": 1,
   "metadata": {},
   "outputs": [
    {
     "data": {
      "text/plain": [
       "'<!DOCTYPE html>\\n<html>\\n    <head>\\n        <link rel=\"stylesheet\" type=\"text/css\" href=\"prettyprinter.css\">\\n        <meta charset=\"utf-8\">\\n        <title>PrettyPrinter</title>\\n    </head>\\n    <style>\\n\\n\\n\\t\\tmark {\\n\\t\\t\\tbackground:none;\\n\\t\\t}\\n\\t\\tmark.background {\\n\\t\\t\\tbackground-color: cyan;\\n\\t\\t}\\n\\n    </style>\\n    <body>\\n\\n&quot; Kas sa <mark class=\"background\">leiutad</mark> mingi riistapuu , millega <mark class=\"background\">saaks</mark> maja paarsada meetrit eemale <mark class=\"background\">vedada</mark> ? &quot;<br/>               &quot; Selliseid riistu <mark class=\"background\">pole</mark> <mark class=\"background\">vaja</mark> <mark class=\"background\">leiutada</mark> , need <mark class=\"background\">on</mark> juba <mark class=\"background\">olemas</mark> . &quot;\\n\\t</body>\\n</html>'"
      ]
     },
     "execution_count": 1,
     "metadata": {},
     "output_type": "execute_result"
    }
   ],
   "source": [
    "from estnltk import Text\n",
    "from estnltk import PrettyPrinter\n",
    "\n",
    "text = Text('''\" Kas sa leiutad mingi riistapuu , millega saaks maja paarsada meetrit eemale vedada ? \"\n",
    "               \" Selliseid riistu pole vaja leiutada , need on juba olemas . \"''')\n",
    "text.tag_verb_chains()\n",
    "\n",
    "# Loome uue \"kaunistrükkija\", \n",
    "#     mis värvib kihi 'verb_chains' taustavärviga 'cyan' (sinine/tsüaniid)\n",
    "pp = PrettyPrinter( background='verb_chains', background_value='cyan' )\n",
    "\n",
    "# vormistame teksti HTML kujul\n",
    "html_source = pp.render(text, True)\n",
    "html_source"
   ]
  },
  {
   "cell_type": "markdown",
   "metadata": {},
   "source": [
    "Üks viis näha vormistatud teksti on salvestada nüüd `html_source` sisu veebilehekülje faili (ehk `.html` lõpuga tekstifaili) ning avada see fail veebibrauseris. Võid järgi katsetada, kuidas see töötab.\n",
    "\n",
    "Aga _Notebook_ oskab ka ise HTML sisu kuvada. Seda saab teha funktsioonide `HTML` ja `display` abil:"
   ]
  },
  {
   "cell_type": "code",
   "execution_count": 2,
   "metadata": {},
   "outputs": [
    {
     "data": {
      "text/html": [
       "<!DOCTYPE html>\n",
       "<html>\n",
       "    <head>\n",
       "        <link rel=\"stylesheet\" type=\"text/css\" href=\"prettyprinter.css\">\n",
       "        <meta charset=\"utf-8\">\n",
       "        <title>PrettyPrinter</title>\n",
       "    </head>\n",
       "    <style>\n",
       "\n",
       "\n",
       "\t\tmark {\n",
       "\t\t\tbackground:none;\n",
       "\t\t}\n",
       "\t\tmark.background {\n",
       "\t\t\tbackground-color: cyan;\n",
       "\t\t}\n",
       "\n",
       "    </style>\n",
       "    <body>\n",
       "\n",
       "&quot; Kas sa <mark class=\"background\">leiutad</mark> mingi riistapuu , millega <mark class=\"background\">saaks</mark> maja paarsada meetrit eemale <mark class=\"background\">vedada</mark> ? &quot;<br/>               &quot; Selliseid riistu <mark class=\"background\">pole</mark> <mark class=\"background\">vaja</mark> <mark class=\"background\">leiutada</mark> , need <mark class=\"background\">on</mark> juba <mark class=\"background\">olemas</mark> . &quot;\n",
       "\t</body>\n",
       "</html>"
      ],
      "text/plain": [
       "<IPython.core.display.HTML object>"
      ]
     },
     "metadata": {},
     "output_type": "display_data"
    }
   ],
   "source": [
    "from IPython.display import HTML, display\n",
    "# kuvame HTML sisu Notebook'is\n",
    "display(HTML(html_source))"
   ]
  },
  {
   "cell_type": "markdown",
   "metadata": {},
   "source": [
    "Detailsema visualiseerimisvõimaluste kirjelduse leiate [PrettyPrinter-i abimaterjalist](https://estnltk.github.io/estnltk/1.4.1/tutorials/prettyprinter.html#html-prettyprinter). \n",
    "Paraku ei ole _PrettyPrinter_-i implementatsioon versioonis 1.4 perfektne: mõned asjad on abimaterjalis ebatäpsed ning mõned asjad ei tööta ka moodulis endas nii, nagu intuitiivselt võiks oodata. \n",
    "Järgnevalt juhime neile kitsaskohtadele tähelepanu ning tutvustame ka võimalikke lahendusi."
   ]
  },
  {
   "cell_type": "markdown",
   "metadata": {},
   "source": [
    "**Esimene nüanss: nõuded märgenduskihile.** _PrettyPrinter_ töötab ainult selliste märgenduskihtide peal, kus iga üksikmärgendus on sõnastiku kujul ning sõnastiku atribuutides `'start'` ja `'end'` on toodud märgenduse asukoht ning atribuudis `'text'` vastav tekstisisu. Seetõttu ei tööta ka [abimaterjalis](https://estnltk.github.io/estnltk/1.4.1/tutorials/prettyprinter.html#html-prettyprinter) olev sõnaliikide (POS-tagide) värvimise näide (Example #3) -- sõnaliikide kiht pole eraldiseisev kiht, vaid on morf analüüsi kihi sees ja nii sügavale _PrettyPrinter_ ei vaata.  \n",
    "\n",
    "Selleks, et sõnaliikide järgi värvimine korrektselt töötaks, tuleb värvitava sõnaliigi (või sõnaliikide) kohta tekitada _Text_ objekti sisse uus kiht, mille liikmed on nõutud kujul. Lihtne näide:"
   ]
  },
  {
   "cell_type": "code",
   "execution_count": 3,
   "metadata": {},
   "outputs": [
    {
     "data": {
      "text/html": [
       "<!DOCTYPE html>\n",
       "<html>\n",
       "    <head>\n",
       "        <link rel=\"stylesheet\" type=\"text/css\" href=\"prettyprinter.css\">\n",
       "        <meta charset=\"utf-8\">\n",
       "        <title>PrettyPrinter</title>\n",
       "    </head>\n",
       "    <style>\n",
       "\n",
       "\n",
       "\t\tmark {\n",
       "\t\t\tbackground:none;\n",
       "\t\t}\n",
       "\t\tmark.background {\n",
       "\t\t\tbackground-color: cyan;\n",
       "\t\t}\n",
       "\n",
       "    </style>\n",
       "    <body>\n",
       "\n",
       "Kas sa <mark class=\"background\">leiutad</mark> mingi riistapuu?\n",
       "\t</body>\n",
       "</html>"
      ],
      "text/plain": [
       "<IPython.core.display.HTML object>"
      ]
     },
     "metadata": {},
     "output_type": "display_data"
    }
   ],
   "source": [
    "text = Text('''Kas sa leiutad mingi riistapuu?''')\n",
    "text.tag_analysis()\n",
    "\n",
    "# Tekitame eraldiseisva verbide märgenduskihi\n",
    "text['verbs'] = [ {'end': 14, 'start': 7, 'text': 'leiutad'} ]\n",
    "\n",
    "# vormistame teksti HTML kujul, märgendame 'verbs' kihi\n",
    "pp = PrettyPrinter( background='verbs', background_value='cyan' )\n",
    "html_source = pp.render(text, True)\n",
    "\n",
    "# kuvame\n",
    "display(HTML(html_source))"
   ]
  },
  {
   "cell_type": "markdown",
   "metadata": {},
   "source": [
    "**Teine nüanss: erinvate vorminguelementide ja märgenduskihtide kombineerimine.** \n",
    "Ühe vorminguelemendi (stiili) saab siduda ainult ühe konkreetse märgenduskihiga.\n",
    "Isegi taustavärvi puhul on nii, et seda saab kasutada ainult ühe kihi jaoks, aga ei saa omistada erinevatele kihtidele erinevaid värve.\n",
    "Ei saa näiteks teha nii, et osalausete taustavärv on kollane ja nende sees olevate verbiahelate taustavärv on  roheline.\n",
    "Küll aga saab teha nii, et osalausete taustavärv on kollane ja nende sees olevad verbiahelatesse kuuluvad sõnad on märgitud rohelist värvi tähtedega (kuna taustavärv ja tähevärv on erinevad vorminguelemendid).\n",
    "Näide:"
   ]
  },
  {
   "cell_type": "code",
   "execution_count": 4,
   "metadata": {
    "collapsed": true
   },
   "outputs": [],
   "source": [
    "# Loome teksti ja lisame osalausete ja verbiahelate märgendused\n",
    "from estnltk import Text\n",
    "text = Text('Küll homme armastab see, kes ei armastanud eile.')\n",
    "text = text.tag_verb_chains()"
   ]
  },
  {
   "cell_type": "code",
   "execution_count": 5,
   "metadata": {},
   "outputs": [
    {
     "data": {
      "text/html": [
       "<!DOCTYPE html>\n",
       "<html>\n",
       "    <head>\n",
       "        <link rel=\"stylesheet\" type=\"text/css\" href=\"prettyprinter.css\">\n",
       "        <meta charset=\"utf-8\">\n",
       "        <title>PrettyPrinter</title>\n",
       "    </head>\n",
       "    <style>\n",
       "\n",
       "\n",
       "\t\tmark {\n",
       "\t\t\tbackground:none;\n",
       "\t\t}\n",
       "\t\tmark.color {\n",
       "\t\t\tcolor: green;\n",
       "\t\t}\n",
       "\t\tmark.background {\n",
       "\t\t\tbackground-color: #FFFFA0;\n",
       "\t\t}\n",
       "\n",
       "    </style>\n",
       "    <body>\n",
       "\n",
       "<mark class=\"background\">Küll homme </mark><mark class=\"background color\">armastab</mark><mark class=\"background\"> see,</mark> <mark class=\"background\">kes </mark><mark class=\"background color\">ei</mark><mark class=\"background\"> </mark><mark class=\"background color\">armastanud</mark><mark class=\"background\"> eile.</mark>\n",
       "\t</body>\n",
       "</html>"
      ],
      "text/plain": [
       "<IPython.core.display.HTML object>"
      ]
     },
     "metadata": {},
     "output_type": "display_data"
    }
   ],
   "source": [
    "from estnltk import PrettyPrinter\n",
    "from IPython.display import HTML, display\n",
    "\n",
    "# Loome uue \"kaunistrükkija\", \n",
    "#     mis värvib kihi 'clauses' taustavärviga '#FFFFA0' (helekollane)\n",
    "#     ning värvib tähed kihis 'verb_chains' värviga 'green' (roheline)\n",
    "pp = PrettyPrinter( background='clauses', background_value='#FFFFA0', color='verb_chains', color_value='green' )\n",
    "html_source = pp.render(text, True)\n",
    "\n",
    "# kuvame\n",
    "display(HTML(html_source))"
   ]
  },
  {
   "cell_type": "markdown",
   "metadata": {},
   "source": [
    "**-- _Aga kui ma tahan siiski kasutada erinevaid värve erinevate sõnade/fraaside vms jaoks. Kuidas seda teha?_ **\n",
    " \n",
    "Kui eesmärgiks on värvida kindla (tausta-)värviga kõik sõnad tekstis, hoolimata nende asukohast, siis saab teha nagu [abimaterjalis](https://estnltk.github.io/estnltk/1.4.1/tutorials/prettyprinter.html#html-prettyprinter) õpetatakse: defineerida reeglid, kus igale sõnale on seatud vastavusse mingi värv ning rakendada reegleid `'words'` kihi esiletoomisel taustavärviga. Näide:"
   ]
  },
  {
   "cell_type": "code",
   "execution_count": 6,
   "metadata": {},
   "outputs": [
    {
     "data": {
      "text/html": [
       "<!DOCTYPE html>\n",
       "<html>\n",
       "    <head>\n",
       "        <link rel=\"stylesheet\" type=\"text/css\" href=\"prettyprinter.css\">\n",
       "        <meta charset=\"utf-8\">\n",
       "        <title>PrettyPrinter</title>\n",
       "    </head>\n",
       "    <style>\n",
       "\n",
       "\n",
       "\t\tmark {\n",
       "\t\t\tbackground:none;\n",
       "\t\t}\n",
       "\t\tmark.background_0 {\n",
       "\t\t\tbackground-color: #00ccff;\n",
       "\t\t}\n",
       "\t\tmark.background_1 {\n",
       "\t\t\tbackground-color: #ff6666;\n",
       "\t\t}\n",
       "\t\tmark.background_2 {\n",
       "\t\t\tbackground-color: #ff6666;\n",
       "\t\t}\n",
       "\n",
       "    </style>\n",
       "    <body>\n",
       "\n",
       "See <mark class=\"background_0\">on</mark>, nagu <mark class=\"background_0\">on</mark>, ja teisiti <mark class=\"background_1\">ei</mark> <mark class=\"background_2\">ole</mark>\n",
       "\t</body>\n",
       "</html>"
      ],
      "text/plain": [
       "<IPython.core.display.HTML object>"
      ]
     },
     "metadata": {},
     "output_type": "display_data"
    }
   ],
   "source": [
    "text = Text('See on, nagu on, ja teisiti ei ole').tag_analysis()\n",
    "rules =[\n",
    "            ('on', '#00ccff'),\n",
    "            ('ei', '#ff6666'),\n",
    "            ('ole', '#ff6666'),\n",
    "        ]\n",
    "pp = PrettyPrinter(background='words', background_value=rules)\n",
    "html = pp.render(text, True)\n",
    "display(HTML(html))"
   ]
  },
  {
   "cell_type": "markdown",
   "metadata": {},
   "source": [
    "Analoogselt toimib see ka fraaside korral: reeglites tuleb lihtsalt täpselt kirjeldada, millised fraasid millist värvi värvitakse:"
   ]
  },
  {
   "cell_type": "code",
   "execution_count": 11,
   "metadata": {},
   "outputs": [
    {
     "data": {
      "text/html": [
       "<!DOCTYPE html>\n",
       "<html>\n",
       "    <head>\n",
       "        <link rel=\"stylesheet\" type=\"text/css\" href=\"prettyprinter.css\">\n",
       "        <meta charset=\"utf-8\">\n",
       "        <title>PrettyPrinter</title>\n",
       "    </head>\n",
       "    <style>\n",
       "\n",
       "\n",
       "\t\tmark {\n",
       "\t\t\tbackground:none;\n",
       "\t\t}\n",
       "\t\tmark.background_0 {\n",
       "\t\t\tbackground-color: #00ccff;\n",
       "\t\t}\n",
       "\t\tmark.background_1 {\n",
       "\t\t\tbackground-color: #ff6666;\n",
       "\t\t}\n",
       "\n",
       "    </style>\n",
       "    <body>\n",
       "\n",
       "Ooperitäht <mark class=\"background_0\">José Carreras</mark> saabus eralennukiga <mark class=\"background_1\">Tallinna</mark>\n",
       "\t</body>\n",
       "</html>"
      ],
      "text/plain": [
       "<IPython.core.display.HTML object>"
      ]
     },
     "metadata": {},
     "output_type": "display_data"
    }
   ],
   "source": [
    "text = Text('Ooperitäht José Carreras saabus eralennukiga Tallinna').tag_named_entities()\n",
    "rules =[\n",
    "            ('José Carreras', '#00ccff'),\n",
    "            ('Tallinna', '#ff6666'),\n",
    "        ]\n",
    "pp = PrettyPrinter(background='named_entities', background_value=rules)\n",
    "html = pp.render(text, True)\n",
    "display(HTML(html))"
   ]
  },
  {
   "cell_type": "markdown",
   "metadata": {},
   "source": [
    "Selle lähenemise miinused. \n",
    "Esiteks, värvimine on tõstutundlik, seega tuleks iga sõna puhul reeglites täpsustada kõik võimalikud suur-väiketäht varieeruvused (nt _'on'_, _'On'_, _'ON'_, _'oN'_).\n",
    "Teiseks, värvitakse kõik leitud sõnad / fraasid, seega ei sobi lähenemine siis, kui tahame värvida valikuliselt: mõnes kontekstis värvida ja mõnes jätta värvimata."
   ]
  },
  {
   "cell_type": "markdown",
   "metadata": {},
   "source": [
    "**_-- Kuidas värvida sõnu / fraase valikuliselt?_**\n",
    "\n",
    "_PrettyPrinter_-i abil paraku ei saagi. Küll aga saad selle lahenduse ise välja nuputada (midagi analoogset oled juba ka teinud  5. praksis). \n",
    "Sisuliselt on vaja: A) värvitavate tekstiüksuste koordinaate tekstis (mille leiab märgendusele vastava sõnastiku  atribuutidest `'start'` ja `'end'`), B) sisendteksti sõne kujul, C) mõningasi teadmisi sellest, kuidas HTML-is teksti kujundada (vt nt [siit](https://www.w3schools.com/html/html_styles.asp) ja [siit](https://www.w3schools.com/css/css_text.asp) ). \n",
    "Sisendtekst (B) tuleb ümber kirjutada nii, et värvitavad tekstiüksused (A) ümbritsetakse tekstivormingut/värvi kirjeldavate HTML märgenditega (C) ja tulemuseks on HTML lähtekood, mida saab kuvada kas funktsioonide `HTML` ja `display` abil või panna HTML faili ja vaadata veebibrauseris."
   ]
  }
 ],
 "metadata": {
  "kernelspec": {
   "display_name": "Python [default]",
   "language": "python",
   "name": "python3"
  },
  "language_info": {
   "codemirror_mode": {
    "name": "ipython",
    "version": 3
   },
   "file_extension": ".py",
   "mimetype": "text/x-python",
   "name": "python",
   "nbconvert_exporter": "python",
   "pygments_lexer": "ipython3",
   "version": "3.5.4"
  }
 },
 "nbformat": 4,
 "nbformat_minor": 2
}
