{
 "cells": [
  {
   "cell_type": "markdown",
   "metadata": {},
   "source": [
    "<h1 style=\"color:blue\">Praktikum 9</h1>\n",
    "<h3 style=\"color:blue\">Sissejuhatus objekt-orienteeritud programmeerimisse. Märgendajate tegemine. <br> Teksti osalausestamine</h3>\n",
    "\n",
    "Käesolevas praktikumis teeme lähemalt tutvust Pythoni objekt-orienteeritud poolega ja vaatame, kuidas teha ise uusi teksti märgendajaid. Lingvistilise analüüsi poole pealt uurime osalausete tuvastajat ja selle kasutusvõimalusi."
   ]
  },
  {
   "cell_type": "markdown",
   "metadata": {},
   "source": [
    "## Sissejuhatus objekt-orienteeritud programmeerimisse\n",
    "\n",
    "Objekt-orienteeritud programmeerimine on programmeerimise viis, mille puhul koosneb programm suures osas objektide kirjeldustest  (<i>objekt</i> == kogum andmeid + nendega seotud funktsioonid) ning modelleerib objektidevahelist suhtlust.\n",
    "Kuna Python ei ole puhas objekt-orienteeritud keel, siis saab siin asju teha ka ilma objekt-orienteeritud lähenemist kasutamata. Aga objekt-orienteeritud programmeerimisvõtted tõstavad sageli koodi kvaliteeti: saab luua selgemini struktureeritud ja paremini taaskasutatavat ning hallatavat koodi. "
   ]
  },
  {
   "cell_type": "markdown",
   "metadata": {},
   "source": [
    "### Klassid ja objektid. Isendimuutujad ja klassimuutujad\n",
    "\n",
    "Klass on sisuliselt objekti eskiis: seal on kirjeldatud, millised muutujad ehk _atribuudid_ on objekti alt kättesaadavad ning millised funktsioonid ehk _meetodid_ nende muutujate peal opereerivad.\n",
    "Näiteks, loome klassi `Raamat`, mis sisaldab andmeid raamatute kohta:"
   ]
  },
  {
   "cell_type": "code",
   "execution_count": 1,
   "metadata": {
    "scrolled": true
   },
   "outputs": [],
   "source": [
    "class Raamat:\n",
    "    'Baasklass raamatute info salvestamiseks.'\n",
    "    \n",
    "    # konstruktor\n",
    "    def __init__(self, pealkiri, autor):\n",
    "        # isendimuutuja(d)\n",
    "        self.pealkiri = pealkiri\n",
    "        self.autor    = autor"
   ]
  },
  {
   "cell_type": "markdown",
   "metadata": {},
   "source": [
    "Loodud klassis on defineeritud täpselt üks meetod: `__init__`. Tegemist on erilise meetodiga, mis kutsutakse alati välja siis, kui klassi alusel luuakse uus objekt -- kuna see meetod on seotud \"objekti konstrueerimisega\", kutsutakse seda ka \"konstruktoriks\". Sisuliselt fikseerib konstruktor objekti algseisu / algväärtustab andmed.\n",
    "\n",
    "Meie konstruktor saab sisendiks kaks parameetrit: raamatu `pealkiri` ja `autor`. Kasutades `self` muutujat (mis viitab alati objektile endale), riputame konstruktoris objekti külge atribuudid `pealkiri` ja `autor`. \n",
    "Sellega fikseerime, et igal raamatul peavad olema pealkiri ja autor ning need tuleb objekti loomisel määrata.\n",
    "\n",
    "Konstruktor on olemas igal klassil. Kui me jätame selle defineerimata, luuakse see automaatselt ning sellisel juhul ei saa me määrata atribuutide algväärtustamist (kuigi miski ei tekista meil lisamast atribuute ka hiljem, kui objekt on juba loodud). \n",
    "\n",
    "Loodud klassi põhjal saame nüüd objekte teha nii:"
   ]
  },
  {
   "cell_type": "code",
   "execution_count": 2,
   "metadata": {
    "scrolled": true
   },
   "outputs": [],
   "source": [
    "r1 = Raamat('Naksitrallid', 'Eno Raud')\n",
    "r2 = Raamat('Eestlase käsiraamat', 'Mihkel Raud')"
   ]
  },
  {
   "cell_type": "markdown",
   "metadata": {},
   "source": [
    "Klassi põhjal loodud objekti nimetatakse ka _isendiks_ ( ingl _instance_ ). Näiteks, `r1` ja `r2` on mõlemad isendid klassist `Raamat`. \n",
    "Atribuute `pealkiri` ja `autor` nimetatakse _isendimuutujateks_ ( ingl _instance variable_ ), kuna need on seotud konkreetse isendiga (ja erinevatel isenditel on erinevad väärtused). \n",
    "Uurime isendimuutujate väärtuseid:"
   ]
  },
  {
   "cell_type": "code",
   "execution_count": 3,
   "metadata": {
    "scrolled": true
   },
   "outputs": [
    {
     "data": {
      "text/plain": [
       "'Naksitrallid'"
      ]
     },
     "execution_count": 3,
     "metadata": {},
     "output_type": "execute_result"
    }
   ],
   "source": [
    "r1.pealkiri"
   ]
  },
  {
   "cell_type": "code",
   "execution_count": 4,
   "metadata": {
    "scrolled": true
   },
   "outputs": [
    {
     "data": {
      "text/plain": [
       "'Eno Raud'"
      ]
     },
     "execution_count": 4,
     "metadata": {},
     "output_type": "execute_result"
    }
   ],
   "source": [
    "r1.autor"
   ]
  },
  {
   "cell_type": "code",
   "execution_count": 5,
   "metadata": {
    "scrolled": true
   },
   "outputs": [
    {
     "data": {
      "text/plain": [
       "('Eestlase käsiraamat', 'Mihkel Raud')"
      ]
     },
     "execution_count": 5,
     "metadata": {},
     "output_type": "execute_result"
    }
   ],
   "source": [
    "r2.pealkiri, r2.autor"
   ]
  },
  {
   "cell_type": "markdown",
   "metadata": {},
   "source": [
    "Kui objekt on loodud, võib talle ka uusi isendimuutujaid lisada. Nt võime lisada esimesele raamatule ilmumisaasta:"
   ]
  },
  {
   "cell_type": "code",
   "execution_count": 6,
   "metadata": {
    "scrolled": true
   },
   "outputs": [],
   "source": [
    "r1.ilmumisaasta = 1972"
   ]
  },
  {
   "cell_type": "markdown",
   "metadata": {},
   "source": [
    "Oluline on märkida, et hiljem lisatud atribuut on seotud ainult konkreetse isendiga -- see ei kandu edasi teistele sama klassi isenditele. \n",
    "Seega, objektile `r1` tekkis ilmumisaasta, aga objektil `r2` seda endiselt pole.\n",
    "Kui tahame, et raamatu ilmumisaasta tekiks iga `Raamat` objekti alla, peame selle ikkagi algväärtustama konstruktoris."
   ]
  },
  {
   "cell_type": "markdown",
   "metadata": {},
   "source": [
    "Kogu objekti alla salvestatud info saame sõnastikuna kätte ka atribuudi `__dict__` abil:"
   ]
  },
  {
   "cell_type": "code",
   "execution_count": 7,
   "metadata": {
    "scrolled": true
   },
   "outputs": [
    {
     "data": {
      "text/plain": [
       "{'pealkiri': 'Naksitrallid', 'autor': 'Eno Raud', 'ilmumisaasta': 1972}"
      ]
     },
     "execution_count": 7,
     "metadata": {},
     "output_type": "execute_result"
    }
   ],
   "source": [
    "r1.__dict__"
   ]
  },
  {
   "cell_type": "markdown",
   "metadata": {},
   "source": [
    "<div class=\"alert alert-block alert-warning\">\n",
    "<h4><i>Klassimuutujad</i></h4>\n",
    "<br>\n",
    "Lisaks isendimuutujatele (meie näites: <code>self.pealkiri</code>, <code>self.autor</code> ja <code>self.ilmumisaasta</code>) võib klass sisaldada klassimuutujaid, mille väärtused on ühised üle kõigi antud klassi kuuluvate objektide.\n",
    "Klassimuutuja väärtust saab omistada ja muuta klassi nime abil, näiteks:\n",
    "<pre>\n",
    ">> # Omistame klassimuutujale väärtuse\n",
    ">> Raamat.loendur = 2\n",
    ">> # Kasutame väärtust\n",
    ">> r1.loendur\n",
    "2\n",
    ">> r2.loendur\n",
    "2\n",
    "</pre>\n",
    "Kui klassi algusesse on lisatud dokumentatsioonisõne ( ingl <i>docstring</i> ), siis saab selle kätte spetsiaalse klassimuutuja <code>__doc__</code> kaudu:\n",
    "<pre>\n",
    ">> Raamat.__doc__\n",
    "'Baasklass raamatute info salvestamiseks.'\n",
    "</pre>\n",
    "</div>"
   ]
  },
  {
   "cell_type": "markdown",
   "metadata": {},
   "source": [
    "### Meetodid\n",
    "\n",
    "Kasutasime klassi `Raamat`, et salvestada raamatute kohta käivat informatsiooni.\n",
    "Nüüd aga loome uue klassi `RaamatuRiiul`, mis aitab meil raamatuid koguda ja organiseerida:"
   ]
  },
  {
   "cell_type": "code",
   "execution_count": 8,
   "metadata": {
    "scrolled": true
   },
   "outputs": [],
   "source": [
    "class RaamatuRiiul:\n",
    "    # konstruktor: tekitab \"tühja riiuli\"\n",
    "    def __init__(self):\n",
    "        # isendimuutuja(d)\n",
    "        self.raamatud = []\n",
    "\n",
    "    # Lisab uue raamatu riiulisse\n",
    "    def lisa(self, raamat):\n",
    "        self.raamatud.append( raamat )\n",
    "    \n",
    "    # Filtreerib autori nime(osa) järgi\n",
    "    def leia_autori_järgi(self, autor):\n",
    "        return [raamat for raamat in self.raamatud if autor in raamat.autor]\n",
    "    \n",
    "    # Filtreerib pealkirja (või selle alamosa) järgi\n",
    "    def leia_pealkirja_järgi(self, pealkiri):\n",
    "        return [raamat for raamat in self.raamatud if pealkiri in raamat.pealkiri]"
   ]
  },
  {
   "cell_type": "markdown",
   "metadata": {},
   "source": [
    "Klassi konstruktor seekord parameetreid ei nõua ning tekitab tühja raamatute listi. \n",
    "Uue raamatu lisamiseks riiulisse on meetod `lisa()` -- see on lühem kui kirjutada `riiul.raamatud.append( ... )` ning vajadusel saame sinna hiljem lisada ka kontrolli, et lisatav objekt oleks kindlasti `Raamat`.\n",
    "Meetodid `leia_autori_järgi( autor )` ja `leia_pealkirja_järgi( pealkiri )` võimaldavad meil raamaturiiulit inventeerida: saab raamatuid otsida autori nime ning pealkirja (või selle alamosa) järgi."
   ]
  },
  {
   "cell_type": "code",
   "execution_count": 9,
   "metadata": {
    "scrolled": true
   },
   "outputs": [],
   "source": [
    "riiul = RaamatuRiiul()\n",
    "riiul.lisa(r1)\n",
    "riiul.lisa(Raamat('Rehepapp', 'Andrus Kivirähk'))\n",
    "riiul.lisa(r2)\n",
    "riiul.lisa(Raamat('Tont ja Facebook', 'Andrus Kivirähk'))\n",
    "riiul.lisa(Raamat('French ja Koulu', 'Indrek Hargla'))"
   ]
  },
  {
   "cell_type": "code",
   "execution_count": 10,
   "metadata": {
    "scrolled": true
   },
   "outputs": [
    {
     "name": "stdout",
     "output_type": "stream",
     "text": [
      "{'pealkiri': 'Naksitrallid', 'autor': 'Eno Raud', 'ilmumisaasta': 1972}\n",
      "{'pealkiri': 'Eestlase käsiraamat', 'autor': 'Mihkel Raud'}\n"
     ]
    }
   ],
   "source": [
    "for raamat in riiul.leia_autori_järgi('Raud'):\n",
    "    print( raamat.__dict__ )"
   ]
  },
  {
   "cell_type": "markdown",
   "metadata": {},
   "source": [
    "<div class=\"alert alert-block alert-warning\">\n",
    "<h4><i>Klasside pärilus ja meetodite üledefineerimine</i></h4>\n",
    "<br>\n",
    "Objekt-orienteeritud lähenemisel on veel üks aspekt: klasside abil on võimalik luua hierarhilisi struktuure, milles alamklassid pärivad ülemklassidelt meetodid ja atribuudid ning laiendavad ülemklasside funktsionaalsust.\n",
    "Näiteks, klassile <code>Raamat</code> võime luua alamklassi <code>LasteRaamat</code>, mis täiendab selle atribuute ühe lisa-atribuudiga -- teeme nii, et lasteraamatul on lisaks pealkirjale ja autorile ka illustraator:\n",
    "<pre>\n",
    "class LasteRaamat(Raamat):\n",
    "    # konstruktor\n",
    "    def __init__(self, pealkiri, autor, illustraator):\n",
    "        super().__init__(pealkiri, autor)\n",
    "        # isendimuutuja(d)\n",
    "        self.illustraator = illustraator\n",
    "</pre>\n",
    "Kui alamklass kasutab sama nimega meetodeid, mis ülemklass, nimetatakse seda meetodi üledefineerimiseks ( ingl <i>method overloading</i> ).\n",
    "Antud näites defineerisime siis üle konstruktori ja nõudsime uues konstruktoris 2 sisendparameetri asemel 3-e.\n",
    "Siiski ei toimunud konstruktori funktsionaalsuse täielikku asendamist (mis on ka võimalik), vaid  <code>super().__init__(pealkiri, autor)</code> abil kutsusime kõigepealt välja ülemklassi konstruktori ning seejärel lisasime omalt poolt uue isendimuutuja.\n",
    "</div>"
   ]
  },
  {
   "cell_type": "markdown",
   "metadata": {},
   "source": [
    "<div class=\"alert alert-block alert-warning\">\n",
    "<h4><i>Täiendavaid viiteid objekt-orienteeritud programmeerimise kohta</i></h4>\n",
    "<br>\n",
    "<ul>\n",
    "<li><a href=\"https://www.metshein.com/unit/python3-klassid-ja-objektid-ulesanne-8\">Python3 – Klassid ja objektid</a> -- eestikeelne sissejuhatav abimaterjal portaalist metshein.com ;</li>\n",
    "<li><a href=\"https://realpython.com/python3-object-oriented-programming\">Object-Oriented Programming (OOP) in Python 3</a> -- inglisekeelne sissejuhatav materjal, mis annab ülevaate põhikontseptsioonidest;</li>\n",
    "<li><a href=\"https://www.tutorialspoint.com/python/python_classes_objects.htm\">Python - Object Oriented @ tutorialspoint</a> -- inglisekeelne materjal, mis tutvustab terminoloogiat ja annab ülevaate põhikontseptsioonidest; </li>    \n",
    "<li><a href=\"https://docs.python.org/3/tutorial/classes.html\">Classes in Python</a> -- materjal edasijõudnutele (peamiselt neile, kes on juba tuttavad erinevate programmeerimiskeeltega); </li>\n",
    "</ul>\n",
    "</div>"
   ]
  },
  {
   "cell_type": "markdown",
   "metadata": {},
   "source": [
    "### Ülesanne 1. Foorumikasutajate analüüs (2 p)\n",
    "\n",
    "Kataloogis `'foorumid_xml'` on TÜ koondkorpuse [uue meedia alamkorpusest](http://www.cl.ut.ee/korpused/segakorpus/uusmeedia) pärinevad Planet foorumite postituste salvestused. \n",
    "Igas XML failis on ühe alamfoorumi teemad; teemad on jagatud postitusteks ning postitused omakorda lauseteks.\n",
    "\n",
    "Ülesandeks on lugeda see korpus sisse ning re-organiseerida andmed postitajate ja postituste kaupa. \n",
    "Loo klass `Postitus`, millel on isendimuutujad: postituse aeg, teema ning postituse sisuks olevad laused (sõnede listina). \n",
    "Seejärel loo klass `Kasutaja`, mille isendimuutujateks on postitaja nimi ja järjend `Postitus` objektidest. \n",
    "Mõlemal klassil peab olema konstruktor ning klassil `Kasutaja` peavad konstruktorile lisaks olema meetodid:\n",
    "\n",
    "   * postituse lisamine -- meetod, mis lisab uue `Postitus` objekti konkreetse `Kasutaja` postituste järjendisse;\n",
    "   * lausete kättesaamine -- meetod, mis käib üle postituste järjendi ja kogub kokku kõik laused. Tagastab lausete (sõnede) järjendi;\n",
    "   * teemade kättesaamine -- meetod, mis käib üle postituste järjendi, kogub kokku kõik unikaalsed teemad (pealkirjad) ja tagastab hulgana;\n",
    "\n",
    "XML failide kohta:\n",
    "\n",
    "   * teema pealkiri on `<div2 type=\"teema\">` märgendi järel ja `<head>`-märgendite vahel, nt\n",
    "```xml\n",
    "<div2 type=\"teema\"> <head> Tutipäev - 01. leht ( Planet Foorumid - Kultuur ja kunst - Kultuur - Haridus ) </head>\n",
    "```\n",
    "      Pealkirja lõpust tuleks kustutada maha lehekülje number ja sulgudes olev alamfoorumi määratlus. \n",
    "   * laused saab kätte `<s>` ja `</s>` märgendite vahelt, seega EstNLTK lausestajat siin rakendada pole vaja;\n",
    "\n",
    "Programm loeb andmeid XML failidest ja loob töö käigus sõnastiku, mille võtmeteks on postitajate nimed ja väärtusteks `Kasutaja` objektid (sisaldavad kõigi antud foorumikasutaja postitusi). \n",
    "Töö lõpus kuvab programm TOP 15 kõige rohkem postitusi teinud kasutajat, iga kasutaja kohta on välja toodud:\n",
    "\n",
    "   * kasutajanimi, postituste arv ja osaletud teemade arv;\n",
    "   * läbivalt väiketäheliste lausete % -- mitu % lausetest (üle kõigi lausete kasutaja postitustes) olid läbivalt väiketähelised;\n",
    "\n",
    "XML failide lugemine: kasuta selleks teegi _BeautifulSoup_ vahendeid; enamuse tööst peaks tehtud saama [`find_all`](https://tedboy.github.io/bs4_doc/6_searching_the_tree.html) abil XML-i filtreerides ning atribuudi `.text` abil märgendite vahelt tekstisisu välja võttes. "
   ]
  },
  {
   "cell_type": "markdown",
   "metadata": {},
   "source": [
    "## EstNLTK märgendajate tegemine\n",
    "\n",
    "Vaatame märgendajate loomist ühe lihtsa näite varal: olgu eesmärgiks luua märgendaja, mis tuvastab tekstis tsitaadid ehk jutumärkide vahelised tekstilõigud. \n",
    "Näidistekst märgendaja katsetamiseks:"
   ]
  },
  {
   "cell_type": "code",
   "execution_count": 11,
   "metadata": {
    "scrolled": true
   },
   "outputs": [],
   "source": [
    "text_str = '''\n",
    "Mees helistab arvutiabi telefonile ja kurdab: \"Mu arvutil läks pilt eest ära!\"\n",
    "\"Vaadake, kas kõik juhtmed on sees!\" ütleb spetsialist.\n",
    "\"Ei saa, pime on!\" ütleb hädaline.\n",
    "\"Pange siis tuli põlema.\"\n",
    "\"Ei saa, elektrit ei ole!\"\n",
    "'''"
   ]
  },
  {
   "cell_type": "markdown",
   "metadata": {},
   "source": [
    "#### Märgenduskihi tekitamine\n",
    "\n",
    "Sisuliselt toimub märgendaja sees märgenduskihi ehk `Layer` objekti tekitamine. \n",
    "Kõigepealt vaatame, kuidas käib kihi tekitamine eraldiseisvalt (st ilma märgendajata).\n",
    "Selleks võtame kasutusele regulaaravaldise, mis tuvastab tekstist jutumärkidega ümbritsetud lõike:"
   ]
  },
  {
   "cell_type": "code",
   "execution_count": 12,
   "metadata": {
    "scrolled": true
   },
   "outputs": [
    {
     "name": "stdout",
     "output_type": "stream",
     "text": [
      "47 79 \"Mu arvutil läks pilt eest ära!\"\n",
      "80 116 \"Vaadake, kas kõik juhtmed on sees!\"\n",
      "136 154 \"Ei saa, pime on!\"\n",
      "171 196 \"Pange siis tuli põlema.\"\n",
      "197 223 \"Ei saa, elektrit ei ole!\"\n"
     ]
    }
   ],
   "source": [
    "import re\n",
    "quotations_regexp = re.compile('(\"[^\"]+\")')\n",
    "for match_obj in list( quotations_regexp.finditer( text_str ) ):\n",
    "    print( match_obj.start(1),   # lõigu algus\n",
    "           match_obj.end(1),     # lõigu lõpp\n",
    "           match_obj.group(1) )  # lõigu sisu (sõne)"
   ]
  },
  {
   "cell_type": "markdown",
   "metadata": {},
   "source": [
    "Edasi loome näidisteksi põhjal uue `Text` objekti ning seejärel ka uue märgenduskihi ehk `Layer` objekti:"
   ]
  },
  {
   "cell_type": "code",
   "execution_count": 13,
   "metadata": {
    "scrolled": true
   },
   "outputs": [],
   "source": [
    "from estnltk import Text, Layer\n",
    "\n",
    "text_obj = Text( text_str )\n",
    "layer = Layer(name='quotations', attributes=(), text_object=text_obj)\n",
    "layer.meta['allikas'] = 'anekdoot'"
   ]
  },
  {
   "cell_type": "markdown",
   "metadata": {},
   "source": [
    "Kihi nimeks sai `'quotations'` ja atribuute kihil esialgu ei ole. Küll aga andsime kihile edasi info selle kohta, milline on kihile vastav tekst (`text_object=text_obj`). NB! Kui `text_object` jääb määramata, siis saab kihile küll märgendusi lisada, aga pole võimalik kuvada selle tekstilist sisu (st seda, millised märgendused millist tekstifragmenti katavad).\n",
    "\n",
    "Nagu `Text` objektile, nii on ka kihile võimalik kaasa anda meta-andmeid atribuudi `.meta` abil (mis on sisuliselt sõnastik).\n",
    "\n",
    "Kasutame nüüd jälle [finditer](https://docs.python.org/3.6/library/re.html#re.finditer) meetodit, et leida tekstist kõik jutumärkide-vahelised lõigud, võtame välja lõikude asukohad (algus ja lõpp-indeksid) ning lisame kihile `add_annotation` meetodi abil. Tulemuseks ongi märgenduskiht:"
   ]
  },
  {
   "cell_type": "code",
   "execution_count": 14,
   "metadata": {
    "scrolled": true
   },
   "outputs": [
    {
     "data": {
      "text/html": [
       "<h4>Layer</h4>\n",
       "<h4>Metadata</h4>\n",
       "<table border=\"1\" class=\"dataframe\">\n",
       "  <tbody>\n",
       "    <tr>\n",
       "      <td>allikas</td>\n",
       "      <td>anekdoot</td>\n",
       "    </tr>\n",
       "  </tbody>\n",
       "</table>\n",
       "\n",
       "<table border=\"1\" class=\"dataframe\">\n",
       "  <thead>\n",
       "    <tr style=\"text-align: right;\">\n",
       "      <th>layer name</th>\n",
       "      <th>attributes</th>\n",
       "      <th>parent</th>\n",
       "      <th>enveloping</th>\n",
       "      <th>ambiguous</th>\n",
       "      <th>span count</th>\n",
       "    </tr>\n",
       "  </thead>\n",
       "  <tbody>\n",
       "    <tr>\n",
       "      <td>quotations</td>\n",
       "      <td></td>\n",
       "      <td>None</td>\n",
       "      <td>None</td>\n",
       "      <td>False</td>\n",
       "      <td>5</td>\n",
       "    </tr>\n",
       "  </tbody>\n",
       "</table>\n",
       "<table border=\"1\" class=\"dataframe\">\n",
       "  <thead>\n",
       "    <tr style=\"text-align: right;\">\n",
       "      <th>text</th>\n",
       "    </tr>\n",
       "  </thead>\n",
       "  <tbody>\n",
       "    <tr>\n",
       "      <td>\"Mu arvutil läks pilt eest ära!\"</td>\n",
       "    </tr>\n",
       "    <tr>\n",
       "      <td>\"Vaadake, kas kõik juhtmed on sees!\"</td>\n",
       "    </tr>\n",
       "    <tr>\n",
       "      <td>\"Ei saa, pime on!\"</td>\n",
       "    </tr>\n",
       "    <tr>\n",
       "      <td>\"Pange siis tuli põlema.\"</td>\n",
       "    </tr>\n",
       "    <tr>\n",
       "      <td>\"Ei saa, elektrit ei ole!\"</td>\n",
       "    </tr>\n",
       "  </tbody>\n",
       "</table>"
      ],
      "text/plain": [
       "Layer(name='quotations', attributes=(), spans=SL[Span('\"Mu arvutil läks pilt eest ära!\"', [{}]),\n",
       "Span('\"Vaadake, kas kõik juhtmed on sees!\"', [{}]),\n",
       "Span('\"Ei saa, pime on!\"', [{}]),\n",
       "Span('\"Pange siis tuli põlema.\"', [{}]),\n",
       "Span('\"Ei saa, elektrit ei ole!\"', [{}])])"
      ]
     },
     "execution_count": 14,
     "metadata": {},
     "output_type": "execute_result"
    }
   ],
   "source": [
    "for match_obj in quotations_regexp.finditer( text_obj.text ):\n",
    "    quotation_start = match_obj.start(1)\n",
    "    quotation_end   = match_obj.end(1)\n",
    "    layer.add_annotation( (quotation_start, quotation_end) )\n",
    "layer"
   ]
  },
  {
   "cell_type": "markdown",
   "metadata": {},
   "source": [
    "Rohkem infot märgenduskihtide loomise kohta (kuidas luua eri tüüpi kihte: alamkihte, mitmeseid kihte ja ümbriskihte) leiad estnltk baastarkuste materjalist."
   ]
  },
  {
   "cell_type": "markdown",
   "metadata": {},
   "source": [
    "#### Märgendaja loomine\n",
    "\n",
    "Objekt-orienteeritud disainipõhimõtet edasi järgides peab ka `Layer` objekti tekitamine toimuma mingi klassi/objekti sees. EstNLTK-s ongi selleks puhuks märgendaja ehk `Tagger` klass. \n",
    "\n",
    "Märgendaja loomiseks tuleb tekitada `estnltk.taggers.Tagger`-i alamklass ning defineerida üle:\n",
    "  * klassimuutuja `conf_param`, mis sisaldab märgendaja konfiguratsiooni;\n",
    "  * konstruktor `__init__`, mille ülesanne on algseadistada märgendaja (ja vajadusel laadida sisse tööks vajalikud ressursid);\n",
    "  * `_make_layer` meetod, mille ülesanne on tekitada ja tagastada märgeduskiht;"
   ]
  },
  {
   "cell_type": "markdown",
   "metadata": {},
   "source": [
    "<div class=\"alert alert-block alert-warning\">\n",
    "<h4><i>Miks on vaja defineerida üle <code>Tagger</code>-i <code>_make_layer</code> meetod, mitte aga <code>tag</code> meetod?</i></h4>\n",
    "<br>\n",
    "Tegelikult on <code>tag</code> meetodis toimuv märgenduskihi loomise esimene etapp. Etappe on kokku kolm ja nendeks on (väljakutsumise järjekorras): <code>tag</code> => <code>make_layer</code> =><code>_make_layer</code>. \n",
    "    \n",
    "<code>tag</code> meetodis kutsutakse kihi loomiseks välja <code>Tagger</code>-i meetod <code>make_layer</code> ning kui kihi loomine õnnestub, riputatakse see <code>Text</code> objekti külge. \n",
    "Ka meetod <code>make_layer</code> (NB! ilma alakriipsuta alguses) ei tegele ise kihi tekitamisega, vaid kontrollib enne kihi tekitamist, kas kõik kihi loomiseks vajalikud sisendkihid on olemas, seejärel kutsub kihi tekitamiseks välja <code>Tagger</code>-i meetodi <code>_make_layer</code> ( mis ongi meie implementeerida! ) ning kõige lõpus kontrollib, kas loodud kiht on valiidse struktuuriga (nt sisaldab deklareeritud atribuute).\n",
    "<br><br>\n",
    "Aga miks on ikkagi kihi loomine jagatud laiali kolme meetodi vahel?\n",
    "<br><br>\n",
    "<code>tag</code> ja <code>make_layer</code> eristamine on vajalik selleks, et oleks võimalik luua nii lõppkasutaja jaoks mugavaid <code>Text</code>-iga seotud kihte kui ka nn eraldatud kihte (ingl <i>detached layers</i>), mis pole <code>Text</code>-i alla riputatud. Eraldatud kihte kasutab Postgres andmebaasiliides (kihte saab <code>Text</code>-ist eraldi andmebaasi salvestada) ning neid saab kasutada ka rakendustes, kus kihi loomine on ainult ajutine vahe-etapp -- kui loodud kihilt on informatsioon kätte saadud, pole põhjust seda <code>Text</code>-i külge kinnitada, vaid võib selle ära visata.\n",
    "<br>\n",
    "<code>make_layer</code> ja <code>_make_layer</code> eristamine võimaldab aga eraldada rutiinsed eel- ja järeltegevused (vajalike sisendkihtide kontroll ja märgenduste valideerimine) otsesest kihi loomisest.\n",
    "</div>"
   ]
  },
  {
   "cell_type": "markdown",
   "metadata": {},
   "source": [
    "Vaatame nüüd samm-sammult tsitaatide märgendaja tekitamist.\n",
    "\n",
    "**1)** Impordime vajalikud klassid ning loome `QuotationsTagger`-i, mis on `Tagger`-i alamklass (ülemklassi nimi läheb alamklassi nime järele sulgudesse):\n",
    "```python\n",
    "from estnltk import Text, Layer\n",
    "from estnltk.taggers import Tagger\n",
    "\n",
    "class QuotationsTagger(Tagger):\n",
    "    \"\"\"Tags quotations in Text.\"\"\" \n",
    "    conf_param = ['quotations_regexp']\n",
    "    ...\n",
    "```\n",
    "Kui märgendaja vajab oma tööks mingeid ressursse, siis nende nimed (ehk: vastavate isendimuutujate nimed) tuleb panna klassimuutujasse `conf_param`. Käesoleval juhul paneme sinna `quotations_regexp`, kuna meil on plaanis hoida selle nimega muutujas tsitaate eraldavat regulaaravaldist.\n",
    "\n",
    "**2)** Loome konstruktori, kus on deklareeritud sisendkihid ja väljundkihi nimi, samuti väljundkihi atribuudid ning tööks vajalikud ressursid:\n",
    "```python\n",
    "    ...\n",
    "    def __init__(self, # Väljundkihi nimi muudetavaks:\n",
    "                       output_layer='quotations'):\n",
    "        # sisend-väljundkihid ja atribuudid\n",
    "        self.input_layers = []\n",
    "        self.output_layer = output_layer\n",
    "        self.output_attributes = ['length']\n",
    "        # tööks vajalikud ressursid\n",
    "        self.quotations_regexp = re.compile('(\"[^\"]+\")')\n",
    "    ...\n",
    "```\n",
    "Sisendkihte (`input_layers`) antud juhul pole: regulaaravaldist saame rakendada ka \"puhtal tekstil\", muid kihte tarvis pole. \n",
    "Väljundkihi nimi on vaikimisi `'quotations'`, aga seda saab konstruktori parameetriga muuta. \n",
    "Kui kihi nimi on muudetav, on meil võimalik märgendaja arendust versioneerida, st võime tekitada kihid nimedega `'quotations_v1'`, `'quotations_v2'` jne ning võrrelda neid omavahel.\n",
    "Lisame väljundkihile ka atribuudi `'length'`, kuhu alla salvestame tsitaadi (sõne) pikkuse.\n",
    "Ning lõpuks kompileerime tsitaate eraldava regulaaravaldise ja riputame isendimuutuja `self.quotations_regexp` alla.\n",
    "\n",
    "**3)** Loome `_make_layer` meetodi, mille ülesandeks on luua etteantud `Text` objekti põhjal uus märgenduskiht:\n",
    "```python\n",
    "    ...\n",
    "    def _make_layer(self, text, layers, status):\n",
    "        # Loome etteantud text objekti põhjal uue kihi\n",
    "        layer = Layer(name=self.output_layer, attributes=self.output_attributes, text_object=text)\n",
    "        for match in self.quotations_regexp.finditer(text.text):\n",
    "            quotation_start  = match.start(1)\n",
    "            quotation_end    = match.end(1)\n",
    "            annotations      = {'length':quotation_end - quotation_start}\n",
    "            layer.add_annotation( (quotation_start, quotation_end), **annotations )\n",
    "        # Tagastame loodud kihi\n",
    "        return layer\n",
    "```\n",
    "Üledefineeritav meetod `_make_layer` saab argumentideks märgendatava `text`-i (`Text` objekti), olemasolevate kihtide sõnastiku `layers` (võtmeteks `Text` objekti kihinimed ja väärtusteks neile vastavad kihid) ning sõnastiku `status` (sinna võib salvestada metaandmeid kihi loomise protsessi kohta, _a la_ kas loomine õnnestus või kui palju see aega võttis).\n",
    "\n",
    "Edasi luuakse uus (tühi) kiht. Loodava kihi nimi ja väljundatribuudid määratakse `Tagger`-i konfiguratsiooni põhjal (kasutades isendimuutujaid `self.output_layer` ja `self.output_attributes`) -- nii on tagatud, et `Tagger`-i konfiguratsiooni muutes (nt `output_layer` väärtust muutes) kanduksid muutused kindlasti edasi ka loodavasse märgenduskihti. \n",
    "\n",
    "Nagu eelnevas tsitaatide märgendamise näites, nii tuvastame ka nüüd võimalike tsitaatide asukohad [finditer](https://docs.python.org/3.6/library/re.html#re.finditer) abil.\n",
    "Lisaks leiame iga tuvastatud tsitaadi pikkuse (sümbolites), paneme sõnastikku võtme `'length'` alla ning anname märgenduse lisamisel kaasa -- selle sõnastiku põhjal tekitatakse märgendusele atribuudid.\n",
    "\n",
    "Ning töö lõpus tagastame loodud kihi.\n",
    "\n",
    "Meetodis `_make_layer`  meil olemasolevate kihtide sõnastikku `layers` vaja ei läinudki, kuna `self.input_layers = []` ehk märgendaja ei nõudnud sisendkihte. \n",
    "Aga kui sisendkihid oleks nõutud, tuleks need sõnastikust välja noppida (nt `input_layer_1 = layers[ self.input_layers[0] ]`, `input_layer_2 = layers[ self.input_layers[1] ]` jne) ning seejärel saaks neid kasutada uue kihi tekitamisel.\n",
    "Oluline on rõhutada, et kõik nõutud kihid tuleb võtta just sõnastikust `layers`, mitte `text`-i alt (nagu seda tehakse tavaliselt). Miks? Märgendajat peab olema võimalik kasutada ka eraldatud kihtide loomiseks ehk siis selliste kihtide loomiseks, millest ükski ei ole veel `text`-i alla riputatud.\n",
    "\n",
    "Paneme nüüd samm-haaval vaadeldud `QuotationsTagger`-i koodi kokku üheks klassiks:"
   ]
  },
  {
   "cell_type": "code",
   "execution_count": 15,
   "metadata": {
    "scrolled": true
   },
   "outputs": [],
   "source": [
    "import re\n",
    "\n",
    "from estnltk import Text, Layer\n",
    "from estnltk.taggers import Tagger\n",
    "\n",
    "class QuotationsTagger(Tagger):\n",
    "    \"\"\"Tags quotations in Text.\"\"\" \n",
    "    conf_param = ['quotations_regexp']\n",
    "    \n",
    "    def __init__(self, # Väljundkihi nimi muudetavaks:\n",
    "                       output_layer='quotations'):\n",
    "        # sisend-väljundkihid ja atribuudid\n",
    "        self.input_layers = []\n",
    "        self.output_layer = output_layer\n",
    "        self.output_attributes = ['length']\n",
    "        # tööks vajalikud ressursid\n",
    "        self.quotations_regexp = re.compile('(\"[^\"]+\")')\n",
    "    \n",
    "    def _make_layer(self, text, layers, status):\n",
    "        # Loome etteantud text objekti põhjal uue kihi\n",
    "        layer = Layer(name=self.output_layer, attributes=self.output_attributes, text_object=text)\n",
    "        for match in self.quotations_regexp.finditer(text.text):\n",
    "            quotation_start  = match.start(1)\n",
    "            quotation_end    = match.end(1)\n",
    "            annotations      = {'length':quotation_end - quotation_start}\n",
    "            layer.add_annotation( (quotation_start, quotation_end), **annotations )\n",
    "        # Tagastame loodud kihi\n",
    "        return layer"
   ]
  },
  {
   "cell_type": "markdown",
   "metadata": {},
   "source": [
    "Loome uue märgendaja:"
   ]
  },
  {
   "cell_type": "code",
   "execution_count": 16,
   "metadata": {
    "scrolled": true
   },
   "outputs": [
    {
     "data": {
      "text/html": [
       "<h4>Tagger</h4>\n",
       "Tags quotations in Text.\n",
       "<table border=\"1\" class=\"dataframe\">\n",
       "  <thead>\n",
       "    <tr style=\"text-align: right;\">\n",
       "      <th>name</th>\n",
       "      <th>output layer</th>\n",
       "      <th>output attributes</th>\n",
       "      <th>input layers</th>\n",
       "    </tr>\n",
       "  </thead>\n",
       "  <tbody>\n",
       "    <tr>\n",
       "      <td>QuotationsTagger</td>\n",
       "      <td>quotations</td>\n",
       "      <td>('length',)</td>\n",
       "      <td>()</td>\n",
       "    </tr>\n",
       "  </tbody>\n",
       "</table>\n",
       "<h4>Configuration</h4>\n",
       "<table border=\"1\" class=\"dataframe\">\n",
       "  <tbody>\n",
       "    <tr>\n",
       "      <th>quotations_regexp</th>\n",
       "      <td>re.compile('(\"[^\"]+\")')</td>\n",
       "    </tr>\n",
       "  </tbody>\n",
       "</table>"
      ],
      "text/plain": [
       "QuotationsTagger(input_layers=(), output_layer=quotations, output_attributes=('length',), quotations_regexp=re.compile('(\"[^\"]+\")'))"
      ]
     },
     "execution_count": 16,
     "metadata": {},
     "output_type": "execute_result"
    }
   ],
   "source": [
    "quotes_tagger = QuotationsTagger()\n",
    "quotes_tagger"
   ]
  },
  {
   "cell_type": "markdown",
   "metadata": {},
   "source": [
    "Nüüd, kui märgendaja on olemas, saab seda välja kutsuda kahel viisil. \n",
    "\n",
    "**1)** Meetod `make_layer` tekitab uue kihi ja tagastab selle, aga ei riputa kihti `text`-i külge -- tegemist on nn eraldatud kihiga:"
   ]
  },
  {
   "cell_type": "code",
   "execution_count": 17,
   "metadata": {
    "scrolled": true
   },
   "outputs": [
    {
     "data": {
      "text/html": [
       "<h4>Layer</h4>\n",
       "\n",
       "\n",
       "<table border=\"1\" class=\"dataframe\">\n",
       "  <thead>\n",
       "    <tr style=\"text-align: right;\">\n",
       "      <th>layer name</th>\n",
       "      <th>attributes</th>\n",
       "      <th>parent</th>\n",
       "      <th>enveloping</th>\n",
       "      <th>ambiguous</th>\n",
       "      <th>span count</th>\n",
       "    </tr>\n",
       "  </thead>\n",
       "  <tbody>\n",
       "    <tr>\n",
       "      <td>quotations</td>\n",
       "      <td>length</td>\n",
       "      <td>None</td>\n",
       "      <td>None</td>\n",
       "      <td>False</td>\n",
       "      <td>5</td>\n",
       "    </tr>\n",
       "  </tbody>\n",
       "</table>\n",
       "<table border=\"1\" class=\"dataframe\">\n",
       "  <thead>\n",
       "    <tr style=\"text-align: right;\">\n",
       "      <th>text</th>\n",
       "      <th>length</th>\n",
       "    </tr>\n",
       "  </thead>\n",
       "  <tbody>\n",
       "    <tr>\n",
       "      <td>\"Mu arvutil läks pilt eest ära!\"</td>\n",
       "      <td>32</td>\n",
       "    </tr>\n",
       "    <tr>\n",
       "      <td>\"Vaadake, kas kõik juhtmed on sees!\"</td>\n",
       "      <td>36</td>\n",
       "    </tr>\n",
       "    <tr>\n",
       "      <td>\"Ei saa, pime on!\"</td>\n",
       "      <td>18</td>\n",
       "    </tr>\n",
       "    <tr>\n",
       "      <td>\"Pange siis tuli põlema.\"</td>\n",
       "      <td>25</td>\n",
       "    </tr>\n",
       "    <tr>\n",
       "      <td>\"Ei saa, elektrit ei ole!\"</td>\n",
       "      <td>26</td>\n",
       "    </tr>\n",
       "  </tbody>\n",
       "</table>"
      ],
      "text/plain": [
       "Layer(name='quotations', attributes=('length',), spans=SL[Span('\"Mu arvutil läks pilt eest ära!\"', [{'length': 32}]),\n",
       "Span('\"Vaadake, kas kõik juhtmed on sees!\"', [{'length': 36}]),\n",
       "Span('\"Ei saa, pime on!\"', [{'length': 18}]),\n",
       "Span('\"Pange siis tuli põlema.\"', [{'length': 25}]),\n",
       "Span('\"Ei saa, elektrit ei ole!\"', [{'length': 26}])])"
      ]
     },
     "execution_count": 17,
     "metadata": {},
     "output_type": "execute_result"
    }
   ],
   "source": [
    "text = Text(text_str)\n",
    "quotes_tagger.make_layer(text)"
   ]
  },
  {
   "cell_type": "code",
   "execution_count": 18,
   "metadata": {
    "scrolled": true
   },
   "outputs": [
    {
     "data": {
      "text/plain": [
       "set()"
      ]
     },
     "execution_count": 18,
     "metadata": {},
     "output_type": "execute_result"
    }
   ],
   "source": [
    "# Tekstil pole veel ühtegi kiht\n",
    "text.layers"
   ]
  },
  {
   "cell_type": "markdown",
   "metadata": {},
   "source": [
    "**2)** Meetod `tag` tekitab uue kihi ning tagastab `text`-i, kuhu kiht on külge riputatud:"
   ]
  },
  {
   "cell_type": "code",
   "execution_count": 19,
   "metadata": {
    "scrolled": true
   },
   "outputs": [
    {
     "data": {
      "text/html": [
       "<table border=\"1\" class=\"dataframe\">\n",
       "  <thead>\n",
       "    <tr style=\"text-align: right;\">\n",
       "      <th>text</th>\n",
       "    </tr>\n",
       "  </thead>\n",
       "  <tbody>\n",
       "    <tr>\n",
       "      <td><div align = \"left\"></br>Mees helistab arvutiabi telefonile ja kurdab: &quot;Mu arvutil läks pilt eest ära!&quot;</br>&quot;Vaadake, kas kõik juhtmed on sees!&quot; ütleb spetsialist.</br>&quot;Ei saa, pime on!&quot; ütleb hädaline.</br>&quot;Pange siis tuli põlema.&quot;</br>&quot;Ei saa, elektrit ei ole!&quot;</br></div></td>\n",
       "    </tr>\n",
       "  </tbody>\n",
       "</table>\n",
       "<table border=\"1\" class=\"dataframe\">\n",
       "  <thead>\n",
       "    <tr style=\"text-align: right;\">\n",
       "      <th>layer name</th>\n",
       "      <th>attributes</th>\n",
       "      <th>parent</th>\n",
       "      <th>enveloping</th>\n",
       "      <th>ambiguous</th>\n",
       "      <th>span count</th>\n",
       "    </tr>\n",
       "  </thead>\n",
       "  <tbody>\n",
       "    <tr>\n",
       "      <td>quotations</td>\n",
       "      <td>length</td>\n",
       "      <td>None</td>\n",
       "      <td>None</td>\n",
       "      <td>False</td>\n",
       "      <td>5</td>\n",
       "    </tr>\n",
       "  </tbody>\n",
       "</table>"
      ],
      "text/plain": [
       "Text(text='\\nMees helistab arvutiabi telefonile ja kurdab: \"Mu arvutil läks pilt eest ära!\"\\n\"Vaadake, kas kõik juhtmed on sees!\" ütleb spetsialist.\\n\"Ei saa, pime on!\" ütleb hädaline.\\n\"Pange siis tuli põlema.\"\\n\"Ei saa, elektrit ei ole!\"\\n')"
      ]
     },
     "execution_count": 19,
     "metadata": {},
     "output_type": "execute_result"
    }
   ],
   "source": [
    "quotes_tagger.tag(text)"
   ]
  },
  {
   "cell_type": "code",
   "execution_count": 20,
   "metadata": {
    "scrolled": true
   },
   "outputs": [
    {
     "data": {
      "text/html": [
       "<script>\n",
       "var elements = document.getElementsByClassName(\"overlapping-span\")\n",
       "for (let i = 0; i < elements.length; i++){\n",
       "    elements.item(i).addEventListener(\"click\",function() {show_conflicting_spans(elements.item(i));})}\n",
       "\n",
       "function show_conflicting_spans(span_element) {\n",
       "    let spantable = document.createElement('div')\n",
       "    spantable.classList.add('tables')\n",
       "\n",
       "    // Prepare the contents of the span table\n",
       "    data = span_element.getAttribute(\"span_info\")\n",
       "    data = data.split(\",\")\n",
       "    var spancontent = '<table>'\n",
       "    for (let row of data) {\n",
       "        spancontent+='<tr><td>'\n",
       "        spancontent+=row\n",
       "        spancontent+='</td></tr>'\n",
       "    }\n",
       "    spancontent += '</table>'\n",
       "    spantable.innerHTML = spancontent\n",
       "    span_element.parentElement.appendChild(spantable)\n",
       "\n",
       "    // Increase the size of the cell so the tables would fit\n",
       "    spantable.parentElement.style.height = Math.max(Number(spantable.parentElement.style.height.substring(0,spantable.parentElement.style.height.length-2)),span_element.offsetTop+90)+ 'px'\n",
       "    // Position the table directly below the corresponding text\n",
       "    spantable.style.left = span_element.getBoundingClientRect().left-spantable.parentElement.parentElement.getBoundingClientRect().left + 'px'\n",
       "    spantable.style.top = span_element.getBoundingClientRect().top-spantable.parentElement.parentElement.getBoundingClientRect().top+20+ 'px'\n",
       "\n",
       "    // Remove the table when clicked on again\n",
       "    spantable.addEventListener('click', function () {\n",
       "        let element = this.parentElement\n",
       "        element.removeChild(this)\n",
       "    })\n",
       "}\n",
       "</script><style>\n",
       ".span {\n",
       "    background-color: yellow;\n",
       "}\n",
       "\n",
       ".overlapping-span {\n",
       "    background-color: red;\n",
       "}\n",
       "\n",
       ".spanline {\n",
       "    background-color: blue;\n",
       "    position: relative;\n",
       "    height: 3px;\n",
       "    margin-left: 0px;\n",
       "}\n",
       "\n",
       ".tables {\n",
       "    position: absolute;\n",
       "    width: fit-content;\n",
       "    width: -moz-fit-content;\n",
       "    border: 1px solid black;\n",
       "}\n",
       "\n",
       ".maintext{0} {\n",
       "    position: relative;\n",
       "}\n",
       "\n",
       ".tables tbody tr:nth-child(even) {\n",
       "    background-color: lightgray;\n",
       "}\n",
       "\n",
       ".tables tbody tr:nth-child(odd) {\n",
       "    background-color: beige;\n",
       "}\n",
       "\n",
       ".tables tbody tr:hover {\n",
       "    background-color: ivory;\n",
       "}\n",
       "</style><br>Mees helistab arvutiabi telefonile ja kurdab: <span style=background:yellow; \">\"Mu arvutil läks pilt eest ära!\"</span><br><span style=background:yellow; \">\"Vaadake, kas kõik juhtmed on sees!\"</span> ütleb spetsialist.<br><span style=background:yellow; \">\"Ei saa, pime on!\"</span> ütleb hädaline.<br><span style=background:yellow; \">\"Pange siis tuli põlema.\"</span><br><span style=background:yellow; \">\"Ei saa, elektrit ei ole!\"</span><br>"
      ]
     },
     "metadata": {},
     "output_type": "display_data"
    }
   ],
   "source": [
    "# uurime külge riputatud kihti\n",
    "text.quotations.display()"
   ]
  },
  {
   "cell_type": "markdown",
   "metadata": {},
   "source": [
    "<div class=\"alert alert-block alert-warning\">\n",
    "<h4><i>Märgendajad vs ümbermärgendajad</i></h4>\n",
    "<ul>\n",
    "<li>Kui <code>Tagger</code> on mõeldud uue kihi tekitamiseks, siis <code>Retagger</code> tegeleb olemasoleva kihi muutmise või parandamisega. Näiteks on <code>Retagger</code>-id morfoloogilise analüüsi kihti muutvad <code>VabamorfDisambiguator</code> ja <code>UserDictTagger</code>. <code>Retagger</code> liides kasutab samu atribuute, mis <code>Tagger</code>, aga meetodite nimed on teistsugused: <code>_make_layer(...)</code> asemel on <code>_change_layer(...)</code>, <code>make_layer(...)</code> asemel <code>change_layer(...)</code> ning <code>tag(...)</code> asemel <code>retag(...)</code>;</li>\n",
    "<li>Detailsemat informatsiooni ja lisanäiteid märgendajate / ümbermärgendajate tekitamise kohta leiad estnltk baastarkuste materjalist.</li>\n",
    "</ul>\n",
    "</div>"
   ]
  },
  {
   "cell_type": "markdown",
   "metadata": {},
   "source": [
    "### Ülesanne 2. Sõnade tekstiklassi märgendamine (3 p)\n",
    "\n",
    "#### `WordsTextclassTagger` (2 p)\n",
    "Järgmiseks ülesandeks on luua märgendaja (`Tagger` alamklass), mis määrab sõnadele domineerivad tekstiklassid -- kas sõna kasutatakse kõige rohkem ajakirjanduses, ilukirjanduses või teaduskirjanduses? -- ning ühtlasi pakub domineeriva tekstiklassi kogu tekstile. \n",
    "Domineeriva tekstiklassi määramiseks kasutame [TÜ sagedusloendeid](https://www.cl.ut.ee/ressursid/sagedused1), täpsemalt:\n",
    "\n",
    "  * ajakirjanduse lemmade sagedusloendit:     https://www.cl.ut.ee/ressursid/sagedused1/failid/lemma_aja_kahanevas.txt\n",
    "  * ilukirjanduse lemmade sagedusloendit:     https://www.cl.ut.ee/ressursid/sagedused1/failid/lemma_ilu_kahanevas.txt\n",
    "  * teaduskirjanduse lemmade sagedusloendit:  https://www.cl.ut.ee/ressursid/sagedused1/failid/lemma_tea_kahanevas.txt\n",
    "\n",
    "Märgendaja loomisel (konstruktoris) toimub sõnalemmade ja sageduste sisselugemine failidest. Kui kõik sõnaloendid on käes, määratakse igale lemmale domineeriv klass -- selleks saab tekstiklass, kus lemma oli kõige sagedasem. Lisaks arvutatakse ka domineeriva klassi suhteline sagedus, st kui suur osakaal kõigist lemma loendites esinemistest oli domineerivas klassis. Näited:\n",
    "\n",
    "| lemma  | aja sagedus | ilu sagedus | tea sagedus | => tekstiklass | => suhteline sagedus |\n",
    "|---|---|---|---|---|---|\n",
    "| _mina_  | 38404 | 132250 | 9594 | ilu  | 0.73 |\n",
    "| _president_ | 3949 | 353 | 388 | aja | 0.84 |\n",
    "| _bakter_ | 75 | 16 | 267 | tea | 0.75 |\n",
    "| _päev_ | 6140 | 6047 | 2375 | aja | 0.42 |\n",
    "\n",
    "Konstruktori argumendi abil saab ka täpsustada suhtelise sageduse _lävendi_ : kõik sõnad, mille suhteline sagedus jääb lävendist allapoole, jäetakse märgendamata.\n",
    "Eelmiste näidete puhul: kui _lävendiks_ on 0.75, jäävad märgendamata sõnad _mina_ ja _päev_ .\n",
    "\n",
    "Kihi tekitamine. Meetodis `_make_layer` luuakse kõigepealt uus kiht (nt `'words_textclass'`), millel on vähemalt üks atribuut (`textclass`).\n",
    "Seejärel käiakse üle kõigi sisendteksti morf analüüside (seega: `input_layers` peab sisaldama morf analüüsi kihti) ning kontrollitakse sõnade lemmasid: kui lemmale on domineeriv tekstiklass määratud, lisatakse sõna asukohale uus märgendus, mis toob välja tekstiklassi. \n",
    "Märgendus jäetakse aga sõnale lisamata, kui lemmaga pole domineerivat tekstiklassi seotud (või domineeriva tekstiklassi suhteline sagedus jäi lävendist allapoole).\n",
    "\n",
    "Tekstiklass kogu tekstile. Lisaks sõnade märgendamisele peetakse meetodis ka järge, mitu 'aja', 'ilu' ja 'tea' tekstiklassi kuuluvat sõna tekstis kokku märgendatakse.\n",
    "Pärast märgendamist leitakse iga tekstiklassi suhteline sagedus: jagatakse tekstiklassi märgendatud sõnade arv kõigi märgendatud sõnade arvuga.\n",
    "Näide: kui tekstiklassimärgendi 'aja' said 36 sõna ning kokku märgendati tekstis 387 sõna, siis klassi 'aja' suhteline sagedus on 36/387 ehk ~0.09.\n",
    "Kõigi kolme tekstiklassi suhtelised sagedused salvestatakse märgenduskihi atribuudi `.meta` alla.\n",
    "\n",
    "Maksimumpunktid märgendaja loomise eest saab kui: 1) sisend- ja väljundkihid on korrektselt defineeritud ning kihinimed (konstruktori kaudu) muudetavad; 2) konstruktori kaudu saab määrata sisendfaile ja lävendit, 3) märgendaja tööks vajalike andmete ettevalmistus toimub konstruktoris (andmete lugemine failidest võib olla nt isendimeetodis, mille konstruktor välja kutsub) ning `_make_layer` kasutab teksti märgendamisel (isendimuutujates olevaid) andmeid sõnade kohta.\n",
    "\n",
    "#### Märgendaja testimine (1 p)\n",
    "\n",
    "Testi tekstiklassi märgendajat kahel viisil:\n",
    "\n",
    " * Võta välja TOP 3 kõige sagedasemat foorumipostitajat (ülesande 1 tulemustest), liida iga postitaja kõik laused kokku üheks tekstiks, märgenda see tekst `WordsTextclassTagger` abil ning väljasta tekstiklasside suhtelised sagedused. Millise tekstiklassi sõnavara foorumipostitajad kõige rohkem kasutavad?\n",
    " \n",
    " \n",
    " * Kataloogis `web_2017_json` on mõned Eesti veebikorpuse dokumendid, EstNLTK JSON kujul. Lae need `Text` objektidena sisse (metaandmetest leiad ka lisainfot, nt `'title'` ja `'url'`), rakenda märgendajat ning väljasta iga dokumendi kohta tekstiklasside suhtelised sagedused. Kuidas õnnestub dokumentidele tekstiklasside määramine sellel korpusel?\n",
    "\n",
    "Kuidas mõjutab tulemusi erineva lävendi seadmine?"
   ]
  },
  {
   "cell_type": "markdown",
   "metadata": {},
   "source": [
    "---"
   ]
  },
  {
   "cell_type": "markdown",
   "metadata": {},
   "source": [
    "<div class=\"alert alert-block alert-warning\">\n",
    "<h4><i>Sõnade tekstiklassid ja tekstide automaatne klassifitseerimine?</i></h4>\n",
    "<p>Eelmist ülesannet lahendades võis tekkida küsimus, kuidas on seotud sõnade tekstiklassid ja tekstide automaatne klassifitseerimine -- kas me saame ka praktikas sellisel meetodil tekste klassifitseerida? Tegelikult on eelmises ülesandes uuritud meetod üsna eksperimentaalne. Praktikas rakendatavad teksti klassifitseerimise meetodid tuginevad dokumentide vektoresitusele ning nendega teeme lähemalt tutvust viimases praktikums.</p>\n",
    "</div>"
   ]
  },
  {
   "cell_type": "markdown",
   "metadata": {},
   "source": [
    "---\n",
    "\n",
    "## Osalausestamine\n",
    "\n",
    "Osalausestaja abil saab pikad ja keeruka struktuuriga laused jagada väiksemateks/lihtsamateks juppideks: osalauseteks. \n",
    "Enamasti ongi osalaused lihtlause-sarnased: sisaldavad ühte peaverbi (finiitverbi) ning sellega süntaktiliselt seotud sõnu. \n",
    "\n",
    "Vaatame üht näidet osalausestaja kasutamise kohta:"
   ]
  },
  {
   "cell_type": "code",
   "execution_count": 21,
   "metadata": {
    "scrolled": true
   },
   "outputs": [
    {
     "data": {
      "text/html": [
       "<h4>Layer</h4>\n",
       "\n",
       "\n",
       "<table border=\"1\" class=\"dataframe\">\n",
       "  <thead>\n",
       "    <tr style=\"text-align: right;\">\n",
       "      <th>layer name</th>\n",
       "      <th>attributes</th>\n",
       "      <th>parent</th>\n",
       "      <th>enveloping</th>\n",
       "      <th>ambiguous</th>\n",
       "      <th>span count</th>\n",
       "    </tr>\n",
       "  </thead>\n",
       "  <tbody>\n",
       "    <tr>\n",
       "      <td>clauses</td>\n",
       "      <td>clause_type</td>\n",
       "      <td>None</td>\n",
       "      <td>words</td>\n",
       "      <td>False</td>\n",
       "      <td>3</td>\n",
       "    </tr>\n",
       "  </tbody>\n",
       "</table>\n",
       "<table border=\"1\" class=\"dataframe\">\n",
       "  <thead>\n",
       "    <tr style=\"text-align: right;\">\n",
       "      <th>text</th>\n",
       "      <th>clause_type</th>\n",
       "    </tr>\n",
       "  </thead>\n",
       "  <tbody>\n",
       "    <tr>\n",
       "      <td>['Igaüks', 'on', 'huvitatud', 'sellest', ',']</td>\n",
       "      <td>regular</td>\n",
       "    </tr>\n",
       "    <tr>\n",
       "      <td>[',', 'kes', 'traktori', 'eest', 'miljon', 'krooni', 'lauale', 'laob', ',']</td>\n",
       "      <td>embedded</td>\n",
       "    </tr>\n",
       "    <tr>\n",
       "      <td>['et', 'traktor', 'meenutaks', 'lisavõimaluste', 'poolest', 'võimalikult', 'palj ..., type: &lt;class 'list'&gt;, length: 9</td>\n",
       "      <td>regular</td>\n",
       "    </tr>\n",
       "  </tbody>\n",
       "</table>"
      ],
      "text/plain": [
       "Layer(name='clauses', attributes=('clause_type',), spans=SL[EnvelopingSpan(['Igaüks', 'on', 'huvitatud', 'sellest', ','], [{'clause_type': 'regular'}]),\n",
       "EnvelopingSpan([',', 'kes', 'traktori', 'eest', 'miljon', 'krooni', 'lauale', 'laob', ','], [{'clause_type': 'embedded'}]),\n",
       "EnvelopingSpan(['et', 'traktor', 'meenutaks', 'lisavõimaluste', 'poolest', 'võimalikult', 'palju', 'kosmoselaeva', '.'], [{'clause_type': 'regular'}])])"
      ]
     },
     "execution_count": 21,
     "metadata": {},
     "output_type": "execute_result"
    }
   ],
   "source": [
    "from estnltk import Text\n",
    "\n",
    "text = 'Igaüks, kes traktori eest miljon krooni lauale laob, on huvitatud sellest, '+\\\n",
    "       'et traktor meenutaks lisavõimaluste poolest võimalikult palju kosmoselaeva.'\n",
    "\n",
    "# Osalausestame teksti:\n",
    "text = Text(text).tag_layer(['clauses'])\n",
    "\n",
    "# Kõik osalaused\n",
    "text.clauses"
   ]
  },
  {
   "cell_type": "markdown",
   "metadata": {},
   "source": [
    " * _Tehniline märkus:_ nagu ajaväljendite tuvastaja ja süntaksianalüsaator (Maltparser), nii kasutab ka EstNLTK osalausestaja `java`-t. Seetõttu läheb esmakordsel `tag_layer(['clauses'])` väljakutsel tavaliselt natukene rohkem aega, kuna toimub `java` komponendi initsialiseerimine;"
   ]
  },
  {
   "cell_type": "markdown",
   "metadata": {},
   "source": [
    "Osalausestaja eristab kahte liiki osalauseid:\n",
    "   - `regular` -- tavalised osalaused, mis on tüüpiliselt üksteisest eraldatud koma ja/või sidesõnade (ja, ning, et, sest, kuid vms) abil; eelmises näites on tavalised osalaused \"Igaüks on huvitatud sellest\" ja \"et traktor meenutaks lisavõimaluste poolest võimalikult palju kosmoselaeva.\" ;\n",
    "   - `embedded` -- kiillaused, mis on sisestatud mingi lause või osalause sisse ning jagavad selle kaheks tükiks\\*; eelmises näites: \"kes traktori eest miljon krooni lauale laob\" on kiillause lause \"Igaüks on huvitatud sellest\" sees; \n",
    "     \n",
    "     \\* NB! Osalausestaja kiillausete käsitlus ei ühti eesti keele traditsiooniliste grammatikakirjelduste EKG II ja [EKK](http://www.eki.ee/books/ekk09/index.php?id=482&p=5&p1=3) kiillausete definitsiooniga. Milliseid süntaktilisi üksusi ja miks osalausestajas kiillauseteks nimetatakse, seda selgitab detailsemalt programmi kirjeldav [Kaalepi ja Muischneki artikkel]( http://arhiiv.rakenduslingvistika.ee/ajakirjad/index.php/aastaraamat/article/view/ERYa8.04)"
   ]
  },
  {
   "cell_type": "markdown",
   "metadata": {},
   "source": [
    "Milleks on osalausete tuvastajat tarvis? Osalausestatud tekstide peal on võimalik uurida mitmeid keelenähtuseid, mida automaatne  süntaksianalüüs veel lahendada ei oska või mille lahendus vajab täiustamist. \n",
    "\n",
    "Üheks selliseks keelenähtuseks on _kollokatsioonid_ ehk sõnade koosesinemised, millega sageli kaasneb ka eraldiseisev/metafoorne tähendus ( nt \"hea seisma\", \"hambasse puhuma\", \"õppust võtma\" ). Kollokatsioonide automaatne tuvastamine nõuab kõigepealt, et piiritleme konteksti, mille seest kollokatsioonikandidaate otsime. Kui kontekstiks valida terve lause, siis liitlausete puhul jääb sõelale üksjagu \"prahti\" ehk siis selliseid sõnapaare, mis ületavad osalausepiire ning ei saa olla kollokatsioonid. Seega saab osalausestamise tulemust aluseks võttes leida täpsemad kollokatsioonikandidaadid.\n",
    "\n",
    "Teiseks keelenähtuseks on sõnadevahelised _rektsiooniseosed_ ehk süntaksiseosed, kus üks sõna määrab teise olemasolu ja vormi lauses. Näiteks, verb 'hoolima' tingib sageli seestütlevas käändes sõna esinemise lauses ( \"Kas sa hoolid **temast** ?\" ) ning verb 'tutvustama' osastavas ja alaleütlevas käändes sõnad ( \"Konsul tutvustab **kuurorti** ka oma **kaasmaalastele**.\" ). Ka rektsiooniseoste uurimisel aitab osalausestamine täpsemalt piiritleda konteksti, mille sees seosed võivad sõnade vahel esineda (rektsiooniseosed tüüpiliselt ei ületa osalausepiire), ning seega parandada analüüsi kvaliteeti."
   ]
  },
  {
   "cell_type": "markdown",
   "metadata": {},
   "source": [
    "<div class=\"alert alert-block alert-warning\">\n",
    "<h4><i>Kuidas itereerida üle lünkadega märgenduste?</i></h4>\n",
    "<br>\n",
    "Osalausestuse puhul on tegemist nn lünkadega märgendusega -- kui ülem-osalause sees on kiillause, siis sisuliselt on seal keset osalauset lünk. \n",
    "Lünkadega märgenduse puhul tuleb aga arvestada sellega, et <code>clause.enclosing_text</code> ja funktsioon <code>split_by('clauses')</code> ei tööta korrektselt: kiillaused jäetakse ülem-osalausete seest välja võtmata.\n",
    "Kuidas probleemist üle saab?\n",
    "    \n",
    "<ul>\n",
    "<li> <code>clause.enclosing_text</code> asemel saab kasutada:\n",
    "<pre>\n",
    "' '.join([word_span.text for word_span in clause])\n",
    "</pre>\n",
    "( annab ligilähedaselt korrektse tulemuse -- eeldusel, et tühikute arv ja formaat pole olulised )\n",
    "</li>\n",
    "<br>\n",
    "<li> <code>split_by('clauses')</code> asemel saab kasutada kas:\n",
    "<pre>\n",
    "# pöördume otse osalausete kihi poole\n",
    "for clause_spanlist in text.clauses:\n",
    "    print(clause_spanlist.text)\n",
    "    for word_span in clause_spanlist:\n",
    "        # Kuna 'morph_analysis' on 'words' alamkiht, saame selle \n",
    "        # kaudu kätte morf analüüsid, sh sõnaliigid\n",
    "        print('   ', word_span.text,'\\t', word_span.morph_analysis.partofspeech)\n",
    "</pre>\n",
    "või\n",
    "<pre>\n",
    "# grupeerime morfoloogilised analüüsid (ehk siis: sõnad) osalausete kaupa\n",
    "for clause_spanlist in text.morph_analysis.groupby( text.clauses ):\n",
    "    print(clause_spanlist.text)\n",
    "    for morph_span in clause_spanlist:\n",
    "        print('   ',morph_span.text,'\\t',morph_span.partofspeech)\n",
    "</pre>\n",
    "</li>\n",
    "</ul>\n",
    "\n",
    "</div>"
   ]
  },
  {
   "cell_type": "markdown",
   "metadata": {},
   "source": [
    "### Osalausestamine ja komavead\n",
    "\n",
    "Osalausestaja eeldab vaikimisi, et ortograafiareegleid on järgitud täpselt ning komad paiknevad seal, kus nad peaksid olema. Seega, kui analüüsitavast tekstist on mõni osalauseid eraldav koma puudu, siis kannatab ka osalausestamise kvaliteet.\n",
    "\n",
    "Siiski sisaldab osalausestaja ka eksperimentaalset režiimi, mille puhul üritatakse osalausepiire määrata ka siis, kui komad on puudu. \n",
    "Et seda režiimi kasutada, tuleb luua uus osalausestaja (`ClauseSegmenter`), millel on sisse lülitatud komavigade-suhtes-vähetundlikkuse lipp (`ignore_missing_commas=True`):"
   ]
  },
  {
   "cell_type": "code",
   "execution_count": 22,
   "metadata": {
    "scrolled": true
   },
   "outputs": [
    {
     "data": {
      "text/html": [
       "<h4>Layer</h4>\n",
       "\n",
       "\n",
       "<table border=\"1\" class=\"dataframe\">\n",
       "  <thead>\n",
       "    <tr style=\"text-align: right;\">\n",
       "      <th>layer name</th>\n",
       "      <th>attributes</th>\n",
       "      <th>parent</th>\n",
       "      <th>enveloping</th>\n",
       "      <th>ambiguous</th>\n",
       "      <th>span count</th>\n",
       "    </tr>\n",
       "  </thead>\n",
       "  <tbody>\n",
       "    <tr>\n",
       "      <td>clauses_ignore_missing_commas</td>\n",
       "      <td>clause_type</td>\n",
       "      <td>None</td>\n",
       "      <td>words</td>\n",
       "      <td>False</td>\n",
       "      <td>4</td>\n",
       "    </tr>\n",
       "  </tbody>\n",
       "</table>\n",
       "<table border=\"1\" class=\"dataframe\">\n",
       "  <thead>\n",
       "    <tr style=\"text-align: right;\">\n",
       "      <th>text</th>\n",
       "      <th>clause_type</th>\n",
       "    </tr>\n",
       "  </thead>\n",
       "  <tbody>\n",
       "    <tr>\n",
       "      <td>['Keegi', 'teine', 'ka', 'siin', 'ju', 'kirjutas']</td>\n",
       "      <td>regular</td>\n",
       "    </tr>\n",
       "    <tr>\n",
       "      <td>['et', 'ütles']</td>\n",
       "      <td>regular</td>\n",
       "    </tr>\n",
       "    <tr>\n",
       "      <td>['et', 'saab', 'ise', 'asjadele', 'järgi', 'minna']</td>\n",
       "      <td>regular</td>\n",
       "    </tr>\n",
       "    <tr>\n",
       "      <td>['aga', 'vastust', 'seepeale', 'ei', 'tulnudki', '.']</td>\n",
       "      <td>regular</td>\n",
       "    </tr>\n",
       "  </tbody>\n",
       "</table>"
      ],
      "text/plain": [
       "Layer(name='clauses_ignore_missing_commas', attributes=('clause_type',), spans=SL[EnvelopingSpan(['Keegi', 'teine', 'ka', 'siin', 'ju', 'kirjutas'], [{'clause_type': 'regular'}]),\n",
       "EnvelopingSpan(['et', 'ütles'], [{'clause_type': 'regular'}]),\n",
       "EnvelopingSpan(['et', 'saab', 'ise', 'asjadele', 'järgi', 'minna'], [{'clause_type': 'regular'}]),\n",
       "EnvelopingSpan(['aga', 'vastust', 'seepeale', 'ei', 'tulnudki', '.'], [{'clause_type': 'regular'}])])"
      ]
     },
     "execution_count": 22,
     "metadata": {},
     "output_type": "execute_result"
    }
   ],
   "source": [
    "from estnltk import Text\n",
    "from estnltk.taggers import ClauseSegmenter\n",
    "\n",
    "# Tekitame komavigade-suhtes-vähetundliku osalausestaja\n",
    "# Muudame väljundkihi nime nii, et see oleks eristatav tavalisest osalausete kihist\n",
    "new_segmenter = ClauseSegmenter( output_layer='clauses_ignore_missing_commas', \n",
    "                                 ignore_missing_commas=True )\n",
    "\n",
    "# Tekitame analüüsitava näidisteksti\n",
    "text = Text('Keegi teine ka siin ju kirjutas et ütles et saab ise asjadele järgi minna '+\\\n",
    "            'aga vastust seepeale ei tulnudki.')\n",
    "# Lisame nõutud sisendkihid\n",
    "text.tag_layer(['words','sentences','morph_analysis'])\n",
    "\n",
    "# Lisame osalausete märgenduse ja uurime tulemusi\n",
    "new_segmenter.tag(text)\n",
    "text['clauses_ignore_missing_commas']"
   ]
  },
  {
   "cell_type": "code",
   "execution_count": 23,
   "metadata": {},
   "outputs": [
    {
     "data": {
      "text/html": [
       "<h4>Layer</h4>\n",
       "\n",
       "\n",
       "<table border=\"1\" class=\"dataframe\">\n",
       "  <thead>\n",
       "    <tr style=\"text-align: right;\">\n",
       "      <th>layer name</th>\n",
       "      <th>attributes</th>\n",
       "      <th>parent</th>\n",
       "      <th>enveloping</th>\n",
       "      <th>ambiguous</th>\n",
       "      <th>span count</th>\n",
       "    </tr>\n",
       "  </thead>\n",
       "  <tbody>\n",
       "    <tr>\n",
       "      <td>clauses</td>\n",
       "      <td>clause_type</td>\n",
       "      <td>None</td>\n",
       "      <td>words</td>\n",
       "      <td>False</td>\n",
       "      <td>1</td>\n",
       "    </tr>\n",
       "  </tbody>\n",
       "</table>\n",
       "<table border=\"1\" class=\"dataframe\">\n",
       "  <thead>\n",
       "    <tr style=\"text-align: right;\">\n",
       "      <th>text</th>\n",
       "      <th>clause_type</th>\n",
       "    </tr>\n",
       "  </thead>\n",
       "  <tbody>\n",
       "    <tr>\n",
       "      <td>['Keegi', 'teine', 'ka', 'siin', 'ju', 'kirjutas', 'et', 'ütles', 'et', 'saab',  ..., type: &lt;class 'list'&gt;, length: 20</td>\n",
       "      <td>regular</td>\n",
       "    </tr>\n",
       "  </tbody>\n",
       "</table>"
      ],
      "text/plain": [
       "Layer(name='clauses', attributes=('clause_type',), spans=SL[EnvelopingSpan(['Keegi', 'teine', 'ka', 'siin', 'ju', 'kirjutas', 'et', 'ütles', 'et', 'saab', 'ise', 'asjadele', 'järgi', 'minna', 'aga', 'vastust', 'seepeale', 'ei', 'tulnudki', '.'], [{'clause_type': 'regular'}])])"
      ]
     },
     "execution_count": 23,
     "metadata": {},
     "output_type": "execute_result"
    }
   ],
   "source": [
    "# Võrdleme tulemust ka tavalise osalausete kihiga\n",
    "text.tag_layer(['clauses'])\n",
    "text['clauses']"
   ]
  },
  {
   "cell_type": "markdown",
   "metadata": {},
   "source": [
    "Lisainformatsiooni osalausestaja kohta vt [EstNLTK dokumentatsioonist](https://github.com/estnltk/estnltk/blob/version_1.6/tutorials/nlp_pipeline/B_09_clause_segmenter.ipynb)."
   ]
  },
  {
   "cell_type": "markdown",
   "metadata": {},
   "source": [
    "### Ülesanne 3. Võimalike komavigade tuvastamine (2 p)\n",
    "\n",
    "Proovime nüüd kasutada osalausestajat komavigade tuvastamiseks. \n",
    "\n",
    "Loo märgendaja (`Tagger` alamklass), mis märgendab tekstis puuduvaid komasid. \n",
    "Ehk: märgendab sõnu, mille eest on koma puudu. \n",
    "Märgendaja sisendkihtideks (`input_layers`) peaks olema kõik need kihid, mis on `ClauseSegmenter`-i sisendkihtideks, pluss tavaline osalausete kiht (`'clauses'`).\n",
    "Konstruktoris tuleb luua komavigade-suhtes-vähetundlik `ClauseSegmenter` ning salvestada isendimuutujaks.\n",
    "\n",
    "Kihi tekitamine. Meetodis `_make_layer` luuakse kõigepealt uus kiht, millel atribuute ei ole. \n",
    "Seejärel kasutatakse komavigade-suhtes-vähetundlikku `ClauseSegmenter`-it, et luua sisendtekstile alternatiivne osalausete kiht. Kiht tuleks luua osalausestaja meetodi `make_layer` (NB! ilma alakriipsuta alguses) abil ehk siis tekkima peaks _eraldatud osalausete kiht_ .\n",
    "Edasi tuleb võrrelda kaht osalausete kihti: tavalist `'clauses'` kihti ja komavigade-suhtes-vähetundliku osalausestaja kihti.\n",
    "Kui komavigade-suhtes-vähetundlik osalausestaja tekitas osalause, mille alguspositsioon (`start`) ei lange kokku ühegi tavalise osalause alguspositsiooniga, siis on tõenäoliselt tegemist osalausega, mille ees peaks olema koma, ning märgendada tulebki sellise osalause esimene sõna.\n",
    "\n",
    "Märgendaja testimise hõlbustamiseks on hea leitud komavigade arv salvestada ka märgenduskihi atribuudi `.meta` alla.\n",
    "\n",
    "Testimine. Rakenda puuduvate komade tuvastajat failil `'foorumid_xml/Turg_valiidne.xml'` ning leia foorumiteema, mille postitustes oli kõige rohkem potentsiaalseid komavigasid.\n",
    "Kuna meid seekord ei huvita postitajate nimed, vaid ainult postituste sisu, siis saab faili avamiseks ja üle teemade itereerimiseks kasutada [EstNLTK TEI korpuse sisselugemise vahendeid](https://github.com/estnltk/estnltk/blob/version_1.6/tutorials/corpus_processing/importing_text_objects_from_corpora.ipynb).\n",
    "Täpsemalt siis funktsioone `get_div_target()` ja `parse_tei_corpus()`.\n",
    "Tulemusena kuva kõige rohkem potentsiaalseid komavigu sisaldanud teema sisu, milles on ära märgitud puuduvate komadega sõnad (kasuta nt kihi `display()` meetodit).\n"
   ]
  },
  {
   "cell_type": "markdown",
   "metadata": {},
   "source": [
    "---"
   ]
  }
 ],
 "metadata": {
  "anaconda-cloud": {},
  "kernelspec": {
   "display_name": "Python 3",
   "language": "python",
   "name": "python3"
  },
  "language_info": {
   "codemirror_mode": {
    "name": "ipython",
    "version": 3
   },
   "file_extension": ".py",
   "mimetype": "text/x-python",
   "name": "python",
   "nbconvert_exporter": "python",
   "pygments_lexer": "ipython3",
   "version": "3.6.10"
  }
 },
 "nbformat": 4,
 "nbformat_minor": 1
}
