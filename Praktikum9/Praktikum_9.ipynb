{
 "cells": [
  {
   "cell_type": "markdown",
   "metadata": {},
   "source": [
    "<h1 style=\"color:blue\">Praktikum 9</h1>\n",
    "<h3 style=\"color:blue\">Tekstitöötluse koodi pakendamine märgendajate abil. <br> Osalausestamine</h3>\n",
    "\n",
    "Käesolevas praktikumis vaatame, kuidas oma tekstitöötluse koodi \"pakendada\" EstNLTK märgendaja kujule. Lingvistilise analüüsi poole pealt uurime osalausete tuvastajat ja selle kasutusvõimalusi."
   ]
  },
  {
   "cell_type": "markdown",
   "metadata": {},
   "source": [
    "## Märgendajate loomine\n",
    "\n",
    "Selleks, et tekstianalüüsi kood oleks paremini hallatav, taaskasutatav ja teistega jagatav, on mõistlik järgida koodi ülesehitamisel kindlaid printsiipe. \n",
    "Näiteks tekstianalüüsi sisend ja väljund peaksid olema selgelt defineeritud -- eriti sellisel juhul, kui analüüsil on sõltuvused ning enne analüüsi teostamist tuleb tekitada mitmed teised analüüsid. \n",
    "Samuti peaks olema võimalik analüüse ja vaheetappe salvestada ning taastada failist (või andmebaasist). \n",
    "Seetõttu pakubki EstNLTK välja programmeerimisliidese tekstitöötluse koodi \"pakendamiseks\" -- teksti analüüsi teostab märgendaja (`Tagger`) ning analüüsi tulemuseks on märgenduskiht (`Layer`). \n",
    "Enamus tekstianalüüsi komponente, millega me seni oleme kokku puutunud (nt teksti lausestaja ja sõnestaja, morfoloogiline analüsaator, nimeüksuste tuvastaja jne), ongi loodud kui `Tagger`-id, mis opereerivad `Layer` objektidega.\n",
    "\n",
    "Tekstianalüüsi pakendamine `Tagger` ja `Layer` abil tagab, et:\n",
    "\n",
    "* märgenduskihtide loomisel teostatakse eel- ja järelkontrolli ning tänu sellele järgivad andmed ühtset struktuuri;\n",
    "* märgendajate konfiguratsiooni ja märgenduskihte saab visualiseerida Jupyter Notebook'is;\n",
    "* märgenduskihte saab salvestada JSON kujul failidesse / lugeda failidest;\n",
    "* märgenduskihte saab salvestada vabavaralisse [Postgresql andmebaasi](https://github.com/estnltk/estnltk/tree/main/tutorials/storage) / lugeda andmebaasist. See muutub eriti kasulikuks suurte tekstimassivide töötlemisel;\n",
    "\n",
    "\n",
    "Selleks, et luua ise märgendajaid ja märgenduskihte, tuleb natukene kursis olla ka Pythoni objekt-orienteeritud poolega -- hea on omada algteadmisi klasside ja objektide loomise kohta, samuti võiks tunda põhimõisteid. \n",
    "Kui vajad selles osas teadmiste uuendamist, vaata enne edasilugemist üle \"Lisamaterjal: Sissejuhatus objekt-orienteeritud programmeerimisse\".\n",
    "Samuti on soovitav kõrvale lahti võtta Moodle's olev \"EstNLTK baastarkuste materjal\", kus on detailsemalt käsitletud kihtide ja märgendajate loomist. "
   ]
  },
  {
   "cell_type": "markdown",
   "metadata": {},
   "source": [
    "---"
   ]
  },
  {
   "cell_type": "markdown",
   "metadata": {},
   "source": [
    "Vaatame nüüd märgendaja loomist lähemalt. Olgu eesmärgiks luua märgendaja, mis tuvastab tekstis tsitaadid ehk jutumärkide vahelised tekstilõigud. \n",
    "Näidistekst märgendaja katsetamiseks:"
   ]
  },
  {
   "cell_type": "code",
   "execution_count": 1,
   "metadata": {
    "scrolled": true
   },
   "outputs": [],
   "source": [
    "text_str = '''\n",
    "Mees helistab arvutiabi telefonile ja kurdab: \"Mu arvutil läks pilt eest ära!\"\n",
    "\"Vaadake, kas kõik juhtmed on sees!\" ütleb spetsialist.\n",
    "\"Ei saa, pime on!\" ütleb hädaline.\n",
    "\"Pange siis tuli põlema.\"\n",
    "\"Ei saa, elektrit ei ole!\"\n",
    "'''"
   ]
  },
  {
   "cell_type": "markdown",
   "metadata": {},
   "source": [
    "#### Märgenduskihi tekitamine\n",
    "\n",
    "Sisuliselt toimub märgendaja sees märgenduskihi ehk `Layer` objekti tekitamine. \n",
    "Kõigepealt vaatame, kuidas käib kihi tekitamine eraldiseisvalt (st ilma märgendajata).\n",
    "Selleks võtame kasutusele regulaaravaldise, mis tuvastab tekstist jutumärkidega ümbritsetud lõike.\n",
    "Leiame iga lõigu alguse, lõpu ning tekstisisu:"
   ]
  },
  {
   "cell_type": "code",
   "execution_count": 2,
   "metadata": {
    "scrolled": true
   },
   "outputs": [
    {
     "name": "stdout",
     "output_type": "stream",
     "text": [
      "47 79 \"Mu arvutil läks pilt eest ära!\"\n",
      "80 116 \"Vaadake, kas kõik juhtmed on sees!\"\n",
      "136 154 \"Ei saa, pime on!\"\n",
      "171 196 \"Pange siis tuli põlema.\"\n",
      "197 223 \"Ei saa, elektrit ei ole!\"\n"
     ]
    }
   ],
   "source": [
    "import re\n",
    "quotations_regexp = re.compile('(\"[^\"]+\")')\n",
    "for match_obj in list( quotations_regexp.finditer( text_str ) ):\n",
    "    print( match_obj.start(1),   # lõigu algus\n",
    "           match_obj.end(1),     # lõigu lõpp\n",
    "           match_obj.group(1) )  # lõigu sisu (sõne)"
   ]
  },
  {
   "cell_type": "markdown",
   "metadata": {},
   "source": [
    "Edasi loome näidisteksi põhjal uue `Text` objekti ning seejärel ka uue märgenduskihi ehk `Layer` objekti:"
   ]
  },
  {
   "cell_type": "code",
   "execution_count": 3,
   "metadata": {
    "scrolled": true
   },
   "outputs": [],
   "source": [
    "from estnltk import Text, Layer"
   ]
  },
  {
   "cell_type": "code",
   "execution_count": 4,
   "metadata": {},
   "outputs": [
    {
     "data": {
      "text/html": [
       "<table border=\"1\" class=\"dataframe\">\n",
       "  <thead>\n",
       "    <tr style=\"text-align: right;\">\n",
       "      <th>text</th>\n",
       "    </tr>\n",
       "  </thead>\n",
       "  <tbody>\n",
       "    <tr>\n",
       "      <td><div align = \"left\"></br>Mees helistab arvutiabi telefonile ja kurdab: &quot;Mu arvutil läks pilt eest ära!&quot;</br>&quot;Vaadake, kas kõik juhtmed on sees!&quot; ütleb spetsialist.</br>&quot;Ei saa, pime on!&quot; ütleb hädaline.</br>&quot;Pange siis tuli põlema.&quot;</br>&quot;Ei saa, elektrit ei ole!&quot;</br></div></td>\n",
       "    </tr>\n",
       "  </tbody>\n",
       "</table>"
      ],
      "text/plain": [
       "Text(text='\\nMees helistab arvutiabi telefonile ja kurdab: \"Mu arvutil läks pilt eest ära!\"\\n\"Vaadake, kas kõik juhtmed on sees!\" ütleb spetsialist.\\n\"Ei saa, pime on!\" ütleb hädaline.\\n\"Pange siis tuli põlema.\"\\n\"Ei saa, elektrit ei ole!\"\\n')"
      ]
     },
     "execution_count": 4,
     "metadata": {},
     "output_type": "execute_result"
    }
   ],
   "source": [
    "text_obj = Text( text_str )\n",
    "text_obj"
   ]
  },
  {
   "cell_type": "code",
   "execution_count": 5,
   "metadata": {},
   "outputs": [],
   "source": [
    "layer = Layer(name='quotations', attributes=(), text_object=text_obj)\n",
    "layer.meta['allikas'] = 'anekdoot'"
   ]
  },
  {
   "cell_type": "markdown",
   "metadata": {},
   "source": [
    "Kihi nimeks sai `'quotations'` ja atribuute kihil esialgu ei ole. Küll aga andsime kihile edasi info selle kohta, milline on kihile vastav tekst (`text_object=text_obj`). NB! Kui `text_object` jääb määramata, siis saab kihile küll märgendusi lisada, aga pole võimalik kuvada selle tekstilist sisu (st seda, millised märgendused millist tekstifragmenti katavad).\n",
    "\n",
    "Nagu `Text` objektile, nii on ka kihile võimalik kaasa anda meta-andmeid atribuudi `.meta` abil (mis on sisuliselt sõnastik).\n",
    "\n",
    "Esialgu on loodud kiht tühi:"
   ]
  },
  {
   "cell_type": "code",
   "execution_count": 6,
   "metadata": {},
   "outputs": [
    {
     "data": {
      "text/html": [
       "<h4>Layer</h4>\n",
       "<h4>Metadata</h4>\n",
       "<table border=\"1\" class=\"dataframe\">\n",
       "  <tbody>\n",
       "    <tr>\n",
       "      <td>allikas</td>\n",
       "      <td>anekdoot</td>\n",
       "    </tr>\n",
       "  </tbody>\n",
       "</table>\n",
       "\n",
       "<table border=\"1\" class=\"dataframe\">\n",
       "  <thead>\n",
       "    <tr style=\"text-align: right;\">\n",
       "      <th>layer name</th>\n",
       "      <th>attributes</th>\n",
       "      <th>parent</th>\n",
       "      <th>enveloping</th>\n",
       "      <th>ambiguous</th>\n",
       "      <th>span count</th>\n",
       "    </tr>\n",
       "  </thead>\n",
       "  <tbody>\n",
       "    <tr>\n",
       "      <td>quotations</td>\n",
       "      <td></td>\n",
       "      <td>None</td>\n",
       "      <td>None</td>\n",
       "      <td>False</td>\n",
       "      <td>0</td>\n",
       "    </tr>\n",
       "  </tbody>\n",
       "</table>\n",
       "<table border=\"1\" class=\"dataframe\">\n",
       "  <thead>\n",
       "    <tr style=\"text-align: right;\">\n",
       "      <th>text</th>\n",
       "    </tr>\n",
       "  </thead>\n",
       "  <tbody>\n",
       "  </tbody>\n",
       "</table>"
      ],
      "text/plain": [
       "Layer(name='quotations', attributes=(), spans=SL[])"
      ]
     },
     "execution_count": 6,
     "metadata": {},
     "output_type": "execute_result"
    }
   ],
   "source": [
    "layer"
   ]
  },
  {
   "cell_type": "markdown",
   "metadata": {},
   "source": [
    "Kasutame nüüd jälle [finditer](https://docs.python.org/3.8/library/re.html#re.finditer) meetodit, et leida tekstist kõik jutumärkide-vahelised lõigud, võtame välja lõikude asukohad (algus ja lõpp-indeksid) ning lisame kihile `add_annotation` meetodi abil. Tulemuseks ongi märgendustega kiht:"
   ]
  },
  {
   "cell_type": "code",
   "execution_count": 7,
   "metadata": {
    "scrolled": true
   },
   "outputs": [],
   "source": [
    "for match_obj in quotations_regexp.finditer( text_obj.text ):\n",
    "    quotation_start = match_obj.start(1)\n",
    "    quotation_end   = match_obj.end(1)\n",
    "    layer.add_annotation( (quotation_start, quotation_end) )"
   ]
  },
  {
   "cell_type": "code",
   "execution_count": 8,
   "metadata": {},
   "outputs": [
    {
     "data": {
      "text/html": [
       "<h4>Layer</h4>\n",
       "<h4>Metadata</h4>\n",
       "<table border=\"1\" class=\"dataframe\">\n",
       "  <tbody>\n",
       "    <tr>\n",
       "      <td>allikas</td>\n",
       "      <td>anekdoot</td>\n",
       "    </tr>\n",
       "  </tbody>\n",
       "</table>\n",
       "\n",
       "<table border=\"1\" class=\"dataframe\">\n",
       "  <thead>\n",
       "    <tr style=\"text-align: right;\">\n",
       "      <th>layer name</th>\n",
       "      <th>attributes</th>\n",
       "      <th>parent</th>\n",
       "      <th>enveloping</th>\n",
       "      <th>ambiguous</th>\n",
       "      <th>span count</th>\n",
       "    </tr>\n",
       "  </thead>\n",
       "  <tbody>\n",
       "    <tr>\n",
       "      <td>quotations</td>\n",
       "      <td></td>\n",
       "      <td>None</td>\n",
       "      <td>None</td>\n",
       "      <td>False</td>\n",
       "      <td>5</td>\n",
       "    </tr>\n",
       "  </tbody>\n",
       "</table>\n",
       "<table border=\"1\" class=\"dataframe\">\n",
       "  <thead>\n",
       "    <tr style=\"text-align: right;\">\n",
       "      <th>text</th>\n",
       "    </tr>\n",
       "  </thead>\n",
       "  <tbody>\n",
       "    <tr>\n",
       "      <td>\"Mu arvutil läks pilt eest ära!\"</td>\n",
       "    </tr>\n",
       "    <tr>\n",
       "      <td>\"Vaadake, kas kõik juhtmed on sees!\"</td>\n",
       "    </tr>\n",
       "    <tr>\n",
       "      <td>\"Ei saa, pime on!\"</td>\n",
       "    </tr>\n",
       "    <tr>\n",
       "      <td>\"Pange siis tuli põlema.\"</td>\n",
       "    </tr>\n",
       "    <tr>\n",
       "      <td>\"Ei saa, elektrit ei ole!\"</td>\n",
       "    </tr>\n",
       "  </tbody>\n",
       "</table>"
      ],
      "text/plain": [
       "Layer(name='quotations', attributes=(), spans=SL[Span('\"Mu arvutil läks pilt eest ära!\"', [{}]),\n",
       "Span('\"Vaadake, kas kõik juhtmed on sees!\"', [{}]),\n",
       "Span('\"Ei saa, pime on!\"', [{}]),\n",
       "Span('\"Pange siis tuli põlema.\"', [{}]),\n",
       "Span('\"Ei saa, elektrit ei ole!\"', [{}])])"
      ]
     },
     "execution_count": 8,
     "metadata": {},
     "output_type": "execute_result"
    }
   ],
   "source": [
    "layer"
   ]
  },
  {
   "cell_type": "markdown",
   "metadata": {},
   "source": [
    "Rohkem infot märgenduskihtide loomise kohta (kuidas luua eri tüüpi kihte: alamkihte, mitmeseid kihte ja ümbriskihte) leiad _estnltk baastarkuste materjalist_ ."
   ]
  },
  {
   "cell_type": "markdown",
   "metadata": {},
   "source": [
    "#### Märgendaja loomine\n",
    "\n",
    "Objekt-orienteeritud disainipõhimõtet järgides peaks ka `Layer` objekt loodama mingi klassi/objekti sees. EstNLTK-s ongi selleks puhuks märgendaja ehk `Tagger` klass. \n",
    "\n",
    "Märgendaja loomiseks tuleb tekitada `estnltk.taggers.Tagger`-i alamklass ning defineerida:\n",
    "  * klassimuutuja `conf_param`, mis sisaldab märgendaja konfiguratsiooni;\n",
    "  * konstruktor `__init__`, mille ülesanne on algseadistada märgendaja (ja vajadusel laadida sisse tööks vajalikud ressursid);\n",
    "  * `_make_layer_template` meetod, mis tekitab ja tagastab tühja kihi ( nn _kihi malli_ ), kus atribuudid on määratud vastavalt märgendaja algseadistusele;\n",
    "  * `_make_layer` meetod, mille ülesanne on tekitada ( `_make_layer_template` abil) uus märgeduskiht, täita see andmetega ning tagastada;"
   ]
  },
  {
   "cell_type": "markdown",
   "metadata": {},
   "source": [
    "<div class=\"alert alert-block alert-warning\">\n",
    "<h4><i>Aga kuidas see kõik kokku käib? ( veel tehnilisem jutt )</i></h4>\n",
    "<br>\n",
    "Seni oleme teksti märgendamiseks kasutanud <code>tag</code> meetodit, mille rakendamisel toimub aga \"taustal\" veel 3 meetodi rakendamine. \n",
    "Nendeks meetoditeks on (väljakutsumise järjekorras): <code>make_layer</code> =><code>_make_layer</code> => <code>_make_layer_template</code>. \n",
    "Kõik need meetodid panustavad <code>Layer</code> objekti loomisesse.\n",
    "    \n",
    "<code>Tagger</code>-i <code>tag</code> meetodis kutsutakse kihi loomiseks välja meetod <code>make_layer</code> ning kui kihi loomine õnnestub, riputatakse see <code>Text</code> objekti külge. \n",
    "    \n",
    "Ka meetod <code>make_layer</code> (NB! ilma alakriipsuta alguses) ei tegele ise kihi tekitamisega, vaid kontrollib enne kihi tekitamist, kas kõik kihi loomiseks vajalikud sisendkihid on olemas, seejärel kutsub kihi tekitamiseks välja <code>Tagger</code>-i meetodi <code>_make_layer</code> ning kõige lõpus kontrollib, kas loodud kiht on valiidse struktuuriga (nt sisaldab deklareeritud atribuute).\n",
    "\n",
    "Meetod <code>_make_layer</code> kutsub omakorda välja <code>_make_layer_template</code>-i, et tekitada uus märgendaja algseadistusele vastav kiht, täidab kihi andmetega ning tagastab selle. \n",
    "\n",
    "Meetodid <code>tag</code> ja <code>make_layer</code> on kõigil märgendajatel ühesugused, neid muuta ega üle defineerida pole tarvis; küll aga tuleb uue <code>Tagger</code>-i loomisel ise implementeerida <code>_make_layer</code> ja <code>_make_layer_template</code>.\n",
    "<br><br>\n",
    "Aga miks on ikkagi kihi loomine jagatud laiali eri meetodite vahel?\n",
    "<br><br>\n",
    "<code>tag</code> ja <code>make_layer</code> eristamine on vajalik selleks, et oleks võimalik luua nii lõppkasutaja jaoks mugavaid <code>Text</code>-iga seotud kihte kui ka nn eraldatud kihte (ingl <i>detached layers</i>), mis pole <code>Text</code>-i alla riputatud. Eraldatud kihte kasutab Postgres andmebaasiliides (kihte saab <code>Text</code>-ist eraldi andmebaasi salvestada) ning neid saab kasutada ka rakendustes, kus kihi loomine on ainult ajutine vahe-etapp -- kui loodud kihilt on informatsioon kätte saadud, pole põhjust seda <code>Text</code>-i külge kinnitada, vaid võib selle ka ära visata (nii hoiab näiteks kokku mäluruumi).\n",
    "<br>\n",
    "<code>make_layer</code> ja <code>_make_layer</code> eristamine võimaldab aga eraldada rutiinsed eel- ja järeltegevused (vajalike sisendkihtide kontroll ja märgenduste valideerimine) otsesest kihi loomisest.\n",
    "<br>\n",
    "<code>_make_layer</code> ja <code>_make_layer_template</code> võimaldavad eristada kihi malli (milline on kihi struktuur?) ning konkreetsete andmetega täidetud kihti. \n",
    "Selline eristus on vajalik Postgres andmebaasiliideses: kõigepealt fikseeritakse \"kihi malli\" abil andmete formaat (luuakse uus tabel), misjärel on võimalik juba konkreetsete andmetega täidetud kihtide salvestamine, mis võib toimuda näiteks paralleeltöötluse võtteid kasutades (st mitu lõime/protsessi võivad parallelselt teostada märgenduskihtide loomist ja salvestamist tabelisse).\n",
    "</div>"
   ]
  },
  {
   "cell_type": "markdown",
   "metadata": {},
   "source": [
    "Vaatame nüüd samm-sammult tsitaatide märgendaja defineerimist.\n",
    "\n",
    "**1)** Impordime vajalikud klassid ning loome `QuotationsTagger`-i, mis on `Tagger`-i alamklass (ülemklassi nimi läheb alamklassi nime järele sulgudesse):\n",
    "```python\n",
    "from estnltk import Text, Layer\n",
    "from estnltk.taggers import Tagger\n",
    "\n",
    "class QuotationsTagger(Tagger):\n",
    "    \"\"\"Tags quotations in Text.\"\"\" \n",
    "    conf_param = ['quotations_regexp']\n",
    "    ...\n",
    "```\n",
    "Kui märgendaja vajab oma tööks mingeid ressursse, siis nende nimed (ehk: vastavate isendimuutujate nimed) tuleb panna klassimuutujasse `conf_param`. Käesoleval juhul paneme sinna `quotations_regexp`, kuna meil on plaanis hoida selle nimega muutujas tsitaate eraldavat regulaaravaldist.\n",
    "\n",
    "**2)** Loome konstruktori, kus on deklareeritud sisendkihid ja väljundkihi nimi, samuti väljundkihi atribuudid ning tööks vajalikud ressursid:\n",
    "```python\n",
    "    ...\n",
    "    def __init__(self, # Väljundkihi nimi muudetavaks:\n",
    "                       output_layer='quotations'):\n",
    "        # sisend-väljundkihid ja atribuudid\n",
    "        self.input_layers = []\n",
    "        self.output_layer = output_layer\n",
    "        self.output_attributes = ['length']\n",
    "        # tööks vajalikud ressursid\n",
    "        self.quotations_regexp = re.compile('(\"[^\"]+\")')\n",
    "    ...\n",
    "```\n",
    "Sisendkihte (`input_layers`) antud juhul pole: regulaaravaldist saame rakendada \"toorel tekstil\", muid kihte tarvis pole. \n",
    "Väljundkihi nimi on vaikimisi `'quotations'`, aga seda saab konstruktori parameetriga muuta. \n",
    "Kui kihi nimi on muudetav, on meil võimalik märgendaja arendust versioneerida, st võime tekitada kihid nimedega `'quotations_v1'`, `'quotations_v2'` jne ning võrrelda neid omavahel.\n",
    "Isendimuutujas `output_attributes` on loetletud väljundkihi atribuudid; käesolevas näites lisame väljundkihile atribuudi `'length'`, kuhu hakkame salvestama tsitaatide (sõnede) pikkuseid. \n",
    "Ning lõpuks kompileerime tsitaate eraldava regulaaravaldise ja riputame isendimuutuja `self.quotations_regexp` alla.\n",
    "\n",
    "**3)** Loome `_make_layer_template` meetodi, mille ülesandeks on luua nn kihi mall (ehk siis tühi märgenduskiht, mis vastab märgendaja algseadistusele):\n",
    "\n",
    "```python\n",
    "    def _make_layer_template(self):\n",
    "        return Layer(name=self.output_layer, attributes=self.output_attributes)\n",
    "```\n",
    "\n",
    "Kihi loomisel kasutame muutujaid `self.output_layer` ja `self.output_attributes`, mis annavad märgendaja konfiguratsiooni. \n",
    "Nii on tagatud, et konfiguratsiooni muutes (nt `output_layer` väärtust muutes) vastaks loodav märgenduskiht konfiguratsioonile. \n",
    "\n",
    "**4)** Loome `_make_layer` meetodi, mille ülesandeks on luua etteantud `Text` objekti põhjal uus märgenduskiht:\n",
    "```python\n",
    "    ...\n",
    "    def _make_layer(self, text, layers, status):\n",
    "        # Loome uue kihi\n",
    "        layer = self._make_layer_template()\n",
    "        layer.text_object = text\n",
    "        # Täidame kihi andmetega\n",
    "        for match in self.quotations_regexp.finditer(text.text):\n",
    "            quotation_start  = match.start(1)\n",
    "            quotation_end    = match.end(1)\n",
    "            annotation       = {'length':quotation_end - quotation_start}\n",
    "            layer.add_annotation( (quotation_start, quotation_end), annotation )\n",
    "        # Tagastame loodud kihi\n",
    "        return layer\n",
    "```\n",
    "Meetod `_make_layer` saab argumentideks märgendatava `text`-i (`Text` objekti), olemasolevate kihtide sõnastiku `layers` (võtmeteks `Text` objekti kihinimed ja väärtusteks neile vastavad kihid) ning sõnastiku `status` (sinna võib salvestada metaandmeid kihi loomise protsessi kohta, _a la_ kas loomine õnnestus või kui palju see aega võttis).\n",
    "\n",
    "Edasi luuakse `_make_layer_template` abil uus (tühi) kiht ning seotakse see ühepoolselt `Text` objektiga. \n",
    "\n",
    "Nagu eelnevas tsitaatide märgendamise näites, nii tuvastame ka nüüd võimalike tsitaatide asukohad [finditer](https://docs.python.org/3.8/library/re.html#re.finditer) abil.\n",
    "Lisaks leiame iga tuvastatud tsitaadi pikkuse (sümbolites) ning paneme sõnastikku `annotation` võtme `'length'` alla.\n",
    "Meetod `add_annotation` võtab 2 sisendargumenti: märgendatav tekstipositsioon `(quotation_start, quotation_end)` ning märgenduse sisu sõnastiku `annotation` kujul -- selle sõnastiku põhjal tekitatakse märgendusele atribuudid. \n",
    "\n",
    "Töö lõpus tagastame loodud kihi.\n",
    "\n",
    "Meetodis `_make_layer`  meil olemasolevate kihtide sõnastikku `layers` vaja ei läinudki, kuna `self.input_layers = []` ehk märgendaja ei nõudnud sisendkihte. \n",
    "Aga kui sisendkihid oleks nõutud, tuleks need sõnastikust välja noppida (nt `input_layer_1 = layers[ self.input_layers[0] ]`, `input_layer_2 = layers[ self.input_layers[1] ]` jne) ning seejärel saaks neid kasutada uue kihi tekitamisel.\n",
    "Oluline on rõhutada, et kõik nõutud kihid tuleb võtta just sõnastikust `layers`, mitte `text`-i alt (nagu seda tehakse tavaliselt). Miks? Märgendajat peab olema võimalik kasutada ka eraldatud kihtide loomiseks ehk siis selliste kihtide loomiseks, millest ükski ei ole veel `text`-i alla riputatud."
   ]
  },
  {
   "cell_type": "markdown",
   "metadata": {},
   "source": [
    "Paneme nüüd `QuotationsTagger`-i koodi kokku üheks klassiks:"
   ]
  },
  {
   "cell_type": "code",
   "execution_count": 9,
   "metadata": {
    "scrolled": true
   },
   "outputs": [],
   "source": [
    "import re\n",
    "\n",
    "from estnltk import Text, Layer\n",
    "from estnltk.taggers import Tagger\n",
    "\n",
    "class QuotationsTagger(Tagger):\n",
    "    \"\"\"Tags quotations in Text.\"\"\" \n",
    "    conf_param = ['quotations_regexp']\n",
    "    \n",
    "    def __init__(self, # Väljundkihi nimi muudetavaks:\n",
    "                       output_layer='quotations'):\n",
    "        # sisend-väljundkihid ja atribuudid\n",
    "        self.input_layers = []\n",
    "        self.output_layer = output_layer\n",
    "        self.output_attributes = ['length']\n",
    "        # tööks vajalikud ressursid\n",
    "        self.quotations_regexp = re.compile('(\"[^\"]+\")')\n",
    "\n",
    "    def _make_layer_template(self):\n",
    "        return Layer(name=self.output_layer, attributes=self.output_attributes)\n",
    "        \n",
    "    def _make_layer(self, text, layers, status):\n",
    "        # Loome uue kihi\n",
    "        layer = self._make_layer_template()\n",
    "        layer.text_object = text\n",
    "        # Täidame kihi andmetega\n",
    "        for match in self.quotations_regexp.finditer(text.text):\n",
    "            quotation_start  = match.start(1)\n",
    "            quotation_end    = match.end(1)\n",
    "            annotation       = {'length':quotation_end - quotation_start}\n",
    "            layer.add_annotation( (quotation_start, quotation_end), annotation )\n",
    "        # Tagastame loodud kihi\n",
    "        return layer"
   ]
  },
  {
   "cell_type": "markdown",
   "metadata": {},
   "source": [
    "Katsetame. Loome uue märgendaja:"
   ]
  },
  {
   "cell_type": "code",
   "execution_count": 10,
   "metadata": {
    "scrolled": true
   },
   "outputs": [
    {
     "data": {
      "text/html": [
       "<h4>Tagger</h4>\n",
       "Tags quotations in Text.\n",
       "<table border=\"1\" class=\"dataframe\">\n",
       "  <thead>\n",
       "    <tr style=\"text-align: right;\">\n",
       "      <th>name</th>\n",
       "      <th>output layer</th>\n",
       "      <th>output attributes</th>\n",
       "      <th>input layers</th>\n",
       "    </tr>\n",
       "  </thead>\n",
       "  <tbody>\n",
       "    <tr>\n",
       "      <td>QuotationsTagger</td>\n",
       "      <td>quotations</td>\n",
       "      <td>('length',)</td>\n",
       "      <td>()</td>\n",
       "    </tr>\n",
       "  </tbody>\n",
       "</table>\n",
       "<h4>Configuration</h4>\n",
       "<table border=\"1\" class=\"dataframe\">\n",
       "  <tbody>\n",
       "    <tr>\n",
       "      <th>quotations_regexp</th>\n",
       "      <td>re.compile('(\"[^\"]+\")')</td>\n",
       "    </tr>\n",
       "  </tbody>\n",
       "</table>"
      ],
      "text/plain": [
       "QuotationsTagger(input_layers=(), output_layer=quotations, output_attributes=('length',), quotations_regexp=re.compile('(\"[^\"]+\")'))"
      ]
     },
     "execution_count": 10,
     "metadata": {},
     "output_type": "execute_result"
    }
   ],
   "source": [
    "quotes_tagger = QuotationsTagger()\n",
    "quotes_tagger"
   ]
  },
  {
   "cell_type": "markdown",
   "metadata": {},
   "source": [
    "Nüüd, kui märgendaja on olemas, saab seda teksti märgendamiseks välja kutsuda kahel viisil. \n",
    "\n",
    "**1)** Meetod `make_layer` tekitab uue kihi ja tagastab selle, aga ei riputa kihti `text`-i külge -- tegemist on nn eraldatud kihiga:"
   ]
  },
  {
   "cell_type": "code",
   "execution_count": 11,
   "metadata": {
    "scrolled": true
   },
   "outputs": [
    {
     "data": {
      "text/html": [
       "<h4>Layer</h4>\n",
       "\n",
       "\n",
       "<table border=\"1\" class=\"dataframe\">\n",
       "  <thead>\n",
       "    <tr style=\"text-align: right;\">\n",
       "      <th>layer name</th>\n",
       "      <th>attributes</th>\n",
       "      <th>parent</th>\n",
       "      <th>enveloping</th>\n",
       "      <th>ambiguous</th>\n",
       "      <th>span count</th>\n",
       "    </tr>\n",
       "  </thead>\n",
       "  <tbody>\n",
       "    <tr>\n",
       "      <td>quotations</td>\n",
       "      <td>length</td>\n",
       "      <td>None</td>\n",
       "      <td>None</td>\n",
       "      <td>False</td>\n",
       "      <td>5</td>\n",
       "    </tr>\n",
       "  </tbody>\n",
       "</table>\n",
       "<table border=\"1\" class=\"dataframe\">\n",
       "  <thead>\n",
       "    <tr style=\"text-align: right;\">\n",
       "      <th>text</th>\n",
       "      <th>length</th>\n",
       "    </tr>\n",
       "  </thead>\n",
       "  <tbody>\n",
       "    <tr>\n",
       "      <td>\"Mu arvutil läks pilt eest ära!\"</td>\n",
       "      <td>32</td>\n",
       "    </tr>\n",
       "    <tr>\n",
       "      <td>\"Vaadake, kas kõik juhtmed on sees!\"</td>\n",
       "      <td>36</td>\n",
       "    </tr>\n",
       "    <tr>\n",
       "      <td>\"Ei saa, pime on!\"</td>\n",
       "      <td>18</td>\n",
       "    </tr>\n",
       "    <tr>\n",
       "      <td>\"Pange siis tuli põlema.\"</td>\n",
       "      <td>25</td>\n",
       "    </tr>\n",
       "    <tr>\n",
       "      <td>\"Ei saa, elektrit ei ole!\"</td>\n",
       "      <td>26</td>\n",
       "    </tr>\n",
       "  </tbody>\n",
       "</table>"
      ],
      "text/plain": [
       "Layer(name='quotations', attributes=('length',), spans=SL[Span('\"Mu arvutil läks pilt eest ära!\"', [{'length': 32}]),\n",
       "Span('\"Vaadake, kas kõik juhtmed on sees!\"', [{'length': 36}]),\n",
       "Span('\"Ei saa, pime on!\"', [{'length': 18}]),\n",
       "Span('\"Pange siis tuli põlema.\"', [{'length': 25}]),\n",
       "Span('\"Ei saa, elektrit ei ole!\"', [{'length': 26}])])"
      ]
     },
     "execution_count": 11,
     "metadata": {},
     "output_type": "execute_result"
    }
   ],
   "source": [
    "text = Text(text_str)\n",
    "quotes_tagger.make_layer(text)"
   ]
  },
  {
   "cell_type": "code",
   "execution_count": 12,
   "metadata": {
    "scrolled": true
   },
   "outputs": [
    {
     "data": {
      "text/plain": [
       "set()"
      ]
     },
     "execution_count": 12,
     "metadata": {},
     "output_type": "execute_result"
    }
   ],
   "source": [
    "# Tekstil pole veel ühtegi kiht\n",
    "text.layers"
   ]
  },
  {
   "cell_type": "markdown",
   "metadata": {},
   "source": [
    "**2)** Meetod `tag` tekitab uue kihi ning tagastab `Text` objekti-i, kuhu kiht on külge riputatud:"
   ]
  },
  {
   "cell_type": "code",
   "execution_count": 13,
   "metadata": {
    "scrolled": true
   },
   "outputs": [
    {
     "data": {
      "text/html": [
       "<table border=\"1\" class=\"dataframe\">\n",
       "  <thead>\n",
       "    <tr style=\"text-align: right;\">\n",
       "      <th>text</th>\n",
       "    </tr>\n",
       "  </thead>\n",
       "  <tbody>\n",
       "    <tr>\n",
       "      <td><div align = \"left\"></br>Mees helistab arvutiabi telefonile ja kurdab: &quot;Mu arvutil läks pilt eest ära!&quot;</br>&quot;Vaadake, kas kõik juhtmed on sees!&quot; ütleb spetsialist.</br>&quot;Ei saa, pime on!&quot; ütleb hädaline.</br>&quot;Pange siis tuli põlema.&quot;</br>&quot;Ei saa, elektrit ei ole!&quot;</br></div></td>\n",
       "    </tr>\n",
       "  </tbody>\n",
       "</table>\n",
       "<table border=\"1\" class=\"dataframe\">\n",
       "  <thead>\n",
       "    <tr style=\"text-align: right;\">\n",
       "      <th>layer name</th>\n",
       "      <th>attributes</th>\n",
       "      <th>parent</th>\n",
       "      <th>enveloping</th>\n",
       "      <th>ambiguous</th>\n",
       "      <th>span count</th>\n",
       "    </tr>\n",
       "  </thead>\n",
       "  <tbody>\n",
       "    <tr>\n",
       "      <td>quotations</td>\n",
       "      <td>length</td>\n",
       "      <td>None</td>\n",
       "      <td>None</td>\n",
       "      <td>False</td>\n",
       "      <td>5</td>\n",
       "    </tr>\n",
       "  </tbody>\n",
       "</table>"
      ],
      "text/plain": [
       "Text(text='\\nMees helistab arvutiabi telefonile ja kurdab: \"Mu arvutil läks pilt eest ära!\"\\n\"Vaadake, kas kõik juhtmed on sees!\" ütleb spetsialist.\\n\"Ei saa, pime on!\" ütleb hädaline.\\n\"Pange siis tuli põlema.\"\\n\"Ei saa, elektrit ei ole!\"\\n')"
      ]
     },
     "execution_count": 13,
     "metadata": {},
     "output_type": "execute_result"
    }
   ],
   "source": [
    "quotes_tagger.tag(text)"
   ]
  },
  {
   "cell_type": "code",
   "execution_count": 14,
   "metadata": {
    "scrolled": true
   },
   "outputs": [
    {
     "data": {
      "text/html": [
       "<script>\n",
       "var elements = document.getElementsByClassName(\"overlapping-span\")\n",
       "for (let i = 0; i < elements.length; i++){\n",
       "    elements.item(i).addEventListener(\"click\",function() {show_conflicting_spans(elements.item(i));})}\n",
       "\n",
       "function show_conflicting_spans(span_element) {\n",
       "    let spantable = document.createElement('div')\n",
       "    spantable.classList.add('tables')\n",
       "\n",
       "    // Prepare the contents of the span table\n",
       "    data = span_element.getAttribute(\"span_info\")\n",
       "    data = data.split(\",\")\n",
       "    var spancontent = '<table>'\n",
       "    for (let row of data) {\n",
       "        spancontent+='<tr><td>'\n",
       "        spancontent+=row\n",
       "        spancontent+='</td></tr>'\n",
       "    }\n",
       "    spancontent += '</table>'\n",
       "    spantable.innerHTML = spancontent\n",
       "    span_element.parentElement.appendChild(spantable)\n",
       "\n",
       "    // Increase the size of the cell so the tables would fit\n",
       "    spantable.parentElement.style.height = Math.max(Number(spantable.parentElement.style.height.substring(0,spantable.parentElement.style.height.length-2)),span_element.offsetTop+90)+ 'px'\n",
       "    // Position the table directly below the corresponding text\n",
       "    spantable.style.left = span_element.getBoundingClientRect().left-spantable.parentElement.parentElement.getBoundingClientRect().left + 'px'\n",
       "    spantable.style.top = span_element.getBoundingClientRect().top-spantable.parentElement.parentElement.getBoundingClientRect().top+20+ 'px'\n",
       "\n",
       "    // Remove the table when clicked on again\n",
       "    spantable.addEventListener('click', function () {\n",
       "        let element = this.parentElement\n",
       "        element.removeChild(this)\n",
       "    })\n",
       "}\n",
       "</script><style>\n",
       ".span {\n",
       "    background-color: yellow;\n",
       "}\n",
       "\n",
       ".overlapping-span {\n",
       "    background-color: red;\n",
       "}\n",
       "\n",
       ".spanline {\n",
       "    background-color: blue;\n",
       "    position: relative;\n",
       "    height: 3px;\n",
       "    margin-left: 0px;\n",
       "}\n",
       "\n",
       ".tables {\n",
       "    position: absolute;\n",
       "    width: fit-content;\n",
       "    width: -moz-fit-content;\n",
       "    border: 1px solid black;\n",
       "}\n",
       "\n",
       ".maintext{0} {\n",
       "    position: relative;\n",
       "}\n",
       "\n",
       ".tables tbody tr:nth-child(even) {\n",
       "    background-color: lightgray;\n",
       "}\n",
       "\n",
       ".tables tbody tr:nth-child(odd) {\n",
       "    background-color: beige;\n",
       "}\n",
       "\n",
       ".tables tbody tr:hover {\n",
       "    background-color: ivory;\n",
       "}\n",
       "</style><br>Mees helistab arvutiabi telefonile ja kurdab: <span style=background:yellow; \">\"Mu arvutil läks pilt eest ära!\"</span><br><span style=background:yellow; \">\"Vaadake, kas kõik juhtmed on sees!\"</span> ütleb spetsialist.<br><span style=background:yellow; \">\"Ei saa, pime on!\"</span> ütleb hädaline.<br><span style=background:yellow; \">\"Pange siis tuli põlema.\"</span><br><span style=background:yellow; \">\"Ei saa, elektrit ei ole!\"</span><br>"
      ]
     },
     "metadata": {},
     "output_type": "display_data"
    }
   ],
   "source": [
    "# uurime külge riputatud kihti\n",
    "text.quotations.display()"
   ]
  },
  {
   "cell_type": "markdown",
   "metadata": {},
   "source": [
    "<div class=\"alert alert-block alert-warning\">\n",
    "<h4><i>Märgendajad vs ümbermärgendajad</i></h4>\n",
    "<ul>\n",
    "<li>Kui <code>Tagger</code> on mõeldud uue kihi tekitamiseks, siis lisaks on olemas veel  <code>Retagger</code>, mis tegeleb olemasoleva kihi muutmise või parandamisega. Näiteks on <code>Retagger</code>-id morfoloogilise analüüsi kihti muutvad <code>VabamorfDisambiguator</code> (lausepõhine ühestaja) ja <code>UserDictTagger</code> (kasutajasõnastikupõhine parandaja). <code>Retagger</code> liides kasutab samu atribuute, mis <code>Tagger</code>, aga meetodite nimed on teistsugused: <code>_make_layer(...)</code> asemel on <code>_change_layer(...)</code>, <code>make_layer(...)</code> asemel <code>change_layer(...)</code> ning <code>tag(...)</code> asemel <code>retag(...)</code>;</li>\n",
    "<li>Detailsemat informatsiooni ja lisanäiteid märgendajate / ümbermärgendajate tekitamise kohta leiad estnltk baastarkuste materjalist.</li>\n",
    "</ul>\n",
    "</div>"
   ]
  },
  {
   "cell_type": "markdown",
   "metadata": {},
   "source": [
    "### Ülesanne 1. Naise- ja mehenimede mainimiste analüüs (4 p)\n",
    "\n",
    "Esimeseks ülesandeks on luua märgendaja (`Tagger` alamklass), mis määrab kõigi isikunimena märgendendatud nimeüksuste soo. \n",
    "Ehk siis: tuvastab, kas tegemist on naise- või mehenimega. \n",
    "Ülesande teises osas tuleb märgendaja abil analüüsida nimede/sugude mainimissagedusi ajakirjanduskorpuses."
   ]
  },
  {
   "cell_type": "markdown",
   "metadata": {},
   "source": [
    "#### 1.1 `NameGenderTagger` (2 p) \n",
    "\n",
    "Loo märgendaja (`Tagger`), mille sisendkihid on _nimeüksuste_ ja _morfoloogiliste analüüside kihid_, ning mis määrab kõigile isikunimena märgendendatud nimeüksustele soo.\n",
    "\n",
    "Ette on antud funktsioon `name_gender_finder`, mis juba teostab nimede soo määramist, kasutades  sugude määramisel Vikipeedia nimeloendeid (pärinevad [siit](https://et.wikipedia.org/wiki/Naisenimede_loend) ja [siit](https://et.wikipedia.org/wiki/Mehenimede_loend)).\n",
    "\n",
    "Eesmärgiks on kirjutada funktsioon ümber EstNLTK `Tagger`-i kujule: märgendaja `__init__` meetodis peab toimuma ressursside (nimeloendite) sisselaadimine ja märgendaja algseadistamine, `_make_layer_template` peab looma tühja algseadistatud kihi ning `_make_layer` peab täitma kihi märgendustega ning tagastama selle."
   ]
  },
  {
   "cell_type": "code",
   "execution_count": 15,
   "metadata": {},
   "outputs": [],
   "source": [
    "def name_gender_finder( text, male_names_file='mehenimed.txt', female_names_file='naisenimed.txt' ):\n",
    "    # kontrollime, kas vajalikud sisendkihid on olemas\n",
    "    assert 'ner' in text.layers, '(!) The input text is missing \"ner\" layer '\n",
    "    assert 'morph_analysis' in text.layers, '(!) The input text is missing \"morph_analysis\" layer '\n",
    "    # loeme sisse nimede loendid\n",
    "    male_names = dict()\n",
    "    with open(male_names_file, 'r', encoding='utf-8') as in_f:\n",
    "        for line in in_f:\n",
    "            line = line.strip()\n",
    "            male_names[line] = 1\n",
    "    female_names = dict()\n",
    "    with open(female_names_file, 'r', encoding='utf-8') as in_f:\n",
    "        for line in in_f:\n",
    "            line = line.strip()\n",
    "            female_names[line] = 1\n",
    "    # Itereerime üle sisendkihtide (nimeüksused ja morf analüüsid)\n",
    "    morph_word_index = 0\n",
    "    morph_layer = text[ 'morph_analysis' ]\n",
    "    for ner_phrase in text[ 'ner' ]:\n",
    "        if ner_phrase.nertag == 'PER' or list(ner_phrase.nertag) == ['PER']:\n",
    "            # Leiame morf analüüside kihi abil nimeüksuse lemmad\n",
    "            phrase_start = ner_phrase.start\n",
    "            phrase_end = ner_phrase.end\n",
    "            phrase_lemmas = []\n",
    "            while morph_word_index < len( morph_layer ):\n",
    "                morph_word = morph_layer[ morph_word_index ]\n",
    "                if phrase_start <= morph_word.start and \\\n",
    "                   morph_word.end <= phrase_end:\n",
    "                    lemmas = list( set(morph_word.lemma) )\n",
    "                    phrase_lemmas.extend( lemmas )\n",
    "                    phrase_lemmas.append( '***' ) # märgime sõnalõpu\n",
    "                elif phrase_end < morph_word.start:\n",
    "                    break\n",
    "                if morph_word.end == phrase_end:\n",
    "                    break\n",
    "                morph_word_index += 1\n",
    "            # Otsustame lemmade põhjal nime soo (vaikimisi on sugu määramata)\n",
    "            gender = 'UNK'\n",
    "            for lemma in phrase_lemmas:\n",
    "                if lemma in male_names:\n",
    "                    gender = 'M'\n",
    "                    if lemma in female_names:\n",
    "                        # ambiguous gender: can be both m/f\n",
    "                        gender = 'AMB'\n",
    "                    break\n",
    "                elif lemma in female_names:\n",
    "                    gender = 'F'\n",
    "                    break\n",
    "                if lemma == '***':\n",
    "                    # Vaatame ainult nime esimest sõna (ehk eesnime)\n",
    "                    break\n",
    "            print(' Leidsin nime: ', text.text[phrase_start:phrase_end], \n",
    "                           ' sugu:', gender)"
   ]
  },
  {
   "cell_type": "code",
   "execution_count": 16,
   "metadata": {},
   "outputs": [
    {
     "name": "stdout",
     "output_type": "stream",
     "text": [
      " Leidsin nime:  Siim Pohlak  sugu: M\n",
      " Leidsin nime:  Kalle Laanet  sugu: M\n",
      " Leidsin nime:  Siim Pohlak  sugu: M\n",
      " Leidsin nime:  Oudekki Loone  sugu: F\n",
      " Leidsin nime:  Siim Pohlaku  sugu: M\n",
      " Leidsin nime:  Kaja Kallas  sugu: F\n"
     ]
    }
   ],
   "source": [
    "# Näide funktsiooni rakendamisest\n",
    "from estnltk import Text\n",
    "from estnltk.taggers import NerTagger\n",
    "ner_tagger = NerTagger()\n",
    "# Loome näidisteksti\n",
    "text = Text('''\n",
    "Siim Pohlak palus riigikogu kõnepuldis elukaaslase kätt\n",
    "\n",
    "Kalle Laanet (Reformierakond): kas ma olen õigesti aru saanud, et teie ei ole abielus ja kui te ei ole abielus, siis miks te ei ole?\n",
    "Siim Pohlak: ma ei tea, kas te rahuldute selle vastusega, et jah, mul on pikalt olnud plaan oma laste ema omale abikaasaks kosida.\n",
    "\n",
    "Oudekki Loone (Keskerakond): kui hakatakse korraldama rahvahääletust, hakatakse tegema kampaaniat. Kuidas referendumite rahastamise kampaaniatega on? Kas sihtasutuste toetused peaks olema valikud? \n",
    "Siim Pohlaku sõnul on seda arutamise koht. \n",
    "\n",
    "Kaja Kallas (Reformierakond): kas on võimalus, et koalitsiooni sõnastus muutub.\n",
    "''').tag_layer()\n",
    "# Märgendame nimeüksused\n",
    "ner_tagger.tag(text)\n",
    "# Määrame nimede soo\n",
    "name_gender_finder( text )"
   ]
  },
  {
   "cell_type": "markdown",
   "metadata": {},
   "source": [
    "Lisaks nimede märgendamisele tuleks kihi ka loendada leitud nimesid ning kihi metaandmete alla salvestada loenduse tulemused. \n",
    "Seega, rakendatuna eelmisel näitetekstil peaks `NameGenderTagger` tekitama taolise kihi:\n",
    "\n",
    "![alt text](valjundikihi_naide.png \"Näide märgendatud kihist\")"
   ]
  },
  {
   "cell_type": "markdown",
   "metadata": {},
   "source": [
    "Maksimumpunktid märgendaja eest saab kui: 1) sisend- ja väljundkihid on korrektselt defineeritud ning kihinimed (konstruktori kaudu) muudetavad; 2) konstruktori kaudu saab määrata ressursifailide nimesid, 3) märgendaja tööks vajalike ressursside ettevalmistus toimub konstruktoris  ning `_make_layer` kasutab märgendamisel juba olemasolevaid ressursse (isendmuutujaid)."
   ]
  },
  {
   "cell_type": "markdown",
   "metadata": {},
   "source": [
    "#### 1.2 Nimede mainimine sugude lõikes ajakirjanduskorpuses (2 p) \n",
    "\n",
    "Rakenda morfoloogilist analüüsi ja `NameGenderTagger`-it kataloogi `'aja_pm_EPL'` ajaleheartiklitel ning leia: 1) kõigi mainitud isikunimede jaotus sugude kaupa; 2) mainitud isikunimede jaotus sugude kaupa rubriikide lõikes. \n",
    "\n",
    "   * **NB!** Korpuses on juba märgendatud nimeüksused (vt kiht nimega `'named_entities_flat'`), seega nimeüksuste kihti uuesti looma ei pea. `NameGenderTagger`-i peaks olema võimalik nii rakendada, et `__init__` meetodi kaudu saab vajadusel ümber muuta nimeüksuste sisendkihi nime;\n",
    "   * Igal artiklil on ka metaandmed; artikli rubriik on metaandmetes võtme `'rubriik'` all;\n",
    "\n",
    "Arutelu (kirjalikud vastused):\n",
    "\n",
    "   * Kui suur on _määramata_ sooga isikunimede osakaal? Kas see mõjutab loendustulemuste usaldusväärsust?\n",
    "    \n",
    "   * Uuri tulemusi detailsemalt ja paku vähemalt üks viis, kuidas saaks sugude määramise funktsionaalsust paremdada?"
   ]
  },
  {
   "cell_type": "markdown",
   "metadata": {},
   "source": [
    "---\n",
    "\n",
    "## Osalausestamine\n",
    "\n",
    "Osalausestaja abil saab pikad ja keeruka struktuuriga laused jagada väiksemateks/lihtsamateks juppideks: osalauseteks. \n",
    "Enamasti ongi osalaused lihtlause-sarnased: sisaldavad ühte peaverbi (finiitverbi) ning sellega süntaktiliselt seotud sõnu. \n",
    "\n",
    "Vaatame üht näidet osalausestaja kasutamise kohta:"
   ]
  },
  {
   "cell_type": "code",
   "execution_count": 17,
   "metadata": {
    "scrolled": true
   },
   "outputs": [
    {
     "data": {
      "text/html": [
       "<h4>Layer</h4>\n",
       "\n",
       "\n",
       "<table border=\"1\" class=\"dataframe\">\n",
       "  <thead>\n",
       "    <tr style=\"text-align: right;\">\n",
       "      <th>layer name</th>\n",
       "      <th>attributes</th>\n",
       "      <th>parent</th>\n",
       "      <th>enveloping</th>\n",
       "      <th>ambiguous</th>\n",
       "      <th>span count</th>\n",
       "    </tr>\n",
       "  </thead>\n",
       "  <tbody>\n",
       "    <tr>\n",
       "      <td>clauses</td>\n",
       "      <td>clause_type</td>\n",
       "      <td>None</td>\n",
       "      <td>words</td>\n",
       "      <td>False</td>\n",
       "      <td>3</td>\n",
       "    </tr>\n",
       "  </tbody>\n",
       "</table>\n",
       "<table border=\"1\" class=\"dataframe\">\n",
       "  <thead>\n",
       "    <tr style=\"text-align: right;\">\n",
       "      <th>text</th>\n",
       "      <th>clause_type</th>\n",
       "    </tr>\n",
       "  </thead>\n",
       "  <tbody>\n",
       "    <tr>\n",
       "      <td>['Igaüks', 'on', 'huvitatud', 'sellest', ',']</td>\n",
       "      <td>regular</td>\n",
       "    </tr>\n",
       "    <tr>\n",
       "      <td>[',', 'kes', 'traktori', 'eest', 'miljon', 'krooni', 'lauale', 'laob', ',']</td>\n",
       "      <td>embedded</td>\n",
       "    </tr>\n",
       "    <tr>\n",
       "      <td>['et', 'traktor', 'meenutaks', 'lisavõimaluste', 'poolest', 'võimalikult', 'palj ..., type: &lt;class 'list'&gt;, length: 9</td>\n",
       "      <td>regular</td>\n",
       "    </tr>\n",
       "  </tbody>\n",
       "</table>"
      ],
      "text/plain": [
       "Layer(name='clauses', attributes=('clause_type',), spans=SL[EnvelopingSpan(['Igaüks', 'on', 'huvitatud', 'sellest', ','], [{'clause_type': 'regular'}]),\n",
       "EnvelopingSpan([',', 'kes', 'traktori', 'eest', 'miljon', 'krooni', 'lauale', 'laob', ','], [{'clause_type': 'embedded'}]),\n",
       "EnvelopingSpan(['et', 'traktor', 'meenutaks', 'lisavõimaluste', 'poolest', 'võimalikult', 'palju', 'kosmoselaeva', '.'], [{'clause_type': 'regular'}])])"
      ]
     },
     "execution_count": 17,
     "metadata": {},
     "output_type": "execute_result"
    }
   ],
   "source": [
    "from estnltk import Text\n",
    "\n",
    "text = 'Igaüks, kes traktori eest miljon krooni lauale laob, on huvitatud sellest, '+\\\n",
    "       'et traktor meenutaks lisavõimaluste poolest võimalikult palju kosmoselaeva.'\n",
    "\n",
    "# Osalausestame teksti:\n",
    "text = Text(text).tag_layer('clauses')\n",
    "\n",
    "# Kõik osalaused\n",
    "text.clauses"
   ]
  },
  {
   "cell_type": "markdown",
   "metadata": {},
   "source": [
    " * _Tehniline märkus:_ nagu ajaväljendite tuvastaja ja süntaksianalüsaator (Maltparser), nii kasutab ka EstNLTK osalausestaja `java`-t. Seetõttu läheb esmakordsel `tag_layer(['clauses'])` väljakutsel tavaliselt natukene rohkem aega, kuna toimub `java` komponendi initsialiseerimine;"
   ]
  },
  {
   "cell_type": "markdown",
   "metadata": {},
   "source": [
    "Osalausestaja eristab kahte liiki osalauseid:\n",
    "   - `regular` -- tavalised osalaused, mis on tüüpiliselt üksteisest eraldatud koma ja/või sidesõnade (ja, ning, et, sest, kuid vms) abil; eelmises näites on tavalised osalaused \"Igaüks on huvitatud sellest\" ja \"et traktor meenutaks lisavõimaluste poolest võimalikult palju kosmoselaeva.\" ;\n",
    "   - `embedded` -- kiillaused, mis on sisestatud mingi lause või osalause sisse ning jagavad selle kaheks tükiks\\*; eelmises näites: \"kes traktori eest miljon krooni lauale laob\" on kiillause lause \"Igaüks on huvitatud sellest\" sees; \n",
    "     \n",
    "     \\* NB! Osalausestaja kiillausete käsitlus ei ühti eesti keele traditsiooniliste grammatikakirjelduste EKG II ja [EKK](http://www.eki.ee/books/ekk09/index.php?id=482&p=5&p1=3) kiillausete definitsiooniga. Milliseid süntaktilisi üksusi ja miks osalausestajas kiillauseteks nimetatakse, seda selgitab detailsemalt programmi kirjeldav [Kaalepi ja Muischneki artikkel]( http://arhiiv.rakenduslingvistika.ee/ajakirjad/index.php/aastaraamat/article/view/ERYa8.04)"
   ]
  },
  {
   "cell_type": "markdown",
   "metadata": {},
   "source": [
    "Milleks on osalausete tuvastajat tarvis? Osalausestatud tekstide peal on võimalik uurida mitmeid keelenähtuseid, mida automaatne  süntaksianalüüs veel lahendada ei oska või mille lahendus vajab täiustamist. \n",
    "\n",
    "Üheks selliseks keelenähtuseks on _kollokatsioonid_ ehk sõnade koosesinemised, millega sageli kaasneb ka eraldiseisev/metafoorne tähendus ( nt \"hea seisma\", \"hambasse puhuma\", \"õppust võtma\" ). Kollokatsioonide automaatne tuvastamine nõuab kõigepealt, et piiritleme konteksti, mille seest kollokatsioonikandidaate otsime. Kui kontekstiks valida terve lause, siis liitlausete puhul jääb sõelale üksjagu \"prahti\" ehk siis selliseid sõnapaare, mis ületavad osalausepiire ning ei saa olla kollokatsioonid. Seega saab osalausestamise tulemust aluseks võttes leida täpsemad kollokatsioonikandidaadid.\n",
    "\n",
    "Teiseks keelenähtuseks on sõnadevahelised _rektsiooniseosed_ ehk süntaksiseosed, kus üks sõna määrab teise olemasolu ja vormi lauses. Näiteks, verb 'hoolima' tingib sageli seestütlevas käändes sõna esinemise lauses ( \"Kas sa hoolid **temast** ?\" ) ning verb 'tutvustama' osastavas ja alaleütlevas käändes sõnad ( \"Konsul tutvustab **kuurorti** ka oma **kaasmaalastele**.\" ). Ka rektsiooniseoste uurimisel aitab osalausestamine täpsemalt piiritleda konteksti, mille sees seosed võivad sõnade vahel esineda (rektsiooniseosed tüüpiliselt ei ületa osalausepiire), ning seega parandada analüüsi kvaliteeti."
   ]
  },
  {
   "cell_type": "markdown",
   "metadata": {},
   "source": [
    "### Osalausestamine ja komavead\n",
    "\n",
    "Osalausestaja eeldab vaikimisi, et ortograafiareegleid on järgitud täpselt ning komad paiknevad seal, kus nad peaksid olema. Seega, kui analüüsitavast tekstist on mõni osalauseid eraldav koma puudu, siis kannatab ka osalausestamise kvaliteet.\n",
    "\n",
    "Siiski sisaldab osalausestaja ka eksperimentaalset režiimi, mille puhul üritatakse osalausepiire määrata ka siis, kui komad on puudu. \n",
    "Et seda režiimi kasutada, tuleb luua uus osalausestaja (`ClauseSegmenter`), millel on sisse lülitatud komavigade-suhtes-vähetundlikkuse lipp (`ignore_missing_commas=True`):"
   ]
  },
  {
   "cell_type": "code",
   "execution_count": 18,
   "metadata": {
    "scrolled": true
   },
   "outputs": [
    {
     "data": {
      "text/html": [
       "<h4>Layer</h4>\n",
       "\n",
       "\n",
       "<table border=\"1\" class=\"dataframe\">\n",
       "  <thead>\n",
       "    <tr style=\"text-align: right;\">\n",
       "      <th>layer name</th>\n",
       "      <th>attributes</th>\n",
       "      <th>parent</th>\n",
       "      <th>enveloping</th>\n",
       "      <th>ambiguous</th>\n",
       "      <th>span count</th>\n",
       "    </tr>\n",
       "  </thead>\n",
       "  <tbody>\n",
       "    <tr>\n",
       "      <td>clauses_ignore_missing_commas</td>\n",
       "      <td>clause_type</td>\n",
       "      <td>None</td>\n",
       "      <td>words</td>\n",
       "      <td>False</td>\n",
       "      <td>4</td>\n",
       "    </tr>\n",
       "  </tbody>\n",
       "</table>\n",
       "<table border=\"1\" class=\"dataframe\">\n",
       "  <thead>\n",
       "    <tr style=\"text-align: right;\">\n",
       "      <th>text</th>\n",
       "      <th>clause_type</th>\n",
       "    </tr>\n",
       "  </thead>\n",
       "  <tbody>\n",
       "    <tr>\n",
       "      <td>['Keegi', 'teine', 'ka', 'siin', 'ju', 'kirjutas']</td>\n",
       "      <td>regular</td>\n",
       "    </tr>\n",
       "    <tr>\n",
       "      <td>['et', 'ütles']</td>\n",
       "      <td>regular</td>\n",
       "    </tr>\n",
       "    <tr>\n",
       "      <td>['et', 'saab', 'ise', 'asjadele', 'järgi', 'minna']</td>\n",
       "      <td>regular</td>\n",
       "    </tr>\n",
       "    <tr>\n",
       "      <td>['aga', 'vastust', 'seepeale', 'ei', 'tulnudki', '.']</td>\n",
       "      <td>regular</td>\n",
       "    </tr>\n",
       "  </tbody>\n",
       "</table>"
      ],
      "text/plain": [
       "Layer(name='clauses_ignore_missing_commas', attributes=('clause_type',), spans=SL[EnvelopingSpan(['Keegi', 'teine', 'ka', 'siin', 'ju', 'kirjutas'], [{'clause_type': 'regular'}]),\n",
       "EnvelopingSpan(['et', 'ütles'], [{'clause_type': 'regular'}]),\n",
       "EnvelopingSpan(['et', 'saab', 'ise', 'asjadele', 'järgi', 'minna'], [{'clause_type': 'regular'}]),\n",
       "EnvelopingSpan(['aga', 'vastust', 'seepeale', 'ei', 'tulnudki', '.'], [{'clause_type': 'regular'}])])"
      ]
     },
     "execution_count": 18,
     "metadata": {},
     "output_type": "execute_result"
    }
   ],
   "source": [
    "from estnltk import Text\n",
    "from estnltk.taggers import ClauseSegmenter\n",
    "\n",
    "# Tekitame komavigade-suhtes-vähetundliku osalausestaja\n",
    "# Muudame väljundkihi nime nii, et see oleks eristatav tavalisest osalausete kihist\n",
    "new_segmenter = ClauseSegmenter( output_layer='clauses_ignore_missing_commas', \n",
    "                                 ignore_missing_commas=True )\n",
    "\n",
    "# Tekitame analüüsitava näidisteksti\n",
    "text = Text('Keegi teine ka siin ju kirjutas et ütles et saab ise asjadele järgi minna '+\\\n",
    "            'aga vastust seepeale ei tulnudki.')\n",
    "# Lisame nõutud sisendkihid\n",
    "text.tag_layer(['words','sentences','morph_analysis'])\n",
    "\n",
    "# Lisame osalausete märgenduse ja uurime tulemusi\n",
    "new_segmenter.tag(text)\n",
    "text['clauses_ignore_missing_commas']"
   ]
  },
  {
   "cell_type": "code",
   "execution_count": 19,
   "metadata": {},
   "outputs": [
    {
     "data": {
      "text/html": [
       "<h4>Layer</h4>\n",
       "\n",
       "\n",
       "<table border=\"1\" class=\"dataframe\">\n",
       "  <thead>\n",
       "    <tr style=\"text-align: right;\">\n",
       "      <th>layer name</th>\n",
       "      <th>attributes</th>\n",
       "      <th>parent</th>\n",
       "      <th>enveloping</th>\n",
       "      <th>ambiguous</th>\n",
       "      <th>span count</th>\n",
       "    </tr>\n",
       "  </thead>\n",
       "  <tbody>\n",
       "    <tr>\n",
       "      <td>clauses</td>\n",
       "      <td>clause_type</td>\n",
       "      <td>None</td>\n",
       "      <td>words</td>\n",
       "      <td>False</td>\n",
       "      <td>1</td>\n",
       "    </tr>\n",
       "  </tbody>\n",
       "</table>\n",
       "<table border=\"1\" class=\"dataframe\">\n",
       "  <thead>\n",
       "    <tr style=\"text-align: right;\">\n",
       "      <th>text</th>\n",
       "      <th>clause_type</th>\n",
       "    </tr>\n",
       "  </thead>\n",
       "  <tbody>\n",
       "    <tr>\n",
       "      <td>['Keegi', 'teine', 'ka', 'siin', 'ju', 'kirjutas', 'et', 'ütles', 'et', 'saab',  ..., type: &lt;class 'list'&gt;, length: 20</td>\n",
       "      <td>regular</td>\n",
       "    </tr>\n",
       "  </tbody>\n",
       "</table>"
      ],
      "text/plain": [
       "Layer(name='clauses', attributes=('clause_type',), spans=SL[EnvelopingSpan(['Keegi', 'teine', 'ka', 'siin', 'ju', 'kirjutas', 'et', 'ütles', 'et', 'saab', 'ise', 'asjadele', 'järgi', 'minna', 'aga', 'vastust', 'seepeale', 'ei', 'tulnudki', '.'], [{'clause_type': 'regular'}])])"
      ]
     },
     "execution_count": 19,
     "metadata": {},
     "output_type": "execute_result"
    }
   ],
   "source": [
    "# Võrdluseks uurime ka tavalist osalausete kihti\n",
    "text.tag_layer(['clauses'])\n",
    "text['clauses']"
   ]
  },
  {
   "cell_type": "markdown",
   "metadata": {},
   "source": [
    "Lisainformatsiooni osalausestaja kohta vt [EstNLTK dokumentatsioonist](https://github.com/estnltk/estnltk/blob/main/tutorials/nlp_pipeline/A_text_segmentation/06_clauses.ipynb)."
   ]
  },
  {
   "cell_type": "markdown",
   "metadata": {},
   "source": [
    "<div class=\"alert alert-block alert-warning\">\n",
    "<h4><i>Lünkadega märgenduse eripärad</i></h4>\n",
    "<br>\n",
    "Osalausestuse puhul on tegemist nn lünkadega märgendusega -- kui ülem-osalause sees on kiillause, siis sisuliselt on seal keset osalauset lünk, mis jagab osalause kaheks tükiks. \n",
    "    \n",
    "<b>Osalause tekstisisu.</b> Lünkadega märgenduse puhul tuleb arvestada sellega, et teksisisu tagastav <code>clause.enclosing_text</code> ei tööta korrektselt: kiillaused jäetakse ülem-osalausete seest välja võtmata. Seega <code>enclosing_text</code> asemel on parem kasutada:\n",
    "<pre>\n",
    "' '.join([word_span.text for word_span in clause])\n",
    "</pre>\n",
    "mis annab ligilähedaselt korrektse tulemuse -- eeldusel, et tühikute arv ja kuju osalauses pole olulised.\n",
    "    \n",
    "<b>Teksti tükeldamine.</b> Osalausete kihi järgi teksti tükeldamiseks saab kasutada funktsiooni <code>split_by()</code>:\n",
    "<pre>\n",
    "from estnltk_core.layer_operations import split_by\n",
    "clauses = split_by(text, 'clauses')\n",
    "</pre>\n",
    "See toimib korrektselt eeldusel, et osalausete kihi nimetus on <code>'clauses'</code>. \n",
    "Kui kihi nime on muudetud (nt <code>'my_clauses'</code>), siis <code>split_by(text, 'my_clauses')</code> teostab küll tükeldamise, aga ei oska lünkadega arvestada: jätab kiillaused ülem-osalausete seest välja võtmata. \n",
    "Kui tahad kihi nimest sõltumatult saada korrektset osalauseteks tükeldust, siis selleks on funktsioon <code>split_by_clauses</code>:\n",
    "<pre>\n",
    "from estnltk_core.layer_operations import split_by_clauses\n",
    "clauses = split_by_clauses(text, input_clauses_layer='my_clauses')\n",
    "</pre>\n",
    "\n",
    "<b>Itereerimine.</b> Selleks, et itereerida üle osalausete ja morf analüüside, võib kasutada:\n",
    "<pre>\n",
    "# pöördume otse osalausete kihi poole\n",
    "for clause_spanlist in text.clauses:\n",
    "    print(clause_spanlist.text)\n",
    "    for word_span in clause_spanlist:\n",
    "        # Kuna 'morph_analysis' on 'words' alamkiht, saame selle \n",
    "        # kaudu kätte morf analüüsid, sh sõnaliigid\n",
    "        print('   ', word_span.text,'\\t', word_span.morph_analysis.partofspeech)\n",
    "</pre>\n",
    "või\n",
    "<pre>\n",
    "# grupeerime morfoloogilised analüüsid (ehk siis: sõnad) osalausete kaupa\n",
    "for clause_spanlist in text.morph_analysis.groupby( text.clauses ):\n",
    "    print(clause_spanlist.text)\n",
    "    for morph_span in clause_spanlist:\n",
    "        print('   ',morph_span.text,'\\t',morph_span.partofspeech)\n",
    "</pre>\n",
    "</div>"
   ]
  },
  {
   "cell_type": "markdown",
   "metadata": {},
   "source": [
    "### Harjutus: osalausekihtide võrdlemine\n",
    "\n",
    "Lisa lausele _\"Minu arvates on see lahe ettevõtmine ja ma loodan väga et neil läheb hästi.\"_ tavaline osalausete kiht ning komavigade-suhtes-vähetundliku osalausestaja kiht.\n",
    "\n",
    "Võrdle kahte kihti ning väljasta: 1) mõlemas kihis kattuvad osalaused, 2) osalaused, mille tuvastas ainult komavigade-suhtes-vähetundlik osalausestaja."
   ]
  },
  {
   "cell_type": "code",
   "execution_count": null,
   "metadata": {},
   "outputs": [],
   "source": []
  },
  {
   "cell_type": "markdown",
   "metadata": {},
   "source": [
    "### Ülesanne 2. Võimalike komavigade tuvastamine (3 p)\n",
    "\n",
    "Proovime nüüd kasutada osalausestajat komavigade tuvastamiseks. \n",
    "\n",
    "Ülesandeks on luua programm, mis märgendab tekstis puuduvaid komasid ehk toob esile sõnad, mille eest on koma puudu. \n",
    "Puuduvad komad saab kätte nii: tuleb luua tavaline osalausete kiht, komavigade-suhtes-vähetundlikku osalausestaja osalausete kiht ning võrrelda neid omavahel.\n",
    "Kui komavigade-suhtes-vähetundlik osalausestaja tekitas osalause, mille alguspositsioon (`start`) ei lange kokku ühegi tavalise osalause alguspositsiooniga, siis on tõenäoliselt tegemist osalausega, mille ees peaks olema koma -- esile tulebki tuua sellise osalause esimene sõna.\n",
    "\n",
    "Maksimumpunktid saab siis, kui komavigade tuvastaja on realiseeritud kui märgendaja (`Tagger` alamklass): märgendab tekstis sõnu, mille eest on koma puudu. \n",
    "Märgendaja sisendkihtideks (`input_layers`) peaks olema kõik need kihid, mis on `ClauseSegmenter`-i sisendkihtideks, pluss tavaline osalausete kiht (`'clauses'`).\n",
    "Konstruktoris tuleb luua komavigade-suhtes-vähetundlik `ClauseSegmenter` ning salvestada isendimuutujaks.\n",
    "Kihi tekitamine. Komavigade tuvastaja meetodis `_make_layer_template` luuakse kõigepealt uus tühi kiht, mis vastab konfiguratsioonile. \n",
    "Kihi andmetega täitmise loogika läheb aga komavigade tuvastaja meetodisse `_make_layer`.\n",
    "Seal kasutatakse kõigepealt välja komavigade-suhtes-vähetundlik `ClauseSegmenter`, et tekitada sisendtekstile alternatiivne osalausete kiht. Kiht tuleks luua osalausestaja meetodi `make_layer` (NB! ilma alakriipsuta alguses) abil ehk siis tekkima peaks _eraldatud osalausete kiht_ .\n",
    "Edasi tuleb võrrelda kaht osalausete kihti: tavalist `'clauses'` kihti ja komavigade-suhtes-vähetundliku osalausestaja kihti.\n",
    "Kui komavigade-suhtes-vähetundlik osalausestaja tekitas osalause, mille alguspositsioon (`start`) ei lange kokku ühegi tavalise osalause alguspositsiooniga, siis on tõenäoliselt tegemist osalausega, mille ees peaks olema koma, ning märgendada tulebki sellise osalause esimene sõna.\n",
    "Märgendaja testimise hõlbustamiseks on hea leitud komavigade arv salvestada märgenduskihi atribuudi `.meta` alla.\n",
    "\n",
    "Testimine. Rakenda puuduvate komade tuvastajat failil `'foorumid_xml/Turg_valiidne.xml'` ning leia foorumiteema, mille postitustes oli kõige rohkem potentsiaalseid komavigasid.\n",
    "Faili avamiseks ja üle teemade itereerimiseks saad kasutada [EstNLTK TEI korpuse sisselugemise vahendeid](https://github.com/estnltk/estnltk/blob/main/tutorials/corpus_processing/importing_text_objects_from_corpora.ipynb).\n",
    "Täpsemalt siis funktsioone `get_div_target()` ja `parse_tei_corpus()`.\n",
    "Tulemusena kuva kõige rohkem potentsiaalseid komavigu sisaldanud teema sisu, milles on ära märgitud puuduvate komadega sõnad (nt kasuta komavigade kihi `display()` meetodit).\n"
   ]
  },
  {
   "cell_type": "markdown",
   "metadata": {},
   "source": [
    "---"
   ]
  }
 ],
 "metadata": {
  "anaconda-cloud": {},
  "kernelspec": {
   "display_name": "Python 3 (ipykernel)",
   "language": "python",
   "name": "python3"
  },
  "language_info": {
   "codemirror_mode": {
    "name": "ipython",
    "version": 3
   },
   "file_extension": ".py",
   "mimetype": "text/x-python",
   "name": "python",
   "nbconvert_exporter": "python",
   "pygments_lexer": "ipython3",
   "version": "3.8.13"
  }
 },
 "nbformat": 4,
 "nbformat_minor": 4
}
