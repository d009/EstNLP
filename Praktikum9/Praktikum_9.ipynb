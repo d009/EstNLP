{
 "cells": [
  {
   "cell_type": "markdown",
   "metadata": {},
   "source": [
    "<h1 style=\"color:blue\">Praktikum 9</h1>\n",
    "<h3 style=\"color:blue\">Osalausestamine ja verbiahelate analüüs.<br> Andmete serialiseerimine</h3>"
   ]
  },
  {
   "cell_type": "markdown",
   "metadata": {},
   "source": [
    "Käesolev praktikum on pühendatud kahele EstNLTK keeleanalüüsi komponendile: osalausestajale ja verbiahelate tuvastajale.\n",
    "Osalausestamine on täienduseks süntaksianalüüsile ja võimaldab nt tuvastada lihtsamaid komavigu; verbiahelate analüüs aga võimaldab uurida tekstis olevaid väiteid (nt eristada jaatavaid väiteid eitavatest ja kindlaid väiteid võimalikest).\n",
    "\n",
    "Kõige lõpus on lisamaterjal, mis käsitleb Pythoni mälus olevate andmete otsesalvestamist ehk serialiseerimist.\n",
    "\n",
    "NB! Selles praktikumis läheb tarvis ka teadmisi XML sisendi lugemise kohta, seega tasub kõrvale lahti võtta 7. praktikumi asjakohased materjalid."
   ]
  },
  {
   "cell_type": "markdown",
   "metadata": {},
   "source": [
    "## Osalausete tuvastamine\n",
    "\n",
    "Osalausestaja on programm, mille abil saab pikad ja keeruka struktuuriga loomuliku keele laused jagada väiksemateks/lihtsamateks juppideks: osalauseteks. Enamasti ongi osalaused lihtlause-sarnased: sisaldavad ühte peaverbi (finiitverbi) ning sellega süntaktiliselt seotud sõnu. \n",
    "\n",
    "Sissejuhatuseks vaatame kõigepealt üht näidet osalausestaja kasutamise kohta:"
   ]
  },
  {
   "cell_type": "code",
   "execution_count": 1,
   "metadata": {},
   "outputs": [
    {
     "data": {
      "text/plain": [
       "['Igaüks on huvitatud sellest,',\n",
       " ', kes traktori eest miljon krooni lauale laob,',\n",
       " 'et traktor meenutaks lisavõimaluste poolest võimalikult palju kosmoselaeva.']"
      ]
     },
     "execution_count": 1,
     "metadata": {},
     "output_type": "execute_result"
    }
   ],
   "source": [
    "from estnltk import Text\n",
    "\n",
    "text = 'Igaüks, kes traktori eest miljon krooni lauale laob, on huvitatud sellest, et traktor '+\\\n",
    "       'meenutaks lisavõimaluste poolest võimalikult palju kosmoselaeva.'\n",
    "\n",
    "# Osalausestame teksti:\n",
    "text_w_clauses = Text(text).tag_clauses()\n",
    "\n",
    "# Kõik osalaused järjendina\n",
    "text_w_clauses.clause_texts"
   ]
  },
  {
   "cell_type": "markdown",
   "metadata": {},
   "source": [
    " * _Tehniline märkus:_ nagu ajaväljendite tuvastaja ja süntaksianalüsaator, nii kasutab ka EstNLTK osalausestaja `java`-t. Seetõttu läheb esmakordsel `tag_clauses()` väljakutsel tavaliselt natukene rohkem aega, kuna toimub `java` komponendi initsialiseerimine;"
   ]
  },
  {
   "cell_type": "markdown",
   "metadata": {},
   "source": [
    "Automaatne osalausete tuvastaja eristab kahte liiki osalauseid:\n",
    "   - tavalised osalaused, mis on tüüpiliselt üksteisest eraldatud koma ja/või sidesõnade (_ja, ning, et, sest, kuid_ vms) abil; eelmises näites on tavalised osalaused _'Igaüks on huvitatud sellest'_ ja _'et traktor meenutaks lisavõimaluste poolest võimalikult palju kosmoselaeva.'_;\n",
    "   - kiillaused, mis on sisestatud mingi lause või osalause sisse ning jagavad selle kaheks tükiks\\*; eelmises näites: _'kes traktori eest miljon krooni lauale laob'_ on kiillause lause _'Igaüks on huvitatud sellest'_ sees; \n",
    "     \n",
    "     \\* NB! Osalausestaja kiillausete käsitlus ei ühti eesti keele traditsiooniliste grammatikakirjelduste EKG II ja [EKK](http://www.eki.ee/books/ekk09/index.php?id=482&p=5&p1=3) kiillausete definitsiooniga. Milliseid süntaktilisi üksusi ja miks osalausestajas kiillauseteks nimetatakse, seda selgitab detailsemalt programmi kirjeldav [Kaalepi ja Muischneki artikkel]( http://arhiiv.rakenduslingvistika.ee/ajakirjad/index.php/aastaraamat/article/view/ERYa8.04/6)"
   ]
  },
  {
   "cell_type": "markdown",
   "metadata": {},
   "source": [
    "Milleks on osalausete tuvastajat tarvis? Osalausestatud tekstide peal on võimalik uurida mitmeid keelenähtuseid, mida automaatne  süntaksianalüüs veel lahendada ei oska või mille lahendus vajab täiustamist. \n",
    "\n",
    "Üheks selliseks keelenähtuseks on _kollokatsioonid_ ehk sõnade koosesinemised, millega sageli kaasneb ka eraldiseisev/metafoorne tähendus (nt _'hea seisma'_, _'hambasse puhuma'_, _'õppust võtma'_). Kollokatsioonide automaatne tuvastamine nõuab kõigepealt, et piiritleme konteksti, mille seest kollokatsioonikandidaate otsime. Kui kontekstiks valida terve lause, siis liitlausete puhul jääb sõelale üksjagu \"prahti\" ehk siis selliseid sõnapaare, mis ületavad osalausepiire ning ei saa olla kollokatsioonid. Seega saab osalausestamise tulemust aluseks võttes leida täpsemad kollokatsioonikandidaadid.\n",
    "\n",
    "Teiseks keelenähtuseks on sõnadevahelised _rektsiooniseosed_ ehk süntaksiseosed, kus üks sõna määrab teise olemasolu ja vormi lauses. Näiteks, verb _'hoolima'_ tingib sageli seestütlevas käändes sõna esinemise lauses (_'Kas sa hoolid **temast** ?'_) ning verb _'tutvustama'_ osastavas ja alaleütlevas käändes sõnad (_'Konsul tutvustab **kuurorti** ka oma **kaasmaalastele**.'_). Ka rektsiooniseoste uurimisel aitab osalausestamine täpsemalt piiritleda konteksti, mille sees seosed võivad sõnade vahel esineda (rektsiooniseosed tüüpiliselt ei ületa osalausepiire), ning seega parandada analüüsi kvaliteeti. Verbiahelate tuvastamine, mida uurime praktikumi teises pooles, toetub sisuliselt samuti osalausepiiride märgendusele ja otsib verbiahelaid osalausete seest."
   ]
  },
  {
   "cell_type": "markdown",
   "metadata": {},
   "source": [
    "Jätkame nüüd tehnilisemal lainel. \n",
    "\n",
    "Kuidas leida, millistesse osalausetesse sõnad kuuluvad? Pärast automaatset  osalausestamist lisatakse iga sõna külge (ehk siis: `'words'` kihti `Text` objektil) atribuut nimega `'clause_index'`, milles tuuakse välja sõnaga seotud osalause identifikaator:"
   ]
  },
  {
   "cell_type": "code",
   "execution_count": 2,
   "metadata": {},
   "outputs": [],
   "source": [
    "from estnltk import Text\n",
    "\n",
    "text = 'Igaüks, kes traktori eest miljon krooni lauale laob, on huvitatud sellest, et traktor meenutaks '+\\\n",
    "       'lisavõimaluste poolest võimalikult palju kosmoselaeva.'\n",
    "text_w_clauses = Text(text).tag_clauses()"
   ]
  },
  {
   "cell_type": "code",
   "execution_count": 3,
   "metadata": {},
   "outputs": [
    {
     "data": {
      "text/plain": [
       "[0, 1, 1, 1, 1, 1, 1, 1, 1, 1, 0, 0, 0, 0, 2, 2, 2, 2, 2, 2, 2, 2, 2]"
      ]
     },
     "execution_count": 3,
     "metadata": {},
     "output_type": "execute_result"
    }
   ],
   "source": [
    "clause_indices = [word['clause_index'] for word in text_w_clauses['words']]\n",
    "clause_indices"
   ]
  },
  {
   "cell_type": "markdown",
   "metadata": {},
   "source": [
    "* Oluline on meeles pidada, et osalausete identifikaatorid on unikaalsed vaid ühe lause piires. Ehk siis: kui meil on tekstis rohkem kui üks lause, siis iga lause sees alustatakse osalausete loendamist jälle 0-ist;"
   ]
  },
  {
   "cell_type": "markdown",
   "metadata": {},
   "source": [
    "Kuidas uurida osalausete struktuuri (tavalised osalaused vs kiillaused)? Lisaks atribuudile `'clause_index'` lisatakse sõnade külge atribuut nimega `'clause_annotation'`, kus tuuakse välja sõnaga seotud osalausepiiri liik (kui sõnaga on seotud osalausepiir):"
   ]
  },
  {
   "cell_type": "code",
   "execution_count": 4,
   "metadata": {},
   "outputs": [
    {
     "data": {
      "text/plain": [
       "['',\n",
       " 'embedded_clause_start',\n",
       " '',\n",
       " '',\n",
       " '',\n",
       " '',\n",
       " '',\n",
       " '',\n",
       " '',\n",
       " 'embedded_clause_end',\n",
       " '',\n",
       " '',\n",
       " '',\n",
       " 'clause_boundary',\n",
       " '',\n",
       " '',\n",
       " '',\n",
       " '',\n",
       " '',\n",
       " '',\n",
       " '',\n",
       " '',\n",
       " '']"
      ]
     },
     "execution_count": 4,
     "metadata": {},
     "output_type": "execute_result"
    }
   ],
   "source": [
    "clause_boundaries = [word['clause_annotation'] if 'clause_annotation' in word else '' for word in text_w_clauses['words']]\n",
    "clause_boundaries"
   ]
  },
  {
   "cell_type": "markdown",
   "metadata": {},
   "source": [
    "Seega on võimalik `zip()` funktsiooni abil siduda sõnad vastavate osalauseindeksite/osalausepiiri tähistega:"
   ]
  },
  {
   "cell_type": "code",
   "execution_count": 5,
   "metadata": {},
   "outputs": [
    {
     "data": {
      "text/plain": [
       "[(0, 'Igaüks'),\n",
       " (1, ','),\n",
       " (1, 'kes'),\n",
       " (1, 'traktori'),\n",
       " (1, 'eest'),\n",
       " (1, 'miljon'),\n",
       " (1, 'krooni'),\n",
       " (1, 'lauale'),\n",
       " (1, 'laob'),\n",
       " (1, ','),\n",
       " (0, 'on'),\n",
       " (0, 'huvitatud'),\n",
       " (0, 'sellest'),\n",
       " (0, ','),\n",
       " (2, 'et'),\n",
       " (2, 'traktor'),\n",
       " (2, 'meenutaks'),\n",
       " (2, 'lisavõimaluste'),\n",
       " (2, 'poolest'),\n",
       " (2, 'võimalikult'),\n",
       " (2, 'palju'),\n",
       " (2, 'kosmoselaeva'),\n",
       " (2, '.')]"
      ]
     },
     "execution_count": 5,
     "metadata": {},
     "output_type": "execute_result"
    }
   ],
   "source": [
    "words = [word['text'] for word in text_w_clauses['words']]\n",
    "\n",
    "# Tekstisõned ja nendega seotud osalauseidentifikaatorid\n",
    "list( zip(clause_indices, words) ) "
   ]
  },
  {
   "cell_type": "code",
   "execution_count": 6,
   "metadata": {},
   "outputs": [
    {
     "data": {
      "text/plain": [
       "[('Igaüks', ''),\n",
       " (',', 'embedded_clause_start'),\n",
       " ('kes', ''),\n",
       " ('traktori', ''),\n",
       " ('eest', ''),\n",
       " ('miljon', ''),\n",
       " ('krooni', ''),\n",
       " ('lauale', ''),\n",
       " ('laob', ''),\n",
       " (',', 'embedded_clause_end'),\n",
       " ('on', ''),\n",
       " ('huvitatud', ''),\n",
       " ('sellest', ''),\n",
       " (',', 'clause_boundary'),\n",
       " ('et', ''),\n",
       " ('traktor', ''),\n",
       " ('meenutaks', ''),\n",
       " ('lisavõimaluste', ''),\n",
       " ('poolest', ''),\n",
       " ('võimalikult', ''),\n",
       " ('palju', ''),\n",
       " ('kosmoselaeva', ''),\n",
       " ('.', '')]"
      ]
     },
     "execution_count": 6,
     "metadata": {},
     "output_type": "execute_result"
    }
   ],
   "source": [
    "# Tekstisõned ja nendega seotud osalausepiiri märgendid\n",
    "list( zip(words, clause_boundaries) ) "
   ]
  },
  {
   "cell_type": "markdown",
   "metadata": {},
   "source": [
    "Vajadusel vt ka osalausestajat tutvustavat abimaterjali [EstNLTK dokumentatsioonis](https://estnltk.github.io/estnltk/1.4.1/tutorials/text.html#tagging-clauses)."
   ]
  },
  {
   "cell_type": "markdown",
   "metadata": {},
   "source": [
    "### Osalausestamine ja komavead\n",
    "\n",
    "Automaatne osalausestaja eeldab vaikimisi, et ortograafiareegleid on järgitud täpselt ning komad paiknevad seal, kus nad peaksid olema. Seega, kui analüüsitavast tekstist on mõni osalauseid eraldav koma puudu, siis kannatab ka osalausestamise kvaliteet.\n",
    "\n",
    "Siiski sisaldab osalausestaja ka eksperimentaalset režiimi, mille puhul üritatakse osalausepiire määrata ka siis, kui komad on puudu. Et seda režiimi kasutada, tuleb `Text` objekti vaikeosalausestaja kirjutada üle uue osalausestajaga (`ClauseSegmenter`), millel on sisse lülitatud komavigade-suhtes-vähetundlikkuse lipp (`ignore_missing_commas=True`). Täpsemalt käib see nii:"
   ]
  },
  {
   "cell_type": "code",
   "execution_count": 7,
   "metadata": {},
   "outputs": [
    {
     "name": "stdout",
     "output_type": "stream",
     "text": [
      "Keegi teine ka siin ju kirjutas\n",
      "et ütles\n",
      "et saab ise asjadele järgi minna\n",
      "aga vastust seepeale ei tulnudki.\n"
     ]
    }
   ],
   "source": [
    "from estnltk import Text\n",
    "from estnltk import ClauseSegmenter\n",
    "\n",
    "# Loome teksti ja anname sellele kaasa komavigade-suhtes-vähetundliku osalausestaja\n",
    "segmenter = ClauseSegmenter( ignore_missing_commas=True )\n",
    "text = Text('Keegi teine ka siin ju kirjutas et ütles et saab ise asjadele järgi minna aga vastust seepeale ei tulnudki.', \\\n",
    "            clause_segmenter = segmenter)\n",
    "\n",
    "# Osalausestame\n",
    "text = text.tag_clauses()\n",
    "\n",
    "# Kuvame teksti osalause kaupa\n",
    "for clause in text.split_by('clauses'):\n",
    "    print (clause.text)"
   ]
  },
  {
   "cell_type": "markdown",
   "metadata": {},
   "source": [
    "### Ülesanne 1. Võimalike komavigade tuvastamine (2 p)\n",
    "\n",
    "Proovime nüüd kasutada osalausestajat komavigade tuvastamiseks. \n",
    "\n",
    "Kataloogis `'0_foorumid_xml'` on TÜ koondkorpuse [uue meedia alamkorpusest](http://www.cl.ut.ee/korpused/segakorpus/uusmeedia) pärinevad Planet foorumite postituste salvestused. \n",
    "Igas XML failis on ühe alamfoorumi teemad; teemad on jagatud postitusteks ning postitused omakorda lauseteks.\n",
    "\n",
    "Looge osalausestaja abil programm, mis tuvastab foorumi teemadest (kataloogis `'0_foorumid_xml'`) võimalikke komavigu. Programm võrdleb osalausestamise tavarežiimi tulemust komavigade-suhtes-vähetundliku režiimi tulemusega ning leiab, kas tulemused erinevad. \n",
    "\n",
    "Programm raporteerib, millise teema millisel leheküljel on kõige rohkem \"potentsiaalseid komavigasid\" (st osalausepiiride märgendid erinevad kahte režiimi kasutades kõige rohkem), ning ühtlasi väljastab potentsiaalsete komavigade kohad (tollel leheküljel). \n",
    "Väljund peaks olema selline, et programmi kasutajal on konteksti põhjal võimalik otsustada, kas tegu on komaveaga või \"valealarmiga\". \n",
    "Selleks tuleb väljastada / märgistada sõnad, millel osalausemärgendus erines, ning lisada kontekst ulatuses *N* sõna enne ja pärast, sh ka üle lausepiiride ulatuv kontekst. \n",
    "Konteksti suurus _N_ valige ise, aga see võiks olla muutujas, nii et seda saaks lihtsasti muuta.\n",
    "\n",
    "Detaile:\n",
    "\n",
    "* Kasutage tekstide sisselaadimiseks on EstNLTK funktsiooni `parse_tei_corpora` või `parse_tei_corpus` (tutvustatud 7. praktikumis). Tekste tuleks sisse lugeda teemade kaupa ehk siis määrata funktsiooni parameetriks `xml_target=['teema']`. Kindlasti tuleks määrata ka kodeering ('utf-8').  Sisseloetud tekstid on varustatud ka meta-andmetega, uurige `Text` objektide võtmeid. Nii teema nime kui lehekülje numbri saab kätte sama võtme alt;\n",
    "* Erinevuste leidmiseks tuleb igast tekstist kõigepealt luua kaks osalausestatud versiooni: tavalise osalausestajaga töödeldud versioon ning \"komavigade-suhtes-vähetundliku\" osalausestajaga töödeldud versioon; Seejärel tuleks versioone võrrelda sõna-sõna haaval ning leida osalausepiiride erinevused;\n",
    "* Konteksti väljastamine: ilmselt tuleb igal sammul teada sõna positsiooni/indeksit tekstis; kui olete tuvastanud potentsiaalse komakoha, tehke kindlaks, kui suures ulatuses sõna konteksti saab kuvada (nt teksti 2. positsioonil ei saa kuvada 10 eelnevat sõna, saab ainult 2), noppige konteksti jäävad sõnad tekstist välja ja printige ekraanile;"
   ]
  },
  {
   "cell_type": "markdown",
   "metadata": {},
   "source": [
    "## Verbiahelate tuvastamine\n",
    "\n",
    "Kui lause eesmärgiks on mingi väite väljendamine, siis selle väite _faktilisust_ / _modaalsust_ mõjutab sageli see, milline on väidet väljendav _verbiahel_. \n",
    "Näiteks, verbiahelaid uurides võib eristada jaatavaid väiteid eitavatest (nt _'Peaminister **astub** homme tagasi'_ vs _'Peaminister eile siiski tagasi **ei astunud**'_), kindlaid väiteid võimalikest (nt _'Ta **tuleb** homme'_ vs _'Ta **võib tulla** homme'_) ning kindlaid tegevusi soovidest / plaanidest / üritamistest jms (nt 'Juku **alustas** kodutööga' vs 'Juku **kavatseb** kodutööga **alustada**', 'Juku **tahab** kodutööd **alustada**', 'Juku kinnitusel **on võimalik** kodutööd **alustada**'). \n",
    "Verbiahelate tuvastaja leiabki verbidega seotud ühe- ja mitmesõnalisi üksuseid, millele toetudes saab üles ehitada lause _faktilisuse_ / _modaalsuse_ automaatse analüüsi.\n",
    "\n",
    "Lihtsaimaks kasutusnäiteks on jaatavate ja eitavate verbiahelate tuvastamine:"
   ]
  },
  {
   "cell_type": "code",
   "execution_count": 8,
   "metadata": {},
   "outputs": [
    {
     "data": {
      "text/plain": [
       "['alustas', 'ei alustanud']"
      ]
     },
     "execution_count": 8,
     "metadata": {},
     "output_type": "execute_result"
    }
   ],
   "source": [
    "from estnltk import Text\n",
    "\n",
    "text = Text('Kas Juku alustas kodutööga? Minuteada ei alustanud.')\n",
    "\n",
    "# Tuvastame verbiahelad \n",
    "text = text.tag_verb_chains()\n",
    "\n",
    "# Väljastame verbiahelad (vastavad tekstid)\n",
    "text.verb_chain_texts"
   ]
  },
  {
   "cell_type": "markdown",
   "metadata": {},
   "source": [
    "_Ühe- vs mitmesõnalised ahelad._ Nagu eelmisest näitest võib näha, siis jaatav \"verbiahel\" võib koosneda ainult ühest sõnast. Seepärast võib nimi \"verbiahel\" esmapilgul tunduda veidi eksitav (mismoodi on üks verb ahel?!), aga kuna verbiahelate tuvastaja eesmärgiks on süstemaatiliselt leida üles kõik lause / osalause peaverbe¹ hõlmavad konstruktsioonid ja peaverbid ongi sageli ühesõnalised, siis tagastab ka tuvastaja nii mitmesõnalisi kui ka ühesõnalisi tekstiüksuseid;\n",
    "\n",
    " * ¹ _peaverbi_ all mõeldakse siin enamasti finiitverbi ehk pöördelist verbivormi. Aga on ka erandeid, nende kohta vt järgnevat loendit;"
   ]
  },
  {
   "cell_type": "markdown",
   "metadata": {},
   "source": [
    "Konkreetsemalt katab verbiahelate tuvastaja järgmisi konstruktsioone:\n",
    "   * Lause/osalause peaverbid:\n",
    "       * Jaatavad verbid, v.a. _olema_ (nt 'Pidevalt **uurivad** asjade seisu ka hollandlased');\n",
    "       * Ühe- ja mitmesõnalised jaatavad _olema_-konstruktsioonid (nt 'Raha **on** alati vähe', '**Oleme** sellist kino ennegi **näinud**');\n",
    "       * Eitusega peaverbid: _ei/ära/pole/ega + verb_ (nt 'Helistasin korraks Carmenile, kuid ta **ei vastanud**');    \n",
    "   * Peaverbide laiendused:\n",
    "       * _verb + infiniitverb_ ahel, kus _infiniitverbi_ ja eelneva verbi vahel on rektsiooniseos, nt verb _kutsuma_ saab võtta _ma_-verbidest argumente ('Kevadpäike **kutsub** mind **suusatama**') ning _püüdma_ saab võtta _da_-verbidest argumente ('Aita **ei püüdnudki** Leenat **mõista**');\n",
    "       * _verb + nom/adv + infiniitverb_ ahel, kus mitmesõnaline üksus _verb + nimisõna/adverb_ on rektsiooniseoses sellele järgneva infiniitverbiga; näiteks, verb _otsima_ saab moodustada mitmesõnalise üksuse sõnaga _võimalust_ ning see üksus saab võtta omakorda _da_-verbe argumentideks ('Seepärast **otsisimegi** **võimalust** kusagilt mõned ilvesed **hankida**');\n",
    "\n",
    "Kui rektsiooniseoste tuvastamisel ei teki mitmesusi (st ei tuvastata mitut erinevat viisi ühe ahela laiendamiseks), võib verbiahelate tuvastaja algoritm laiendada üht ahelat ka mitu korda ning moodustada üksjagu pika ahela, nt lausest _'Minul oleks pidanud olema õigus ise endale külalisi kutsuda'_ leitakse ahel  **oleks** => **pidanud** => **olema** => **õigus** => **kutsuda**."
   ]
  },
  {
   "cell_type": "code",
   "execution_count": 9,
   "metadata": {},
   "outputs": [
    {
     "data": {
      "text/plain": [
       "['tahtis alustada', 'ei saanud', 'on võimalik alustada']"
      ]
     },
     "execution_count": 9,
     "metadata": {},
     "output_type": "execute_result"
    }
   ],
   "source": [
    "from estnltk import Text\n",
    "\n",
    "text = Text('Juku tahtis kodutööd juba ammu alustada, aga ei saanud. Juku kinnitusel on siiski võimalik kodutööd alustada.')\n",
    "\n",
    "# Märgendame verbiahelad \n",
    "text = text.tag_verb_chains()\n",
    "\n",
    "# Väljastame verbiahelad (vastavad tekstid)\n",
    "text.verb_chain_texts"
   ]
  },
  {
   "cell_type": "markdown",
   "metadata": {},
   "source": [
    "Tekstist leitud verbiahelate detailse info saab kätte atribuudist `verb_chains`:"
   ]
  },
  {
   "cell_type": "code",
   "execution_count": 10,
   "metadata": {},
   "outputs": [
    {
     "data": {
      "text/plain": [
       "[{'analysis_ids': [[0], [0]],\n",
       "  'clause_index': 0,\n",
       "  'end': [11, 39],\n",
       "  'mood': 'indic',\n",
       "  'morph': ['V_s', 'V_da'],\n",
       "  'other_verbs': False,\n",
       "  'pattern': ['verb', 'verb'],\n",
       "  'phrase': [1, 5],\n",
       "  'pol': 'POS',\n",
       "  'roots': ['taht', 'alusta'],\n",
       "  'start': [5, 31],\n",
       "  'tense': 'imperfect',\n",
       "  'voice': 'personal'},\n",
       " {'analysis_ids': [[0], [0]],\n",
       "  'clause_index': 1,\n",
       "  'end': [47, 54],\n",
       "  'mood': 'indic',\n",
       "  'morph': ['V_neg', 'V_nud'],\n",
       "  'other_verbs': False,\n",
       "  'pattern': ['ei', 'verb'],\n",
       "  'phrase': [8, 9],\n",
       "  'pol': 'NEG',\n",
       "  'roots': ['ei', 'saa'],\n",
       "  'start': [45, 48],\n",
       "  'tense': 'imperfect',\n",
       "  'voice': 'personal'},\n",
       " {'analysis_ids': [[0, 1], [0], [0]],\n",
       "  'clause_index': 0,\n",
       "  'end': [74, 90, 108],\n",
       "  'mood': 'indic',\n",
       "  'morph': ['V_b/vad', 'A_sg n', 'V_da'],\n",
       "  'other_verbs': False,\n",
       "  'pattern': ['ole', 'nom/adv', 'verb'],\n",
       "  'phrase': [2, 4, 6],\n",
       "  'pol': 'POS',\n",
       "  'roots': ['ole', 'võimalik', 'alusta'],\n",
       "  'start': [72, 82, 100],\n",
       "  'tense': 'present',\n",
       "  'voice': 'personal'}]"
      ]
     },
     "execution_count": 10,
     "metadata": {},
     "output_type": "execute_result"
    }
   ],
   "source": [
    "# Kogu informatsioon verbiahelate kohta:\n",
    "text.verb_chains"
   ]
  },
  {
   "cell_type": "markdown",
   "metadata": {},
   "source": [
    "Nagu teiste fraasimärgenduste puhul, nii on ka verbiahelate märgendused esitatud sõnastike kujul. Käesoleva praktikumi seisukohast on kõige olulisem info järgmiste võtmete all:\n",
    "\n",
    "* `'pol'` -- kas verbiahel on jaatav (`'POS'`) või eitav (`'NEG'`)? Võimalik ka väärtus `'??'` (määramata);\n",
    "* `'roots'` -- järjend ahela sõnade algvormidega (morf analüüsi `'root'` atribuudid);\n",
    "* `'mood'` -- ahela finiitverbi kõneviis. Võimalikud väärtused: `'indic'` (kindel kv), `'imper'` (käskiv ja möönev), `'condit'` (tingiv), `'quotat'` (kaudne),  või `'??'` (määramata);\n",
    "* `'tense'` -- ahela finiitverbi/konstruktsiooni grammatiline aeg. Võimalikud väärtused sõltuvad kõneviisist. Kindlas kõneviisis: `'present'`, `'imperfect'`, `'perfect'`, `'pluperfect'`, käskivas kõneviisis:  `'present'` ning tingivas ja kaudses: `'present'` ja `'past'`. Lisaks võib jääda ka määramata (`'??'`);\n",
    "* `'voice'` -- ahela finiitverbi tegumood. Võimalikud väärtused: `'personal'`, `'impersonal'`, `'??'`;"
   ]
  },
  {
   "cell_type": "markdown",
   "metadata": {},
   "source": [
    "Erinevalt teistest fraasimärgendustest (nt ajaväljenditest, nimeüksustest) võivad verbiahelate fraasid olla katkendlikud / sisaldada lünkasid. Seetõttu pole ka verbiahelate asukohti kirjeldavad atribuudid `'start'` ja `'end'` mitte tavalised arvud, vaid arvude järjendid, milles iga järjendi liige kirjeldab ühe ahela liikme vastavalt kas siis algust või lõpp-positsiooni tekstis."
   ]
  },
  {
   "cell_type": "markdown",
   "metadata": {},
   "source": [
    "**Sõnade järjekord ahelas. Tähenduse mõjutajad ja sisuverbid.** Võtme `'roots'` all olevad algvormid ei ole organiseeritud mitte nende lauses esinemise järjekorras, vaid järjekorras, mis peegeldab sõnadevahelisi seoseid: \n",
    "iga järgnev sõna ahelas on eelmise sõna süntaktiline alluv.\n",
    "Sellise järjestamise tulemusena on ahela eesotsas _tähendust mõjutavad verbid_, nt eituse abiverb või modaalverb, ning ahela lõpus _sisuverb_ ehk siis verb, mis annab edasi väite põhisisu.\n",
    "Näide:"
   ]
  },
  {
   "cell_type": "code",
   "execution_count": 11,
   "metadata": {},
   "outputs": [
    {
     "data": {
      "text/plain": [
       "['ei', 'proovi', 'kutsu']"
      ]
     },
     "execution_count": 11,
     "metadata": {},
     "output_type": "execute_result"
    }
   ],
   "source": [
    "text = Text('Ja teda kutsuda ei proovitudki?')\n",
    "# Väljastame verbiahelate algvormid\n",
    "text.verb_chains[0]['roots']"
   ]
  },
  {
   "cell_type": "markdown",
   "metadata": {},
   "source": [
    "Sama järjestust kasutatakse ka järjendites `'morph'` ja `'pattern'`. Erandlikult on järjendites `'start'` ja `'end'` asukohad kirjeldatud lauses esinemise järjekorras ning ka mugavusmeetod `verb_chain_texts` paneb sõnad kokku lauses esinemise järjekorras."
   ]
  },
  {
   "cell_type": "markdown",
   "metadata": {},
   "source": [
    "Veel infot verbiahelate tuvastaja kohta leiab [EstNLTK abimaterjalist](https://estnltk.github.io/estnltk/1.4.1/tutorials/text.html#verb-chain-tagging)."
   ]
  },
  {
   "cell_type": "markdown",
   "metadata": {},
   "source": [
    "### Ülesanne 2. Verbiahelate statistika (2,5 p)\n",
    "\n",
    "Võiks arvata, et ajalehtede arvamusartiklid eristuvad teistest artiklitest selle poolest, et keskenduvad rohkem väidete esitamisele ja ümberlükkamisele ning see väljendub ka vastavate artiklite verbiahelate kasutuses.\n",
    "Kuivõrd see võiks kehtida, selle uurimiseks looge programm, mis teeb verbiahelate statistikat Eesti Päevalehe ja Postimehe arvamusartiklite ja tavaliste uudisartiklite põhjal ning väljastab tulemused võrdleva tabelina.\n",
    "\n",
    "**2.1** (2 punkti) Programm loeb kataloogist `'1_aja_xml'` Eesti Päevalehe ja Postimehe faile (igas XML failis on üks ajalehenumber, st kõik sellel päeval vastavas lehes ilmunud artiklid) ning kogub kokku arvamusartiklid ja uudisartiklid.\n",
    "Arvamusartiklid on mõlemas väljaandes rubriiginime _Arvamus_ all, uudisartiklite rubriiginimi on vastavalt kas _Eesti_ (Eesti Päevalehes) või _Uudised_ (Postimehes). \n",
    "Programm lisab kokkukogutud rubriikide artiklitele verbiahelate märgenduse, loendab verbiahelate tunnuseid ning väljastab tabeli, kus on mõlema rubriigi kohta toodud välja:\n",
    "\n",
    "  1. eitusega verbiahelate %;\n",
    "  2. modaalverbidega _'võima'_, _'tohtima'_ või _'pidama'_ verbiahelate % (ainult sellised ahelad, kus vastav verb esineb modaalverbi rollis);\n",
    "  3. olevikuajaga verbiahelate %;\n",
    "  4. mingi muu verbiahelate spetsiifilise tunnuse või struktuurielemendi loendamisel saadud % (valige see tunnus ise);\n",
    "  \n",
    "- | eituseid | modaalidega ahelaid | ...\n",
    " --- | --- | --- | ---\n",
    "**Arvamused** |  x% | y% | ...\n",
    "**Uudised** | z% | ... | ...\n",
    "\n",
    "Detaile / soovitusi: \n",
    "  - tekstide sisselaadimiseks on tõenäoliselt kõige mugavam kasutada funktsiooni `parse_tei_corpora` (või `parse_tei_corpus`); Kindlasti tuleks määrata ka kodeering ('utf-8');\n",
    "  - tabeli tegemisel ilmselt kõige mugavam kasutada `pandas.DataFrame`-i; üks viis, kuidas seda teha: tekitage algul tühi tabel, mille mõõtmed vastavad rubriikide ja uuritavate tunnuste arvule, ning tekstide analüüsi kõigus täitke see andmetega; kui te pole veel katsetanud andmete muutmist `DataFrame`-is, siis juhatust saab [siit](http://pandas.pydata.org/pandas-docs/stable/10min.html#setting);\n",
    "  - modaalverbidega _'võima'_, _'tohtima'_ või _'pidama'_ ahelate loendamine:\n",
    "     * eesmärgiks on leida ahelad, kus modaalverb on teise verbi tähenduse mõjutaja. Näiteks, lauses _'Me **peame säilitama** tasakaalu'_ on verb _**pidama**_ verbi _**säilitama**_ tähenduse mõjutaja, samas kui lauses _'Me **ei kavatse** enam restorani **pidada**'_ on küll verbiahel, mis sisaldab verbi _**pidama**_, aga verb _**pidama**_ pole seal mitte tähenduse mõjutaja, vaid sisuverb, ja seega modaalverbi tähenduses ei esine;\n",
    "     * Kuna on mingi verb tähenduse mõjutaja ja kuna sisuverbi rollis, seda saab teada, kui uurida verbi positsiooni verbiahelas; üldine reegel on, et tähenduse mõjutaja on ahela eesotsas; erandiks on aga eitus ja liitaeg, mille puhul on modaalverb ahela teine liige;\n",
    "     * Verbiahelas peaks modaalverbil olema vähemalt üks alluv; ilma alluvata modaalverbid jätta loendusest välja;\n",
    "\n",
    "\n",
    "**2.2** (0,5 punkti) Katsetage 4. tunnuse valimisel erinevaid variante ja leidke tunnus, mille % erineb märgatavalt arvamusartiklites ja tavalistes uudisartiklites. Püüdke leida põhjendus, miks ühes rubriigis ilmneb tunnus rohkem kui teises, vajadusel uurige ka artiklite sisusid ja leidke illustreerivaid näiteid. Esitage põhjendus kirjalikult siin samas Notebookis.\n",
    "    "
   ]
  },
  {
   "cell_type": "markdown",
   "metadata": {},
   "source": [
    "### Ülesanne 3. Fokusseeritud vestluste tuvastamine (3 p)\n",
    "\n",
    "Viimases ülesandes tegeleme taaskord foorumipostituste analüüsiga. \n",
    "Kataloogis `'2_foorumid_xml'` on veel Planeti alamfoorumite salvestusi: igas XML failis on ühe alamfoorumi teemad, mis on jagatud postitusteks ning postitused omakorda lauseteks.\n",
    "\n",
    "Nimetagem _fokusseeritud vestluseks_ (edaspidi ka lihtsalt _vestluseks_) järjestikkuste postituste jada, kus vähemalt kaks postitust on erinevatelt kasutajatelt (ehk siis: tegemist on dialoogi, mitte monoloogiga) ning postitused on üsna keskendunud mingi alamteema arutamisele. \n",
    "Täpsemalt: _fokusseeritud vestlus_ on järjestikkuste osalausete jada, kus kõigi osalausete _sisuverb on sama_ (see peaks tagama  fokusseerituse) ning vähemalt kaks osalauset on erinevatest postitustest / erinevatelt kasutajatelt. \n",
    "\n",
    "Näited ( iga verbiahela lause on eraldi real, verbiahelatesse kuuluvad sõnad märgitud paksult ):\n",
    "\n",
    "  * <u>teema:   Demokraatlik monarhia ? - 01. leht</u>  \n",
    "    Folken : _Inglismaal demokraatlik monarhia , aga ma ei tea kas kuningas vms **valitakse** rahva poolt ._  \n",
    "    Folken : _Maybe parlament **valib** ._  \n",
    "    monstrum : _Kuningat **ei valita** , tainapead ._  \n",
    "    \n",
    "    ( sisuverb: _valima_, vestluse pikkus: 2 postitust, 3 lauset, 3 verbiahelat )\n",
    "\n",
    "\n",
    "  * <u>teema:   Soovitusi lõpukirjandiks - 24. leht</u>  \n",
    "    Hellion : _Wtf. alati **on saanud** oma toitu kaasa **võtta** ju ._  \n",
    "    Hellion : _Ma ühe pudeli Nestea'd ja veits šokolaadi **võtan** ._  \n",
    "    Hellion : _Megaeinet päris **võtma ei hakka** ._  \n",
    "    troskal : _Mädarõigast ja leiba **võtke** kaasa ._  \n",
    "    Cab Driver : _Ma **võtan** kala ._  \n",
    "    \n",
    "    ( sisuverb: _võtma_, vestluse pikkus: 3 postitust, 5 lauset, 5 verbiahelat )\n",
    "    \n",
    "\n",
    "Vestluse algus ei pea postituse algusega kokku langema, see võib alata ka postituse keskelt või lõpust.\n",
    "\n",
    "Vestluse keskel võib olla ka selliseid osalauseid, millest ei tuvastatud ühtegi verbiahelat, aga vestluse alguses ja lõpus peavad kindlasti olema verbiahelaga osalaused, millel on sama sisuverb. Näide:\n",
    "\n",
    "  * <u>teema:   mis motorollerid/tsiklid teil on ? - 01. leht</u>  \n",
    "    Crazor : selline baaripukk **teeb** enamus tallinnas liikvel olevatele autodele nii kiirenduses kui tippkiiruses ara  \n",
    "    giga : no ta **võib** ju ära **teha** , aga ikke sõidax enne auto või tsikliga , kui taburetiga ....  \n",
    "    giga : nu muidugi , kui vanust piisavalt ..  \n",
    "    Inspektor : Oot mismis ?  \n",
    "    Inspektor : tippkiiruses **teen** enamusele ära ?  \n",
    "    \n",
    "    ( sisuverb: _tegema_, vestluse pikkus: 3 postitust, 5 lauset, 3 verbiahelat )\n",
    "    \n",
    "Ülesandeks on luua programm, mis analüüsib läbi kõik kaustas `'2_foorumid_xml'` olevad failid ning leiab sealt ülaltoodud kirjeldusele vastavad vestlused. \n",
    "Programmis on muudetav parameeter, mis kirjeldab vestluse miinimumpikkust verbiahelates: programm väljastab kõik vestlused, milles on vähemalt nii palju verbiahelaid kui miinimumpikkus.\n",
    "Vaikimisi võiks miinimumpikkus olla 3 (nagu kõigis eeltoodud näidetes), lühemad ahelad meile huvi ei paku.\n",
    "\n",
    "NB! Kuigi foorumis ulatuvad osad teemad üle mitme lehekülje, siis piisab, kui vestluseid otsitakse ainult ühe lehekülje piirest.\n",
    "\n",
    "Vestluse väljastamisel kuvatakse kõigepealt teema nimi, seejärel vestlusesse kuuluvad verbiahelad, iga verbiahela lause eraldi reale.\n",
    "On ok, kui liitlause puhul trükitakse üks lause mitu korda (kuna seal on mitu osalauset/verbiahelat). \n",
    "Iga lause algusesse lisatakse postitaja nimi. \n",
    "Tekstis verbiahelaid kuidagi esile tooma (nagu näidetes) ei pea, küll aga tuleks väljastada vestluse pikkus verbiahelates.\n",
    "Lisaks peaks programm loendama väljastatud vestluste arvu -- nii igas failis, kui ka kõigi failide peale kokku -- ning väljastama (vastavalt siis faili või töö lõpus).\n",
    "\n",
    "Vihjeid / soovitusi:\n",
    "\n",
    "  * Andmete sisselugemine XML failist. Funktsioonid `parse_tei_corpus` ja `parse_tei_corpora` kahjuks selle ülesande puhul palju ei aita -- nende abil saab küll kätte laused (sisu `<s>`-märgendite vahel), aga kättesaamatuks jäävad postitajate nimed ja teemade pealkirjad. Seega tuleks andmete sisselugemisel kasutada hoopis teegi _BeautifulSoup_ vahendeid -- seda nii lausete kui ka muu info süstemaatiliseks lugemiseks;\n",
    "  \n",
    "  \n",
    "  * Soovitav on postitusi analüüsida lause-kaupa ning esmalt koguda kokku analüüsi tulemused. Koguda järjendisse kõik ühe teema verbiahelad, sellises järjekorras, nagu need mööda postitusi liikudes ette tulevad. Ilmselt ei piisa ainult verbiahelate järjendisse salvestamisest, tuleks salvestada ka infot nende esinemiskonteksti kohta (postitaja, lause, sisuverb). Ning salvestada tuleks ka laused/osalaused, kus ei leidunud ühtegi verbiahelat, aga mis võivad siiski olla mõne vestluse keskel.\n",
    "  \n",
    "  \n",
    "  * Kui ühe teema kõik ahelad on leitud, saabki asuda fokusseeritud vestluseid otsima. Selleks tuleb kõik teemaga seotud verbiahelad läbi vaadata ning iga verbiahela puhul uurida talle järgnevaid ahelaid: liikuda mööda kokkulangevaid sisuverbe ja liikumine katkestada, kui sisuverbid enam kokku ei lange. Kui niiviisi saadud ahela pikkus ületab parameetriga määratud miinimumpikkust, siis saab vestluse väljastada ekraanile.\n",
    "  \n",
    "  NB! Kuidagi tuleb ka meeles pidada, millised verbiahelad on juba eelmiste vestluste koosseisus väljastatud, et ei tekiks duplikaate. Selleks võib nt meeles pidada väljastatud verbiahelate indeksid järjendis ning hoiduda sama indeksiga ahela uuestiväljastamisest.\n"
   ]
  },
  {
   "cell_type": "markdown",
   "metadata": {},
   "source": [
    "---"
   ]
  },
  {
   "cell_type": "markdown",
   "metadata": {},
   "source": [
    "## Lisamaterjal: Serialiseerimine (_Pickle_)\n",
    "\n",
    "Tekstilised formaadid nagu XML ja JSON on inimesele suhteliselt hästi loetavad, kuid nende lugemine/kirjutamine tähendab arvuti jaoks enamasti lisatööd: andmeid tuleb teisendada mälus oleva kuju ja tekstilise kuju vahel. \n",
    "Kui lood ise uue Pythoni klassi, siis ei saa selle objekte kohe JSON / XML kujul salvestada, vaid pead looma ka konverteri, mis teisendab objekte vastavatesse andmekujudesse (ja ka tagasi).\n",
    "\n",
    "Pythoni andmestruktuuride ja objektide otse-salvestamiseks leidub ka alternatiivne ja kiirem viis, mida nimetatakse _serialiseerimiseks_. \n",
    "Sisuliselt tähendab serialiseerimine, et salvestamisel teisendatakse mälus olevad andmed binaarsele kujule ning failist laadimisel muudetakse need tagasi Pythoni mälus olevateks andmeteks.\n",
    "Kuna andmete formaati sealjuures ei muudeta, on protsess enamasti suhteliselt kiire.\n",
    "Samuti ei pea ise tegelema konverteri kirjutamisega: enamikku andmestruktuure, funktsioone, klasse kui ka klasside eksemplare / objekte on võimalik serialiseerida ilma, et peaks neid kuidagi teisendama.\n",
    "\n",
    "Pythonis vastutab serialiseerimise eest teek [_pickle_](https://docs.python.org/3/library/pickle.html). Nagu teiste andmeformaatidegi puhul, on ka serialiseerimise tulemused platvormist sõltumatud ehk serialiseerimise abil tekitatud fail peaks olema suvalisel (Pythoniga) masinal loetav. Binaarse kuju miinuseks on aga kahjuks see, et failis olevad andmed pole enam inimsilmale loetavad."
   ]
  },
  {
   "cell_type": "markdown",
   "metadata": {},
   "source": [
    "Näitena serialiseerime _rows_ muutuja."
   ]
  },
  {
   "cell_type": "code",
   "execution_count": 13,
   "metadata": {},
   "outputs": [],
   "source": [
    "rows = [{'a':5, 'b':3}, {'c':4, 'd':1 }]\n",
    "\n",
    "import pickle\n",
    "with open('serialized_ppl.pkl','wb') as fout:\n",
    "    pickle.dump(rows, fout)"
   ]
  },
  {
   "cell_type": "markdown",
   "metadata": {},
   "source": [
    "Paneme tähele, et fail tuleb avada nii lugemiseks kui kirjutamiseks _binary mode_'is (`'wb'` ja `'rb'`).\n",
    "\n",
    "Võite iseseisvalt uurida, milline on tekitatud faili `'serialized_ppl.pkl'` sisu. (Eriti loetav see pole.)\n",
    "\n",
    "Funktsiooni `pickle.load` abil saame serialiseeritud sisu jälle Pythonisse tagasi lugeda:"
   ]
  },
  {
   "cell_type": "code",
   "execution_count": 14,
   "metadata": {},
   "outputs": [
    {
     "name": "stdout",
     "output_type": "stream",
     "text": [
      "[{'a': 5, 'b': 3}, {'d': 1, 'c': 4}]\n"
     ]
    }
   ],
   "source": [
    "with open('serialized_ppl.pkl','rb') as fin:\n",
    "    new_rows = pickle.load(fin)\n",
    "    print(new_rows)"
   ]
  },
  {
   "cell_type": "markdown",
   "metadata": {},
   "source": [
    "Vaikimisi saab _pickle_ hakkama paljude standardteekide klasside serialiseerimisega ning ka endakirjutatud teekidega, mis kasutavad  standardteegi objekte."
   ]
  },
  {
   "cell_type": "markdown",
   "metadata": {},
   "source": [
    "### EstNLTK `Text` objektide serialiseerimisest\n",
    "\n",
    "Ka EstNLTK `Text` objektide salvestamiseks/laadimiseks on serialiseerimine üsna kiire viis.\n",
    "Siin on aga üks tehniline nüanss: **kõik `Text` objektid pole otsemaid serialiseeritavad**.\n",
    "Kui `Text`-ile on lisatud ajaväljendite, osalausete ja/või verbiahelate märgendus, siis kohe selle serialiseerimine ei õnnestu -- `pickle.dump` meetod annab veateate stiilis `TypeError: cannot serialize '_io.BufferedReader' object`.\n",
    "Põhjus on selles, et ajaväljendite tuvastaja ja osalausestaja (millest omakorda sõltub ka verbiahelate tuvastaja) kasutavad teksti analüüsimisel Pythoni-väliseid Java komponente ning klassid, mis teostavad suhtlust nende komponentidega, pole serialiseeritavad.\n",
    "\n",
    "Probleemile leidub ka lahendus.\n",
    "Äsjalisatud märgendustega `Text` objekt tuleb ümber kirjutada nii, et säilivad märgendused, aga eemaldatakse mitte-serialiseeritavaid alamkomponente sisaldava märgendajad (ehk siis: ajaväljendite tuvastaja, osalausestaja, verbiahelate tuvastaja). \n",
    "Kui märgendused on juba lisatud, pole märgendajaid ka enam tarvis ning need võib vabalt eemaldada.\n",
    "\n",
    "Vaatame lahendust ühe näite varal lähemalt."
   ]
  },
  {
   "cell_type": "code",
   "execution_count": 15,
   "metadata": {},
   "outputs": [],
   "source": [
    "# Loome serialiseeritava teksti\n",
    "from estnltk import Text\n",
    "text = Text('Küll homme armastab see, kes ei armastanud eile.')\n",
    "# Lisame kõik märgendused (sh ajaväljendid, osalaused ja verbiahelad)\n",
    "text = text.tag_all()"
   ]
  },
  {
   "cell_type": "markdown",
   "metadata": {},
   "source": [
    "Kohe selle teksti serialiseerimine ei õnnestu. Võid ise järgi katsetada:\n",
    "\n",
    "    import pickle\n",
    "    with open('test_serialized_text.pkl','wb') as fout:\n",
    "         pickle.dump(text, fout)\n",
    "         \n",
    "Küll aga saame luua vana teksti põhjal uue teksti, mis sisaldab samu märgendusi, aga ei sisalda märgendajaid:"
   ]
  },
  {
   "cell_type": "code",
   "execution_count": 17,
   "metadata": {},
   "outputs": [],
   "source": [
    "# Loome uue teksti, mis sisaldab samu märgendusi, aga mitte samu märgendajaid\n",
    "new_text = Text( text )"
   ]
  },
  {
   "cell_type": "markdown",
   "metadata": {},
   "source": [
    "Kui loome uue `Text` objekti eelkirjeldatud viisil, siis kopeeritakse vanast objektist kogu sõnastiku sisu (ehk kõik märgendused), aga kopeerimata jäetakse vana teksti küljes olevad \"märgendajad\" (kuna märgendajad pole otseselt sõnastikus, vaid on klassi `Text` varjatud muutujate all).\n",
    "Seega puuduvad uuel `Text` objektil komponendid, mille serialiseerimine ei õnnestu."
   ]
  },
  {
   "cell_type": "markdown",
   "metadata": {},
   "source": [
    "Serialiseerime uue teksti:"
   ]
  },
  {
   "cell_type": "code",
   "execution_count": 18,
   "metadata": {},
   "outputs": [],
   "source": [
    "import pickle\n",
    "with open('test_serialized_text.pkl','wb') as fout:\n",
    "    pickle.dump(new_text, fout)"
   ]
  },
  {
   "cell_type": "markdown",
   "metadata": {},
   "source": [
    "Laeme teksti sisse ja uurime, kas märgendused säilisid:"
   ]
  },
  {
   "cell_type": "code",
   "execution_count": 19,
   "metadata": {},
   "outputs": [
    {
     "name": "stdout",
     "output_type": "stream",
     "text": [
      "Küll homme armastab see, kes ei armastanud eile.\n",
      "  timexes: ['homme', 'eile']\n",
      "  clauses: ['Küll homme armastab see,', 'kes ei armastanud eile.']\n",
      "  verb_chains: ['armastab', 'ei armastanud']\n"
     ]
    }
   ],
   "source": [
    "with open('test_serialized_text.pkl','rb') as fin:\n",
    "    loaded_text = pickle.load(fin)\n",
    "\n",
    "print(loaded_text)\n",
    "print('  timexes:', loaded_text.timex_texts)\n",
    "print('  clauses:', loaded_text.clause_texts)\n",
    "print('  verb_chains:', loaded_text.verb_chain_texts)"
   ]
  },
  {
   "cell_type": "markdown",
   "metadata": {},
   "source": [
    "---"
   ]
  }
 ],
 "metadata": {
  "anaconda-cloud": {},
  "kernelspec": {
   "display_name": "Python 3",
   "language": "python",
   "name": "python3"
  },
  "language_info": {
   "codemirror_mode": {
    "name": "ipython",
    "version": 3
   },
   "file_extension": ".py",
   "mimetype": "text/x-python",
   "name": "python",
   "nbconvert_exporter": "python",
   "pygments_lexer": "ipython3",
   "version": "3.5.3"
  }
 },
 "nbformat": 4,
 "nbformat_minor": 1
}
