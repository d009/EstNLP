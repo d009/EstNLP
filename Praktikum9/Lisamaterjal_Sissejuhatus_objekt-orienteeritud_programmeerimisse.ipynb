{
 "cells": [
  {
   "cell_type": "markdown",
   "metadata": {},
   "source": [
    "<h1 style=\"color:blue\">Lisamaterjal: Sissejuhatus objekt-orienteeritud programmeerimisse</h1>\n",
    "\n",
    "Käesolevas lisamaterjalis teeme tutvust Pythoni objekt-orienteeritud poolega. "
   ]
  },
  {
   "cell_type": "markdown",
   "metadata": {},
   "source": [
    "Objekt-orienteeritud programmeerimine on programmeerimise viis, mille puhul koosneb programm  objektide kirjeldustest  (<i>objekt</i> == kogum andmeid + nendega seotud funktsioonid) ning modelleerib objektidevahelist suhtlust.\n",
    "Kuna Python ei ole puhas objekt-orienteeritud keel, siis saab siin programmeerida ka ilma objekt-orienteeritud lähenemist kasutamata. Aga objekt-orienteeritud programmeerimisvõtted tõstavad sageli koodi kvaliteeti: saab luua selgemini struktureeritud ja paremini taaskasutatavat ning hallatavat koodi. "
   ]
  },
  {
   "cell_type": "markdown",
   "metadata": {},
   "source": [
    "### Klassid ja objektid. Isendimuutujad ja klassimuutujad\n",
    "\n",
    "Klass on sisuliselt objekti eskiis: seal on kirjeldatud, millised muutujad ehk _atribuudid_ on objekti alt kättesaadavad ning millised funktsioonid ehk _meetodid_ nende muutujate peal opereerivad.\n",
    "Näiteks, loome klassi `Raamat`, mis sisaldab andmeid raamatute kohta:"
   ]
  },
  {
   "cell_type": "code",
   "execution_count": 1,
   "metadata": {
    "scrolled": true
   },
   "outputs": [],
   "source": [
    "class Raamat:\n",
    "    'Baasklass raamatute info salvestamiseks.'\n",
    "    \n",
    "    # konstruktor\n",
    "    def __init__(self, pealkiri, autor):\n",
    "        # isendimuutuja(d)\n",
    "        self.pealkiri = pealkiri\n",
    "        self.autor    = autor"
   ]
  },
  {
   "cell_type": "markdown",
   "metadata": {},
   "source": [
    "Loodud klassis on defineeritud täpselt üks meetod: `__init__`. Tegemist on erilise meetodiga, mis kutsutakse alati välja siis, kui klassi alusel luuakse uus objekt -- kuna see meetod on seotud \"objekti konstrueerimisega\", kutsutakse seda ka \"konstruktoriks\". Sisuliselt fikseerib konstruktor objekti algseisu / algväärtustab andmed.\n",
    "\n",
    "Meie konstruktor saab sisendiks kaks parameetrit: raamatu `pealkiri` ja `autor`. Kasutades `self` muutujat (mis viitab alati objektile endale), riputame konstruktoris objekti külge atribuudid `pealkiri` ja `autor`. \n",
    "Sellega fikseerime, et igal raamatul peavad olema pealkiri ja autor ning need tuleb objekti loomisel määrata.\n",
    "\n",
    "Konstruktor on olemas igal klassil. Kui me jätame selle defineerimata, luuakse see automaatselt ning sellisel juhul ei saa me määrata atribuutide algväärtustamist (kuigi miski ei tekista meil lisamast atribuute ka hiljem, kui objekt on juba loodud). \n",
    "\n",
    "Loodud klassi põhjal saame nüüd objekte teha nii:"
   ]
  },
  {
   "cell_type": "code",
   "execution_count": 2,
   "metadata": {
    "scrolled": true
   },
   "outputs": [],
   "source": [
    "r1 = Raamat('Naksitrallid', 'Eno Raud')\n",
    "r2 = Raamat('Eestlase käsiraamat', 'Mihkel Raud')"
   ]
  },
  {
   "cell_type": "markdown",
   "metadata": {},
   "source": [
    "Klassi põhjal loodud objekti nimetatakse ka _isendiks_ ( ingl _instance_ ). Näiteks, `r1` ja `r2` on mõlemad isendid klassist `Raamat`. \n",
    "Atribuute `pealkiri` ja `autor` nimetatakse _isendimuutujateks_ ( ingl _instance variable_ ), kuna need on seotud konkreetse isendiga (ja erinevatel isenditel on erinevad väärtused). \n",
    "Uurime isendimuutujate väärtuseid:"
   ]
  },
  {
   "cell_type": "code",
   "execution_count": 3,
   "metadata": {
    "scrolled": true
   },
   "outputs": [
    {
     "data": {
      "text/plain": [
       "'Naksitrallid'"
      ]
     },
     "execution_count": 3,
     "metadata": {},
     "output_type": "execute_result"
    }
   ],
   "source": [
    "r1.pealkiri"
   ]
  },
  {
   "cell_type": "code",
   "execution_count": 4,
   "metadata": {
    "scrolled": true
   },
   "outputs": [
    {
     "data": {
      "text/plain": [
       "'Eno Raud'"
      ]
     },
     "execution_count": 4,
     "metadata": {},
     "output_type": "execute_result"
    }
   ],
   "source": [
    "r1.autor"
   ]
  },
  {
   "cell_type": "code",
   "execution_count": 5,
   "metadata": {
    "scrolled": true
   },
   "outputs": [
    {
     "data": {
      "text/plain": [
       "('Eestlase käsiraamat', 'Mihkel Raud')"
      ]
     },
     "execution_count": 5,
     "metadata": {},
     "output_type": "execute_result"
    }
   ],
   "source": [
    "r2.pealkiri, r2.autor"
   ]
  },
  {
   "cell_type": "markdown",
   "metadata": {},
   "source": [
    "Kui objekt on loodud, võib talle ka uusi isendimuutujaid lisada. Nt võime lisada esimesele raamatule ilmumisaasta:"
   ]
  },
  {
   "cell_type": "code",
   "execution_count": 6,
   "metadata": {
    "scrolled": true
   },
   "outputs": [],
   "source": [
    "r1.ilmumisaasta = 1972"
   ]
  },
  {
   "cell_type": "markdown",
   "metadata": {},
   "source": [
    "Oluline on märkida, et hiljem lisatud atribuut on seotud ainult konkreetse isendiga -- see ei kandu edasi teistele sama klassi isenditele. \n",
    "Seega, objektile `r1` tekkis ilmumisaasta, aga objektil `r2` seda endiselt pole.\n",
    "Kui tahame, et raamatu ilmumisaasta tekiks iga `Raamat` objekti alla, peame selle ikkagi algväärtustama konstruktoris."
   ]
  },
  {
   "cell_type": "markdown",
   "metadata": {},
   "source": [
    "Kogu objekti alla salvestatud info saame sõnastikuna kätte ka atribuudi `__dict__` abil:"
   ]
  },
  {
   "cell_type": "code",
   "execution_count": 7,
   "metadata": {
    "scrolled": true
   },
   "outputs": [
    {
     "data": {
      "text/plain": [
       "{'pealkiri': 'Naksitrallid', 'autor': 'Eno Raud', 'ilmumisaasta': 1972}"
      ]
     },
     "execution_count": 7,
     "metadata": {},
     "output_type": "execute_result"
    }
   ],
   "source": [
    "r1.__dict__"
   ]
  },
  {
   "cell_type": "markdown",
   "metadata": {},
   "source": [
    "<div class=\"alert alert-block alert-warning\">\n",
    "<h4><i>Klassimuutujad</i></h4>\n",
    "<br>\n",
    "Lisaks isendimuutujatele (meie näites: <code>self.pealkiri</code>, <code>self.autor</code> ja <code>self.ilmumisaasta</code>) võib klass sisaldada klassimuutujaid, mille väärtused on ühised üle kõigi antud klassi kuuluvate objektide.\n",
    "Klassimuutuja väärtust saab omistada ja muuta klassi nime abil, näiteks:\n",
    "<pre>\n",
    ">> # Omistame klassimuutujale väärtuse\n",
    ">> Raamat.loendur = 2\n",
    ">> # Kasutame väärtust\n",
    ">> r1.loendur\n",
    "2\n",
    ">> r2.loendur\n",
    "2\n",
    "</pre>\n",
    "Kui klassi algusesse on lisatud dokumentatsioonisõne ( ingl <i>docstring</i> ), siis saab selle kätte spetsiaalse klassimuutuja <code>__doc__</code> kaudu:\n",
    "<pre>\n",
    ">> Raamat.__doc__\n",
    "'Baasklass raamatute info salvestamiseks.'\n",
    "</pre>\n",
    "</div>"
   ]
  },
  {
   "cell_type": "markdown",
   "metadata": {},
   "source": [
    "### Meetodid\n",
    "\n",
    "Kasutasime klassi `Raamat`, et salvestada raamatute kohta käivat informatsiooni.\n",
    "Nüüd aga loome uue klassi `RaamatuRiiul`, mis aitab meil raamatuid koguda ja organiseerida:"
   ]
  },
  {
   "cell_type": "code",
   "execution_count": 8,
   "metadata": {
    "scrolled": true
   },
   "outputs": [],
   "source": [
    "class RaamatuRiiul:\n",
    "    # konstruktor: tekitab \"tühja riiuli\"\n",
    "    def __init__(self):\n",
    "        # isendimuutuja(d)\n",
    "        self.raamatud = []\n",
    "\n",
    "    # Lisab uue raamatu riiulisse\n",
    "    def lisa(self, raamat):\n",
    "        self.raamatud.append( raamat )\n",
    "    \n",
    "    # Filtreerib autori nime(osa) järgi\n",
    "    def leia_autori_järgi(self, autor):\n",
    "        return [raamat for raamat in self.raamatud if autor in raamat.autor]\n",
    "    \n",
    "    # Filtreerib pealkirja (või selle alamosa) järgi\n",
    "    def leia_pealkirja_järgi(self, pealkiri):\n",
    "        return [raamat for raamat in self.raamatud if pealkiri in raamat.pealkiri]"
   ]
  },
  {
   "cell_type": "markdown",
   "metadata": {},
   "source": [
    "Klassi konstruktor seekord parameetreid ei nõua ning tekitab tühja raamatute listi. \n",
    "Uue raamatu lisamiseks riiulisse on meetod `lisa()` -- see on lühem kui kirjutada `riiul.raamatud.append( ... )` ning vajadusel saame sinna hiljem lisada ka kontrolli, et lisatav objekt oleks kindlasti `Raamat`.\n",
    "Meetodid `leia_autori_järgi( autor )` ja `leia_pealkirja_järgi( pealkiri )` võimaldavad meil raamaturiiulit inventeerida: saab raamatuid otsida autori nime ning pealkirja (või selle alamosa) järgi."
   ]
  },
  {
   "cell_type": "code",
   "execution_count": 9,
   "metadata": {
    "scrolled": true
   },
   "outputs": [],
   "source": [
    "riiul = RaamatuRiiul()\n",
    "riiul.lisa(r1)\n",
    "riiul.lisa(Raamat('Rehepapp', 'Andrus Kivirähk'))\n",
    "riiul.lisa(r2)\n",
    "riiul.lisa(Raamat('Tont ja Facebook', 'Andrus Kivirähk'))\n",
    "riiul.lisa(Raamat('French ja Koulu', 'Indrek Hargla'))"
   ]
  },
  {
   "cell_type": "code",
   "execution_count": 10,
   "metadata": {
    "scrolled": true
   },
   "outputs": [
    {
     "name": "stdout",
     "output_type": "stream",
     "text": [
      "{'pealkiri': 'Naksitrallid', 'autor': 'Eno Raud', 'ilmumisaasta': 1972}\n",
      "{'pealkiri': 'Eestlase käsiraamat', 'autor': 'Mihkel Raud'}\n"
     ]
    }
   ],
   "source": [
    "for raamat in riiul.leia_autori_järgi('Raud'):\n",
    "    print( raamat.__dict__ )"
   ]
  },
  {
   "cell_type": "markdown",
   "metadata": {},
   "source": [
    "### Klasside pärilus ja meetodite üledefineerimine. Klassikuuluvuse kontrollimine\n",
    "\n",
    "Objekt-orienteeritud lähenemisel on veel üks oluline aspekt: klasside abil on võimalik luua hierarhiaid, milles alamklassid pärivad ülemklassidelt meetodid ja atribuudid ning laiendavad ülemklasside funktsionaalsust.\n",
    "\n",
    "Näiteks, klassile <code>Raamat</code> võime luua alamklassi <code>LasteRaamat</code>, mis täiendab selle atribuute ühe lisa-atribuudiga -- teeme nii, et lasteraamatul on lisaks pealkirjale ja autorile ka illustraator:"
   ]
  },
  {
   "cell_type": "code",
   "execution_count": 11,
   "metadata": {},
   "outputs": [],
   "source": [
    "class LasteRaamat(Raamat):\n",
    "    # konstruktor\n",
    "    def __init__(self, pealkiri, autor, illustraator):\n",
    "        # kutsume välja ülemklassi konstruktori\n",
    "        super().__init__(pealkiri, autor)\n",
    "        # isendimuutuja(d)\n",
    "        self.illustraator = illustraator"
   ]
  },
  {
   "cell_type": "markdown",
   "metadata": {},
   "source": [
    "Kui alamklass kasutab sama nimega meetodeid, mis ülemklass, nimetatakse seda meetodi _üledefineerimiseks_ ( ingl _method overloading_ ).\n",
    "Antud näites defineerisime siis üle konstruktori ja nõudsime uues konstruktoris 2 sisendparameetri asemel 3-e.\n",
    "Siiski ei toimunud konstruktori funktsionaalsuse täielikku asendamist (mis on ka võimalik), vaid  <code>super().__init__(pealkiri, autor)</code> abil kutsusime kõigepealt välja ülemklassi konstruktori ning seejärel lisasime omalt poolt uue isendimuutuja."
   ]
  },
  {
   "cell_type": "code",
   "execution_count": 12,
   "metadata": {},
   "outputs": [
    {
     "data": {
      "text/plain": [
       "{'pealkiri': 'Ükskord ühes paigas',\n",
       " 'autor': 'Vladislav Koržets',\n",
       " 'illustraator': 'Hillar Mets'}"
      ]
     },
     "execution_count": 12,
     "metadata": {},
     "output_type": "execute_result"
    }
   ],
   "source": [
    "r3 = LasteRaamat('Ükskord ühes paigas', 'Vladislav Koržets', 'Hillar Mets')\n",
    "r3.__dict__"
   ]
  },
  {
   "cell_type": "markdown",
   "metadata": {},
   "source": [
    "#### Klassikuuluvuse kontroll. Andmetüüpide kontrollimine\n",
    "\n",
    "Klasside kasutamisel võib tekkida vajadus kontrollida, kas andmed kuuluvad mingisse klassi või mitte.\n",
    "Funktsioon <code>isinstance(obj, Class)</code> kontrollib, kas etteantud objekt ( _isend_ ) kuulub antud klassi või mõnesse selle alamklassi. Näiteks:"
   ]
  },
  {
   "cell_type": "code",
   "execution_count": 13,
   "metadata": {},
   "outputs": [
    {
     "data": {
      "text/plain": [
       "True"
      ]
     },
     "execution_count": 13,
     "metadata": {},
     "output_type": "execute_result"
    }
   ],
   "source": [
    "isinstance(r2, Raamat)"
   ]
  },
  {
   "cell_type": "code",
   "execution_count": 14,
   "metadata": {},
   "outputs": [
    {
     "data": {
      "text/plain": [
       "False"
      ]
     },
     "execution_count": 14,
     "metadata": {},
     "output_type": "execute_result"
    }
   ],
   "source": [
    "isinstance(r2, LasteRaamat)"
   ]
  },
  {
   "cell_type": "code",
   "execution_count": 15,
   "metadata": {},
   "outputs": [
    {
     "data": {
      "text/plain": [
       "True"
      ]
     },
     "execution_count": 15,
     "metadata": {},
     "output_type": "execute_result"
    }
   ],
   "source": [
    "isinstance(r3, LasteRaamat)"
   ]
  },
  {
   "cell_type": "markdown",
   "metadata": {},
   "source": [
    "Sisuliselt saab funktsiooni kasutada ka muude andmetüüpide kontrollimisel, nt võime kontrollida, kas etteantud muutuja on täisarv:"
   ]
  },
  {
   "cell_type": "code",
   "execution_count": 16,
   "metadata": {},
   "outputs": [
    {
     "data": {
      "text/plain": [
       "True"
      ]
     },
     "execution_count": 16,
     "metadata": {},
     "output_type": "execute_result"
    }
   ],
   "source": [
    "a = 4\n",
    "isinstance(a, int)"
   ]
  },
  {
   "cell_type": "markdown",
   "metadata": {},
   "source": [
    "Funktsioon <code>issubclass(sub, sup)</code> kontrollib, kas etteantud klass `sub` on klassi `sup` alamklass. Näiteks:"
   ]
  },
  {
   "cell_type": "code",
   "execution_count": 17,
   "metadata": {},
   "outputs": [
    {
     "data": {
      "text/plain": [
       "True"
      ]
     },
     "execution_count": 17,
     "metadata": {},
     "output_type": "execute_result"
    }
   ],
   "source": [
    "issubclass(LasteRaamat, Raamat)"
   ]
  },
  {
   "cell_type": "code",
   "execution_count": 18,
   "metadata": {},
   "outputs": [
    {
     "data": {
      "text/plain": [
       "False"
      ]
     },
     "execution_count": 18,
     "metadata": {},
     "output_type": "execute_result"
    }
   ],
   "source": [
    "issubclass(LasteRaamat, RaamatuRiiul)"
   ]
  },
  {
   "cell_type": "markdown",
   "metadata": {},
   "source": [
    "Oluline on täheldada, et mõlemad sisendparameetrid (`sub` ja `sup`) **peavad olema klassid** , vastasel juhul annab funktsioon veateate. \n",
    "Kui soov on kontrollida klassi isendit, tuleb isendi atribuuti `__class__` abil välja tuua selle klass:"
   ]
  },
  {
   "cell_type": "code",
   "execution_count": 19,
   "metadata": {},
   "outputs": [
    {
     "data": {
      "text/plain": [
       "True"
      ]
     },
     "execution_count": 19,
     "metadata": {},
     "output_type": "execute_result"
    }
   ],
   "source": [
    "issubclass(r3.__class__, Raamat)"
   ]
  },
  {
   "cell_type": "markdown",
   "metadata": {},
   "source": [
    "Alternatiivne ja üldisem viis objekti klassi kättesaamiseks on funktsioon `type( obj )`:"
   ]
  },
  {
   "cell_type": "code",
   "execution_count": 20,
   "metadata": {},
   "outputs": [
    {
     "data": {
      "text/plain": [
       "__main__.LasteRaamat"
      ]
     },
     "execution_count": 20,
     "metadata": {},
     "output_type": "execute_result"
    }
   ],
   "source": [
    "type(r3)"
   ]
  },
  {
   "cell_type": "code",
   "execution_count": 21,
   "metadata": {},
   "outputs": [
    {
     "data": {
      "text/plain": [
       "True"
      ]
     },
     "execution_count": 21,
     "metadata": {},
     "output_type": "execute_result"
    }
   ],
   "source": [
    "issubclass(type(r3), Raamat)"
   ]
  },
  {
   "cell_type": "markdown",
   "metadata": {},
   "source": [
    "Funktsioon `type` tagastab etteantud muutuja või andmestruktuuri tüübi, objekti puhul klassi. \n",
    "Seda funktsiooni saab rakendada ka tavaliste andmetüüpide kontrollimisel, näiteks:"
   ]
  },
  {
   "cell_type": "code",
   "execution_count": 22,
   "metadata": {},
   "outputs": [
    {
     "data": {
      "text/plain": [
       "str"
      ]
     },
     "execution_count": 22,
     "metadata": {},
     "output_type": "execute_result"
    }
   ],
   "source": [
    "type('Tsau-pakaa!')"
   ]
  },
  {
   "cell_type": "markdown",
   "metadata": {},
   "source": [
    "### Andmeklassid (@dataclass dekoraator)\n",
    "\n",
    "Alates Pythoni versioonist 3.7 on võimalik andmeklasse (nagu `Raamat` ja `LasteRaamat` eelmistes näidetes) luua ka mallipõhiselt, kasutades [dekoraatorit](https://realpython.com/primer-on-python-decorators/) `@dataclass`. Näide:"
   ]
  },
  {
   "cell_type": "code",
   "execution_count": 23,
   "metadata": {},
   "outputs": [],
   "source": [
    "from dataclasses import dataclass\n",
    "\n",
    "# dataclass -- peame ainult defineerima isendimuutujad, \n",
    "# konstruktor luuakse nende põhjal automaatselt\n",
    "@dataclass\n",
    "class Raamat:\n",
    "    'Baasklass raamatute info salvestamiseks.'\n",
    "    pealkiri: str\n",
    "    autor: str\n",
    "\n",
    "@dataclass\n",
    "class LasteRaamat(Raamat):\n",
    "    illustraator: str    "
   ]
  },
  {
   "cell_type": "code",
   "execution_count": 24,
   "metadata": {},
   "outputs": [
    {
     "data": {
      "text/plain": [
       "Raamat(pealkiri='Rehepapp', autor='Andrus Kivirähk')"
      ]
     },
     "execution_count": 24,
     "metadata": {},
     "output_type": "execute_result"
    }
   ],
   "source": [
    "r1 = Raamat('Rehepapp', 'Andrus Kivirähk')\n",
    "r1"
   ]
  },
  {
   "cell_type": "code",
   "execution_count": 25,
   "metadata": {},
   "outputs": [
    {
     "data": {
      "text/plain": [
       "{'pealkiri': 'Rehepapp', 'autor': 'Andrus Kivirähk'}"
      ]
     },
     "execution_count": 25,
     "metadata": {},
     "output_type": "execute_result"
    }
   ],
   "source": [
    "r1.__dict__"
   ]
  },
  {
   "cell_type": "code",
   "execution_count": 26,
   "metadata": {},
   "outputs": [
    {
     "data": {
      "text/plain": [
       "LasteRaamat(pealkiri='Tont ja Facebook', autor='Andrus Kivirähk', illustraator='Heiki Ernits')"
      ]
     },
     "execution_count": 26,
     "metadata": {},
     "output_type": "execute_result"
    }
   ],
   "source": [
    "r2 = LasteRaamat('Tont ja Facebook', 'Andrus Kivirähk', 'Heiki Ernits')\n",
    "r2"
   ]
  },
  {
   "cell_type": "markdown",
   "metadata": {},
   "source": [
    "<div class=\"alert alert-block alert-warning\">\n",
    "<h4><i>Täiendavaid viiteid objekt-orienteeritud programmeerimise kohta</i></h4>\n",
    "<ul>\n",
    "<li><a href=\"https://www.metshein.com/unit/python3-klassid-ja-objektid-ulesanne-8\">Python3 – Klassid ja objektid</a> -- eestikeelne sissejuhatav abimaterjal portaalist metshein.com ;</li>\n",
    "<li><a href=\"https://henryiii.github.io/level-up-your-python/notebooks/1.1%20Intro%20to%20Classes.html\">Intro to classes</a> -- kompaktne inglisekeelne materjal, sobib kiire ülevaate saamiseks;</li>    \n",
    "<li><a href=\"https://realpython.com/python3-object-oriented-programming\">Object-Oriented Programming (OOP) in Python 3</a> -- detailne inglisekeelne materjal, mis annab ülevaate põhikontseptsioonidest;</li>\n",
    "<li><a href=\"https://www.tutorialspoint.com/python/python_classes_objects.htm\">Python - Object Oriented @ tutorialspoint</a> -- detailne inglisekeelne materjal, mis tutvustab terminoloogiat ja annab ülevaate põhikontseptsioonidest; </li>    \n",
    "<li><a href=\"https://docs.python.org/3/tutorial/classes.html\">Classes in Python</a> -- materjal edasijõudnutele (peamiselt neile, kes on juba tuttavad erinevate programmeerimiskeeltega); </li>\n",
    "<li><a href=\"https://docs.python.org/3.9/library/dataclasses.html\">Data Classes in Python</a>;</li>\n",
    "    \n",
    "</ul>\n",
    "</div>"
   ]
  },
  {
   "cell_type": "markdown",
   "metadata": {},
   "source": [
    "---"
   ]
  }
 ],
 "metadata": {
  "anaconda-cloud": {},
  "kernelspec": {
   "display_name": "Python 3 (ipykernel)",
   "language": "python",
   "name": "python3"
  },
  "language_info": {
   "codemirror_mode": {
    "name": "ipython",
    "version": 3
   },
   "file_extension": ".py",
   "mimetype": "text/x-python",
   "name": "python",
   "nbconvert_exporter": "python",
   "pygments_lexer": "ipython3",
   "version": "3.9.17"
  }
 },
 "nbformat": 4,
 "nbformat_minor": 4
}
