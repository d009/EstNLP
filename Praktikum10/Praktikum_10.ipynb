{
 "cells": [
  {
   "cell_type": "markdown",
   "metadata": {},
   "source": [
    "<h1 style=\"color:blue\">Praktikum 10</h1>\n",
    "\n",
    "<h3 style=\"color:blue\">Veebiga suhtlemine ja tekstiandmete kogumine veebist</h3>"
   ]
  },
  {
   "cell_type": "markdown",
   "metadata": {},
   "source": [
    "Tänases praktikumis õpime, kuidas luua programme, mis suhtlevad veebiga: teevad veebis päringuid ja korjavad sealt tekstiandmeid. Alustame lihtsamatest programmidest, mis \"tõmbavad alla\" ühe veebilehe sisu ja otsivad sealt meid huvitavat infot, ning lõpetame keerulisemate programmidega -- nn \"veebiämblikega\", mis liiguvad andmeid korjates veebilehelt veebilehele.\n",
    "\n",
    "## Veebiga suhtlemine\n",
    "\n",
    "Igapäevaselt saame veebiga suhelda internetilehitseja ehk brauseri vahendusel, külastades uudisteportaale, blogisid ning teisi lehekülgi. Kui tahame programmaatiliselt veebist tekste alla laadida, siis peame natukene tutvuma ka tehnilise poolega: millised päringud milliste argumentidega seal taustal toimuvad. Sellest tulebki järgnevalt juttu.\n",
    "\n",
    "#### _Get_ päringud\n",
    "\n",
    "Kui sisestame aadressi brauseri aadressilahtrisse, teeb brauser tavaliselt **_get_** päringu kindlale ressursile, mille tagajärjel saadetakse dokument serverist meie arvutisse. Andmete sisestamine / saatmine veebilehe kaudu (täidame lehel oleva lahtri või vormi ja vajutame ENTER'it / \"nuppu SAADA\" vms) toimub samuti kas _get_ või _post_ päringute kaudu. _Get_-päringuid kasutatakse tavaliselt siis, kui saata tuleb väike hulk andmeid (kuna _get_ päringul on suuruse limiit), ning _post_-päringud on reserveeritud suurtes kogustes andmete saatmiseks.\n",
    "\n",
    "_Get_-päringutega on lihtne selles mõttes, et standardi kohaselt on kogu informatiivne teave serverile talletatud päringu kehas ning seega ressursi pärimine pole oluliselt keerulisem brausimisest. Lihtsustatud näide guugeldamisest. Kui lähed lehele [www.google.ee](https://www.google.ee) ning sisestad otsinguaknasse \"keeletehnoloogia\", siis peaks brauser minema automaatselt uuele leheküljele***, mille veebiaadress on:\n",
    "\n",
    "    https://www.google.ee/search?q=keeletehnoloogia \n",
    "\n",
    "(*** -- tõsi, praktikas võib _google_-otsingu aadress olla keerulisem, sõltuvalt sellest, millised on olnud eelmised otsingud / _google_ kasutamise  ajalugu)\n",
    "\n",
    "Sellisel kujul olev veebiaadress tähendabki  **parameetritega _get_-päringu** tegemist: leheküljele `https://www.google.ee/search` tehakse päring, millega pannakse kaasa parameeter `q=keeletehnoloogia`. Server, mis selle päringu vastu võtab, sooritab vastava otsingu (leiab veebilehed, mis mainivad _keeletehnoloogiat_) ja tagastab otsingu tulemusi sisaldava veebilehe. Ja tegelikult me ei peagi päringu tegemiseks alustama [www.google.ee](https://www.google.ee) leheküljest -- kui meil on teada _get_-päringule vastav veebiaadress (ja me oleme välja selgitanud, mida üks või teine parameeter teeb), siis võime ka käsitsi konstrueerida vastava päringu ja sisestada selle brauseri kaudu. Proovi käsitsi muuta _google_ päringu veebiaadressi nii, et otsitakse mingit teist märksõna.\n",
    "\n",
    "Milleks see info vajalik on? Kui uurid veebilehtede lähtekoodi ja leiad sealt lingid, mis näevad välja nagu parameetritega _get_-päringud, siis kõnelevad need üht-teist selle kohta, kuidas tuleb serveriga suhelda. Näiteks, kui on tegemist otsinguportaaliga, mis tagastab mitu lehekülge tulemusi, on päringuparameetrites sageli kirjas, mitmendalt leheküljelt alates tuleb (uues päringus) tulemusi kuvada. Selle teadmise abil saad luua programmi, mis teeb otsingumootoriga päringu, sirvib päringu tulemusi üle mitme lehekülje ja korjab andmeid.\n",
    "\n",
    "Lisaks _get_-päringutele võib server vastu võtta ka _post_-päringuid. Et _post_-päringute konstrueerimine on sageli keerulisem kui _get_-päringute konstrueerimine (ainuüksi veebilehe lähtekoodi vaadates ei pruugi me saada täit ülevaadet päringuks vajaminevast), siis me selle teemaga süvitsi ei lähe. Praktikas võime aga juba päris palju ära teha ka _get_-päringutega."
   ]
  },
  {
   "cell_type": "markdown",
   "metadata": {},
   "source": [
    "### Programmaatiline suhtlus\n",
    "\n",
    "#### Päringud teegi `urllib.request` abil\n",
    "\n",
    "Pythoni standardteegis vastutab veebiga suhtlemise eest teek `urllib.request`."
   ]
  },
  {
   "cell_type": "code",
   "execution_count": 1,
   "metadata": {},
   "outputs": [],
   "source": [
    "from urllib.request import urlopen\n",
    "\n",
    "url = 'http://www.folklore.ee/rl/folkte/myte/kalev/56.html'\n",
    "response = urlopen(url)"
   ]
  },
  {
   "cell_type": "markdown",
   "metadata": {},
   "source": [
    "Funktsioon `urlopen` sooritab päringu etteantud aadressile. Tulemuseks saame vastuse serverilt, mis on [_HTTPResponse_ objekti](https://docs.python.org/3/library/http.client.html#httpresponse-objects) kujul.\n",
    "\n",
    "Vastuse päises (_header_) on toodud päringu kohta mitmesuguseid metaandmeid. Nt leiab sealt päringu tegemise aja (`Date`), informatsiooni serveri kohta (`Server`), ressurssi viimase muutmiskuupäeva (`Last-Modified`) jms:"
   ]
  },
  {
   "cell_type": "code",
   "execution_count": 2,
   "metadata": {},
   "outputs": [
    {
     "data": {
      "text/plain": [
       "[('Date', 'Tue, 01 Nov 2022 09:13:29 GMT'),\n",
       " ('Server',\n",
       "  'Apache/2.4.53 (FreeBSD) OpenSSL/1.1.1o-freebsd mod_auth_gssapi/1.6.3 PHP/7.4.29'),\n",
       " ('Last-Modified', 'Wed, 23 Jan 2002 11:14:01 GMT'),\n",
       " ('ETag', '\"4357-398366c31f040\"'),\n",
       " ('Accept-Ranges', 'bytes'),\n",
       " ('Content-Length', '17239'),\n",
       " ('Connection', 'close'),\n",
       " ('Content-Type', 'text/html')]"
      ]
     },
     "execution_count": 2,
     "metadata": {},
     "output_type": "execute_result"
    }
   ],
   "source": [
    "response.getheaders()"
   ]
  },
  {
   "cell_type": "markdown",
   "metadata": {},
   "source": [
    "Kui korjame veebist tekstiandmeid, on meie jaoks olulisim päise andmeväli `Content-Type`, mis ütleb, mis liiki ressurssiga on tegu:"
   ]
  },
  {
   "cell_type": "code",
   "execution_count": 3,
   "metadata": {},
   "outputs": [
    {
     "data": {
      "text/plain": [
       "'text/html'"
      ]
     },
     "execution_count": 3,
     "metadata": {},
     "output_type": "execute_result"
    }
   ],
   "source": [
    "response.getheader('Content-Type')"
   ]
  },
  {
   "cell_type": "markdown",
   "metadata": {},
   "source": [
    "Lisaks võib `Content-Type` sisaldada ka dokumendi kodeeringut (nt `Content-Type: text/html; charset=utf-8` )."
   ]
  },
  {
   "cell_type": "markdown",
   "metadata": {},
   "source": [
    "Muude päise andmeväljade kohta vt lähemalt https://en.wikipedia.org/wiki/List_of_HTTP_header_fields ."
   ]
  },
  {
   "cell_type": "markdown",
   "metadata": {},
   "source": [
    "Vastuse objektist saab kätte ka päringu staatuskoodi. Sisuliselt annab see lühiteavet päringu õnnestumise kohta: kas päring õnnestus (kood: 200), päritud ressursile puudus õigus (401), ressurssi ei leidunud (404), server läks katki päringu peale (500) või muud sellist. "
   ]
  },
  {
   "cell_type": "code",
   "execution_count": 4,
   "metadata": {},
   "outputs": [
    {
     "data": {
      "text/plain": [
       "200"
      ]
     },
     "execution_count": 4,
     "metadata": {},
     "output_type": "execute_result"
    }
   ],
   "source": [
    "response.status"
   ]
  },
  {
   "cell_type": "markdown",
   "metadata": {},
   "source": [
    "Võimalike staatuskoodide kohta vt lähemalt https://en.wikipedia.org/wiki/List_of_HTTP_status_codes ."
   ]
  },
  {
   "cell_type": "markdown",
   "metadata": {},
   "source": [
    "Kõige oluliseim on aga lehe sisu kätte saada. \n",
    "\n",
    "Sarnaselt failiviitadega sisaldab vastuse objekt funktsiooni `read()`, mis tagastab vastuse sisu (nn vastuse keha) sõne kujul. Erinevalt faili avamisest on meil aga tagastatud sisu endiselt kodeeritud kujul, seega tuleb enne kasutamist dekodeerida:"
   ]
  },
  {
   "cell_type": "code",
   "execution_count": 5,
   "metadata": {},
   "outputs": [
    {
     "ename": "UnicodeDecodeError",
     "evalue": "'utf-8' codec can't decode byte 0xf5 in position 4372: invalid start byte",
     "output_type": "error",
     "traceback": [
      "\u001b[1;31m---------------------------------------------------------------------------\u001b[0m",
      "\u001b[1;31mUnicodeDecodeError\u001b[0m                        Traceback (most recent call last)",
      "Input \u001b[1;32mIn [5]\u001b[0m, in \u001b[0;36m<cell line: 1>\u001b[1;34m()\u001b[0m\n\u001b[1;32m----> 1\u001b[0m content \u001b[38;5;241m=\u001b[39m \u001b[43murlopen\u001b[49m\u001b[43m(\u001b[49m\u001b[43murl\u001b[49m\u001b[43m)\u001b[49m\u001b[38;5;241;43m.\u001b[39;49m\u001b[43mread\u001b[49m\u001b[43m(\u001b[49m\u001b[43m)\u001b[49m\u001b[38;5;241;43m.\u001b[39;49m\u001b[43mdecode\u001b[49m\u001b[43m(\u001b[49m\u001b[38;5;124;43m'\u001b[39;49m\u001b[38;5;124;43mutf8\u001b[39;49m\u001b[38;5;124;43m'\u001b[39;49m\u001b[43m)\u001b[49m\n",
      "\u001b[1;31mUnicodeDecodeError\u001b[0m: 'utf-8' codec can't decode byte 0xf5 in position 4372: invalid start byte"
     ]
    }
   ],
   "source": [
    "content = urlopen(url).read().decode('utf8') # proovime dekodeerida utf8 abil, kuivõrd kodeeringut pole 'Content-Type' päises"
   ]
  },
  {
   "cell_type": "markdown",
   "metadata": {},
   "source": [
    "Lugemisel tuli kodeeringuviga: paistab, et tegemist siiski pole `UTF-8`'ga.\n",
    "\n",
    "Milliseid kodeeringuid me veel teame? Kuna [veebileht ise](http://www.folklore.ee/rl/folkte/myte/kalev/) paistab olevat üksjagu ammu loodud, võiks ehk oletada, et loomisel on kasutatud Windows'i masinat. Seega võime katsetada Windows'i tüüpilist kodeeringut:"
   ]
  },
  {
   "cell_type": "code",
   "execution_count": 6,
   "metadata": {},
   "outputs": [
    {
     "data": {
      "text/plain": [
       "'<!DOCTYPE HTML PUBLIC \"-//W3C//DTD HTML 4.0 TRANSITIONAL//EN\">\\r\\n\\r\\n<HTML>\\r\\n\\r\\n<HEAD>\\r\\n<TITLE>Kalevipoeg - Kalevipoja varandus</TITLE>\\r\\n<META NAME=\"GENERATOR\" CONTENT=\"Arachnophilia 3.9\">\\r\\n<META NAME=\"FORMATTER\" CONTENT=\"Arachnophilia 3.9\">\\r\\n</HEAD>\\r\\n\\r\\n<BODY BGCOLOR=\"#003050\" TEXT=\"#AAAAAA\" LINK=\"#AFAFAF\" VLINK=\"#8F8F8F\" ALINK=\"#FFFF00\" BGPROPERTIES=FIXED>\\n\\r\\n<CENTER><FONT COLOR=\"#CFCFCF\"><H1><B>381. KALEVIPOJA VARANDUS</B></H1></FONT></CENTER>\\r\\n[Kalevipoja varandus T&uuml;rsam&auml;el]<BR>\\r\\n&Auml;rina metsas Porkuni raja peal on kaks suurt kivi, mida &uuml;hte nendest Viru &auml;mmaks kutsutakse, muidu ka veel suuremat teumeeste &auml;mmaks, v&auml;hemat teuvaimude &auml;iaks. Viru &auml;mma all pidada nimelt Kalevipoja terve varandus ja tema t&ouml;&ouml;riistad varjul olema. Kalevipoja hobuse kondid ja hobuseriistad pidada aga Assamalla luhas olema. 1909. aasta suvel k&auml;idud Soomest &uuml;ht T&uuml;rsam&auml;ge V&auml;ike-Maarja kihelkonnas taga otsimas. Seal m&auml;e peal peab &uuml;ks suur v&ouml;&ouml;tidega kivi olema ja kolm munasuurust auku seal kivi sees. Viru &auml;mm on k&uuml;ll n&otilde;ndanimetud T&otilde;rgam&auml;e otsas ja v&ouml;&ouml;diline on ta k&uuml;ll, aga nimetud kolme kanamuna suurust auku ei ole seal sees. Ka on v&auml;lk kord sellesse kivisse l&ouml;&ouml;nud ja suure t&uuml;ki k&uuml;llest maha p&otilde;rutanud.<BR>\\r\\nE&Uuml;S VII 2084 (307) &lt; V&auml;ike-Maarja &#151; V. Rosenstrauch &lt; Hans Aberdal, 50 a. (1910).<BR>\\r\\nVt. E 47611/2 (2) &lt; Simuna &lt; V&auml;ike-Maarja, Vao v., &Auml;rina m. &#151; V. Rosenstrauch &lt; M. &Otilde;un (1911).<BR>\\r\\nVrd. muist. 12, 178, 180, 268.<BR>\\r\\n<BR>\\r\\n382. <BR>\\r\\n[Kalevipoja kulduur Iisakus]<BR>\\r\\n<BR>\\r\\nA<FONT FACE=\"Times New Roman CYR\">.</FONT><FONT FACE=\"Times New Roman\"><BR>\\r\\nRootsi s&otilde;ja ajal on raha peidetud maasse. 40&#151;50 aastat tagasi on Laane talu krundil olevast allikast kulda &auml;ra viidud. Kalevipojal pidi olema matisuurune kulduur, mida ka tema arvatavast kalmust on otsitud.<BR>\\r\\nA. Amandus, Iisaku kihelkonna suulist ajaloolist traditsiooni, 1932, lk. 36.<BR>\\r\\n<BR>\\r\\nB.<BR>\\r\\nKivin&otilde;mmes, siit Vasknarva poole, pidi olema Kalevipoja haud. Selles pidi olema t&uuml;nder kulda ja Kalevipoja kulduur. Kes seda hauda lahti kaevama l&auml;ks, see suri j&auml;rgmisel aastal.<BR>\\r\\nKKI 20, 105 (l) J&otilde;hvi raj., Kurem&auml;e, Sootaga k. &#151; H. Kihno ja L. Raudsep &lt; Joosep Maukin, 89</FONT><FONT FACE=\"Times New Roman CYR\"> a.</FONT><FONT FACE=\"Times New Roman\"> (1955).<BR>\\r\\nVt. ka: Kalevipoja haud. muist. 345, 346.<BR>\\r\\n<BR>\\r\\n383. <BR>\\r\\n[Rahat&uuml;li Kalevipoja lingukivi juures]<BR>\\r\\nKord tulnud Haeska k&uuml;las elutsev Andruse J&uuml;ri, h&uuml;&uuml;dnimega Suur J&uuml;ri, Sinalepa m&otilde;isast kodu poole, k&auml;es olnud h&auml;rjaike. Oli seal k&uuml;ndmas olnud. H&auml;rjad olid ikke &auml;ra purustanud, n&uuml;&uuml;d pidi selle asemele kodus uue tegema. Tema tee l&auml;inud k&uuml;la p&otilde;llul asuva Kalevipoja lingukivi juurest l&auml;bi. Eemalt n&auml;inud tema, et kivi juures p&otilde;leb tulukene. Tema arvanud, et k&uuml;la poisid-t&uuml;drukud teevad l&otilde;ket kivi juures. Saanud aga l&auml;hemale, n&auml;inud, et see pole mingisugune l&otilde;kketuli, vaid hoopis muud. Pole puid olnud. Leek t&otilde;usnud otsekui maa seest &uuml;lese. Rahaauk, m&otilde;telnud tema. Oli ju kuulnud, et sellisel korral tuleb midagi raudasja tulle visata, aga temal pole muud k&auml;es olnud kui puust h&auml;rjaike. M&otilde;elnud, viskan &otilde;ige selle tulese, teeb mis teeb, ja visanudki. Aga mis siis s&uuml;ndinud! K&auml;inud k&otilde;rvalukustav pauk ja tulest pole enam m&auml;rkigi j&auml;rel olnud. Teisel p&auml;eval sealt m&ouml;&ouml;da minnes leidnud ta sealt kohalt, kus &otilde;htul tuli p&otilde;lenud, neli kahek&uuml;mnekopikalist vaskraha. Oleks raudasja visanud, oleks k&otilde;ik raha august k&auml;tte saanud, aga et puust eseme viskas, siis pole rohkem saanud. Visatud ikkest pole aga mingisuguseid j&auml;&auml;nuseid j&auml;rel olnud. Ka peale seda pole keegi tuld seal n&auml;inud.<BR>\\r\\nERA II 115, 437/8 (26) &lt; Martna khk. ja v., Haeska k. &#151; A. Isberg (1935). Vrd. Kivi lammast murdva hundi pihta, muist. 12.<BR>\\r\\n<BR>\\r\\n384. <BR>\\r\\n[Kalevipoja varandus Pataka m&auml;el]<BR>\\r\\nOru vallas Vedra k&uuml;las Pataka m&auml;el on &uuml;ks suur <A HREF=\"\" onClick=\"return showNote(\\'Sõnaseletus\\',\\'Kivi. \\',\\'#0000AC\\',\\'\\',\\'#FFFF00\\',\\'Times New Roman\\',4)\">kibi</A><SCRIPT LANGUAGE=\"JavaScript\">\\r\\n<!-- begin script\\r\\nvar windowNote;\\r\\n\\r\\nfunction showNote(title, message, colorBack, back, textColor, typeFont, sizeFont) {\\r\\n  windowNote = window.open(\\'\\',\\'Note\\',\\'toolbar=no,location=no,directories=no,status=no,scrollbars=yes,resizable=yes,copyhistory=no,\\' + \\'width=400\\' + \\',height=100\\');\\r\\n  text = \\'<\\' + \\'HTML\\' + \\'><\\' + \\'HEAD\\' + \\'><\\' + \\'TITLE\\' + \\'>\\' + title + \\'</\\' + \\'TITLE\\' + \\'><\\' + \\'/HEAD\\' + \\'><\\' + \\'BODY BACKGROUND=\\' + \\'\"\\' + back + \\'\"\\' + \\' BGCOLOR=\\' + \\'\"\\' + colorBack + \\'\">\\';\\r\\n  text += \\'<CENTER>\\';\\r\\n  text +=\\'<FONT FACE=\"\\' + typeFont +\\'\"\\';\\r\\n  text += \\' SIZE=\\' + sizeFont; \\r\\n  text += \\' COLOR=\\' + \\'\"\\' + textColor +\\'\">\\';\\r\\n  text += message + \\'</CENTER></FONT>\\';\\r\\n  text += \\'</\\' + \\'BODY\\' + \\'><\\' + \\'/HTML\\' + \\'>\\';\\r\\n  windowNote.document.write(text);\\r\\n  windowNote.focus();\\r\\n  windowNote.document.close();\\r\\n  return false;\\r\\n}\\r\\n//  end script -->\\r\\n</SCRIPT>\\r\\n, kellest poole Kalevipoeg omal ajal, kui Haapsallu lossitorni oli ehitatud, &auml;ra kiskund ja lossitorni maha tahtnud visata. Tal jalg libisend lehma s[ita]lasu sisse ja <A HREF=\"\" onClick=\"return showNote(\\'Sõnaseletus\\',\\'Kivi. \\',\\'#0000AC\\',\\'\\',\\'#FFFF00\\',\\'Times New Roman\\',4)\">kibi</A><SCRIPT LANGUAGE=\"JavaScript\">\\r\\n<!-- begin script\\r\\nvar windowNote;\\r\\n\\r\\nfunction showNote(title, message, colorBack, back, textColor, typeFont, sizeFont) {\\r\\n  windowNote = window.open(\\'\\',\\'Note\\',\\'toolbar=no,location=no,directories=no,status=no,scrollbars=yes,resizable=yes,copyhistory=no,\\' + \\'width=400\\' + \\',height=100\\');\\r\\n  text = \\'<\\' + \\'HTML\\' + \\'><\\' + \\'HEAD\\' + \\'><\\' + \\'TITLE\\' + \\'>\\' + title + \\'</\\' + \\'TITLE\\' + \\'><\\' + \\'/HEAD\\' + \\'><\\' + \\'BODY BACKGROUND=\\' + \\'\"\\' + back + \\'\"\\' + \\' BGCOLOR=\\' + \\'\"\\' + colorBack + \\'\">\\';\\r\\n  text += \\'<CENTER>\\';\\r\\n  text +=\\'<FONT FACE=\"\\' + typeFont +\\'\"\\';\\r\\n  text += \\' SIZE=\\' + sizeFont; \\r\\n  text += \\' COLOR=\\' + \\'\"\\' + textColor +\\'\">\\';\\r\\n  text += message + \\'</CENTER></FONT>\\';\\r\\n  text += \\'</\\' + \\'BODY\\' + \\'><\\' + \\'/HTML\\' + \\'>\\';\\r\\n  windowNote.document.write(text);\\r\\n  windowNote.focus();\\r\\n  windowNote.document.close();\\r\\n  return false;\\r\\n}\\r\\n//  end script -->\\r\\n</SCRIPT>\\r\\n l&auml;ind V&otilde;nnu saarele, kus ta praegust koa veel on. Pataka m&auml;el oleva <A HREF=\"\" onClick=\"return showNote(\\'Sõnaseletus\\',\\'Kivi. \\',\\'#0000AC\\',\\'\\',\\'#FFFF00\\',\\'Times New Roman\\',4)\">kibi</A><SCRIPT LANGUAGE=\"JavaScript\">\\r\\n<!-- begin script\\r\\nvar windowNote;\\r\\n\\r\\nfunction showNote(title, message, colorBack, back, textColor, typeFont, sizeFont) {\\r\\n  windowNote = window.open(\\'\\',\\'Note\\',\\'toolbar=no,location=no,directories=no,status=no,scrollbars=yes,resizable=yes,copyhistory=no,\\' + \\'width=400\\' + \\',height=100\\');\\r\\n  text = \\'<\\' + \\'HTML\\' + \\'><\\' + \\'HEAD\\' + \\'><\\' + \\'TITLE\\' + \\'>\\' + title + \\'</\\' + \\'TITLE\\' + \\'><\\' + \\'/HEAD\\' + \\'><\\' + \\'BODY BACKGROUND=\\' + \\'\"\\' + back + \\'\"\\' + \\' BGCOLOR=\\' + \\'\"\\' + colorBack + \\'\">\\';\\r\\n  text += \\'<CENTER>\\';\\r\\n  text +=\\'<FONT FACE=\"\\' + typeFont +\\'\"\\';\\r\\n  text += \\' SIZE=\\' + sizeFont; \\r\\n  text += \\' COLOR=\\' + \\'\"\\' + textColor +\\'\">\\';\\r\\n  text += message + \\'</CENTER></FONT>\\';\\r\\n  text += \\'</\\' + \\'BODY\\' + \\'><\\' + \\'/HTML\\' + \\'>\\';\\r\\n  windowNote.document.write(text);\\r\\n  windowNote.focus();\\r\\n  windowNote.document.close();\\r\\n  return false;\\r\\n}\\r\\n//  end script -->\\r\\n</SCRIPT>\\r\\n all on rahvajutu j&auml;rele seitse h&auml;rjasarvet&auml;it h&otilde;bedat. K&auml;tte v&otilde;ib selle sealt soada, kui v&otilde;tta uueaasta &ouml;&ouml;si kaks musta pulli ja rakendada need k&ouml;ie otsas <A HREF=\"\" onClick=\"return showNote(\\'Sõnaseletus\\',\\'Kivi. \\',\\'#0000AC\\',\\'\\',\\'#FFFF00\\',\\'Times New Roman\\',4)\">kibi</A><SCRIPT LANGUAGE=\"JavaScript\">\\r\\n<!-- begin script\\r\\nvar windowNote;\\r\\n\\r\\nfunction showNote(title, message, colorBack, back, textColor, typeFont, sizeFont) {\\r\\n  windowNote = window.open(\\'\\',\\'Note\\',\\'toolbar=no,location=no,directories=no,status=no,scrollbars=yes,resizable=yes,copyhistory=no,\\' + \\'width=400\\' + \\',height=100\\');\\r\\n  text = \\'<\\' + \\'HTML\\' + \\'><\\' + \\'HEAD\\' + \\'><\\' + \\'TITLE\\' + \\'>\\' + title + \\'</\\' + \\'TITLE\\' + \\'><\\' + \\'/HEAD\\' + \\'><\\' + \\'BODY BACKGROUND=\\' + \\'\"\\' + back + \\'\"\\' + \\' BGCOLOR=\\' + \\'\"\\' + colorBack + \\'\">\\';\\r\\n  text += \\'<CENTER>\\';\\r\\n  text +=\\'<FONT FACE=\"\\' + typeFont +\\'\"\\';\\r\\n  text += \\' SIZE=\\' + sizeFont; \\r\\n  text += \\' COLOR=\\' + \\'\"\\' + textColor +\\'\">\\';\\r\\n  text += message + \\'</CENTER></FONT>\\';\\r\\n  text += \\'</\\' + \\'BODY\\' + \\'><\\' + \\'/HTML\\' + \\'>\\';\\r\\n  windowNote.document.write(text);\\r\\n  windowNote.focus();\\r\\n  windowNote.document.close();\\r\\n  return false;\\r\\n}\\r\\n//  end script -->\\r\\n</SCRIPT>\\r\\n ette seitsme <A HREF=\"\" onClick=\"return showNote(\\'Sõnaseletus\\',\\'S&otilde;lmeliik. \\',\\'#0000AC\\',\\'\\',\\'#FFFF00\\',\\'Times New Roman\\',4)\">seas&otilde;rga</A><SCRIPT LANGUAGE=\"JavaScript\">\\r\\n<!-- begin script\\r\\nvar windowNote;\\r\\n\\r\\nfunction showNote(title, message, colorBack, back, textColor, typeFont, sizeFont) {\\r\\n  windowNote = window.open(\\'\\',\\'Note\\',\\'toolbar=no,location=no,directories=no,status=no,scrollbars=yes,resizable=yes,copyhistory=no,\\' + \\'width=400\\' + \\',height=100\\');\\r\\n  text = \\'<\\' + \\'HTML\\' + \\'><\\' + \\'HEAD\\' + \\'><\\' + \\'TITLE\\' + \\'>\\' + title + \\'</\\' + \\'TITLE\\' + \\'><\\' + \\'/HEAD\\' + \\'><\\' + \\'BODY BACKGROUND=\\' + \\'\"\\' + back + \\'\"\\' + \\' BGCOLOR=\\' + \\'\"\\' + colorBack + \\'\">\\';\\r\\n  text += \\'<CENTER>\\';\\r\\n  text +=\\'<FONT FACE=\"\\' + typeFont +\\'\"\\';\\r\\n  text += \\' SIZE=\\' + sizeFont; \\r\\n  text += \\' COLOR=\\' + \\'\"\\' + textColor +\\'\">\\';\\r\\n  text += message + \\'</CENTER></FONT>\\';\\r\\n  text += \\'</\\' + \\'BODY\\' + \\'><\\' + \\'/HTML\\' + \\'>\\';\\r\\n  windowNote.document.write(text);\\r\\n  windowNote.focus();\\r\\n  windowNote.document.close();\\r\\n  return false;\\r\\n}\\r\\n//  end script -->\\r\\n</SCRIPT>\\r\\n s&otilde;lmiga, siis <A HREF=\"\" onClick=\"return showNote(\\'Sõnaseletus\\',\\'Kivi. \\',\\'#0000AC\\',\\'\\',\\'#FFFF00\\',\\'Times New Roman\\',4)\">kibi</A><SCRIPT LANGUAGE=\"JavaScript\">\\r\\n<!-- begin script\\r\\nvar windowNote;\\r\\n\\r\\nfunction showNote(title, message, colorBack, back, textColor, typeFont, sizeFont) {\\r\\n  windowNote = window.open(\\'\\',\\'Note\\',\\'toolbar=no,location=no,directories=no,status=no,scrollbars=yes,resizable=yes,copyhistory=no,\\' + \\'width=400\\' + \\',height=100\\');\\r\\n  text = \\'<\\' + \\'HTML\\' + \\'><\\' + \\'HEAD\\' + \\'><\\' + \\'TITLE\\' + \\'>\\' + title + \\'</\\' + \\'TITLE\\' + \\'><\\' + \\'/HEAD\\' + \\'><\\' + \\'BODY BACKGROUND=\\' + \\'\"\\' + back + \\'\"\\' + \\' BGCOLOR=\\' + \\'\"\\' + colorBack + \\'\">\\';\\r\\n  text += \\'<CENTER>\\';\\r\\n  text +=\\'<FONT FACE=\"\\' + typeFont +\\'\"\\';\\r\\n  text += \\' SIZE=\\' + sizeFont; \\r\\n  text += \\' COLOR=\\' + \\'\"\\' + textColor +\\'\">\\';\\r\\n  text += message + \\'</CENTER></FONT>\\';\\r\\n  text += \\'</\\' + \\'BODY\\' + \\'><\\' + \\'/HTML\\' + \\'>\\';\\r\\n  windowNote.document.write(text);\\r\\n  windowNote.focus();\\r\\n  windowNote.document.close();\\r\\n  return false;\\r\\n}\\r\\n//  end script -->\\r\\n</SCRIPT>\\r\\n tuleb koha pealt &auml;ra ja h&otilde;beda saab see kange mees omale.<BR>\\r\\n[---]<BR>\\r\\nERA II 223, 516/7 (34) &lt;Tallinn &lt; L&auml;&auml;ne-Nigula, Oru v., Vedra k. &#151; V. &Uuml;kskask&lt; Villem Erisalu, 25 a. (1939).<BR>\\r\\nVrd. V&otilde;nnu kivi, muist. 2, 25; Kalevipoeg viskab Haapsalu lossikiriku pihta, muist.<BR>\\r\\n<BR>\\r\\n385. <BR>\\r\\n[Kalevipoja kuldader]<BR>\\r\\nVanarahva suus liigub jutt, et Vana-Karistes (Halliste khk.) oleva Meelim&auml;e sees pidada kuldader varjul olema, mis Kalevipoja oma olla. M&otilde;ned &uuml;tlevad j&auml;lle, et see kuldader olla Rootsist seia toodud ja &auml;ra peidetud, mis n&uuml;&uuml;d raske &uuml;lesse leida olevat.<BR>\\r\\nE 47413 (3) &lt; Saarde &#151; J. P. S&otilde;ggel (1910). <BR>\\r\\n<BR>\\r\\n386. <BR>\\r\\n[Uduallikas]<BR>\\r\\n<BR>\\r\\n</FONT><FONT FACE=\"Times New Roman CYR\">A.</FONT><FONT FACE=\"Times New Roman\"><BR>\\r\\nKord oli Kalevipoeg suurt rahakasti kandnud, ja et tal olnud vaenlase vastu minek, siis j&auml;tnud ta rahakasti Uduallika k&uuml;la alla Uduallikasse, kus paergu suur allikas on. Ja et ju mitmed mehed seda uurimas on k&auml;inud, n&auml;itab nagu luule v&auml;lja. Aga vale, seal on t&otilde;esti raha, kui aga ka v&otilde;iks teada, kus kohal see peaks just olema. Ja kui Kalevipoeg s&otilde;jast &auml;ra on tulnud, siis on ta otsinud, aga seda kohta ei ole leidnud. Ja n&uuml;&uuml;d sellep&auml;rast on see raha paergu seal veel leidmata.<BR>\\r\\nE 25294 &lt; Pilistvere, K&otilde;o v. &#151; J. Keller (1896).<BR>\\r\\n<BR>\\r\\nB</FONT><FONT FACE=\"Times New Roman CYR\">.</FONT><FONT FACE=\"Times New Roman\"><BR>\\r\\nUduallikasse olevat peidetud Kalevipoja h&otilde;beriistad. Saksad k&auml;inud neid seal otsimas, kuid k&auml;tte pole saanud. K&uuml;ll olevat nad sealt leidnud rahasid. Sama allikas polevat enam endise koha peal, vaid olevat &auml;ra liikunud. Ka olevat enne kasvanud kased &uuml;mber allika. (Need olevat sinna istutatud.) Kaskede k&uuml;lge olevat seotud siidilinte.<BR>\\r\\nERA II 240, 202 (32) &lt; Pilistvere, K&otilde;o v., Kirivere k. &#151; M. M&otilde;tuste &lt; Kai S&ouml;&ouml;dor, 76 a. (1939).<BR>\\r\\n<BR>\\r\\n387. <BR>\\r\\n[Vanapagana varandus Jaaniorus]<BR>\\r\\nKalevipoeg toonud Vanapagana varanduse &auml;ra ja matnud ta Reasvere k&uuml;la v&auml;ljale Jaaniorgu maha. Kes seda v&auml;lja tahab kaevata, peab neljap&auml;&auml;va &ouml;&ouml;sse ilma &uuml;hegi terariistata sinna kaevama minema. T&auml;nini ei ole keegi seda julgenud.<BR>\\r\\nE 41960 &lt; Laiuse, Laius-T&auml;hkvere v., Reasvere m. &#151; J. Remmelg (1901).<BR>\\r\\n<BR>\\r\\n388. <BR>\\r\\n[Varandus Traksim&auml;el]<BR>\\r\\nLuua m&otilde;isa j&auml;rele seisab Traksim&auml;gi, kus Kalevipoja s&auml;ng on. Unes n&auml;idatud &uuml;hele mehele, et vanakuu esimese neljap&auml;eva &ouml;&ouml;sel mingu Traksim&auml;ele suure m&auml;nna juurde (m&auml;nd kasvab praegu). Kaevagu l&otilde;una poolt m&auml;nna juurte alla, senni kui kivi vastu tuleb, veeretagu kivi k&otilde;rvale, siis on &uuml;ks pott raha t&auml;is, n&auml;htaval, aga mitte kartma ei pea, mis n&auml;gema saab, vaid pangu s&uuml;diste vastu, siis saab raha omale. Mees l&auml;inud ja kaevanud, kuni kivi vastu tulnud, veeretanud k&otilde;rvale, rahapott olnud n&auml;ha. Seda august v&auml;lja t&otilde;sta tahtes hakkanud madusid kui pihu ja p&otilde;rmu poti alt v&auml;lja tulema, ise k&otilde;ik koledasti susisedes, ja t&uuml;kkinud mehele kallale. K&uuml;ll lahminud ta madusid surnuks, aga uusi tulnud veel palju rohkem juurde. Mehel tulnud hirm peale, ja v&auml;rinad k&auml;inud &uuml;le ihu. Viimaks karganud ta august v&auml;lja, aga seal seisnud &uuml;ks suur must koer, hirmsasti urisedes ja paljaid hambaid n&auml;idates, kallale kippudes. Sellele virutanud mees labidaga vastu pead ja pistnud tulise kiirusega jooksma nii mis j&otilde;udnud, kuni kodu. Raha aga j&auml;enud v&auml;lja v&otilde;tmata, vist veel praegugi alles, uut v&auml;ljav&otilde;tjat oodates.<BR>\\r\\nEKnS 48 (XXIII) 2/3 (59) &lt; Palamuse, Kuremaa v. &#151; H. Karro &lt; Al. Koppel <BR>\\r\\nE 47009/10 (112) &lt; Palamuse, Kuremaa v. &#151; H. Karro &lt; M. Koppel (1909). Vrd. Luua Kalevipoja s&auml;ng, muist. 188.<BR>\\r\\n<BR>\\r\\n389. <BR>\\r\\n[Kuldm&otilde;lad lootsiku all]<BR>\\r\\nPiigastes (Kanepi) Heinasoo [oli] enne j&auml;rv. Kalevipoeg tahtnud sealt kivilootsikuga &uuml;le s&otilde;ita. Et [j&auml;rv] v&auml;ga &otilde;huke, [oli] s&otilde;it v&otilde;imata, lootsik [j&auml;i] p&otilde;hja kinni. Kalevipoeg pahandunud, p&ouml;&ouml;rnud lootsiku kummuli, j&auml;tnud kuldm&otilde;lad ja kindad lootsiku alla.<BR>\\r\\nE 54626 &#151; M. J. Eisen.<BR>\\r\\n<BR>\\r\\n390. <BR>\\r\\n[Kalevipoja h&otilde;bem&otilde;ladega lootsik Himmusool]<BR>\\r\\nKal&otilde;vipoja nimi om viel rahvasuun alal&otilde;, nimelt selle lugu man tul&otilde;p t&auml; ette, kui Kal&otilde;vipoig Himmusuud piti loot\\'skuga s&otilde;itse ja teda j&auml;rves tahts&otilde; muuta, ja kud\\'as t&auml; valg&otilde; tull&otilde;n h&otilde;p&otilde;m&otilde;la maha visas ja loot\\'sku kummali p&auml;&auml;le kierut, ning sis Riiga sor\\'tse lahutama l&auml;its, kes s&auml;&auml;l kakl&otilde;ma olliva l&auml;nnu ja kost teda en&auml;mb loot\\'sku perr&auml; tagasi es tul&otilde;.<BR>\\r\\nH II 29. 828 (100) &lt; Kambja, Kr&uuml;&uuml;dneri v. &#151; J. Simos (1888). Vrd. Kalevipoja lootsik, muist. 182; Himmusoo, muist. 300.<BR>\\r\\n<BR>\\r\\n391. <BR>\\r\\n[Kalevipoja varandus Voo j&otilde;es]<BR>\\r\\nR&auml;pina kihelkonnas Voo j&otilde;es (R&auml;pinast umbes 10 versta vastu voogu) V&otilde;u k&uuml;la all j&otilde;e paremal kaldal on suur &auml;kiline kalju, umbes 7 s&uuml;lda veepinnast k&otilde;rge ja 10 s&uuml;lda pikk. Selle kalju otsast on j&otilde;e p&otilde;hja selgel p&auml;evapaistel Kalevipoja raudpeeled n&auml;ha. See kalju on palju k&otilde;rgem olnud, aga Kalevipoeg oli kangast selle kalju p&auml;&auml;l kudanud, ja nii k&otilde;vaste, et kalju l&otilde;hes ja peeled j&otilde;kke kukkusivad. Talumehed on sagest proovinud neid peeli v&auml;lja kiskuda, aga vesi hakkab kohe laenetama ja l&auml;heb poriseks, n&otilde;nda et peelde k&auml;ttesaamine v&otilde;imata on. <BR>\\r\\nE 42558/9 (2) &lt; R&auml;pina &#151; A. Nortots (1902).<BR>\\r\\n<BR>\\r\\n392. <BR>\\r\\n[Kalevipoja lootsiku kivi Otep&auml;&auml;l]<BR>\\r\\n(Otep&auml;&auml;l on koer maa seest hulga raha v&auml;lja kaapinud. Raha olnud poti sees. Selle talu maa peal on Kalevi lootsiku kivi.) ERM 3, 64 &lt; Kanepi &#151; R. Jaska (1920).<BR>\\r\\n</FONT>\\r\\n\\r\\n</A></A></A></A></BODY>\\r\\n\\r\\n</HTML>\\r\\n'"
      ]
     },
     "execution_count": 6,
     "metadata": {},
     "output_type": "execute_result"
    }
   ],
   "source": [
    "content = urlopen(url).read().decode('Windows-1257')\n",
    "content"
   ]
  },
  {
   "cell_type": "markdown",
   "metadata": {},
   "source": [
    "Lehe sisu uurides näeme, et ehkki kodeeringule saime teisel korral pihta, on seal endiselt omajagu veidraid sümboleid. HTML-lehekülgedel (ja eriti vanematel lehekülgedel, mis ei kasuta `UTF-8`'t) kasutatakse sageli [ASCII tabelist](https://www.rapidtables.com/code/text/ascii-table.html) väljajäävate sümbolite _escape_'imist ehk konverteerimist HTML olemiteks. Näiteks on 'ä' asendatud olemiga _& auml;_ ('a' _umlaut_). Kui soovime sisu uuesti loetavaks teha, peame olemid tagasi sümboliteks konverteerima ehk _unescape_'ima.\n",
    "\n",
    "Selleks on mitu võimalust. Üks võimalus on rakendada funktsiooni `html.unescape`:"
   ]
  },
  {
   "cell_type": "code",
   "execution_count": 7,
   "metadata": {},
   "outputs": [
    {
     "data": {
      "text/plain": [
       "'<!DOCTYPE HTML PUBLIC \"-//W3C//DTD HTML 4.0 TRANSITIONAL//EN\">\\r\\n\\r\\n<HTML>\\r\\n\\r\\n<HEAD>\\r\\n<TITLE>Kalevipoeg - Kalevipoja varandus</TITLE>\\r\\n<META NAME=\"GENERATOR\" CONTENT=\"Arachnophilia 3.9\">\\r\\n<META NAME=\"FORMATTER\" CONTENT=\"Arachnophilia 3.9\">\\r\\n</HEAD>\\r\\n\\r\\n<BODY BGCOLOR=\"#003050\" TEXT=\"#AAAAAA\" LINK=\"#AFAFAF\" VLINK=\"#8F8F8F\" ALINK=\"#FFFF00\" BGPROPERTIES=FIXED>\\n\\r\\n<CENTER><FONT COLOR=\"#CFCFCF\"><H1><B>381. KALEVIPOJA VARANDUS</B></H1></FONT></CENTER>\\r\\n[Kalevipoja varandus Türsamäel]<BR>\\r\\nÄrina metsas Porkuni raja peal on kaks suurt kivi, mida ühte nendest Viru ämmaks kutsutakse, muidu ka veel suuremat teumeeste ämmaks, vähemat teuvaimude äiaks. Viru ämma all pidada nimelt Kalevipoja terve varandus ja tema tööriistad varjul olema. Kalevipoja hobuse kondid ja hobuseriistad pidada aga Assamalla luhas olema. 1909. aasta suvel käidud Soomest üht Türsamäge Väike-Maarja kihelkonnas taga otsimas. Seal mäe peal peab üks suur vöötidega kivi olema ja kolm munasuurust auku seal kivi sees. Viru ämm on küll nõndanimetud Tõrgamäe otsas ja vöödiline on ta küll, aga nimetud kolme kanamuna suurust auku ei ole seal sees. Ka on välk kord sellesse kivisse löönud ja suure tüki küllest maha põrutanud.<BR>\\r\\nEÜS VII 2084 (307) < Väike-Maarja — V. Rosenstrauch < Hans Aberdal, 50 a. (1910).<BR>\\r\\nVt. E 47611/2 (2) < Simuna < Väike-Maarja, Vao v., Ärina m. — V. Rosenstrauch < M. Õun (1911).<BR>\\r\\nVrd. muist. 12, 178, 180, 268.<BR>\\r\\n<BR>\\r\\n382. <BR>\\r\\n[Kalevipoja kulduur Iisakus]<BR>\\r\\n<BR>\\r\\nA<FONT FACE=\"Times New Roman CYR\">.</FONT><FONT FACE=\"Times New Roman\"><BR>\\r\\nRootsi sõja ajal on raha peidetud maasse. 40—50 aastat tagasi on Laane talu krundil olevast allikast kulda ära viidud. Kalevipojal pidi olema matisuurune kulduur, mida ka tema arvatavast kalmust on otsitud.<BR>\\r\\nA. Amandus, Iisaku kihelkonna suulist ajaloolist traditsiooni, 1932, lk. 36.<BR>\\r\\n<BR>\\r\\nB.<BR>\\r\\nKivinõmmes, siit Vasknarva poole, pidi olema Kalevipoja haud. Selles pidi olema tünder kulda ja Kalevipoja kulduur. Kes seda hauda lahti kaevama läks, see suri järgmisel aastal.<BR>\\r\\nKKI 20, 105 (l) Jõhvi raj., Kuremäe, Sootaga k. — H. Kihno ja L. Raudsep < Joosep Maukin, 89</FONT><FONT FACE=\"Times New Roman CYR\"> a.</FONT><FONT FACE=\"Times New Roman\"> (1955).<BR>\\r\\nVt. ka: Kalevipoja haud. muist. 345, 346.<BR>\\r\\n<BR>\\r\\n383. <BR>\\r\\n[Rahatüli Kalevipoja lingukivi juures]<BR>\\r\\nKord tulnud Haeska külas elutsev Andruse Jüri, hüüdnimega Suur Jüri, Sinalepa mõisast kodu poole, käes olnud härjaike. Oli seal kündmas olnud. Härjad olid ikke ära purustanud, nüüd pidi selle asemele kodus uue tegema. Tema tee läinud küla põllul asuva Kalevipoja lingukivi juurest läbi. Eemalt näinud tema, et kivi juures põleb tulukene. Tema arvanud, et küla poisid-tüdrukud teevad lõket kivi juures. Saanud aga lähemale, näinud, et see pole mingisugune lõkketuli, vaid hoopis muud. Pole puid olnud. Leek tõusnud otsekui maa seest ülese. Rahaauk, mõtelnud tema. Oli ju kuulnud, et sellisel korral tuleb midagi raudasja tulle visata, aga temal pole muud käes olnud kui puust härjaike. Mõelnud, viskan õige selle tulese, teeb mis teeb, ja visanudki. Aga mis siis sündinud! Käinud kõrvalukustav pauk ja tulest pole enam märkigi järel olnud. Teisel päeval sealt mööda minnes leidnud ta sealt kohalt, kus õhtul tuli põlenud, neli kahekümnekopikalist vaskraha. Oleks raudasja visanud, oleks kõik raha august kätte saanud, aga et puust eseme viskas, siis pole rohkem saanud. Visatud ikkest pole aga mingisuguseid jäänuseid järel olnud. Ka peale seda pole keegi tuld seal näinud.<BR>\\r\\nERA II 115, 437/8 (26) < Martna khk. ja v., Haeska k. — A. Isberg (1935). Vrd. Kivi lammast murdva hundi pihta, muist. 12.<BR>\\r\\n<BR>\\r\\n384. <BR>\\r\\n[Kalevipoja varandus Pataka mäel]<BR>\\r\\nOru vallas Vedra külas Pataka mäel on üks suur <A HREF=\"\" onClick=\"return showNote(\\'Sõnaseletus\\',\\'Kivi. \\',\\'#0000AC\\',\\'\\',\\'#FFFF00\\',\\'Times New Roman\\',4)\">kibi</A><SCRIPT LANGUAGE=\"JavaScript\">\\r\\n<!-- begin script\\r\\nvar windowNote;\\r\\n\\r\\nfunction showNote(title, message, colorBack, back, textColor, typeFont, sizeFont) {\\r\\n  windowNote = window.open(\\'\\',\\'Note\\',\\'toolbar=no,location=no,directories=no,status=no,scrollbars=yes,resizable=yes,copyhistory=no,\\' + \\'width=400\\' + \\',height=100\\');\\r\\n  text = \\'<\\' + \\'HTML\\' + \\'><\\' + \\'HEAD\\' + \\'><\\' + \\'TITLE\\' + \\'>\\' + title + \\'</\\' + \\'TITLE\\' + \\'><\\' + \\'/HEAD\\' + \\'><\\' + \\'BODY BACKGROUND=\\' + \\'\"\\' + back + \\'\"\\' + \\' BGCOLOR=\\' + \\'\"\\' + colorBack + \\'\">\\';\\r\\n  text += \\'<CENTER>\\';\\r\\n  text +=\\'<FONT FACE=\"\\' + typeFont +\\'\"\\';\\r\\n  text += \\' SIZE=\\' + sizeFont; \\r\\n  text += \\' COLOR=\\' + \\'\"\\' + textColor +\\'\">\\';\\r\\n  text += message + \\'</CENTER></FONT>\\';\\r\\n  text += \\'</\\' + \\'BODY\\' + \\'><\\' + \\'/HTML\\' + \\'>\\';\\r\\n  windowNote.document.write(text);\\r\\n  windowNote.focus();\\r\\n  windowNote.document.close();\\r\\n  return false;\\r\\n}\\r\\n//  end script -->\\r\\n</SCRIPT>\\r\\n, kellest poole Kalevipoeg omal ajal, kui Haapsallu lossitorni oli ehitatud, ära kiskund ja lossitorni maha tahtnud visata. Tal jalg libisend lehma s[ita]lasu sisse ja <A HREF=\"\" onClick=\"return showNote(\\'Sõnaseletus\\',\\'Kivi. \\',\\'#0000AC\\',\\'\\',\\'#FFFF00\\',\\'Times New Roman\\',4)\">kibi</A><SCRIPT LANGUAGE=\"JavaScript\">\\r\\n<!-- begin script\\r\\nvar windowNote;\\r\\n\\r\\nfunction showNote(title, message, colorBack, back, textColor, typeFont, sizeFont) {\\r\\n  windowNote = window.open(\\'\\',\\'Note\\',\\'toolbar=no,location=no,directories=no,status=no,scrollbars=yes,resizable=yes,copyhistory=no,\\' + \\'width=400\\' + \\',height=100\\');\\r\\n  text = \\'<\\' + \\'HTML\\' + \\'><\\' + \\'HEAD\\' + \\'><\\' + \\'TITLE\\' + \\'>\\' + title + \\'</\\' + \\'TITLE\\' + \\'><\\' + \\'/HEAD\\' + \\'><\\' + \\'BODY BACKGROUND=\\' + \\'\"\\' + back + \\'\"\\' + \\' BGCOLOR=\\' + \\'\"\\' + colorBack + \\'\">\\';\\r\\n  text += \\'<CENTER>\\';\\r\\n  text +=\\'<FONT FACE=\"\\' + typeFont +\\'\"\\';\\r\\n  text += \\' SIZE=\\' + sizeFont; \\r\\n  text += \\' COLOR=\\' + \\'\"\\' + textColor +\\'\">\\';\\r\\n  text += message + \\'</CENTER></FONT>\\';\\r\\n  text += \\'</\\' + \\'BODY\\' + \\'><\\' + \\'/HTML\\' + \\'>\\';\\r\\n  windowNote.document.write(text);\\r\\n  windowNote.focus();\\r\\n  windowNote.document.close();\\r\\n  return false;\\r\\n}\\r\\n//  end script -->\\r\\n</SCRIPT>\\r\\n läind Võnnu saarele, kus ta praegust koa veel on. Pataka mäel oleva <A HREF=\"\" onClick=\"return showNote(\\'Sõnaseletus\\',\\'Kivi. \\',\\'#0000AC\\',\\'\\',\\'#FFFF00\\',\\'Times New Roman\\',4)\">kibi</A><SCRIPT LANGUAGE=\"JavaScript\">\\r\\n<!-- begin script\\r\\nvar windowNote;\\r\\n\\r\\nfunction showNote(title, message, colorBack, back, textColor, typeFont, sizeFont) {\\r\\n  windowNote = window.open(\\'\\',\\'Note\\',\\'toolbar=no,location=no,directories=no,status=no,scrollbars=yes,resizable=yes,copyhistory=no,\\' + \\'width=400\\' + \\',height=100\\');\\r\\n  text = \\'<\\' + \\'HTML\\' + \\'><\\' + \\'HEAD\\' + \\'><\\' + \\'TITLE\\' + \\'>\\' + title + \\'</\\' + \\'TITLE\\' + \\'><\\' + \\'/HEAD\\' + \\'><\\' + \\'BODY BACKGROUND=\\' + \\'\"\\' + back + \\'\"\\' + \\' BGCOLOR=\\' + \\'\"\\' + colorBack + \\'\">\\';\\r\\n  text += \\'<CENTER>\\';\\r\\n  text +=\\'<FONT FACE=\"\\' + typeFont +\\'\"\\';\\r\\n  text += \\' SIZE=\\' + sizeFont; \\r\\n  text += \\' COLOR=\\' + \\'\"\\' + textColor +\\'\">\\';\\r\\n  text += message + \\'</CENTER></FONT>\\';\\r\\n  text += \\'</\\' + \\'BODY\\' + \\'><\\' + \\'/HTML\\' + \\'>\\';\\r\\n  windowNote.document.write(text);\\r\\n  windowNote.focus();\\r\\n  windowNote.document.close();\\r\\n  return false;\\r\\n}\\r\\n//  end script -->\\r\\n</SCRIPT>\\r\\n all on rahvajutu järele seitse härjasarvetäit hõbedat. Kätte võib selle sealt soada, kui võtta uueaasta öösi kaks musta pulli ja rakendada need köie otsas <A HREF=\"\" onClick=\"return showNote(\\'Sõnaseletus\\',\\'Kivi. \\',\\'#0000AC\\',\\'\\',\\'#FFFF00\\',\\'Times New Roman\\',4)\">kibi</A><SCRIPT LANGUAGE=\"JavaScript\">\\r\\n<!-- begin script\\r\\nvar windowNote;\\r\\n\\r\\nfunction showNote(title, message, colorBack, back, textColor, typeFont, sizeFont) {\\r\\n  windowNote = window.open(\\'\\',\\'Note\\',\\'toolbar=no,location=no,directories=no,status=no,scrollbars=yes,resizable=yes,copyhistory=no,\\' + \\'width=400\\' + \\',height=100\\');\\r\\n  text = \\'<\\' + \\'HTML\\' + \\'><\\' + \\'HEAD\\' + \\'><\\' + \\'TITLE\\' + \\'>\\' + title + \\'</\\' + \\'TITLE\\' + \\'><\\' + \\'/HEAD\\' + \\'><\\' + \\'BODY BACKGROUND=\\' + \\'\"\\' + back + \\'\"\\' + \\' BGCOLOR=\\' + \\'\"\\' + colorBack + \\'\">\\';\\r\\n  text += \\'<CENTER>\\';\\r\\n  text +=\\'<FONT FACE=\"\\' + typeFont +\\'\"\\';\\r\\n  text += \\' SIZE=\\' + sizeFont; \\r\\n  text += \\' COLOR=\\' + \\'\"\\' + textColor +\\'\">\\';\\r\\n  text += message + \\'</CENTER></FONT>\\';\\r\\n  text += \\'</\\' + \\'BODY\\' + \\'><\\' + \\'/HTML\\' + \\'>\\';\\r\\n  windowNote.document.write(text);\\r\\n  windowNote.focus();\\r\\n  windowNote.document.close();\\r\\n  return false;\\r\\n}\\r\\n//  end script -->\\r\\n</SCRIPT>\\r\\n ette seitsme <A HREF=\"\" onClick=\"return showNote(\\'Sõnaseletus\\',\\'Sõlmeliik. \\',\\'#0000AC\\',\\'\\',\\'#FFFF00\\',\\'Times New Roman\\',4)\">seasõrga</A><SCRIPT LANGUAGE=\"JavaScript\">\\r\\n<!-- begin script\\r\\nvar windowNote;\\r\\n\\r\\nfunction showNote(title, message, colorBack, back, textColor, typeFont, sizeFont) {\\r\\n  windowNote = window.open(\\'\\',\\'Note\\',\\'toolbar=no,location=no,directories=no,status=no,scrollbars=yes,resizable=yes,copyhistory=no,\\' + \\'width=400\\' + \\',height=100\\');\\r\\n  text = \\'<\\' + \\'HTML\\' + \\'><\\' + \\'HEAD\\' + \\'><\\' + \\'TITLE\\' + \\'>\\' + title + \\'</\\' + \\'TITLE\\' + \\'><\\' + \\'/HEAD\\' + \\'><\\' + \\'BODY BACKGROUND=\\' + \\'\"\\' + back + \\'\"\\' + \\' BGCOLOR=\\' + \\'\"\\' + colorBack + \\'\">\\';\\r\\n  text += \\'<CENTER>\\';\\r\\n  text +=\\'<FONT FACE=\"\\' + typeFont +\\'\"\\';\\r\\n  text += \\' SIZE=\\' + sizeFont; \\r\\n  text += \\' COLOR=\\' + \\'\"\\' + textColor +\\'\">\\';\\r\\n  text += message + \\'</CENTER></FONT>\\';\\r\\n  text += \\'</\\' + \\'BODY\\' + \\'><\\' + \\'/HTML\\' + \\'>\\';\\r\\n  windowNote.document.write(text);\\r\\n  windowNote.focus();\\r\\n  windowNote.document.close();\\r\\n  return false;\\r\\n}\\r\\n//  end script -->\\r\\n</SCRIPT>\\r\\n sõlmiga, siis <A HREF=\"\" onClick=\"return showNote(\\'Sõnaseletus\\',\\'Kivi. \\',\\'#0000AC\\',\\'\\',\\'#FFFF00\\',\\'Times New Roman\\',4)\">kibi</A><SCRIPT LANGUAGE=\"JavaScript\">\\r\\n<!-- begin script\\r\\nvar windowNote;\\r\\n\\r\\nfunction showNote(title, message, colorBack, back, textColor, typeFont, sizeFont) {\\r\\n  windowNote = window.open(\\'\\',\\'Note\\',\\'toolbar=no,location=no,directories=no,status=no,scrollbars=yes,resizable=yes,copyhistory=no,\\' + \\'width=400\\' + \\',height=100\\');\\r\\n  text = \\'<\\' + \\'HTML\\' + \\'><\\' + \\'HEAD\\' + \\'><\\' + \\'TITLE\\' + \\'>\\' + title + \\'</\\' + \\'TITLE\\' + \\'><\\' + \\'/HEAD\\' + \\'><\\' + \\'BODY BACKGROUND=\\' + \\'\"\\' + back + \\'\"\\' + \\' BGCOLOR=\\' + \\'\"\\' + colorBack + \\'\">\\';\\r\\n  text += \\'<CENTER>\\';\\r\\n  text +=\\'<FONT FACE=\"\\' + typeFont +\\'\"\\';\\r\\n  text += \\' SIZE=\\' + sizeFont; \\r\\n  text += \\' COLOR=\\' + \\'\"\\' + textColor +\\'\">\\';\\r\\n  text += message + \\'</CENTER></FONT>\\';\\r\\n  text += \\'</\\' + \\'BODY\\' + \\'><\\' + \\'/HTML\\' + \\'>\\';\\r\\n  windowNote.document.write(text);\\r\\n  windowNote.focus();\\r\\n  windowNote.document.close();\\r\\n  return false;\\r\\n}\\r\\n//  end script -->\\r\\n</SCRIPT>\\r\\n tuleb koha pealt ära ja hõbeda saab see kange mees omale.<BR>\\r\\n[---]<BR>\\r\\nERA II 223, 516/7 (34) <Tallinn < Lääne-Nigula, Oru v., Vedra k. — V. Ükskask< Villem Erisalu, 25 a. (1939).<BR>\\r\\nVrd. Võnnu kivi, muist. 2, 25; Kalevipoeg viskab Haapsalu lossikiriku pihta, muist.<BR>\\r\\n<BR>\\r\\n385. <BR>\\r\\n[Kalevipoja kuldader]<BR>\\r\\nVanarahva suus liigub jutt, et Vana-Karistes (Halliste khk.) oleva Meelimäe sees pidada kuldader varjul olema, mis Kalevipoja oma olla. Mõned ütlevad jälle, et see kuldader olla Rootsist seia toodud ja ära peidetud, mis nüüd raske ülesse leida olevat.<BR>\\r\\nE 47413 (3) < Saarde — J. P. Sõggel (1910). <BR>\\r\\n<BR>\\r\\n386. <BR>\\r\\n[Uduallikas]<BR>\\r\\n<BR>\\r\\n</FONT><FONT FACE=\"Times New Roman CYR\">A.</FONT><FONT FACE=\"Times New Roman\"><BR>\\r\\nKord oli Kalevipoeg suurt rahakasti kandnud, ja et tal olnud vaenlase vastu minek, siis jätnud ta rahakasti Uduallika küla alla Uduallikasse, kus paergu suur allikas on. Ja et ju mitmed mehed seda uurimas on käinud, näitab nagu luule välja. Aga vale, seal on tõesti raha, kui aga ka võiks teada, kus kohal see peaks just olema. Ja kui Kalevipoeg sõjast ära on tulnud, siis on ta otsinud, aga seda kohta ei ole leidnud. Ja nüüd sellepärast on see raha paergu seal veel leidmata.<BR>\\r\\nE 25294 < Pilistvere, Kõo v. — J. Keller (1896).<BR>\\r\\n<BR>\\r\\nB</FONT><FONT FACE=\"Times New Roman CYR\">.</FONT><FONT FACE=\"Times New Roman\"><BR>\\r\\nUduallikasse olevat peidetud Kalevipoja hõberiistad. Saksad käinud neid seal otsimas, kuid kätte pole saanud. Küll olevat nad sealt leidnud rahasid. Sama allikas polevat enam endise koha peal, vaid olevat ära liikunud. Ka olevat enne kasvanud kased ümber allika. (Need olevat sinna istutatud.) Kaskede külge olevat seotud siidilinte.<BR>\\r\\nERA II 240, 202 (32) < Pilistvere, Kõo v., Kirivere k. — M. Mõtuste < Kai Söödor, 76 a. (1939).<BR>\\r\\n<BR>\\r\\n387. <BR>\\r\\n[Vanapagana varandus Jaaniorus]<BR>\\r\\nKalevipoeg toonud Vanapagana varanduse ära ja matnud ta Reasvere küla väljale Jaaniorgu maha. Kes seda välja tahab kaevata, peab neljapääva öösse ilma ühegi terariistata sinna kaevama minema. Tänini ei ole keegi seda julgenud.<BR>\\r\\nE 41960 < Laiuse, Laius-Tähkvere v., Reasvere m. — J. Remmelg (1901).<BR>\\r\\n<BR>\\r\\n388. <BR>\\r\\n[Varandus Traksimäel]<BR>\\r\\nLuua mõisa järele seisab Traksimägi, kus Kalevipoja säng on. Unes näidatud ühele mehele, et vanakuu esimese neljapäeva öösel mingu Traksimäele suure männa juurde (mänd kasvab praegu). Kaevagu lõuna poolt männa juurte alla, senni kui kivi vastu tuleb, veeretagu kivi kõrvale, siis on üks pott raha täis, nähtaval, aga mitte kartma ei pea, mis nägema saab, vaid pangu südiste vastu, siis saab raha omale. Mees läinud ja kaevanud, kuni kivi vastu tulnud, veeretanud kõrvale, rahapott olnud näha. Seda august välja tõsta tahtes hakkanud madusid kui pihu ja põrmu poti alt välja tulema, ise kõik koledasti susisedes, ja tükkinud mehele kallale. Küll lahminud ta madusid surnuks, aga uusi tulnud veel palju rohkem juurde. Mehel tulnud hirm peale, ja värinad käinud üle ihu. Viimaks karganud ta august välja, aga seal seisnud üks suur must koer, hirmsasti urisedes ja paljaid hambaid näidates, kallale kippudes. Sellele virutanud mees labidaga vastu pead ja pistnud tulise kiirusega jooksma nii mis jõudnud, kuni kodu. Raha aga jäenud välja võtmata, vist veel praegugi alles, uut väljavõtjat oodates.<BR>\\r\\nEKnS 48 (XXIII) 2/3 (59) < Palamuse, Kuremaa v. — H. Karro < Al. Koppel <BR>\\r\\nE 47009/10 (112) < Palamuse, Kuremaa v. — H. Karro < M. Koppel (1909). Vrd. Luua Kalevipoja säng, muist. 188.<BR>\\r\\n<BR>\\r\\n389. <BR>\\r\\n[Kuldmõlad lootsiku all]<BR>\\r\\nPiigastes (Kanepi) Heinasoo [oli] enne järv. Kalevipoeg tahtnud sealt kivilootsikuga üle sõita. Et [järv] väga õhuke, [oli] sõit võimata, lootsik [jäi] põhja kinni. Kalevipoeg pahandunud, pöörnud lootsiku kummuli, jätnud kuldmõlad ja kindad lootsiku alla.<BR>\\r\\nE 54626 — M. J. Eisen.<BR>\\r\\n<BR>\\r\\n390. <BR>\\r\\n[Kalevipoja hõbemõladega lootsik Himmusool]<BR>\\r\\nKalõvipoja nimi om viel rahvasuun alalõ, nimelt selle lugu man tulõp tä ette, kui Kalõvipoig Himmusuud piti loot\\'skuga sõitse ja teda järves tahtsõ muuta, ja kud\\'as tä valgõ tullõn hõpõmõla maha visas ja loot\\'sku kummali pääle kierut, ning sis Riiga sor\\'tse lahutama läits, kes sääl kaklõma olliva lännu ja kost teda enämb loot\\'sku perrä tagasi es tulõ.<BR>\\r\\nH II 29. 828 (100) < Kambja, Krüüdneri v. — J. Simos (1888). Vrd. Kalevipoja lootsik, muist. 182; Himmusoo, muist. 300.<BR>\\r\\n<BR>\\r\\n391. <BR>\\r\\n[Kalevipoja varandus Voo jões]<BR>\\r\\nRäpina kihelkonnas Voo jões (Räpinast umbes 10 versta vastu voogu) Võu küla all jõe paremal kaldal on suur äkiline kalju, umbes 7 sülda veepinnast kõrge ja 10 sülda pikk. Selle kalju otsast on jõe põhja selgel päevapaistel Kalevipoja raudpeeled näha. See kalju on palju kõrgem olnud, aga Kalevipoeg oli kangast selle kalju pääl kudanud, ja nii kõvaste, et kalju lõhes ja peeled jõkke kukkusivad. Talumehed on sagest proovinud neid peeli välja kiskuda, aga vesi hakkab kohe laenetama ja läheb poriseks, nõnda et peelde kättesaamine võimata on. <BR>\\r\\nE 42558/9 (2) < Räpina — A. Nortots (1902).<BR>\\r\\n<BR>\\r\\n392. <BR>\\r\\n[Kalevipoja lootsiku kivi Otepääl]<BR>\\r\\n(Otepääl on koer maa seest hulga raha välja kaapinud. Raha olnud poti sees. Selle talu maa peal on Kalevi lootsiku kivi.) ERM 3, 64 < Kanepi — R. Jaska (1920).<BR>\\r\\n</FONT>\\r\\n\\r\\n</A></A></A></A></BODY>\\r\\n\\r\\n</HTML>\\r\\n'"
      ]
     },
     "execution_count": 7,
     "metadata": {},
     "output_type": "execute_result"
    }
   ],
   "source": [
    "import html\n",
    "html.unescape(content)"
   ]
  },
  {
   "cell_type": "markdown",
   "metadata": {},
   "source": [
    "Teine võimalus on kasutada HTML sisu lugemiseks moodulit _BeautifulSoup_, mis teeb teisendused meie eest:"
   ]
  },
  {
   "cell_type": "code",
   "execution_count": 8,
   "metadata": {},
   "outputs": [
    {
     "name": "stdout",
     "output_type": "stream",
     "text": [
      "<!DOCTYPE HTML PUBLIC \"-//W3C//DTD HTML 4.0 TRANSITIONAL//EN\">\n",
      "<html>\n",
      " <head>\n",
      "  <title>\n",
      "   Kalevipoeg - Kalevipoja varandus\n",
      "  </title>\n",
      "  <meta content=\"Arachnophilia 3.9\" name=\"GENERATOR\"/>\n",
      "  <meta content=\"Arachnophilia 3.9\" name=\"FORMATTER\"/>\n",
      " </head>\n",
      " <body alink=\"#FFFF00\" bgcolor=\"#003050\" bgproperties=\"FIXED\" link=\"#AFAFAF\" text=\"#AAAAAA\" vlink=\"#8F8F8F\">\n",
      "  <center>\n",
      "   <font color=\"#CFCFCF\">\n",
      "    <h1>\n",
      "     <b>\n",
      "      381. KALEVIPOJA VARANDUS\n",
      "     </b>\n",
      "    </h1>\n",
      "   </font>\n",
      "  </center>\n",
      "  [Kalevipoja varandus Türsamäel]\n",
      "  <br/>\n",
      "  Ärina metsas Porkuni raja peal on kaks suurt kivi, mida ühte nendest Viru ämmaks kutsutakse, muidu ka veel suuremat teumeeste ämmaks, vähemat teuvaimude äiaks. Viru ämma all pidada nimelt Kalevipoja terve varandus ja tema tööriistad varjul olema. Kalevipoja hobuse kondid ja hobuseriistad pidada aga Assamalla luhas olema. 1909. aasta suvel käidud Soomest üht Türsamäge Väike-Maarja kihelkonnas taga otsimas. Seal mäe peal peab üks suur vöötidega kivi olema ja kolm munasuurust auku seal kivi sees. Viru ämm on küll nõndanimetud Tõrgamäe otsas ja vöödiline on ta küll, aga nimetud kolme kanamuna suurust auku ei ole seal sees. Ka on välk kord sellesse kivisse löönud ja suure tüki küllest maha põrutanud.\n",
      "  <br/>\n",
      "  EÜS VII 2084 (307) &lt; Väike-Maarja — V. Rosenstrauch &lt; Hans Aberdal, 50 a. (1910).\n",
      "  <br/>\n",
      "  Vt. E 47611/2 (2) &lt; Simuna &lt; Väike-Maarja, Vao v., Ärina m. — V. Rosenstrauch &lt; M. Õun (1911).\n",
      "  <br/>\n",
      "  Vrd. muist. 12, 178, 180, 268.\n",
      "  <br/>\n",
      "  <br/>\n",
      "  382.\n",
      "  <br/>\n",
      "  [Kalevipoja kulduur Iisakus]\n",
      "  <br/>\n",
      "  <br/>\n",
      "  A\n",
      "  <font face=\"Times New Roman CYR\">\n",
      "   .\n",
      "  </font>\n",
      "  <font face=\"Times New Roman\">\n",
      "   <br/>\n",
      "   Rootsi sõja ajal on raha peidetud maasse. 40—50 aastat tagasi on Laane talu krundil olevast allikast kulda ära viidud. Kalevipojal pidi olema matisuurune kulduur, mida ka tema arvatavast kalmust on otsitud.\n",
      "   <br/>\n",
      "   A. Amandus, Iisaku kihelkonna suulist ajaloolist traditsiooni, 1932, lk. 36.\n",
      "   <br/>\n",
      "   <br/>\n",
      "   B.\n",
      "   <br/>\n",
      "   Kivinõmmes, siit Vasknarva poole, pidi olema Kalevipoja haud. Selles pidi olema tünder kulda ja Kalevipoja kulduur. Kes seda hauda lahti kaevama läks, see suri järgmisel aastal.\n",
      "   <br/>\n",
      "   KKI 20, 105 (l) Jõhvi raj., Kuremäe, Sootaga k. — H. Kihno ja L. Raudsep &lt; Joosep Maukin, 89\n",
      "  </font>\n",
      "  <font face=\"Times New Roman CYR\">\n",
      "   a.\n",
      "  </font>\n",
      "  <font face=\"Times New Roman\">\n",
      "   (1955).\n",
      "   <br/>\n",
      "   Vt. ka: Kalevipoja haud. muist. 345, 346.\n",
      "   <br/>\n",
      "   <br/>\n",
      "   383.\n",
      "   <br/>\n",
      "   [Rahatüli Kalevipoja lingukivi juures]\n",
      "   <br/>\n",
      "   Kord tulnud Haeska külas elutsev Andruse Jüri, hüüdnimega Suur Jüri, Sinalepa mõisast kodu poole, käes olnud härjaike. Oli seal kündmas olnud. Härjad olid ikke ära purustanud, nüüd pidi selle asemele kodus uue tegema. Tema tee läinud küla põllul asuva Kalevipoja lingukivi juurest läbi. Eemalt näinud tema, et kivi juures põleb tulukene. Tema arvanud, et küla poisid-tüdrukud teevad lõket kivi juures. Saanud aga lähemale, näinud, et see pole mingisugune lõkketuli, vaid hoopis muud. Pole puid olnud. Leek tõusnud otsekui maa seest ülese. Rahaauk, mõtelnud tema. Oli ju kuulnud, et sellisel korral tuleb midagi raudasja tulle visata, aga temal pole muud käes olnud kui puust härjaike. Mõelnud, viskan õige selle tulese, teeb mis teeb, ja visanudki. Aga mis siis sündinud! Käinud kõrvalukustav pauk ja tulest pole enam märkigi järel olnud. Teisel päeval sealt mööda minnes leidnud ta sealt kohalt, kus õhtul tuli põlenud, neli kahekümnekopikalist vaskraha. Oleks raudasja visanud, oleks kõik raha august kätte saanud, aga et puust eseme viskas, siis pole rohkem saanud. Visatud ikkest pole aga mingisuguseid jäänuseid järel olnud. Ka peale seda pole keegi tuld seal näinud.\n",
      "   <br/>\n",
      "   ERA II 115, 437/8 (26) &lt; Martna khk. ja v., Haeska k. — A. Isberg (1935). Vrd. Kivi lammast murdva hundi pihta, muist. 12.\n",
      "   <br/>\n",
      "   <br/>\n",
      "   384.\n",
      "   <br/>\n",
      "   [Kalevipoja varandus Pataka mäel]\n",
      "   <br/>\n",
      "   Oru vallas Vedra külas Pataka mäel on üks suur\n",
      "   <a href=\"\" onclick=\"return showNote('Sõnaseletus','Kivi. ','#0000AC','','#FFFF00','Times New Roman',4)\">\n",
      "    kibi\n",
      "   </a>\n",
      "   <script language=\"JavaScript\">\n",
      "    <!-- begin script\n",
      "var windowNote;\n",
      "\n",
      "function showNote(title, message, colorBack, back, textColor, typeFont, sizeFont) {\n",
      "  windowNote = window.open('','Note','toolbar=no,location=no,directories=no,status=no,scrollbars=yes,resizable=yes,copyhistory=no,' + 'width=400' + ',height=100');\n",
      "  text = '<' + 'HTML' + '><' + 'HEAD' + '><' + 'TITLE' + '>' + title + '</' + 'TITLE' + '><' + '/HEAD' + '><' + 'BODY BACKGROUND=' + '\"' + back + '\"' + ' BGCOLOR=' + '\"' + colorBack + '\">';\n",
      "  text += '<CENTER>';\n",
      "  text +='<FONT FACE=\"' + typeFont +'\"';\n",
      "  text += ' SIZE=' + sizeFont; \n",
      "  text += ' COLOR=' + '\"' + textColor +'\">';\n",
      "  text += message + '</CENTER></FONT>';\n",
      "  text += '</' + 'BODY' + '><' + '/HTML' + '>';\n",
      "  windowNote.document.write(text);\n",
      "  windowNote.focus();\n",
      "  windowNote.document.close();\n",
      "  return false;\n",
      "}\n",
      "//  end script -->\n",
      "   </script>\n",
      "   , kellest poole Kalevipoeg omal ajal, kui Haapsallu lossitorni oli ehitatud, ära kiskund ja lossitorni maha tahtnud visata. Tal jalg libisend lehma s[ita]lasu sisse ja\n",
      "   <a href=\"\" onclick=\"return showNote('Sõnaseletus','Kivi. ','#0000AC','','#FFFF00','Times New Roman',4)\">\n",
      "    kibi\n",
      "   </a>\n",
      "   <script language=\"JavaScript\">\n",
      "    <!-- begin script\n",
      "var windowNote;\n",
      "\n",
      "function showNote(title, message, colorBack, back, textColor, typeFont, sizeFont) {\n",
      "  windowNote = window.open('','Note','toolbar=no,location=no,directories=no,status=no,scrollbars=yes,resizable=yes,copyhistory=no,' + 'width=400' + ',height=100');\n",
      "  text = '<' + 'HTML' + '><' + 'HEAD' + '><' + 'TITLE' + '>' + title + '</' + 'TITLE' + '><' + '/HEAD' + '><' + 'BODY BACKGROUND=' + '\"' + back + '\"' + ' BGCOLOR=' + '\"' + colorBack + '\">';\n",
      "  text += '<CENTER>';\n",
      "  text +='<FONT FACE=\"' + typeFont +'\"';\n",
      "  text += ' SIZE=' + sizeFont; \n",
      "  text += ' COLOR=' + '\"' + textColor +'\">';\n",
      "  text += message + '</CENTER></FONT>';\n",
      "  text += '</' + 'BODY' + '><' + '/HTML' + '>';\n",
      "  windowNote.document.write(text);\n",
      "  windowNote.focus();\n",
      "  windowNote.document.close();\n",
      "  return false;\n",
      "}\n",
      "//  end script -->\n",
      "   </script>\n",
      "   läind Võnnu saarele, kus ta praegust koa veel on. Pataka mäel oleva\n",
      "   <a href=\"\" onclick=\"return showNote('Sõnaseletus','Kivi. ','#0000AC','','#FFFF00','Times New Roman',4)\">\n",
      "    kibi\n",
      "   </a>\n",
      "   <script language=\"JavaScript\">\n",
      "    <!-- begin script\n",
      "var windowNote;\n",
      "\n",
      "function showNote(title, message, colorBack, back, textColor, typeFont, sizeFont) {\n",
      "  windowNote = window.open('','Note','toolbar=no,location=no,directories=no,status=no,scrollbars=yes,resizable=yes,copyhistory=no,' + 'width=400' + ',height=100');\n",
      "  text = '<' + 'HTML' + '><' + 'HEAD' + '><' + 'TITLE' + '>' + title + '</' + 'TITLE' + '><' + '/HEAD' + '><' + 'BODY BACKGROUND=' + '\"' + back + '\"' + ' BGCOLOR=' + '\"' + colorBack + '\">';\n",
      "  text += '<CENTER>';\n",
      "  text +='<FONT FACE=\"' + typeFont +'\"';\n",
      "  text += ' SIZE=' + sizeFont; \n",
      "  text += ' COLOR=' + '\"' + textColor +'\">';\n",
      "  text += message + '</CENTER></FONT>';\n",
      "  text += '</' + 'BODY' + '><' + '/HTML' + '>';\n",
      "  windowNote.document.write(text);\n",
      "  windowNote.focus();\n",
      "  windowNote.document.close();\n",
      "  return false;\n",
      "}\n",
      "//  end script -->\n",
      "   </script>\n",
      "   all on rahvajutu järele seitse härjasarvetäit hõbedat. Kätte võib selle sealt soada, kui võtta uueaasta öösi kaks musta pulli ja rakendada need köie otsas\n",
      "   <a href=\"\" onclick=\"return showNote('Sõnaseletus','Kivi. ','#0000AC','','#FFFF00','Times New Roman',4)\">\n",
      "    kibi\n",
      "   </a>\n",
      "   <script language=\"JavaScript\">\n",
      "    <!-- begin script\n",
      "var windowNote;\n",
      "\n",
      "function showNote(title, message, colorBack, back, textColor, typeFont, sizeFont) {\n",
      "  windowNote = window.open('','Note','toolbar=no,location=no,directories=no,status=no,scrollbars=yes,resizable=yes,copyhistory=no,' + 'width=400' + ',height=100');\n",
      "  text = '<' + 'HTML' + '><' + 'HEAD' + '><' + 'TITLE' + '>' + title + '</' + 'TITLE' + '><' + '/HEAD' + '><' + 'BODY BACKGROUND=' + '\"' + back + '\"' + ' BGCOLOR=' + '\"' + colorBack + '\">';\n",
      "  text += '<CENTER>';\n",
      "  text +='<FONT FACE=\"' + typeFont +'\"';\n",
      "  text += ' SIZE=' + sizeFont; \n",
      "  text += ' COLOR=' + '\"' + textColor +'\">';\n",
      "  text += message + '</CENTER></FONT>';\n",
      "  text += '</' + 'BODY' + '><' + '/HTML' + '>';\n",
      "  windowNote.document.write(text);\n",
      "  windowNote.focus();\n",
      "  windowNote.document.close();\n",
      "  return false;\n",
      "}\n",
      "//  end script -->\n",
      "   </script>\n",
      "   ette seitsme\n",
      "   <a href=\"\" onclick=\"return showNote('Sõnaseletus','Sõlmeliik. ','#0000AC','','#FFFF00','Times New Roman',4)\">\n",
      "    seasõrga\n",
      "   </a>\n",
      "   <script language=\"JavaScript\">\n",
      "    <!-- begin script\n",
      "var windowNote;\n",
      "\n",
      "function showNote(title, message, colorBack, back, textColor, typeFont, sizeFont) {\n",
      "  windowNote = window.open('','Note','toolbar=no,location=no,directories=no,status=no,scrollbars=yes,resizable=yes,copyhistory=no,' + 'width=400' + ',height=100');\n",
      "  text = '<' + 'HTML' + '><' + 'HEAD' + '><' + 'TITLE' + '>' + title + '</' + 'TITLE' + '><' + '/HEAD' + '><' + 'BODY BACKGROUND=' + '\"' + back + '\"' + ' BGCOLOR=' + '\"' + colorBack + '\">';\n",
      "  text += '<CENTER>';\n",
      "  text +='<FONT FACE=\"' + typeFont +'\"';\n",
      "  text += ' SIZE=' + sizeFont; \n",
      "  text += ' COLOR=' + '\"' + textColor +'\">';\n",
      "  text += message + '</CENTER></FONT>';\n",
      "  text += '</' + 'BODY' + '><' + '/HTML' + '>';\n",
      "  windowNote.document.write(text);\n",
      "  windowNote.focus();\n",
      "  windowNote.document.close();\n",
      "  return false;\n",
      "}\n",
      "//  end script -->\n",
      "   </script>\n",
      "   sõlmiga, siis\n",
      "   <a href=\"\" onclick=\"return showNote('Sõnaseletus','Kivi. ','#0000AC','','#FFFF00','Times New Roman',4)\">\n",
      "    kibi\n",
      "   </a>\n",
      "   <script language=\"JavaScript\">\n",
      "    <!-- begin script\n",
      "var windowNote;\n",
      "\n",
      "function showNote(title, message, colorBack, back, textColor, typeFont, sizeFont) {\n",
      "  windowNote = window.open('','Note','toolbar=no,location=no,directories=no,status=no,scrollbars=yes,resizable=yes,copyhistory=no,' + 'width=400' + ',height=100');\n",
      "  text = '<' + 'HTML' + '><' + 'HEAD' + '><' + 'TITLE' + '>' + title + '</' + 'TITLE' + '><' + '/HEAD' + '><' + 'BODY BACKGROUND=' + '\"' + back + '\"' + ' BGCOLOR=' + '\"' + colorBack + '\">';\n",
      "  text += '<CENTER>';\n",
      "  text +='<FONT FACE=\"' + typeFont +'\"';\n",
      "  text += ' SIZE=' + sizeFont; \n",
      "  text += ' COLOR=' + '\"' + textColor +'\">';\n",
      "  text += message + '</CENTER></FONT>';\n",
      "  text += '</' + 'BODY' + '><' + '/HTML' + '>';\n",
      "  windowNote.document.write(text);\n",
      "  windowNote.focus();\n",
      "  windowNote.document.close();\n",
      "  return false;\n",
      "}\n",
      "//  end script -->\n",
      "   </script>\n",
      "   tuleb koha pealt ära ja hõbeda saab see kange mees omale.\n",
      "   <br/>\n",
      "   [---]\n",
      "   <br/>\n",
      "   ERA II 223, 516/7 (34) &lt;Tallinn &lt; Lääne-Nigula, Oru v., Vedra k. — V. Ükskask&lt; Villem Erisalu, 25 a. (1939).\n",
      "   <br/>\n",
      "   Vrd. Võnnu kivi, muist. 2, 25; Kalevipoeg viskab Haapsalu lossikiriku pihta, muist.\n",
      "   <br/>\n",
      "   <br/>\n",
      "   385.\n",
      "   <br/>\n",
      "   [Kalevipoja kuldader]\n",
      "   <br/>\n",
      "   Vanarahva suus liigub jutt, et Vana-Karistes (Halliste khk.) oleva Meelimäe sees pidada kuldader varjul olema, mis Kalevipoja oma olla. Mõned ütlevad jälle, et see kuldader olla Rootsist seia toodud ja ära peidetud, mis nüüd raske ülesse leida olevat.\n",
      "   <br/>\n",
      "   E 47413 (3) &lt; Saarde — J. P. Sõggel (1910).\n",
      "   <br/>\n",
      "   <br/>\n",
      "   386.\n",
      "   <br/>\n",
      "   [Uduallikas]\n",
      "   <br/>\n",
      "   <br/>\n",
      "  </font>\n",
      "  <font face=\"Times New Roman CYR\">\n",
      "   A.\n",
      "  </font>\n",
      "  <font face=\"Times New Roman\">\n",
      "   <br/>\n",
      "   Kord oli Kalevipoeg suurt rahakasti kandnud, ja et tal olnud vaenlase vastu minek, siis jätnud ta rahakasti Uduallika küla alla Uduallikasse, kus paergu suur allikas on. Ja et ju mitmed mehed seda uurimas on käinud, näitab nagu luule välja. Aga vale, seal on tõesti raha, kui aga ka võiks teada, kus kohal see peaks just olema. Ja kui Kalevipoeg sõjast ära on tulnud, siis on ta otsinud, aga seda kohta ei ole leidnud. Ja nüüd sellepärast on see raha paergu seal veel leidmata.\n",
      "   <br/>\n",
      "   E 25294 &lt; Pilistvere, Kõo v. — J. Keller (1896).\n",
      "   <br/>\n",
      "   <br/>\n",
      "   B\n",
      "  </font>\n",
      "  <font face=\"Times New Roman CYR\">\n",
      "   .\n",
      "  </font>\n",
      "  <font face=\"Times New Roman\">\n",
      "   <br/>\n",
      "   Uduallikasse olevat peidetud Kalevipoja hõberiistad. Saksad käinud neid seal otsimas, kuid kätte pole saanud. Küll olevat nad sealt leidnud rahasid. Sama allikas polevat enam endise koha peal, vaid olevat ära liikunud. Ka olevat enne kasvanud kased ümber allika. (Need olevat sinna istutatud.) Kaskede külge olevat seotud siidilinte.\n",
      "   <br/>\n",
      "   ERA II 240, 202 (32) &lt; Pilistvere, Kõo v., Kirivere k. — M. Mõtuste &lt; Kai Söödor, 76 a. (1939).\n",
      "   <br/>\n",
      "   <br/>\n",
      "   387.\n",
      "   <br/>\n",
      "   [Vanapagana varandus Jaaniorus]\n",
      "   <br/>\n",
      "   Kalevipoeg toonud Vanapagana varanduse ära ja matnud ta Reasvere küla väljale Jaaniorgu maha. Kes seda välja tahab kaevata, peab neljapääva öösse ilma ühegi terariistata sinna kaevama minema. Tänini ei ole keegi seda julgenud.\n",
      "   <br/>\n",
      "   E 41960 &lt; Laiuse, Laius-Tähkvere v., Reasvere m. — J. Remmelg (1901).\n",
      "   <br/>\n",
      "   <br/>\n",
      "   388.\n",
      "   <br/>\n",
      "   [Varandus Traksimäel]\n",
      "   <br/>\n",
      "   Luua mõisa järele seisab Traksimägi, kus Kalevipoja säng on. Unes näidatud ühele mehele, et vanakuu esimese neljapäeva öösel mingu Traksimäele suure männa juurde (mänd kasvab praegu). Kaevagu lõuna poolt männa juurte alla, senni kui kivi vastu tuleb, veeretagu kivi kõrvale, siis on üks pott raha täis, nähtaval, aga mitte kartma ei pea, mis nägema saab, vaid pangu südiste vastu, siis saab raha omale. Mees läinud ja kaevanud, kuni kivi vastu tulnud, veeretanud kõrvale, rahapott olnud näha. Seda august välja tõsta tahtes hakkanud madusid kui pihu ja põrmu poti alt välja tulema, ise kõik koledasti susisedes, ja tükkinud mehele kallale. Küll lahminud ta madusid surnuks, aga uusi tulnud veel palju rohkem juurde. Mehel tulnud hirm peale, ja värinad käinud üle ihu. Viimaks karganud ta august välja, aga seal seisnud üks suur must koer, hirmsasti urisedes ja paljaid hambaid näidates, kallale kippudes. Sellele virutanud mees labidaga vastu pead ja pistnud tulise kiirusega jooksma nii mis jõudnud, kuni kodu. Raha aga jäenud välja võtmata, vist veel praegugi alles, uut väljavõtjat oodates.\n",
      "   <br/>\n",
      "   EKnS 48 (XXIII) 2/3 (59) &lt; Palamuse, Kuremaa v. — H. Karro &lt; Al. Koppel\n",
      "   <br/>\n",
      "   E 47009/10 (112) &lt; Palamuse, Kuremaa v. — H. Karro &lt; M. Koppel (1909). Vrd. Luua Kalevipoja säng, muist. 188.\n",
      "   <br/>\n",
      "   <br/>\n",
      "   389.\n",
      "   <br/>\n",
      "   [Kuldmõlad lootsiku all]\n",
      "   <br/>\n",
      "   Piigastes (Kanepi) Heinasoo [oli] enne järv. Kalevipoeg tahtnud sealt kivilootsikuga üle sõita. Et [järv] väga õhuke, [oli] sõit võimata, lootsik [jäi] põhja kinni. Kalevipoeg pahandunud, pöörnud lootsiku kummuli, jätnud kuldmõlad ja kindad lootsiku alla.\n",
      "   <br/>\n",
      "   E 54626 — M. J. Eisen.\n",
      "   <br/>\n",
      "   <br/>\n",
      "   390.\n",
      "   <br/>\n",
      "   [Kalevipoja hõbemõladega lootsik Himmusool]\n",
      "   <br/>\n",
      "   Kalõvipoja nimi om viel rahvasuun alalõ, nimelt selle lugu man tulõp tä ette, kui Kalõvipoig Himmusuud piti loot'skuga sõitse ja teda järves tahtsõ muuta, ja kud'as tä valgõ tullõn hõpõmõla maha visas ja loot'sku kummali pääle kierut, ning sis Riiga sor'tse lahutama läits, kes sääl kaklõma olliva lännu ja kost teda enämb loot'sku perrä tagasi es tulõ.\n",
      "   <br/>\n",
      "   H II 29. 828 (100) &lt; Kambja, Krüüdneri v. — J. Simos (1888). Vrd. Kalevipoja lootsik, muist. 182; Himmusoo, muist. 300.\n",
      "   <br/>\n",
      "   <br/>\n",
      "   391.\n",
      "   <br/>\n",
      "   [Kalevipoja varandus Voo jões]\n",
      "   <br/>\n",
      "   Räpina kihelkonnas Voo jões (Räpinast umbes 10 versta vastu voogu) Võu küla all jõe paremal kaldal on suur äkiline kalju, umbes 7 sülda veepinnast kõrge ja 10 sülda pikk. Selle kalju otsast on jõe põhja selgel päevapaistel Kalevipoja raudpeeled näha. See kalju on palju kõrgem olnud, aga Kalevipoeg oli kangast selle kalju pääl kudanud, ja nii kõvaste, et kalju lõhes ja peeled jõkke kukkusivad. Talumehed on sagest proovinud neid peeli välja kiskuda, aga vesi hakkab kohe laenetama ja läheb poriseks, nõnda et peelde kättesaamine võimata on.\n",
      "   <br/>\n",
      "   E 42558/9 (2) &lt; Räpina — A. Nortots (1902).\n",
      "   <br/>\n",
      "   <br/>\n",
      "   392.\n",
      "   <br/>\n",
      "   [Kalevipoja lootsiku kivi Otepääl]\n",
      "   <br/>\n",
      "   (Otepääl on koer maa seest hulga raha välja kaapinud. Raha olnud poti sees. Selle talu maa peal on Kalevi lootsiku kivi.) ERM 3, 64 &lt; Kanepi — R. Jaska (1920).\n",
      "   <br/>\n",
      "  </font>\n",
      " </body>\n",
      "</html>\n",
      "\n"
     ]
    }
   ],
   "source": [
    "from bs4 import BeautifulSoup\n",
    "\n",
    "soup = BeautifulSoup(content, 'html.parser')\n",
    "\n",
    "print(soup.prettify())"
   ]
  },
  {
   "cell_type": "markdown",
   "metadata": {},
   "source": [
    "#### Päringud teegi `requests` abil "
   ]
  },
  {
   "cell_type": "markdown",
   "metadata": {},
   "source": [
    "Alternatiiviks `urllib.request`-ile on teek `requests`. Paraku `requests` standardteekide hulka ei kuulu, seega tuleb installida ( installikäsk: `conda install requests` ). Nagu teegi nimigi ([Requests: HTTP for Humans](https://requests.readthedocs.io/en/latest/)) ütleb, on tegemist veebipäringute teegiga, mille liides on standardteegi omast veidi lihtsam ja inimlikum."
   ]
  },
  {
   "cell_type": "code",
   "execution_count": 9,
   "metadata": {},
   "outputs": [],
   "source": [
    "import requests\n",
    "\n",
    "response = requests.get(url)  # teeme päringu"
   ]
  },
  {
   "cell_type": "markdown",
   "metadata": {},
   "source": [
    "`Requests`'i vastus võimaldab kõik vajaliku vastuse kohta kätte saada atribuutide ja meetodite kaudu."
   ]
  },
  {
   "cell_type": "code",
   "execution_count": 10,
   "metadata": {},
   "outputs": [
    {
     "name": "stdout",
     "output_type": "stream",
     "text": [
      "Status: 200\n",
      "Content-Type: text/html\n",
      "Encoding: ISO-8859-1\n",
      "Content: <!DOCTYPE HTML PUBLI\n"
     ]
    }
   ],
   "source": [
    "print('Status:',response.status_code)\n",
    "print('Content-Type:',response.headers['content-type'])\n",
    "print('Encoding:',response.encoding)\n",
    "print('Content:',response.text[:20])"
   ]
  },
  {
   "cell_type": "markdown",
   "metadata": {},
   "source": [
    "Päringu vastuse sisuline osa on atribuudi `text` all. Võime täheldada, et ka teksti kodeeringu on teek juba ise välja nuputanud, seega ei pea me käsitsi hakkama eri kodeeringuid katsetama. Küll aga ei pääse me lehel olevate HTML olemitega jändamisest: need tuleb endiselt ise sümboliteks tagasi konverteerida."
   ]
  },
  {
   "cell_type": "markdown",
   "metadata": {},
   "source": [
    "### Ülesanne 1. \"Uusimad uudised\" (1 p)\n",
    "\n",
    "Alati ei tulegi veebist info kättesaamiseks HTML-i parsida. Veebis toimetavate otsingumootorite ja veebiämblike jaoks pakuvad veebiportaalid sageli välja nn sisukaarte (ingl _site map_), millelt leiab otseviited olulistele ja päevakohastele lehekülgedele. Nt Postimehe sisukaardilt ( https://www.postimees.ee/sitemap ) leiame viited kolmele alamkaardile: värskete uudiste loendile, aktuaalsete teemade loendile ning võtmesõnade loendile. Kui soovime saada kätte värskete uudiste (pealkirjade) nimekirja, siis sisukaardi abil on seda teha üsna mugav:  info on esitatud kompaktsel XML kujul ning me ei pea nägema vaeva selle ülesotsimisega HTML lehe sisu osast.\n",
    "\n",
    "Järgnevalt ongi ülesandeks kirjutada programm, mis teeb päringu Postimehe uudiste sisukaardile ( https://www.postimees.ee/sitemap/news ), nopib sealt välja artiklite pealkirjad, veebiaadressid ja viimase muutmise kuupäevad (`lastmod`) ning väljastab korjatud info muutmiskuupäevade järgi sorteeritult.\n",
    "\n",
    "**Detaile:**\n",
    "   - Kasuta päringu tegemiseks teeki `urllib.request` või `requests`;\n",
    "   - Kuna tagastatav sisu on XML, siis selle parsimiseks on ilmselt kõige mugavam kasutada _BeautifulSoup_'i. Uuri, millise struktuuriga on tagastatav XML dokument ja kasuta _BeautifulSoup_-i selle sisust [alamosade otsimiseks](https://www.crummy.com/software/BeautifulSoup/bs4/doc/#searching-the-tree). Kui artikli pealkirjade kättesaamine eriti ei õnnestu, siis abi võib saada [siit](https://stackoverflow.com/questions/3058912/how-can-i-access-namespaced-xml-elements-using-beautifulsoup);\n",
    "   \n",
    "Sisukaartide kohta pakub rohkem infot lehekülg _sitemaps.org_, vt nt https://www.sitemaps.org/index.html;"
   ]
  },
  {
   "cell_type": "markdown",
   "metadata": {},
   "source": [
    "### Viisakusreeglid veebisuhtluses\n",
    "\n",
    "Eelmises ülesandes toimetasid ühe veebiressurssi piires ja tõenäoliselt tegid ainult väikese arvu päringuid. Kui aga päringute arv kasvab suureks või päringuid tehakse paljudele veebilehtedele, muutub oluliseks veebisuhtluse viisakusreeglite järgimine.\n",
    "\n",
    "#### Päringute tegemise kiirus\n",
    "\n",
    "Programm suudab päringuid teha märksa kiiremini kui (veebilehitsejat kasutav) inimene. Liiga kiire / sage lehtede tõmbamine tähendab aga seda, et server peab palju aega kulutama programmi päringute teenindamiseks ning teiste kasutajate päringute teenindamine võib saada häiritud. Halvimal juhul võib liiga kiire lehtede tõmbamine ka serveri kokku jooksutada.\n",
    "\n",
    "Seega üks oluline viisakusreegel on limiteerida oma päringuid ajaliselt: lisada kahe päringu tegemise vahele ajavahe. Soovitav on ühelt domeeniaadressilt mitte tõmmata sagedamini kui iga 10 sekundi tagant."
   ]
  },
  {
   "cell_type": "code",
   "execution_count": 11,
   "metadata": {},
   "outputs": [],
   "source": [
    "import time\n",
    "time.sleep(10)   # ootame 10 sek"
   ]
  },
  {
   "cell_type": "markdown",
   "metadata": {},
   "source": [
    "#### Veebilehe enda juhised robotitele (`robots.txt`)\n",
    "\n",
    "Veebilehtede omanikud panevad sageli ise üles juhiseid selle kohta, mida lehel ringiluusivad \"robotid\" võivad teha ja mida mitte. Tavakohaselt on need juhised kättesaadaval failis nimega `robots.txt`. Näiteks Postimehe saidi vastav fail on https://www.postimees.ee/robots.txt \n",
    "\n",
    "Üks näide `robots.txt` sisu kohta koos lühiselgitustega:\n",
    "\n",
    "    User-agent: *                               # järgnevad juhised kehtivad kõigile robotitele\n",
    "    Disallow: /secret                           # keela alamleht\n",
    "    Disallow: /secret/*                         # keela alamlehed\n",
    "    User-agent: crawler123                      # järgnevad juhised kehtivad ainult robotile nimega 'crawler123'\n",
    "    Allow:    /secret/*                         # luba alamlehed\n",
    "    User-agent: *                               # järgnevad juhised kehtivad kõigile robotitele\n",
    "    Crawl-delay: 25                             # server nõuab 25-sekundilist lehtede tõmbamise vahet\n",
    "    Sitemap: http://www.domain.ext/sitemap      # sisukaardi asukoht\n",
    "\n",
    "Milline on faili `robots.txt` formaat, sellest on täpsemalt juttu [siin](http://www.robotstxt.org/robotstxt.html)."
   ]
  },
  {
   "cell_type": "markdown",
   "metadata": {},
   "source": [
    "#### Veebiämbliku / roboti identiteedi määramine\n",
    "\n",
    "HTTP päringute päises on ka info selle kohta, kes või mis on päringuid tegev agent. Kui agent ja selle eesmärgid on täpsustamata, võib see äratada kahtlusi, kuna identiteedita luusib sageli ringi pahavara. Seega on väga soovitav määrata oma programmis ka päringu tegija identiteet. Vaatame teegi `requests` näitel, kuidas seda teha."
   ]
  },
  {
   "cell_type": "code",
   "execution_count": 12,
   "metadata": {},
   "outputs": [
    {
     "data": {
      "text/plain": [
       "{'User-Agent': 'python-requests/2.28.1', 'Accept-Encoding': 'gzip, deflate, br', 'Accept': '*/*', 'Connection': 'keep-alive'}"
      ]
     },
     "execution_count": 12,
     "metadata": {},
     "output_type": "execute_result"
    }
   ],
   "source": [
    "import requests\n",
    "# Uurime vaikimisi kasutatavat päringupäist: mis on agendi nimi?\n",
    "headers = requests.utils.default_headers()\n",
    "headers"
   ]
  },
  {
   "cell_type": "markdown",
   "metadata": {},
   "source": [
    "Agendi nimi oli mittemidagiütlev (`'python-requests/X.XX.X'`). Kirjutame sinna midagi täpsemat, näiteks:"
   ]
  },
  {
   "cell_type": "code",
   "execution_count": 13,
   "metadata": {},
   "outputs": [],
   "source": [
    "headers.update(\n",
    "  { 'User-Agent': 'my crawler (minu.email@ut.ee) / on studying purpose', }\n",
    ")"
   ]
  },
  {
   "cell_type": "markdown",
   "metadata": {},
   "source": [
    "Päringuid tehes paneme nüüd alati kaasa ka uuendatud päise:"
   ]
  },
  {
   "cell_type": "code",
   "execution_count": 14,
   "metadata": {},
   "outputs": [],
   "source": [
    "response = requests.get('http://httpbin.org/user-agent', headers=headers)"
   ]
  },
  {
   "cell_type": "code",
   "execution_count": 15,
   "metadata": {},
   "outputs": [
    {
     "data": {
      "text/plain": [
       "'{\\n  \"user-agent\": \"my crawler (minu.email@ut.ee) / on studying purpose\"\\n}\\n'"
      ]
     },
     "execution_count": 15,
     "metadata": {},
     "output_type": "execute_result"
    }
   ],
   "source": [
    "response.text"
   ]
  },
  {
   "cell_type": "markdown",
   "metadata": {},
   "source": [
    "Lehekülg [http://httpbin.org](http://httpbin.org), millele äsja päringu tegime, sobib hästi veebipäringute testimiseks: sisuliselt nopib see välja mingi alamosa meie päringust ja saadab meile tagasi. Antud juhul siis nopiti päisest välja andmed `'user-agent'` kohta ja saadeti meile tagasi JSON kujul. Seega saame veenduda, et paistame veebist välja tõesti sellise identiteediga, nagu eelnevalt määrasime."
   ]
  },
  {
   "cell_type": "markdown",
   "metadata": {},
   "source": [
    "Näide päringu päise uuendamise kohta pärineb [sellest allikast](https://stackoverflow.com/a/10606260), huvi korral leiad sealt ka näpunäiteid, kuidas seda veelgi mugavamalt teha."
   ]
  },
  {
   "cell_type": "markdown",
   "metadata": {},
   "source": [
    "##### Eksimine viisakusreeglite vastu\n",
    "\n",
    "Veebisuhtluse viisakusreeglite vastu eksimine on ebaeetiline, lühema/väiksema rikkumise korral aga üldiselt tagajärgedeta. Pikema rikkumise korral on võimalik ühendusevõtmine vastava lehe süsteemi administraatori poolt ja IP aadressi blokeerimine. Halval juhul võib see lõppeda ka kohtuasjaga."
   ]
  },
  {
   "cell_type": "markdown",
   "metadata": {},
   "source": [
    "### Ülesanne 2. Kalevipoega külastamas (2 p)\n",
    "Kasuta `requests` teeki [Kalevipoja Vikipeedia veebilehe](https://et.wikipedia.org/wiki/Kalevipoeg) sisu allalaadimiseks ning leia _BeautifulSoup_'i abil kõik (paragrahvi märgendite vahel olevad) lingid. Järgne linkide abil viidatud lehtedele ning leia  kõikide illustratiivsete piltide aadressid. \n",
    "\n",
    "**Detaile:**\n",
    "  - Programm peab jälgima veebisuhtluse viisakusreegleid: päringu tegija identiteet peab olema määratud ning päringute tegemise vahel peavad olema pausid;\n",
    "  - Kui veebilehe sisu on käes, siis esimese sammuna [leia](https://www.crummy.com/software/BeautifulSoup/bs4/doc/#searching-the-tree) Kalevipoja veebilehelt `<p>`-märgendite vahel olevad lingid (`<a>`-märgendid) ning võta välja linkide atribuutide `href` väärtused. Kuidas saab BeautifulSoup'i abil atribuutide väärtused kätte saada, sellest räägitakse [siin](https://www.crummy.com/software/BeautifulSoup/bs4/doc/#attributes);\n",
    "  - Atribuutide `href` väärtused sisaldavad suhtelisi aadresse (nt `'/wiki/Allikas'` ja `'/wiki/Kivi'`), uute päringute tegemiseks pead nende põhjal aga looma absoluutaadressid (lisage nende ette Vikipeedia  baas-aadress);\n",
    "  - Pildid saad kätte `<img>` märgendeid otsides. Siiski ei esinda kõik `<img>` märgendid illustratiivseid pilte -- paljud sisaldavad kujundamisgraafikat (nt _svg_-d). Eesmärgiks on aga leida just illustratiivsed pildid, vaatluse alt jäävad välja Vikipeedia logo ja kujunduselemendid. Selleks, et \"eraldada terad sõkaldest\", uuri `<img>` märgendite atribuute ning püüa leida, mis on kõigil illustratiivsetel piltidel ühist;\n",
    "  - Töö tulemusena kuvab skript loendi külastatud lehtedest ning iga lehe all loendi sealt leitud illustratiivsete piltide aadressidest. Piltide aadressid on sellisel kujul, et veebibrauseris vastavale aadressile minnes avanebki pilt;\n"
   ]
  },
  {
   "cell_type": "markdown",
   "metadata": {},
   "source": [
    "## Veebiämblikud ja _crawl_'imine\n",
    "\n",
    "Nüüdseks oleme juba salamahti tegelenud mitmete asjadega, mida teevad veebiämblikud ehk _crawler_'id. Oleme tõmmanud üksikuid lehti, valinud nendelt URL-e ja koostanud uute külastatavate lehtede nimekirja ning eraldanud lehtedelt olulisi dokumendiosi. Samas \"päris veebiämbliku\" ehitamiseni on veel üksjagu maad minna. \n",
    "\n",
    "Kui on plaanis laiaulatuslikum tekside korjamine veebist, siis praktikas polegi otstarbekas hakata nullist veebiämblikku ehitama, vaid on soovitav õppida kasutama valmis raamistikke. \n",
    "\n",
    "Käesoleva praktikumi viimase ülesande lahendamisel saad katsetada raamistikku [_scrapy_](https://scrapy.org/), mis koondab endas kokku mitmed veebist \"andmete kokkukraapimise\" (ingl [_web scraping_](https://en.wikipedia.org/wiki/Web_scraping)) parimad praktikad. _Scrapy_'s on võimalik kasutada nii valmis \"kraapijaid\" kui ka kirjutada enda omi. Raamistik võimaldab muuta praktiliselt kõike alates lehelt informatsiooni eraldamisest kuni URL-ide valimise ja tõmbamissageduseni. Lisaks on võimalik _scrapy_ _crawler_'i panna jooksma [_Scrapy Cloud_](https://www.zyte.com/scrapy-cloud/) keskkonnas, milles lubatakse tasuta jooksutada piiramatult kraapijaid (kuigi tasuta versioonil on ka omad piirangud, nt lühike kraapimise ning andmete säilitamise aeg). "
   ]
  },
  {
   "cell_type": "markdown",
   "metadata": {},
   "source": [
    "### Ülesanne 3. Tsitaadikoguja (2,5 p)\n",
    "\n",
    "Loo veebiämblik, mis korjab leheküljelt http://tsitaadid.ee/ 1000 unikaalset tsitaati. Iga tsitaadi kohta moodustatakse andmekirje, mis sisaldab tsitaadi autorit, teemat ja teksti. Tsitaadid salvestatakse faili, igal real ühe tsitaadi andmed JSON formaadis (täpsemalt siis: fail on [_JSON Lines_ formaadis](http://jsonlines.org/)). \n",
    "Kasuta tsitaatide korjamiseks raamistikku [_scrapy_](https://scrapy.org/). \n",
    "Lahendusena esita loodud programm (kogu `scrapy` projekt) ja kogutud tsitaatide fail.\n",
    "\n",
    "**Üldised nõuded**:\n",
    "  * Kuigi lehekülg http://tsitaadid.ee/ väljastab tsitaate juhuslikult, siis ei piisa lahendusest, mis koguaeg külastabki ainult seda lehekülge; programm peab tsitaate korjates liikuma leheküljelt leheküljele, seega pead iga lehe külastamisel üles otsima nupu/lingi, mis viib järgmisele lehele;\n",
    "  * Kuna http://tsitaadid.ee/ väljastab tsitaate juhuslikult, siis võib nende seas olla ka korduvaid; programm peaks korduseid vältima ja korjama ainult unikaalseid tsitaate;\n",
    "  * **(!)** Ülesande lahendus peab järgima veebisuhtluse viisakusreegleid: ei tohi serverit sagedaste päringutega üle uputada (päringute vahe peaks olema vähemalt 10 sek) ning päringu päises tuleks täpsustada oma veebiämbliku nimi / eesmärk ja kontakt.\n",
    "\n",
    "**Täpsemalt [_scrapy_](https://scrapy.org/) kohta:**\n",
    "   - _scrapy_ pole standardteek ning tuleb seetõttu juurde [installida](https://docs.scrapy.org/en/latest/intro/install.html);\n",
    "   - et lahendada ülesanne _scrapy_-i abil, selleks tuleb natukene lisaks õppida: kuidas _scrapy_-i abil veebilehe lähtekoodist andmeid õngitseda, kuidas veebiämblik luua ja kuidas seda käsurealt jooksutada;\n",
    "   - kaustas `scrapy_tutorial` on _scrapy_-i projekti mall, mille võid veebiämbliku loomisel aluseks võtta. Sisuliselt tuleks oma kood kirjutada skripti `scrapy_tutorial\\tutorial\\spiders\\quotes_spider.py`. Mall on loodud  [selle abimaterjali](https://docs.scrapy.org/en/latest/intro/tutorial.html) järgi ning viidatud abimaterjal peaks ühtlasi olema ka väga heaks eeskujuks (vihje: seal lahendatakse sarnast ülesannet ingliskeelsetel andmetel);\n"
   ]
  },
  {
   "cell_type": "markdown",
   "metadata": {},
   "source": [
    " "
   ]
  }
 ],
 "metadata": {
  "anaconda-cloud": {},
  "kernelspec": {
   "display_name": "Python 3 (ipykernel)",
   "language": "python",
   "name": "python3"
  },
  "language_info": {
   "codemirror_mode": {
    "name": "ipython",
    "version": 3
   },
   "file_extension": ".py",
   "mimetype": "text/x-python",
   "name": "python",
   "nbconvert_exporter": "python",
   "pygments_lexer": "ipython3",
   "version": "3.8.13"
  }
 },
 "nbformat": 4,
 "nbformat_minor": 4
}
