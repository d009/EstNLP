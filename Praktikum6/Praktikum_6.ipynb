{
 "cells": [
  {
   "cell_type": "markdown",
   "metadata": {},
   "source": [
    "<h1 style=\"color:blue\"> Praktikum 6.</h1>\n",
    "<h3 style=\"color:blue\">JSON andmeformaat, märgendatud tekstide salvestamine ja taastamine, <br> ajaväljendite tuvastamine ja visualiseerimine</h3>"
   ]
  },
  {
   "cell_type": "markdown",
   "metadata": {},
   "source": [
    "Käesolevas praktikumis tutvume JSON andmeformaadiga ja vaatame, kuidas selles formaadis andmeid (sh EstNLTK märgendustega tekste) salvestada/taastada, keeletöötluse poolel aga tegeleme ajaväljendite tuvastamisega ning joonistame ajaväljenditele vastavate kuupäevade kohta tulpdiagramme."
   ]
  },
  {
   "cell_type": "markdown",
   "metadata": {},
   "source": [
    "## JSON andmeformaat"
   ]
  },
  {
   "cell_type": "markdown",
   "metadata": {},
   "source": [
    "Neljandas praktikumis tutvusime CSV andmeformaadiga. CSV sobib hästi tabelkujul andmete salvestamiseks, aga pole just kuigi mugav kasutada, kui meie andmed on hierarhilise struktuuriga. \n",
    "\n",
    "Näiteks, milline tabel tuleks teha, kui eesmärk oleks salvestada tabelisse EstNLTK `Text` ning selle märgenduskihid: laused, sõnad, sõnade morfoloogilised analüüsid ja tekstist tuvastatud nimeüksuste fraasid?\n",
    "Selleks, et kogu see informatsioon ilma kadudeta tabelisse salvestada, tuleks luua võrdlemisi keerukas andmete teisendamise süsteem ja võimalik, et ei piisakski ühest tabelist, vaid tuleks teha mitu. Märksa parem oleks aga, kui saaksime keeruka süsteemi loomise asemel lihtsalt kasutada sõnastik-andmestruktuuri. Ja seda võimaldabki JSON.\n",
    "\n",
    "JSON sai algselt populaarseks veebis andmete vahetamise formaadina, hiljem aga muutus tavaliseks ka andmete lokaalsel talletamisel. Tänu tekstilisele vormingule on JSON hõlpsalt loetav ja kirjutatav nii arvutite kui ka inimeste poolt. Nii nagu CSV, nii on ka JSON formaat täielikult platvormist sõltumatu, seega võib andmed kirjutada näiteks Windows-is ja hiljem lugeda Linux-is.\n",
    "\n",
    "JSON-is esitatakse andmed objektidena, mis pannakse kokku kaht liiki struktuuridest:\n",
    "\n",
    " * _Võti-väärtus_ paarid, kus võti on alati sõne ja väärtus võib olla sõne, arv, tõeväärtus (`true/false`), järjend või mõni JSON objekt. Süntaksi poolest on see väga sarnane Pythoni sõnastikule. Näide:\n",
    " \n",
    "       {\n",
    "         \"nimi\": \"Juku\",\n",
    "         \"vanus\": 15\n",
    "       }\n",
    "\n",
    " * _Järjendid_ , mille elementideks võivad olla sõned, arvud, tõeväärtused või JSON objektid. Jällegi, süntaksilt sarnane Pythoni listile. Näide: \n",
    " \n",
    "       {\n",
    "         \"nimi\": \"Juku\",\n",
    "         \"vanus\": 15,\n",
    "         \"vanemad\" : [\n",
    "             {  \n",
    "               \"nimi\": \"Juhan\",\n",
    "               \"vanus\": 40\n",
    "             },\n",
    "             {  \n",
    "               \"nimi\": \"Pille\",\n",
    "               \"vanus\": 37\n",
    "             }\n",
    "         ]\n",
    "       }\n",
    "       \n",
    "   Eelmises näites: võtmele `\"vanemad\"` vastavaks väärtuseks on järjend (`[]`-vahel), mis koosneb omakorda JSON objektidest.\n",
    "\n",
    "Neid kaht liiki struktuuriliiki kombineerides võib moodustada kuitahes keerukaid või sügavaid andmestruktuure, mingit otsest piirangut siin ei ole (v.a loomulikud piirangud, mis tulenevad arvuti mälu- / kõvakettamahust)."
   ]
  },
  {
   "cell_type": "markdown",
   "metadata": {},
   "source": [
    "Muide, ka Jupyter Notebook-i `.ipynb` failid on JSON formaadis, seega saad neid avada ka täiesti tavalise tekstiredaktoriga ning vajadusel teha kiireid parandusi ilma, et peaksid Notebook-i käivitama. **(!)** Siiski ka hoiatus: kui muudad `.ipynb` faili käsitsi, pead olema väga tähelepanelik selle suhtes, et säiliks algne faili formaat -- kui teed formaadi katki, ei ole märkmikufaili enam võimalik Notebook-is käivitada ..."
   ]
  },
  {
   "cell_type": "markdown",
   "metadata": {},
   "source": [
    "### Python ja JSON\n",
    "\n",
    "Praktiliselt iga Pythoni sõnastiku, mille võtmeteks on sõned ning väärtused on sõned, arvud, tõeväärtused, järjendid või sõnastikud, võib teisendada JSON kujule. Seda saab teha teegi [`json`](https://docs.python.org/3.8/library/json.html) abil:"
   ]
  },
  {
   "cell_type": "code",
   "execution_count": 1,
   "metadata": {},
   "outputs": [
    {
     "name": "stdout",
     "output_type": "stream",
     "text": [
      "{\"nimi\": \"Elvis\", \"lemmikloomad\": [{\"nimi\": \"Pontu\", \"liik\": \"koer\"}, {\"nimi\": \"J\\u00f5nksu\", \"liik\": \"k\\u00fc\\u00fclik\"}]}\n"
     ]
    }
   ],
   "source": [
    "import json\n",
    "\n",
    "my_hierarchical_data = {'nimi':'Elvis','lemmikloomad':[{'nimi':'Pontu','liik':'koer'},{'nimi':'Jõnksu','liik':'küülik'}]}\n",
    "\n",
    "# Teisendame sõnastiku JSON kujul sõneks\n",
    "json_string = json.dumps( my_hierarchical_data )\n",
    "\n",
    "print(json_string)"
   ]
  },
  {
   "cell_type": "markdown",
   "metadata": {},
   "source": [
    "Mis muutus pärast JSON-iks konverteerimist? Esiteks, kõik sõned on nüüd `\"`-sümbolite, mitte enam `'`-sümbolite vahel. Erinevalt Pythonist lubataksegi JSON-is ainult jutumärkide vahel olevaid sõnesid. Teiseks, täpitähtede asemele ilmusid sõnedesse veidrad sümbolite jadad. Põhjus selles, et vaikimisi lubab meetod `dumps` sõnede sees kasutada ainult [ASCII sümboleid](https://www.rapidtables.com/code/text/ascii-table.html) ning kõik muud sümbolid kodeeritakse. Seda sätet saab siiski ka muuta -- kui käivitad meetodi lipuga `ensure_ascii=False`, siis jäävad _Unicode_ sümbolid alles nende algsel kujul.\n",
    "\n",
    "Andmete tagasiteisendamiseks sõne kujult Pythoni andmestruktuuriks saame kasutada meetodit `json.loads`:"
   ]
  },
  {
   "cell_type": "code",
   "execution_count": 2,
   "metadata": {},
   "outputs": [
    {
     "name": "stdout",
     "output_type": "stream",
     "text": [
      "{'nimi': 'Elvis', 'lemmikloomad': [{'nimi': 'Pontu', 'liik': 'koer'}, {'nimi': 'Jõnksu', 'liik': 'küülik'}]}\n"
     ]
    }
   ],
   "source": [
    "# Teisendame JSON kujul andmed tagasi Pythoni sõnastikuks\n",
    "my_new_hierarchical_data = json.loads(json_string)\n",
    "\n",
    "print(my_new_hierarchical_data)"
   ]
  },
  {
   "cell_type": "markdown",
   "metadata": {},
   "source": [
    "#### JSON andmete \"kaunistrükk\""
   ]
  },
  {
   "cell_type": "markdown",
   "metadata": {},
   "source": [
    "Hierarhilist struktuuri võib olla keerukas jälgida, kui kogu andmestruktuur on surutud kokku ühele reale. Et andmete struktuur oleks kergemini jälgitav, selleks trükitakse andmed sageli välja nii, et iga element on eraldi real ning hierarhia järgmise taseme liikmed on eelmise taseme liikmetest eristatud taanete abil. Ka JSON sõnede loomisel võib nõuda, et erinevate tasemete liikmed oleksid eristatud taanete abil:"
   ]
  },
  {
   "cell_type": "code",
   "execution_count": 3,
   "metadata": {},
   "outputs": [
    {
     "name": "stdout",
     "output_type": "stream",
     "text": [
      "{\n",
      "   \"nimi\": \"Elvis\",\n",
      "   \"lemmikloomad\": [\n",
      "      {\n",
      "         \"nimi\": \"Pontu\",\n",
      "         \"liik\": \"koer\"\n",
      "      },\n",
      "      {\n",
      "         \"nimi\": \"J\\u00f5nksu\",\n",
      "         \"liik\": \"k\\u00fc\\u00fclik\"\n",
      "      }\n",
      "   ]\n",
      "}\n"
     ]
    }
   ],
   "source": [
    "# Teisendame sõnastiku JSON kujul sõneks ning nõuame, et taane oleks 3 tühikut\n",
    "json_string = json.dumps( my_hierarchical_data, indent = 3 )\n",
    "\n",
    "print(json_string)"
   ]
  },
  {
   "cell_type": "markdown",
   "metadata": {},
   "source": [
    "Andmete sisselugemise seisukohalt vahet pole, kas andmed on taandega või ilma -- meetod `loads` oskab lugeda mõlemal kujul andmeid. Küll aga on taandega JSON-andmete miinuseks see, et need võtavad (mälus / kõvakettal) rohkem ruumi ja seega praktikas (andmete vahetamisel / salvestamisel) kasutatakse taanetega kuju harvem."
   ]
  },
  {
   "cell_type": "markdown",
   "metadata": {},
   "source": [
    "Ka Pythoni enda andmestruktuure võib väljastada ekraanile taanetega. Selle jaoks on standardteegis nn \"kaunistrüki\" ( ingl _pretty-printing_ ) meetod [`pprint`](https://docs.python.org/3.8/library/pprint.html):"
   ]
  },
  {
   "cell_type": "code",
   "execution_count": 4,
   "metadata": {},
   "outputs": [
    {
     "name": "stdout",
     "output_type": "stream",
     "text": [
      "{'lemmikloomad': [{'liik': 'koer', 'nimi': 'Pontu'},\n",
      "                  {'liik': 'küülik', 'nimi': 'Jõnksu'}],\n",
      " 'nimi': 'Elvis'}\n"
     ]
    }
   ],
   "source": [
    "from pprint import pprint\n",
    "\n",
    "pprint(my_hierarchical_data)"
   ]
  },
  {
   "cell_type": "markdown",
   "metadata": {},
   "source": [
    "#### JSON andmete salvestamine faili / lugemine failist\n",
    "\n",
    "Kui andmed on konverteeritud JSON sõneks, siis võib need salvestada faili samal viisil, nagu salvestatakse tavalisi tekstiandmeid. Analoogselt: JSON failist võib andmed algul lugeda sisse sõnena ning seejärel teisendada `json.loads` abil Pythoni andmeteks. Lisaks sellele on teegis `json` meetodid [`dump`](https://docs.python.org/3.6/library/json.html#json.dump) ja [`load`](https://docs.python.org/3.6/library/json.html#json.load), mida saab kasutada vahetult faili kirjutamiseks / failist lugemiseks. Näide: faili kirjutamine:"
   ]
  },
  {
   "cell_type": "code",
   "execution_count": 5,
   "metadata": {},
   "outputs": [],
   "source": [
    "with open('minu_andmed.json', 'w') as f:\n",
    "    # Teisendame andmed JSON kujule ja kirjutame faili\n",
    "    json.dump( my_hierarchical_data, f )"
   ]
  },
  {
   "cell_type": "markdown",
   "metadata": {},
   "source": [
    "Mis puutub aga EstNLTK `Text` objektidesse, siis nende salvestamiseks kõvakettale on samuti JSON kõige loomulikum kuju, ning EstNLTK sisaldab ka funktsioone, mis teevad failioperatsioonid veelgi mugavamaks. Järgmisena uurimegi neid."
   ]
  },
  {
   "cell_type": "markdown",
   "metadata": {},
   "source": [
    "### Estnltk ja JSON\n",
    "\n",
    "EstNLTK andmeformaatide teisendamise funktsioonid leiab moodulist `estnltk.converters`. JSON kujul andmete teisendamiseks on kaks funktsiooni: `json_to_text` ja `text_to_json`:\n",
    "\n",
    "\n",
    "   - `text_to_json(text)` -- teisendab `Text` objekti JSON kujule ja tagastab sõnena.\n",
    "   \n",
    "   \n",
    "   - `text_to_json(text, file=out_file)` -- teisendab `Text` objekti JSON kujule ja salvestab faili `out_file`.\n",
    "   \n",
    "   \n",
    "   - `json_to_text(json_text=json_text)` -- loeb JSON sõnest (`json_text`) sisse `Text` objekti ning tagastab selle.\n",
    "   \n",
    "   \n",
    "   - `json_to_text(file=json_file)` -- loeb failist `json_file` sisse `Text` objekti ja tagastab selle.\n",
    "\n",
    "Näide `Text` objekti teisendamisest JSON kujule:"
   ]
  },
  {
   "cell_type": "code",
   "execution_count": 6,
   "metadata": {},
   "outputs": [
    {
     "data": {
      "text/plain": [
       "'{\"text\": \"Minu pere ja muud loomad\", \"meta\": {}, \"layers\": [{\"name\": \"tokens\", \"attributes\": [], \"secondary_attributes\": [], \"parent\": null, \"enveloping\": null, \"ambiguous\": false, \"serialisation_module\": null, \"meta\": {}, \"spans\": [{\"base_span\": [0, 4], \"annotations\": [{}]}, {\"base_span\": [5, 9], \"annotations\": [{}]}, {\"base_span\": [10, 12], \"annotations\": [{}]}, {\"base_span\": [13, 17], \"annotations\": [{}]}, {\"base_span\": [18, 24], \"annotations\": [{}]}]}]}'"
      ]
     },
     "execution_count": 6,
     "metadata": {},
     "output_type": "execute_result"
    }
   ],
   "source": [
    "from estnltk import Text\n",
    "from estnltk.converters import text_to_json\n",
    "\n",
    "text1 = Text('Minu pere ja muud loomad').tag_layer(['tokens'])\n",
    "json_str = text_to_json(text1)\n",
    "json_str"
   ]
  },
  {
   "cell_type": "markdown",
   "metadata": {},
   "source": [
    "Nagu näha, on konverteerimise tulemuseks sõne, mis annab `Text` objekti edasi sõnastiku kujul. Sõnastiku struktuuri nüanssidesse me siinkohal süüvima ei pea, oluline on teadmine, et sellisel kujul võib andmed kirjutada failidesse ning pärast saab `json_to_text` abil jälle taastada algse `Text` objekti:"
   ]
  },
  {
   "cell_type": "code",
   "execution_count": 7,
   "metadata": {},
   "outputs": [
    {
     "data": {
      "text/html": [
       "<table border=\"1\" class=\"dataframe\">\n",
       "  <thead>\n",
       "    <tr style=\"text-align: right;\">\n",
       "      <th>text</th>\n",
       "    </tr>\n",
       "  </thead>\n",
       "  <tbody>\n",
       "    <tr>\n",
       "      <td><div align = \"left\">Minu pere ja muud loomad</div></td>\n",
       "    </tr>\n",
       "  </tbody>\n",
       "</table>\n",
       "<table border=\"1\" class=\"dataframe\">\n",
       "  <thead>\n",
       "    <tr style=\"text-align: right;\">\n",
       "      <th>layer name</th>\n",
       "      <th>attributes</th>\n",
       "      <th>parent</th>\n",
       "      <th>enveloping</th>\n",
       "      <th>ambiguous</th>\n",
       "      <th>span count</th>\n",
       "    </tr>\n",
       "  </thead>\n",
       "  <tbody>\n",
       "    <tr>\n",
       "      <td>tokens</td>\n",
       "      <td></td>\n",
       "      <td>None</td>\n",
       "      <td>None</td>\n",
       "      <td>False</td>\n",
       "      <td>5</td>\n",
       "    </tr>\n",
       "  </tbody>\n",
       "</table>"
      ],
      "text/plain": [
       "Text(text='Minu pere ja muud loomad')"
      ]
     },
     "execution_count": 7,
     "metadata": {},
     "output_type": "execute_result"
    }
   ],
   "source": [
    "# Taastame Text objekti sõnest\n",
    "from estnltk.converters import json_to_text\n",
    "text2 = json_to_text(json_text = json_str)\n",
    "text2"
   ]
  },
  {
   "cell_type": "markdown",
   "metadata": {},
   "source": [
    "Rohkem informatsiooni ning kasutusnäiteid teisendamisfunktsioonide kohta leiad [sellest juhendmaterjalist](https://github.com/estnltk/estnltk/blob/main/tutorials/converters/json_exporter_importer.ipynb)."
   ]
  },
  {
   "cell_type": "markdown",
   "metadata": {},
   "source": [
    "<div class=\"alert alert-block alert-warning\">\n",
    " <h4><i>Tehniline lisajutt 1: Milline info läheb kaasa <code>Text</code> objekti JSON-iks teisendamisel?</i></h4>\n",
    " <br>\n",
    "Teisendatud sõnes on algne tekst, selle metaandmed ning ka kõik tekstile lisatud kihid. \n",
    "Mis jääb välja? Kui kihtide loomisel on kasutatud märgendajaid mingite spetsiifiliste parameetritega, siis info kasutatud märgendajate ja nende parameetrite kohta ei säili. Nt, kui morfoloogilisel analüüsil on lipud <code>disambiguate</code>, <code>propername</code> ja <code>guess</code> välja lülitatud, siis seda infot otseselt ei salvestata (kaudselt avaldub see aga tekitatud morf analüüsi kihi kvaliteedis).\n",
    "</div>"
   ]
  },
  {
   "cell_type": "markdown",
   "metadata": {},
   "source": [
    "<div class=\"alert alert-block alert-warning\">\n",
    " <h4><i>Tehniline lisajutt 2: <code>Text</code> objektid &lt;-&gt; sõnastikud</i></h4>\n",
    " <br>\n",
    "JSON ja sõnastikud käivad käsikäes ning seega toimub funktsioonide <code>text_to_json</code> ja <code>json_to_text</code>  rakendamisel (taustal) ka <code>Text</code> objekti teisendamine sõnastikuks / taastamine sõnastiku kujult. Kui mingil põhjusel on vaja sõnastiku-teisendusi eraldi teha, siis selle jaoks on <code>estnltk.converters</code> all funktsioonid <code>text_to_dict</code> ja <code>dict_to_text</code>. Veelgi detailsemaks minnes: ka üksikuid märgenduskihte on võimalik  eraldiseisvalt sõnastikuks salvestada ja sõnastiku kujult taastada funktsioonide <code>layer_to_dict</code> ja <code>dict_to_layer</code> abil. See on abiks siis, kui tahame lisada korpuse <code>Text</code> objektidele väga suurt hulka kihte: sellisel juhul tasub kihte <code>Text</code> objektidest eraldiseisvalt hoida (kas siis failides või andmebaasis) ning <code>Text</code>-ide taastamisel lugeda kihte sisse valikuliselt, vastavalt vajadusele. Rohkem informatsiooni sõnastikuks konverteerimise kohta leiab siit: <a href=\"https://github.com/estnltk/estnltk/blob/main/tutorials/converters/dict_exporter_importer.ipynb\"> https://github.com/estnltk/estnltk/blob/main/tutorials/converters/dict_exporter_importer.ipynb </a>\n",
    "</div>"
   ]
  },
  {
   "cell_type": "markdown",
   "metadata": {},
   "source": [
    "### Ülesanne 1. JSON korpuse lugemine ja kirjutamine (1 p)\n",
    "\n",
    "Looge skript, mis teeb järgmist: \n",
    "   1. loeb kaustast 'aja_json' ajaleheartiklid Postimehest ja EPL-ist (igas failis on üks JSON kujul `Text` objekt); \n",
    "   2. lisab sisseloetud tekstidele morfoloogilised analüüsid;\n",
    "   3. teeb tekstide metaandmete põhjal kindlaks nende ilmumiskuupäevad ja jätab meelde, mitu teksti mingil päeval ilmus;\n",
    "   4. salvestab artiklid uude faili selliselt, et iga artikkel paikneb JSON kujul uuel failireal;\n",
    "\n",
    "Programm väljastab töö lõpus, mitu teksti / artiklit iga ilmumiskuupäeva kohta korpus sisaldab."
   ]
  },
  {
   "cell_type": "markdown",
   "metadata": {},
   "source": [
    "Detailid / vihjed: \n",
    "\n",
    "   - artikli-failide sisselugemiseks kasutage moodulis `estnltk.converters` olevat funktsiooni `json_to_text`;\n",
    "   - morfoloogilise analüüsi lisamine: uuri, millised märgendused on sisseloetud tekstidel juba olemas -- kas kõik morfoloogilise analüüsi jaoks vajalikud kihid on olemas või tuleb mõni kiht juurde lisada? Kas mõni kiht on ka \"ülearu\"?\n",
    "   - _metaandmed_ ja ilmumiskuupäevad: \n",
    "     - igal EstNLTK `Text` objektil on atribuut `meta`, mis sisaldab teksti metaandmeid sõnastiku kujul. Uuri, millised võtmed/väärtused on failist sisseloetud `Text` objektil `meta` all (vihje: kasuta meetodit `.keys()` sõnastiku võtmete kättesaamiseks);\n",
    "     - ilmumiskuupäevad: üks metaandmete väli sisaldab informatsiooni ka ilmumiskuupäeva kohta. Kasuta regulaaravaldisi, et ilmumiskuupäev kätte saada;\n",
    "   - salvestamine JSON kujul: \n",
    "     - funktsiooni `text_to_json` abil saab teisendada `Text` objekti JSON sõneks;\n",
    "     - on oluline, et faili kirjutamisel lisatakse JSON sõne lõppu ka realõpusümbol (`\\n`) -- kui see jääb tegemata, muutuvad JSON objektid üksteisest eristamatuks ja `Text` objekti taastamine järgmises ülesandes ei õnnestu;"
   ]
  },
  {
   "cell_type": "markdown",
   "metadata": {},
   "source": [
    "### Boonusülesanne. Programmi tööaja mõõtmine (0,5 p)\n",
    "\n",
    "Kui on tarvis analüüsida suurt korpust, otsida/loendada midagi märgenduse järgi, siis võib märgenduste faili salvestamise taga olla praktiline vajadus: kogu märgendustega korpus ei pruugi lihtsalt korraga mällu ära mahtuda. Lisaks pakub märgenduste faili salvestamine ka ajavõitu: juba märgendatud `Text` objektide failist lugemine ülesande lahendamiseks on enamasti oluliselt kiirem kui märgenduse nö nullist lisamine. Järgnevalt ongi ülesandeks uurida, kui suurt ajavõitu pakub juba märgendatud korpuse kasutamine.\n",
    "\n",
    "Lahenda lihtne ülesanne -- loenda, kui palju on Postimehe ja EPL korpuses (kaustas 'aja_json') nimeüksuseid -- kahel viisil:\n",
    "  1. failidest loetakse sisse tavalised tekstid, lisatakse nimeüksuste märgendus (isikud, asukohad, organisatsioonid) ning seejärel loetakse nimeüksused kokku;\n",
    "  2. failidest loetakse sisse juba nimeüksuste märgendust sisaldavad tekstid (tekitage need ise) ning loetakse nimeüksused kokku;\n",
    "  \n",
    "Mõõda, kui palju kulub programmil aega esimesel ja teisel viisil ülesande lahendamiseks.\n",
    "\n",
    "Programmi tööaja mõõtmiseks Pythonis on mitmeid viise. Uuri moodulite `timeit` ([viide 1](https://docs.python.org/3.8/library/timeit.html), [viide 2](http://pythoncentral.io/measure-time-in-python-time-time-vs-time-clock/)) ja `datetime/timedelta` ([viide 1](https://stackoverflow.com/a/766382), [viide 2](http://en.proft.me/2014/12/7/measure-time-python)) võimalusi ning leia antud ülesande jaoks sobivaim tööaja mõõtmise viis."
   ]
  },
  {
   "cell_type": "markdown",
   "metadata": {},
   "source": [
    "## Ajaväljendite tuvastamine\n",
    "\n",
    "Loomuliku keele tekstides kasutatakse sageli aja väljendamiseks kalendrilisi termineid ja määranguid (nt '1. oktoobril', 'järgmisel neljapäeval', 'eelmisel kuul') ning sellistel juhtudel saab ajaväljendeid ( ingl _time expression_ ehk _TIMEX_ ) ja nende semantikat ka suures osas automaatselt analüüsida. Ajaväljendite tuvastaja tegelebki tekstist ajaväljendite otsimisega (ajaväljendifraaside piiritlemisega) ning nende semantika _normaliseerimisega_ .\n",
    "\n",
    "Ajaväljendite _semantika normaliseerimine_ tähendab seda, et kõigi ajaväljendite semantika esitatakse ühtsel viisil. Näiteks, kuupäeva '7. oktoober 2022' edasiandmiseks võib kasutada ajaväljendeid '7. okt 2022' ,  '2022.10.07' või siis (sõltuvalt kõnehetkest / kirjutamise ajast) 'täna', 'reedel', 'selle nädala reedel' -- tuvastaja eesmärgiks on aga kõigile neile vastavusse seada üks ajamäärang: `2022-10-07`. \n",
    "\n",
    "Tuvastaja poolt kasutatav aja esitamise formaat (`yyyy-mm-dd`) tugineb ISO standardile, ajaväljendite normaliseerimise tarbeks on seda aga natukene kohendatud. Näiteks, kui ajaväljendist pole võimalik välja lugeda konkreetset kuupäeva, aga seal on infot (või saab oletada midagi) _kuu_ ja _aasta_ kohta, siis lühendatakse esituskuju paremalt poolt: 'oktoober 2022' , 'sellel kuul' , 'tänavu oktoobris' => `2022-10`. \n",
    "\n",
    "Analoogselt saab kuupäeva esituskuju pikendada, kui väljendis on infot ka kellaaja kohta (nt  '7. oktoobril kell 10.00' => `2022-10-07T10:00`). Lisaks võimaldab aja esitamise formaat edasi anda kestvuste (nt 'viis aastat') ja korduvuste ('kord nädalas') semantikat ning teatud määral ka hägusate ajaväljendite (nagu nt 'hiljuti', 'järgmisel suvel') semantikat, aga käesolevas praktikumis me kõiki neid nüansse uurida ei jõua. Märgendusformaadi detailsema kirjelduse leiab EstNLTK [dokumentatsioonist](https://github.com/estnltk/estnltk/blob/main/tutorials/nlp_pipeline/D_information_extraction/03_time_expressions.ipynb)."
   ]
  },
  {
   "cell_type": "markdown",
   "metadata": {},
   "source": [
    "**Tehniline vahemärkus**: ajaväljendite tuvastaja kasutab `java`-t. Seega, tuvastaja töölesaamiseks tuleb:\n",
    "\n",
    "  * Installida süsteemi [_Java SE Runtime Environment_](https://www.java.com/en/download/) (versioon >= 1.8);\n",
    "  \n",
    "  * Panna `java` käsk süsteemi keskkonnamuutujasse PATH. Windows-i ja Mac-i puhul tehakse seda tüüpiliselt juba installi käigus, aga kui on siiski tarvis seda käsitsi teha, siis detailsemat abi saab [siit](https://java.com/en/download/help/path.xml);\n",
    "\n",
    "Kuidas kontrollida, kas `java` on juba olemas või kas installimine õnnestus? Käsureakäsk `java -version` peaks kuvama infot installitud `java` versiooni kohta, näiteks midagi taolist:\n",
    "\n",
    "    java version \"1.8.0_171\"\n",
    "    Java(TM) SE Runtime Environment (build 1.8.0_171-b11)\n",
    "    Java HotSpot(TM) 64-Bit Server VM (build 25.171-b11, mixed mode)\n",
    "\n",
    "  * _Lisamärkus_ : Kui käivitad EstNLTK-s esmakordselt `java`-t kasutava analüüsi -- ajaväljendite või osalausete tuvastamise -- läheb alguses natukene kauem aega, kuna toimub `java` protsessi initsialiseerimine. Kui see on tehtud, peaks aga järgmiste analüüside tegemine kulgema ilma oluliste viivitusteta."
   ]
  },
  {
   "cell_type": "markdown",
   "metadata": {},
   "source": [
    "EstNLTK ajaväljendite tuvastajat on kõige mugavam välja kutsuda `tag_layer`-i meetodi abil:"
   ]
  },
  {
   "cell_type": "code",
   "execution_count": 8,
   "metadata": {
    "scrolled": true
   },
   "outputs": [
    {
     "data": {
      "text/html": [
       "<h4>Layer</h4>\n",
       "\n",
       "\n",
       "<table border=\"1\" class=\"dataframe\">\n",
       "  <thead>\n",
       "    <tr style=\"text-align: right;\">\n",
       "      <th>layer name</th>\n",
       "      <th>attributes</th>\n",
       "      <th>parent</th>\n",
       "      <th>enveloping</th>\n",
       "      <th>ambiguous</th>\n",
       "      <th>span count</th>\n",
       "    </tr>\n",
       "  </thead>\n",
       "  <tbody>\n",
       "    <tr>\n",
       "      <td>timexes</td>\n",
       "      <td>tid, type, value, temporal_function, anchor_time_id, mod, quant, freq, begin_point, end_point, part_of_interval</td>\n",
       "      <td>None</td>\n",
       "      <td>None</td>\n",
       "      <td>False</td>\n",
       "      <td>3</td>\n",
       "    </tr>\n",
       "  </tbody>\n",
       "</table>\n",
       "<table border=\"1\" class=\"dataframe\">\n",
       "  <thead>\n",
       "    <tr style=\"text-align: right;\">\n",
       "      <th>text</th>\n",
       "      <th>tid</th>\n",
       "      <th>type</th>\n",
       "      <th>value</th>\n",
       "      <th>temporal_function</th>\n",
       "      <th>anchor_time_id</th>\n",
       "      <th>mod</th>\n",
       "      <th>quant</th>\n",
       "      <th>freq</th>\n",
       "      <th>begin_point</th>\n",
       "      <th>end_point</th>\n",
       "      <th>part_of_interval</th>\n",
       "    </tr>\n",
       "  </thead>\n",
       "  <tbody>\n",
       "    <tr>\n",
       "      <td>eile</td>\n",
       "      <td>t1</td>\n",
       "      <td>DATE</td>\n",
       "      <td>2022-10-05</td>\n",
       "      <td>True</td>\n",
       "      <td>t0</td>\n",
       "      <td>None</td>\n",
       "      <td>None</td>\n",
       "      <td>None</td>\n",
       "      <td>None</td>\n",
       "      <td>None</td>\n",
       "      <td>None</td>\n",
       "    </tr>\n",
       "    <tr>\n",
       "      <td>nüüd</td>\n",
       "      <td>t2</td>\n",
       "      <td>DATE</td>\n",
       "      <td>PRESENT_REF</td>\n",
       "      <td>True</td>\n",
       "      <td>t0</td>\n",
       "      <td>None</td>\n",
       "      <td>None</td>\n",
       "      <td>None</td>\n",
       "      <td>None</td>\n",
       "      <td>None</td>\n",
       "      <td>None</td>\n",
       "    </tr>\n",
       "    <tr>\n",
       "      <td>viie aasta</td>\n",
       "      <td>t3</td>\n",
       "      <td>DURATION</td>\n",
       "      <td>P5Y</td>\n",
       "      <td>False</td>\n",
       "      <td>None</td>\n",
       "      <td>None</td>\n",
       "      <td>None</td>\n",
       "      <td>None</td>\n",
       "      <td>None</td>\n",
       "      <td>None</td>\n",
       "      <td>None</td>\n",
       "    </tr>\n",
       "  </tbody>\n",
       "</table>"
      ],
      "text/plain": [
       "Layer(name='timexes', attributes=('tid', 'type', 'value', 'temporal_function', 'anchor_time_id', 'mod', 'quant', 'freq', 'begin_point', 'end_point', 'part_of_interval'), spans=SL[Span('eile', [{'tid': 't1', 'type': 'DATE', 'value': '2022-10-05', 'temporal_function': True, 'anchor_time_id': 't0', 'mod': None, 'quant': None, 'freq': None, 'begin_point': None, 'end_point': None, 'part_of_interval': None}]),\n",
       "Span('nüüd', [{'tid': 't2', 'type': 'DATE', 'value': 'PRESENT_REF', 'temporal_function': True, 'anchor_time_id': 't0', 'mod': None, 'quant': None, 'freq': None, 'begin_point': None, 'end_point': None, 'part_of_interval': None}]),\n",
       "Span('viie aasta', [{'tid': 't3', 'type': 'DURATION', 'value': 'P5Y', 'temporal_function': False, 'anchor_time_id': None, 'mod': None, 'quant': None, 'freq': None, 'begin_point': None, 'end_point': None, 'part_of_interval': None}])])"
      ]
     },
     "execution_count": 8,
     "metadata": {},
     "output_type": "execute_result"
    }
   ],
   "source": [
    "from estnltk import Text\n",
    "text = Text('Potsataja ütles eile, et vaatavad nüüd Genaga viie aasta plaanid uuesti üle.')\n",
    "\n",
    "# Lisame tekstile ajaväljendite märgenduskihi ('timexes')\n",
    "text.tag_layer('timexes')\n",
    "\n",
    "# Kuvame leitud ajaväljendid\n",
    "text['timexes']"
   ]
  },
  {
   "cell_type": "markdown",
   "metadata": {},
   "source": [
    "Nagu näha, sisaldab ajaväljendite märgenduskiht üksjagu palju atribuute, nende kõigi kohta saad huvi korral lähemalt lugeda [siit](https://github.com/estnltk/estnltk/blob/main/tutorials/nlp_pipeline/D_information_extraction/03_time_expressions.ipynb). Käesoleva praktikumi seisukohalt on aga kõige olulisem info atribuutides `text`, `type` ja `value`. Seega võime teha märgendustest väljavõtte, mis sisaldab vaid neid atribuute:"
   ]
  },
  {
   "cell_type": "code",
   "execution_count": 9,
   "metadata": {},
   "outputs": [
    {
     "data": {
      "text/html": [
       "<h4>AttributeTupleList (spans)</h4>\n",
       "<table border=\"1\" class=\"dataframe\">\n",
       "  <thead>\n",
       "    <tr style=\"text-align: right;\">\n",
       "      <th></th>\n",
       "      <th>text</th>\n",
       "      <th>type</th>\n",
       "      <th>value</th>\n",
       "    </tr>\n",
       "  </thead>\n",
       "  <tbody>\n",
       "    <tr>\n",
       "      <td>0</td>\n",
       "      <td>eile</td>\n",
       "      <td>DATE</td>\n",
       "      <td>2022-10-05</td>\n",
       "    </tr>\n",
       "    <tr>\n",
       "      <td>1</td>\n",
       "      <td>nüüd</td>\n",
       "      <td>DATE</td>\n",
       "      <td>PRESENT_REF</td>\n",
       "    </tr>\n",
       "    <tr>\n",
       "      <td>2</td>\n",
       "      <td>viie aasta</td>\n",
       "      <td>DURATION</td>\n",
       "      <td>P5Y</td>\n",
       "    </tr>\n",
       "  </tbody>\n",
       "</table>"
      ],
      "text/plain": [
       "AttributeTupleList([['eile', 'DATE', '2022-10-05'], ['nüüd', 'DATE', 'PRESENT_REF'], ['viie aasta', 'DURATION', 'P5Y']], ('text', 'type', 'value'))"
      ]
     },
     "execution_count": 9,
     "metadata": {},
     "output_type": "execute_result"
    }
   ],
   "source": [
    "text['timexes'][['text','type','value']]"
   ]
  },
  {
   "cell_type": "markdown",
   "metadata": {},
   "source": [
    "Atribuudi `type` all on ajaväljendi liik: `DATE` -- tavaline toimumisaeg, `TIME` -- kellaaeg-täpsusega toimumisaeg, `DURATION` -- kestvus või `SET` -- korduvus. Võtme `value` all on ajaväljendi normaliseeritud semantika.\n",
    "\n",
    "Näide: andmete väljavõtmine `AttributeTupleList`-ist:"
   ]
  },
  {
   "cell_type": "code",
   "execution_count": 10,
   "metadata": {},
   "outputs": [
    {
     "data": {
      "text/plain": [
       "['eile', 'DATE', '2022-10-05']"
      ]
     },
     "execution_count": 10,
     "metadata": {},
     "output_type": "execute_result"
    }
   ],
   "source": [
    "text['timexes'][['text','type','value']][0]"
   ]
  },
  {
   "cell_type": "code",
   "execution_count": 11,
   "metadata": {},
   "outputs": [
    {
     "data": {
      "text/plain": [
       "'2022-10-05'"
      ]
     },
     "execution_count": 11,
     "metadata": {},
     "output_type": "execute_result"
    }
   ],
   "source": [
    "text['timexes'][['text','type','value']][0][2]"
   ]
  },
  {
   "cell_type": "code",
   "execution_count": 12,
   "metadata": {},
   "outputs": [
    {
     "data": {
      "text/plain": [
       "'2022-10-05'"
      ]
     },
     "execution_count": 12,
     "metadata": {},
     "output_type": "execute_result"
    }
   ],
   "source": [
    "text['timexes'][['value']][0][0]"
   ]
  },
  {
   "cell_type": "markdown",
   "metadata": {},
   "source": [
    "### Dokumendi loomise aja täpsustamine\n",
    "\n",
    "Ajaväljendite _'2022.10.07'_ ja _'7. oktoobril 2022'_ semantika normaliseerimine on suhteliselt triviaalne: väljend kirjutatakse lihtsalt ümber õigesse kuupäevaformaati, midagi oletama ei pea. Tegemist on nn _absoluutsete ajaväljenditega_ : nende fraasides on olemas kogu normaliseerimiseks vajalik kalendriline informatsioon. \n",
    "\n",
    "Keerulisem on lugu aga _relatiivsete ajaväljenditega_ , mille täpne kalendriline semantika ei peitu fraasis, vaid tuleb leida arvutuslikul teel mingi teise ajapunkti suhtes. Sellised väljendid on näiteks 'eile', 'eelmisel aastal', 'järgmisel kuul'. Et relatiivsete väljendite semantika normaliseerimine toimuks korrektselt, tuleb `Text` objekti loomisel täpsustada _dokumendi loomise aeg_ ehk ajapunkt, mille suhtes semantika arvutatakse.\n",
    "\n",
    "Dokumendi loomise aja saab salvestada `Text`-i metaandmesse, nime 'creation_time' alla, ning seejärel leitakse relatiivsete väljendite semantika dokumendi loomise kuupäeva suhtes. Järgmises näites valime dokumendi loomise ajaks 21.12.1986 :"
   ]
  },
  {
   "cell_type": "code",
   "execution_count": 13,
   "metadata": {},
   "outputs": [
    {
     "data": {
      "text/html": [
       "<h4>AttributeTupleList (spans)</h4>\n",
       "<table border=\"1\" class=\"dataframe\">\n",
       "  <thead>\n",
       "    <tr style=\"text-align: right;\">\n",
       "      <th></th>\n",
       "      <th>text</th>\n",
       "      <th>type</th>\n",
       "      <th>value</th>\n",
       "    </tr>\n",
       "  </thead>\n",
       "  <tbody>\n",
       "    <tr>\n",
       "      <td>0</td>\n",
       "      <td>eile</td>\n",
       "      <td>DATE</td>\n",
       "      <td>1986-12-20</td>\n",
       "    </tr>\n",
       "    <tr>\n",
       "      <td>1</td>\n",
       "      <td>eelmisel aastal</td>\n",
       "      <td>DATE</td>\n",
       "      <td>1985</td>\n",
       "    </tr>\n",
       "    <tr>\n",
       "      <td>2</td>\n",
       "      <td>järgmisel kuul</td>\n",
       "      <td>DATE</td>\n",
       "      <td>1987-01</td>\n",
       "    </tr>\n",
       "  </tbody>\n",
       "</table>"
      ],
      "text/plain": [
       "AttributeTupleList([['eile', 'DATE', '1986-12-20'], ['eelmisel aastal', 'DATE', '1985'], ['järgmisel kuul', 'DATE', '1987-01']], ('text', 'type', 'value'))"
      ]
     },
     "execution_count": 13,
     "metadata": {},
     "output_type": "execute_result"
    }
   ],
   "source": [
    "# Loome uue teksti kasutades etteantud dokumendi loomise kuupäeva\n",
    "text = Text('Oli see eile, eelmisel aastal või tuleb see hoopis järgmisel kuul?')\n",
    "text.meta['creation_time'] = '1986-12-21'\n",
    "\n",
    "# Lisame tekstile ajaväljendite märgenduskihi\n",
    "text.tag_layer('timexes')\n",
    "\n",
    "# Uurime leitud väljendeid\n",
    "text['timexes'][['text','type','value']]"
   ]
  },
  {
   "cell_type": "markdown",
   "metadata": {},
   "source": [
    "  * **NB!** Kui jätate _dokumendi loomise aja_ täpsustamata, kasutatakse selle asemel vaikimisi programmi käivitamise aega, mis ei pruugi aga olla täpne kui analüüsite minevikus kirjutatud tekste;"
   ]
  },
  {
   "cell_type": "markdown",
   "metadata": {},
   "source": [
    "Eesti keele ajaväljendite tuvastajat, selle tööpõhimõtteid ja tuvastamise kvaliteeti kirjeldab detailsemalt [see artikkel](http://arhiiv.rakenduslingvistika.ee/ajakirjad/index.php/aastaraamat/article/view/ERYa8.10)."
   ]
  },
  {
   "cell_type": "markdown",
   "metadata": {},
   "source": [
    "### Ülesanne 2. Ajaväljendimärgenduse lisamine korpusele (1,5 p)\n",
    "\n",
    "Lisa esimese ülesande käigus tekitatud korpusele (morfoloogiliselt analüüsitud ja JSON kujul faili salvestatud artiklid) ajaväljendimärgendus. Seejärel filtreeri ajaväljendimärgendust ning jäta alles vaid kuupäevaks ( _yyyy-mm-dd_ ), kuuks ( _yyyy-mm_ ) ja aastaks ( _yyyy_ ) normaliseeritud väljendid. Salvesta tulemused uuesti JSON kujul korpusefailina.\n",
    "\n",
    "Detaile / soovitusi:\n",
    "  * Ajaväljendite tuvastamine:\n",
    "      - enne ajaväljendite märgendamist tuleb leida iga artikli kirjutamise aeg;\n",
    "      - _artikli kirjutamise aja_ saab teksti metaandmetest (võtme `'ajalehenumber'` alt);\n",
    "      - igaks juhuks on hea ajaväljendite tuvastamise tulemust pisteliselt käsitsi uurida, et veenduda, et ajaväljendite normaliseerimine toimub korrektselt -- nt kui artikli kirjutamise kuupäev on 12. juuli 1999 a, siis ajaväljend _'mullu detsembris'_ peaks omandama väärtuse `'1998-12'` (mitte `'2021-12'`);\n",
    "  * Ajaväljendite filtreerimine:\n",
    "      - Ajaväljendite normaliseeritud kujusid on üksjagu palju ja kõiki me selles praktikumis uurida ei jõua. Seetõttu lihtsustame ülesannet ja filtreerime välja vaid kuupäevaks, kuuks ja aastaks normaliseeritud väljendid;\n",
    "      - Järjend `text['timexes']` sisaldab kõiki teksti ajaväljendeid. Filtreeri seda ja jäta alles vaid ajaväljendid, mille 'value' vastab mustritele `yyyy-mm-dd` (kuupäev), `yyyy-mm` (kuu) ja `yyyy` (aasta). Filtreerimist võib teha selle malli järgi:\n",
    "  \n",
    "```python\n",
    "        # 1) Kogume kokku kustutatavad ajaväljendid\n",
    "        kustutatavad = []\n",
    "        for timex in text['timexes']:\n",
    "            # Kontrollime ajaväljendi väärtust\n",
    "            if ... timex.annotations[0]['value'] ...\n",
    "                kustutatavad.append(timex)\n",
    "        # 2) Eemaldame kustutatavad kihist\n",
    "        for d in kustutatavad:\n",
    "            text['timexes'].remove_span(d)\n",
    "```\n",
    "  *  - Uuri iseseisvalt: miks kogutakse kustutatavad järjendisse, selle asemel et kohe teha `text['timexes'].remove_span(timex)` ?\n",
    "  * \n",
    "     - Filtreerimisel on ilmselt kõige parem kasutada regulaaravaldisi. Alljärgnev tabel toob näiteid väljenditest, mis tuleks alles jätta ja mis mitte:\n",
    "      \n",
    "Ajaväljendi tekst | Ajaväljendi normaliseeritud väärtus (value) | Kas ajaväljend tuleks alles jätta?\n",
    "--- | --- | ---\n",
    "`mullu` | `1998` | `jah`\n",
    "`sellel kuul` | `1999-11` | `jah`\n",
    "`14. oktoobril` | `1999-10-14` | `jah`\n",
    "`suvel` | `1999-SU` | `ei`\n",
    "`hiljuti` | `PAST_REF` | `ei`\n",
    "`viis aastat` | `P5Y` | `ei`\n",
    "\n"
   ]
  },
  {
   "cell_type": "markdown",
   "metadata": {},
   "source": [
    "### Lihtne kronoloogiline järjestus\n",
    "\n",
    "ISO standardil põhineva ajaformaadi võluks on lihtne kronoloogiline järjestatavus: kronoloogilise järjekorra taastamiseks piisab, kui sorteerida ajaväljendite normaliseeritud väärtuste sõnesid:"
   ]
  },
  {
   "cell_type": "code",
   "execution_count": 14,
   "metadata": {},
   "outputs": [
    {
     "data": {
      "text/plain": [
       "['1918-02-24', '1991-08-20', '2002-10', '2016', '2018-10-13']"
      ]
     },
     "execution_count": 14,
     "metadata": {},
     "output_type": "execute_result"
    }
   ],
   "source": [
    "values = ['2018-10-13', '2002-10', '1991-08-20', '1918-02-24', '2016']\n",
    "sorted(values)"
   ]
  },
  {
   "cell_type": "markdown",
   "metadata": {},
   "source": [
    "* Semantika seisukohalt on siin on muidugi omad nüansid. Kui ajaväljendite normaliseeritud kujud on erineva detailsusega, aga muidu kattuvad, nt üks on kuu-detailsusega ('oktoobris' => `2022-10`) ja teine kuupäev-detailsusega ('13. oktoobril' =>  `2022-10-13`), siis sellisel viisil sorteerides tuleb lühem esituskuju alati ettepoole. Tegelikult võib aga väiksema detailsusega väljend tähistada seda, et kirjutaja lihtsalt ei soovinud või ei saanud detailsemat ajalist infot anda, ning tegelik kronoloogiline järjekord nende väljendite vahel peaks olema lahtine / määratlemata (ehk: \"oktoobris\" võib tähendada kuupäeva nii enne kui pärast \"13. oktoobrit\"). Selliste semantiliste eristuste tegemine nõuab aga keerukamat analüüsi ning käesolevas praktikumis võime leppida sellega, et lihtne kronoloogiline järjestus on teatud määral ebatäpne."
   ]
  },
  {
   "cell_type": "markdown",
   "metadata": {},
   "source": [
    " ### Ülesanne 3. Tulevikuennustused (1,5 p)\n",
    "\n",
    "Loo programm, mis analüüsib ajaväljendimärgendusega korpust ning väljastab 5 kõige kaugemat tulevikku mainivat lauset. Lisaks lausetele peab skript väljastama ka lausetega seotud artiklite meta-andmed -- ajalehenumbri ja artikli pealkirja -- et oleks selgem, mis kontekstist lause pärineb. \n",
    "\n",
    "Ülesande lahendamiseks tuleb koguda kokku kõik ajaleheartiklites olevad ajaväljendid (ja nendega seotud laused ja vastavad metaandmed), sorteerida ajaväljendid _'value'_ järgi ning väljastada 5 kõige hilisema ajamääranguga seotud laused.\n",
    "\n",
    "Soovitusi / vihjeid:\n",
    "\n",
    "  * Sisendkorpusena tuleks jällegi kasutada eelmise ülesande tulemust, ehk siis korpust, kus on märgendatud kuupäevaks ( _yyyy-mm-dd_ ), kuuks ( _yyyy-mm_ ) ja aastaks ( _yyyy_ ) normaliseeritud väljendid;\n",
    "  * Kuidas kätte saada ajaväljendiga seotud lause? Kõige lihtsam lähenemisviis on tükeldada tekst lauseteks; kuidas see käib, selle kohta uuri EstNLTK baastarkuste materjalist. Seejärel saad itereerida üle lausetele vastavate `Text` objektide, koguda kokku iga lause sees olevad ajaväljendid ja salvestada need sorteerimiseks nii, et iga väljendiga on kaasa pandud ka seda sisaldanud lause (+ meta-andmed);"
   ]
  },
  {
   "cell_type": "markdown",
   "metadata": {},
   "source": [
    " ### Ülesanne 4. Kuupäevade tulpdiagrammid (3 p)\n",
    "\n",
    "Meie poolt uuritavas korpuses on päevalehed ja võib oletada, et suur osa nendes kajastatavatest sündmustest paigutuvad lehe ilmumisaja suhtes lähipäevadele. Selle oletuse kinnituseks (või ümberlükkamiseks) visualiseerime kuupäevaks normaliseeritud ajaväljendite sagedused _tulpdiagrammide_ abil. \n",
    "\n",
    "Konkreetsemalt. Leia korpusest Postimehe ja Eesti Päevalehe ajalehenumbrid, mis sisaldavad kõige rohkem artikleid, ning joonista mõlema ajalehenumbri _kuupäevadeks_ normaliseeritud ajaväljendite kohta üks _tulpdiagramm_. \n",
    "\n",
    "Diagrammi igas tulbas kajastub üheks konkreetseks kuupäevaks normaliseeritud ajaväljendite arv ning tulba pealkiri ongi vastav kuupäev (nt `1999-11-24`).\n",
    "\n",
    "Ühe ajalehenumbri tulpdiagramm peaks andma ülevaate _ilmumiskuupäeva ümbritsevate kuupäevade_ mainimissagedusest. Vali mingi väike ümbritsevate kuupäevade raadius. Näiteks, tulpdiagrammil võib olla statistika viie ajalehenumbri ilmumisele eelneva ja viie järgneva kuupäeva mainimiste kohta, sh ka ajalehenumbri enda ilmumiskuupäeva mainimiste kohta. Nende seas peaksid näha olema ka  kuupäevad, mis jäid raadiusesse, aga mida üldse ei mainitud. Ülejäänud kuupäevade mainimissagedused saab koguda kokku ja paigutada tulpadesse diagrammi otstes, nt pealkirjadega \"varasemad\" ja \"hilisemad\";\n",
    "\n",
    "Detaile:\n",
    " * Sisendiks jällegi ülesande 2 väljund. Vali ajaväljendite seast loendamiseks / visualiseerimiseks ainult kuupäevadeks normaliseeritud ajaväljendid -- ehk siis ajaväljendid, mille _'value'_ vastab formaadile _yyyy-mm-dd_ ;\n",
    " * Vihjeid kuupäevade loendamise kohta: \n",
    "     * Kuna meid huvitavad *N*  ilmumiskuupäevale eelnevat ja järgnevat kuupäeva ning _N_ on eeldatavasti väike arv (vali see ise), siis üsna kasulik oleks lähikuupäevadele vastavad sõned juba enne loendamist valmis genereerida (nt teha nende kohta sõnastik). Mõnda nendest kuupäevadest võib-olla ei mainitagi, aga tulpdiagrammile peaks vastava tulba koht ikkagi tekkima. Kui lähikuupäevad on juba genereeritud, siis loendamisel tuleb iga (kuupäev-)ajaväljendi puhul kontrollida, kas see on artikli lähikuupäevade hulgas, kui on, siis suurendada vastavat sagedust, ja kui pole, siis liigitada see vastavalt kas \"varasemate\" või \"hilisemate\" kuupäevade hulka;\n",
    "     * Kuidas leida artikli/ajalehenumbri ilmumisaja lähikuupäevad? Ilmumisaeg ise on metaandmetes olemas, kalendriaritmeetika vahendite abil saab leida sellele eelnevad/järgnevad kuupäevad. Näide:\n",
    " \n",
    "           >> from datetime import datetime, timedelta\n",
    "           >> dct = datetime(2017, 10, 1)\n",
    "           >> prev_day = dct - timedelta(days=1)\n",
    "           >> print( 'Eelmine kuupäev:', prev_day )\n",
    "           Eelmine kuupäev: 2017-09-30 00:00:00\n",
    " \n",
    " * Visualiseerimiseks võib kasutada teegi `matplotlib` vahendeid (allpool on selle kohta ka näide), aga kohustuslik see pole -- kui leiad netist mõne alternatiivse visualiseerimisteegi, siis oled teretulnud seda katsetama; \n",
    "   \n",
    "   ( `matplotlib`-i eeliseks on ilmselt see, et seda ei pea uuesti installima -- peaks olema installitud juba 2. praktikumist )"
   ]
  },
  {
   "cell_type": "markdown",
   "metadata": {},
   "source": [
    "#### Tulpdiagrammi joonistamine (`matplotlib`)"
   ]
  },
  {
   "cell_type": "code",
   "execution_count": 15,
   "metadata": {},
   "outputs": [
    {
     "data": {
      "image/png": "[encoded data removed]",
      "text/plain": [
       "<Figure size 640x480 with 1 Axes>"
      ]
     },
     "metadata": {},
     "output_type": "display_data"
    }
   ],
   "source": [
    "import matplotlib.pyplot as plt\n",
    "\n",
    "# Andmed: tulpade nimed ja vastavad arvandmed\n",
    "labels = ['A', 'B', 'C']\n",
    "data   = [1, 7, 3]\n",
    "\n",
    "# tulpade \"koordinaadid\"\n",
    "# (ehk millises järjekorras tulbad pildile \n",
    "# paigutatakse)\n",
    "y_pos = range(len(labels))\n",
    "# tulpdiagrammi tegemine:\n",
    "plt.bar(y_pos, data, color='blue', width=0.6)\n",
    "# tulpade nimed:\n",
    "plt.xticks(y_pos, labels)\n",
    "# diagrammi ja selle telgede nimed:\n",
    "plt.title('minu diagramm')\n",
    "plt.xlabel('tähed')\n",
    "plt.ylabel('sagedused')\n",
    "\n",
    "# kuvame diagrammi:\n",
    "plt.show()"
   ]
  },
  {
   "cell_type": "markdown",
   "metadata": {},
   "source": [
    "Mille kohta veel tasub uurida: \n",
    " * Funktsiooni bar [dokumentatsioon](https://matplotlib.org/stable/api/_as_gen/matplotlib.pyplot.bar.html);\n",
    " * X- ja Y-telje nimede vormistuse muutmine, nt [xticks](https://matplotlib.org/stable/api/_as_gen/matplotlib.pyplot.xticks.html#matplotlib.pyplot.xticks) ja [selle võimalike parameetrite loend](https://matplotlib.org/stable/api/text_api.html#matplotlib.text.Text);\n",
    " * Pildi ja fondi suuruse [muutmine](https://matplotlib.org/stable/users/dflt_style_changes.html#figure-size-font-size-and-screen-dpi);"
   ]
  },
  {
   "cell_type": "markdown",
   "metadata": {},
   "source": [
    "---"
   ]
  }
 ],
 "metadata": {
  "anaconda-cloud": {},
  "kernelspec": {
   "display_name": "Python 3 (ipykernel)",
   "language": "python",
   "name": "python3"
  },
  "language_info": {
   "codemirror_mode": {
    "name": "ipython",
    "version": 3
   },
   "file_extension": ".py",
   "mimetype": "text/x-python",
   "name": "python",
   "nbconvert_exporter": "python",
   "pygments_lexer": "ipython3",
   "version": "3.8.13"
  }
 },
 "nbformat": 4,
 "nbformat_minor": 4
}
