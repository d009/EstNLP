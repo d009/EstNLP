{
 "cells": [
  {
   "cell_type": "markdown",
   "metadata": {},
   "source": [
    "<h1 style=\"color:blue\">Praktikum 5.</h1>\n",
    "<h3 style=\"color:blue\">Käsureaprogrammid ja kodeeringud, <br>morfoloogiline süntees ja nimeüksuste tuvastamine</h3>"
   ]
  },
  {
   "cell_type": "markdown",
   "metadata": {},
   "source": [
    "Käesoleva praktikumi teemad võib jagada kaheks: tehnilised teemad ja keeletöötluse teemad. Tehnilised teemad: vaatame, kuidas luua käsurealt käivitatavaid Pythoni skripte ning räägime sõnede kodeeringust. Keeletöötluse teemade juures aga õpime kasutama morfoloogilist sünteesi ning nimeüksuste tuvastajat."
   ]
  },
  {
   "cell_type": "markdown",
   "metadata": {},
   "source": [
    "## Käsureaprogrammid\n",
    "\n",
    "Jupyter Lab'i on mugav kasutada väiksemate programmide arendamiseks ja testimiseks, samuti väiksemate andmehulkade töötlemiseks ning tulemuste lõplikuks vormistamiseks, dokumenteerimiseks ja visualiseerimiseks. Graafilise keskkonna kasutamine võib aga olla ebamugav kui töödelda tuleb *suuri andmestikke*. \n",
    "\n",
    "Kuna Jupyter Lab'i jooksutamine võtab üksjagu arvuti mälu, saaksite rohkem vaba mälu, kui jooksutaksite Pythoni programme otse, ilma Jupyter Lab'i \"vahenduseta\". \n",
    "Suurandmete töötlemine on ka aeganõudev (programmid võivad joosta päevi ja isegi nädalaid) ning seega on programme hoopis parem jooksutada selleks spetsiaalselt mõeldud serverkeskkondades, mitte oma arvutis.\n",
    "Suurandmete töötlemiseks luuakse tüüpiliselt mitme-etapiline töövoog, milles iga järgnev komponent kasutab eelneva väljundit sisendina, ning vahetulemused talletatakse failidesse või andmebaasi. Tavaliselt koosneb see töövoog käsurealt käivitavatest Pythoni skriptidest, mida saab arendada / testida lokaalses masinas ning lõplikult rakendada suurema arvutusvõimsusega ja kõvakettaruumiga serveris. Serveris skriptidega majandamine käib aga tüüpiliselt käsurea kaudu.\n",
    "\n",
    "Järgnevalt vaatamegi detailsemalt, kuidas luua käsurealt käivitatavaid Pythoni programme."
   ]
  },
  {
   "cell_type": "markdown",
   "metadata": {},
   "source": [
    "### Pythoni programmide käivitamine käsurealt\n",
    "\n",
    "Kuidas käsureal `conda` keskkondi vahetada, uusi Pythoni teeke installida ja märkmikku käivitada, sellega oleme juba kokku puutunud.\n",
    "Käsureaprogrammide arendamisel on lisaks hea teada veel süsteemi baaskäske; kes nendega väga tuttav pole, võib iseseisvalt uurida Windows'i baaskäskude kohta [siit](https://www3.ntu.edu.sg/home/ehchua/programming/howto/CMD_Survival.html) ning Linuxi/Mac-i baaskäskude kohta [siit](https://www3.ntu.edu.sg/home/ehchua/programming/howto/Unix_SurvivalGuide.html).\n",
    "Minimaalne oskustepagas võiks olla: kuidas uurida käsureal jooksva kausta sisu (failide ja kataloogide loend) ning kuidas navigeerida sinna kausta, kus on Pythoni skript(id), mida tahaks käivitada.\n",
    "\n",
    "Skripti käivitamine käsurealt käib käsuga `python`, nt:\n",
    "\n",
    "    python minu_skript.py\n",
    "\n",
    "Loomulikult: kui skript nõuab mingit spetsiifilist Pythoni versiooni ja väliseid teeke, peaksite enne käivitamist olema vastavaid nõudeid rahuldavas `conda` virtuaalkeskkonnas.\n",
    "\n",
    "Kui skript nõuab argumente (nt töödeldavate failide nimesid), siis tuleb need sisestada tühikutega eraldatult skripti järele, nt\n",
    "\n",
    "    python minu_skript.py fail1.txt fail2.txt\n",
    "\n",
    "Kõige lihtsam viis käsureaargumentide kättesaamiseks skripti sees on standardteegi muutuja `sys.argv` kaudu. See muutuja sisaldab järjendit, mille esimene element on skripti enda nimi ning järgmised elemendid skriptile käsurealt etteantud argumendid:\n",
    "\n",
    "```python\n",
    "from sys import argv\n",
    "\n",
    "# Kontrollime, kas käsurealt anti ette vähemalt 2 argumenti\n",
    "if len(argv) >= 3:\n",
    "    print('skripti nimi:', argv[0])\n",
    "    print('esimene sisendfail:', argv[1])\n",
    "    print('teine sisendfail:', argv[2])\n",
    "else:\n",
    "    # Kui argumente ei antud, kuvame skripti \"käivitamise juhendi\"\n",
    "    print('(!) Palun mulle sisendiks 2 failinime!')\n",
    "```\n",
    "     \n",
    "Eeltoodud koodijupi katsetamiseks valige _Launcher_ aknas _Other_ -> _Python file_ ning salvestage kood Pythoni faili. \n",
    "Seejärel saate programmi käsureal käivitamist katsetada, valides _Launcher_ aknas _Other_ -> _Terminal_. Kui _Launcher_ akent pole parajasti näha, siis saab uue _Launcher_-i tekitada vajutades + märgiga vahesakile."
   ]
  },
  {
   "cell_type": "markdown",
   "metadata": {},
   "source": [
    "### Käsureaprogrammide dokumenteerimine\n",
    "\n",
    "Hea käsureaprogramm kuvab kasutajale infot selle kohta, milliseid argumente see vajab: millised argumendid on kohustuslikud ja millised valikulised, ning ühtlasi teavitab kasutajat ka sellest, kui mingi argument on vigane (nt käsurealt sisestatud failinimele vastavat faili ei eksisteeri). Mida rohkem käsuargumente programm vajab, seda olulisemaks muutub asjakohase abiinfo  edastamine. Ja tegelikult on käsureaprogrammide dokumenteerimine oluline ka muudel juhtudel, nt kui tahate skripti teistega jagada / laiemalt levitada ja/või pärast pikema aja möödumist ise uuesti kasutada (argumentide \"loogika\" ei pruugi hiljem enam meeles olla).\n",
    "\n",
    "Nagu eelnevast näitest näha, võib ka `sys.argv` abil teha lihtsamat argumentide kontrolli ja vajadusel teavitada kasutajat probleemidest. Aga põhjalikuma argumendikontrolli loomine ja dokumenteerimine `sys.argv`-i abil on üsna töömahukas ettevõtmine ning seetõttu on parem kasutada juba valmislahendusi. \n",
    "\n",
    "Üheks valmislahenduseks on standardteek `argparse`. See pakub mugava võimaluse skripti kohustuslike ja valikuliste argumentide  defineerimiseks ning varustamiseks kirjelduste / abiinfoga. \n",
    "Ühtlasi on võimalik lisada ka argumentide väärtustele tüübikontroll: näiteks nõuda, et mingid argumendiväärtused on numbrid või nõuda mingite kindlate sõnede esitamist argumendiväärtustena. \n",
    "Kui skript on `argparse`-i abil dokumenteerinud, siis pannakse selle põhjal kokku üsna põhjalik \"käivitamisõpetus\", mille saab kutsuda esile käsurea argumentidega `-h` või `--help`."
   ]
  },
  {
   "cell_type": "markdown",
   "metadata": {},
   "source": [
    "Näide: skript, mis nõuab kasutajalt argumentidena kaks nime ning väljastab need läbivate suurtähtedega:\n",
    "\n",
    "```python\n",
    "import argparse\n",
    "\n",
    "parser = argparse.ArgumentParser(description='Prints the forename and surname, if provided, in uppercase.')\n",
    "parser.add_argument('forename', type=str,\n",
    "                     help=\"someone's forename\")\n",
    "parser.add_argument('--surname', dest='last_name',\n",
    "                     help=\"someone's last name\")\n",
    "\n",
    "args = parser.parse_args()\n",
    "\n",
    "print(args.forename.upper())\n",
    "print(args.last_name.upper())\n",
    "```\n",
    "\n",
    "Teegis `argparse` eristatakse kahte liiki sisendargumente: 1) _positsionaalsed argumendid_ on kohustuslikud ning peavad olema kindlas järjekorras -- nende puudumisel annab skript  veateate; 2) _valikulised argumendid_ saab aga skriptile anda ette suvalises järjekorras ning need võib ka üldse ära jätta. \n",
    "Looge eelnevat koodijuppi sisaldav Pythoni skript (valige _Launcher_ aknas _Other_ -> _Python file_) ning katsetage seda käsureal (valige _Launcher_ aknas _Other_ -> _Terminal_). \n",
    "Uurige: milline defineeritud argumentidest on kohustuslik, milline valikuline? ja kuidas tuleks skripti muuta, et käivitamisel poleks ohtu sattuda veateatele?"
   ]
  },
  {
   "cell_type": "markdown",
   "metadata": {},
   "source": [
    "Vt ka inglisekeelseid abimaterjale: \n",
    "  * sissejuhatus `argparse`-i kasutamisse: https://docs.python.org/3.9/howto/argparse.html#argparse-tutorial \n",
    "  * põhjalikum liidese kirjeldus: https://docs.python.org/3.9/library/argparse.html"
   ]
  },
  {
   "cell_type": "markdown",
   "metadata": {},
   "source": [
    "Leidub ka `argparse`-ile alternatiivseid käsureaargumentide parsimise teeke. Populaarsemaid neist on võrreldud [selles blogipostituses](https://realpython.com/comparing-python-command-line-parsing-libraries-argparse-docopt-click/), seega kui teema pakub rohkem huvi, saab sealt üsna hea ülevaate, milliseid võimalusi eri teegid pakuvad."
   ]
  },
  {
   "cell_type": "markdown",
   "metadata": {},
   "source": [
    "### Boonusülesanne. Käsurealiidese lisamine programmile (0,5 p)\n",
    "\n",
    "Täiendage ühte eelmiste praktikumide ülesande lahendust selliselt, et programmi saab käivitada käsurealt ning programmi parameetrid määratakse samuti käsureaargumentidena. Programmil peaks olema vähemalt üks käsurealt etteantav argument. Programm peab olema `argparse`'i võimalusi kasutades korralikult dokumenteeritud, abiinfo argumentide kohta kättesaadav."
   ]
  },
  {
   "cell_type": "markdown",
   "metadata": {},
   "source": [
    "## Kodeeringud\n",
    "\n",
    "Arvuti kõvakettal talletatakse tekstilised andmed baidijärjenditena. Samal kujul liigutatakse andmeid ka üle võrgu. Kodeering määrab, kuidas teisendada need järjendid inimloetavateks tekstisümboliteks. Seetõttu ongi tekstiandmete sisselugemisel tarvis täpsustada, millist _dekodeerimise_ viisi tuleks kasutada. Analoogselt tuleb teksti talletamisel andmekandjatele määrata _kodeerimise_ viis ehk siis kuidas teisendada mälus olevad tekstisümbolid tagasi baitideks."
   ]
  },
  {
   "cell_type": "markdown",
   "metadata": {},
   "source": [
    "### Sõnede kodeering"
   ]
  },
  {
   "cell_type": "markdown",
   "metadata": {},
   "source": [
    "Pythonis on erinevat liiki sõnesid ehk sümbolite jadasid. Kõige sagedamini opereerime _unicode_ 'i kujul (vaikimisi)."
   ]
  },
  {
   "cell_type": "code",
   "execution_count": 1,
   "metadata": {},
   "outputs": [
    {
     "name": "stdout",
     "output_type": "stream",
     "text": [
      "Pontu vaatas aknast välja\n",
      "ja naeratas\n"
     ]
    }
   ],
   "source": [
    "unicode_string = \"Pontu vaatas aknast välja\\nja naeratas\"\n",
    "print(unicode_string)"
   ]
  },
  {
   "cell_type": "markdown",
   "metadata": {},
   "source": [
    "Mõnikord me aga ei soovi, et teatud sümboleid (nt \"\\\\\") eraldi käsitletakse. Selleks on võimalik sõne defineerida _raw_ kujul."
   ]
  },
  {
   "cell_type": "code",
   "execution_count": 2,
   "metadata": {},
   "outputs": [
    {
     "name": "stdout",
     "output_type": "stream",
     "text": [
      "Pontu vaatas aknast välja\\nja naeratas\n"
     ]
    }
   ],
   "source": [
    "raw_string = r\"Pontu vaatas aknast välja\\nja naeratas\"\n",
    "print(raw_string)"
   ]
  },
  {
   "cell_type": "markdown",
   "metadata": {},
   "source": [
    "Kodeeringute korral on oluline veel sõne kodeeritud kuju baidimassiivina, millena talletatakse kettal või liigutatakse võrgus:"
   ]
  },
  {
   "cell_type": "code",
   "execution_count": 3,
   "metadata": {},
   "outputs": [
    {
     "name": "stdout",
     "output_type": "stream",
     "text": [
      "b'Pontu vaatas aknast v\\xc3\\xa4lja\\nja naeratas'\n"
     ]
    }
   ],
   "source": [
    "print(\"Pontu vaatas aknast välja\\nja naeratas\".encode('utf8'))"
   ]
  },
  {
   "cell_type": "markdown",
   "metadata": {},
   "source": [
    "Kodeeritud sõnet saame dekodeerida:"
   ]
  },
  {
   "cell_type": "code",
   "execution_count": 4,
   "metadata": {
    "scrolled": true
   },
   "outputs": [
    {
     "name": "stdout",
     "output_type": "stream",
     "text": [
      "Pontu vaatas aknast välja\n",
      "ja naeratas\n"
     ]
    }
   ],
   "source": [
    "print(b'Pontu vaatas aknast v\\xc3\\xa4lja\\nja naeratas'.decode('utf8'))"
   ]
  },
  {
   "cell_type": "markdown",
   "metadata": {},
   "source": [
    "Aga _Unicode_ 'i ei saa dekodeerida:"
   ]
  },
  {
   "cell_type": "code",
   "execution_count": 5,
   "metadata": {},
   "outputs": [
    {
     "name": "stderr",
     "output_type": "stream",
     "text": [
      "Traceback (most recent call last):\n",
      "  File \"C:\\Users\\soras\\AppData\\Local\\Temp\\ipykernel_23220\\973658903.py\", line 3, in <module>\n",
      "    print( unicode_string.decode('utf8') )\n",
      "AttributeError: 'str' object has no attribute 'decode'\n"
     ]
    }
   ],
   "source": [
    "unicode_string = \"Pontu vaatas aknast välja\\nja naeratas\"\n",
    "try:\n",
    "    print( unicode_string.decode('utf8') )\n",
    "except AttributeError as e:\n",
    "    # Tuli veateade: prindime selle sõnumi välja\n",
    "    import traceback\n",
    "    traceback.print_exc()"
   ]
  },
  {
   "cell_type": "markdown",
   "metadata": {},
   "source": [
    "### Failide vaikekodeering\n",
    "\n",
    "Kodeeringu-teema on eelmistes praktikumides kõige rohkem esile tulnud failide avamisel: enamasti on sisendfailid olnud kodeeringus `'utf-8'` ning failide avamisel on seetõttu tulnud kasutada täpsustavat argumenti `encoding='utf-8'`.\n",
    "\n",
    "Kui jätate faili lugemisel/kirjutamisel kodeeringu määramata, kasutab Python nn vaikekodeeringut. Vaikekodeeringu nime saab teada järgmise käsuga:"
   ]
  },
  {
   "cell_type": "code",
   "execution_count": 6,
   "metadata": {},
   "outputs": [
    {
     "data": {
      "text/plain": [
       "'cp1257'"
      ]
     },
     "execution_count": 6,
     "metadata": {},
     "output_type": "execute_result"
    }
   ],
   "source": [
    "# Oma vaikekodeeringu kontrollimine\n",
    "import locale\n",
    "locale.getpreferredencoding()"
   ]
  },
  {
   "cell_type": "markdown",
   "metadata": {},
   "source": [
    "Vaikekodeering sõltub suuresti kasutatavast operatsioonisüsteemist ja selle sätetest. Windows-i all on see tüüpiliselt  `'cp1257'` (pikema nimega `'Windows-1257'` ehk *Windows Baltic*), UNIX-is tavaliselt `'UTF-8'`."
   ]
  },
  {
   "cell_type": "markdown",
   "metadata": {},
   "source": [
    "### Windows'i käsurea erisused\n",
    "\n",
    "UNIX-süsteemid kasutavad vaikimisi _Unicode_'i ja seal tavaliselt käsureaprogrammidel kodeeringuga probleeme ei teki. Küll aga võivad probleemid tekkida Windows'is.\n",
    "\n",
    "Kui proovite Windows'i käsureal käivitada programmi, mis prindib ekraanile täpitähti sisaldavat _Unicode_ teksti, siis võite  komistada selle otsa, et ekraanile ilmub täpitähtede asemel mingi pudru-mudru. Halvimal juhul lõpetab programm töö veateatega (`UnicodeEncodeError`). Põhjuseks enamasti see, et Windows'i käsureakna poolt kasutatav kodeering ei ole vaikimisi \"UTF-8\". \n",
    "\n",
    "Käsureaakna kodeeringu saate muuta \"UTF-8\"-ks käsuga:\n",
    "\n",
    "     chcp 65001\n",
    "\n",
    "Kui ülaltoodud käsk ei aidanud, siis võib veel lisaks proovida Pythoni sisendi/väljundi kodeeringut määrava süsteemimuutuja seadistamist:\n",
    "\n",
    "     set PYTHONIOENCODING=\"UTF-8\"\n"
   ]
  },
  {
   "cell_type": "markdown",
   "metadata": {},
   "source": [
    "### Ülesanne 1. Kodeeringu teisendaja (1 p)\n",
    "Kirjutage _argparse_ -i kasutades skript, mis teisendab etteantud kodeeringuga sisendfaili etteantud kodeeringuga väljundfailiks. Väljundfaili nimi saadakse automaatselt, lisades sisendfaili nime (mitte laiendi!) lõppu alakriipsuga kodeeringu nime, nt kui sisendfaili nimi on `'koeradest.txt'`, siis väljundfaili nimi väljundkodeeringu `'UTF-8'` korral on `'koeradest_UTF-8.txt'`. Kasutusnäide:\n",
    "\n",
    "    python change_encoding.py koeradest.txt --input-encoding iso-8859-2 --output-encoding UTF-8\n",
    "\n",
    "Kui kodeering jäetakse käsureaargumentidega täpsustamata, siis kasutab skript vaikimisi (nii sisendi kui väljundi jaoks) UTF-8 kodeeringut. Skript peab olema `argparse`'i võimalusi kasutades korralikult dokumenteeritud, abiinfo argumentide kohta kättesaadav.\n",
    "\n",
    "Katsetage oma skripti tekstidel `'juku_1.txt'` (kodeeringus `'Windows-1257'`) ja `'juku_2.txt'` (kodeeringus `'iso-8859-15'`)."
   ]
  },
  {
   "cell_type": "markdown",
   "metadata": {},
   "source": [
    "---\n",
    "\n",
    "Märkus: Kui eelnevad ülesanded tuleb esitada käsurealt käivitavate Pythoni skriptidena, siis järgnevate ülesannete puhul enam seda nõuet pole: võite ise valida, kas lahendate need _NoteBook_ 'is või teete käsureaskriptid.\n",
    "\n",
    "---"
   ]
  },
  {
   "cell_type": "markdown",
   "metadata": {},
   "source": [
    "## Morfoloogiline süntees\n",
    "\n",
    "Eelmistes praktikumides tutvusite morfoloogilise analüüsiga. Lisaks sellele sisaldab EstNLTK ka _morfoloogilist sünteesi_ , mis on morfoloogilise analüüsi pöördprotsess: võimaldab genereerida etteantud lemmale ja vormitunnustele vastava sõnavormi.\n",
    "\n",
    "Sünteesiks kasutatakse funktsiooni `synthesize()`, mis saab sisendiks sõna algvormi ehk lemma ja nõutud vormitunnused,  genereerib nende põhjal sõnad ning tagastab genereeritud sõnade järjendi:"
   ]
  },
  {
   "cell_type": "code",
   "execution_count": 7,
   "metadata": {},
   "outputs": [
    {
     "data": {
      "text/plain": [
       "['porgandeid']"
      ]
     },
     "execution_count": 7,
     "metadata": {},
     "output_type": "execute_result"
    }
   ],
   "source": [
    "from estnltk.vabamorf.morf import synthesize\n",
    "\n",
    "# genereerime sõna 'porgand' mitmuse osastavas ('pl p')\n",
    "synthesize('porgand', 'pl p')"
   ]
  },
  {
   "cell_type": "code",
   "execution_count": 8,
   "metadata": {},
   "outputs": [
    {
     "data": {
      "text/plain": [
       "['jagas']"
      ]
     },
     "execution_count": 8,
     "metadata": {},
     "output_type": "execute_result"
    }
   ],
   "source": [
    "# genereerime sõna 'jagama' lihtminevikus ('s')\n",
    "synthesize('jagama', 's')  "
   ]
  },
  {
   "cell_type": "markdown",
   "metadata": {},
   "source": [
    "Genereerimisel kasutatakse samasuguseid vormitunnuseid nagu morfoloogilisel analüüsil; käändsõna vormitunnustest annab ülevaate [see tabel](https://nbviewer.org/github/estnltk/estnltk/blob/main/tutorials/nlp_pipeline/B_morphology/00_tables_of_morphological_categories.ipynb#Table:-Noun-form-descriptions-(Vabamorf)) ning pöördsõna vormitunnustest [see tabel](https://nbviewer.org/github/estnltk/estnltk/blob/main/tutorials/nlp_pipeline/B_morphology/00_tables_of_morphological_categories.ipynb#Table:-Verb-form-descriptions-(Vabamorf))."
   ]
  },
  {
   "cell_type": "code",
   "execution_count": 9,
   "metadata": {},
   "outputs": [
    {
     "data": {
      "text/plain": [
       "['palkade', 'palkide']"
      ]
     },
     "execution_count": 9,
     "metadata": {},
     "output_type": "execute_result"
    }
   ],
   "source": [
    "# genereerime sõna 'palk' mitmuse omastava ('pl g')\n",
    "synthesize('palk', 'pl g')"
   ]
  },
  {
   "cell_type": "markdown",
   "metadata": {},
   "source": [
    "Kui genereerimisel tekib mitmesusi, nagu eelnevas näites, on mittekohustusliku parameetri `hint` abil võimalik täpsustada, millised vormid tuleb genereerida. Sisuliselt näitab `hint`, millise prefiksiga sõnad peaksid alles jääma:"
   ]
  },
  {
   "cell_type": "code",
   "execution_count": 10,
   "metadata": {},
   "outputs": [
    {
     "data": {
      "text/plain": [
       "['palkade']"
      ]
     },
     "execution_count": 10,
     "metadata": {},
     "output_type": "execute_result"
    }
   ],
   "source": [
    "# genereerime sõna 'palk' mitmuse omastava ('pl g'), \n",
    "# jätame alles vormid, mille alguses 'palka'\n",
    "synthesize('palk', 'pl g', hint='palka')"
   ]
  },
  {
   "cell_type": "markdown",
   "metadata": {},
   "source": [
    "Lisadetaile morfoloogilise sünteesi kohta vt [EstNLTK abimaterjalist](https://nbviewer.org/github/estnltk/estnltk/blob/main/tutorials/nlp_pipeline/B_morphology/02_morphological_synthesis.ipynb)."
   ]
  },
  {
   "cell_type": "markdown",
   "metadata": {},
   "source": [
    "### Ülesanne 2. Ajaleheartiklite \"minevikustaja\" (3 p)\n",
    "\n",
    "Ajakirjanikel on mure: päevakajalistest sündmustest kirjutades kasutavad nad sageli tegusõnu olevikus, samas kui uudis muutub vanemaks, oleks tegelikult keeleliselt õigem, kui uudist annaksid edasi minevikuverbid. Seega oleks neil vaja programmi, mis võimaldaks artiklite verbikasutust korrigeerida: muuta tekstis esinevad olevikuverbid minevikuverbideks. Teie järgmiseks ülesandeks ongi luua sellise programmi prototüüp.\n",
    "\n",
    "Detailsemalt. Kõik kataloogis 'ajaleheartiklid' olevad tekstid tuleb ümber kirjutada sellisel kujul, et olevikuverbid asendatakse neile vastavate minevikuvormidega. Näide:\n",
    "\n",
    "        Keila-Joa park saab korda  ==>  Keila-Joa park sai korda\n",
    "\n",
    "Minevikuvormid tuleb genereerida morfoloogilise sünteesi abil. _Oluline lisanõue:_ algse teksti vormistus (reavahetused, tühikud jms) peaks ümberkirjutamise käigus säilima.\n",
    "Töö tulemused (muudetud artiklid) tuleks väljastada ekraanile.\n",
    "\n",
    "Vihjeid / soovitusi:\n",
    "  * Esimese sammuna tuleks uurida, milliseid verbikategooriaid antud ajaleheartiklites üldse kasutatakse. Teie programm ei pea oskama kõikvõimalikke olevikuvorme minevikuvormideks teisendama: piisab, kui teisendamine töötab etteantud ajaleheartiklite peal. Seega on oodatud, et teostate enne väikese _korpuseuuringu_ (nt teete tekstide morf analüüsid, seejärel verbidest sagedusloendi), et välja uurida, milliseid kategooriaid tuleb teisendama hakata;\n",
    "  * Võib selguda, et kõiki olevikuverbe ei olegi mõttekas või ei saagi millegipärast teisendada. See on OK, aga koodi kommentaarides või siin märkmikus tuleks sellisel juhul tuua välja põhjendused, et miks;\n",
    "  * Teksti ümber kirjutamine _algset vormingut säilitades_ : tuleks kasutada ära teadmist, et `Text` objektis on talletatud iga sõna algus- ja lõpp-positsioon esialgses tekstis. Seega, teades, kus sõna asus, võime sellele positsioonile asendussõna kirjutada; Kui veel päris selget ettekujutlust pole, kuidas seda teha, siis vt ka all olevat juttu;"
   ]
  },
  {
   "cell_type": "markdown",
   "metadata": {},
   "source": [
    "#### Sõnade asendamine tekstis \"koordinaatide järgi\"\n",
    "\n",
    "Nagu teises praktikumis tutvustati, on iga `Text` objekti märgenduskihi (`'sentences'`, `'words'` jms) elemendid varustatud atribuutidega `'start'` ja `'end'`, mis annavad edasi vastava elemendi \"asukoha tekstis\":"
   ]
  },
  {
   "cell_type": "code",
   "execution_count": 11,
   "metadata": {},
   "outputs": [
    {
     "data": {
      "text/html": [
       "<h4>AmbiguousAttributeTupleList (spans)</h4>\n",
       "<table border=\"1\" class=\"dataframe\">\n",
       "  <thead>\n",
       "    <tr style=\"text-align: right;\">\n",
       "      <th></th>\n",
       "      <th>start</th>\n",
       "      <th>end</th>\n",
       "      <th>text</th>\n",
       "    </tr>\n",
       "  </thead>\n",
       "  <tbody>\n",
       "    <tr>\n",
       "      <td>0</td>\n",
       "      <td>0</td>\n",
       "      <td>4</td>\n",
       "      <td>Mees</td>\n",
       "    </tr>\n",
       "    <tr>\n",
       "      <td>1</td>\n",
       "      <td>5</td>\n",
       "      <td>10</td>\n",
       "      <td>läheb</td>\n",
       "    </tr>\n",
       "    <tr>\n",
       "      <td>2</td>\n",
       "      <td>11</td>\n",
       "      <td>20</td>\n",
       "      <td>puhkusele</td>\n",
       "    </tr>\n",
       "    <tr>\n",
       "      <td>3</td>\n",
       "      <td>20</td>\n",
       "      <td>21</td>\n",
       "      <td>.</td>\n",
       "    </tr>\n",
       "    <tr>\n",
       "      <td>4</td>\n",
       "      <td>22</td>\n",
       "      <td>24</td>\n",
       "      <td>Ta</td>\n",
       "    </tr>\n",
       "    <tr>\n",
       "      <td>5</td>\n",
       "      <td>25</td>\n",
       "      <td>30</td>\n",
       "      <td>võtab</td>\n",
       "    </tr>\n",
       "    <tr>\n",
       "      <td>6</td>\n",
       "      <td>31</td>\n",
       "      <td>36</td>\n",
       "      <td>kaasa</td>\n",
       "    </tr>\n",
       "    <tr>\n",
       "      <td>7</td>\n",
       "      <td>37</td>\n",
       "      <td>43</td>\n",
       "      <td>kohvri</td>\n",
       "    </tr>\n",
       "    <tr>\n",
       "      <td>8</td>\n",
       "      <td>44</td>\n",
       "      <td>46</td>\n",
       "      <td>ja</td>\n",
       "    </tr>\n",
       "    <tr>\n",
       "      <td>9</td>\n",
       "      <td>47</td>\n",
       "      <td>56</td>\n",
       "      <td>võrkkiige</td>\n",
       "    </tr>\n",
       "    <tr>\n",
       "      <td>10</td>\n",
       "      <td>56</td>\n",
       "      <td>57</td>\n",
       "      <td>.</td>\n",
       "    </tr>\n",
       "  </tbody>\n",
       "</table>"
      ],
      "text/plain": [
       "AmbiguousAttributeTupleList([[[0, 4, 'Mees']], [[5, 10, 'läheb']], [[11, 20, 'puhkusele']], [[20, 21, '.']], [[22, 24, 'Ta']], [[25, 30, 'võtab']], [[31, 36, 'kaasa']], [[37, 43, 'kohvri']], [[44, 46, 'ja']], [[47, 56, 'võrkkiige']], [[56, 57, '.']]], ('start', 'end', 'text'))"
      ]
     },
     "execution_count": 11,
     "metadata": {},
     "output_type": "execute_result"
    }
   ],
   "source": [
    "from estnltk import Text\n",
    "text = Text('Mees läheb puhkusele. Ta võtab kaasa kohvri ja võrkkiige.').tag_layer()\n",
    "text.words[['start','end','text']]"
   ]
  },
  {
   "cell_type": "markdown",
   "metadata": {},
   "source": [
    "Tahame asendada sõnad \"läheb\" ja \"võtab\" nende minevikuvormidega.\n",
    "\n",
    "Selleks, et teha esimene asendus (\"läheb\" -> \"läks\"), on meil tarvis teada asendatava sõna \"koordinaate\". Koordinaatide järgi saame vana versiooni tekstist jagada kolmeks osaks (enne asendust, asendus, pärast asendust) ning panna pärast kokku uueks tekstiks:"
   ]
  },
  {
   "cell_type": "code",
   "execution_count": 12,
   "metadata": {},
   "outputs": [
    {
     "data": {
      "text/plain": [
       "'Mees läks puhkusele. Ta võtab kaasa kohvri ja võrkkiige.'"
      ]
     },
     "execution_count": 12,
     "metadata": {},
     "output_type": "execute_result"
    }
   ],
   "source": [
    "text_str = text.text   # tekst sõnena\n",
    "\n",
    "# Esimese asendatava sõna \"koordinaadid\":\n",
    "start = 5\n",
    "end = 10\n",
    "\n",
    "# jagame teksti kolmeks jupiks: enne asendust, asendus ja pärast asendust\n",
    "# ning teeme asenduse\n",
    "new_text = text_str[:start] + 'läks' + text_str[end:]\n",
    "\n",
    "# tulemus\n",
    "new_text"
   ]
  },
  {
   "cell_type": "markdown",
   "metadata": {},
   "source": [
    "Kõik ongi nii lihtne, kui meil tuleb teha ainult üks asendus. \n",
    "\n",
    "Aga mitme asenduse tegemisel peame arvestama, et kui asendatavad sõnad erinevad pikkuse poolest algsetest sõnadest (ja enamasti just nii ongi), siis on oht, et järgmiste sõnade koordinaadid muutuvad ja me leida enam sõnu nendelt koordinaatidelt, kus need olid algses tekstis.\n",
    "\n",
    "Kuidas asukohad muutuvad? See sõltub otseselt eelmistest asendustest: kui palju on asenduste tulemusel koordinaadid nihkunud. \n",
    "Kuna meil on praegu tehtud ainult üks asendus, peame leidma, kui palju muutus selle asenduse käigus sõna pikkus (`delta`). \n",
    "Liidame `delta` vanadele koordinaatidele ja saamegi teada järgmise asendatava sõna asukoha:"
   ]
  },
  {
   "cell_type": "code",
   "execution_count": 13,
   "metadata": {},
   "outputs": [
    {
     "data": {
      "text/plain": [
       "'Mees läks puhkusele. Ta võttis kaasa kohvri ja võrkkiige.'"
      ]
     },
     "execution_count": 13,
     "metadata": {},
     "output_type": "execute_result"
    }
   ],
   "source": [
    "# Leiame esimese sõna ja selle asenduse pikkuste erinevuse\n",
    "delta = len('läks') - len('läheb')\n",
    "\n",
    "# Teise asendatava sõna \"koordinaadid\": lisame algkoordinaatidele delta ehk pikkuste erinevuse\n",
    "start = 25 + delta\n",
    "end = 30 + delta\n",
    "\n",
    "# uuesti: jagame teksti kolmeks jupiks: enne asendust, asendus ja pärast asendust\n",
    "# ning teeme asenduse\n",
    "new_text = new_text[:start] + 'võttis' + new_text[end:]\n",
    "\n",
    "# tulemus\n",
    "new_text"
   ]
  },
  {
   "cell_type": "markdown",
   "metadata": {},
   "source": [
    "Kui asendatavaid sõnu on veel, peame leidma ka teise sõna `delta`, liitma kokku esimese ja teise sõna `delta` väärtused, ning kasutama neid järgmise sõna koordinaatide korrigeerimisel. \n",
    "Ühesõnaga, üldine idee on teha tsükkel üle asendatavate sõnade ning kasutada iga sõna asukoha korrigeerimiseks abimuutujat `delta`, kus on meelde jäetud varasem koordinaatide muutus.\n",
    "\n",
    "Tegelikult saab sõnu asendada koordinaatide järgi ka nii, et polegi vaja `delta` väärtust meeles pidada. \n",
    "Leidub isegi mitu alternatiivset lahenduskäiku. \n",
    "Aga need jäävad teie välja nuputada ..."
   ]
  },
  {
   "cell_type": "markdown",
   "metadata": {},
   "source": [
    "## Nimeüksuste tuvastamine\n",
    "\n",
    "Morfoloogilise analüüsi teema juures täheldasime, et pärisnimed saavad sõnaliigimärgendi `'H'`. Samas ei ütle morfoloogiline analüüs midagi selle kohta, mis liiki pärisnimega on tegu (nt kas tegu on isikunime või kohanimega) ning samuti ei saa sealt otseselt kätte terviklikke pärisnimefraase. Kuna nimed on aga mitmesuguste info otsimise ja eraldamise ülesannete seisukohalt olulised, siis on loodud eraldi tööriistad, mis ongi spetsialiseerunud nime(fraasi)de otsimisele ja liigitamisele (ingl k  _named-entity recognition_ ehk NER).\n",
    "\n",
    "EstNLTK [nimeüksuste tuvastaja](https://nbviewer.org/github/estnltk/estnltk/blob/main/tutorials/nlp_pipeline/D_information_extraction/02_named_entities.ipynb) põhimudel võimaldab tuvastada kolme liiki nimeüksuseid: \n",
    "  * isikunimesid ( lühend: _PER_ );\n",
    "  * asukohanimesid ( lühend: _LOC_ );\n",
    "  * organisatsiooninimesid ( lühend: _ORG_ );\n",
    "\n",
    "Lihtsaim viis nimeüksuste märgenduse lisamiseks on kasutada `tag_layer` meetodit:"
   ]
  },
  {
   "cell_type": "code",
   "execution_count": 14,
   "metadata": {},
   "outputs": [
    {
     "data": {
      "text/html": [
       "<table border=\"1\" class=\"dataframe\">\n",
       "  <thead>\n",
       "    <tr style=\"text-align: right;\">\n",
       "      <th>text</th>\n",
       "    </tr>\n",
       "  </thead>\n",
       "  <tbody>\n",
       "    <tr>\n",
       "      <td><div align = \"left\"> Eesti President on Alar Karis. Eesti Energia on Eesti riigile kuuluv rahvusvaheline energiaettevõte. </div></td>\n",
       "    </tr>\n",
       "  </tbody>\n",
       "</table>\n",
       "<table border=\"1\" class=\"dataframe\">\n",
       "  <thead>\n",
       "    <tr style=\"text-align: right;\">\n",
       "      <th>layer name</th>\n",
       "      <th>attributes</th>\n",
       "      <th>parent</th>\n",
       "      <th>enveloping</th>\n",
       "      <th>ambiguous</th>\n",
       "      <th>span count</th>\n",
       "    </tr>\n",
       "  </thead>\n",
       "  <tbody>\n",
       "    <tr>\n",
       "      <td>sentences</td>\n",
       "      <td></td>\n",
       "      <td>None</td>\n",
       "      <td>words</td>\n",
       "      <td>False</td>\n",
       "      <td>2</td>\n",
       "    </tr>\n",
       "    <tr>\n",
       "      <td>tokens</td>\n",
       "      <td></td>\n",
       "      <td>None</td>\n",
       "      <td>None</td>\n",
       "      <td>False</td>\n",
       "      <td>15</td>\n",
       "    </tr>\n",
       "    <tr>\n",
       "      <td>compound_tokens</td>\n",
       "      <td>type, normalized</td>\n",
       "      <td>None</td>\n",
       "      <td>tokens</td>\n",
       "      <td>False</td>\n",
       "      <td>0</td>\n",
       "    </tr>\n",
       "    <tr>\n",
       "      <td>words</td>\n",
       "      <td>normalized_form</td>\n",
       "      <td>None</td>\n",
       "      <td>None</td>\n",
       "      <td>True</td>\n",
       "      <td>15</td>\n",
       "    </tr>\n",
       "    <tr>\n",
       "      <td>morph_analysis</td>\n",
       "      <td>normalized_text, lemma, root, root_tokens, ending, clitic, form, partofspeech</td>\n",
       "      <td>words</td>\n",
       "      <td>None</td>\n",
       "      <td>True</td>\n",
       "      <td>15</td>\n",
       "    </tr>\n",
       "    <tr>\n",
       "      <td>ner</td>\n",
       "      <td>nertag</td>\n",
       "      <td>None</td>\n",
       "      <td>words</td>\n",
       "      <td>False</td>\n",
       "      <td>4</td>\n",
       "    </tr>\n",
       "  </tbody>\n",
       "</table>"
      ],
      "text/plain": [
       "Text(text=' Eesti President on Alar Karis. Eesti Energia on Eesti riigile kuuluv rahvusvaheline energiaettevõte. ')"
      ]
     },
     "execution_count": 14,
     "metadata": {},
     "output_type": "execute_result"
    }
   ],
   "source": [
    "# tekitame näidisteksti\n",
    "from estnltk import Text\n",
    "t = Text(''' Eesti President on Alar Karis. Eesti Energia on Eesti riigile kuuluv rahvusvaheline energiaettevõte. ''')\n",
    "\n",
    "# lisame tekstile nimeüksuste kihi\n",
    "t.tag_layer('ner')"
   ]
  },
  {
   "cell_type": "code",
   "execution_count": 15,
   "metadata": {},
   "outputs": [
    {
     "data": {
      "text/html": [
       "<h4>Layer</h4>\n",
       "\n",
       "\n",
       "<table border=\"1\" class=\"dataframe\">\n",
       "  <thead>\n",
       "    <tr style=\"text-align: right;\">\n",
       "      <th>layer name</th>\n",
       "      <th>attributes</th>\n",
       "      <th>parent</th>\n",
       "      <th>enveloping</th>\n",
       "      <th>ambiguous</th>\n",
       "      <th>span count</th>\n",
       "    </tr>\n",
       "  </thead>\n",
       "  <tbody>\n",
       "    <tr>\n",
       "      <td>ner</td>\n",
       "      <td>nertag</td>\n",
       "      <td>None</td>\n",
       "      <td>words</td>\n",
       "      <td>False</td>\n",
       "      <td>4</td>\n",
       "    </tr>\n",
       "  </tbody>\n",
       "</table>\n",
       "<table border=\"1\" class=\"dataframe\">\n",
       "  <thead>\n",
       "    <tr style=\"text-align: right;\">\n",
       "      <th>text</th>\n",
       "      <th>nertag</th>\n",
       "    </tr>\n",
       "  </thead>\n",
       "  <tbody>\n",
       "    <tr>\n",
       "      <td>['Eesti']</td>\n",
       "      <td>LOC</td>\n",
       "    </tr>\n",
       "    <tr>\n",
       "      <td>['Alar', 'Karis']</td>\n",
       "      <td>PER</td>\n",
       "    </tr>\n",
       "    <tr>\n",
       "      <td>['Eesti', 'Energia']</td>\n",
       "      <td>ORG</td>\n",
       "    </tr>\n",
       "    <tr>\n",
       "      <td>['Eesti', 'riigile']</td>\n",
       "      <td>LOC</td>\n",
       "    </tr>\n",
       "  </tbody>\n",
       "</table>"
      ],
      "text/plain": [
       "Layer(name='ner', attributes=('nertag',), spans=SL[EnvelopingSpan(['Eesti'], [{'nertag': 'LOC'}]),\n",
       "EnvelopingSpan(['Alar', 'Karis'], [{'nertag': 'PER'}]),\n",
       "EnvelopingSpan(['Eesti', 'Energia'], [{'nertag': 'ORG'}]),\n",
       "EnvelopingSpan(['Eesti', 'riigile'], [{'nertag': 'LOC'}])])"
      ]
     },
     "execution_count": 15,
     "metadata": {},
     "output_type": "execute_result"
    }
   ],
   "source": [
    "# väljastab tuvastatud nimeüksused\n",
    "t.ner"
   ]
  },
  {
   "cell_type": "markdown",
   "metadata": {},
   "source": [
    "Kuna nimeüksuste kiht on defineeritud sõnade kihi kaudu (ehk siis: tegemist on _ümbriskihiga_ sõnade kihi ümber), siis näeme ka iga nimeüksuse `text` all järjendit nimeüksust moodustavatest sõnadest.\n",
    "Selleks, et saada kätte nimeüksuste täpseid asukohti tekstis, tuleb kasutada atribuute `start` ja `end` ning `enclosing_text`:"
   ]
  },
  {
   "cell_type": "code",
   "execution_count": 16,
   "metadata": {},
   "outputs": [
    {
     "name": "stdout",
     "output_type": "stream",
     "text": [
      "(1, 6) Eesti ['LOC']\n",
      "(20, 30) Alar Karis ['PER']\n",
      "(32, 45) Eesti Energia ['ORG']\n",
      "(49, 62) Eesti riigile ['LOC']\n"
     ]
    }
   ],
   "source": [
    "# leia nimeüksuste liigid\n",
    "entity_labels = t.ner[['nertag']]\n",
    "# leia nimeüksuste tekstijupid\n",
    "entity_texts = [ne.enclosing_text for ne in t.ner]\n",
    "# leia nimeüksuste asukohad\n",
    "entity_spans = [(ne.start, ne.end) for ne in t.ner]\n",
    "\n",
    "# väljastab tuvastatud nimeüksused koos nende asukohtade, tekstijuppide ja liikidega:\n",
    "for ne_phrase, ne_label, ne_span in zip(entity_texts, entity_labels, entity_spans):\n",
    "    print( ne_span, ne_phrase, ne_label )"
   ]
  },
  {
   "cell_type": "markdown",
   "metadata": {},
   "source": [
    "Nagu eelmise näite põhjal selgus, siis päris perfektsed nimeüksuste tuvastamise tulemused pole. Nimeüksus `\"Eesti riigile\"` liigitati asukohaks (`LOC`), samas kui parem tõlgendus antud kontekstis oleks organisatsiooninimi (`ORG`). \n",
    "\n",
    "Nimeüksuste tuvastaja täpsus sõltub kasutatavast mudelist, tuvastava nime liigist ning ka sellest, milliseid tekste analüüsitakse.\n",
    "Põhimudelit kasutades võikski oodata kõige täpsemaid tulemusi isikunimede tuvastamisel ja tekstides, mis on võimalikult sarnased tänapäeva ajalehetekstidele (mudeli hindamise tulemuste kohta loe lähemalt [siit artiklist](http://www.aclweb.org/anthology/W13-2412))."
   ]
  },
  {
   "cell_type": "markdown",
   "metadata": {},
   "source": [
    "### Nimeüksuste tuvastamise mudelid\n",
    "\n",
    "#### NerTagger\n",
    "\n",
    "Kui `tag_layer` on mugavusmeetod märgendaja(te) väljakutsumiseks, siis tegelikult teostab nimeüksuste märgendamist [NerTagger](https://nbviewer.org/github/estnltk/estnltk/blob/main/tutorials/nlp_pipeline/D_information_extraction/02_named_entities.ipynb#Usage-as-a-tagger). \n",
    "\n",
    "`NerTagger` on nimeüksuste märgendamise põhimudel, mis tuleb EstNLTK paketiga kaasa ning mis toetub nn traditsioonilisele masinõppele.\n",
    "\n",
    "`NerTagger`-it on võimalik ka eraldi importida ja rakendada. See võimaldab muuta märgenduse sätteid, nt loodava kihi nime:"
   ]
  },
  {
   "cell_type": "code",
   "execution_count": 17,
   "metadata": {},
   "outputs": [
    {
     "data": {
      "text/plain": [
       "('morph_analysis', 'words', 'sentences')"
      ]
     },
     "execution_count": 17,
     "metadata": {},
     "output_type": "execute_result"
    }
   ],
   "source": [
    "# Loome uue nimeüksuste tuvastaja \n",
    "from estnltk.taggers import NerTagger\n",
    "ner_tagger = NerTagger(output_layer='my_ner')\n",
    "\n",
    "# Milliseid kihte ner_tagger vajab?\n",
    "ner_tagger.input_layers"
   ]
  },
  {
   "cell_type": "code",
   "execution_count": 18,
   "metadata": {},
   "outputs": [
    {
     "data": {
      "text/html": [
       "<h4>Layer</h4>\n",
       "\n",
       "\n",
       "<table border=\"1\" class=\"dataframe\">\n",
       "  <thead>\n",
       "    <tr style=\"text-align: right;\">\n",
       "      <th>layer name</th>\n",
       "      <th>attributes</th>\n",
       "      <th>parent</th>\n",
       "      <th>enveloping</th>\n",
       "      <th>ambiguous</th>\n",
       "      <th>span count</th>\n",
       "    </tr>\n",
       "  </thead>\n",
       "  <tbody>\n",
       "    <tr>\n",
       "      <td>my_ner</td>\n",
       "      <td>nertag</td>\n",
       "      <td>None</td>\n",
       "      <td>words</td>\n",
       "      <td>False</td>\n",
       "      <td>5</td>\n",
       "    </tr>\n",
       "  </tbody>\n",
       "</table>\n",
       "<table border=\"1\" class=\"dataframe\">\n",
       "  <thead>\n",
       "    <tr style=\"text-align: right;\">\n",
       "      <th>text</th>\n",
       "      <th>nertag</th>\n",
       "    </tr>\n",
       "  </thead>\n",
       "  <tbody>\n",
       "    <tr>\n",
       "      <td>['Eesti', 'Energia']</td>\n",
       "      <td>ORG</td>\n",
       "    </tr>\n",
       "    <tr>\n",
       "      <td>['Baltikumi']</td>\n",
       "      <td>LOC</td>\n",
       "    </tr>\n",
       "    <tr>\n",
       "      <td>['Soome']</td>\n",
       "      <td>LOC</td>\n",
       "    </tr>\n",
       "    <tr>\n",
       "      <td>['Rootsi']</td>\n",
       "      <td>LOC</td>\n",
       "    </tr>\n",
       "    <tr>\n",
       "      <td>['Poola']</td>\n",
       "      <td>LOC</td>\n",
       "    </tr>\n",
       "  </tbody>\n",
       "</table>"
      ],
      "text/plain": [
       "Layer(name='my_ner', attributes=('nertag',), spans=SL[EnvelopingSpan(['Eesti', 'Energia'], [{'nertag': 'ORG'}]),\n",
       "EnvelopingSpan(['Baltikumi'], [{'nertag': 'LOC'}]),\n",
       "EnvelopingSpan(['Soome'], [{'nertag': 'LOC'}]),\n",
       "EnvelopingSpan(['Rootsi'], [{'nertag': 'LOC'}]),\n",
       "EnvelopingSpan(['Poola'], [{'nertag': 'LOC'}])])"
      ]
     },
     "execution_count": 18,
     "metadata": {},
     "output_type": "execute_result"
    }
   ],
   "source": [
    "from estnltk import Text\n",
    "# tekitame näidisteksti\n",
    "t = Text(''' Eesti Energia tegutseb Baltikumi, Soome, Rootsi ja Poola elektri- ja gaasimüügi turgudel ning rahvusvahelisel vedelkütuste turul. ''')\n",
    "\n",
    "# lisame tekstile vajaminevad kihid\n",
    "t.tag_layer( ('morph_analysis', 'words', 'sentences') )\n",
    "\n",
    "# lisame nimeüksuste märgenduse\n",
    "ner_tagger.tag(t)\n",
    "\n",
    "# Uurime tulemusi\n",
    "t.my_ner"
   ]
  },
  {
   "cell_type": "markdown",
   "metadata": {},
   "source": [
    "#### NerWebTagger\n",
    "\n",
    "Lisaks põhimudelile on EstNLTK-s olemas ka tehisnärvivõrkudel põhinevad nimeüksuste märgendamise mudelid. \n",
    "Need on kõrgema märgenduskvaliteediga, aga nõuavad rakendamiseks `estnltk_neural` paketi installimist ning suurte mudelifailide allalaadimist ja piisava arvutusressurssi olemasolu (vt täpsemalt [siit](https://nbviewer.org/github/estnltk/estnltk/blob/main/tutorials/nlp_pipeline/D_information_extraction/02_named_entities.ipynb#Local-installation)). \n",
    "\n",
    "Isiku-, koha- ja organisatsiooninimesid märgendavat neuromudelit saab siiski proovida mugavalt ka oma arvutis. \n",
    "Selleks on nimeüksuste veebiteenus, mida saab kasutada EstNLTK märgendaja `NerWebTagger` abil:"
   ]
  },
  {
   "cell_type": "code",
   "execution_count": 19,
   "metadata": {},
   "outputs": [
    {
     "data": {
      "text/html": [
       "<h4>MultiLayerTagger</h4>\n",
       "NER tagger that uses TartuNLP's NER web service. \n",
       "<table border=\"1\" class=\"dataframe\">\n",
       "  <thead>\n",
       "    <tr style=\"text-align: right;\">\n",
       "      <th>name</th>\n",
       "      <th>output layers</th>\n",
       "      <th>output mapping</th>\n",
       "      <th>input layers</th>\n",
       "    </tr>\n",
       "  </thead>\n",
       "  <tbody>\n",
       "    <tr>\n",
       "      <td>NerWebTagger</td>\n",
       "      <td>['webner']</td>\n",
       "      <td>{'webner': ['nertag']}</td>\n",
       "      <td>('words',)</td>\n",
       "    </tr>\n",
       "  </tbody>\n",
       "</table>\n",
       "<h4>Configuration</h4>\n",
       "<table border=\"1\" class=\"dataframe\">\n",
       "  <tbody>\n",
       "    <tr>\n",
       "      <th>custom_words_layer</th>\n",
       "      <td>words</td>\n",
       "    </tr>\n",
       "    <tr>\n",
       "      <th>url</th>\n",
       "      <td>https://api.tartunlp.ai/bert/ner/v1</td>\n",
       "    </tr>\n",
       "    <tr>\n",
       "      <th>batch_size</th>\n",
       "      <td>4500</td>\n",
       "    </tr>\n",
       "  </tbody>\n",
       "</table>"
      ],
      "text/plain": [
       "NerWebTagger(input_layers=('words',), output_layers=['webner'], output_layers_to_attributes={'webner': ['nertag']}, custom_words_layer=words, url=https://api.tartunlp.ai/bert/ner/v1, batch_size=4500)"
      ]
     },
     "execution_count": 19,
     "metadata": {},
     "output_type": "execute_result"
    }
   ],
   "source": [
    "from estnltk import Text\n",
    "from estnltk.web_taggers import NerWebTagger\n",
    "\n",
    "# Loome veebiteenust kasutava nimeüksuste tuvastaja \n",
    "ner_web_tagger = NerWebTagger()\n",
    "\n",
    "# Uurime märgendaja konfiguratsiooni\n",
    "ner_web_tagger"
   ]
  },
  {
   "cell_type": "code",
   "execution_count": 20,
   "metadata": {},
   "outputs": [
    {
     "data": {
      "text/html": [
       "<h4>Layer</h4>\n",
       "\n",
       "\n",
       "<table border=\"1\" class=\"dataframe\">\n",
       "  <thead>\n",
       "    <tr style=\"text-align: right;\">\n",
       "      <th>layer name</th>\n",
       "      <th>attributes</th>\n",
       "      <th>parent</th>\n",
       "      <th>enveloping</th>\n",
       "      <th>ambiguous</th>\n",
       "      <th>span count</th>\n",
       "    </tr>\n",
       "  </thead>\n",
       "  <tbody>\n",
       "    <tr>\n",
       "      <td>webner</td>\n",
       "      <td>nertag</td>\n",
       "      <td>None</td>\n",
       "      <td>words</td>\n",
       "      <td>False</td>\n",
       "      <td>5</td>\n",
       "    </tr>\n",
       "  </tbody>\n",
       "</table>\n",
       "<table border=\"1\" class=\"dataframe\">\n",
       "  <thead>\n",
       "    <tr style=\"text-align: right;\">\n",
       "      <th>text</th>\n",
       "      <th>nertag</th>\n",
       "    </tr>\n",
       "  </thead>\n",
       "  <tbody>\n",
       "    <tr>\n",
       "      <td>['Eesti', 'Energia']</td>\n",
       "      <td>ORG</td>\n",
       "    </tr>\n",
       "    <tr>\n",
       "      <td>['Baltikumi']</td>\n",
       "      <td>LOC</td>\n",
       "    </tr>\n",
       "    <tr>\n",
       "      <td>['Soome']</td>\n",
       "      <td>LOC</td>\n",
       "    </tr>\n",
       "    <tr>\n",
       "      <td>['Rootsi']</td>\n",
       "      <td>LOC</td>\n",
       "    </tr>\n",
       "    <tr>\n",
       "      <td>['Poola']</td>\n",
       "      <td>LOC</td>\n",
       "    </tr>\n",
       "  </tbody>\n",
       "</table>"
      ],
      "text/plain": [
       "Layer(name='webner', attributes=('nertag',), spans=SL[EnvelopingSpan(['Eesti', 'Energia'], [{'nertag': 'ORG'}]),\n",
       "EnvelopingSpan(['Baltikumi'], [{'nertag': 'LOC'}]),\n",
       "EnvelopingSpan(['Soome'], [{'nertag': 'LOC'}]),\n",
       "EnvelopingSpan(['Rootsi'], [{'nertag': 'LOC'}]),\n",
       "EnvelopingSpan(['Poola'], [{'nertag': 'LOC'}])])"
      ]
     },
     "execution_count": 20,
     "metadata": {},
     "output_type": "execute_result"
    }
   ],
   "source": [
    "from estnltk import Text\n",
    "# tekitame näidisteksti\n",
    "t = Text(''' Eesti Energia tegutseb Baltikumi, Soome, Rootsi ja Poola elektri- ja gaasimüügi turgudel ning rahvusvahelisel vedelkütuste turul. ''')\n",
    "\n",
    "# lisame tekstile vajaminevad kihid\n",
    "t.tag_layer( ner_web_tagger.input_layers )\n",
    "\n",
    "# lisame nimeüksuste märgenduse (veebiteenuse abil)\n",
    "ner_web_tagger.tag(t)\n",
    "\n",
    "# Uurime tulemusi\n",
    "t.webner"
   ]
  },
  {
   "cell_type": "markdown",
   "metadata": {},
   "source": [
    "`NerWebTagger`-it saab eelkõige kasutada siis, kui on tarvis analüüsida tekste väikeses mahus. \n",
    "Suuremahulise tekstimärgendamise tarbeks tuleks installida mudel lokaalselt, nagu on kirjeldatud [siin](https://nbviewer.org/github/estnltk/estnltk/blob/main/tutorials/nlp_pipeline/D_information_extraction/02_named_entities.ipynb#Local-installation)."
   ]
  },
  {
   "cell_type": "markdown",
   "metadata": {},
   "source": [
    "---"
   ]
  },
  {
   "cell_type": "markdown",
   "metadata": {},
   "source": [
    "Järgmises ülesandes paneme nimeüksuste tuvastaja proovile, andes talle ette sajanditaguses kirjakeeles tekstid :)"
   ]
  },
  {
   "cell_type": "markdown",
   "metadata": {},
   "source": [
    "### Ülesanne 3. Vallakohtu protokollide anonümiseerimine (1,5 p)\n",
    "\n",
    "Kirjutage skript, mis kasutab nimeüksuste tuvastamist 19. saj vallakohtu protokollides olevate isikunimede anonümiseerimiseks. Nimeüksuste tuvastamisel on vaba valik, kas kasutate põhimudelit või veebiteenusel põhinevat neuromudelit. Sisendandmed paiknevad kaustas 'vallakohtu_protokollid'. Skript peaks analüüsima sisendandmete kaustas olevaid tekstifaile, looma igast protokollist versiooni, kus kõik isikunimed on anonümiseeritud (nt Xxxx-idega asendatud), ning kirjutama uue versiooni tekstifaili (nt faili, mille nimele on lisatud sufiks '\\_anonymiseeritud').\n",
    "\n",
    "- tekstifailid on, nagu ikka, kodeeringus 'utf-8';\n",
    "- anonümiseerida tuleb ainult isikunimed (PER), muud nimeüksused peaksid jääma endisele kujule;\n",
    "- kuidas nime tekstis asendada?\n",
    "\n",
    "  * lahendus, kus asendamine toimub `replace` abil, ei anna täispunkte (võite mõtiskleda / katsetada, milliseid probleeme `replace` tekitab); \n",
    "  * parem lahendus: eraldage iga nimeüksuse algus- ja lõpupositsioon tekstis ning kasutage seda infot, et tekstist vastav sõne välja võtta, anonümiseerida ning anonümiseeritud sõne teksti tagasi panna; \n",
    "  \n",
    "    ( ja kasu võib olla ka eelmise ülesande lõpus olevatest soovitustest :) )"
   ]
  }
 ],
 "metadata": {
  "anaconda-cloud": {},
  "kernelspec": {
   "display_name": "Python 3 (ipykernel)",
   "language": "python",
   "name": "python3"
  },
  "language_info": {
   "codemirror_mode": {
    "name": "ipython",
    "version": 3
   },
   "file_extension": ".py",
   "mimetype": "text/x-python",
   "name": "python",
   "nbconvert_exporter": "python",
   "pygments_lexer": "ipython3",
   "version": "3.9.17"
  }
 },
 "nbformat": 4,
 "nbformat_minor": 4
}
