{
 "cells": [
  {
   "cell_type": "markdown",
   "metadata": {},
   "source": [
    "<h1 style=\"color:blue\">Praktikum 4.</h1>\n",
    "<h3 style=\"color:blue\">Käsureaprogrammid ja kodeeringud, <br>morfoloogiline süntees ja nimeüksuste tuvastamine</h3>"
   ]
  },
  {
   "cell_type": "markdown",
   "metadata": {},
   "source": [
    "**29. september 2017**\n",
    "\n",
    "**Ülesannete esitamise tähtaeg: 8. oktoober 2017 23:55**"
   ]
  },
  {
   "cell_type": "markdown",
   "metadata": {},
   "source": [
    "Käesoleva praktikumi teemad võib jagada kaheks: tehnilised teemad ja keeletöötluse teemad. Tehnilised teemad: vaatame, kuidas luua käsurealt käivitatavaid Pythoni skripte ning räägime sõnede kodeeringust. Keeletöötluse teemade juures aga õpime kasutama morfoloogilist sünteesi ning nimeüksuste tuvastajat."
   ]
  },
  {
   "cell_type": "markdown",
   "metadata": {
    "collapsed": true
   },
   "source": [
    "## Käsureaprogrammid\n",
    "\n",
    "_Jupyter Notebook_'i on mugav kasutada väiksemate programmide arendamiseks ja testimiseks, samuti väiksemate andmehulkade töötlemiseks ning tulemuste lõplikuks vormistamiseks, dokumenteerimiseks ja visualiseerimiseks. _Jupyter Notebook_'i kasutamine võib aga olla ebamugav kui:\n",
    "\n",
    "  1. *töödelda tuleb suuri andmestikke*. Kuna _Jupyter Notebook_'i jooksutamine võtab üksjagu arvuti mälu, saaksite rohkem vaba mälu, kui jooksutaksite Pythoni programme otse, ilma _Jupyter Notebook_'i \"vahenduseta\".\n",
    "\n",
    "     Suurandmete töötlemiseks luuakse tüüpiliselt mitme-etapiline töövoog, milles iga järgnev komponent kasutab eelneva väljundit sisendina, ning vahetulemused talletatakse failidesse. Tavaliselt koosneb see töövoog käsurealt käivitavatest Pythoni skriptidest, mida saab arendada / testida lokaalses masinas ning lõplikult rakendada nt suurema arvutusvõimsusega / kõvakettaruumiga serveris;\n",
    "\n",
    "  2. *on vaja arendada mooduleid / teeke*. _Notebook_'is saate küll `import`-käsuga teeke sisse laadida ja testida, aga uusi teeke _Jupyter Notebook_'is sees kirjutada ei saa (äärmisel juhul võib küll _Notebook_'is kirjutatud koodi konverteerida Pythoni skriptiks, valides _File_ => _Download as_ =>  _Python (.py)_);\n",
    "  \n",
    "  Teekide eelis on _taaskasutatavus_ -- ühte teeki võib kasutada mitu erinevat skripti -- ning see on ühtlasi ka _Jupyter Notebook_'is tehtud programmide miinus: _Notebook_'is olevat skripti ei saa teised skriptid välja kutsuda;\n",
    "\n",
    "Järgnevalt vaatamegi detailsemalt, kuidas luua käsurealt käivitatavaid Pythoni programme."
   ]
  },
  {
   "cell_type": "markdown",
   "metadata": {},
   "source": [
    "### Pythoni programmide käivitamine käsurealt\n",
    "\n",
    "Juhuks, kui keegi pole veel kursis -- Pythoni skripti käivitamine käsurealt käib nii:\n",
    "\n",
    "    python minu_skript.py\n",
    "\n",
    "( Loomulikult: kui skript nõuab mingit spetsiifilist Pythoni versiooni ja väliseid teeke, peaksite enne käivitamist olema vastavaid nõudeid rahuldavas `conda` virtuaalkeskkonnas )\n",
    "\n",
    "Kui skript nõuab argumente (nt töödeldavate failide nimesid), siis tuleb need sisestada tühikutega eraldatult skripti järele, nt\n",
    "\n",
    "    python minu_skript.py fail1.txt fail2.txt\n",
    "\n",
    "Kõige lihtsam viis käsureaargumentide kättesaamiseks skripti sees on standardteegi muutuja `sys.argv` kaudu. See muutuja sisaldab järjendit, mille esimene element on skripti enda nimi ning järgmised elemendid skriptile käsurealt etteantud argumendid:\n",
    "\n",
    "    from sys import argv\n",
    "    \n",
    "    # Kontrollime, kas käsurealt anti ette vähemalt 2 argumenti\n",
    "    if len(argv) >= 3:\n",
    "        print('skripti nimi:', argv[0])\n",
    "        print('esimene sisendfail:', argv[1])\n",
    "        print('teine sisendfail:', argv[2])\n",
    "    else:\n",
    "        # Kui argumente ei antud, kuvame skripti \"käivitamise juhendi\"\n",
    "        print('(!) Palun mulle sisendiks 2 failinime!')\n",
    "\n",
    "( Kui soovite eeltoodud koodijuppi katsetada, peaksite väljaspool _Jupyter Notebook_'i looma _py_-laiendiga faili, salvestama sinna koodi ning proovima seda käsurealt käivitada )"
   ]
  },
  {
   "cell_type": "markdown",
   "metadata": {},
   "source": [
    "### Käsureaprogrammide dokumenteerimine\n",
    "\n",
    "Hea käsureaprogramm kuvab kasutajale infot selle kohta, milliseid argumente see vajab: millised argumendid on kohustuslikud ja millised valikulised, ning ühtlasi teavitab kasutajat ka sellest, kui mingi argument on vigane (nt käsurealt sisestatud failinimele vastavat faili ei eksisteeri). Mida rohkem käsuargumente programm vajab, seda olulisemaks muutub asjakohase abiinfo  edastamine. Ja tegelikult on käsureaprogrammide dokumenteerimine oluline ka muudel juhtudel, nt kui tahate skripti teistega jagada / laiemalt levitada ja/või pärast pikema aja möödumist ise uuesti kasutada (argumentide \"loogika\" ei pruugi hiljem enam meeles olla).\n",
    "\n",
    "Nagu eelnevast näitest näha, võib ka `sys.argv` abil teha lihtsamat argumentide kontrolli ja vajadusel teavitada kasutajat probleemidest. Aga põhjalikuma argumendikontrolli loomine ja dokumenteerimine `sys.argv`-i abil on üsna töömahukas ettevõtmine ning seetõttu on parem kasutada juba valmislahendusi. \n",
    "\n",
    "Üheks valmislahenduseks on standardteek `argparse`. See pakub mugava võimaluse skripti kohustuslike ja valikuliste argumentide  defineerimiseks ning varustamiseks kirjelduste / abiinfoga. Ühtlasi on võimalik lisada ka argumentidele tüübikontroll (nt nõuda, et mingid argumendid on numbrid). Kui olete skripti `argparse`-i abil dokumenteerinud, siis pannakse selle põhjal kokku üsna põhjalik \"käivitamisõpetus\", mille saab kutsuda esile käsurea argumentidega `\"-h\"` või `\"--help\"`."
   ]
  },
  {
   "cell_type": "markdown",
   "metadata": {},
   "source": [
    "Näide: skript, mis nõuab kasutajalt argumentidena kaks nime ning väljastab need läbivate suurtähtedega:\n",
    "\n",
    "    import argparse\n",
    "\n",
    "    parser = argparse.ArgumentParser(description='Prints the forename and surname, if provided, in uppercase.')\n",
    "    parser.add_argument('forename', type=str,\n",
    "                         help=\"someone's forename\")\n",
    "    parser.add_argument('--surname', dest='last_name',\n",
    "                         help=\"someone's last name\")\n",
    "\n",
    "    args = parser.parse_args()\n",
    "\n",
    "    print(args.forename.upper())\n",
    "    print(args.last_name.upper())\n",
    "\n",
    "Soovitav on luua eelnevat koodijuppi sisaldav Pythoni skript ning katsetada seda käsureal. Võiks uurida: milline defineeritud argumentidest on kohustuslik, milline valikuline? ja kuidas tuleks skripti muuta, et käivitamisel poleks ohtu sattuda veateatele?"
   ]
  },
  {
   "cell_type": "markdown",
   "metadata": {},
   "source": [
    "Vt ka inglisekeelseid abimaterjale: \n",
    "  * sissejuhatus `argparse`-i kasutamisse: https://docs.python.org/3.5/howto/argparse.html#argparse-tutorial \n",
    "  * põhjalikum liidese kirjeldus: https://docs.python.org/3.5/library/argparse.html "
   ]
  },
  {
   "cell_type": "markdown",
   "metadata": {},
   "source": [
    "### Boonusülesanne. Käsurealiidese lisamine programmile (0,5 p)\n",
    "\n",
    "Täiendage ühte eelmiste praktikumide ülesande lahendust selliselt, et programmi saab käivitada käsurealt ning programmi parameetrid määratakse samuti käsureaargumentidena. Programmil peaks olema vähemalt üks käsurealt etteantav argument. Programm peab olema `argparse`'i võimalusi kasutades korralikult dokumenteeritud, abiinfo argumentide kohta kättesaadav."
   ]
  },
  {
   "cell_type": "markdown",
   "metadata": {},
   "source": [
    "## Kodeeringud\n",
    "\n",
    "Arvuti kõvakettal talletatakse tekstilised andmed baidijärjenditena. Samal kujul liigutatakse andmeid ka üle võrgu. Kodeering määrab, kuidas teisendada need järjendid inimloetavateks tekstisümboliteks. Seetõttu ongi tekstiandmete sisselugemisel tarvis täpsustada, millist _dekodeerimise_ viisi tuleks kasutada. Analoogselt tuleb teksti talletamisel andmekandjatele määrata _kodeerimise_ viis ehk siis kuidas teisendada mälus olevad tekstisümbolid tagasi baitideks."
   ]
  },
  {
   "cell_type": "markdown",
   "metadata": {},
   "source": [
    "### Sõnede kodeering"
   ]
  },
  {
   "cell_type": "markdown",
   "metadata": {},
   "source": [
    "Pythonis on erinevat liiki sõnesid ehk sümbolite jadasid. Kõige sagedamini opereerime _unicode_'i kujul (vaikimisi)."
   ]
  },
  {
   "cell_type": "code",
   "execution_count": 1,
   "metadata": {
    "collapsed": false
   },
   "outputs": [
    {
     "name": "stdout",
     "output_type": "stream",
     "text": [
      "Pontu vaatas aknast välja\n",
      "ja naeratas\n"
     ]
    }
   ],
   "source": [
    "unicode_string = \"Pontu vaatas aknast välja\\nja naeratas\"\n",
    "print(unicode_string)"
   ]
  },
  {
   "cell_type": "markdown",
   "metadata": {},
   "source": [
    "Mõnikord me aga ei soovi, et teatud sümboleid (nt \"\\\") eraldi käsitletakse. Selleks on võimalik sõne defineerida _raw_ kujul."
   ]
  },
  {
   "cell_type": "code",
   "execution_count": 2,
   "metadata": {
    "collapsed": false
   },
   "outputs": [
    {
     "name": "stdout",
     "output_type": "stream",
     "text": [
      "Pontu vaatas aknast välja\\nja naeratas\n"
     ]
    }
   ],
   "source": [
    "raw_string = r\"Pontu vaatas aknast välja\\nja naeratas\"\n",
    "print(raw_string)"
   ]
  },
  {
   "cell_type": "markdown",
   "metadata": {},
   "source": [
    "Kodeeringute korral on oluline veel sõne kodeeritud kuju baidimassiivina, millena talletatakse kettal või liigutatakse võrgus:"
   ]
  },
  {
   "cell_type": "code",
   "execution_count": 3,
   "metadata": {
    "collapsed": false
   },
   "outputs": [
    {
     "name": "stdout",
     "output_type": "stream",
     "text": [
      "b'Pontu vaatas aknast v\\xc3\\xa4lja\\nja naeratas'\n"
     ]
    }
   ],
   "source": [
    "print(\"Pontu vaatas aknast välja\\nja naeratas\".encode('utf8'))"
   ]
  },
  {
   "cell_type": "markdown",
   "metadata": {},
   "source": [
    "Kodeeritud sõnet saame dekodeerida:"
   ]
  },
  {
   "cell_type": "code",
   "execution_count": 4,
   "metadata": {
    "collapsed": false,
    "scrolled": true
   },
   "outputs": [
    {
     "name": "stdout",
     "output_type": "stream",
     "text": [
      "Pontu vaatas aknast välja\n",
      "ja naeratas\n"
     ]
    }
   ],
   "source": [
    "print(b'Pontu vaatas aknast v\\xc3\\xa4lja\\nja naeratas'.decode('utf8'))"
   ]
  },
  {
   "cell_type": "markdown",
   "metadata": {},
   "source": [
    " **_Unicode_'i ei saa dekodeerida!**"
   ]
  },
  {
   "cell_type": "code",
   "execution_count": 5,
   "metadata": {
    "collapsed": false
   },
   "outputs": [
    {
     "name": "stderr",
     "output_type": "stream",
     "text": [
      "Traceback (most recent call last):\n",
      "  File \"<ipython-input-5-51f114f05ac3>\", line 3, in <module>\n",
      "    print( unicode_string.decode('utf8') )\n",
      "AttributeError: 'str' object has no attribute 'decode'\n"
     ]
    }
   ],
   "source": [
    "unicode_string = \"Pontu vaatas aknast välja\\nja naeratas\"\n",
    "try:\n",
    "    print( unicode_string.decode('utf8') )\n",
    "except AttributeError as e:\n",
    "    # Tuli veateade: prindime selle sõnumi välja\n",
    "    import traceback\n",
    "    traceback.print_exc()"
   ]
  },
  {
   "cell_type": "markdown",
   "metadata": {},
   "source": [
    "### Failide vaikekodeering\n",
    "\n",
    "Kodeeringu-teema on eelmistes praktikumides kõige rohkem esile tulnud failide avamisel: enamasti on sisendfailid olnud kodeeringus `'utf-8'` ning failide avamisel on seetõttu tulnud kasutada täpsustavat argumenti `encoding='utf-8'`.\n",
    "\n",
    "Kui jätate faili lugemisel/kirjutamisel kodeeringu määramata, kasutab Python nn vaikekodeeringut. Vaikekodeeringu nime saab teada järgmise käsuga:"
   ]
  },
  {
   "cell_type": "code",
   "execution_count": 6,
   "metadata": {
    "collapsed": false
   },
   "outputs": [
    {
     "data": {
      "text/plain": [
       "'cp1257'"
      ]
     },
     "execution_count": 6,
     "metadata": {},
     "output_type": "execute_result"
    }
   ],
   "source": [
    "# Oma vaikekodeeringu kontrollimine\n",
    "import locale\n",
    "locale.getpreferredencoding()"
   ]
  },
  {
   "cell_type": "markdown",
   "metadata": {},
   "source": [
    "Vaikekodeering sõltub suuresti kasutatavast operatsioonisüsteemist ja selle sätetest. Windows-i all on see tüüpiliselt  `'cp1257'` (pikema nimega `'Windows-1257'` ehk *Windows Baltic*), UNIX-is tavaliselt `'UTF-8'`."
   ]
  },
  {
   "cell_type": "markdown",
   "metadata": {},
   "source": [
    "### Windows'i käsurea erisused\n",
    "\n",
    "UNIX-süsteemid kasutavad vaikimisi _Unicode_'i ja seal tavaliselt käsureaprogrammidel kodeeringuga probleeme ei teki. Küll aga võivad probleemid tekkida Windows'is.\n",
    "\n",
    "Kui proovite Windows'i käsureal käivitada programmi, mis prindib ekraanile täpitähti sisaldavat _Unicode_ teksti, siis võite  komistada selle otsa, et ekraanile ilmub täpitähtede asemel mingi pudru-mudru. Halvimal juhul lõpetab programm töö veateatega (`UnicodeEncodeError`). Põhjuseks enamasti see, et Windows'i käsureakna poolt kasutatav kodeering ei ole vaikimisi \"UTF-8\". \n",
    "\n",
    "Käsureaakna kodeeringu saate muuta \"UTF-8\"-ks käsuga:\n",
    "\n",
    "     chcp 65001\n",
    "\n",
    "Kui ülaltoodud käsk ei aidanud, siis võib veel lisaks proovida Pythoni sisendi/väljundi kodeeringut määrava süsteemimuutuja seadistamist:\n",
    "\n",
    "     set PYTHONIOENCODING=\"UTF-8\"\n"
   ]
  },
  {
   "cell_type": "markdown",
   "metadata": {},
   "source": [
    "### Ülesanne 1. Kodeeringu teisendaja (1 p)\n",
    "Kirjutage _argparse_'i kasutades skript, mis teisendab etteantud kodeeringuga sisendfaili etteantud kodeeringuga väljundfailiks. Väljundfaili nimi saadakse automaatselt, lisades sisendfaili nime (mitte laiendi!) lõppu alakriipsuga kodeeringu nime, nt kui sisendfaili nimi on `'koeradest.txt'`, siis väljundfaili nimi väljundkodeeringu `'UTF-8'` korral on `'koeradest_UTF-8.txt'`. Kasutusnäide:\n",
    "\n",
    "    python change_encoding.py koeradest.txt --input-encoding iso-8859-2 --output-encoding UTF-8\n",
    "\n",
    "Kui kodeering jäetakse käsureaargumentidega täpsustamata, siis kasutab skript vaikimisi (nii sisendi kui väljundi jaoks) UTF-8 kodeeringut. Skript peab olema `argparse`'i võimalusi kasutades korralikult dokumenteeritud, abiinfo argumentide kohta kättesaadav.\n",
    "\n",
    "Katsetage oma skripti tekstidel `'juku_1.txt'` (kodeeringus `'Windows-1257'`) ja `'juku_2.txt'` (kodeeringus `'iso-8859-15'`)."
   ]
  },
  {
   "cell_type": "markdown",
   "metadata": {},
   "source": [
    "---\n",
    "\n",
    "Märkus: Kui eelnevad ülesanded tuleb esitada käsurealt käivitavate Pythoni skriptidena, siis järgnevate ülesannete puhul enam seda nõuet pole: võite ise valida, kas lahendate need _NoteBook_'is või teete käsureaskriptid.\n",
    "\n",
    "---"
   ]
  },
  {
   "cell_type": "markdown",
   "metadata": {},
   "source": [
    "## Morfoloogiline süntees\n",
    "\n",
    "Eelmistes praktikumides tutvusite morfoloogilise analüüsiga. Lisaks sellele sisaldab EstNLTK ka _morfoloogilist sünteesi_, mis on morfoloogilise analüüsi pöördprotsess: võimaldab genereerida etteantud lemmale ja vormitunnustele vastava sõnavormi.\n",
    "\n",
    "Sünteesiks kasutatakse funktsiooni `synthesize()`, mis saab sisendiks sõna algvormi ehk lemma ja nõutud vormitunnused,  genereerib nende põhjal sõnad ning tagastab genereeritud sõnade järjendi:"
   ]
  },
  {
   "cell_type": "code",
   "execution_count": 7,
   "metadata": {
    "collapsed": false
   },
   "outputs": [
    {
     "data": {
      "text/plain": [
       "['porgandeid']"
      ]
     },
     "execution_count": 7,
     "metadata": {},
     "output_type": "execute_result"
    }
   ],
   "source": [
    "from estnltk import synthesize\n",
    "\n",
    "# genereerime sõna 'porgand' mitmuse osastavas ('pl p')\n",
    "synthesize('porgand', 'pl p')"
   ]
  },
  {
   "cell_type": "code",
   "execution_count": 8,
   "metadata": {
    "collapsed": false
   },
   "outputs": [
    {
     "data": {
      "text/plain": [
       "['jagas']"
      ]
     },
     "execution_count": 8,
     "metadata": {},
     "output_type": "execute_result"
    }
   ],
   "source": [
    "# genereerime sõna 'jagama' lihtminevikus ('s')\n",
    "synthesize('jagama', 's')  "
   ]
  },
  {
   "cell_type": "markdown",
   "metadata": {},
   "source": [
    "Genereerimisel kasutatakse samasuguseid vormitunnuseid nagu morfoloogilisel analüüsil; käändsõna vormitunnustest annab ülevaate [see tabel](https://estnltk.github.io/estnltk/1.4/tutorials/morf_tables.html#nounform-table) ning pöördsõna vormitunnustest [see tabel](https://estnltk.github.io/estnltk/1.4/tutorials/morf_tables.html#table-verb-form-descriptions)."
   ]
  },
  {
   "cell_type": "code",
   "execution_count": 9,
   "metadata": {
    "collapsed": false
   },
   "outputs": [
    {
     "data": {
      "text/plain": [
       "['palkade', 'palkide']"
      ]
     },
     "execution_count": 9,
     "metadata": {},
     "output_type": "execute_result"
    }
   ],
   "source": [
    "# genereerime sõna 'palk' mitmuse omastava ('pl g')\n",
    "synthesize('palk', 'pl g')"
   ]
  },
  {
   "cell_type": "markdown",
   "metadata": {},
   "source": [
    "Kui genereerimisel tekib mitmesusi, nagu eelnevas näites, on mittekohustusliku parameetri `hint` abil võimalik täpsustada, millised vormid tuleb genereerida. Sisuliselt näitab `hint`, millise prefiksiga sõnad peaksid alles jääma:"
   ]
  },
  {
   "cell_type": "code",
   "execution_count": 10,
   "metadata": {
    "collapsed": false
   },
   "outputs": [
    {
     "data": {
      "text/plain": [
       "['palkade']"
      ]
     },
     "execution_count": 10,
     "metadata": {},
     "output_type": "execute_result"
    }
   ],
   "source": [
    "# genereerime sõna 'palk' mitmuse omastava ('pl g'), \n",
    "# jätame alles vormid, mille alguses 'palka'\n",
    "synthesize('palk', 'pl g', hint='palka')"
   ]
  },
  {
   "cell_type": "markdown",
   "metadata": {},
   "source": [
    "Lisadetaile morfoloogilise sünteesi kohta vt [EstNLTK abimaterjalist](https://estnltk.github.io/estnltk/1.4.1/tutorials/text.html#morphological-synthesis)."
   ]
  },
  {
   "cell_type": "markdown",
   "metadata": {},
   "source": [
    "### Ülesanne 2. Ajaleheartiklite \"minevikustaja\" (2,5 p)\n",
    "\n",
    "Ajakirjanikel on mure: päevakajalistest sündmustest kirjutades kasutavad nad sageli tegusõnu olevikus, samas kui uudis muutub vanemaks, oleks tegelikult keeleliselt õigem, kui uudist annaksid edasi minevikuverbid. Seega oleks neil vaja programmi, mis võimaldaks artiklite verbikasutust korrigeerida: muuta tekstis esinevad olevikuverbid minevikuverbideks. Teie järgmiseks ülesandeks ongi luua sellise programmi prototüüp.\n",
    "\n",
    "Detailsemalt. Kõik kataloogis 'ajaleheartiklid' olevad tekstid tuleb ümber kirjutada sellisel kujul, et olevikuverbid asendatakse neile vastavate minevikuvormidega. Näide:\n",
    "\n",
    "        Paide saab reoveepuhasti  ==>  Paide sai reoveepuhasti\n",
    "\n",
    "Minevikuvormid tuleb genereerida morfoloogilise sünteesi abil. _Oluline lisanõue:_ algse teksti vormistus (reavahetused, tühikud jms) peaks ümberkirjutamise käigus säilima.\n",
    "Töö tulemused (muudetud artiklid) tuleks väljastada ekraanile.\n",
    "\n",
    "Vihjeid / soovitusi:\n",
    "  * Esimese sammuna tuleks uurida, milliseid verbikategooriaid antud ajaleheartiklites üldse kasutatakse. Teie programm ei pea oskama kõikvõimalikke olevikuvorme minevikuvormideks teisendama: piisab, kui teisendamine töötab etteantud ajaleheartiklite peal. Seega on oodatud, et teostate enne väikese _korpuseuuringu_ (nt teete tekstide morf analüüsid, seejärel verbidest sagedusloendi), et välja uurida, milliseid kategooriaid tuleb teisendama hakata;\n",
    "  * Võib selguda, et kõiki olevikuverbe ei olegi mõttekas või ei saagi millegipärast teisendada. See on OK, aga koodi kommentaarides või siin märkmikus võiksite sellisel juhul tuua välja põhjendused, et miks;\n",
    "  * Teksti ümber kirjutamine _algset vormingut säilitades_: tuleks kasutada ära teadmist, et `Text` objektis on talletatud iga sõna algus- ja lõpp-positsioon esialgses tekstis. Seega, teades, kus sõna asus, võime sellele positsioonile asendussõna kirjutada; Kui veel päris selget ettekujutlust pole, kuidas seda teha, siis vt ka all olevat juttu;"
   ]
  },
  {
   "cell_type": "markdown",
   "metadata": {},
   "source": [
    "#### Sõnade asendamine tekstis \"koordinaatide järgi\"\n",
    "\n",
    "Nagu teises praktikumis tutvustati, on iga `Text` objekti märgenduskihi (`'sentences'`, `'words'` jms) elemendid varustatud atribuutidega `'start'` ja `'end'`, mis annavad edasi vastava elemendi \"asukoha tekstis\":"
   ]
  },
  {
   "cell_type": "code",
   "execution_count": 11,
   "metadata": {
    "collapsed": false
   },
   "outputs": [
    {
     "data": {
      "text/plain": [
       "[{'end': 2, 'start': 0, 'text': '=-'},\n",
       " {'end': 7, 'start': 3, 'text': 'Mees'},\n",
       " {'end': 13, 'start': 8, 'text': 'läheb'},\n",
       " {'end': 23, 'start': 14, 'text': 'puhkusele'},\n",
       " {'end': 24, 'start': 23, 'text': '.'},\n",
       " {'end': 27, 'start': 25, 'text': '-='}]"
      ]
     },
     "execution_count": 11,
     "metadata": {},
     "output_type": "execute_result"
    }
   ],
   "source": [
    "from estnltk import Text\n",
    "text = Text('=- Mees läheb puhkusele. -=')\n",
    "text.words"
   ]
  },
  {
   "cell_type": "markdown",
   "metadata": {},
   "source": [
    "Seega, kui tahame tekstis midagi asendada, siis on meil lihtsalt tarvis teada asendatava sõna \"koordinaate\", mille järgi saame vana versiooni tekstist jagada kolmeks osaks (enne asendust, asendus, pärast asendust) ning panna pärast kokku uueks tekstiks:"
   ]
  },
  {
   "cell_type": "code",
   "execution_count": 12,
   "metadata": {
    "collapsed": false
   },
   "outputs": [
    {
     "data": {
      "text/plain": [
       "'=- Mees läks puhkusele. -='"
      ]
     },
     "execution_count": 12,
     "metadata": {},
     "output_type": "execute_result"
    }
   ],
   "source": [
    "text_str = text.text   # tekst sõnena\n",
    "\n",
    "# asendatava sõna \"koordinaadid\":\n",
    "start = 8\n",
    "end = 13\n",
    "\n",
    "# jagame teksti kolmeks jupiks: enne asendust, asendus ja pärast asendust\n",
    "# ning teeme asenduse\n",
    "new_text = text_str[:start] + 'läks' + text_str[end:]\n",
    "\n",
    "# tulemus\n",
    "new_text"
   ]
  },
  {
   "cell_type": "markdown",
   "metadata": {},
   "source": [
    "Kõik ongi nii lihtne, kui meil tuleb teha ainult üks asendus. \n",
    "\n",
    "Mis juhtub siis, kui tuleb teha mitu asendust? Kui asendatavad sõnad erinevad pikkuse poolest algsetest sõnadest (ja enamasti just nii ongi), siis on oht, et asendused ajavad koordinaadid \"valeks\". Ehk siis: juba pärast esimese asenduse tegemist ei pruugi me leida enam sõnu nendelt koordinaatidelt, kus need algses tekstis paiknesid.\n",
    "\n",
    "Ka sellele probleemile leidub lahendus (ja isegi mitu tegelikult). Aga see jääb teie välja nuputada..."
   ]
  },
  {
   "cell_type": "markdown",
   "metadata": {},
   "source": [
    "## Nimeüksuste tuvastamine\n",
    "\n",
    "Morfoloogilise analüüsi teema juures täheldasime, et pärisnimed saavad sõnaliigimärgendi `'H'`. Samas ei ütle morfoloogiline analüüs midagi selle kohta, mis liiki pärisnimega on tegu (nt kas tegu on isikunime või kohanimega) ning samuti ei saa sealt otseselt kätte terviklikke pärisnimefraase. Kuna nimed on aga mitmesuguste info otsimise ja eraldamise ülesannete seisukohalt olulised, siis on loodud eraldi tööriistad, mis ongi spetsialiseerunud nime(fraasi)de otsimisele ja liigitamisele (ingl k  _named-entity recognition_ ehk NER).\n",
    "\n",
    "Ka EstNLTK sisaldab automaatset nimeüksuste tuvastajat. Programm võimaldab tuvastada 3 liiki nimeüksuseid: \n",
    "  * isikunimesid (lühend: _PER_);\n",
    "  * asukohanimesid (lühend: _LOC_);\n",
    "  * organisatsiooninimesid (lühend: _ORG_);\n",
    "\n",
    "Näide nimeüksuste tuvastaja kasutamisest:"
   ]
  },
  {
   "cell_type": "code",
   "execution_count": 13,
   "metadata": {
    "collapsed": false
   },
   "outputs": [
    {
     "data": {
      "text/plain": [
       "['Eesti', 'Kersti Kaljulaid', 'Eesti Energia', 'Eesti riigile']"
      ]
     },
     "execution_count": 13,
     "metadata": {},
     "output_type": "execute_result"
    }
   ],
   "source": [
    "from estnltk import Text\n",
    "t = Text(''' Eesti President on Kersti Kaljulaid. Eesti Energia on Eesti riigile kuuluv rahvusvaheline energiaettevõte. ''')\n",
    "\n",
    "# väljastab tuvastatud nimeüksused tekstikujul:\n",
    "t.named_entity_texts"
   ]
  },
  {
   "cell_type": "code",
   "execution_count": 14,
   "metadata": {
    "collapsed": false
   },
   "outputs": [
    {
     "name": "stdout",
     "output_type": "stream",
     "text": [
      "Eesti LOC\n",
      "Kersti Kaljulaid PER\n",
      "Eesti Energia ORG\n",
      "Eesti riigile LOC\n"
     ]
    }
   ],
   "source": [
    "from estnltk import Text\n",
    "t = Text(''' Eesti President on Kersti Kaljulaid. Eesti Energia on Eesti riigile kuuluv rahvusvaheline energiaettevõte. ''')\n",
    "\n",
    "# leia nimeüksuste liigid\n",
    "entity_labels = t.named_entity_labels\n",
    "# leia nimeüksuste tekstikujud\n",
    "entity_texts = t.named_entity_texts\n",
    "\n",
    "# väljastab tuvastatud nimeüksused koos liikidega:\n",
    "for ne_phrase, ne_label in zip(entity_texts, entity_labels):\n",
    "    print( ne_phrase, ne_label )"
   ]
  },
  {
   "cell_type": "markdown",
   "metadata": {},
   "source": [
    "Nagu eelmise näite põhjal selgus, siis päris perfektsed nimeüksuste tuvastamise tulemused pole. Nimeüksus `\"Eesti riigile\"` liigitati asukohaks (`LOC`), samas kui parem tõlgendus antud kontekstis oleks organisatsiooninimi (`ORG`). Nimeüksuste tuvastaja täpsus sõltubki natukene ka tuvastava nime liigist ning kõige täpsemaid tulemusi võiks oodata isikunimede tuvastamisel (nagu raporteeritakse [programmi kirjeldavas artiklis](http://www.aclweb.org/anthology/W13-2412))."
   ]
  },
  {
   "cell_type": "markdown",
   "metadata": {},
   "source": [
    "### Ülesanne 3. Vallakohtu protokollide anonümiseerimine (1,5 p)\n",
    "\n",
    "Kirjutage skript, mis kasutab nimeüksuste tuvastamist 19. saj vallakohtu protokollides olevate isikunimede anonümiseerimiseks. Sisendandmed paiknevad kaustas 'vallakohtu_protokollid'. Skript peaks analüüsima sisendandmete kaustas olevaid tekstifaile, looma igast protokollist versiooni, kus kõik isikunimed on anonümiseeritud (nt Xxxx-idega asendatud), ning kirjutama uue versiooni tekstifaili (nt faili, mille nimele on lisatud sufiks '\\_anonymiseeritud').\n",
    "\n",
    "- tekstifailid on, nagu ikka, kodeeringus 'utf-8';\n",
    "- anonümiseerida tuleb ainult isikunimed (PER), muud nimeüksused peaksid jääma endisele kujule;\n",
    "- kuidas nime tekstis asendada?\n",
    "\n",
    "  * lahendus, kus asendamine toimub `replace` abil, ei anna täispunkte (võite mõtiskleda / katsetada, milliseid probleeme `replace` tekitab); \n",
    "  * parem lahendus: uurige [nimeüksuste tuvastaja abimaterjalist](https://estnltk.github.io/estnltk/1.4.1/tutorials/ner.html), kuidas saab kätte iga nimeüksuse algus- ja lõpupositsiooni tekstis; kasutage seda infot, et tekstist vastav sõne välja võtta, anonümiseerida ning anonümiseeritud sõne teksti tagasi panna; \n",
    "  \n",
    "    ( ja kasu võib olla ka eelmise ülesande lõpus olevatest soovitustest :) )"
   ]
  }
 ],
 "metadata": {
  "anaconda-cloud": {},
  "kernelspec": {
   "display_name": "Python [conda env:python3.5.2]",
   "language": "python",
   "name": "conda-env-python3.5.2-py"
  },
  "language_info": {
   "codemirror_mode": {
    "name": "ipython",
    "version": 3
   },
   "file_extension": ".py",
   "mimetype": "text/x-python",
   "name": "python",
   "nbconvert_exporter": "python",
   "pygments_lexer": "ipython3",
   "version": "3.5.2"
  }
 },
 "nbformat": 4,
 "nbformat_minor": 1
}
