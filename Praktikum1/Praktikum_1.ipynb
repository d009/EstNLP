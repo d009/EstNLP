{
 "cells": [
  {
   "cell_type": "markdown",
   "metadata": {},
   "source": [
    "<h1 style=\"color:blue\">Praktikum 1: JupyterLab ja Pythoni baasteadmiste kordamine</h1>\n"
   ]
  },
  {
   "cell_type": "markdown",
   "metadata": {},
   "source": [
    "Selles praktikumis tutvume _JupyterLab_ keskkonnaga lähemalt ning ühtlasi kordame üle olulisemad Pythoni baasteadmised. Märkmiku lõpust leiate kodutöö ülesanded.\n",
    "\n",
    "_Lahtrite muutmine_. Kui klikite sellele tekstile, ilmub selle ümber kast. Topeltklikki tehes muutub see lahtriks ning ilmub ka kursor, millega saab teksti muuta. Pärast muutuste tegemist saab klahvikombinatsiooni **Ctrl+Enter** abil \"kuvada muudatused\" ja naasta algolekusse.\n",
    "\n",
    "Sisuliselt ongi igal lahtril kaks olekut -- muutimisolek ( _edit mode_ ) ning käivitamisolek ( _command mode_ ) -- käivitamisolekus saate näha varasemate või äsjaste muutmiste tulemusi ning ühtlasi anda uusi käsklusi."
   ]
  },
  {
   "cell_type": "markdown",
   "metadata": {},
   "source": [
    "### Olekud:\n",
    "\n",
    "**Command mode**: lahter valitud (kastiga ümbritsetud), kursorit pole\n",
    "\n",
    "**Edit mode**: lahter valitud (kastiga ümbritsetud), kursor kastis"
   ]
  },
  {
   "cell_type": "markdown",
   "metadata": {},
   "source": [
    "### Olulisemad käsud, milleta läbi ei saa:\n",
    "\n",
    "**Esc**: _edit mode -> command mode_ \n",
    "\n",
    "**Enter**: _command mode -> edit mode_\n",
    "\n",
    "**Shift+Enter**: jooksutab lahtri ja liigub järgmise juurde\n",
    "\n",
    "**Ctrl+Enter**: jooksutab lahtri ja läheb _command mode_ 'i"
   ]
  },
  {
   "cell_type": "markdown",
   "metadata": {},
   "source": [
    "\n",
    "### Kiirklahvid _command mode_ 'is (st kursorit pole lahtris!) \n",
    "\n",
    "**a**: uus lahter üles ( _above_ )\n",
    "\n",
    "**b**: uus lahter alla ( _below_ )\n",
    "\n",
    "**dd**: kustuta lahter ( _delete_ )\n"
   ]
  },
  {
   "cell_type": "markdown",
   "metadata": {},
   "source": [
    "Lahtrid võivad olla erinevat tüüpi. Tüübi nimi on näha üleval rippmenüüs; \"tekstilahtri\" tüübiks on _Markdown_. Tegelikult võimaldab _Markdown_ lisaks tavalisele tekstile sisestada ka vormindatud teksti, kujunduselemente, tabeleid ja pilte (detailsema võimaluste kirjelduse leiab [siit](https://www.tutorialspoint.com/jupyter/jupyter_notebook_markdown_cells.htm)). \n",
    "\n",
    "Teine oluline lahtritüüp on _Code_ -- sedalaadi lahtrisse saab sisestada Pythoni koodi. Kui olete muutmisrežiimis sinna koodi sisestanud ning vajutate **Ctrl+Enter**, siis käivitatakse kood ning lahtri alla ilmub ka koodi käivitamise tulemus:"
   ]
  },
  {
   "cell_type": "code",
   "execution_count": 1,
   "metadata": {},
   "outputs": [
    {
     "name": "stdout",
     "output_type": "stream",
     "text": [
      "5\n"
     ]
    }
   ],
   "source": [
    "print( 3 + 2 )"
   ]
  },
  {
   "cell_type": "markdown",
   "metadata": {},
   "source": [
    "### Lahtri tüüp\n",
    "\n",
    "**Code**: jooksutatud lahter interpreteeritakse Lab-i _kernel_ -i poolt (antud juhul: Pythoni poolt)\n",
    "\n",
    "**Markdown**: jooksutatud lahter renderdatakse LaTeX-i, HTML ja Markdown-i mootori poolt\n",
    "\n",
    "**Y**: _command mode_ 'is lahter muudetakse _code_ 'i lahtriks\n",
    "\n",
    "**M**: _command mode_ 'is lahter muudetakse _markdown_ 'i lahtriks\n",
    "\n",
    "\n",
    "### Tab\n",
    "\n",
    "Soovitab _edit mode_ 'is muutujaid või lõpetab keelespetsiifilisi _statement_ 'e (_if, elif, else, with, class_ jne Pythonis)\n",
    "\n",
    "### Space\n",
    "\n",
    "Viib märkmiku lõppu _command mode_ 'is.\n",
    "\n",
    "#### Kiirklahvide muutmiseks vali: _Settings_ -> _Advanced settings editor_ -> _Keyboard shortcuts_. Vt ka kiirklahvide [spikrit](https://www.cheatography.com/weidadeyue/cheat-sheets/jupyter-notebook/)"
   ]
  },
  {
   "cell_type": "markdown",
   "metadata": {},
   "source": [
    "## Kordamine\n",
    "\n",
    "Selles osas saate põhjalikumalt katsetada Pythoni koodi jooksutamist _Lab_ -is. Eesmärgiks on näidete varal korrata üle Pythoni olulisemad baasteadmised ja tutvustada ka mõnigaid uusi nüansse. Kui vajate põhjalikumat algteadmiste meeldetuletust, võite sirvida lisaks [veebipõhist programmeerimise õpikut](https://progeopik.cs.ut.ee)."
   ]
  },
  {
   "cell_type": "markdown",
   "metadata": {},
   "source": [
    "### Olulisemad andmestruktuurid\n",
    "#### Sõned\n"
   ]
  },
  {
   "cell_type": "code",
   "execution_count": 2,
   "metadata": {},
   "outputs": [],
   "source": [
    "# Loome uue sõne\n",
    "lause1 = 'Mädasoo peremees tuli parajasti heinamaalt, kaks linalakka käekõrval.'"
   ]
  },
  {
   "cell_type": "code",
   "execution_count": 3,
   "metadata": {},
   "outputs": [
    {
     "data": {
      "text/plain": [
       "'Mädasoo peremees tuli parajasti heinamaalt, kaks linalakka käekõrval.'"
      ]
     },
     "execution_count": 3,
     "metadata": {},
     "output_type": "execute_result"
    }
   ],
   "source": [
    "lause1"
   ]
  },
  {
   "cell_type": "code",
   "execution_count": 4,
   "metadata": {},
   "outputs": [
    {
     "data": {
      "text/plain": [
       "'peremees'"
      ]
     },
     "execution_count": 4,
     "metadata": {},
     "output_type": "execute_result"
    }
   ],
   "source": [
    "# võtame sõnest alamosa\n",
    "lause1[8:16]"
   ]
  },
  {
   "cell_type": "code",
   "execution_count": 5,
   "metadata": {},
   "outputs": [
    {
     "data": {
      "text/plain": [
       "['Mädasoo',\n",
       " 'peremees',\n",
       " 'tuli',\n",
       " 'parajasti',\n",
       " 'heinamaalt,',\n",
       " 'kaks',\n",
       " 'linalakka',\n",
       " 'käekõrval.']"
      ]
     },
     "execution_count": 5,
     "metadata": {},
     "output_type": "execute_result"
    }
   ],
   "source": [
    "# jagame sõne tükkideks tühikute kohalt:\n",
    "lause1.split()"
   ]
  },
  {
   "cell_type": "code",
   "execution_count": 6,
   "metadata": {},
   "outputs": [],
   "source": [
    "# jagame sõne tükkideks ja paneme tulemused muutujasse\n",
    "lause_jupid = lause1.split()"
   ]
  },
  {
   "cell_type": "code",
   "execution_count": 7,
   "metadata": {},
   "outputs": [
    {
     "name": "stdout",
     "output_type": "stream",
     "text": [
      "Mädasoo\n",
      "peremees\n",
      "tuli\n",
      "parajasti\n",
      "heinamaalt\n",
      "kaks\n",
      "linalakka\n",
      "käekõrval\n"
     ]
    }
   ],
   "source": [
    "# teeme tsükli üle sõnede\n",
    "for sona in lause_jupid:\n",
    "    # eemaldame sõna küljest kirjavahemärgid \",\" ja \".\"\n",
    "    sona = sona.strip(\",.\")\n",
    "    # väljastame tulemuse ekraanile\n",
    "    print(sona)"
   ]
  },
  {
   "cell_type": "markdown",
   "metadata": {},
   "source": [
    "Vt ka <a href=\"https://docs.python.org/3.8/library/stdtypes.html#string-methods\">sõne meetodid</a>"
   ]
  },
  {
   "cell_type": "markdown",
   "metadata": {},
   "source": [
    "#### Listid ehk järjendid"
   ]
  },
  {
   "cell_type": "code",
   "execution_count": 8,
   "metadata": {},
   "outputs": [],
   "source": [
    "list_a = []\n",
    "list_b = [1,2,3]\n",
    "\n",
    "# lisame listi a uue elemendi\n",
    "list_a.append(0)\n",
    "\n",
    "# moodustame kahe listi põhjal uue listi\n",
    "list_c = list_a + list_b"
   ]
  },
  {
   "cell_type": "code",
   "execution_count": 9,
   "metadata": {},
   "outputs": [
    {
     "data": {
      "text/plain": [
       "[0]"
      ]
     },
     "execution_count": 9,
     "metadata": {},
     "output_type": "execute_result"
    }
   ],
   "source": [
    "list_a"
   ]
  },
  {
   "cell_type": "code",
   "execution_count": 10,
   "metadata": {},
   "outputs": [
    {
     "data": {
      "text/plain": [
       "[1, 2, 3]"
      ]
     },
     "execution_count": 10,
     "metadata": {},
     "output_type": "execute_result"
    }
   ],
   "source": [
    "list_b"
   ]
  },
  {
   "cell_type": "code",
   "execution_count": 11,
   "metadata": {},
   "outputs": [
    {
     "data": {
      "text/plain": [
       "[0, 1, 2, 3]"
      ]
     },
     "execution_count": 11,
     "metadata": {},
     "output_type": "execute_result"
    }
   ],
   "source": [
    "list_c"
   ]
  },
  {
   "cell_type": "code",
   "execution_count": 12,
   "metadata": {},
   "outputs": [
    {
     "data": {
      "text/plain": [
       "1"
      ]
     },
     "execution_count": 12,
     "metadata": {},
     "output_type": "execute_result"
    }
   ],
   "source": [
    "# listi b esimene element\n",
    "list_b[0]"
   ]
  },
  {
   "cell_type": "markdown",
   "metadata": {},
   "source": [
    "#### Sõnastikud"
   ]
  },
  {
   "cell_type": "code",
   "execution_count": 13,
   "metadata": {},
   "outputs": [],
   "source": [
    "# Tühja sõnastiku loomine\n",
    "sonastik = {}\n",
    "\n",
    "# Eeltäidetud sõnastiku loomine\n",
    "sonastik = {\"Ants\":25, \"Eeva\":23, \"Mihkel\":32, \"Mari\":28 }"
   ]
  },
  {
   "cell_type": "code",
   "execution_count": 14,
   "metadata": {},
   "outputs": [],
   "source": [
    "# Uue võtme/väärtuse lisamine sõnastikku\n",
    "sonastik['Kadri']=26"
   ]
  },
  {
   "cell_type": "code",
   "execution_count": 15,
   "metadata": {},
   "outputs": [
    {
     "data": {
      "text/plain": [
       "{'Ants': 25, 'Eeva': 23, 'Mihkel': 32, 'Mari': 28, 'Kadri': 26}"
      ]
     },
     "execution_count": 15,
     "metadata": {},
     "output_type": "execute_result"
    }
   ],
   "source": [
    "sonastik"
   ]
  },
  {
   "cell_type": "code",
   "execution_count": 16,
   "metadata": {},
   "outputs": [
    {
     "data": {
      "text/plain": [
       "['Ants', 'Eeva', 'Mihkel', 'Mari', 'Kadri']"
      ]
     },
     "execution_count": 16,
     "metadata": {},
     "output_type": "execute_result"
    }
   ],
   "source": [
    "# Sõnastiku kõik võtmed (järjendina)\n",
    "list( sonastik.keys() )"
   ]
  },
  {
   "cell_type": "code",
   "execution_count": 17,
   "metadata": {},
   "outputs": [
    {
     "data": {
      "text/plain": [
       "[('Ants', 25), ('Eeva', 23), ('Mihkel', 32), ('Mari', 28), ('Kadri', 26)]"
      ]
     },
     "execution_count": 17,
     "metadata": {},
     "output_type": "execute_result"
    }
   ],
   "source": [
    "# Sõnastiku võti-väärtus paarid (järjendina)\n",
    "list( sonastik.items() ) "
   ]
  },
  {
   "cell_type": "code",
   "execution_count": 18,
   "metadata": {},
   "outputs": [
    {
     "data": {
      "text/plain": [
       "True"
      ]
     },
     "execution_count": 18,
     "metadata": {},
     "output_type": "execute_result"
    }
   ],
   "source": [
    "# Kas sõnastik sisaldab võtit 'Mari'?\n",
    "'Mari' in sonastik"
   ]
  },
  {
   "cell_type": "code",
   "execution_count": 19,
   "metadata": {},
   "outputs": [
    {
     "data": {
      "text/plain": [
       "False"
      ]
     },
     "execution_count": 19,
     "metadata": {},
     "output_type": "execute_result"
    }
   ],
   "source": [
    "# Kas sõnastik sisaldab võtit 'Mart'?\n",
    "'Mart' in sonastik"
   ]
  },
  {
   "cell_type": "markdown",
   "metadata": {},
   "source": [
    "Sõnastiku meetodite kohta vt lisaks [siit](https://docs.python.org/3.8/library/stdtypes.html#dict)"
   ]
  },
  {
   "cell_type": "markdown",
   "metadata": {},
   "source": [
    "#### Hulgad"
   ]
  },
  {
   "cell_type": "code",
   "execution_count": 20,
   "metadata": {},
   "outputs": [],
   "source": [
    "# Uue hulga loomine järjendi põhjal\n",
    "hulk = set( [1, 2, 2, 3, 4, 5, 5, 5, 5, 5, 5, 6, 7, 8] )"
   ]
  },
  {
   "cell_type": "code",
   "execution_count": 21,
   "metadata": {},
   "outputs": [
    {
     "data": {
      "text/plain": [
       "{1, 2, 3, 4, 5, 6, 7, 8}"
      ]
     },
     "execution_count": 21,
     "metadata": {},
     "output_type": "execute_result"
    }
   ],
   "source": [
    "hulk"
   ]
  },
  {
   "cell_type": "code",
   "execution_count": 22,
   "metadata": {},
   "outputs": [],
   "source": [
    "# Uue elemendi lisamine hulka\n",
    "hulk.add(0)"
   ]
  },
  {
   "cell_type": "code",
   "execution_count": 23,
   "metadata": {},
   "outputs": [
    {
     "data": {
      "text/plain": [
       "{0, 1, 2, 3, 4, 5, 6, 7, 8}"
      ]
     },
     "execution_count": 23,
     "metadata": {},
     "output_type": "execute_result"
    }
   ],
   "source": [
    "hulk"
   ]
  },
  {
   "cell_type": "code",
   "execution_count": 24,
   "metadata": {},
   "outputs": [
    {
     "data": {
      "text/plain": [
       "False"
      ]
     },
     "execution_count": 24,
     "metadata": {},
     "output_type": "execute_result"
    }
   ],
   "source": [
    "# Kas hulk sisaldab väärtust 9?\n",
    "9 in hulk"
   ]
  },
  {
   "cell_type": "markdown",
   "metadata": {},
   "source": [
    "Hulga meetodite kohta vt lisaks [siit](https://docs.python.org/3.8/library/stdtypes.html#set)"
   ]
  },
  {
   "cell_type": "markdown",
   "metadata": {},
   "source": [
    "### Tingimuslaused"
   ]
  },
  {
   "cell_type": "code",
   "execution_count": 25,
   "metadata": {},
   "outputs": [
    {
     "name": "stdout",
     "output_type": "stream",
     "text": [
      "Siin me oleme\n"
     ]
    }
   ],
   "source": [
    "if 6 in [1, 2, 3, 4, 5, 5, 5]  or  1 != 2 and sum([1,5,3])/3 < sum([2,4,1])/3:\n",
    "    print(\"Kas siia jõutakse?\")\n",
    "elif True and True and False or not True:\n",
    "    print('Ebaloogiline!')\n",
    "else:\n",
    "    print('Siin me oleme')"
   ]
  },
  {
   "cell_type": "code",
   "execution_count": 26,
   "metadata": {},
   "outputs": [
    {
     "data": {
      "text/plain": [
       "'a'"
      ]
     },
     "execution_count": 26,
     "metadata": {},
     "output_type": "execute_result"
    }
   ],
   "source": [
    "# Tingimusega muutuja väärtuse seadmine\n",
    "a = \"a\" if True else \"b\"\n",
    "a"
   ]
  },
  {
   "cell_type": "markdown",
   "metadata": {},
   "source": [
    "Vajadusel korda üle ka tõeväärtuste osa [programmeerimise õpikus](https://progeopik.cs.ut.ee/03_liitlaused.html#toevaartustuup-bool)"
   ]
  },
  {
   "cell_type": "markdown",
   "metadata": {},
   "source": [
    "### Tsüklid"
   ]
  },
  {
   "cell_type": "code",
   "execution_count": 27,
   "metadata": {},
   "outputs": [
    {
     "name": "stdout",
     "output_type": "stream",
     "text": [
      "0 1 2 3 4 "
     ]
    }
   ],
   "source": [
    "i = 0\n",
    "while i < 5:\n",
    "    print(i, end=' ')\n",
    "    i += 1"
   ]
  },
  {
   "cell_type": "code",
   "execution_count": 28,
   "metadata": {},
   "outputs": [
    {
     "name": "stdout",
     "output_type": "stream",
     "text": [
      "0 1 2 3 4 5 6 7 8 9 "
     ]
    }
   ],
   "source": [
    "for i in range(10):\n",
    "    print(i, end=' ')"
   ]
  },
  {
   "cell_type": "code",
   "execution_count": 29,
   "metadata": {},
   "outputs": [
    {
     "name": "stdout",
     "output_type": "stream",
     "text": [
      "Mädasoo\n",
      "talu\n",
      "peremees\n",
      "võttis\n",
      "uue\n",
      "koera\n"
     ]
    }
   ],
   "source": [
    "lause = 'Mädasoo talu peremees võttis uue koera'\n",
    "sonestatud_lause = lause.split()\n",
    "for sona in sonestatud_lause:\n",
    "    print(sona)"
   ]
  },
  {
   "cell_type": "markdown",
   "metadata": {},
   "source": [
    "Mõnikord on tarvis listi läbides kontrollida ka vaadeldava elemendi indeksit. Siin tuleb appi standardfunktsioon _enumerate_ :"
   ]
  },
  {
   "cell_type": "code",
   "execution_count": 30,
   "metadata": {},
   "outputs": [
    {
     "name": "stdout",
     "output_type": "stream",
     "text": [
      "Mädasoo talu peremees võttis uue koera .\n"
     ]
    }
   ],
   "source": [
    "for indeks, sona in enumerate( sonestatud_lause ):\n",
    "    print(sona, end = ' ')\n",
    "    if indeks == len(sonestatud_lause) - 1: \n",
    "        # lauselõpp: lisame punkti\n",
    "        print('.')"
   ]
  },
  {
   "cell_type": "markdown",
   "metadata": {},
   "source": [
    "Järjendi loomise tsükli saab ka \"kokku pakkida\" üherealiseks koodilõiguks:"
   ]
  },
  {
   "cell_type": "code",
   "execution_count": 31,
   "metadata": {},
   "outputs": [
    {
     "data": {
      "text/plain": [
       "[0, 1, 2, 3, 4, 5, 6, 7, 8, 9]"
      ]
     },
     "execution_count": 31,
     "metadata": {},
     "output_type": "execute_result"
    }
   ],
   "source": [
    "arvud1 = [x for x in range(10)]\n",
    "arvud1"
   ]
  },
  {
   "cell_type": "markdown",
   "metadata": {},
   "source": [
    "ning sellele tsüklile võib lisada tingimusi:"
   ]
  },
  {
   "cell_type": "code",
   "execution_count": 32,
   "metadata": {},
   "outputs": [
    {
     "data": {
      "text/plain": [
       "[3, 4, 5]"
      ]
     },
     "execution_count": 32,
     "metadata": {},
     "output_type": "execute_result"
    }
   ],
   "source": [
    "arvud2 = [x for x in range(10) if x <= 5 and x > 2]\n",
    "arvud2"
   ]
  },
  {
   "cell_type": "markdown",
   "metadata": {},
   "source": [
    "### Mitmemõõtmelised andmestruktuurid\n",
    "\n",
    "Andmestruktuurid võivad olla _mitmemõõtmelised_, nt ühe järjendi elementideks võivad olla teised järjendid ning ühe sõnastiku väärtusteks võivad omakorda olla teised sõnastikud."
   ]
  },
  {
   "cell_type": "code",
   "execution_count": 33,
   "metadata": {},
   "outputs": [],
   "source": [
    "topeltjarjend = [ [1, 2, 3], [4] ]"
   ]
  },
  {
   "cell_type": "code",
   "execution_count": 34,
   "metadata": {},
   "outputs": [],
   "source": [
    "topeltjarjend.append( [5, 6] )"
   ]
  },
  {
   "cell_type": "code",
   "execution_count": 35,
   "metadata": {},
   "outputs": [
    {
     "name": "stdout",
     "output_type": "stream",
     "text": [
      "1 2 3 \n",
      "4 \n",
      "5 6 \n"
     ]
    }
   ],
   "source": [
    "# topeltjärjendi läbimiseks kasutame kahekordset tsüklit:\n",
    "for alamjarjend in topeltjarjend:\n",
    "    for element in alamjarjend:\n",
    "        print(element, end=' ')\n",
    "    print()"
   ]
  },
  {
   "cell_type": "markdown",
   "metadata": {},
   "source": [
    "Praktikas tuleb sageli ette, et üks andmeühik peab talletama rohkem kui ühe arvu või sõne. Nt kui on tegemist isikuid kirjeldavate andmetega, siis võib olla tarvis hoida mälus lisaks isiku nimele ka tema vanust, sugu, elukohta jms. Sellisel juhul on mugav kasutada kahemõõtmelist sõnastikku:"
   ]
  },
  {
   "cell_type": "code",
   "execution_count": 36,
   "metadata": {},
   "outputs": [],
   "source": [
    "# Kahemõõtmelise sõnastiku loomine\n",
    "isikud = { \"Ants\":   { 'sugu':'M', 'vanus': 25, 'elukoht': 'Tartu'},\n",
    "           \"Eeva\":   { 'sugu':'N', 'vanus': 23, 'elukoht': 'Tallinn'},\n",
    "           \"Mihkel\": { 'sugu':'M', 'vanus': 32, 'elukoht': 'Loksa'}, \n",
    "           \"Mari\":   { 'sugu':'N', 'vanus': 28, 'elukoht': 'Kuala Lumpur'} }"
   ]
  },
  {
   "cell_type": "code",
   "execution_count": 37,
   "metadata": {},
   "outputs": [
    {
     "data": {
      "text/plain": [
       "'M'"
      ]
     },
     "execution_count": 37,
     "metadata": {},
     "output_type": "execute_result"
    }
   ],
   "source": [
    "isikud['Ants']['sugu']"
   ]
  },
  {
   "cell_type": "code",
   "execution_count": 38,
   "metadata": {},
   "outputs": [
    {
     "data": {
      "text/plain": [
       "32"
      ]
     },
     "execution_count": 38,
     "metadata": {},
     "output_type": "execute_result"
    }
   ],
   "source": [
    "isikud['Mihkel']['vanus']"
   ]
  },
  {
   "cell_type": "code",
   "execution_count": 39,
   "metadata": {},
   "outputs": [
    {
     "data": {
      "text/plain": [
       "'Kuala Lumpur'"
      ]
     },
     "execution_count": 39,
     "metadata": {},
     "output_type": "execute_result"
    }
   ],
   "source": [
    "isikud['Mari']['elukoht']"
   ]
  },
  {
   "cell_type": "markdown",
   "metadata": {},
   "source": [
    "Andmestruktuuride muutmisel mitmemõõtmeliseks on võimalik ka kombineerida erinevaid struktuure, nt sõnastiku väärtusteks võivad olla järjendid:"
   ]
  },
  {
   "cell_type": "code",
   "execution_count": 40,
   "metadata": {},
   "outputs": [],
   "source": [
    "# Sõnastik, mille väärtusteks on järjendid (nt mängijate täringuvisked)\n",
    "taringuvisked = { \"Ants\":   [ 1, 5, 3 ],\n",
    "                  \"Eeva\":   [ 5, 5, 2 ],\n",
    "                  \"Mihkel\": [ 6, 6, 6 ], \n",
    "                  \"Mari\":   [ 2, 4, 1 ] }"
   ]
  },
  {
   "cell_type": "code",
   "execution_count": 41,
   "metadata": {},
   "outputs": [
    {
     "name": "stdout",
     "output_type": "stream",
     "text": [
      "Ants, täringuvisked: [1, 5, 3] , silmade summa: 9\n",
      "Eeva, täringuvisked: [5, 5, 2] , silmade summa: 12\n",
      "Mihkel, täringuvisked: [6, 6, 6] , silmade summa: 18\n",
      "Mari, täringuvisked: [2, 4, 1] , silmade summa: 7\n"
     ]
    }
   ],
   "source": [
    "# Kuvame silmad täringuvisete kaupa + silmade summa\n",
    "for nimi in taringuvisked:\n",
    "    print(nimi+', täringuvisked:', taringuvisked[nimi], ', silmade summa:', sum(taringuvisked[nimi]))"
   ]
  },
  {
   "cell_type": "markdown",
   "metadata": {},
   "source": [
    "#### Mitme muutuja seadmine"
   ]
  },
  {
   "cell_type": "code",
   "execution_count": 42,
   "metadata": {},
   "outputs": [
    {
     "data": {
      "text/plain": [
       "4"
      ]
     },
     "execution_count": 42,
     "metadata": {},
     "output_type": "execute_result"
    }
   ],
   "source": [
    "# loome iga järjendi elemendi kohta uue muutuja:\n",
    "vise1, vise2, vise3 = taringuvisked['Ants']\n",
    "\n",
    "vise1 + vise3"
   ]
  },
  {
   "cell_type": "markdown",
   "metadata": {},
   "source": [
    "### Funktsioonid"
   ]
  },
  {
   "cell_type": "code",
   "execution_count": 43,
   "metadata": {},
   "outputs": [],
   "source": [
    "def isikunimi(eesnimi, perekonnanimi,                    # kohustuslikud argumendid\n",
    "              kesknimi = \"\", initsiaalidena = False):    # valikulised argumendid\n",
    "    if initsiaalidena:\n",
    "        if len(kesknimi) > 0:\n",
    "            kesknimi = kesknimi[0]+'. '\n",
    "        return eesnimi[0]+'. '+kesknimi+perekonnanimi\n",
    "    else:\n",
    "        if len(kesknimi) > 0:\n",
    "            kesknimi = kesknimi+' '\n",
    "        return eesnimi+' '+kesknimi+perekonnanimi"
   ]
  },
  {
   "cell_type": "code",
   "execution_count": 44,
   "metadata": {},
   "outputs": [
    {
     "data": {
      "text/plain": [
       "'Anton Tammsaare'"
      ]
     },
     "execution_count": 44,
     "metadata": {},
     "output_type": "execute_result"
    }
   ],
   "source": [
    "isikunimi('Anton', 'Tammsaare')"
   ]
  },
  {
   "cell_type": "code",
   "execution_count": 45,
   "metadata": {},
   "outputs": [
    {
     "data": {
      "text/plain": [
       "'A. H. Tammsaare'"
      ]
     },
     "execution_count": 45,
     "metadata": {},
     "output_type": "execute_result"
    }
   ],
   "source": [
    "isikunimi('Anton', 'Tammsaare', kesknimi = \"Hansen\", initsiaalidena = True)"
   ]
  },
  {
   "cell_type": "markdown",
   "metadata": {},
   "source": [
    "Käsu _lambda_ abil on võimalik luua \"minifunktsioon\", kus kogu funktsiooni sisu (nt mingid arvutustehted) on ära mahutatud ühele definitsioonireale. Selline funktsioon koosneb ainult argumentidest (vasakul pool koolonit) ning tagastatavast väärtusest (paremal pool koolonit). Näide:"
   ]
  },
  {
   "cell_type": "code",
   "execution_count": 46,
   "metadata": {},
   "outputs": [
    {
     "data": {
      "text/plain": [
       "(4, 5, 6)"
      ]
     },
     "execution_count": 46,
     "metadata": {},
     "output_type": "execute_result"
    }
   ],
   "source": [
    "jarjestikku_taisarvud = lambda x : (x-1, x, x+1)\n",
    "\n",
    "jarjestikku_taisarvud(5)"
   ]
  },
  {
   "cell_type": "markdown",
   "metadata": {},
   "source": [
    "### Importimine"
   ]
  },
  {
   "cell_type": "code",
   "execution_count": 47,
   "metadata": {},
   "outputs": [
    {
     "data": {
      "text/plain": [
       "3.0"
      ]
     },
     "execution_count": 47,
     "metadata": {},
     "output_type": "execute_result"
    }
   ],
   "source": [
    "# impordime standardteegist math ruutjuure funktsiooni\n",
    "from math import sqrt\n",
    "\n",
    "# funktsiooni väljakutsumiseks piisab funktsiooninimest\n",
    "sqrt(9)"
   ]
  },
  {
   "cell_type": "code",
   "execution_count": 48,
   "metadata": {},
   "outputs": [
    {
     "data": {
      "text/plain": [
       "6"
      ]
     },
     "execution_count": 48,
     "metadata": {},
     "output_type": "execute_result"
    }
   ],
   "source": [
    "# impordime juhuarvude genereerimise teegi\n",
    "import random\n",
    "\n",
    "# kasutame funktsiooni randint() täringuviske genereerimiseks;\n",
    "# väljakutsumisel tuleb lisaks kasutada ka mooduli nime:\n",
    "random.randint(1,6)"
   ]
  },
  {
   "cell_type": "markdown",
   "metadata": {},
   "source": [
    "Kui püüate importida teeki, mida pole Pythoni standardteekide seas ning mida pole ka juurde installitud, siis saate importimisel veateate:"
   ]
  },
  {
   "cell_type": "code",
   "execution_count": 49,
   "metadata": {},
   "outputs": [
    {
     "ename": "ModuleNotFoundError",
     "evalue": "No module named 'pygame'",
     "output_type": "error",
     "traceback": [
      "\u001b[1;31m---------------------------------------------------------------------------\u001b[0m",
      "\u001b[1;31mModuleNotFoundError\u001b[0m                       Traceback (most recent call last)",
      "Cell \u001b[1;32mIn [49], line 2\u001b[0m\n\u001b[0;32m      1\u001b[0m \u001b[38;5;66;03m# proovime importida teeki pygame\u001b[39;00m\n\u001b[1;32m----> 2\u001b[0m \u001b[38;5;28;01mimport\u001b[39;00m \u001b[38;5;21;01mpygame\u001b[39;00m\n",
      "\u001b[1;31mModuleNotFoundError\u001b[0m: No module named 'pygame'"
     ]
    }
   ],
   "source": [
    "# proovime importida teeki pygame\n",
    "import pygame"
   ]
  },
  {
   "cell_type": "markdown",
   "metadata": {},
   "source": [
    "Puuduva teegi installimiseks on erinevaid võimalusi. Kui teek on olemas Anaconda lisapakettide seas, saab seda installida nii, et valite menüüst _Kernel_ => _Conda Packages_ , misjärel ilmub pakettide aken, mille vasakust alamaknast saate installitava paketi valida (NB! see valik on saadaval vaid Anacondas; et see tekiks ka Minicondasse, tuleb kõigepealt installida lisapakett [nb_conda](https://anaconda.org/anaconda/nb_conda)). \n",
    "Alternatiiv on installida teek käsurea kaudu. Selleks ava _Launcher_-is _Other_ -> _Terminal_ ning kasuta installimiseks käske _conda install_ või _pip install_. "
   ]
  },
  {
   "cell_type": "markdown",
   "metadata": {},
   "source": [
    "### Dokumentatsiooni uurimine\n",
    "\n",
    "Lisades funktsiooni nime ette küsimärgi, on võimalik uurida funktsiooni lähtekoodiga kaasa tulevat dokumentatsiooni (nn _docstring_-i):"
   ]
  },
  {
   "cell_type": "code",
   "execution_count": 50,
   "metadata": {},
   "outputs": [
    {
     "data": {
      "text/plain": [
       "\u001b[1;31mSignature:\u001b[0m  \u001b[0msqrt\u001b[0m\u001b[1;33m(\u001b[0m\u001b[0mx\u001b[0m\u001b[1;33m,\u001b[0m \u001b[1;33m/\u001b[0m\u001b[1;33m)\u001b[0m\u001b[1;33m\u001b[0m\u001b[1;33m\u001b[0m\u001b[0m\n",
       "\u001b[1;31mDocstring:\u001b[0m Return the square root of x.\n",
       "\u001b[1;31mType:\u001b[0m      builtin_function_or_method\n"
      ]
     },
     "metadata": {},
     "output_type": "display_data"
    }
   ],
   "source": [
    "? sqrt"
   ]
  },
  {
   "cell_type": "code",
   "execution_count": 51,
   "metadata": {},
   "outputs": [
    {
     "data": {
      "text/plain": [
       "\u001b[1;31mSignature:\u001b[0m  \u001b[0mrandom\u001b[0m\u001b[1;33m.\u001b[0m\u001b[0mrandint\u001b[0m\u001b[1;33m(\u001b[0m\u001b[0ma\u001b[0m\u001b[1;33m,\u001b[0m \u001b[0mb\u001b[0m\u001b[1;33m)\u001b[0m\u001b[1;33m\u001b[0m\u001b[1;33m\u001b[0m\u001b[0m\n",
       "\u001b[1;31mDocstring:\u001b[0m\n",
       "Return random integer in range [a, b], including both end points.\n",
       "        \n",
       "\u001b[1;31mFile:\u001b[0m      c:\\programmid\\miniconda3\\envs\\py38\\lib\\random.py\n",
       "\u001b[1;31mType:\u001b[0m      method\n"
      ]
     },
     "metadata": {},
     "output_type": "display_data"
    }
   ],
   "source": [
    "? random.randint"
   ]
  },
  {
   "cell_type": "markdown",
   "metadata": {},
   "source": [
    "### Operatsioonid failidega\n",
    "\n",
    "#### Faili avamine ja lugemine\n",
    "\n",
    "Traditsiooniline viis faili avamiseks:"
   ]
  },
  {
   "cell_type": "code",
   "execution_count": 52,
   "metadata": {},
   "outputs": [
    {
     "name": "stdout",
     "output_type": "stream",
     "text": [
      "Nothing personal, it ...\n"
     ]
    }
   ],
   "source": [
    "f = open('postimees.txt', 'r')  # avame faili lugemiseks\n",
    "\n",
    "# loeme faili sisu \n",
    "sisu = f.read()\n",
    "print( sisu[:20], '...')\n",
    "\n",
    "f.close() # sulgeme faili"
   ]
  },
  {
   "cell_type": "markdown",
   "metadata": {},
   "source": [
    "Ülaltoodud viisil faili avades on oluline meeles pidada, et fail tuleb alati ka sulgeda. \n",
    "\n",
    "Kuna faili sulgemine võib kergesti ununeda, on soovitatav kasutada _with_ -põhist faili avamist. \n",
    "Sellisel viisil toimub faili sulgemine automaatselt pärast _with_ bloki täitmist ning _close()_ käsku polegi tarvis:"
   ]
  },
  {
   "cell_type": "code",
   "execution_count": 53,
   "metadata": {},
   "outputs": [
    {
     "name": "stdout",
     "output_type": "stream",
     "text": [
      "Nothing personal, itā€™s just politics*8 2. september 2016 22:33\n",
      "\n"
     ]
    }
   ],
   "source": [
    "with open('postimees.txt', 'r') as f:\n",
    "    # loeme faili sisu \n",
    "    sisu = f.readlines()\n",
    "    print( sisu[0] )\n",
    "\n",
    "# kui väljume with'i skoobist, siis suletakse fail automaatselt"
   ]
  },
  {
   "cell_type": "markdown",
   "metadata": {},
   "source": [
    "#### Faili kirjutamine"
   ]
  },
  {
   "cell_type": "markdown",
   "metadata": {},
   "source": [
    "Faili kirjutamiseks muudame _open_ -käsu teist argumenti: _'w'_ abil avame kirjutamiseks uue tühja faili (või kustutame olemasoleva faili sisu enne kirjutamist) ning argument _'a'_ abil avame kirjutamiseks olemasoleva faili ning asume kirjutama selle lõppu."
   ]
  },
  {
   "cell_type": "code",
   "execution_count": 54,
   "metadata": {},
   "outputs": [],
   "source": [
    "lause = 'Mädasoo talu peremees tegi uue Pythoni klassi'\n",
    "with open('madasoo.txt', 'w') as f:\n",
    "    f.write( lause )"
   ]
  },
  {
   "cell_type": "markdown",
   "metadata": {},
   "source": [
    "* _Märkus_ : Mõnes Windows'i versioonis võib eelneva koodilõigu jooksutamisel tekkida kodeeringuviga, kuna faili kirjutatav tekst sisaldab täpitähte. Sellisel juhul palun lisage `open` käsule argument `encoding=\"utf8\"`."
   ]
  },
  {
   "cell_type": "markdown",
   "metadata": {},
   "source": [
    "### Klassid ja objektid\n",
    "\n",
    "Kui andmete struktuur muutub keerukamaks, siis on sageli mõttekas koondada üheks tervikuks mingit tüüpi andmed ja nendega opereerivad funktsioonid. [Objektorienteeritud programmeerimise paradigma](https://et.wikipedia.org/wiki/Objektorienteeritud_programmeerimine) järgi \"kapseldataksegi\" andmed \"objektidesse\", mis koosnevad _andmeväljadest_ (muutujad) ning nendel rakendatavatest _meetoditest_ , ning programmid ehitatakse üles selliste objektide abil. \n",
    "\n",
    "Näiteks, olgu meil tegu lihtsa täringumänguga, kus mängijate eesmärk on saada suurim silmade arv.\n",
    "Võime koondada ühe mängijaga seotud andmed (mängija nimi, vanus, silmade arvud viskekordade kaupa, mitu viset saab veel teha) ühte _objekti_ ning kasutada objekti meetodeid nende andmetega opereerimiseks. \n",
    "Selleks tuleb meil kõigepealt abstraktsel tasemel kirjeldada, millised andmed ja meetodid saadaval on, ehk siis -- luua vastav _klass_ :"
   ]
  },
  {
   "cell_type": "code",
   "execution_count": 55,
   "metadata": {},
   "outputs": [],
   "source": [
    "from random import randint\n",
    "\n",
    "# Täringumängijat kirjeldav klass\n",
    "class Taringumangija:\n",
    "\n",
    "    # Konstruktor: loob uue objekti vastavalt etteantud väärtustele (nimi, vanus)\n",
    "    def __init__(self, nimi, vanus):\n",
    "        # omistame väärtused objektile\n",
    "        self.nimi  = nimi\n",
    "        self.vanus = vanus\n",
    "        # algväärtustame mängu seisu:\n",
    "        self.visked = []        # saadud silmad\n",
    "        self.viskeid_jarel = 3  # mitu viset saab veel teha\n",
    "    \n",
    "    # Mängija teeb ühe täringuviske;\n",
    "    # Jätab meelde saadud silmade arvu ning \n",
    "    # selle, mitu viset on tehtud\n",
    "    def tee_vise(self):\n",
    "        if self.viskeid_jarel > 0:\n",
    "            vise = randint(1, 6)\n",
    "            print(self.nimi, 'viskas', vise)\n",
    "            self.visked.append( vise )\n",
    "            self.viskeid_jarel -= 1  # nüüd on üks vise vähem\n",
    "        else:\n",
    "            print('(!) Rohkem viskeid teha ei saa!')\n",
    "    \n",
    "    # Tagastab mängija silmade summa\n",
    "    def silmade_summa(self):\n",
    "        return sum(self.visked)\n",
    "    \n",
    "    # Tagastab True, kui mängija saab veel teha viskeid,\n",
    "    # vastasel juhul False\n",
    "    def saab_teha_viskeid(self):\n",
    "        return self.viskeid_jarel > 0\n"
   ]
  },
  {
   "cell_type": "markdown",
   "metadata": {},
   "source": [
    "Nüüd ongi meil osa lihtsa täringumängu loogikast koondatud klassi `Taringumangija`.\n",
    "\n",
    "Mängu käivitamiseks tuleb ainult luua mängijad (objektid), panna nad tsüklis täringuviskeid tegema ning lõpuks leida mängu võitja:"
   ]
  },
  {
   "cell_type": "code",
   "execution_count": 56,
   "metadata": {},
   "outputs": [
    {
     "name": "stdout",
     "output_type": "stream",
     "text": [
      "Pille viskas 1\n",
      "Kalle viskas 4\n",
      "Pille viskas 4\n",
      "Kalle viskas 6\n",
      "Pille viskas 4\n",
      "Kalle viskas 3\n",
      "Kalle  võitis!\n"
     ]
    }
   ],
   "source": [
    "# Loome kaks täringumängijat (ehk siis: isendid klassist Taringumangija)\n",
    "mangija1 = Taringumangija('Pille', 31)\n",
    "mangija2 = Taringumangija('Kalle', 33)\n",
    "\n",
    "# Käivitame mängu ja vaatame, kes võidab\n",
    "while mangija1.saab_teha_viskeid() or mangija2.saab_teha_viskeid():  # kuni on võimalik viskeid teha\n",
    "    # Laseme mõlemal mängijal teha täringuviske\n",
    "    mangija1.tee_vise()\n",
    "    mangija2.tee_vise()\n",
    "\n",
    "# Leiame, kes võitis:\n",
    "if mangija1.silmade_summa() > mangija2.silmade_summa():\n",
    "    print(mangija1.nimi,' võitis!')\n",
    "elif mangija1.silmade_summa() < mangija2.silmade_summa():\n",
    "    print(mangija2.nimi,' võitis!')\n",
    "else:\n",
    "    print('Viiki jäi ... (kes seda oleks osanud oodata)')"
   ]
  },
  {
   "cell_type": "markdown",
   "metadata": {},
   "source": [
    "Paljud teegid, mida me siin aines kasutame, on üles ehitatud objektorienteeritud programmeerimist kasutades.\n",
    "Seega, kui te pole varasemates kursustes objektorienteeritusega kokku puutunud, siis on soovitatav end terminoloogia ja algteadmistega kurssi viia. \n",
    "Nt inglisekeelseks sissejuhatuseks teemasse sobivad: [OOP in Python 3](https://realpython.com/python3-object-oriented-programming/) ja [Python Object Oriented](https://www.tutorialspoint.com/python/python_classes_objects.htm); eesti keeles tutvustab Pythoni objektorienteeritud poolt portaali [metshein.com abimaterjal](http://www.metshein.com/unit/python3-klassid-ja-objektid-ulesanne-8)."
   ]
  },
  {
   "cell_type": "markdown",
   "metadata": {},
   "source": [
    "### Kasulikud standardteegid\n"
   ]
  },
  {
   "cell_type": "markdown",
   "metadata": {},
   "source": [
    "#### Regulaaravaldised\n",
    "\n",
    "Tekstitöötluse juures on väga kasulik _regulaaravaldiste teek_ , mille funktsioonid võimaldavad mustrite abil _kontrollida_ ja _otsida_ sõnesid:"
   ]
  },
  {
   "cell_type": "code",
   "execution_count": 57,
   "metadata": {},
   "outputs": [
    {
     "name": "stdout",
     "output_type": "stream",
     "text": [
      "Jah, tõenäoliselt on nimi!\n"
     ]
    }
   ],
   "source": [
    "import re\n",
    "\n",
    "nimi = \"Nipitiri\"\n",
    "# Kontrollime mustrit: suur algustäht, millele järgneb üks või rohkem väiketähte\n",
    "if re.match('[A-ZÖÄÜÕ][a-zöäüõ]+', nimi):\n",
    "    print('Jah, tõenäoliselt on nimi!')"
   ]
  },
  {
   "cell_type": "code",
   "execution_count": 58,
   "metadata": {},
   "outputs": [
    {
     "data": {
      "text/plain": [
       "<re.Match object; span=(10, 22), match='oli Nipitiri'>"
      ]
     },
     "execution_count": 58,
     "metadata": {},
     "output_type": "execute_result"
    }
   ],
   "source": [
    "lause = \"Tema nimi oli Nipitiri\"\n",
    "# Muster: üks või rohkem väiketähte, millele järgneb tühik, millele järgneb\n",
    "# suur algustäht, millele järgneb üks või rohkem väiketähte\n",
    "tulemus = re.search('[a-zöäüõ]+\\s([A-ZÖÄÜÕ][a-zöäüõ]+)', lause)\n",
    "tulemus"
   ]
  },
  {
   "cell_type": "code",
   "execution_count": 59,
   "metadata": {},
   "outputs": [
    {
     "data": {
      "text/plain": [
       "'Nipitiri'"
      ]
     },
     "execution_count": 59,
     "metadata": {},
     "output_type": "execute_result"
    }
   ],
   "source": [
    "# Võtame välja sulgude sees olevale mustrile vastava osa sõnest\n",
    "tulemus.group(1)"
   ]
  },
  {
   "cell_type": "markdown",
   "metadata": {},
   "source": [
    "Lisaks võimaldavad regulaaravaldised hõlpsalt teha ka sõneteisendusi:"
   ]
  },
  {
   "cell_type": "code",
   "execution_count": 60,
   "metadata": {},
   "outputs": [
    {
     "data": {
      "text/plain": [
       "'Ni-ti-pi-ri'"
      ]
     },
     "execution_count": 60,
     "metadata": {},
     "output_type": "execute_result"
    }
   ],
   "source": [
    "nimi = \"Nipitiri\"\n",
    "re.sub('(\\S\\S)(\\S\\S)(\\S\\S)(\\S\\S)', '\\\\1-\\\\3-\\\\2-\\\\4', nimi)"
   ]
  },
  {
   "cell_type": "markdown",
   "metadata": {},
   "source": [
    "Regulaaravaldiste tutvustus aines \"Programmeerimisest maalähedaselt\":\n",
    " * https://courses.cs.ut.ee/2018/progmaa/spring/Main/PARTVIRegulaaravaldis\n",
    "\n",
    "Detailsemalt regulaaravaldiste süntaksi ja metasümbolite kohta vt:\n",
    " * https://docs.python.org/3.8/howto/regex.html#regex-howto\n",
    " * https://docs.python.org/3.8/library/re.html#regular-expression-syntax\n",
    "\n",
    "Regulaaravaldise meetoditest annab ülevaate: \n",
    " * https://docs.python.org/3.8/library/re.html#module-contents"
   ]
  },
  {
   "cell_type": "markdown",
   "metadata": {},
   "source": [
    "#### Loendamine\n",
    "\n",
    "Sõnede loendamist saab teha sõnastiku abil: võtmeteks tuleb võtta sõned ning väärtusteks täisarvud, kus peetakse meeles, mitu korda vastavat sõnet juba loetletud on:"
   ]
  },
  {
   "cell_type": "code",
   "execution_count": 61,
   "metadata": {},
   "outputs": [
    {
     "name": "stdout",
     "output_type": "stream",
     "text": [
      "\"a\" sagedus:  4\n",
      "\"h\" sagedus:  1\n"
     ]
    }
   ],
   "source": [
    "word = \"habemeajaja\"\n",
    "\n",
    "frequencies = {}\n",
    "for character in word:\n",
    "    if character not in frequencies:\n",
    "        frequencies[character] = 1\n",
    "    else:\n",
    "        frequencies[character] += 1\n",
    "\n",
    "print('\"a\" sagedus: ', frequencies['a'])\n",
    "print('\"h\" sagedus: ', frequencies['h'])"
   ]
  },
  {
   "cell_type": "markdown",
   "metadata": {},
   "source": [
    "Alternatiiv (ja mõnevõrra isegi mugavam) on loendamisel kasutada selle jaoks spetsiaalselt loodud klassi `Counter`:"
   ]
  },
  {
   "cell_type": "code",
   "execution_count": 62,
   "metadata": {},
   "outputs": [
    {
     "name": "stdout",
     "output_type": "stream",
     "text": [
      "dict_items([('h', 1), ('a', 4), ('b', 1), ('e', 2), ('m', 1), ('j', 2)])\n",
      "\"a\" sagedus:  4\n",
      "\"n\" sagedus:  0\n"
     ]
    }
   ],
   "source": [
    "# impordime loendamise klassi Counter\n",
    "from collections import Counter\n",
    "\n",
    "word = \"habemeajaja\"\n",
    "# Loome uue loenduri koos listiga, milles tuleb loendus teha:\n",
    "letter_frequencies = Counter( list(word) )\n",
    "\n",
    "print(letter_frequencies.items())                # Loendustulemused ennikutena\n",
    "print('\"a\" sagedus: ', letter_frequencies['a'])\n",
    "print('\"n\" sagedus: ', letter_frequencies['n'])  # Kuigi 'n' puudub, siis veateadet ei tule"
   ]
  },
  {
   "cell_type": "markdown",
   "metadata": {},
   "source": [
    "#### Sõnede vormindamine\n",
    "\n",
    "Teinekord võib olla tarvis vormindada sõnesid, nt lisada süstemaatiliselt tühikuid nii, et sõned oleksid kohakuti või ümardada ujukomaarv enne sõneks konverteerimist _n_ kohta peale koma. Siin tuleb appi meetod `format()`:"
   ]
  },
  {
   "cell_type": "code",
   "execution_count": 63,
   "metadata": {},
   "outputs": [
    {
     "name": "stdout",
     "output_type": "stream",
     "text": [
      "\"    a\"\n",
      "\"a    \"\n"
     ]
    }
   ],
   "source": [
    "# Tühikutega joondamine\n",
    "print( '\"{0:>5s}\"'.format('a') )\n",
    "print( '\"{0:<5s}\"'.format('a') )"
   ]
  },
  {
   "cell_type": "code",
   "execution_count": 64,
   "metadata": {},
   "outputs": [
    {
     "name": "stdout",
     "output_type": "stream",
     "text": [
      "26.39\n"
     ]
    }
   ],
   "source": [
    "# Ümardamine\n",
    "print( '{:.2f}'.format(26.39499659) )"
   ]
  },
  {
   "cell_type": "markdown",
   "metadata": {},
   "source": [
    "Vormindamisel kasutatavatest formaatidest annab hea ülevaate lehekülg [https://pyformat.info](https://pyformat.info)."
   ]
  },
  {
   "cell_type": "markdown",
   "metadata": {},
   "source": [
    "Alates Pythoni versioonist 3.6 on vormindamine veelgi mugavamaks tehtud _f-strings_ abil. \n",
    "Kui sõne ette (enne esimesi jutumärke) lisada `f`, siis muutub see spetsiaalseks formaadisõneks, mille sisse `{` ja `}` vahele võib lisada vormindatavaid väärtuseid, avaldisi või muutujaid:"
   ]
  },
  {
   "cell_type": "code",
   "execution_count": 65,
   "metadata": {},
   "outputs": [
    {
     "name": "stdout",
     "output_type": "stream",
     "text": [
      "\"    a\"\n",
      "\"a    \"\n"
     ]
    }
   ],
   "source": [
    "# Tühikutega joondamine f-strings abil\n",
    "print( f'\"{\"a\":>5s}\"' )\n",
    "print( f'\"{\"a\":<5s}\"' )"
   ]
  },
  {
   "cell_type": "markdown",
   "metadata": {},
   "source": [
    "Sarnaselt meetodile `format()` määratakse vormindamisel kasutatav formaat loogeliste sulgude sees `:` järel."
   ]
  },
  {
   "cell_type": "code",
   "execution_count": 66,
   "metadata": {},
   "outputs": [
    {
     "name": "stdout",
     "output_type": "stream",
     "text": [
      "0.333\n"
     ]
    }
   ],
   "source": [
    "# Avaldise väärtuse ümardamine\n",
    "print( f'{1/3:.3f}')"
   ]
  },
  {
   "cell_type": "code",
   "execution_count": 67,
   "metadata": {},
   "outputs": [
    {
     "name": "stdout",
     "output_type": "stream",
     "text": [
      "26.395\n"
     ]
    }
   ],
   "source": [
    "# Muutuja väärtuse ümardamine\n",
    "arv = 26.39499659\n",
    "print( f'{arv:.3f}')"
   ]
  },
  {
   "cell_type": "markdown",
   "metadata": {},
   "source": [
    "Rohkem infot _f-strings_ vormindamise kohta leiab [siit](https://www.digitalocean.com/community/tutorials/how-to-use-f-strings-to-create-strings-in-python-3)."
   ]
  },
  {
   "cell_type": "markdown",
   "metadata": {},
   "source": [
    "---"
   ]
  },
  {
   "cell_type": "markdown",
   "metadata": {},
   "source": [
    "### Harjutus: sõnaloendi filtreerimine\n",
    "\n",
    "Failis 'sonaloend.txt' on ajalehepealkirjadest pärinevad sõnad, iga sõna eraldi real. Koostage programm, mis loeb seda faili rida-rea haaval ning leiab regulaaravaldise abil läbivalt suurtähelised sõnad (nt ROHKEMAT, KEVADE, KUUSE-TAAT). Programm loendab leitud sõnu ja väljastab loenduse tulemuse."
   ]
  },
  {
   "cell_type": "code",
   "execution_count": null,
   "metadata": {},
   "outputs": [],
   "source": []
  },
  {
   "cell_type": "markdown",
   "metadata": {},
   "source": [
    "<hr>\n",
    "\n",
    "## Ülesanded \n",
    "\n",
    "Järgnevad kodutöö ülesanded. Lahendused palume kirjutada siia samma märkmikufaili ning laadida (koos lisafailidega, kui teil neid tekib) Moodle-sse üles."
   ]
  },
  {
   "cell_type": "markdown",
   "metadata": {},
   "source": [
    "### Ülesanne 1: käsu *conda env list* väljund (1p)\n"
   ]
  },
  {
   "cell_type": "code",
   "execution_count": null,
   "metadata": {
    "nbgrader": {
     "grade": true,
     "grade_id": "p1yl1",
     "locked": false,
     "points": 1,
     "schema_version": 3,
     "solution": true,
     "task": false
    }
   },
   "outputs": [],
   "source": []
  },
  {
   "cell_type": "markdown",
   "metadata": {},
   "source": [
    "### Ülesanne 2: Ei midagi isiklikku (1,5p)"
   ]
  },
  {
   "cell_type": "markdown",
   "metadata": {},
   "source": [
    "Looge programm, mis jagab alltoodud sõne  **`tekst1`** tühikute kohalt sõnadeks, muudab jutumärkide `«` ja `»` vahel oleva teksisisu suuretäheliseks (nt sõnest `«Ristiisa»` saab sõne `«RISTIISA»`), muudab kõik jutumärkidest väljapoole jäävad sõnad läbivalt väiketähelisteks, eemaldab sõnade küljes oleva punktuatsiooni ning kirjutab tulemused uude faili -- selliselt, et failis on iga sõna eraldi real."
   ]
  },
  {
   "cell_type": "code",
   "execution_count": 68,
   "metadata": {
    "nbgrader": {
     "grade": false,
     "grade_id": "p1yl2",
     "locked": true,
     "points": 1.5,
     "schema_version": 3,
     "solution": false,
     "task": true
    }
   },
   "outputs": [],
   "source": [
    "tekst1 = '''Lause «it’s not personal, it’s just business» («ei midagi isiklikku, see on lihtsalt äri») originaal pärineb \n",
    "20. sajandi alguses tegutsenud USA maffia raamatupidajalt Otto Bermanilt. Tuntumaks sai see Mario Puzo romaanis «Ristiisa».'''"
   ]
  },
  {
   "cell_type": "markdown",
   "metadata": {},
   "source": [
    "**Kuidas:**\n",
    "\n",
    "  1) kas üksik sõna algab või lõpeb jutumärkidega: kontrollimiseks võib kasutada nt meetodeid <a href=\"https://docs.python.org/3.8/library/stdtypes.html#str.startswith\">`startswith()`</a> ja <a href=\"https://docs.python.org/3.8/library/stdtypes.html#str.endswith\">`endswith()`</a>;\n",
    "  \n",
    "  2) jutumärkide sees vs jutumärkidest väljas: tehke tsükkel üle kõigi sõnade; igal sammul kontrollige, kas sõna alguses või lõpus on vastav jutumärk, ning kontrolli tulemused paigutage abimuutujasse; vastavalt abimuutuja väärtusele muutke ka sõne ise kas suuretäheliseks või väiketäheliseks;\n",
    "  \n",
    "  3) sõnede muutmine suuretäheliseks: <a href=\"https://docs.python.org/3.8/library/stdtypes.html#str.upper\">`upper()`</a>, väiketäheliseks <a href=\"https://docs.python.org/3.8/library/stdtypes.html#str.lower\">`lower()`</a>;"
   ]
  },
  {
   "cell_type": "markdown",
   "metadata": {
    "nbgrader": {
     "grade": false,
     "grade_id": "p1boonus1",
     "locked": true,
     "points": 0.5,
     "schema_version": 3,
     "solution": false,
     "task": true
    }
   },
   "source": [
    "### Boonusülesanne 1: Alternatiivne lahenduskäik Ülesandele 2 (0,5p)\n",
    "\n",
    "Esitage Ülesandele 2 alternatiivne lahenduskäik, kus jutumärkide `«` ja `»` vahel oleva teksisisu muutmine suuretäheliseks (nt sõnest `«Ristiisa»` sõne `«RISTIISA»` saamine) tehakse regulaaravaldise abil, nt funktsiooni <a href=\"https://docs.python.org/3.8/library/re.html#re.sub\">re.sub()</a> kasutades. Lahendus peab olema üldistav, st ei piisa lahendusest, mis töötab ainult konkreetse sõne **`tekst1`** peal, -- peaks töötama suvalisel sõnel, kus on mingi tekstisisu jutumärkide `«` ja `»` vahel."
   ]
  },
  {
   "cell_type": "markdown",
   "metadata": {},
   "source": [
    "### Ülesanne 3: Tekstianalüüsi funktsioonid (2p)"
   ]
  },
  {
   "cell_type": "markdown",
   "metadata": {},
   "source": [
    "Looge nn sõnestamise funktsioon, mis jagab etteantud sõne tühikute kohalt sõnadeks, eemaldab sõnade küljest kirjavahemärgid ja viib kõik sõnad väikesetähelisele kujule. Funktsioon tagastab töö tulemusena sõnade järjendi. Näide:\n",
    "\n",
    "```python\n",
    ">> tulemus = sonesta('Endised NASA astronaudid Buzz Aldrin, Edgar Mitchell, jpt on öelnud, et tulnukad on olemas.')\n",
    ">> print(tulemus)\n",
    "['endised', 'nasa', 'astronaudid', 'buzz', 'aldrin', 'edgar', 'mitchell', 'jpt', 'on', 'öelnud', 'et', 'tulnukad', 'on', 'olemas']\n",
    "\n",
    "```\n",
    "\n",
    "Looge funktsioon, mis saab sisendiks sõne (teksti), jagab selle sõnadeks ning leiab ja väljastab sõnade kohta järgmise statistika: \n",
    "1. kõigi sõnade arv (sisaldab ka korduvaid sõnu); \n",
    "2. unikaalsete sõnade arv (korduvaid sõnu loetakse vaid üks kord);\n",
    "3. viis kõige sagedasemat sõna tekstis; \n",
    "4. mitu protsenti (kõigist unikaalsetest) sõnadest esineb tekstis vaid 1 kord;\n",
    "\n",
    "Funktsioon peaks ka ära kasutama eelnevalt defineeritud sõnestamise funktsiooni.\n"
   ]
  },
  {
   "cell_type": "markdown",
   "metadata": {},
   "source": [
    "### Ülesanne 4: Sõnavarapõhine tekstide võrdlus (2p)"
   ]
  },
  {
   "cell_type": "markdown",
   "metadata": {},
   "source": [
    "Võrrelge kasutatud sõnavara kolmes eri tekstis ('postimees.txt', 'nihilist.txt', 'telegram.txt'). Leidke:\n",
    "\n",
    "1. Milline on iga teksti: a) sõnade koguarv, b) unikaalsete sõnade arv, c) sagedaste sõnade TOP 5, d) üks kord esinevate sõnade osakaal?\n",
    "\n",
    "2. Millised sõnad esinevad kõigis kolmes tekstis? Väljastage sellised sõnad tähestikuliselt sorteeritud loendina.\n",
    "\n",
    "3. Millises tekstis on kõige enam erinevaid sõnu? Aga kui võtta arvesse ka teksti pikkust?\n",
    "\n",
    "Kasutage lahenduste leidmisel maksimaalselt ära eelmises ülesandes defineeritud funktsioone. \n",
    "\n",
    "**Vihjeid:**\n",
    "\n",
    "  1. lugege sisse failid \"postimees.txt\", \"nihilist.txt\" ja \"telegram.txt\"; NB! Failid on kodeeringus utf-8, \n",
    "     seega sisselugemisel täpsustage, et encoding=\"utf-8\";\n",
    "  2. rakendage eelmise ülesande funktsiooni asjakohase statistika leidmiseks ja väljastamiseks;\n",
    "  3. kasutades eelmise ülesande funktsiooni: tükeldage failid sõnadeks, eemaldage sõnade küljest kirjavahemärgid, viige\n",
    "     väiketähelisele kujule;\n",
    "  4. leidke kõige tekstide sõnade ühisosa; kasutage selleks hulk-andmestruktuure;\n",
    "  5. viimasele küsimusele vastamiseks leidke tekstide pikkused ja unikaalsete sõnade arvud tekstides\n",
    "    "
   ]
  },
  {
   "cell_type": "markdown",
   "metadata": {},
   "source": [
    "### Boonusülesanne 2: Märkmiku export HTML-ina (0,25p)\n",
    "\n",
    "**Exportige märkmik HTML-formaadis, lahenduses esitage nii märkmik kui ka selle .html versioon.**"
   ]
  }
 ],
 "metadata": {
  "anaconda-cloud": {},
  "celltoolbar": "Create Assignment",
  "kernelspec": {
   "display_name": "Python 3 (ipykernel)",
   "language": "python",
   "name": "python3"
  },
  "language_info": {
   "codemirror_mode": {
    "name": "ipython",
    "version": 3
   },
   "file_extension": ".py",
   "mimetype": "text/x-python",
   "name": "python",
   "nbconvert_exporter": "python",
   "pygments_lexer": "ipython3",
   "version": "3.8.13"
  }
 },
 "nbformat": 4,
 "nbformat_minor": 4
}
