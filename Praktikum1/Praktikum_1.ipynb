{
 "cells": [
  {
   "cell_type": "markdown",
   "metadata": {},
   "source": [
    "<h1 style=\"color:blue\">Praktikum 1: Jupyter Notebook ja Pythoni baasteadmiste kordamine</h1>\n"
   ]
  },
  {
   "cell_type": "markdown",
   "metadata": {},
   "source": [
    "Selles praktikumis tutvume _Jupyter Notebook_-iga lähemalt ning ühtlasi kordame üle olulisemad Pythoni baasteadmised. Märkmiku lõpust leiate kodutöö ülesanded.\n",
    "\n",
    "_Lahtrite muutmine_. Kui klikite sellele tekstile, ilmub selle ümber kast. Topeltklikki tehes muutub see lahtriks ning ilmub ka kursor, millega saab teksti muuta. Pärast muutuste tegemist saab klahvikombinatsiooni **Ctrl+Enter** abil \"kuvada muudatused\" ja naasta algolekusse.\n",
    "\n",
    "Sisuliselt ongi igal lahtril kaks olekut -- muutimisolek (_edit mode_) ning käivitamisolek (_command mode_) -- käivitamisolekus saate näha varasemate või äsjaste muutmiste tulemusi ning ühtlasi anda uusi käsklusi."
   ]
  },
  {
   "cell_type": "markdown",
   "metadata": {},
   "source": [
    "### Olekud:\n",
    "\n",
    "**Command mode**: lahter valitud (kastiga ümbritsetud), kursorit pole\n",
    "\n",
    "**Edit mode**: lahter valitud (kastiga ümbritsetud), kursor kastis"
   ]
  },
  {
   "cell_type": "markdown",
   "metadata": {},
   "source": [
    "### Olulisemad käsud, milleta läbi ei saa:\n",
    "\n",
    "**Esc**: _edit mode -> command mode_ \n",
    "\n",
    "**Enter**: _command mode -> edit mode_\n",
    "\n",
    "**Shift+Enter**: jooksutab lahtri ja liigub järgmise juurde\n",
    "\n",
    "**Ctrl+Enter**: jooksutab lahtri ja läheb _command mode_'i"
   ]
  },
  {
   "cell_type": "markdown",
   "metadata": {},
   "source": [
    "\n",
    "### Kiirklahvid _command mode_'is (st kursorit pole lahtris!) \n",
    "\n",
    "**a**: uus lahter üles (_above_)\n",
    "\n",
    "**b**: uus lahter alla (_below_)\n",
    "\n",
    "**dd**: kustuta lahter (_delete_)\n"
   ]
  },
  {
   "cell_type": "markdown",
   "metadata": {},
   "source": [
    "Lahtrid võivad olla erinevat tüüpi. Tüübi nimi on näha üleval rippmenüüs; \"tekstilahtri\" tüübiks on _Markdown_. Tegelikult võimaldab _Markdown_ lisaks tavalisele tekstile sisestada ka vormindatud teksti, kujunduselemente, tabeleid ja pilte (detailsema võimaluste kirjelduse leiab [siit](http://jupyter-notebook.readthedocs.io/en/latest/examples/Notebook/Working%20With%20Markdown%20Cells.html)). \n",
    "\n",
    "Teine oluline lahtritüüp on _Code_ -- sedalaadi lahtrisse saab sisestada Pythoni koodi. Kui olete muutmisrežiimis sinna koodi sisestanud ning vajutate **Ctrl+Enter**, siis käivitatakse kood ning lahtri alla ilmub ka koodi käivitamise tulemus:"
   ]
  },
  {
   "cell_type": "code",
   "execution_count": 1,
   "metadata": {
    "collapsed": false
   },
   "outputs": [
    {
     "name": "stdout",
     "output_type": "stream",
     "text": [
      "5\n"
     ]
    }
   ],
   "source": [
    "print( 3 + 2 )"
   ]
  },
  {
   "cell_type": "markdown",
   "metadata": {},
   "source": [
    "### Lahtri tüüp\n",
    "\n",
    "**Code**: jooksutatud lahter interpreteeritakse Notebooki _kernel_-i poolt (antud juhul: Pythoni poolt)\n",
    "\n",
    "**Markdown**: jooksutatud lahter renderdatakse LaTeX-i, HTML ja Markdown-i mootori poolt\n",
    "\n",
    "**Y**: _command mode_'is lahter muudetakse _code_'i lahtriks\n",
    "\n",
    "**M**: _command mode_'is lahter muudetakse _markdown_'i lahtriks\n",
    "\n",
    "\n",
    "### Tab\n",
    "\n",
    "Soovitab _edit mode_'is muutujaid või lõpetab keelespetsiifilisi _statement_'e (_if, elif, else, with, class_ jne Pythonis)\n",
    "\n",
    "### Space\n",
    "\n",
    "Viib märkmiku lõppu _command mode_'is.\n",
    "\n",
    "#### Rohkem infot kiirklahvide kohta leiate [siit](https://www.cheatography.com/weidadeyue/cheat-sheets/jupyter-notebook/)"
   ]
  },
  {
   "cell_type": "markdown",
   "metadata": {},
   "source": [
    "## Kordamine\n",
    "\n",
    "Selles osas saate põhjalikumalt katsetada Pythoni koodi jooksutamist _Notebook_-is. Eesmärgiks on näidete varal korrata üle Pythoni olulisemad baasteadmised ja tutvustada ka mõnigaid uusi nüansse. Kui vajate põhjalikumat algteadmiste meeldetuletust, siis võite sirvida ka [veebipõhist programmeerimise õpikut](https://courses.cs.ut.ee/MTAT.03.100/2012_fall/uploads/opik/index.html#)."
   ]
  },
  {
   "cell_type": "markdown",
   "metadata": {},
   "source": [
    "### Olulisemad andmestruktuurid\n",
    "#### Sõned\n"
   ]
  },
  {
   "cell_type": "code",
   "execution_count": 2,
   "metadata": {
    "collapsed": true
   },
   "outputs": [],
   "source": [
    "# Loome uue sõne\n",
    "lause1 = 'Mädasoo peremees tuli parajasti heinamaalt, kaks linalakka käekõrval.'"
   ]
  },
  {
   "cell_type": "code",
   "execution_count": 3,
   "metadata": {
    "collapsed": false
   },
   "outputs": [
    {
     "data": {
      "text/plain": [
       "'Mädasoo peremees tuli parajasti heinamaalt, kaks linalakka käekõrval.'"
      ]
     },
     "execution_count": 3,
     "metadata": {},
     "output_type": "execute_result"
    }
   ],
   "source": [
    "lause1"
   ]
  },
  {
   "cell_type": "code",
   "execution_count": 4,
   "metadata": {
    "collapsed": false
   },
   "outputs": [
    {
     "data": {
      "text/plain": [
       "'peremees'"
      ]
     },
     "execution_count": 4,
     "metadata": {},
     "output_type": "execute_result"
    }
   ],
   "source": [
    "# võtame sõnest alamosa\n",
    "lause1[8:16]"
   ]
  },
  {
   "cell_type": "code",
   "execution_count": 5,
   "metadata": {
    "collapsed": false
   },
   "outputs": [
    {
     "data": {
      "text/plain": [
       "['Mädasoo',\n",
       " 'peremees',\n",
       " 'tuli',\n",
       " 'parajasti',\n",
       " 'heinamaalt,',\n",
       " 'kaks',\n",
       " 'linalakka',\n",
       " 'käekõrval.']"
      ]
     },
     "execution_count": 5,
     "metadata": {},
     "output_type": "execute_result"
    }
   ],
   "source": [
    "# jagame sõne tükkideks tühikute kohalt:\n",
    "lause1.split()"
   ]
  },
  {
   "cell_type": "code",
   "execution_count": 6,
   "metadata": {
    "collapsed": true
   },
   "outputs": [],
   "source": [
    "# jagame sõne tükkideks ja paneme tulemused muutujasse\n",
    "lause_jupid = lause1.split()"
   ]
  },
  {
   "cell_type": "code",
   "execution_count": 7,
   "metadata": {
    "collapsed": false
   },
   "outputs": [
    {
     "name": "stdout",
     "output_type": "stream",
     "text": [
      "Mädasoo\n",
      "peremees\n",
      "tuli\n",
      "parajasti\n",
      "heinamaalt\n",
      "kaks\n",
      "linalakka\n",
      "käekõrval\n"
     ]
    }
   ],
   "source": [
    "# teeme tsükli üle sõnede\n",
    "for sona in lause_jupid:\n",
    "    # eemaldame sõna küljest kirjavahemärgid \",\" ja \".\"\n",
    "    sona = sona.strip(\",.\")\n",
    "    # väljastame tulemuse ekraanile\n",
    "    print(sona)"
   ]
  },
  {
   "cell_type": "markdown",
   "metadata": {},
   "source": [
    "Vt ka <a href=\"https://docs.python.org/3.5/library/stdtypes.html#string-methods\">sõne meetodid</a>"
   ]
  },
  {
   "cell_type": "markdown",
   "metadata": {},
   "source": [
    "#### Listid ehk järjendid"
   ]
  },
  {
   "cell_type": "code",
   "execution_count": 8,
   "metadata": {
    "collapsed": true
   },
   "outputs": [],
   "source": [
    "list_a = []\n",
    "list_b = [1,2,3]\n",
    "\n",
    "# lisame listi a uue elemendi\n",
    "list_a.append(0)\n",
    "\n",
    "# moodustame kahe listi põhjal uue listi\n",
    "list_c = list_a + list_b"
   ]
  },
  {
   "cell_type": "code",
   "execution_count": 9,
   "metadata": {
    "collapsed": false
   },
   "outputs": [
    {
     "data": {
      "text/plain": [
       "[0]"
      ]
     },
     "execution_count": 9,
     "metadata": {},
     "output_type": "execute_result"
    }
   ],
   "source": [
    "list_a"
   ]
  },
  {
   "cell_type": "code",
   "execution_count": 10,
   "metadata": {
    "collapsed": false
   },
   "outputs": [
    {
     "data": {
      "text/plain": [
       "[1, 2, 3]"
      ]
     },
     "execution_count": 10,
     "metadata": {},
     "output_type": "execute_result"
    }
   ],
   "source": [
    "list_b"
   ]
  },
  {
   "cell_type": "code",
   "execution_count": 11,
   "metadata": {
    "collapsed": false
   },
   "outputs": [
    {
     "data": {
      "text/plain": [
       "[0, 1, 2, 3]"
      ]
     },
     "execution_count": 11,
     "metadata": {},
     "output_type": "execute_result"
    }
   ],
   "source": [
    "list_c"
   ]
  },
  {
   "cell_type": "code",
   "execution_count": 12,
   "metadata": {
    "collapsed": false
   },
   "outputs": [
    {
     "data": {
      "text/plain": [
       "1"
      ]
     },
     "execution_count": 12,
     "metadata": {},
     "output_type": "execute_result"
    }
   ],
   "source": [
    "# listi b esimene element\n",
    "list_b[0]"
   ]
  },
  {
   "cell_type": "markdown",
   "metadata": {},
   "source": [
    "#### Sõnastikud"
   ]
  },
  {
   "cell_type": "code",
   "execution_count": 13,
   "metadata": {
    "collapsed": true
   },
   "outputs": [],
   "source": [
    "# Tühja sõnastiku loomine\n",
    "sonastik = {}\n",
    "\n",
    "# Eeltäidetud sõnastiku loomine\n",
    "sonastik = {\"Ants\":25, \"Eeva\":23, \"Mihkel\":32, \"Mari\":28 }"
   ]
  },
  {
   "cell_type": "code",
   "execution_count": 14,
   "metadata": {
    "collapsed": true
   },
   "outputs": [],
   "source": [
    "# Uue võtme/väärtuse lisamine sõnastikku\n",
    "sonastik['Kadri']=26"
   ]
  },
  {
   "cell_type": "code",
   "execution_count": 15,
   "metadata": {
    "collapsed": false
   },
   "outputs": [
    {
     "data": {
      "text/plain": [
       "{'Ants': 25, 'Eeva': 23, 'Kadri': 26, 'Mari': 28, 'Mihkel': 32}"
      ]
     },
     "execution_count": 15,
     "metadata": {},
     "output_type": "execute_result"
    }
   ],
   "source": [
    "sonastik"
   ]
  },
  {
   "cell_type": "code",
   "execution_count": 16,
   "metadata": {
    "collapsed": false
   },
   "outputs": [
    {
     "data": {
      "text/plain": [
       "['Eeva', 'Mihkel', 'Ants', 'Mari', 'Kadri']"
      ]
     },
     "execution_count": 16,
     "metadata": {},
     "output_type": "execute_result"
    }
   ],
   "source": [
    "# Sõnastiku kõik võtmed (järjendina)\n",
    "list( sonastik.keys() )"
   ]
  },
  {
   "cell_type": "code",
   "execution_count": 17,
   "metadata": {
    "collapsed": false
   },
   "outputs": [
    {
     "data": {
      "text/plain": [
       "[('Eeva', 23), ('Mihkel', 32), ('Ants', 25), ('Mari', 28), ('Kadri', 26)]"
      ]
     },
     "execution_count": 17,
     "metadata": {},
     "output_type": "execute_result"
    }
   ],
   "source": [
    "# Sõnastiku võti-väärtus paarid (järjendina)\n",
    "list( sonastik.items() ) "
   ]
  },
  {
   "cell_type": "code",
   "execution_count": 18,
   "metadata": {
    "collapsed": false
   },
   "outputs": [
    {
     "data": {
      "text/plain": [
       "True"
      ]
     },
     "execution_count": 18,
     "metadata": {},
     "output_type": "execute_result"
    }
   ],
   "source": [
    "# Kas sõnastik sisaldab võtit 'Mari'?\n",
    "'Mari' in sonastik"
   ]
  },
  {
   "cell_type": "code",
   "execution_count": 19,
   "metadata": {
    "collapsed": false
   },
   "outputs": [
    {
     "data": {
      "text/plain": [
       "False"
      ]
     },
     "execution_count": 19,
     "metadata": {},
     "output_type": "execute_result"
    }
   ],
   "source": [
    "# Kas sõnastik sisaldab võtit 'Mart'?\n",
    "'Mart' in sonastik"
   ]
  },
  {
   "cell_type": "markdown",
   "metadata": {},
   "source": [
    "Sõnastiku meetodite kohta vt lisaks [siit](https://docs.python.org/3.5/library/stdtypes.html#dict)"
   ]
  },
  {
   "cell_type": "markdown",
   "metadata": {},
   "source": [
    "#### Hulgad"
   ]
  },
  {
   "cell_type": "code",
   "execution_count": 20,
   "metadata": {
    "collapsed": true
   },
   "outputs": [],
   "source": [
    "# Uue hulga loomine järjendi põhjal\n",
    "hulk = set( [1, 2, 2, 3, 4, 5, 5, 5, 5, 5, 5, 6, 7, 8] )"
   ]
  },
  {
   "cell_type": "code",
   "execution_count": 21,
   "metadata": {
    "collapsed": false
   },
   "outputs": [
    {
     "data": {
      "text/plain": [
       "{1, 2, 3, 4, 5, 6, 7, 8}"
      ]
     },
     "execution_count": 21,
     "metadata": {},
     "output_type": "execute_result"
    }
   ],
   "source": [
    "hulk"
   ]
  },
  {
   "cell_type": "code",
   "execution_count": 22,
   "metadata": {
    "collapsed": true
   },
   "outputs": [],
   "source": [
    "# Uue elemendi lisamine hulka\n",
    "hulk.add(0)"
   ]
  },
  {
   "cell_type": "code",
   "execution_count": 23,
   "metadata": {
    "collapsed": false
   },
   "outputs": [
    {
     "data": {
      "text/plain": [
       "{0, 1, 2, 3, 4, 5, 6, 7, 8}"
      ]
     },
     "execution_count": 23,
     "metadata": {},
     "output_type": "execute_result"
    }
   ],
   "source": [
    "hulk"
   ]
  },
  {
   "cell_type": "code",
   "execution_count": 24,
   "metadata": {
    "collapsed": false
   },
   "outputs": [
    {
     "data": {
      "text/plain": [
       "False"
      ]
     },
     "execution_count": 24,
     "metadata": {},
     "output_type": "execute_result"
    }
   ],
   "source": [
    "# Kas hulk sisaldab väärtust 9?\n",
    "9 in hulk"
   ]
  },
  {
   "cell_type": "markdown",
   "metadata": {},
   "source": [
    "Hulga meetodite kohta vt lisaks [siit](https://docs.python.org/3.5/library/stdtypes.html#set)"
   ]
  },
  {
   "cell_type": "markdown",
   "metadata": {},
   "source": [
    "### Tingimuslaused"
   ]
  },
  {
   "cell_type": "code",
   "execution_count": 25,
   "metadata": {
    "collapsed": false
   },
   "outputs": [
    {
     "name": "stdout",
     "output_type": "stream",
     "text": [
      "Siin me oleme\n"
     ]
    }
   ],
   "source": [
    "if 6 in [1, 2, 3, 4, 5, 5, 5]  or  1 != 2 and sum([1,5,3])/3 < sum([2,4,1])/3:\n",
    "    print(\"Kas siia jõutakse?\")\n",
    "elif True and True and False or not True:\n",
    "    print('Ebaloogiline!')\n",
    "else:\n",
    "    print('Siin me oleme')"
   ]
  },
  {
   "cell_type": "code",
   "execution_count": 26,
   "metadata": {
    "collapsed": false
   },
   "outputs": [
    {
     "data": {
      "text/plain": [
       "'a'"
      ]
     },
     "execution_count": 26,
     "metadata": {},
     "output_type": "execute_result"
    }
   ],
   "source": [
    "# Tingimusega muutuja väärtuse seadmine\n",
    "a = \"a\" if True else \"b\"\n",
    "a"
   ]
  },
  {
   "cell_type": "markdown",
   "metadata": {},
   "source": [
    "Vajadusel vt ka tingimuslausete osa [programmeerimise õpikus](https://courses.cs.ut.ee/MTAT.03.100/2012_fall/uploads/opik/06_tingimuslaused.html#bool-ja-tingimuslaused)"
   ]
  },
  {
   "cell_type": "markdown",
   "metadata": {},
   "source": [
    "### Tsüklid"
   ]
  },
  {
   "cell_type": "code",
   "execution_count": 27,
   "metadata": {
    "collapsed": false
   },
   "outputs": [
    {
     "name": "stdout",
     "output_type": "stream",
     "text": [
      "0 1 2 3 4 "
     ]
    }
   ],
   "source": [
    "i = 0\n",
    "while i < 5:\n",
    "    print(i, end=' ')\n",
    "    i += 1"
   ]
  },
  {
   "cell_type": "code",
   "execution_count": 28,
   "metadata": {
    "collapsed": false
   },
   "outputs": [
    {
     "name": "stdout",
     "output_type": "stream",
     "text": [
      "0 1 2 3 4 5 6 7 8 9 "
     ]
    }
   ],
   "source": [
    "for i in range(10):\n",
    "    print(i, end=' ')"
   ]
  },
  {
   "cell_type": "code",
   "execution_count": 29,
   "metadata": {
    "collapsed": false
   },
   "outputs": [
    {
     "name": "stdout",
     "output_type": "stream",
     "text": [
      "Mädasoo\n",
      "talu\n",
      "peremees\n",
      "võttis\n",
      "uue\n",
      "koera\n"
     ]
    }
   ],
   "source": [
    "lause = 'Mädasoo talu peremees võttis uue koera'\n",
    "sonestatud_lause = lause.split()\n",
    "for sona in sonestatud_lause:\n",
    "    print(sona)"
   ]
  },
  {
   "cell_type": "markdown",
   "metadata": {},
   "source": [
    "Mõnikord on tarvis listi läbides kontrollida ka vaadeldava elemendi indeksit. Siin tuleb appi standardfunktsioon _enumerate_:"
   ]
  },
  {
   "cell_type": "code",
   "execution_count": 30,
   "metadata": {
    "collapsed": false
   },
   "outputs": [
    {
     "name": "stdout",
     "output_type": "stream",
     "text": [
      "Mädasoo talu peremees võttis uue koera .\n"
     ]
    }
   ],
   "source": [
    "for indeks, sona in enumerate( sonestatud_lause ):\n",
    "    print(sona, end = ' ')\n",
    "    if indeks == len(sonestatud_lause) - 1: \n",
    "        # lauselõpp: lisame punkti\n",
    "        print('.')"
   ]
  },
  {
   "cell_type": "markdown",
   "metadata": {},
   "source": [
    "Järjendi loomise tsükli saab ka \"kokku pakkida\" üherealiseks koodilõiguks:"
   ]
  },
  {
   "cell_type": "code",
   "execution_count": 31,
   "metadata": {
    "collapsed": false
   },
   "outputs": [
    {
     "data": {
      "text/plain": [
       "[0, 1, 2, 3, 4, 5, 6, 7, 8, 9]"
      ]
     },
     "execution_count": 31,
     "metadata": {},
     "output_type": "execute_result"
    }
   ],
   "source": [
    "arvud1 = [x for x in range(10)]\n",
    "arvud1"
   ]
  },
  {
   "cell_type": "markdown",
   "metadata": {},
   "source": [
    "ning sellele tsüklile võib lisada tingimusi:"
   ]
  },
  {
   "cell_type": "code",
   "execution_count": 32,
   "metadata": {
    "collapsed": false
   },
   "outputs": [
    {
     "data": {
      "text/plain": [
       "[3, 4, 5]"
      ]
     },
     "execution_count": 32,
     "metadata": {},
     "output_type": "execute_result"
    }
   ],
   "source": [
    "arvud2 = [x for x in range(10) if x <= 5 and x > 2]\n",
    "arvud2"
   ]
  },
  {
   "cell_type": "markdown",
   "metadata": {},
   "source": [
    "### Mitmemõõtmelised andmestruktuurid\n",
    "\n",
    "Andmestruktuurid võivad olla _mitmemõõtmelised_, nt ühe järjendi elementideks võivad olla teised järjendid ning ühe sõnastiku väärtusteks võivad omakorda olla teised sõnastikud."
   ]
  },
  {
   "cell_type": "code",
   "execution_count": 33,
   "metadata": {
    "collapsed": true
   },
   "outputs": [],
   "source": [
    "topeltjarjend = [ [1, 2, 3], [4] ]"
   ]
  },
  {
   "cell_type": "code",
   "execution_count": 34,
   "metadata": {
    "collapsed": true
   },
   "outputs": [],
   "source": [
    "topeltjarjend.append( [5, 6] )"
   ]
  },
  {
   "cell_type": "code",
   "execution_count": 35,
   "metadata": {
    "collapsed": false
   },
   "outputs": [
    {
     "name": "stdout",
     "output_type": "stream",
     "text": [
      "1 2 3 \n",
      "4 \n",
      "5 6 \n"
     ]
    }
   ],
   "source": [
    "# topeltjärjendi läbimiseks kasutame kahekordset tsüklit:\n",
    "for alamjarjend in topeltjarjend:\n",
    "    for element in alamjarjend:\n",
    "        print(element, end=' ')\n",
    "    print()"
   ]
  },
  {
   "cell_type": "markdown",
   "metadata": {},
   "source": [
    "Praktikas tuleb sageli ette, et üks andmeühik peab talletama rohkem kui ühe arvu või sõne. Nt kui on tegemist isikuid kirjeldavate andmetega, siis võib olla tarvis hoida mälus lisaks isiku nimele ka tema vanust, sugu, elukohta jms. Sellisel juhul on mugav kasutada kahemõõtmelist sõnastikku:"
   ]
  },
  {
   "cell_type": "code",
   "execution_count": 36,
   "metadata": {
    "collapsed": true
   },
   "outputs": [],
   "source": [
    "# Kahemõõtmelise sõnastiku loomine\n",
    "isikud = { \"Ants\":   { 'sugu':'M', 'vanus': 25, 'elukoht': 'Tartu'},\n",
    "           \"Eeva\":   { 'sugu':'N', 'vanus': 23, 'elukoht': 'Tallinn'},\n",
    "           \"Mihkel\": { 'sugu':'M', 'vanus': 32, 'elukoht': 'Loksa'}, \n",
    "           \"Mari\":   { 'sugu':'N', 'vanus': 28, 'elukoht': 'Kuala Lumpur'} }"
   ]
  },
  {
   "cell_type": "code",
   "execution_count": 37,
   "metadata": {
    "collapsed": false
   },
   "outputs": [
    {
     "data": {
      "text/plain": [
       "'M'"
      ]
     },
     "execution_count": 37,
     "metadata": {},
     "output_type": "execute_result"
    }
   ],
   "source": [
    "isikud['Ants']['sugu']"
   ]
  },
  {
   "cell_type": "code",
   "execution_count": 38,
   "metadata": {
    "collapsed": false
   },
   "outputs": [
    {
     "data": {
      "text/plain": [
       "32"
      ]
     },
     "execution_count": 38,
     "metadata": {},
     "output_type": "execute_result"
    }
   ],
   "source": [
    "isikud['Mihkel']['vanus']"
   ]
  },
  {
   "cell_type": "code",
   "execution_count": 39,
   "metadata": {
    "collapsed": false
   },
   "outputs": [
    {
     "data": {
      "text/plain": [
       "'Kuala Lumpur'"
      ]
     },
     "execution_count": 39,
     "metadata": {},
     "output_type": "execute_result"
    }
   ],
   "source": [
    "isikud['Mari']['elukoht']"
   ]
  },
  {
   "cell_type": "markdown",
   "metadata": {},
   "source": [
    "Andmestruktuuride muutmisel mitmemõõtmeliseks on võimalik ka kombineerida erinevaid struktuure, nt sõnastiku väärtusteks võivad olla järjendid:"
   ]
  },
  {
   "cell_type": "code",
   "execution_count": 40,
   "metadata": {
    "collapsed": true
   },
   "outputs": [],
   "source": [
    "# Sõnastik, mille väärtusteks on järjendid (nt mängijate täringuvisked)\n",
    "taringuvisked = { \"Ants\":   [ 1, 5, 3 ],\n",
    "                  \"Eeva\":   [ 5, 5, 2 ],\n",
    "                  \"Mihkel\": [ 6, 6, 6 ], \n",
    "                  \"Mari\":   [ 2, 4, 1 ] }"
   ]
  },
  {
   "cell_type": "code",
   "execution_count": 41,
   "metadata": {
    "collapsed": false
   },
   "outputs": [
    {
     "name": "stdout",
     "output_type": "stream",
     "text": [
      "Eeva, täringuvisked: [5, 5, 2] , silmade summa: 12\n",
      "Mihkel, täringuvisked: [6, 6, 6] , silmade summa: 18\n",
      "Ants, täringuvisked: [1, 5, 3] , silmade summa: 9\n",
      "Mari, täringuvisked: [2, 4, 1] , silmade summa: 7\n"
     ]
    }
   ],
   "source": [
    "# Kuvame silmad täringuvisete kaupa + silmade summa\n",
    "for nimi in taringuvisked:\n",
    "    print(nimi+', täringuvisked:', taringuvisked[nimi], ', silmade summa:', sum(taringuvisked[nimi]))"
   ]
  },
  {
   "cell_type": "markdown",
   "metadata": {},
   "source": [
    "#### Mitme muutuja seadmine"
   ]
  },
  {
   "cell_type": "code",
   "execution_count": 42,
   "metadata": {
    "collapsed": false
   },
   "outputs": [
    {
     "data": {
      "text/plain": [
       "4"
      ]
     },
     "execution_count": 42,
     "metadata": {},
     "output_type": "execute_result"
    }
   ],
   "source": [
    "# loome iga järjendi elemendi kohta uue muutuja:\n",
    "vise1, vise2, vise3 = taringuvisked['Ants']\n",
    "\n",
    "vise1 + vise3"
   ]
  },
  {
   "cell_type": "markdown",
   "metadata": {},
   "source": [
    "### Funktsioonid"
   ]
  },
  {
   "cell_type": "code",
   "execution_count": 43,
   "metadata": {
    "collapsed": true
   },
   "outputs": [],
   "source": [
    "def isikunimi(eesnimi, perekonnanimi,                    # kohustuslikud argumendid\n",
    "              kesknimi = \"\", initsiaalidena = False):    # valikulised argumendid\n",
    "    if initsiaalidena:\n",
    "        if len(kesknimi) > 0:\n",
    "            kesknimi = kesknimi[0]+'. '\n",
    "        return eesnimi[0]+'. '+kesknimi+perekonnanimi\n",
    "    else:\n",
    "        if len(kesknimi) > 0:\n",
    "            kesknimi = kesknimi+' '\n",
    "        return eesnimi+' '+kesknimi+perekonnanimi"
   ]
  },
  {
   "cell_type": "code",
   "execution_count": 44,
   "metadata": {
    "collapsed": false
   },
   "outputs": [
    {
     "data": {
      "text/plain": [
       "'Anton Tammsaare'"
      ]
     },
     "execution_count": 44,
     "metadata": {},
     "output_type": "execute_result"
    }
   ],
   "source": [
    "isikunimi('Anton', 'Tammsaare')"
   ]
  },
  {
   "cell_type": "code",
   "execution_count": 45,
   "metadata": {
    "collapsed": false
   },
   "outputs": [
    {
     "data": {
      "text/plain": [
       "'A. H. Tammsaare'"
      ]
     },
     "execution_count": 45,
     "metadata": {},
     "output_type": "execute_result"
    }
   ],
   "source": [
    "isikunimi('Anton', 'Tammsaare', kesknimi = \"Hansen\", initsiaalidena = True)"
   ]
  },
  {
   "cell_type": "markdown",
   "metadata": {},
   "source": [
    "Käsu _lambda_ abil on võimalik luua \"minifunktsioon\", kus kogu funktsiooni sisu (nt mingid arvutustehted) on ära mahutatud ühele definitsioonireale. Selline funktsioon koosneb ainult argumentidest (vasakul pool koolonit) ning tagastatavast väärtusest (paremal pool koolonit). Näide:"
   ]
  },
  {
   "cell_type": "code",
   "execution_count": 46,
   "metadata": {
    "collapsed": false
   },
   "outputs": [
    {
     "data": {
      "text/plain": [
       "(4, 5, 6)"
      ]
     },
     "execution_count": 46,
     "metadata": {},
     "output_type": "execute_result"
    }
   ],
   "source": [
    "jarjestikku_taisarvud = lambda x : (x-1, x, x+1)\n",
    "\n",
    "jarjestikku_taisarvud(5)"
   ]
  },
  {
   "cell_type": "markdown",
   "metadata": {},
   "source": [
    "### Importimine"
   ]
  },
  {
   "cell_type": "code",
   "execution_count": 47,
   "metadata": {
    "collapsed": false
   },
   "outputs": [
    {
     "data": {
      "text/plain": [
       "3.0"
      ]
     },
     "execution_count": 47,
     "metadata": {},
     "output_type": "execute_result"
    }
   ],
   "source": [
    "# impordime standardteegist math ruutjuure funktsiooni\n",
    "from math import sqrt\n",
    "\n",
    "# funktsiooni väljakutsumiseks piisab funktsiooninimest\n",
    "sqrt(9)"
   ]
  },
  {
   "cell_type": "code",
   "execution_count": 48,
   "metadata": {
    "collapsed": false
   },
   "outputs": [
    {
     "data": {
      "text/plain": [
       "3"
      ]
     },
     "execution_count": 48,
     "metadata": {},
     "output_type": "execute_result"
    }
   ],
   "source": [
    "# impordime juhuarvude genereerimise teegi\n",
    "import random\n",
    "\n",
    "# kasutame funktsiooni randint() täringuviske genereerimiseks;\n",
    "# väljakutsumisel tuleb lisaks kasutada ka mooduli nime:\n",
    "random.randint(1,6)"
   ]
  },
  {
   "cell_type": "markdown",
   "metadata": {},
   "source": [
    "Kui püüate importida teeki, mida pole Pythoni standardteekide seas ning mida pole ka juurde installitud, siis saate importimisel veateate:"
   ]
  },
  {
   "cell_type": "code",
   "execution_count": 49,
   "metadata": {
    "collapsed": false
   },
   "outputs": [
    {
     "ename": "ImportError",
     "evalue": "No module named 'pygame'",
     "output_type": "error",
     "traceback": [
      "\u001b[0;31m---------------------------------------------------------------------------\u001b[0m",
      "\u001b[0;31mImportError\u001b[0m                               Traceback (most recent call last)",
      "\u001b[0;32m<ipython-input-49-00563838ef84>\u001b[0m in \u001b[0;36m<module>\u001b[0;34m()\u001b[0m\n\u001b[1;32m      1\u001b[0m \u001b[1;31m# proovime importida teeki pygame\u001b[0m\u001b[1;33m\u001b[0m\u001b[1;33m\u001b[0m\u001b[0m\n\u001b[0;32m----> 2\u001b[0;31m \u001b[1;32mimport\u001b[0m \u001b[0mpygame\u001b[0m\u001b[1;33m\u001b[0m\u001b[0m\n\u001b[0m",
      "\u001b[0;31mImportError\u001b[0m: No module named 'pygame'"
     ]
    }
   ],
   "source": [
    "# proovime importida teeki pygame\n",
    "import pygame"
   ]
  },
  {
   "cell_type": "markdown",
   "metadata": {},
   "source": [
    "Puuduva teegi installimiseks on erinevaid võimalusi. Kui teek on olemas Anaconda lisapakettide seas, saab seda installida nii, et valite menüüst _Kernel_ => _Conda Packages_, misjärel ilmub pakettide aken, mille vasakust alamaknast saate installitava paketi valida. Tavaliselt tuleb aga installimine läbi viia siiski väljaspool _Jupyter Notebook_'i, käsurea käskude _conda install_ või _pip install_ abil. "
   ]
  },
  {
   "cell_type": "markdown",
   "metadata": {},
   "source": [
    "### Operatsioonid failidega\n",
    "\n",
    "#### Faili avamine ja lugemine\n",
    "\n",
    "Traditsiooniline viis faili avamiseks:"
   ]
  },
  {
   "cell_type": "code",
   "execution_count": 50,
   "metadata": {
    "collapsed": false
   },
   "outputs": [
    {
     "name": "stdout",
     "output_type": "stream",
     "text": [
      "Nothing personal, it ...\n"
     ]
    }
   ],
   "source": [
    "f = open('postimees.txt', 'r')  # avame faili lugemiseks\n",
    "\n",
    "# loeme faili sisu \n",
    "sisu = f.read()\n",
    "print( sisu[:20], '...')\n",
    "\n",
    "f.close() # sulgeme faili"
   ]
  },
  {
   "cell_type": "markdown",
   "metadata": {},
   "source": [
    "Ülaltoodud viisil faili avades on oluline meeles pidada, et fail tuleb alati ka sulgeda. \n",
    "\n",
    "Kui faili sulgemine meeles pole, on soovitav kasutada _with_-põhist faili avamist. Sellisel viisil toimub faili sulgemine automaatselt ning _close()_ käsku polegi tarvis:"
   ]
  },
  {
   "cell_type": "code",
   "execution_count": 51,
   "metadata": {
    "collapsed": false
   },
   "outputs": [
    {
     "name": "stdout",
     "output_type": "stream",
     "text": [
      "Nothing personal, itā€™s just politics*8 2. september 2016 22:33\n",
      "\n"
     ]
    }
   ],
   "source": [
    "with open('postimees.txt', 'r') as f:\n",
    "    # loeme faili sisu \n",
    "    sisu = f.readlines()\n",
    "    print( sisu[0] )\n",
    "\n",
    "# kui väljume with'i skoobist, siis suletakse fail automaatselt"
   ]
  },
  {
   "cell_type": "markdown",
   "metadata": {},
   "source": [
    "#### Faili kirjutamine"
   ]
  },
  {
   "cell_type": "markdown",
   "metadata": {},
   "source": [
    "Faili kirjutamiseks muudame _open_-käsu teist argumenti: _'w'_ abil avame kirjutamiseks uue tühja faili (või kustutame olemasoleva faili sisu enne kirjutamist) ning argument _'a'_ abil avame kirjutamiseks olemasoleva faili ning asume kirjutama selle lõppu."
   ]
  },
  {
   "cell_type": "code",
   "execution_count": 52,
   "metadata": {
    "collapsed": true
   },
   "outputs": [],
   "source": [
    "lause = 'Mädasoo talu peremees tegi uue Pythoni klassi'\n",
    "with open('madasoo.txt', 'w') as f:\n",
    "    f.write( lause )"
   ]
  },
  {
   "cell_type": "markdown",
   "metadata": {},
   "source": [
    "* _Märkus_: Mõnes Windows'i versioonis võib eelneva koodilõigu jooksutamisel tekkida kodeeringuviga, kuna faili kirjutatav tekst sisaldab täpitähte. Sellisel juhul palun lisage `open` käsule argument `encoding=\"utf8\"`."
   ]
  },
  {
   "cell_type": "markdown",
   "metadata": {},
   "source": [
    "### Klassid ja objektid\n",
    "\n",
    "Kui andmete struktuur muutub keerukamaks, siis on sageli mõttekas koondada üheks tervikuks mingit tüüpi andmed ja nendega opereerivad funktsioonid. [Objektorienteeritud programmeerimise paradigma](https://et.wikipedia.org/wiki/Objektorienteeritud_programmeerimine) järgi \"kapseldataksegi\" andmed \"objektidesse\", mis koosnevad _andmeväljadest_ (muutujad) ning nendel rakendatavatest _meetoditest_, ning programmid ehitatakse üles selliste objektide abil. \n",
    "\n",
    "Näiteks, kui meil on tegu täringumänguga, siis võime koondada ühe mängijaga seotud andmed (mängija nimi, vanus, silmade arvud viskekordade kaupa, mitu viset saab veel teha) ühte _objekti_ ning kasutada objekti meetodeid nende andmetega opereerimiseks. Selleks tuleb meil kõigepealt abstraktsel tasemel kirjeldada, millised andmed ja meetodid saadaval on, ehk siis luua vastav _klass_:"
   ]
  },
  {
   "cell_type": "code",
   "execution_count": 53,
   "metadata": {
    "collapsed": true
   },
   "outputs": [],
   "source": [
    "from random import randint\n",
    "\n",
    "# Täringumängijat kirjeldav klass\n",
    "class Taringumangija:\n",
    "\n",
    "    # Konstruktor: loob uue objekti vastavalt etteantud väärtustele (nimi, vanus)\n",
    "    def __init__(self, nimi, vanus):\n",
    "        # omistame väärtused objektile\n",
    "        self.nimi  = nimi\n",
    "        self.vanus = vanus\n",
    "        # algväärtustame mängu seisu:\n",
    "        self.visked = []        # saadud silmad\n",
    "        self.viskeid_jarel = 3  # mitu viset saab veel teha\n",
    "    \n",
    "    # Mängija teeb ühe täringuviske;\n",
    "    # Jätab meelde saadud silmade arvu ning \n",
    "    # selle, mitu viset on tehtud\n",
    "    def tee_vise(self):\n",
    "        if self.viskeid_jarel > 0:\n",
    "            vise = randint(1, 6)\n",
    "            print(self.nimi, 'viskas', vise)\n",
    "            self.visked.append( vise )\n",
    "            self.viskeid_jarel -= 1  # nüüd on üks vise vähem\n",
    "        else:\n",
    "            print('(!) Rohkem viskeid teha ei saa!')\n",
    "    \n",
    "    # Tagastab mängija silmade summa\n",
    "    def silmade_summa(self):\n",
    "        return sum(self.visked)\n",
    "    \n",
    "    # Tagastab True, kui mängija saab veel teha viskeid,\n",
    "    # vastasel juhul False\n",
    "    def saab_teha_viskeid(self):\n",
    "        return self.viskeid_jarel > 0\n"
   ]
  },
  {
   "cell_type": "markdown",
   "metadata": {},
   "source": [
    "Nüüd ongi meil osa lihtsa täringumängu loogikast koondatud klassi `Taringumangija`.\n",
    "\n",
    "Mängu käivitamiseks tuleb ainult luua mängijad (objektid), panna nad tsüklis täringuviskeid tegema ning lõpuks leida mängu võitja:"
   ]
  },
  {
   "cell_type": "code",
   "execution_count": 54,
   "metadata": {
    "collapsed": false
   },
   "outputs": [
    {
     "name": "stdout",
     "output_type": "stream",
     "text": [
      "Pille viskas 6\n",
      "Kalle viskas 5\n",
      "Pille viskas 3\n",
      "Kalle viskas 3\n",
      "Pille viskas 1\n",
      "Kalle viskas 6\n",
      "Kalle  võitis!\n"
     ]
    }
   ],
   "source": [
    "# Loome kaks täringumängijat (ehk siis: isendid klassist Taringumangija)\n",
    "mangija1 = Taringumangija('Pille', 31)\n",
    "mangija2 = Taringumangija('Kalle', 33)\n",
    "\n",
    "# Käivitame mängu ja vaatame, kes võidab\n",
    "while mangija1.saab_teha_viskeid() or mangija2.saab_teha_viskeid():  # kuni on võimalik viskeid teha\n",
    "    # Laseme mõlemal mängijal teha täringuviske\n",
    "    mangija1.tee_vise()\n",
    "    mangija2.tee_vise()\n",
    "\n",
    "# Leiame, kes võitis:\n",
    "if mangija1.silmade_summa() > mangija2.silmade_summa():\n",
    "    print(mangija1.nimi,' võitis!')\n",
    "elif mangija1.silmade_summa() < mangija2.silmade_summa():\n",
    "    print(mangija2.nimi,' võitis!')\n",
    "else:\n",
    "    print('Viiki jäi ... (kes seda oleks osanud oodata)')"
   ]
  },
  {
   "cell_type": "markdown",
   "metadata": {},
   "source": [
    "Käesolevas aines ei nõuta otseselt objektorienteeritud programmeerimise võtete kasutamist, samas peaksite edaspidi ikkagi ära tundma ja aru saama Pythoni koodist, kus on sellist lähenemist on kasutatud (see on oluline paljude teekide kasutamisel). Seega, kui te pole varasemates kursustes objektorienteeritusega kokku puutunud, siis on soovitav uurida netist vastavaid abimaterjale, nt sissejuhatuseks ja inglisekeelse terminoloogiaga tutvumiseks sobib [Python Object Oriented](https://www.tutorialspoint.com/python/python_classes_objects.htm) ning eesti keeles tutvustab Pythoni objektorienteeritud poolt portaali [metshein.com abimaterjal](http://www.metshein.com/unit/python3-klassid-ja-objektid-ulesanne-8) ning  [Inga Petuhhovi koostatud abimaterjal](http://www.cs.tlu.ee/~inga/alg_andm/Python_ja_klassid_09.pdf)."
   ]
  },
  {
   "cell_type": "markdown",
   "metadata": {},
   "source": [
    "### Kasulikud standardteegid\n"
   ]
  },
  {
   "cell_type": "markdown",
   "metadata": {},
   "source": [
    "#### Regulaaravaldised"
   ]
  },
  {
   "cell_type": "code",
   "execution_count": 55,
   "metadata": {
    "collapsed": false
   },
   "outputs": [
    {
     "name": "stdout",
     "output_type": "stream",
     "text": [
      "Jah, tõenäoliselt on nimi!\n"
     ]
    }
   ],
   "source": [
    "import re\n",
    "\n",
    "nimi = \"Nipitiri\"\n",
    "if re.match('[A-ZÖÄÜÕ][a-zöäüõ]+', nimi):\n",
    "    print('Jah, tõenäoliselt on nimi!')"
   ]
  },
  {
   "cell_type": "code",
   "execution_count": 56,
   "metadata": {
    "collapsed": false
   },
   "outputs": [
    {
     "data": {
      "text/plain": [
       "'Ni-ti-pi-ri'"
      ]
     },
     "execution_count": 56,
     "metadata": {},
     "output_type": "execute_result"
    }
   ],
   "source": [
    "re.sub('(\\S\\S)(\\S\\S)(\\S\\S)(\\S\\S)', '\\\\1-\\\\3-\\\\2-\\\\4', nimi)"
   ]
  },
  {
   "cell_type": "code",
   "execution_count": 57,
   "metadata": {
    "collapsed": false
   },
   "outputs": [
    {
     "data": {
      "text/plain": [
       "<_sre.SRE_Match object; span=(10, 22), match='oli Nipitiri'>"
      ]
     },
     "execution_count": 57,
     "metadata": {},
     "output_type": "execute_result"
    }
   ],
   "source": [
    "lause = \"Tema nimi oli Nipitiri\"\n",
    "tulemus = re.search('[a-zöäüõ]+\\s([A-ZÖÄÜÕ][a-zöäüõ]+)', lause)\n",
    "tulemus"
   ]
  },
  {
   "cell_type": "code",
   "execution_count": 58,
   "metadata": {
    "collapsed": false
   },
   "outputs": [
    {
     "data": {
      "text/plain": [
       "'Nipitiri'"
      ]
     },
     "execution_count": 58,
     "metadata": {},
     "output_type": "execute_result"
    }
   ],
   "source": [
    "tulemus.group(1)"
   ]
  },
  {
   "cell_type": "markdown",
   "metadata": {},
   "source": [
    "Meeldetuletuseks regulaaravaldiste süntaksi ja metasümbolite kohta vt:\n",
    " * https://docs.python.org/3.5/howto/regex.html#regex-howto\n",
    " * https://docs.python.org/3.5/library/re.html#regular-expression-syntax\n",
    "\n",
    "Regulaaravaldise meetoditest annab ülevaate: \n",
    " * https://docs.python.org/3.5/library/re.html#module-contents"
   ]
  },
  {
   "cell_type": "markdown",
   "metadata": {},
   "source": [
    "#### Loendamine\n",
    "\n",
    "Sõnede loendamist saab teha sõnastiku abil: võtmeteks tuleb võtta sõned ning väärtusteks täisarvud, kus peetakse meeles, mitu korda vastavat sõnet juba loetletud on:"
   ]
  },
  {
   "cell_type": "code",
   "execution_count": 59,
   "metadata": {
    "collapsed": false
   },
   "outputs": [
    {
     "name": "stdout",
     "output_type": "stream",
     "text": [
      "\"a\" sagedus:  4\n",
      "\"h\" sagedus:  1\n"
     ]
    }
   ],
   "source": [
    "word = \"habemeajaja\"\n",
    "\n",
    "frequencies = {}\n",
    "for character in word:\n",
    "    if character not in frequencies:\n",
    "        frequencies[character] = 1\n",
    "    else:\n",
    "        frequencies[character] += 1\n",
    "\n",
    "print('\"a\" sagedus: ', frequencies['a'])\n",
    "print('\"h\" sagedus: ', frequencies['h'])"
   ]
  },
  {
   "cell_type": "markdown",
   "metadata": {},
   "source": [
    "Alternatiiv (ja mõnevõrra isegi mugavam) on loendamisel kasutada selle jaoks spetsiaalselt loodud klassi `Counter`:"
   ]
  },
  {
   "cell_type": "code",
   "execution_count": 60,
   "metadata": {
    "collapsed": false
   },
   "outputs": [
    {
     "name": "stdout",
     "output_type": "stream",
     "text": [
      "dict_items([('e', 2), ('b', 1), ('j', 2), ('a', 4), ('h', 1), ('m', 1)])\n",
      "\"a\" sagedus:  4\n",
      "\"n\" sagedus:  0\n"
     ]
    }
   ],
   "source": [
    "# impordime loendamise klassi Counter\n",
    "from collections import Counter\n",
    "\n",
    "word = \"habemeajaja\"\n",
    "# Loome uue loenduri koos listiga, milles tuleb loendus teha:\n",
    "letter_frequencies = Counter( list(word) )\n",
    "\n",
    "print(letter_frequencies.items())                # Loendustulemused ennikutena\n",
    "print('\"a\" sagedus: ', letter_frequencies['a'])\n",
    "print('\"n\" sagedus: ', letter_frequencies['n'])  # Kuigi 'n' puudub, siis veateadet ei tule"
   ]
  },
  {
   "cell_type": "markdown",
   "metadata": {},
   "source": [
    "#### Sõnede vormindamine\n",
    "\n",
    "Teinekord võib olla tarvis vormindada sõnesid, nt lisada süstemaatiliselt tühikuid nii, et sõned oleksid kohakuti või ümardada ujukomaarv enne sõneks konverteerimist _n_ kohta peale koma. Siin tuleb appi meetod `format()`:"
   ]
  },
  {
   "cell_type": "code",
   "execution_count": 61,
   "metadata": {
    "collapsed": false
   },
   "outputs": [
    {
     "name": "stdout",
     "output_type": "stream",
     "text": [
      "\"    a\"\n",
      "\"a    \"\n"
     ]
    }
   ],
   "source": [
    "# Tühikutega joondamine\n",
    "print( '\"{0:>5s}\"'.format('a') )\n",
    "print( '\"{0:<5s}\"'.format('a') )"
   ]
  },
  {
   "cell_type": "code",
   "execution_count": 62,
   "metadata": {
    "collapsed": false
   },
   "outputs": [
    {
     "name": "stdout",
     "output_type": "stream",
     "text": [
      "26.39\n"
     ]
    }
   ],
   "source": [
    "# Ümardamine\n",
    "print( '{:.2f}'.format(26.39499659) )"
   ]
  },
  {
   "cell_type": "markdown",
   "metadata": {},
   "source": [
    "Pythoni vormindamisvõimalustest annab hea ülevaate lehekülg [https://pyformat.info](https://pyformat.info)."
   ]
  },
  {
   "cell_type": "markdown",
   "metadata": {},
   "source": [
    "<hr>\n",
    "\n",
    "## Ülesanded \n",
    "\n",
    "Järgnevad kodutöö ülesanded. Lahendused palume kirjutada siia samma märkmikufaili ning laadida (koos lisafailidega, kui teil neid tekib) Moodle-sse üles. Esimese kodutöö tähtaeg on **17. september 2017, kl 23:55**."
   ]
  },
  {
   "cell_type": "markdown",
   "metadata": {},
   "source": [
    "### Ülesanne 1: käsu *conda env list* väljund (1p)\n"
   ]
  },
  {
   "cell_type": "code",
   "execution_count": null,
   "metadata": {
    "collapsed": false
   },
   "outputs": [],
   "source": []
  },
  {
   "cell_type": "markdown",
   "metadata": {},
   "source": [
    "### Ülesanne 2: Ei midagi isiklikku (1,5p)"
   ]
  },
  {
   "cell_type": "markdown",
   "metadata": {},
   "source": [
    "Looge programm, mis jagab alltoodud sõne  **`tekst1`** tühikute kohalt sõnadeks, muudab jutumärkide `«` ja `»` vahel oleva teksisisu suuretäheliseks (nt sõnest `«Ristiisa»` saab sõne `«RISTIISA»`), muudab kõik jutumärkidest väljapoole jäävad sõnad läbivalt väiketähelisteks, eemaldab sõnade küljes oleva punktuatsiooni ning kirjutab tulemused uude faili -- selliselt, et failis on iga sõna eraldi real."
   ]
  },
  {
   "cell_type": "code",
   "execution_count": 63,
   "metadata": {
    "collapsed": true
   },
   "outputs": [],
   "source": [
    "tekst1 = '''Lause «it’s not personal, it’s just business» («ei midagi isiklikku, see on lihtsalt äri») originaal pärineb \n",
    "20. sajandi alguses tegutsenud USA maffia raamatupidajalt Otto Bermanilt. Tuntumaks sai see Mario Puzo romaanis «Ristiisa».'''"
   ]
  },
  {
   "cell_type": "markdown",
   "metadata": {},
   "source": [
    "**Kuidas:**\n",
    "\n",
    "  1) kas üksik sõna algab või lõpeb jutumärkidega: kontrollimiseks võib kasutada nt meetodeid <a href=\"https://docs.python.org/3.5/library/stdtypes.html#str.startswith\">`startswith()`</a> ja <a href=\"https://docs.python.org/3.5/library/stdtypes.html#str.endswith\">`endswith()`</a>;\n",
    "  \n",
    "  2) jutumärkide sees vs jutumärkidest väljas: tehke tsükkel üle kõigi sõnade; igal sammul kontrollige, kas sõna alguses või lõpus on vastav jutumärk, ning kontrolli tulemused paigutage abimuutujasse; vastavalt abimuutuja väärtusele muutke ka sõne ise kas suuretäheliseks või väiketäheliseks;\n",
    "  \n",
    "  3) sõnede muutmine suuretäheliseks: <a href=\"https://docs.python.org/3.5/library/stdtypes.html#str.upper\">`upper()`</a>, väiketäheliseks <a href=\"https://docs.python.org/3.5/library/stdtypes.html#str.lower\">`lower()`</a>;"
   ]
  },
  {
   "cell_type": "markdown",
   "metadata": {},
   "source": [
    "### Boonusülesanne 1: Alternatiivne lahenduskäik Ülesandele 2 (0,5p)\n",
    "\n",
    "Esitage Ülesandele 2 alternatiivne lahenduskäik, kus jutumärkide `«` ja `»` vahel oleva teksisisu muutmine suuretäheliseks (nt sõnest `«Ristiisa»` sõne `«RISTIISA»` saamine) tehakse regulaaravaldise abil, nt funktsiooni <a href=\"https://docs.python.org/3.5/library/re.html#re.sub\">re.sub()</a> kasutades. Lahendus peab olema üldistav, st ei piisa lahendusest, mis töötab ainult konkreetse sõne **`tekst1`** peal, -- peaks töötama suvalisel sõnel, kus on mingi tekstisisu jutumärkide `«` ja `»` vahel."
   ]
  },
  {
   "cell_type": "markdown",
   "metadata": {},
   "source": [
    "### Ülesanne 3: Tekstianalüüsi funktsioonid (1,5p)"
   ]
  },
  {
   "cell_type": "markdown",
   "metadata": {},
   "source": [
    "Looge nn sõnestamise funktsioon, mis jagab etteantud sõne tühikute kohalt sõnadeks, eemaldab sõnade küljest kirjavahemärgid ja viib kõik sõnad väikesetähelisele kujule. Funktsioon tagastab töö tulemusena sõnade järjendi. Näide:\n",
    "\n",
    "```\n",
    ">> tulemus = sonesta('Endised NASA astronaudid Buzz Aldrin, Edgar Mitchell, jpt on öelnud, et tulnukad on olemas.')\n",
    ">> print(tulemus)\n",
    "['endised', 'nasa', 'astronaudid', 'buzz', 'aldrin', 'edgar', 'mitchell', 'jpt', 'on', 'öelnud', 'et', 'tulnukad', 'on', 'olemas']\n",
    "\n",
    "```\n",
    "\n",
    "Looge funktsioon, mis saab sisendiks sõne (teksti), jagab selle sõnadeks ning leiab ja väljastab sõnade kohta järgmise statistika: \n",
    "1. kõigi sõnade arv (sisaldab ka korduvaid sõnu); \n",
    "2. unikaalsete sõnade arv (korduvaid sõnu loetakse vaid üks kord);\n",
    "3. viis kõige sagedasemat sõna tekstis; \n",
    "4. mitu protsenti (kõigist unikaalsetest) sõnadest esineb tekstis vaid 1 kord;\n",
    "\n",
    "Funktsioon peaks ka ära kasutama eelnevalt defineeritud sõnestamise funktsiooni.\n"
   ]
  },
  {
   "cell_type": "markdown",
   "metadata": {},
   "source": [
    "### Ülesanne 4: Sõnavarapõhine tekstide võrdlus (2p)"
   ]
  },
  {
   "cell_type": "markdown",
   "metadata": {},
   "source": [
    "Võrrelge kasutatud sõnavara kolmes eri tekstis ('postimees.txt', 'nihilist.txt', 'telegram.txt'). Leidke:\n",
    "\n",
    "1. Milline on iga teksti: a) sõnade koguarv, b) unikaalsete sõnade arv, c) sagedaste sõnade TOP 5, d) üks kord esinevate sõnade osakaal?\n",
    "\n",
    "2. Millised sõnad esinevad kõigis kolmes tekstis? Väljastage sellised sõnad tähestikuliselt sorteeritud loendina.\n",
    "\n",
    "3. Millises tekstis on kõige enam erinevaid sõnu? Aga kui võtta arvesse ka teksti pikkust?\n",
    "\n",
    "Kasutage lahenduste leidmisel maksimaalselt ära eelmises ülesandes defineeritud funktsioone. \n",
    "\n",
    "**Vihjeid:**\n",
    "\n",
    "  1. lugege sisse failid \"postimees.txt\", \"nihilist.txt\" ja \"telegram.txt\"; NB! Failid on kodeeringus utf-8, \n",
    "     seega sisselugemisel täpsustage, et encoding=\"utf-8\";\n",
    "  2. rakendage eelmise ülesande funktsiooni asjakohase statistika leidmiseks ja väljastamiseks;\n",
    "  3. kasutades eelmise ülesande funktsiooni: tükeldage failid sõnadeks, eemaldage sõnade küljest kirjavahemärgid, viige\n",
    "     väiketähelisele kujule;\n",
    "  4. leidke kõige tekstide sõnade ühisosa; kasutage selleks hulk-andmestruktuure;\n",
    "  5. viimasele küsimusele vastamiseks leidke tekstide pikkused ja unikaalsete sõnade arvud tekstides\n",
    "    "
   ]
  },
  {
   "cell_type": "markdown",
   "metadata": {},
   "source": [
    "### Boonusülesanne 2: Märkmiku export HTML-ina (0,23p)\n",
    "\n",
    "**Exportige märkmik HTML-formaadis, lahenduses esitage nii märkmik kui ka selle .html versioon.**"
   ]
  }
 ],
 "metadata": {
  "anaconda-cloud": {},
  "kernelspec": {
   "display_name": "Python [default]",
   "language": "python",
   "name": "python3"
  },
  "language_info": {
   "codemirror_mode": {
    "name": "ipython",
    "version": 3
   },
   "file_extension": ".py",
   "mimetype": "text/x-python",
   "name": "python",
   "nbconvert_exporter": "python",
   "pygments_lexer": "ipython3",
   "version": "3.5.2"
  }
 },
 "nbformat": 4,
 "nbformat_minor": 1
}
